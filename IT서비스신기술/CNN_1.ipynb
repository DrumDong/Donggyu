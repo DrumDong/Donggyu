{
 "cells": [
  {
   "cell_type": "code",
   "execution_count": 87,
   "metadata": {
    "scrolled": true
   },
   "outputs": [
    {
     "data": {
      "image/png": "[encoded data removed]",
      "text/plain": [
       "<matplotlib.figure.Figure at 0x1fcc976ad68>"
      ]
     },
     "metadata": {},
     "output_type": "display_data"
    },
    {
     "name": "stdout",
     "output_type": "stream",
     "text": [
      "7\n"
     ]
    }
   ],
   "source": [
    "# MNIST\n",
    "from keras.datasets import mnist\n",
    "import matplotlib.pyplot as plt\n",
    "\n",
    "(X_train, Y_train), (X_test, Y_test) = mnist.load_data()\n",
    "\n",
    "plt.imshow(X_test[0].reshape(28,28))\n",
    "plt.show()\n",
    "print(Y_test[0])"
   ]
  },
  {
   "cell_type": "code",
   "execution_count": 100,
   "metadata": {},
   "outputs": [
    {
     "data": {
      "image/png": "[encoded data removed]",
      "text/plain": [
       "<matplotlib.figure.Figure at 0x1fcc9db5ba8>"
      ]
     },
     "metadata": {},
     "output_type": "display_data"
    },
    {
     "name": "stdout",
     "output_type": "stream",
     "text": [
      "5 0 4 1 9 2 1 3 "
     ]
    }
   ],
   "source": [
    "for i in range(0,8):\n",
    "    plt.subplot(1,8,i+1)\n",
    "    plt.imshow(X_train[i])\n",
    "plt.show()\n",
    "for i in range(0,8):\n",
    "    print(Y_train[i], end=' ')"
   ]
  },
  {
   "cell_type": "code",
   "execution_count": 42,
   "metadata": {},
   "outputs": [
    {
     "name": "stdout",
     "output_type": "stream",
     "text": [
      "Epoch 1/5\n",
      "60000/60000 [==============================] - 4s 68us/step - loss: 0.2963 - acc: 0.9159\n",
      "Epoch 2/5\n",
      "60000/60000 [==============================] - 4s 61us/step - loss: 0.1434 - acc: 0.9579\n",
      "Epoch 3/5\n",
      "60000/60000 [==============================] - 4s 59us/step - loss: 0.1046 - acc: 0.9684\n",
      "Epoch 4/5\n",
      "60000/60000 [==============================] - 4s 63us/step - loss: 0.0824 - acc: 0.9752\n",
      "Epoch 5/5\n",
      "60000/60000 [==============================] - 4s 72us/step - loss: 0.0675 - acc: 0.9795\n",
      "10000/10000 [==============================] - 0s 35us/step\n",
      "acc: 97.38%\n"
     ]
    },
    {
     "data": {
      "image/png": "[encoded data removed]",
      "text/plain": [
       "<matplotlib.figure.Figure at 0x1fcbd551198>"
      ]
     },
     "metadata": {},
     "output_type": "display_data"
    }
   ],
   "source": [
    "#DNN - MNIST\n",
    "\n",
    "#0.사용할 패키지 불러오기\n",
    "import numpy as np\n",
    "import matplotlib.pyplot as plt\n",
    "from keras.utils.np_utils import to_categorical\n",
    "from keras.datasets import mnist\n",
    "from keras.models import Sequential\n",
    "from keras.layers import Dense\n",
    "\n",
    "#랜덤시드 고정시키기\n",
    "np.random.seed(5)\n",
    "\n",
    "#1.데이터 준비하기 & 2.데이터셋 분할\n",
    "(X_train, Y_train), (X_test, Y_test) = mnist.load_data()\n",
    "X_train = X_train.reshape(60000, 28*28*1).astype('float32') / 255.0\n",
    "X_test = X_test.reshape(10000, 28*28*1).astype('float32') / 255.0\n",
    "\n",
    "#2.1. One-hot encoding\n",
    "Y_train = to_categorical(Y_train)\n",
    "Y_test = to_categorical(Y_test)\n",
    "\n",
    "#3.모델 구성하기 \n",
    "model = Sequential()\n",
    "model.add(Dense(64, input_dim=28*28*1, activation='relu'))\n",
    "model.add(Dense(10, activation='softmax'))\n",
    "\n",
    "#4.모델 학습과정 설정하기\n",
    "model.compile(loss='categorical_crossentropy', optimizer='adam', metrics=['acc'])\n",
    "\n",
    "#5.모델 학습시키기\n",
    "hist = model.fit(X_train, Y_train, epochs=5, batch_size=32)\n",
    "\n",
    "#6.모델 평가하기    \n",
    "scores = model.evaluate(X_test, Y_test)\n",
    "print(\"%s: %.2f%%\" %(model.metrics_names[1], scores[1]*100))\n",
    "\n",
    "#6.1. Epoch, loss and acc 그래프\n",
    "loss = hist.history['loss']\n",
    "acc = hist.history['acc']\n",
    "epochs = range(1, len(loss)+1)\n",
    "plt.plot(epochs, loss, 'b', label='Training loss')\n",
    "plt.plot(epochs, acc, 'y', label='Training accuracy')\n",
    "plt.title('Training loss and accuracy')\n",
    "plt.xlabel('Epochs')\n",
    "plt.ylabel('Loss')\n",
    "plt.legend()\n",
    "plt.show()"
   ]
  },
  {
   "cell_type": "code",
   "execution_count": 79,
   "metadata": {
    "scrolled": true
   },
   "outputs": [
    {
     "name": "stdout",
     "output_type": "stream",
     "text": [
      "Train on 50000 samples, validate on 10000 samples\n",
      "Epoch 1/1\n",
      "50000/50000 [==============================] - 39s 785us/step - loss: 0.1882 - acc: 0.9414 - val_loss: 0.0670 - val_acc: 0.9804\n",
      "10000/10000 [==============================] - 2s 226us/step\n",
      "acc: 97.94%\n"
     ]
    },
    {
     "data": {
      "image/png": "[encoded data removed]",
      "text/plain": [
       "<matplotlib.figure.Figure at 0x1fcc7280cf8>"
      ]
     },
     "metadata": {},
     "output_type": "display_data"
    }
   ],
   "source": [
    "#CNN\n",
    "\n",
    "#0.사용할 패키지 불러오기\n",
    "import numpy as np\n",
    "import pandas as pd\n",
    "import matplotlib.pyplot as plt\n",
    "from keras.utils.np_utils import to_categorical\n",
    "from keras.datasets import mnist\n",
    "from keras.models import Sequential\n",
    "from keras.layers import Dense, Flatten, Conv2D, MaxPooling2D\n",
    "from keras.callbacks import EarlyStopping\n",
    "from keras.callbacks import ModelCheckpoint\n",
    "\n",
    "#랜덤시드 고정시키기\n",
    "np.random.seed(5)\n",
    "\n",
    "#1.데이터 준비하기 & 2.데이터셋 분할\n",
    "(X_train, Y_train), (X_test, Y_test) = mnist.load_data()\n",
    "X_train = X_train.reshape(60000, 28, 28, 1).astype('float32') / 255.0\n",
    "X_test = X_test.reshape(10000, 28, 28, 1).astype('float32') / 255.0\n",
    "Y_test_var = Y_test\n",
    "\n",
    "# Validation set\n",
    "X_val = X_train[50000:60000]\n",
    "X_train = X_train[:50000]\n",
    "Y_val = Y_train[50000:60000]\n",
    "Y_train = Y_train[:50000]\n",
    "\n",
    "#2.1. One-hot encoding\n",
    "Y_train = to_categorical(Y_train)\n",
    "Y_val = to_categorical(Y_val)\n",
    "Y_test = to_categorical(Y_test)\n",
    "\n",
    "#3.모델 구성하기\n",
    "input_shape = (28,28,1)\n",
    "num_classes = 10\n",
    "\n",
    "model = Sequential()\n",
    "#Conv2D(filters(Depth), (kernel_height, kernel_width), padding='valid'(default) or 'same'(zero padding),\n",
    "#       activation= none(default), use_bias = True(default), strides=(1, 1)(default))\n",
    "model.add(Conv2D(32, (3,3), activation='relu', input_shape=input_shape))\n",
    "model.add(MaxPooling2D((2,2)))\n",
    "model.add(Conv2D(32, (3,3), activation = 'relu'))\n",
    "model.add(MaxPooling2D((2,2)))\n",
    "model.add(Conv2D(32, (3,3), activation = 'relu'))\n",
    "\n",
    "model.add(Flatten())\n",
    "model.add(Dense(128, activation='relu'))        \n",
    "model.add(Dense(num_classes, activation='softmax'))\n",
    "#model.summary()\n",
    "\n",
    "#4.모델 학습과정 설정하기\n",
    "model.compile(loss='categorical_crossentropy', optimizer='adam', metrics=['acc'])\n",
    "\n",
    "#5.모델 학습시키기\n",
    "#5.1. Early Stopping\n",
    "callbacks_list = [\n",
    "    EarlyStopping(\n",
    "    monitor='val_acc',\n",
    "    patience=10,\n",
    "    ),\n",
    "     ModelCheckpoint(\n",
    "     filepath='multi_model.h5',\n",
    "     monitor='val_loss',\n",
    "     save_best_only=True,\n",
    "     )\n",
    "]\n",
    "\n",
    "hist = model.fit(X_train, Y_train, epochs=1, batch_size=32, callbacks=callbacks_list,\n",
    "                 validation_data=(X_val, Y_val))\n",
    "\n",
    "#6.모델 평가하기    \n",
    "scores = model.evaluate(X_test, Y_test)\n",
    "print(\"%s: %.2f%%\" %(model.metrics_names[1], scores[1]*100))\n",
    "\n",
    "#6.1. Epoch, loss and acc 그래프\n",
    "loss = hist.history['loss']\n",
    "val_loss = hist.history['val_loss']\n",
    "acc = hist.history['acc']\n",
    "val_acc = hist.history['val_acc']\n",
    "\n",
    "epochs = range(1, len(loss)+1)\n",
    "plt.plot(epochs, loss, 'b', label='Training loss')\n",
    "plt.plot(epochs, val_loss, 'g', label='Validation loss')\n",
    "plt.plot(epochs, acc, 'y', label='Training accuracy')\n",
    "plt.plot(epochs, val_acc, 'r', label='Validation accuracy')\n",
    "\n",
    "plt.title('Training and validation loss and accuracy')\n",
    "plt.xlabel('Epochs')\n",
    "plt.ylabel('Loss')\n",
    "plt.legend()\n",
    "plt.show()\n",
    "\n",
    "#7.예측하기\n",
    "Y_predict = model.predict(X_test)\n",
    "# Y_predict\n",
    "\n",
    "#7.1. argmax\n",
    "result = []\n",
    "for i in range(len(Y_predict)):\n",
    "    label = np.argmax(Y_predict[i])\n",
    "    result.append(label)\n",
    "\n",
    "df = pd.DataFrame(result)\n",
    "df.insert(0,'Y_test',Y_test_var)\n",
    "df = df.rename(columns = {0: 'Y_predict'})\n",
    "df.to_csv(\"predict_CNN.csv\", index=False)   "
   ]
  }
 ],
 "metadata": {
  "kernelspec": {
   "display_name": "Python 3",
   "language": "python",
   "name": "python3"
  },
  "language_info": {
   "codemirror_mode": {
    "name": "ipython",
    "version": 3
   },
   "file_extension": ".py",
   "mimetype": "text/x-python",
   "name": "python",
   "nbconvert_exporter": "python",
   "pygments_lexer": "ipython3",
   "version": "3.7.3"
  }
 },
 "nbformat": 4,
 "nbformat_minor": 2
}
