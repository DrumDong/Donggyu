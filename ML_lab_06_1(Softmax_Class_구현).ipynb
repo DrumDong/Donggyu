{
  "nbformat": 4,
  "nbformat_minor": 0,
  "metadata": {
    "colab": {
      "name": "ML lab 06-1(Softmax Class 구현).ipynb",
      "provenance": [],
      "include_colab_link": true
    },
    "kernelspec": {
      "name": "python3",
      "display_name": "Python 3"
    }
  },
  "cells": [
    {
      "cell_type": "markdown",
      "metadata": {
        "id": "view-in-github",
        "colab_type": "text"
      },
      "source": [
        "<a href=\"https://colab.research.google.com/github/DrumDong/Donggyu/blob/master/ML_lab_06_1(Softmax_Class_%EA%B5%AC%ED%98%84).ipynb\" target=\"_parent\"><img src=\"https://colab.research.google.com/assets/colab-badge.svg\" alt=\"Open In Colab\"/></a>"
      ]
    },
    {
      "cell_type": "code",
      "metadata": {
        "id": "7a0HgNE2smKW",
        "colab_type": "code",
        "colab": {}
      },
      "source": [
        "import tensorflow as tf"
      ],
      "execution_count": 0,
      "outputs": []
    },
    {
      "cell_type": "code",
      "metadata": {
        "id": "muWSyC-QrtxJ",
        "colab_type": "code",
        "colab": {}
      },
      "source": [
        "x_data = [[1,2,1,1],[2,1,3,2],[3,1,3,4],\n",
        "          [4,1,5,5],[1,7,5,5],[1,2,5,6],\n",
        "          [1,6,6,6],[1,7,7,7]]\n",
        "y_data = [[0,0,1],[0,0,1],[0,0,1],[0,1,0],[0,1,0],[0,1,0],[1,0,0],[1,0,0]]  # One-Hot Encoding"
      ],
      "execution_count": 0,
      "outputs": []
    },
    {
      "cell_type": "code",
      "metadata": {
        "id": "yEVRcNyisk8l",
        "colab_type": "code",
        "colab": {}
      },
      "source": [
        "X = tf.placeholder('float',[None,4])\n",
        "Y = tf.placeholder('float',[None,3])\n",
        "\n",
        "nb_classes =3\n",
        "\n",
        "W = tf.Variable(tf.random_normal([4,nb_classes]),name='weight')\n",
        "b = tf.Variable(tf.random_normal([nb_classes]),name='bias')"
      ],
      "execution_count": 0,
      "outputs": []
    },
    {
      "cell_type": "markdown",
      "metadata": {
        "id": "-PIqvQxBKZ6v",
        "colab_type": "text"
      },
      "source": [
        "# tf.nn softmax computes softmax activations\n",
        "- softmax = exp(Logits) / reduce_sum(exp(Logits),dim)"
      ]
    },
    {
      "cell_type": "code",
      "metadata": {
        "id": "mmGKW2uIKsxT",
        "colab_type": "code",
        "colab": {}
      },
      "source": [
        "hypothesis = tf.nn.softmax(tf.matmul(X,W)+b)"
      ],
      "execution_count": 0,
      "outputs": []
    },
    {
      "cell_type": "markdown",
      "metadata": {
        "id": "TfYYua1JK0dw",
        "colab_type": "text"
      },
      "source": [
        "# Cross entropy cost/loss"
      ]
    },
    {
      "cell_type": "code",
      "metadata": {
        "id": "YKlz9m5zK3H6",
        "colab_type": "code",
        "colab": {}
      },
      "source": [
        "cost = tf.reduce_mean(-tf.reduce_sum(Y*tf.log(hypothesis), axis =1))\n",
        "optimizer = tf.train.GradientDescentOptimizer(learning_rate=0.1).minimize(cost)"
      ],
      "execution_count": 0,
      "outputs": []
    },
    {
      "cell_type": "markdown",
      "metadata": {
        "id": "vU4AVM3oMM_9",
        "colab_type": "text"
      },
      "source": [
        "# Launch Graph"
      ]
    },
    {
      "cell_type": "code",
      "metadata": {
        "id": "vn-OCrtDMPBp",
        "colab_type": "code",
        "outputId": "4a9a785e-fb53-43ad-a59f-1c40f6df7694",
        "colab": {
          "base_uri": "https://localhost:8080/",
          "height": 209
        }
      },
      "source": [
        "with tf.Session() as sess:\n",
        "  sess.run(tf.global_variables_initializer())\n",
        "  \n",
        "  for step in range(2001):\n",
        "    sess.run(optimizer,feed_dict={X:x_data,Y:y_data})\n",
        "    if step % 200 ==0:\n",
        "      print(step,sess.run(cost,feed_dict={X:x_data,Y:y_data}))"
      ],
      "execution_count": 0,
      "outputs": [
        {
          "output_type": "stream",
          "text": [
            "0 3.2737303\n",
            "200 0.54859036\n",
            "400 0.44774607\n",
            "600 0.35428533\n",
            "800 0.26578674\n",
            "1000 0.22835255\n",
            "1200 0.20762902\n",
            "1400 0.19025588\n",
            "1600 0.17547911\n",
            "1800 0.16276139\n",
            "2000 0.15170532\n"
          ],
          "name": "stdout"
        }
      ]
    },
    {
      "cell_type": "markdown",
      "metadata": {
        "id": "OBerYat2QGHT",
        "colab_type": "text"
      },
      "source": [
        "## Test& One-hot encoding"
      ]
    },
    {
      "cell_type": "code",
      "metadata": {
        "id": "U7iewvu2QAEz",
        "colab_type": "code",
        "outputId": "9c8cb476-1630-432f-f59c-e2aab162899d",
        "colab": {
          "base_uri": "https://localhost:8080/",
          "height": 34
        }
      },
      "source": [
        "with tf.Session() as sess:\n",
        "  sess.run(tf.global_variables_initializer())\n",
        "\n",
        "# Testing & One-hot encoding\n",
        "  a = sess.run(hypothesis, feed_dict={X: [[1, 11, 7, 9]]})\n",
        "  print(a, sess.run(tf.argmax(a, 1)))"
      ],
      "execution_count": 0,
      "outputs": [
        {
          "output_type": "stream",
          "text": [
            "[[6.7958605e-10 1.1102676e-07 9.9999988e-01]] [2]\n"
          ],
          "name": "stdout"
        }
      ]
    },
    {
      "cell_type": "code",
      "metadata": {
        "id": "oq8y7UpQQV0z",
        "colab_type": "code",
        "outputId": "797c0c99-206f-4d68-e32c-0befab7c7f8d",
        "colab": {
          "base_uri": "https://localhost:8080/",
          "height": 69
        }
      },
      "source": [
        "with tf.Session() as sess:\n",
        "  sess.run(tf.global_variables_initializer())\n",
        "  \n",
        "  All = sess.run(hypothesis,feed_dict={X:[[1,11,7,9],\n",
        "                                         [1,2,3,4],\n",
        "                                         [1,1,0,1]]})\n",
        "  print(All,sess.run(tf.arg_max(All,1)))"
      ],
      "execution_count": 0,
      "outputs": [
        {
          "output_type": "stream",
          "text": [
            "[[5.6509176e-15 9.9997199e-01 2.8070634e-05]\n",
            " [6.0478847e-06 8.1023979e-01 1.8975408e-01]\n",
            " [7.4846707e-03 2.8382918e-01 7.0868611e-01]] [1 1 2]\n"
          ],
          "name": "stdout"
        }
      ]
    }
  ]
}