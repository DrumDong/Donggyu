{
  "nbformat": 4,
  "nbformat_minor": 0,
  "metadata": {
    "colab": {
      "name": "ML_lab_08.ipynb",
      "provenance": [],
      "include_colab_link": true
    },
    "kernelspec": {
      "name": "python3",
      "display_name": "Python 3"
    }
  },
  "cells": [
    {
      "cell_type": "markdown",
      "metadata": {
        "id": "view-in-github",
        "colab_type": "text"
      },
      "source": [
        "<a href=\"https://colab.research.google.com/github/DrumDong/Donggyu/blob/master/ML_lab_08.ipynb\" target=\"_parent\"><img src=\"https://colab.research.google.com/assets/colab-badge.svg\" alt=\"Open In Colab\"/></a>"
      ]
    },
    {
      "cell_type": "code",
      "metadata": {
        "id": "6GOxv7seGIZC",
        "colab_type": "code",
        "colab": {
          "base_uri": "https://localhost:8080/",
          "height": 82
        },
        "outputId": "de651b4f-d133-47d8-e7c3-1f6cd9c6cd4b"
      },
      "source": [
        "import numpy as np\n",
        "import tensorflow as tf"
      ],
      "execution_count": 12,
      "outputs": [
        {
          "output_type": "display_data",
          "data": {
            "text/html": [
              "<p style=\"color: red;\">\n",
              "The default version of TensorFlow in Colab will soon switch to TensorFlow 2.x.<br>\n",
              "We recommend you <a href=\"https://www.tensorflow.org/guide/migrate\" target=\"_blank\">upgrade</a> now \n",
              "or ensure your notebook will continue to use TensorFlow 1.x via the <code>%tensorflow_version 1.x</code> magic:\n",
              "<a href=\"https://colab.research.google.com/notebooks/tensorflow_version.ipynb\" target=\"_blank\">more info</a>.</p>\n"
            ],
            "text/plain": [
              "<IPython.core.display.HTML object>"
            ]
          },
          "metadata": {
            "tags": []
          }
        }
      ]
    },
    {
      "cell_type": "markdown",
      "metadata": {
        "id": "j3KOPbXeJEyW",
        "colab_type": "text"
      },
      "source": [
        "# 1D array"
      ]
    },
    {
      "cell_type": "code",
      "metadata": {
        "id": "JQC7oQIMF4nv",
        "colab_type": "code",
        "colab": {}
      },
      "source": [
        "# 1차원 array 만들기\n",
        "t = np.array([0.,1.,2.,3.,4.,5.,6.]) "
      ],
      "execution_count": 0,
      "outputs": []
    },
    {
      "cell_type": "code",
      "metadata": {
        "id": "rwodcy8eGC3U",
        "colab_type": "code",
        "colab": {
          "base_uri": "https://localhost:8080/",
          "height": 108
        },
        "outputId": "ae79c32a-372f-4067-db14-b2992da5b712"
      },
      "source": [
        "print('t.ndim:',t.ndim)\n",
        "print('t.shape:',t.shape)\n",
        "print('t[0],t[1],t[-1]:',t[0],t[1],t[-1])\n",
        "print('t[2:5],t[4:-1]:',t[2:5],t[4:-1])\n",
        "print('t[:2],t[3:]:',t[:2],t[3:])"
      ],
      "execution_count": 8,
      "outputs": [
        {
          "output_type": "stream",
          "text": [
            "t.ndim: 1\n",
            "t.shape: (7,)\n",
            "t[0],t[1],t[-1]: 0.0 1.0 6.0\n",
            "t[2:5],t[4:-1]: [2. 3. 4.] [4. 5.]\n",
            "t[:2],t[3:]: [0. 1.] [3. 4. 5. 6.]\n"
          ],
          "name": "stdout"
        }
      ]
    },
    {
      "cell_type": "markdown",
      "metadata": {
        "id": "H4yRH06oIxcx",
        "colab_type": "text"
      },
      "source": [
        "# 2D array"
      ]
    },
    {
      "cell_type": "code",
      "metadata": {
        "id": "LdTZ5DOOI7WM",
        "colab_type": "code",
        "colab": {
          "base_uri": "https://localhost:8080/",
          "height": 54
        },
        "outputId": "bb7aaeda-9eaf-4820-ae16-3aef352fb8df"
      },
      "source": [
        "t = np.array([[1., 2., 3.], [4., 5., 6.], [7., 8., 9.], [10., 11., 12.]])\n",
        "print(t.ndim) # rank\n",
        "print(t.shape) # shape"
      ],
      "execution_count": 10,
      "outputs": [
        {
          "output_type": "stream",
          "text": [
            "2\n",
            "(4, 3)\n"
          ],
          "name": "stdout"
        }
      ]
    },
    {
      "cell_type": "markdown",
      "metadata": {
        "id": "A245fM1eI_HK",
        "colab_type": "text"
      },
      "source": [
        "# Shape , Rank, Axis"
      ]
    },
    {
      "cell_type": "code",
      "metadata": {
        "id": "iou_QvnjJA4V",
        "colab_type": "code",
        "colab": {
          "base_uri": "https://localhost:8080/",
          "height": 35
        },
        "outputId": "fd829052-cff5-4a96-dfbd-419b9f9307cb"
      },
      "source": [
        "t = tf.constant([1,2,3,4])\n",
        "tf.shape(t)"
      ],
      "execution_count": 14,
      "outputs": [
        {
          "output_type": "execute_result",
          "data": {
            "text/plain": [
              "<tf.Tensor 'Shape_1:0' shape=(1,) dtype=int32>"
            ]
          },
          "metadata": {
            "tags": []
          },
          "execution_count": 14
        }
      ]
    },
    {
      "cell_type": "code",
      "metadata": {
        "id": "WN76h0vWJTiZ",
        "colab_type": "code",
        "colab": {
          "base_uri": "https://localhost:8080/",
          "height": 35
        },
        "outputId": "56dc5557-69de-4bb0-82e7-d187b513859a"
      },
      "source": [
        "t = tf.constant([[1,2],\n",
        "                 [3,4]])\n",
        "tf.shape(t)"
      ],
      "execution_count": 19,
      "outputs": [
        {
          "output_type": "execute_result",
          "data": {
            "text/plain": [
              "<tf.Tensor 'Shape_4:0' shape=(2,) dtype=int32>"
            ]
          },
          "metadata": {
            "tags": []
          },
          "execution_count": 19
        }
      ]
    },
    {
      "cell_type": "code",
      "metadata": {
        "id": "uGjS1T51J2lj",
        "colab_type": "code",
        "colab": {
          "base_uri": "https://localhost:8080/",
          "height": 35
        },
        "outputId": "87f9b75f-5cb1-4e04-de72-014acb51e47b"
      },
      "source": [
        "t = tf.constant([[[[1, 2, 3, 4], [5, 6, 7, 8], [9, 10, 11, 12]],\n",
        "                  [[13, 14, 15, 16], [17, 18, 19, 20], [21, 22, 23, 24]]]])\n",
        "\n",
        "tf.shape(t)"
      ],
      "execution_count": 21,
      "outputs": [
        {
          "output_type": "execute_result",
          "data": {
            "text/plain": [
              "<tf.Tensor 'Shape_5:0' shape=(4,) dtype=int32>"
            ]
          },
          "metadata": {
            "tags": []
          },
          "execution_count": 21
        }
      ]
    },
    {
      "cell_type": "markdown",
      "metadata": {
        "id": "U6rOohVAKDPQ",
        "colab_type": "text"
      },
      "source": [
        "Axis는 밖에서 부터 0 안으로 들어 갈수록 점점 커짐."
      ]
    },
    {
      "cell_type": "markdown",
      "metadata": {
        "id": "AQqckJtLKWLI",
        "colab_type": "text"
      },
      "source": [
        "# Matmul Vs multiply"
      ]
    },
    {
      "cell_type": "code",
      "metadata": {
        "id": "Sttc-wWzKq5h",
        "colab_type": "code",
        "colab": {
          "base_uri": "https://localhost:8080/",
          "height": 35
        },
        "outputId": "508d709c-7d1c-4cdd-fb96-7e8c763a5e44"
      },
      "source": [
        "matrix1 = tf.constant([[1.,2.],[3., 4.]]) # (2)\n",
        "matrix2 = tf.constant([[1.],[2.]])\n",
        "tf.matmul(matrix1, matrix2)"
      ],
      "execution_count": 24,
      "outputs": [
        {
          "output_type": "execute_result",
          "data": {
            "text/plain": [
              "<tf.Tensor 'MatMul_2:0' shape=(2, 1) dtype=float32>"
            ]
          },
          "metadata": {
            "tags": []
          },
          "execution_count": 24
        }
      ]
    },
    {
      "cell_type": "code",
      "metadata": {
        "id": "Qikefei5LGIx",
        "colab_type": "code",
        "colab": {
          "base_uri": "https://localhost:8080/",
          "height": 35
        },
        "outputId": "207aaa23-ec64-4d60-f713-d770e1a992c2"
      },
      "source": [
        "matrix1*matrix2 # broadcasting"
      ],
      "execution_count": 25,
      "outputs": [
        {
          "output_type": "execute_result",
          "data": {
            "text/plain": [
              "<tf.Tensor 'mul:0' shape=(2, 2) dtype=float32>"
            ]
          },
          "metadata": {
            "tags": []
          },
          "execution_count": 25
        }
      ]
    },
    {
      "cell_type": "markdown",
      "metadata": {
        "id": "b8k6FSILLNQ5",
        "colab_type": "text"
      },
      "source": [
        "- broadcasting 원소끼리 맞쳐줌. rank가 달라도 extend를 해서 계산이 가능하게 해줌. -> 상당히 유용할 수도 있고 상당히 위험할 수도 있음."
      ]
    },
    {
      "cell_type": "markdown",
      "metadata": {
        "id": "M6_MceRsLP5r",
        "colab_type": "text"
      },
      "source": [
        "# Reduce mean"
      ]
    },
    {
      "cell_type": "code",
      "metadata": {
        "id": "IEo0VF-ELuoA",
        "colab_type": "code",
        "colab": {
          "base_uri": "https://localhost:8080/",
          "height": 35
        },
        "outputId": "d4009fea-eaa3-4aae-900a-7d8e50932427"
      },
      "source": [
        "tf.reduce_mean([1,2],axis=0)"
      ],
      "execution_count": 28,
      "outputs": [
        {
          "output_type": "execute_result",
          "data": {
            "text/plain": [
              "<tf.Tensor 'Mean_2:0' shape=() dtype=int32>"
            ]
          },
          "metadata": {
            "tags": []
          },
          "execution_count": 28
        }
      ]
    },
    {
      "cell_type": "code",
      "metadata": {
        "id": "0eHW5D9zL2KP",
        "colab_type": "code",
        "colab": {
          "base_uri": "https://localhost:8080/",
          "height": 35
        },
        "outputId": "19765b74-496e-4892-a52e-091f90d629ff"
      },
      "source": [
        "x =[[1.,2.],\n",
        "    [3.,4.]]\n",
        "\n",
        "tf.reduce_mean(x)"
      ],
      "execution_count": 29,
      "outputs": [
        {
          "output_type": "execute_result",
          "data": {
            "text/plain": [
              "<tf.Tensor 'Mean_3:0' shape=() dtype=float32>"
            ]
          },
          "metadata": {
            "tags": []
          },
          "execution_count": 29
        }
      ]
    },
    {
      "cell_type": "code",
      "metadata": {
        "id": "mcLhG0G3MInh",
        "colab_type": "code",
        "colab": {
          "base_uri": "https://localhost:8080/",
          "height": 35
        },
        "outputId": "685dcaea-a149-4916-db95-39d09d8dff1d"
      },
      "source": [
        "tf.reduce_mean(x,axis=0)"
      ],
      "execution_count": 30,
      "outputs": [
        {
          "output_type": "execute_result",
          "data": {
            "text/plain": [
              "<tf.Tensor 'Mean_4:0' shape=(2,) dtype=float32>"
            ]
          },
          "metadata": {
            "tags": []
          },
          "execution_count": 30
        }
      ]
    },
    {
      "cell_type": "code",
      "metadata": {
        "id": "YzaN7ng9MP2x",
        "colab_type": "code",
        "colab": {
          "base_uri": "https://localhost:8080/",
          "height": 35
        },
        "outputId": "495d4cf5-aa25-43c2-b5da-1587e0ed7f10"
      },
      "source": [
        "tf.reduce_mean(x,axis=1)"
      ],
      "execution_count": 31,
      "outputs": [
        {
          "output_type": "execute_result",
          "data": {
            "text/plain": [
              "<tf.Tensor 'Mean_5:0' shape=(2,) dtype=float32>"
            ]
          },
          "metadata": {
            "tags": []
          },
          "execution_count": 31
        }
      ]
    },
    {
      "cell_type": "markdown",
      "metadata": {
        "id": "XTP3fIf8NUYW",
        "colab_type": "text"
      },
      "source": [
        "axis 0은 컬럼개념 1을 행개념으로 생각하면 될 듯"
      ]
    }
  ]
}