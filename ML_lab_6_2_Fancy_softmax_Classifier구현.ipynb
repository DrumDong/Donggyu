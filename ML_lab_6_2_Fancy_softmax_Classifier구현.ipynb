{
  "nbformat": 4,
  "nbformat_minor": 0,
  "metadata": {
    "colab": {
      "name": "ML lab 6-2 : Fancy softmax Classifier구현.ipynb",
      "provenance": [],
      "include_colab_link": true
    },
    "kernelspec": {
      "name": "python3",
      "display_name": "Python 3"
    }
  },
  "cells": [
    {
      "cell_type": "markdown",
      "metadata": {
        "id": "view-in-github",
        "colab_type": "text"
      },
      "source": [
        "<a href=\"https://colab.research.google.com/github/DrumDong/Donggyu/blob/master/ML_lab_6_2_Fancy_softmax_Classifier%EA%B5%AC%ED%98%84.ipynb\" target=\"_parent\"><img src=\"https://colab.research.google.com/assets/colab-badge.svg\" alt=\"Open In Colab\"/></a>"
      ]
    },
    {
      "cell_type": "markdown",
      "metadata": {
        "id": "y5F0obQAyYpC",
        "colab_type": "text"
      },
      "source": [
        "# softmax_cross_entropy_with_logits\n",
        "- logits = tf.matmul(X,W)+b\n",
        "- hypothesis  = tf.nn.softmax(logits)\n",
        "\n",
        "1.\n",
        "- cost =tf.reduce_mean(-tf.reduce_sum(Y*tf.log(hypothesis),axis =1))\n",
        "\n",
        "2.\n",
        "- cost_i = tf.nn.softmax_cross_entropy_with_logits(logits=logits, labels =Y_one_hot)\n",
        "- cost =tf.reduce_mean(cost_i)"
      ]
    },
    {
      "cell_type": "code",
      "metadata": {
        "id": "gLjKzLZN8jqT",
        "colab_type": "code",
        "colab": {
          "base_uri": "https://localhost:8080/",
          "height": 65
        },
        "outputId": "e2fb62ed-f6fd-4c9a-f643-16a090c265da"
      },
      "source": [
        "import tensorflow as tf"
      ],
      "execution_count": 4,
      "outputs": [
        {
          "output_type": "display_data",
          "data": {
            "text/html": [
              "<p style=\"color: red;\">\n",
              "The default version of TensorFlow in Colab will soon switch to TensorFlow 2.x.<br>\n",
              "We recommend you <a href=\"https://www.tensorflow.org/guide/migrate\" target=\"_blank\">upgrade</a> now \n",
              "or ensure your notebook will continue to use TensorFlow 1.x via the <code>%tensorflow_version 1.x</code> magic:\n",
              "<a href=\"https://colab.research.google.com/notebooks/tensorflow_version.ipynb\" target=\"_blank\">more info</a>.</p>\n"
            ],
            "text/plain": [
              "<IPython.core.display.HTML object>"
            ]
          },
          "metadata": {
            "tags": []
          }
        }
      ]
    },
    {
      "cell_type": "markdown",
      "metadata": {
        "id": "F390Ym2r0EaG",
        "colab_type": "text"
      },
      "source": [
        "# Animal classification\n",
        "- with softmax_cross_entropy_with_logits"
      ]
    },
    {
      "cell_type": "code",
      "metadata": {
        "id": "rfkS4_k-13LY",
        "colab_type": "code",
        "outputId": "4538c48a-508d-4b23-aab9-f84be67e57c2",
        "colab": {
          "base_uri": "https://localhost:8080/",
          "height": 129
        }
      },
      "source": [
        "from google.colab import drive\n",
        "drive.mount('/content/gdrive')"
      ],
      "execution_count": 2,
      "outputs": [
        {
          "output_type": "stream",
          "text": [
            "Go to this URL in a browser: https://accounts.google.com/o/oauth2/auth?client_id=947318989803-6bn6qk8qdgf4n4g3pfee6491hc0brc4i.apps.googleusercontent.com&redirect_uri=urn%3Aietf%3Awg%3Aoauth%3A2.0%3Aoob&scope=email%20https%3A%2F%2Fwww.googleapis.com%2Fauth%2Fdocs.test%20https%3A%2F%2Fwww.googleapis.com%2Fauth%2Fdrive%20https%3A%2F%2Fwww.googleapis.com%2Fauth%2Fdrive.photos.readonly%20https%3A%2F%2Fwww.googleapis.com%2Fauth%2Fpeopleapi.readonly&response_type=code\n",
            "\n",
            "Enter your authorization code:\n",
            "··········\n",
            "Mounted at /content/gdrive\n"
          ],
          "name": "stdout"
        }
      ]
    },
    {
      "cell_type": "code",
      "metadata": {
        "id": "MBulri_b2OTs",
        "colab_type": "code",
        "colab": {}
      },
      "source": [
        "import numpy as np\n",
        "\n",
        "xy = np.loadtxt('/content/gdrive/My Drive/Colab Notebooks/data/data-04-zoo.csv',delimiter=',',dtype=np.float32)\n",
        "x_data=xy[:,0:-1]\n",
        "y_data=xy[:,[-1]]\n",
        "\n",
        "X =tf.placeholder(tf.float32,[None,16])                     # x_data의 feature가 16개\n",
        "Y = tf.placeholder(tf.int32,[None,1]) #0~6, shape(?,1)      # y_data의 feature 1개 0~6까지  "
      ],
      "execution_count": 0,
      "outputs": []
    },
    {
      "cell_type": "markdown",
      "metadata": {
        "id": "mYDGWFYk7vX1",
        "colab_type": "text"
      },
      "source": [
        "## tf.one_hot and reshape"
      ]
    },
    {
      "cell_type": "code",
      "metadata": {
        "id": "n06szdFp74Xe",
        "colab_type": "code",
        "colab": {}
      },
      "source": [
        "nb_classes=7\n",
        "Y_one_hot = tf.one_hot(Y,nb_classes) #one hot shape=(?,1,7)\n",
        "Y_one_hot = tf.reshape(Y_one_hot,[-1,nb_classes]) #shape=(?,7)"
      ],
      "execution_count": 0,
      "outputs": []
    },
    {
      "cell_type": "markdown",
      "metadata": {
        "id": "Vev_55yH-Mzn",
        "colab_type": "text"
      },
      "source": [
        "_____"
      ]
    },
    {
      "cell_type": "code",
      "metadata": {
        "id": "lh4AjFOl9Qu_",
        "colab_type": "code",
        "colab": {}
      },
      "source": [
        "W =tf.Variable(tf.random_normal([16,nb_classes]),name='weight')\n",
        "b= tf.Variable(tf.random_normal([nb_classes]),name='bias')"
      ],
      "execution_count": 0,
      "outputs": []
    },
    {
      "cell_type": "markdown",
      "metadata": {
        "id": "An9VxrHM-JJy",
        "colab_type": "text"
      },
      "source": [
        "## tf.nn.softmax computes softmax activations\n",
        "### softmax = exp(logits) / reduce_sum(exp(logits),dim)"
      ]
    },
    {
      "cell_type": "code",
      "metadata": {
        "id": "mxqsQ1uC-fP1",
        "colab_type": "code",
        "colab": {}
      },
      "source": [
        "logits = tf.matmul(X,W)+b\n",
        "hypothesis = tf.nn.softmax(logits)"
      ],
      "execution_count": 0,
      "outputs": []
    },
    {
      "cell_type": "markdown",
      "metadata": {
        "id": "3W0FxW57-m-k",
        "colab_type": "text"
      },
      "source": [
        "## Cross entropy cost/loss"
      ]
    },
    {
      "cell_type": "code",
      "metadata": {
        "id": "nPjMFHrO_Pio",
        "colab_type": "code",
        "colab": {}
      },
      "source": [
        "cost_i = tf.nn.softmax_cross_entropy_with_logits(logits=logits,\n",
        "                                                 labels=Y_one_hot)"
      ],
      "execution_count": 0,
      "outputs": []
    },
    {
      "cell_type": "code",
      "metadata": {
        "id": "x2vvyagp_Yr4",
        "colab_type": "code",
        "colab": {}
      },
      "source": [
        "cost = tf.reduce_mean(cost_i)\n",
        "optimizer = tf.train.GradientDescentOptimizer(learning_rate=0.1).minimize(cost)"
      ],
      "execution_count": 0,
      "outputs": []
    },
    {
      "cell_type": "markdown",
      "metadata": {
        "id": "-HhBvRfwAG8b",
        "colab_type": "text"
      },
      "source": [
        "## prediction"
      ]
    },
    {
      "cell_type": "code",
      "metadata": {
        "id": "g5Hi-TiDAI6V",
        "colab_type": "code",
        "colab": {}
      },
      "source": [
        "prediction = tf.argmax(hypothesis,1)                      \n",
        "correct_prediction = tf.equal(prediction,tf.argmax(Y_one_hot,1))\n",
        "accuracy = tf.reduce_mean(tf.cast(correct_prediction,tf.float32))"
      ],
      "execution_count": 0,
      "outputs": []
    },
    {
      "cell_type": "markdown",
      "metadata": {
        "id": "NV9z8URLA0cr",
        "colab_type": "text"
      },
      "source": [
        "## Launch graph"
      ]
    },
    {
      "cell_type": "code",
      "metadata": {
        "id": "TCpxO0bKA2SD",
        "colab_type": "code",
        "outputId": "113f50a5-7ba9-49e6-ca0c-615ab7a76947",
        "colab": {
          "base_uri": "https://localhost:8080/",
          "height": 1000
        }
      },
      "source": [
        "with tf.Session() as sess:\n",
        "  sess.run(tf.global_variables_initializer())\n",
        "\n",
        "  for step in range(2000):\n",
        "    sess.run(optimizer,feed_dict={X:x_data,Y:y_data})\n",
        "    if step % 100 ==0:\n",
        "      loss,acc = sess.run([cost,accuracy],feed_dict={\n",
        "          X:x_data,Y:y_data\n",
        "      })\n",
        "      print('step: {:5}\\tLoss: {:.3f}\\tAcc:{:.2f}'.format(step,loss,acc))\n",
        "\n",
        "\n",
        "  pred = sess.run(prediction,feed_dict={X:x_data})\n",
        "\n",
        "  #y_data:(N,1)= flatten -> (N,) matches pred.shape\n",
        "  for p, y in zip(pred,y_data.flatten()):\n",
        "    print('[{}]Prediction:{} True Y:{}'.format(p==int(y),p,int(y)))\n",
        "\n"
      ],
      "execution_count": 0,
      "outputs": [
        {
          "output_type": "stream",
          "text": [
            "step:     0\tLoss: 10.242\tAcc:0.15\n",
            "step:   100\tLoss: 0.720\tAcc:0.80\n",
            "step:   200\tLoss: 0.469\tAcc:0.83\n",
            "step:   300\tLoss: 0.353\tAcc:0.89\n",
            "step:   400\tLoss: 0.282\tAcc:0.93\n",
            "step:   500\tLoss: 0.233\tAcc:0.95\n",
            "step:   600\tLoss: 0.199\tAcc:0.96\n",
            "step:   700\tLoss: 0.173\tAcc:0.98\n",
            "step:   800\tLoss: 0.153\tAcc:0.99\n",
            "step:   900\tLoss: 0.137\tAcc:0.99\n",
            "step:  1000\tLoss: 0.123\tAcc:0.99\n",
            "step:  1100\tLoss: 0.113\tAcc:0.99\n",
            "step:  1200\tLoss: 0.103\tAcc:0.99\n",
            "step:  1300\tLoss: 0.096\tAcc:0.99\n",
            "step:  1400\tLoss: 0.089\tAcc:1.00\n",
            "step:  1500\tLoss: 0.083\tAcc:1.00\n",
            "step:  1600\tLoss: 0.078\tAcc:1.00\n",
            "step:  1700\tLoss: 0.073\tAcc:1.00\n",
            "step:  1800\tLoss: 0.069\tAcc:1.00\n",
            "step:  1900\tLoss: 0.065\tAcc:1.00\n",
            "[True]Prediction:0 True Y:0\n",
            "[True]Prediction:0 True Y:0\n",
            "[True]Prediction:3 True Y:3\n",
            "[True]Prediction:0 True Y:0\n",
            "[True]Prediction:0 True Y:0\n",
            "[True]Prediction:0 True Y:0\n",
            "[True]Prediction:0 True Y:0\n",
            "[True]Prediction:3 True Y:3\n",
            "[True]Prediction:3 True Y:3\n",
            "[True]Prediction:0 True Y:0\n",
            "[True]Prediction:0 True Y:0\n",
            "[True]Prediction:1 True Y:1\n",
            "[True]Prediction:3 True Y:3\n",
            "[True]Prediction:6 True Y:6\n",
            "[True]Prediction:6 True Y:6\n",
            "[True]Prediction:6 True Y:6\n",
            "[True]Prediction:1 True Y:1\n",
            "[True]Prediction:0 True Y:0\n",
            "[True]Prediction:3 True Y:3\n",
            "[True]Prediction:0 True Y:0\n",
            "[True]Prediction:1 True Y:1\n",
            "[True]Prediction:1 True Y:1\n",
            "[True]Prediction:0 True Y:0\n",
            "[True]Prediction:1 True Y:1\n",
            "[True]Prediction:5 True Y:5\n",
            "[True]Prediction:4 True Y:4\n",
            "[True]Prediction:4 True Y:4\n",
            "[True]Prediction:0 True Y:0\n",
            "[True]Prediction:0 True Y:0\n",
            "[True]Prediction:0 True Y:0\n",
            "[True]Prediction:5 True Y:5\n",
            "[True]Prediction:0 True Y:0\n",
            "[True]Prediction:0 True Y:0\n",
            "[True]Prediction:1 True Y:1\n",
            "[True]Prediction:3 True Y:3\n",
            "[True]Prediction:0 True Y:0\n",
            "[True]Prediction:0 True Y:0\n",
            "[True]Prediction:1 True Y:1\n",
            "[True]Prediction:3 True Y:3\n",
            "[True]Prediction:5 True Y:5\n",
            "[True]Prediction:5 True Y:5\n",
            "[True]Prediction:1 True Y:1\n",
            "[True]Prediction:5 True Y:5\n",
            "[True]Prediction:1 True Y:1\n",
            "[True]Prediction:0 True Y:0\n",
            "[True]Prediction:0 True Y:0\n",
            "[True]Prediction:6 True Y:6\n",
            "[True]Prediction:0 True Y:0\n",
            "[True]Prediction:0 True Y:0\n",
            "[True]Prediction:0 True Y:0\n",
            "[True]Prediction:0 True Y:0\n",
            "[True]Prediction:5 True Y:5\n",
            "[True]Prediction:4 True Y:4\n",
            "[True]Prediction:6 True Y:6\n",
            "[True]Prediction:0 True Y:0\n",
            "[True]Prediction:0 True Y:0\n",
            "[True]Prediction:1 True Y:1\n",
            "[True]Prediction:1 True Y:1\n",
            "[True]Prediction:1 True Y:1\n",
            "[True]Prediction:1 True Y:1\n",
            "[True]Prediction:3 True Y:3\n",
            "[True]Prediction:3 True Y:3\n",
            "[True]Prediction:2 True Y:2\n",
            "[True]Prediction:0 True Y:0\n",
            "[True]Prediction:0 True Y:0\n",
            "[True]Prediction:0 True Y:0\n",
            "[True]Prediction:0 True Y:0\n",
            "[True]Prediction:0 True Y:0\n",
            "[True]Prediction:0 True Y:0\n",
            "[True]Prediction:0 True Y:0\n",
            "[True]Prediction:0 True Y:0\n",
            "[True]Prediction:1 True Y:1\n",
            "[True]Prediction:6 True Y:6\n",
            "[True]Prediction:3 True Y:3\n",
            "[True]Prediction:0 True Y:0\n",
            "[True]Prediction:0 True Y:0\n",
            "[True]Prediction:2 True Y:2\n",
            "[True]Prediction:6 True Y:6\n",
            "[True]Prediction:1 True Y:1\n",
            "[True]Prediction:1 True Y:1\n",
            "[True]Prediction:2 True Y:2\n",
            "[True]Prediction:6 True Y:6\n",
            "[True]Prediction:3 True Y:3\n",
            "[True]Prediction:1 True Y:1\n",
            "[True]Prediction:0 True Y:0\n",
            "[True]Prediction:6 True Y:6\n",
            "[True]Prediction:3 True Y:3\n",
            "[True]Prediction:1 True Y:1\n",
            "[True]Prediction:5 True Y:5\n",
            "[True]Prediction:4 True Y:4\n",
            "[True]Prediction:2 True Y:2\n",
            "[True]Prediction:2 True Y:2\n",
            "[True]Prediction:3 True Y:3\n",
            "[True]Prediction:0 True Y:0\n",
            "[True]Prediction:0 True Y:0\n",
            "[True]Prediction:1 True Y:1\n",
            "[True]Prediction:0 True Y:0\n",
            "[True]Prediction:5 True Y:5\n",
            "[True]Prediction:0 True Y:0\n",
            "[True]Prediction:6 True Y:6\n",
            "[True]Prediction:1 True Y:1\n"
          ],
          "name": "stdout"
        }
      ]
    },
    {
      "cell_type": "markdown",
      "metadata": {
        "id": "eGG4UVI_B8f4",
        "colab_type": "text"
      },
      "source": [
        "## Let's see if we can predict"
      ]
    },
    {
      "cell_type": "code",
      "metadata": {
        "id": "Txmj3sOFB_6c",
        "colab_type": "code",
        "outputId": "148e6c97-ec26-4222-a28f-98cd32f7c0b5",
        "colab": {
          "base_uri": "https://localhost:8080/",
          "height": 1000
        }
      },
      "source": [
        "with tf.Session() as sess:\n",
        "  sess.run(tf.global_variables_initializer())\n",
        "  pred = sess.run(prediction,feed_dict={X:x_data})\n",
        "\n",
        "  #y_data:(N,1)= flatten -> (N,) matches pred.shape\n",
        "  for p, y in zip(pred,y_data.flatten()):\n",
        "    print('[{}]Prediction:{} True Y:{}'.format(p==int(y),p,int(y)))"
      ],
      "execution_count": 0,
      "outputs": [
        {
          "output_type": "stream",
          "text": [
            "[False]Prediction:3 True Y:0\n",
            "[False]Prediction:3 True Y:0\n",
            "[False]Prediction:0 True Y:3\n",
            "[False]Prediction:3 True Y:0\n",
            "[False]Prediction:3 True Y:0\n",
            "[False]Prediction:3 True Y:0\n",
            "[False]Prediction:3 True Y:0\n",
            "[False]Prediction:0 True Y:3\n",
            "[False]Prediction:0 True Y:3\n",
            "[False]Prediction:3 True Y:0\n",
            "[False]Prediction:3 True Y:0\n",
            "[False]Prediction:3 True Y:1\n",
            "[False]Prediction:0 True Y:3\n",
            "[False]Prediction:3 True Y:6\n",
            "[False]Prediction:3 True Y:6\n",
            "[False]Prediction:3 True Y:6\n",
            "[False]Prediction:3 True Y:1\n",
            "[False]Prediction:3 True Y:0\n",
            "[False]Prediction:0 True Y:3\n",
            "[True]Prediction:0 True Y:0\n",
            "[False]Prediction:3 True Y:1\n",
            "[False]Prediction:3 True Y:1\n",
            "[False]Prediction:3 True Y:0\n",
            "[False]Prediction:3 True Y:1\n",
            "[False]Prediction:3 True Y:5\n",
            "[False]Prediction:3 True Y:4\n",
            "[False]Prediction:3 True Y:4\n",
            "[False]Prediction:3 True Y:0\n",
            "[False]Prediction:3 True Y:0\n",
            "[False]Prediction:3 True Y:0\n",
            "[False]Prediction:3 True Y:5\n",
            "[False]Prediction:3 True Y:0\n",
            "[False]Prediction:3 True Y:0\n",
            "[False]Prediction:3 True Y:1\n",
            "[False]Prediction:0 True Y:3\n",
            "[False]Prediction:3 True Y:0\n",
            "[False]Prediction:3 True Y:0\n",
            "[False]Prediction:3 True Y:1\n",
            "[False]Prediction:0 True Y:3\n",
            "[False]Prediction:3 True Y:5\n",
            "[False]Prediction:3 True Y:5\n",
            "[False]Prediction:3 True Y:1\n",
            "[False]Prediction:3 True Y:5\n",
            "[False]Prediction:3 True Y:1\n",
            "[False]Prediction:3 True Y:0\n",
            "[False]Prediction:3 True Y:0\n",
            "[False]Prediction:3 True Y:6\n",
            "[False]Prediction:3 True Y:0\n",
            "[False]Prediction:3 True Y:0\n",
            "[False]Prediction:3 True Y:0\n",
            "[False]Prediction:3 True Y:0\n",
            "[False]Prediction:3 True Y:5\n",
            "[False]Prediction:3 True Y:4\n",
            "[False]Prediction:3 True Y:6\n",
            "[False]Prediction:3 True Y:0\n",
            "[False]Prediction:3 True Y:0\n",
            "[False]Prediction:3 True Y:1\n",
            "[False]Prediction:3 True Y:1\n",
            "[False]Prediction:3 True Y:1\n",
            "[False]Prediction:3 True Y:1\n",
            "[False]Prediction:0 True Y:3\n",
            "[False]Prediction:0 True Y:3\n",
            "[False]Prediction:0 True Y:2\n",
            "[False]Prediction:3 True Y:0\n",
            "[False]Prediction:3 True Y:0\n",
            "[False]Prediction:3 True Y:0\n",
            "[True]Prediction:0 True Y:0\n",
            "[False]Prediction:3 True Y:0\n",
            "[False]Prediction:3 True Y:0\n",
            "[False]Prediction:3 True Y:0\n",
            "[False]Prediction:3 True Y:0\n",
            "[False]Prediction:3 True Y:1\n",
            "[False]Prediction:3 True Y:6\n",
            "[False]Prediction:0 True Y:3\n",
            "[True]Prediction:0 True Y:0\n",
            "[False]Prediction:3 True Y:0\n",
            "[False]Prediction:0 True Y:2\n",
            "[False]Prediction:0 True Y:6\n",
            "[False]Prediction:3 True Y:1\n",
            "[False]Prediction:3 True Y:1\n",
            "[False]Prediction:0 True Y:2\n",
            "[False]Prediction:3 True Y:6\n",
            "[False]Prediction:0 True Y:3\n",
            "[False]Prediction:3 True Y:1\n",
            "[False]Prediction:3 True Y:0\n",
            "[False]Prediction:3 True Y:6\n",
            "[False]Prediction:0 True Y:3\n",
            "[False]Prediction:3 True Y:1\n",
            "[False]Prediction:3 True Y:5\n",
            "[False]Prediction:3 True Y:4\n",
            "[False]Prediction:3 True Y:2\n",
            "[False]Prediction:3 True Y:2\n",
            "[False]Prediction:0 True Y:3\n",
            "[False]Prediction:3 True Y:0\n",
            "[False]Prediction:3 True Y:0\n",
            "[False]Prediction:3 True Y:1\n",
            "[False]Prediction:3 True Y:0\n",
            "[False]Prediction:3 True Y:5\n",
            "[False]Prediction:3 True Y:0\n",
            "[False]Prediction:3 True Y:6\n",
            "[False]Prediction:3 True Y:1\n"
          ],
          "name": "stdout"
        }
      ]
    }
  ]
}