{
  "nbformat": 4,
  "nbformat_minor": 0,
  "metadata": {
    "colab": {
      "name": "Mnist_Tensorflow_Multi_layers.ipynb",
      "provenance": [],
      "include_colab_link": true
    },
    "kernelspec": {
      "name": "python3",
      "display_name": "Python 3"
    }
  },
  "cells": [
    {
      "cell_type": "markdown",
      "metadata": {
        "id": "view-in-github",
        "colab_type": "text"
      },
      "source": [
        "<a href=\"https://colab.research.google.com/github/DrumDong/Donggyu/blob/master/Mnist_Tensorflow_Multi_layers.ipynb\" target=\"_parent\"><img src=\"https://colab.research.google.com/assets/colab-badge.svg\" alt=\"Open In Colab\"/></a>"
      ]
    },
    {
      "cell_type": "markdown",
      "metadata": {
        "id": "2SZ5M-FrIeP7",
        "colab_type": "text"
      },
      "source": [
        "# Mnist 데이터 load"
      ]
    },
    {
      "cell_type": "code",
      "metadata": {
        "id": "gXgwQ5TK0um_",
        "colab_type": "code",
        "colab": {
          "base_uri": "https://localhost:8080/",
          "height": 83
        },
        "outputId": "c6417912-038c-4cda-8799-e963462c1508"
      },
      "source": [
        "import tensorflow as tf\n",
        "tf.__version__"
      ],
      "execution_count": 2,
      "outputs": [
        {
          "output_type": "display_data",
          "data": {
            "text/html": [
              "<p style=\"color: red;\">\n",
              "The default version of TensorFlow in Colab will soon switch to TensorFlow 2.x.<br>\n",
              "We recommend you <a href=\"https://www.tensorflow.org/guide/migrate\" target=\"_blank\">upgrade</a> now \n",
              "or ensure your notebook will continue to use TensorFlow 1.x via the <code>%tensorflow_version 1.x</code> magic:\n",
              "<a href=\"https://colab.research.google.com/notebooks/tensorflow_version.ipynb\" target=\"_blank\">more info</a>.</p>\n"
            ],
            "text/plain": [
              "<IPython.core.display.HTML object>"
            ]
          },
          "metadata": {
            "tags": []
          }
        },
        {
          "output_type": "execute_result",
          "data": {
            "text/plain": [
              "'1.15.0'"
            ]
          },
          "metadata": {
            "tags": []
          },
          "execution_count": 2
        }
      ]
    },
    {
      "cell_type": "code",
      "metadata": {
        "id": "GmqW9flDGzJb",
        "colab_type": "code",
        "colab": {
          "base_uri": "https://localhost:8080/",
          "height": 54
        },
        "outputId": "a0376e00-6037-40bc-92fe-c6989ed58f33"
      },
      "source": [
        "import keras\n",
        "keras.__version__"
      ],
      "execution_count": 3,
      "outputs": [
        {
          "output_type": "stream",
          "text": [
            "Using TensorFlow backend.\n"
          ],
          "name": "stderr"
        },
        {
          "output_type": "execute_result",
          "data": {
            "text/plain": [
              "'2.2.5'"
            ]
          },
          "metadata": {
            "tags": []
          },
          "execution_count": 3
        }
      ]
    },
    {
      "cell_type": "code",
      "metadata": {
        "id": "bBY8V-qpG29k",
        "colab_type": "code",
        "colab": {}
      },
      "source": [
        "import numpy as np\n",
        "from keras.datasets import mnist\n",
        "from keras.utils import np_utils"
      ],
      "execution_count": 0,
      "outputs": []
    },
    {
      "cell_type": "code",
      "metadata": {
        "id": "5p9W0A5dGqrr",
        "colab_type": "code",
        "colab": {}
      },
      "source": [
        "(X_train, Y_train), (X_test, Y_test) = mnist.load_data()"
      ],
      "execution_count": 0,
      "outputs": []
    },
    {
      "cell_type": "code",
      "metadata": {
        "id": "d9WzUknsHCDW",
        "colab_type": "code",
        "colab": {}
      },
      "source": [
        "X_train = X_train.reshape(60000, 784).astype('float32') / 255.0\n",
        "X_test = X_test.reshape(10000, 784).astype('float32') / 255.0\n",
        "Y_train = np_utils.to_categorical(Y_train) # 원-핫 인코딩으로 바꿔줌\n",
        "Y_test = np_utils.to_categorical(Y_test)   # 원-핫 인코딩으로 바꿔줌  "
      ],
      "execution_count": 0,
      "outputs": []
    },
    {
      "cell_type": "code",
      "metadata": {
        "id": "UD_1mv-UJI7j",
        "colab_type": "code",
        "colab": {
          "base_uri": "https://localhost:8080/",
          "height": 54
        },
        "outputId": "2c093fa6-fcb3-4d62-8e09-626ced995378"
      },
      "source": [
        "print('X_train.shape:',X_train.shape)\n",
        "print('Y_train.shape:',Y_train.shape)"
      ],
      "execution_count": 7,
      "outputs": [
        {
          "output_type": "stream",
          "text": [
            "X_train.shape: (60000, 784)\n",
            "Y_train.shape: (60000, 10)\n"
          ],
          "name": "stdout"
        }
      ]
    },
    {
      "cell_type": "markdown",
      "metadata": {
        "id": "stFHCP_nISW9",
        "colab_type": "text"
      },
      "source": [
        "---------------------"
      ]
    },
    {
      "cell_type": "markdown",
      "metadata": {
        "id": "sfsTsfe1IdJg",
        "colab_type": "text"
      },
      "source": [
        "# 신경망 구현"
      ]
    },
    {
      "cell_type": "code",
      "metadata": {
        "id": "AiVnZBHCImuz",
        "colab_type": "code",
        "colab": {}
      },
      "source": [
        "X= tf.placeholder(tf.float32,[None,784])\n",
        "Y= tf.placeholder(tf.float32,[None,10])\n",
        "\n",
        "W1 = tf.Variable(tf.random_normal([784,392]),name='weight1')\n",
        "b1 = tf.Variable(tf.random_normal([392]),name='bias1')\n",
        "layers1 = tf.sigmoid(tf.matmul(X,W1)+b1)\n",
        "\n",
        "W2 = tf.Variable(tf.random_normal([392,196]),name='weight2')\n",
        "b2 = tf.Variable(tf.random_normal([196]),name='bias2')\n",
        "layers2 = tf.sigmoid(tf.matmul(layers1,W2)+b2)\n",
        "\n",
        "W3 = tf.Variable(tf.random_normal([196,10]),name='weight3')\n",
        "b3 = tf.Variable(tf.random_normal([10]),name='bias3')\n",
        "hypothesis = tf.nn.softmax(tf.matmul(layers2,W3)+b3)"
      ],
      "execution_count": 0,
      "outputs": []
    },
    {
      "cell_type": "code",
      "metadata": {
        "id": "MikINBfMMUeg",
        "colab_type": "code",
        "colab": {}
      },
      "source": [
        "# cost/loss\n",
        "cost = tf.reduce_mean(-tf.reduce_sum(Y*tf.log(hypothesis),axis=1))\n",
        "optimizer = tf.train.GradientDescentOptimizer(learning_rate=0.1).minimize(cost)"
      ],
      "execution_count": 0,
      "outputs": []
    },
    {
      "cell_type": "code",
      "metadata": {
        "id": "K5E7xsNaMj8C",
        "colab_type": "code",
        "colab": {}
      },
      "source": [
        "# Test model\n",
        "is_correct = tf.equal(tf.arg_max(hypothesis,1),tf.arg_max(Y,1)) #True, False로 나타냄.\n",
        "accuracy = tf.reduce_mean(tf.cast(is_correct,tf.float32))"
      ],
      "execution_count": 0,
      "outputs": []
    },
    {
      "cell_type": "markdown",
      "metadata": {
        "id": "SNLghkQ8MsLZ",
        "colab_type": "text"
      },
      "source": [
        "# Traing epoch / batch"
      ]
    },
    {
      "cell_type": "code",
      "metadata": {
        "id": "zjsG8O4yNA1i",
        "colab_type": "code",
        "colab": {
          "base_uri": "https://localhost:8080/",
          "height": 308
        },
        "outputId": "7d83ca33-7bec-40f9-93eb-b0f6ace194ce"
      },
      "source": [
        "training_epochs = 15\n",
        "batch_size =100\n",
        "\n",
        "with tf.Session() as sess:\n",
        "  sess.run(tf.global_variables_initializer())\n",
        "\n",
        "  #Training Cycle\n",
        "  for epoch in range(training_epochs):\n",
        "    avg_cost = 0\n",
        "    total_batch = int(X_train.shape[0]/batch_size)\n",
        "\n",
        "    for i in range(total_batch):\n",
        "      #X_train 6만개의 사진중에 랜덤으로 100개를 가져와야함. <밑바닥 딥러닝 참고>\n",
        "      batch_mask = np.random.choice(X_train.shape[0], batch_size)\n",
        "      batch_xs,batch_ys = X_train[batch_mask],Y_train[batch_mask]\n",
        "\n",
        "      c,_  =sess.run([cost,optimizer],\n",
        "                     feed_dict={X:batch_xs,Y:batch_ys})\n",
        "      avg_cost += c/total_batch\n",
        "\n",
        "    print('Epoch:','%04d'%(epoch+1),\n",
        "              'cost = ','{:9f}'.format(avg_cost))\n",
        "  #Test the model using test sets\n",
        "  print('Accuracy:',accuracy.eval(session=sess,\n",
        "                                  feed_dict={X:X_test,Y:Y_test}))\n"
      ],
      "execution_count": 13,
      "outputs": [
        {
          "output_type": "stream",
          "text": [
            "Epoch: 0001 cost =   1.678453\n",
            "Epoch: 0002 cost =   0.710591\n",
            "Epoch: 0003 cost =   0.560123\n",
            "Epoch: 0004 cost =   0.480773\n",
            "Epoch: 0005 cost =   0.422995\n",
            "Epoch: 0006 cost =   0.379618\n",
            "Epoch: 0007 cost =   0.343386\n",
            "Epoch: 0008 cost =   0.316847\n",
            "Epoch: 0009 cost =   0.304897\n",
            "Epoch: 0010 cost =   0.281270\n",
            "Epoch: 0011 cost =   0.270511\n",
            "Epoch: 0012 cost =   0.258434\n",
            "Epoch: 0013 cost =   0.237017\n",
            "Epoch: 0014 cost =   0.231570\n",
            "Epoch: 0015 cost =   0.222975\n",
            "Accuracy: 0.9049\n"
          ],
          "name": "stdout"
        }
      ]
    }
  ]
}