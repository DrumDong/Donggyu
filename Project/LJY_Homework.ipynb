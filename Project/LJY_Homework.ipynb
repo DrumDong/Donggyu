{
  "nbformat": 4,
  "nbformat_minor": 0,
  "metadata": {
    "colab": {
      "name": "LJY_Homework.ipynb",
      "provenance": [],
      "authorship_tag": "ABX9TyNdCEEknPwTELnHNks7GNS5"
    },
    "kernelspec": {
      "name": "python3",
      "display_name": "Python 3"
    }
  },
  "cells": [
    {
      "cell_type": "markdown",
      "metadata": {
        "id": "C-w1zZyLjAKU"
      },
      "source": [
        "# 인공지능 Project\n",
        "[붓꽃 분류 모델 개발 프로젝트]\n",
        "\n",
        "2014312026/메카트로닉스/이재은"
      ]
    },
    {
      "cell_type": "markdown",
      "metadata": {
        "id": "Vs0T8NsDC0bG"
      },
      "source": [
        "프로젝트를 진행하기 전에, 데이터 전처리 및 모델링에 쓰일 라이브러리를 임포트 하자."
      ]
    },
    {
      "cell_type": "code",
      "metadata": {
        "id": "b2gv9FaQjTzZ"
      },
      "source": [
        "import pandas as pd\n",
        "import matplotlib.pyplot as plt\n",
        "import seaborn as sns\n",
        "\n",
        "# 사이킷런의 붓꽃 데이터를 불러올 수 있음\n",
        "from sklearn.datasets import load_iris\n",
        "\n",
        "from sklearn.preprocessing import StandardScaler\n",
        "from sklearn.cluster import DBSCAN\n",
        "from sklearn.model_selection import train_test_split\n",
        "\n",
        "from keras.callbacks import EarlyStopping"
      ],
      "execution_count": 550,
      "outputs": []
    },
    {
      "cell_type": "code",
      "metadata": {
        "colab": {
          "base_uri": "https://localhost:8080/",
          "height": 142
        },
        "id": "LfuLsaMkCs70",
        "outputId": "e5fd10de-9fa8-4717-afda-96ed3a54a8ef"
      },
      "source": [
        "# 붓꽃 데이터 세트를 로딩한다.\n",
        "iris = load_iris()\n",
        "\n",
        "# iris.data는 Iris 데이터 세트에서 피처(feature)만으로 된 데이터를 numpy로 가지고 있다. \n",
        "iris_data = iris.data\n",
        "\n",
        "# iris.target은 붓꽃 데이터 세트에서 레이블(결정 값) 데이터를 numpy로 가지고 있다.\n",
        "iris_label = iris.target\n",
        "\n",
        "# 붓꽃 데이터 세트를 자세히 보기 위해 DataFrame으로 변환한다. \n",
        "iris_df = pd.DataFrame(data =  iris_data, columns = iris.feature_names)\n",
        "iris_df['label'] = iris.target\n",
        "iris_df.head(3)"
      ],
      "execution_count": 551,
      "outputs": [
        {
          "output_type": "execute_result",
          "data": {
            "text/html": [
              "<div>\n",
              "<style scoped>\n",
              "    .dataframe tbody tr th:only-of-type {\n",
              "        vertical-align: middle;\n",
              "    }\n",
              "\n",
              "    .dataframe tbody tr th {\n",
              "        vertical-align: top;\n",
              "    }\n",
              "\n",
              "    .dataframe thead th {\n",
              "        text-align: right;\n",
              "    }\n",
              "</style>\n",
              "<table border=\"1\" class=\"dataframe\">\n",
              "  <thead>\n",
              "    <tr style=\"text-align: right;\">\n",
              "      <th></th>\n",
              "      <th>sepal length (cm)</th>\n",
              "      <th>sepal width (cm)</th>\n",
              "      <th>petal length (cm)</th>\n",
              "      <th>petal width (cm)</th>\n",
              "      <th>label</th>\n",
              "    </tr>\n",
              "  </thead>\n",
              "  <tbody>\n",
              "    <tr>\n",
              "      <th>0</th>\n",
              "      <td>5.1</td>\n",
              "      <td>3.5</td>\n",
              "      <td>1.4</td>\n",
              "      <td>0.2</td>\n",
              "      <td>0</td>\n",
              "    </tr>\n",
              "    <tr>\n",
              "      <th>1</th>\n",
              "      <td>4.9</td>\n",
              "      <td>3.0</td>\n",
              "      <td>1.4</td>\n",
              "      <td>0.2</td>\n",
              "      <td>0</td>\n",
              "    </tr>\n",
              "    <tr>\n",
              "      <th>2</th>\n",
              "      <td>4.7</td>\n",
              "      <td>3.2</td>\n",
              "      <td>1.3</td>\n",
              "      <td>0.2</td>\n",
              "      <td>0</td>\n",
              "    </tr>\n",
              "  </tbody>\n",
              "</table>\n",
              "</div>"
            ],
            "text/plain": [
              "   sepal length (cm)  sepal width (cm)  ...  petal width (cm)  label\n",
              "0                5.1               3.5  ...               0.2      0\n",
              "1                4.9               3.0  ...               0.2      0\n",
              "2                4.7               3.2  ...               0.2      0\n",
              "\n",
              "[3 rows x 5 columns]"
            ]
          },
          "metadata": {
            "tags": []
          },
          "execution_count": 551
        }
      ]
    },
    {
      "cell_type": "markdown",
      "metadata": {
        "id": "RMZcvY9ODV9l"
      },
      "source": [
        "독립 변수(피처)는 sepal length, sepal width, petal length, petal width로 구성되어 있고, 어떤 품종(setosa,versicolor,virginica)인지 맞춰야하는 label이 있다. "
      ]
    },
    {
      "cell_type": "markdown",
      "metadata": {
        "id": "pGP83kuvJ349"
      },
      "source": [
        "우선, 각 피처(독립변수)들의 관계로 품종(종속변수)를 어떤 식으로 표현하고 있는지 시각화를 해보는 것이 좋을 것 같다."
      ]
    },
    {
      "cell_type": "code",
      "metadata": {
        "colab": {
          "base_uri": "https://localhost:8080/",
          "height": 744
        },
        "id": "6CkVm-bQKOwl",
        "outputId": "b03c8007-7b45-444f-c3a2-acab7b808987"
      },
      "source": [
        "sns.pairplot(iris_df,hue='label')"
      ],
      "execution_count": 552,
      "outputs": [
        {
          "output_type": "execute_result",
          "data": {
            "text/plain": [
              "<seaborn.axisgrid.PairGrid at 0x7f3df6c88048>"
            ]
          },
          "metadata": {
            "tags": []
          },
          "execution_count": 552
        },
        {
          "output_type": "display_data",
          "data": {
            "image/png": "[encoded data removed]",
            "text/plain": [
              "<Figure size 762.375x720 with 20 Axes>"
            ]
          },
          "metadata": {
            "tags": [],
            "needs_background": "light"
          }
        }
      ]
    },
    {
      "cell_type": "markdown",
      "metadata": {
        "id": "AN6bNjPDO6vV"
      },
      "source": [
        "각 독립변수들의 관계로 품종의 분포와 산점도(scatter plot)을 확인해 본 결과, 존재하는 독립 변수들로 어느정도 명확하게 붓꽃의 품종의 분류를 할 수 있는 것으로 판단된다. 이를 통해 두가지의 방법을 비교해 보면 좋을 것 같다.\n",
        "\n",
        "1. 간단한 전처리 후 분류 모델링\n",
        "2. 자체적으로 품종을 분류할 수 있는 클러스터링(군집 분석) 변수를 만든 후, 분류 모델링"
      ]
    },
    {
      "cell_type": "markdown",
      "metadata": {
        "id": "l3wvHX8aPow7"
      },
      "source": [
        "## 1. 간단한 전처리 후 분류 모델링"
      ]
    },
    {
      "cell_type": "code",
      "metadata": {
        "colab": {
          "base_uri": "https://localhost:8080/"
        },
        "id": "U1sDNkemQNBN",
        "outputId": "202a406b-88b7-49dc-b8b4-9e317d524570"
      },
      "source": [
        "iris_df.isna().sum()"
      ],
      "execution_count": 553,
      "outputs": [
        {
          "output_type": "execute_result",
          "data": {
            "text/plain": [
              "sepal length (cm)    0\n",
              "sepal width (cm)     0\n",
              "petal length (cm)    0\n",
              "petal width (cm)     0\n",
              "label                0\n",
              "dtype: int64"
            ]
          },
          "metadata": {
            "tags": []
          },
          "execution_count": 553
        }
      ]
    },
    {
      "cell_type": "markdown",
      "metadata": {
        "id": "LwIvLFPYQQ2u"
      },
      "source": [
        "결측치는 없는 것으로 판단된다."
      ]
    },
    {
      "cell_type": "code",
      "metadata": {
        "colab": {
          "base_uri": "https://localhost:8080/",
          "height": 447
        },
        "id": "MZ-6Cv6jQfnQ",
        "outputId": "bdb461de-b766-47a4-d9c8-c213ba28a910"
      },
      "source": [
        "sns.distplot(iris_df[\"sepal length (cm)\"], \n",
        "             color=\"blue\", label=\"sepal length (cm)\")\n",
        "sns.distplot(iris_df[\"sepal width (cm)\"],\n",
        "             color=\"red\",label = 'sepal width (cm)')\n",
        "sns.distplot(iris_df[\"petal length (cm)\"], \n",
        "             color=\"green\", label=\"petal length (cm)\")\n",
        "sns.distplot(iris_df[\"petal width (cm)\"], \n",
        "             color=\"yellow\", label=\"petal width (cm)\")\n",
        "plt.legend(title=\"variable\")\n",
        "plt.show()"
      ],
      "execution_count": 554,
      "outputs": [
        {
          "output_type": "stream",
          "text": [
            "/usr/local/lib/python3.6/dist-packages/seaborn/distributions.py:2551: FutureWarning: `distplot` is a deprecated function and will be removed in a future version. Please adapt your code to use either `displot` (a figure-level function with similar flexibility) or `histplot` (an axes-level function for histograms).\n",
            "  warnings.warn(msg, FutureWarning)\n",
            "/usr/local/lib/python3.6/dist-packages/seaborn/distributions.py:2551: FutureWarning: `distplot` is a deprecated function and will be removed in a future version. Please adapt your code to use either `displot` (a figure-level function with similar flexibility) or `histplot` (an axes-level function for histograms).\n",
            "  warnings.warn(msg, FutureWarning)\n",
            "/usr/local/lib/python3.6/dist-packages/seaborn/distributions.py:2551: FutureWarning: `distplot` is a deprecated function and will be removed in a future version. Please adapt your code to use either `displot` (a figure-level function with similar flexibility) or `histplot` (an axes-level function for histograms).\n",
            "  warnings.warn(msg, FutureWarning)\n",
            "/usr/local/lib/python3.6/dist-packages/seaborn/distributions.py:2551: FutureWarning: `distplot` is a deprecated function and will be removed in a future version. Please adapt your code to use either `displot` (a figure-level function with similar flexibility) or `histplot` (an axes-level function for histograms).\n",
            "  warnings.warn(msg, FutureWarning)\n"
          ],
          "name": "stderr"
        },
        {
          "output_type": "display_data",
          "data": {
            "image/png": "[encoded data removed]",
            "text/plain": [
              "<Figure size 432x288 with 1 Axes>"
            ]
          },
          "metadata": {
            "tags": [],
            "needs_background": "light"
          }
        }
      ]
    },
    {
      "cell_type": "code",
      "metadata": {
        "id": "KkzcY6ycap24",
        "colab": {
          "base_uri": "https://localhost:8080/",
          "height": 297
        },
        "outputId": "9427f450-f95c-470f-e265-ecb90a1830e3"
      },
      "source": [
        "iris_df.describe()"
      ],
      "execution_count": 555,
      "outputs": [
        {
          "output_type": "execute_result",
          "data": {
            "text/html": [
              "<div>\n",
              "<style scoped>\n",
              "    .dataframe tbody tr th:only-of-type {\n",
              "        vertical-align: middle;\n",
              "    }\n",
              "\n",
              "    .dataframe tbody tr th {\n",
              "        vertical-align: top;\n",
              "    }\n",
              "\n",
              "    .dataframe thead th {\n",
              "        text-align: right;\n",
              "    }\n",
              "</style>\n",
              "<table border=\"1\" class=\"dataframe\">\n",
              "  <thead>\n",
              "    <tr style=\"text-align: right;\">\n",
              "      <th></th>\n",
              "      <th>sepal length (cm)</th>\n",
              "      <th>sepal width (cm)</th>\n",
              "      <th>petal length (cm)</th>\n",
              "      <th>petal width (cm)</th>\n",
              "      <th>label</th>\n",
              "    </tr>\n",
              "  </thead>\n",
              "  <tbody>\n",
              "    <tr>\n",
              "      <th>count</th>\n",
              "      <td>150.000000</td>\n",
              "      <td>150.000000</td>\n",
              "      <td>150.000000</td>\n",
              "      <td>150.000000</td>\n",
              "      <td>150.000000</td>\n",
              "    </tr>\n",
              "    <tr>\n",
              "      <th>mean</th>\n",
              "      <td>5.843333</td>\n",
              "      <td>3.057333</td>\n",
              "      <td>3.758000</td>\n",
              "      <td>1.199333</td>\n",
              "      <td>1.000000</td>\n",
              "    </tr>\n",
              "    <tr>\n",
              "      <th>std</th>\n",
              "      <td>0.828066</td>\n",
              "      <td>0.435866</td>\n",
              "      <td>1.765298</td>\n",
              "      <td>0.762238</td>\n",
              "      <td>0.819232</td>\n",
              "    </tr>\n",
              "    <tr>\n",
              "      <th>min</th>\n",
              "      <td>4.300000</td>\n",
              "      <td>2.000000</td>\n",
              "      <td>1.000000</td>\n",
              "      <td>0.100000</td>\n",
              "      <td>0.000000</td>\n",
              "    </tr>\n",
              "    <tr>\n",
              "      <th>25%</th>\n",
              "      <td>5.100000</td>\n",
              "      <td>2.800000</td>\n",
              "      <td>1.600000</td>\n",
              "      <td>0.300000</td>\n",
              "      <td>0.000000</td>\n",
              "    </tr>\n",
              "    <tr>\n",
              "      <th>50%</th>\n",
              "      <td>5.800000</td>\n",
              "      <td>3.000000</td>\n",
              "      <td>4.350000</td>\n",
              "      <td>1.300000</td>\n",
              "      <td>1.000000</td>\n",
              "    </tr>\n",
              "    <tr>\n",
              "      <th>75%</th>\n",
              "      <td>6.400000</td>\n",
              "      <td>3.300000</td>\n",
              "      <td>5.100000</td>\n",
              "      <td>1.800000</td>\n",
              "      <td>2.000000</td>\n",
              "    </tr>\n",
              "    <tr>\n",
              "      <th>max</th>\n",
              "      <td>7.900000</td>\n",
              "      <td>4.400000</td>\n",
              "      <td>6.900000</td>\n",
              "      <td>2.500000</td>\n",
              "      <td>2.000000</td>\n",
              "    </tr>\n",
              "  </tbody>\n",
              "</table>\n",
              "</div>"
            ],
            "text/plain": [
              "       sepal length (cm)  sepal width (cm)  ...  petal width (cm)       label\n",
              "count         150.000000        150.000000  ...        150.000000  150.000000\n",
              "mean            5.843333          3.057333  ...          1.199333    1.000000\n",
              "std             0.828066          0.435866  ...          0.762238    0.819232\n",
              "min             4.300000          2.000000  ...          0.100000    0.000000\n",
              "25%             5.100000          2.800000  ...          0.300000    0.000000\n",
              "50%             5.800000          3.000000  ...          1.300000    1.000000\n",
              "75%             6.400000          3.300000  ...          1.800000    2.000000\n",
              "max             7.900000          4.400000  ...          2.500000    2.000000\n",
              "\n",
              "[8 rows x 5 columns]"
            ]
          },
          "metadata": {
            "tags": []
          },
          "execution_count": 555
        }
      ]
    },
    {
      "cell_type": "markdown",
      "metadata": {
        "id": "5uGrwaqPeKK2"
      },
      "source": [
        "각 변수별로 범위가 크기 때문에 데이터를 정제해줄 필요가 있다. 머신러닝 모델의 Tree 기반 모델은 이러한 전처리 작업이 필요가 없는 장점이 있지만, 아직까지 딥러닝 모델은 이 작업을 해줘야한다.(가중치 문제 때문임)"
      ]
    },
    {
      "cell_type": "code",
      "metadata": {
        "colab": {
          "base_uri": "https://localhost:8080/",
          "height": 204
        },
        "id": "s-O6HvyDeqKH",
        "outputId": "974b2c60-7813-48c6-e7c3-55953d0ab9f6"
      },
      "source": [
        "scaler = StandardScaler()\n",
        "new_df=pd.DataFrame(scaler.fit_transform(iris_df.drop('label',axis=1)),\n",
        "                    columns = iris_df.columns[:-1])\n",
        "new_df['label'] = iris_df['label']\n",
        "new_df.head()"
      ],
      "execution_count": 556,
      "outputs": [
        {
          "output_type": "execute_result",
          "data": {
            "text/html": [
              "<div>\n",
              "<style scoped>\n",
              "    .dataframe tbody tr th:only-of-type {\n",
              "        vertical-align: middle;\n",
              "    }\n",
              "\n",
              "    .dataframe tbody tr th {\n",
              "        vertical-align: top;\n",
              "    }\n",
              "\n",
              "    .dataframe thead th {\n",
              "        text-align: right;\n",
              "    }\n",
              "</style>\n",
              "<table border=\"1\" class=\"dataframe\">\n",
              "  <thead>\n",
              "    <tr style=\"text-align: right;\">\n",
              "      <th></th>\n",
              "      <th>sepal length (cm)</th>\n",
              "      <th>sepal width (cm)</th>\n",
              "      <th>petal length (cm)</th>\n",
              "      <th>petal width (cm)</th>\n",
              "      <th>label</th>\n",
              "    </tr>\n",
              "  </thead>\n",
              "  <tbody>\n",
              "    <tr>\n",
              "      <th>0</th>\n",
              "      <td>-0.900681</td>\n",
              "      <td>1.019004</td>\n",
              "      <td>-1.340227</td>\n",
              "      <td>-1.315444</td>\n",
              "      <td>0</td>\n",
              "    </tr>\n",
              "    <tr>\n",
              "      <th>1</th>\n",
              "      <td>-1.143017</td>\n",
              "      <td>-0.131979</td>\n",
              "      <td>-1.340227</td>\n",
              "      <td>-1.315444</td>\n",
              "      <td>0</td>\n",
              "    </tr>\n",
              "    <tr>\n",
              "      <th>2</th>\n",
              "      <td>-1.385353</td>\n",
              "      <td>0.328414</td>\n",
              "      <td>-1.397064</td>\n",
              "      <td>-1.315444</td>\n",
              "      <td>0</td>\n",
              "    </tr>\n",
              "    <tr>\n",
              "      <th>3</th>\n",
              "      <td>-1.506521</td>\n",
              "      <td>0.098217</td>\n",
              "      <td>-1.283389</td>\n",
              "      <td>-1.315444</td>\n",
              "      <td>0</td>\n",
              "    </tr>\n",
              "    <tr>\n",
              "      <th>4</th>\n",
              "      <td>-1.021849</td>\n",
              "      <td>1.249201</td>\n",
              "      <td>-1.340227</td>\n",
              "      <td>-1.315444</td>\n",
              "      <td>0</td>\n",
              "    </tr>\n",
              "  </tbody>\n",
              "</table>\n",
              "</div>"
            ],
            "text/plain": [
              "   sepal length (cm)  sepal width (cm)  ...  petal width (cm)  label\n",
              "0          -0.900681          1.019004  ...         -1.315444      0\n",
              "1          -1.143017         -0.131979  ...         -1.315444      0\n",
              "2          -1.385353          0.328414  ...         -1.315444      0\n",
              "3          -1.506521          0.098217  ...         -1.315444      0\n",
              "4          -1.021849          1.249201  ...         -1.315444      0\n",
              "\n",
              "[5 rows x 5 columns]"
            ]
          },
          "metadata": {
            "tags": []
          },
          "execution_count": 556
        }
      ]
    },
    {
      "cell_type": "markdown",
      "metadata": {
        "id": "hs17WEx3faLs"
      },
      "source": [
        "정규화가 잘된 것을 확인할 수 있다."
      ]
    },
    {
      "cell_type": "code",
      "metadata": {
        "colab": {
          "base_uri": "https://localhost:8080/",
          "height": 204
        },
        "id": "aEILqji8hYsa",
        "outputId": "658e54e6-3cb0-4566-86a6-0da54b503dbe"
      },
      "source": [
        "new_df.head()"
      ],
      "execution_count": 557,
      "outputs": [
        {
          "output_type": "execute_result",
          "data": {
            "text/html": [
              "<div>\n",
              "<style scoped>\n",
              "    .dataframe tbody tr th:only-of-type {\n",
              "        vertical-align: middle;\n",
              "    }\n",
              "\n",
              "    .dataframe tbody tr th {\n",
              "        vertical-align: top;\n",
              "    }\n",
              "\n",
              "    .dataframe thead th {\n",
              "        text-align: right;\n",
              "    }\n",
              "</style>\n",
              "<table border=\"1\" class=\"dataframe\">\n",
              "  <thead>\n",
              "    <tr style=\"text-align: right;\">\n",
              "      <th></th>\n",
              "      <th>sepal length (cm)</th>\n",
              "      <th>sepal width (cm)</th>\n",
              "      <th>petal length (cm)</th>\n",
              "      <th>petal width (cm)</th>\n",
              "      <th>label</th>\n",
              "    </tr>\n",
              "  </thead>\n",
              "  <tbody>\n",
              "    <tr>\n",
              "      <th>0</th>\n",
              "      <td>-0.900681</td>\n",
              "      <td>1.019004</td>\n",
              "      <td>-1.340227</td>\n",
              "      <td>-1.315444</td>\n",
              "      <td>0</td>\n",
              "    </tr>\n",
              "    <tr>\n",
              "      <th>1</th>\n",
              "      <td>-1.143017</td>\n",
              "      <td>-0.131979</td>\n",
              "      <td>-1.340227</td>\n",
              "      <td>-1.315444</td>\n",
              "      <td>0</td>\n",
              "    </tr>\n",
              "    <tr>\n",
              "      <th>2</th>\n",
              "      <td>-1.385353</td>\n",
              "      <td>0.328414</td>\n",
              "      <td>-1.397064</td>\n",
              "      <td>-1.315444</td>\n",
              "      <td>0</td>\n",
              "    </tr>\n",
              "    <tr>\n",
              "      <th>3</th>\n",
              "      <td>-1.506521</td>\n",
              "      <td>0.098217</td>\n",
              "      <td>-1.283389</td>\n",
              "      <td>-1.315444</td>\n",
              "      <td>0</td>\n",
              "    </tr>\n",
              "    <tr>\n",
              "      <th>4</th>\n",
              "      <td>-1.021849</td>\n",
              "      <td>1.249201</td>\n",
              "      <td>-1.340227</td>\n",
              "      <td>-1.315444</td>\n",
              "      <td>0</td>\n",
              "    </tr>\n",
              "  </tbody>\n",
              "</table>\n",
              "</div>"
            ],
            "text/plain": [
              "   sepal length (cm)  sepal width (cm)  ...  petal width (cm)  label\n",
              "0          -0.900681          1.019004  ...         -1.315444      0\n",
              "1          -1.143017         -0.131979  ...         -1.315444      0\n",
              "2          -1.385353          0.328414  ...         -1.315444      0\n",
              "3          -1.506521          0.098217  ...         -1.315444      0\n",
              "4          -1.021849          1.249201  ...         -1.315444      0\n",
              "\n",
              "[5 rows x 5 columns]"
            ]
          },
          "metadata": {
            "tags": []
          },
          "execution_count": 557
        }
      ]
    },
    {
      "cell_type": "markdown",
      "metadata": {
        "id": "56TIvBFWiL5a"
      },
      "source": [
        "## 2. 군집화 변수 생성\n",
        "- 군집화 변수를 생성하는 이유는 간단하다. 모델이 좀 더, 데이터를 이해하기 쉽게 만들어 주는 것이다. 1000명의 사람을 단순히 키와 몸무게로 성별을 분류 하는 것 보다는, 그 관계속에서 새로운 범주를 찾아 주면 좀 더 쉽게 이해할 수 있지 않을까?"
      ]
    },
    {
      "cell_type": "markdown",
      "metadata": {
        "id": "ao8em-bDiaK4"
      },
      "source": [
        "우선 군집화를 진행할 때는, 변수별 scale이 비슷해야하기 때문에 위에서 만든 new_df를 그대로 사용하여 파생변수를 만들도록 하자."
      ]
    },
    {
      "cell_type": "markdown",
      "metadata": {
        "id": "jEJwJWbvjEl3"
      },
      "source": [
        "### DBSCAN 클러스터링 알고리즘 적용\n",
        "- K means 클러스터링은 반경을 기준으로 군집화를 진행하기 때문에, 상대적으로 중심부와 거리가 있는 데이터를 오분류할 가능성이 크다. 그렇기 때문에 밀도 기반 클러스터링의 DBSCAN을 적용했다."
      ]
    },
    {
      "cell_type": "code",
      "metadata": {
        "id": "wIZqdfUso9M3"
      },
      "source": [
        "clustering = DBSCAN(eps=0.5,min_samples=2).fit(new_df.drop('label',axis=1))"
      ],
      "execution_count": 558,
      "outputs": []
    },
    {
      "cell_type": "code",
      "metadata": {
        "id": "JItQReIGqIxK"
      },
      "source": [
        "new_df['clustering'] = clustering.labels_"
      ],
      "execution_count": 559,
      "outputs": []
    },
    {
      "cell_type": "code",
      "metadata": {
        "colab": {
          "base_uri": "https://localhost:8080/",
          "height": 401
        },
        "id": "ZV0mT3Ldr388",
        "outputId": "494f25c6-ad56-4e9f-a873-47431a8dde96"
      },
      "source": [
        "sns.catplot(y=\"label\", hue=\"clustering\", kind=\"count\",\n",
        "            palette=\"pastel\", edgecolor=\".6\",\n",
        "            data=new_df)"
      ],
      "execution_count": 560,
      "outputs": [
        {
          "output_type": "execute_result",
          "data": {
            "text/plain": [
              "<seaborn.axisgrid.FacetGrid at 0x7f3df72182e8>"
            ]
          },
          "metadata": {
            "tags": []
          },
          "execution_count": 560
        },
        {
          "output_type": "display_data",
          "data": {
            "image/png": "[encoded data removed]",
            "text/plain": [
              "<Figure size 417.75x360 with 1 Axes>"
            ]
          },
          "metadata": {
            "tags": [],
            "needs_background": "light"
          }
        }
      ]
    },
    {
      "cell_type": "markdown",
      "metadata": {
        "id": "ALSuqrARsj7d"
      },
      "source": [
        "클러스터링은 정답이 없기 때문에 방향에 맞게 끔 최대한 파라미터를 조절하는 방법밖에는 없다. 지금처럼 데이터가 적은 상태에서 군집 개수를 많이 생성하는 것은 썩 좋은 방법은 아니지만, 데이터가 많이 보유가 되면 군집 개수는 늘리는 것이 바람직하다."
      ]
    },
    {
      "cell_type": "markdown",
      "metadata": {
        "id": "X62VGnkhiUO3"
      },
      "source": [
        "## 예측 모델링 진행\n",
        "이제 클러스터링을 사용한 데이터와 그렇지 않은 데이터를 모델링에 적용해 비교해 보자."
      ]
    },
    {
      "cell_type": "markdown",
      "metadata": {
        "id": "nr-WfRSkwSW7"
      },
      "source": [
        "다중 분류 문제이기 때문에, 모델 결과는 크로스 엔트로피를 적용을 해아한다. 그러므로 종속변수(Y,품종)에 원핫 인코딩을 적용해 주자."
      ]
    },
    {
      "cell_type": "code",
      "metadata": {
        "id": "DcwEWBs4wGOn"
      },
      "source": [
        "from sklearn.preprocessing import LabelEncoder\n",
        "\n",
        "X = new_df.drop(['label','clustering'],axis=1)\n",
        "y = new_df['label']\n",
        "\n",
        "encoder =  LabelEncoder()\n",
        "y1 = encoder.fit_transform(y)\n",
        "Y = pd.get_dummies(y1).values"
      ],
      "execution_count": 561,
      "outputs": []
    },
    {
      "cell_type": "code",
      "metadata": {
        "colab": {
          "base_uri": "https://localhost:8080/",
          "height": 498
        },
        "id": "A1eyGLS_uJPK",
        "outputId": "e942d0f3-a6ce-48da-bf2d-976d3eb288c8"
      },
      "source": [
        "# train데이터와 test데이터의 품종 분포 확인\n",
        "from sklearn.model_selection import train_test_split\n",
        "X_train, X_test_ver1, y_train, y_test_ver1 = train_test_split(new_df.drop('label',axis=1),new_df['label'], \n",
        "                                                    test_size=0.3,random_state=11) \n",
        "X_train.shape, X_test_ver1.shape, y_train.shape, y_test_ver1.shape\n",
        "\n",
        "figure, ((ax1),(ax2)) = plt.subplots(nrows=1, ncols=2)\n",
        "figure.set_size_inches(18,8)\n",
        "sns.countplot(y_train,ax=ax1)\n",
        "sns.countplot(y_test_ver1,ax=ax2)\n",
        "\n",
        "ax1.set(title=\"y_train\")\n",
        "ax2.set(title=\"y_test\")"
      ],
      "execution_count": 562,
      "outputs": [
        {
          "output_type": "stream",
          "text": [
            "/usr/local/lib/python3.6/dist-packages/seaborn/_decorators.py:43: FutureWarning: Pass the following variable as a keyword arg: x. From version 0.12, the only valid positional argument will be `data`, and passing other arguments without an explicit keyword will result in an error or misinterpretation.\n",
            "  FutureWarning\n",
            "/usr/local/lib/python3.6/dist-packages/seaborn/_decorators.py:43: FutureWarning: Pass the following variable as a keyword arg: x. From version 0.12, the only valid positional argument will be `data`, and passing other arguments without an explicit keyword will result in an error or misinterpretation.\n",
            "  FutureWarning\n"
          ],
          "name": "stderr"
        },
        {
          "output_type": "execute_result",
          "data": {
            "text/plain": [
              "[Text(0.5, 1.0, 'y_test')]"
            ]
          },
          "metadata": {
            "tags": []
          },
          "execution_count": 562
        },
        {
          "output_type": "display_data",
          "data": {
            "image/png": "[encoded data removed]",
            "text/plain": [
              "<Figure size 1296x576 with 2 Axes>"
            ]
          },
          "metadata": {
            "tags": [],
            "needs_background": "light"
          }
        }
      ]
    },
    {
      "cell_type": "markdown",
      "metadata": {
        "id": "xaqmdGkxu3oM"
      },
      "source": [
        "train 데이터와 test데이터의 품종의 분포가 약간 다르긴 하지만, 크게 불균형적이지 않기 떄문에 따로 처리할 것은 없다고 판단함."
      ]
    },
    {
      "cell_type": "code",
      "metadata": {
        "id": "j6usImoBiKUi",
        "colab": {
          "base_uri": "https://localhost:8080/"
        },
        "outputId": "1c53b407-fe92-4a93-df06-526fed9d4e28"
      },
      "source": [
        "# 학습용 데이터와 테스트용 데이터 분리 -> 원한 인코딩 적용\n",
        "X_train, X_test_ver1, y_train, y_test_ver1 = train_test_split(X, Y, \n",
        "                                                    test_size=0.3, \n",
        "                                                    random_state=11) \n",
        "X_train.shape, X_test.shape, y_train.shape, y_test.shape"
      ],
      "execution_count": 563,
      "outputs": [
        {
          "output_type": "execute_result",
          "data": {
            "text/plain": [
              "((105, 4), (45, 4), (105, 3), (45, 3))"
            ]
          },
          "metadata": {
            "tags": []
          },
          "execution_count": 563
        }
      ]
    },
    {
      "cell_type": "markdown",
      "metadata": {
        "id": "lNFvwl28xhto"
      },
      "source": [
        "####신경망 모델 1"
      ]
    },
    {
      "cell_type": "code",
      "metadata": {
        "colab": {
          "base_uri": "https://localhost:8080/"
        },
        "id": "k5fzfNH6xZkP",
        "outputId": "0eb1a160-ad1d-424c-c128-0a48902af317"
      },
      "source": [
        "from keras.models import Sequential\n",
        "from keras.layers import Dense\n",
        "from keras.optimizers import Adam\n",
        "\n",
        "model1 = Sequential()\n",
        "\n",
        "model1.add(Dense(64,input_shape=(4,),activation='relu'))\n",
        "model1.add(Dense(32,activation='relu'))\n",
        "model1.add(Dense(16,activation='relu'))\n",
        "model1.add(Dense(3,activation='softmax'))\n",
        "\n",
        "model1.compile(loss='categorical_crossentropy', \n",
        "              optimizer='Adam', \n",
        "              metrics=['accuracy'])\n",
        "\n",
        "model1.summary()"
      ],
      "execution_count": 564,
      "outputs": [
        {
          "output_type": "stream",
          "text": [
            "Model: \"sequential_56\"\n",
            "_________________________________________________________________\n",
            "Layer (type)                 Output Shape              Param #   \n",
            "=================================================================\n",
            "dense_244 (Dense)            (None, 64)                320       \n",
            "_________________________________________________________________\n",
            "dense_245 (Dense)            (None, 32)                2080      \n",
            "_________________________________________________________________\n",
            "dense_246 (Dense)            (None, 16)                528       \n",
            "_________________________________________________________________\n",
            "dense_247 (Dense)            (None, 3)                 51        \n",
            "=================================================================\n",
            "Total params: 2,979\n",
            "Trainable params: 2,979\n",
            "Non-trainable params: 0\n",
            "_________________________________________________________________\n"
          ],
          "name": "stdout"
        }
      ]
    },
    {
      "cell_type": "markdown",
      "metadata": {
        "id": "zFTTR7x44RvI"
      },
      "source": [
        "오버피팅을 방지하기 위해, validation 셋을 설정하고, validation set이 개선이 안되면 조기종료를 할 수 있게 하자."
      ]
    },
    {
      "cell_type": "code",
      "metadata": {
        "colab": {
          "base_uri": "https://localhost:8080/"
        },
        "id": "laVxmrpFxm8q",
        "outputId": "b820d451-4e8b-4ff9-a2d9-9a6f68b11411"
      },
      "source": [
        "es=EarlyStopping(monitor='val_loss', mode='min', verbose=1, patience=10)\n",
        "hist1 = model.fit(X_train, y_train,epochs=1000, validation_split=0.3,callbacks=[es])"
      ],
      "execution_count": 565,
      "outputs": [
        {
          "output_type": "stream",
          "text": [
            "Epoch 1/1000\n",
            "3/3 [==============================] - 0s 15ms/step - loss: 3.3229e-04 - accuracy: 1.0000 - val_loss: 0.2454 - val_accuracy: 0.9375\n",
            "Epoch 2/1000\n",
            "3/3 [==============================] - 0s 8ms/step - loss: 3.2876e-04 - accuracy: 1.0000 - val_loss: 0.2451 - val_accuracy: 0.9375\n",
            "Epoch 3/1000\n",
            "3/3 [==============================] - 0s 6ms/step - loss: 3.2150e-04 - accuracy: 1.0000 - val_loss: 0.2453 - val_accuracy: 0.9375\n",
            "Epoch 4/1000\n",
            "3/3 [==============================] - 0s 5ms/step - loss: 3.1834e-04 - accuracy: 1.0000 - val_loss: 0.2453 - val_accuracy: 0.9375\n",
            "Epoch 5/1000\n",
            "3/3 [==============================] - 0s 5ms/step - loss: 3.1327e-04 - accuracy: 1.0000 - val_loss: 0.2450 - val_accuracy: 0.9688\n",
            "Epoch 6/1000\n",
            "3/3 [==============================] - 0s 5ms/step - loss: 3.0936e-04 - accuracy: 1.0000 - val_loss: 0.2447 - val_accuracy: 0.9688\n",
            "Epoch 7/1000\n",
            "3/3 [==============================] - 0s 6ms/step - loss: 3.0546e-04 - accuracy: 1.0000 - val_loss: 0.2447 - val_accuracy: 0.9688\n",
            "Epoch 8/1000\n",
            "3/3 [==============================] - 0s 6ms/step - loss: 3.0194e-04 - accuracy: 1.0000 - val_loss: 0.2450 - val_accuracy: 0.9688\n",
            "Epoch 9/1000\n",
            "3/3 [==============================] - 0s 12ms/step - loss: 3.0022e-04 - accuracy: 1.0000 - val_loss: 0.2454 - val_accuracy: 0.9688\n",
            "Epoch 10/1000\n",
            "3/3 [==============================] - 0s 7ms/step - loss: 2.9523e-04 - accuracy: 1.0000 - val_loss: 0.2455 - val_accuracy: 0.9688\n",
            "Epoch 11/1000\n",
            "3/3 [==============================] - 0s 6ms/step - loss: 2.9263e-04 - accuracy: 1.0000 - val_loss: 0.2457 - val_accuracy: 0.9688\n",
            "Epoch 12/1000\n",
            "3/3 [==============================] - 0s 6ms/step - loss: 2.8919e-04 - accuracy: 1.0000 - val_loss: 0.2457 - val_accuracy: 0.9688\n",
            "Epoch 13/1000\n",
            "3/3 [==============================] - 0s 6ms/step - loss: 2.8580e-04 - accuracy: 1.0000 - val_loss: 0.2457 - val_accuracy: 0.9688\n",
            "Epoch 14/1000\n",
            "3/3 [==============================] - 0s 5ms/step - loss: 2.8345e-04 - accuracy: 1.0000 - val_loss: 0.2453 - val_accuracy: 0.9688\n",
            "Epoch 15/1000\n",
            "3/3 [==============================] - 0s 6ms/step - loss: 2.8242e-04 - accuracy: 1.0000 - val_loss: 0.2452 - val_accuracy: 0.9688\n",
            "Epoch 16/1000\n",
            "3/3 [==============================] - 0s 6ms/step - loss: 2.7938e-04 - accuracy: 1.0000 - val_loss: 0.2453 - val_accuracy: 0.9688\n",
            "Epoch 17/1000\n",
            "3/3 [==============================] - 0s 5ms/step - loss: 2.7735e-04 - accuracy: 1.0000 - val_loss: 0.2452 - val_accuracy: 0.9688\n",
            "Epoch 00017: early stopping\n"
          ],
          "name": "stdout"
        }
      ]
    },
    {
      "cell_type": "code",
      "metadata": {
        "colab": {
          "base_uri": "https://localhost:8080/",
          "height": 483
        },
        "id": "358YYJET06Ge",
        "outputId": "7815596a-2198-44e1-fd5f-0535c02f0be7"
      },
      "source": [
        "plt.figure(figsize=(12,8))\n",
        "plt.plot(hist1.history['loss'])\n",
        "plt.plot(hist1.history['val_loss'])\n",
        "plt.plot(hist1.history['accuracy'])\n",
        "plt.plot(hist1.history['val_accuracy'])\n",
        "plt.legend(['loss','val_loss', 'acc','val_acc'])\n",
        "plt.grid()\n",
        "plt.show()"
      ],
      "execution_count": 566,
      "outputs": [
        {
          "output_type": "display_data",
          "data": {
            "image/png": "[encoded data removed]",
            "text/plain": [
              "<Figure size 864x576 with 1 Axes>"
            ]
          },
          "metadata": {
            "tags": [],
            "needs_background": "light"
          }
        }
      ]
    },
    {
      "cell_type": "markdown",
      "metadata": {
        "id": "jq9SchdT2dSF"
      },
      "source": [
        "#### 신경망 모델 2"
      ]
    },
    {
      "cell_type": "code",
      "metadata": {
        "colab": {
          "base_uri": "https://localhost:8080/"
        },
        "id": "KQtRJpj_2G3a",
        "outputId": "b2dcc1d5-7134-446a-a4d1-ec15ac88dd23"
      },
      "source": [
        "from keras.models import Sequential\n",
        "from keras.layers import Dense\n",
        "from keras.optimizers import Adam\n",
        "\n",
        "model2 = Sequential()\n",
        "\n",
        "model2.add(Dense(128,input_shape=(4,),activation='relu'))\n",
        "model2.add(Dense(64,activation='relu'))\n",
        "model2.add(Dense(32,activation='relu'))\n",
        "model2.add(Dense(16,activation='relu'))\n",
        "model2.add(Dense(3,activation='softmax'))\n",
        "\n",
        "model2.compile(loss='categorical_crossentropy',\n",
        "              optimizer='Adam', \n",
        "              metrics=['accuracy'])\n",
        "\n",
        "model2.summary()"
      ],
      "execution_count": 567,
      "outputs": [
        {
          "output_type": "stream",
          "text": [
            "Model: \"sequential_57\"\n",
            "_________________________________________________________________\n",
            "Layer (type)                 Output Shape              Param #   \n",
            "=================================================================\n",
            "dense_248 (Dense)            (None, 128)               640       \n",
            "_________________________________________________________________\n",
            "dense_249 (Dense)            (None, 64)                8256      \n",
            "_________________________________________________________________\n",
            "dense_250 (Dense)            (None, 32)                2080      \n",
            "_________________________________________________________________\n",
            "dense_251 (Dense)            (None, 16)                528       \n",
            "_________________________________________________________________\n",
            "dense_252 (Dense)            (None, 3)                 51        \n",
            "=================================================================\n",
            "Total params: 11,555\n",
            "Trainable params: 11,555\n",
            "Non-trainable params: 0\n",
            "_________________________________________________________________\n"
          ],
          "name": "stdout"
        }
      ]
    },
    {
      "cell_type": "code",
      "metadata": {
        "colab": {
          "base_uri": "https://localhost:8080/"
        },
        "id": "iaVbmoNz2Ql3",
        "outputId": "8a8cc54b-0f3d-4d57-c441-1c5f71b0f6e7"
      },
      "source": [
        "es=EarlyStopping(monitor='val_loss', mode='min', verbose=1, patience=10)\n",
        "hist = model2.fit(X_train, y_train,epochs=1000, validation_split=0.3,callbacks=[es])"
      ],
      "execution_count": 568,
      "outputs": [
        {
          "output_type": "stream",
          "text": [
            "Epoch 1/1000\n",
            "3/3 [==============================] - 0s 51ms/step - loss: 1.0657 - accuracy: 0.5479 - val_loss: 1.0298 - val_accuracy: 0.8750\n",
            "Epoch 2/1000\n",
            "3/3 [==============================] - 0s 6ms/step - loss: 1.0032 - accuracy: 0.8082 - val_loss: 0.9843 - val_accuracy: 0.8750\n",
            "Epoch 3/1000\n",
            "3/3 [==============================] - 0s 6ms/step - loss: 0.9474 - accuracy: 0.8356 - val_loss: 0.9358 - val_accuracy: 0.8750\n",
            "Epoch 4/1000\n",
            "3/3 [==============================] - 0s 5ms/step - loss: 0.8907 - accuracy: 0.8356 - val_loss: 0.8790 - val_accuracy: 0.8750\n",
            "Epoch 5/1000\n",
            "3/3 [==============================] - 0s 6ms/step - loss: 0.8213 - accuracy: 0.8356 - val_loss: 0.8178 - val_accuracy: 0.8750\n",
            "Epoch 6/1000\n",
            "3/3 [==============================] - 0s 5ms/step - loss: 0.7470 - accuracy: 0.8493 - val_loss: 0.7523 - val_accuracy: 0.8750\n",
            "Epoch 7/1000\n",
            "3/3 [==============================] - 0s 5ms/step - loss: 0.6696 - accuracy: 0.8630 - val_loss: 0.6858 - val_accuracy: 0.8750\n",
            "Epoch 8/1000\n",
            "3/3 [==============================] - 0s 6ms/step - loss: 0.5985 - accuracy: 0.8767 - val_loss: 0.6242 - val_accuracy: 0.8750\n",
            "Epoch 9/1000\n",
            "3/3 [==============================] - 0s 5ms/step - loss: 0.5296 - accuracy: 0.8767 - val_loss: 0.5683 - val_accuracy: 0.8750\n",
            "Epoch 10/1000\n",
            "3/3 [==============================] - 0s 5ms/step - loss: 0.4746 - accuracy: 0.8904 - val_loss: 0.5152 - val_accuracy: 0.8750\n",
            "Epoch 11/1000\n",
            "3/3 [==============================] - 0s 6ms/step - loss: 0.4269 - accuracy: 0.8904 - val_loss: 0.4681 - val_accuracy: 0.8750\n",
            "Epoch 12/1000\n",
            "3/3 [==============================] - 0s 5ms/step - loss: 0.3862 - accuracy: 0.8904 - val_loss: 0.4286 - val_accuracy: 0.8750\n",
            "Epoch 13/1000\n",
            "3/3 [==============================] - 0s 5ms/step - loss: 0.3543 - accuracy: 0.8904 - val_loss: 0.3968 - val_accuracy: 0.8750\n",
            "Epoch 14/1000\n",
            "3/3 [==============================] - 0s 5ms/step - loss: 0.3257 - accuracy: 0.8904 - val_loss: 0.3672 - val_accuracy: 0.8750\n",
            "Epoch 15/1000\n",
            "3/3 [==============================] - 0s 6ms/step - loss: 0.3001 - accuracy: 0.8904 - val_loss: 0.3423 - val_accuracy: 0.8750\n",
            "Epoch 16/1000\n",
            "3/3 [==============================] - 0s 9ms/step - loss: 0.2779 - accuracy: 0.9041 - val_loss: 0.3110 - val_accuracy: 0.9062\n",
            "Epoch 17/1000\n",
            "3/3 [==============================] - 0s 5ms/step - loss: 0.2532 - accuracy: 0.9041 - val_loss: 0.2790 - val_accuracy: 0.9062\n",
            "Epoch 18/1000\n",
            "3/3 [==============================] - 0s 5ms/step - loss: 0.2376 - accuracy: 0.9178 - val_loss: 0.2555 - val_accuracy: 0.9375\n",
            "Epoch 19/1000\n",
            "3/3 [==============================] - 0s 6ms/step - loss: 0.2217 - accuracy: 0.9452 - val_loss: 0.2403 - val_accuracy: 0.9375\n",
            "Epoch 20/1000\n",
            "3/3 [==============================] - 0s 5ms/step - loss: 0.2055 - accuracy: 0.9452 - val_loss: 0.2282 - val_accuracy: 0.9375\n",
            "Epoch 21/1000\n",
            "3/3 [==============================] - 0s 5ms/step - loss: 0.1857 - accuracy: 0.9452 - val_loss: 0.2149 - val_accuracy: 0.9375\n",
            "Epoch 22/1000\n",
            "3/3 [==============================] - 0s 5ms/step - loss: 0.1709 - accuracy: 0.9452 - val_loss: 0.2008 - val_accuracy: 0.9375\n",
            "Epoch 23/1000\n",
            "3/3 [==============================] - 0s 6ms/step - loss: 0.1596 - accuracy: 0.9589 - val_loss: 0.1896 - val_accuracy: 0.9688\n",
            "Epoch 24/1000\n",
            "3/3 [==============================] - 0s 5ms/step - loss: 0.1484 - accuracy: 0.9726 - val_loss: 0.1800 - val_accuracy: 0.9688\n",
            "Epoch 25/1000\n",
            "3/3 [==============================] - 0s 5ms/step - loss: 0.1330 - accuracy: 0.9726 - val_loss: 0.1738 - val_accuracy: 0.9688\n",
            "Epoch 26/1000\n",
            "3/3 [==============================] - 0s 6ms/step - loss: 0.1195 - accuracy: 0.9863 - val_loss: 0.1797 - val_accuracy: 0.9375\n",
            "Epoch 27/1000\n",
            "3/3 [==============================] - 0s 5ms/step - loss: 0.1151 - accuracy: 0.9726 - val_loss: 0.1738 - val_accuracy: 0.9375\n",
            "Epoch 28/1000\n",
            "3/3 [==============================] - 0s 6ms/step - loss: 0.1002 - accuracy: 0.9726 - val_loss: 0.1590 - val_accuracy: 0.9688\n",
            "Epoch 29/1000\n",
            "3/3 [==============================] - 0s 7ms/step - loss: 0.0896 - accuracy: 1.0000 - val_loss: 0.1523 - val_accuracy: 0.9688\n",
            "Epoch 30/1000\n",
            "3/3 [==============================] - 0s 7ms/step - loss: 0.0820 - accuracy: 0.9863 - val_loss: 0.1512 - val_accuracy: 0.9375\n",
            "Epoch 31/1000\n",
            "3/3 [==============================] - 0s 6ms/step - loss: 0.0760 - accuracy: 0.9863 - val_loss: 0.1489 - val_accuracy: 0.9375\n",
            "Epoch 32/1000\n",
            "3/3 [==============================] - 0s 6ms/step - loss: 0.0660 - accuracy: 1.0000 - val_loss: 0.1477 - val_accuracy: 0.9688\n",
            "Epoch 33/1000\n",
            "3/3 [==============================] - 0s 6ms/step - loss: 0.0571 - accuracy: 1.0000 - val_loss: 0.1484 - val_accuracy: 0.9688\n",
            "Epoch 34/1000\n",
            "3/3 [==============================] - 0s 5ms/step - loss: 0.0516 - accuracy: 1.0000 - val_loss: 0.1495 - val_accuracy: 0.9688\n",
            "Epoch 35/1000\n",
            "3/3 [==============================] - 0s 6ms/step - loss: 0.0448 - accuracy: 1.0000 - val_loss: 0.1506 - val_accuracy: 0.9375\n",
            "Epoch 36/1000\n",
            "3/3 [==============================] - 0s 5ms/step - loss: 0.0398 - accuracy: 1.0000 - val_loss: 0.1526 - val_accuracy: 0.9375\n",
            "Epoch 37/1000\n",
            "3/3 [==============================] - 0s 7ms/step - loss: 0.0353 - accuracy: 1.0000 - val_loss: 0.1533 - val_accuracy: 0.9375\n",
            "Epoch 38/1000\n",
            "3/3 [==============================] - 0s 6ms/step - loss: 0.0317 - accuracy: 1.0000 - val_loss: 0.1534 - val_accuracy: 0.9375\n",
            "Epoch 39/1000\n",
            "3/3 [==============================] - 0s 6ms/step - loss: 0.0279 - accuracy: 1.0000 - val_loss: 0.1536 - val_accuracy: 0.9375\n",
            "Epoch 40/1000\n",
            "3/3 [==============================] - 0s 6ms/step - loss: 0.0249 - accuracy: 1.0000 - val_loss: 0.1541 - val_accuracy: 0.9375\n",
            "Epoch 41/1000\n",
            "3/3 [==============================] - 0s 6ms/step - loss: 0.0227 - accuracy: 1.0000 - val_loss: 0.1553 - val_accuracy: 0.9375\n",
            "Epoch 42/1000\n",
            "3/3 [==============================] - 0s 6ms/step - loss: 0.0207 - accuracy: 1.0000 - val_loss: 0.1536 - val_accuracy: 0.9375\n",
            "Epoch 00042: early stopping\n"
          ],
          "name": "stdout"
        }
      ]
    },
    {
      "cell_type": "code",
      "metadata": {
        "colab": {
          "base_uri": "https://localhost:8080/",
          "height": 483
        },
        "id": "bzT6LkCj2Nnw",
        "outputId": "c36c1570-5dac-42bf-f540-8fc72324ea80"
      },
      "source": [
        "plt.figure(figsize=(12,8))\n",
        "plt.plot(hist.history['loss'])\n",
        "plt.plot(hist.history['val_loss'])\n",
        "plt.plot(hist.history['accuracy'])\n",
        "plt.plot(hist.history['val_accuracy'])\n",
        "plt.legend(['loss','val_loss', 'acc','val_acc'])\n",
        "plt.grid()\n",
        "plt.show()"
      ],
      "execution_count": 569,
      "outputs": [
        {
          "output_type": "display_data",
          "data": {
            "image/png": "[encoded data removed]",
            "text/plain": [
              "<Figure size 864x576 with 1 Axes>"
            ]
          },
          "metadata": {
            "tags": [],
            "needs_background": "light"
          }
        }
      ]
    },
    {
      "cell_type": "markdown",
      "metadata": {
        "id": "tdvf46jb2hoN"
      },
      "source": [
        "신경망 모델2는 모델1보다 하나 더 많은 층과 더 많은 노드수를 설정해서 약간의 모델 성능 개선이 보이는 것 같다. 하지만 Test 셋에 대해서는 어떻게 나올지는 아무도 모르기 떄문에 최종 판단은 주의해야할 것이다. 왜냐하면 지금 데이터 셋도 상당히 적기 때문에.."
      ]
    },
    {
      "cell_type": "markdown",
      "metadata": {
        "id": "v2bkV_oR3Ebl"
      },
      "source": [
        "#### 신경망 모델3 (클러스터링 변수가 있는 데이터로 모델링)\n",
        "- 모델2를 활용해보자."
      ]
    },
    {
      "cell_type": "code",
      "metadata": {
        "id": "3ANlFXEO5unU"
      },
      "source": [
        "#클러스터링 변수 원핫 인코딩\n",
        "cl = encoder.fit_transform(new_df['clustering'])\n",
        "cl_df = pd.get_dummies(new_df['clustering']).values\n",
        "cl_df = pd.DataFrame(cl_hot)"
      ],
      "execution_count": 570,
      "outputs": []
    },
    {
      "cell_type": "code",
      "metadata": {
        "id": "Pl-tw94v6wfY"
      },
      "source": [
        "new_df=pd.concat([new_df,cl_df],axis=1)"
      ],
      "execution_count": 571,
      "outputs": []
    },
    {
      "cell_type": "code",
      "metadata": {
        "colab": {
          "base_uri": "https://localhost:8080/"
        },
        "id": "RTxLBpMP3PhJ",
        "outputId": "23d17cb8-5536-4edf-9607-f05e6e09c568"
      },
      "source": [
        "#클러스터링 변수 원핫 인코딩\n",
        "cl = encoder.fit_transform(new_df['clustering'])\n",
        "cl_df = pd.get_dummies(new_df['clustering']).values\n",
        "cl_df = pd.DataFrame(cl_hot)\n",
        "new_df=pd.concat([new_df,cl_df],axis=1)\n",
        "\n",
        "X = new_df.drop(['label'],axis=1)\n",
        "y = new_df['label']\n",
        "\n",
        "encoder =  LabelEncoder()\n",
        "y1 = encoder.fit_transform(y)\n",
        "Y = pd.get_dummies(y1).values\n",
        "\n",
        "# 학습용 데이터와 테스트용 데이터 분리 -> 원한 인코딩 적용\n",
        "X_train, X_test_ver2, y_train, y_test_ver2 = train_test_split(X, Y, \n",
        "                                                    test_size=0.3, \n",
        "                                                    random_state=11) \n",
        "X_train.shape, X_test_ver2.shape, y_train.shape, y_test_ver2.shape"
      ],
      "execution_count": 572,
      "outputs": [
        {
          "output_type": "execute_result",
          "data": {
            "text/plain": [
              "((105, 21), (45, 21), (105, 3), (45, 3))"
            ]
          },
          "metadata": {
            "tags": []
          },
          "execution_count": 572
        }
      ]
    },
    {
      "cell_type": "code",
      "metadata": {
        "colab": {
          "base_uri": "https://localhost:8080/"
        },
        "id": "jldtBqsQ3xaU",
        "outputId": "82bf1ba8-4a8b-43bb-ba77-f124669af940"
      },
      "source": [
        "from keras.models import Sequential\n",
        "from keras.layers import Dense\n",
        "from keras.optimizers import Adam\n",
        "\n",
        "model3 = Sequential()\n",
        "\n",
        "model3.add(Dense(64,input_shape=(X_train.shape[1],),activation='relu'))\n",
        "model3.add(Dense(32,activation='relu'))\n",
        "model3.add(Dense(16,activation='relu'))\n",
        "model3.add(Dense(3,activation='softmax'))\n",
        "\n",
        "model3.compile(loss='categorical_crossentropy', \n",
        "              optimizer='Adam', \n",
        "              metrics=['accuracy'])\n",
        "\n",
        "model3.summary()"
      ],
      "execution_count": 573,
      "outputs": [
        {
          "output_type": "stream",
          "text": [
            "Model: \"sequential_58\"\n",
            "_________________________________________________________________\n",
            "Layer (type)                 Output Shape              Param #   \n",
            "=================================================================\n",
            "dense_253 (Dense)            (None, 64)                1408      \n",
            "_________________________________________________________________\n",
            "dense_254 (Dense)            (None, 32)                2080      \n",
            "_________________________________________________________________\n",
            "dense_255 (Dense)            (None, 16)                528       \n",
            "_________________________________________________________________\n",
            "dense_256 (Dense)            (None, 3)                 51        \n",
            "=================================================================\n",
            "Total params: 4,067\n",
            "Trainable params: 4,067\n",
            "Non-trainable params: 0\n",
            "_________________________________________________________________\n"
          ],
          "name": "stdout"
        }
      ]
    },
    {
      "cell_type": "code",
      "metadata": {
        "colab": {
          "base_uri": "https://localhost:8080/"
        },
        "id": "Ps1o4J1d5V6B",
        "outputId": "0ba3e308-d143-4a69-ab55-8438aa92dc85"
      },
      "source": [
        "es=EarlyStopping(monitor='val_loss', mode='min', verbose=1, patience=10)\n",
        "hist = model3.fit(X_train, y_train,epochs=1000, validation_split=0.3,callbacks=[es])"
      ],
      "execution_count": 574,
      "outputs": [
        {
          "output_type": "stream",
          "text": [
            "Epoch 1/1000\n",
            "3/3 [==============================] - 0s 55ms/step - loss: 1.1189 - accuracy: 0.3014 - val_loss: 1.1186 - val_accuracy: 0.5938\n",
            "Epoch 2/1000\n",
            "3/3 [==============================] - 0s 6ms/step - loss: 1.0251 - accuracy: 0.6164 - val_loss: 1.0401 - val_accuracy: 0.6562\n",
            "Epoch 3/1000\n",
            "3/3 [==============================] - 0s 6ms/step - loss: 0.9507 - accuracy: 0.6712 - val_loss: 0.9801 - val_accuracy: 0.6562\n",
            "Epoch 4/1000\n",
            "3/3 [==============================] - 0s 5ms/step - loss: 0.8924 - accuracy: 0.6986 - val_loss: 0.9285 - val_accuracy: 0.6562\n",
            "Epoch 5/1000\n",
            "3/3 [==============================] - 0s 6ms/step - loss: 0.8390 - accuracy: 0.6986 - val_loss: 0.8856 - val_accuracy: 0.6562\n",
            "Epoch 6/1000\n",
            "3/3 [==============================] - 0s 5ms/step - loss: 0.7907 - accuracy: 0.6986 - val_loss: 0.8455 - val_accuracy: 0.6562\n",
            "Epoch 7/1000\n",
            "3/3 [==============================] - 0s 5ms/step - loss: 0.7415 - accuracy: 0.6986 - val_loss: 0.8084 - val_accuracy: 0.6562\n",
            "Epoch 8/1000\n",
            "3/3 [==============================] - 0s 5ms/step - loss: 0.6988 - accuracy: 0.6986 - val_loss: 0.7737 - val_accuracy: 0.6562\n",
            "Epoch 9/1000\n",
            "3/3 [==============================] - 0s 6ms/step - loss: 0.6551 - accuracy: 0.6986 - val_loss: 0.7424 - val_accuracy: 0.6562\n",
            "Epoch 10/1000\n",
            "3/3 [==============================] - 0s 6ms/step - loss: 0.6158 - accuracy: 0.6986 - val_loss: 0.7141 - val_accuracy: 0.6562\n",
            "Epoch 11/1000\n",
            "3/3 [==============================] - 0s 6ms/step - loss: 0.5821 - accuracy: 0.6986 - val_loss: 0.6886 - val_accuracy: 0.6562\n",
            "Epoch 12/1000\n",
            "3/3 [==============================] - 0s 5ms/step - loss: 0.5529 - accuracy: 0.6986 - val_loss: 0.6665 - val_accuracy: 0.6875\n",
            "Epoch 13/1000\n",
            "3/3 [==============================] - 0s 6ms/step - loss: 0.5285 - accuracy: 0.6986 - val_loss: 0.6472 - val_accuracy: 0.6875\n",
            "Epoch 14/1000\n",
            "3/3 [==============================] - 0s 6ms/step - loss: 0.5083 - accuracy: 0.6986 - val_loss: 0.6304 - val_accuracy: 0.6875\n",
            "Epoch 15/1000\n",
            "3/3 [==============================] - 0s 5ms/step - loss: 0.4920 - accuracy: 0.6986 - val_loss: 0.6147 - val_accuracy: 0.6875\n",
            "Epoch 16/1000\n",
            "3/3 [==============================] - 0s 5ms/step - loss: 0.4785 - accuracy: 0.6986 - val_loss: 0.5998 - val_accuracy: 0.6875\n",
            "Epoch 17/1000\n",
            "3/3 [==============================] - 0s 5ms/step - loss: 0.4661 - accuracy: 0.6986 - val_loss: 0.5853 - val_accuracy: 0.6875\n",
            "Epoch 18/1000\n",
            "3/3 [==============================] - 0s 7ms/step - loss: 0.4551 - accuracy: 0.6986 - val_loss: 0.5715 - val_accuracy: 0.7188\n",
            "Epoch 19/1000\n",
            "3/3 [==============================] - 0s 7ms/step - loss: 0.4447 - accuracy: 0.7123 - val_loss: 0.5577 - val_accuracy: 0.7500\n",
            "Epoch 20/1000\n",
            "3/3 [==============================] - 0s 5ms/step - loss: 0.4355 - accuracy: 0.7123 - val_loss: 0.5454 - val_accuracy: 0.7812\n",
            "Epoch 21/1000\n",
            "3/3 [==============================] - 0s 6ms/step - loss: 0.4275 - accuracy: 0.7671 - val_loss: 0.5334 - val_accuracy: 0.7812\n",
            "Epoch 22/1000\n",
            "3/3 [==============================] - 0s 6ms/step - loss: 0.4197 - accuracy: 0.7534 - val_loss: 0.5226 - val_accuracy: 0.8125\n",
            "Epoch 23/1000\n",
            "3/3 [==============================] - 0s 6ms/step - loss: 0.4120 - accuracy: 0.7534 - val_loss: 0.5119 - val_accuracy: 0.8750\n",
            "Epoch 24/1000\n",
            "3/3 [==============================] - 0s 6ms/step - loss: 0.4045 - accuracy: 0.7808 - val_loss: 0.5026 - val_accuracy: 0.8750\n",
            "Epoch 25/1000\n",
            "3/3 [==============================] - 0s 8ms/step - loss: 0.3977 - accuracy: 0.8493 - val_loss: 0.4948 - val_accuracy: 0.9375\n",
            "Epoch 26/1000\n",
            "3/3 [==============================] - 0s 6ms/step - loss: 0.3909 - accuracy: 0.8767 - val_loss: 0.4875 - val_accuracy: 0.9688\n",
            "Epoch 27/1000\n",
            "3/3 [==============================] - 0s 6ms/step - loss: 0.3838 - accuracy: 0.8767 - val_loss: 0.4781 - val_accuracy: 0.9688\n",
            "Epoch 28/1000\n",
            "3/3 [==============================] - 0s 5ms/step - loss: 0.3753 - accuracy: 0.8630 - val_loss: 0.4647 - val_accuracy: 0.9688\n",
            "Epoch 29/1000\n",
            "3/3 [==============================] - 0s 5ms/step - loss: 0.3651 - accuracy: 0.8630 - val_loss: 0.4453 - val_accuracy: 0.9688\n",
            "Epoch 30/1000\n",
            "3/3 [==============================] - 0s 5ms/step - loss: 0.3547 - accuracy: 0.8493 - val_loss: 0.4240 - val_accuracy: 0.9375\n",
            "Epoch 31/1000\n",
            "3/3 [==============================] - 0s 6ms/step - loss: 0.3406 - accuracy: 0.8630 - val_loss: 0.4066 - val_accuracy: 0.9688\n",
            "Epoch 32/1000\n",
            "3/3 [==============================] - 0s 6ms/step - loss: 0.3283 - accuracy: 0.8904 - val_loss: 0.3904 - val_accuracy: 0.9375\n",
            "Epoch 33/1000\n",
            "3/3 [==============================] - 0s 6ms/step - loss: 0.3175 - accuracy: 0.9041 - val_loss: 0.3777 - val_accuracy: 0.9375\n",
            "Epoch 34/1000\n",
            "3/3 [==============================] - 0s 7ms/step - loss: 0.3072 - accuracy: 0.9041 - val_loss: 0.3601 - val_accuracy: 0.9375\n",
            "Epoch 35/1000\n",
            "3/3 [==============================] - 0s 6ms/step - loss: 0.2950 - accuracy: 0.9041 - val_loss: 0.3409 - val_accuracy: 0.9375\n",
            "Epoch 36/1000\n",
            "3/3 [==============================] - 0s 5ms/step - loss: 0.2850 - accuracy: 0.9315 - val_loss: 0.3228 - val_accuracy: 0.9375\n",
            "Epoch 37/1000\n",
            "3/3 [==============================] - 0s 6ms/step - loss: 0.2737 - accuracy: 0.9452 - val_loss: 0.3070 - val_accuracy: 0.9375\n",
            "Epoch 38/1000\n",
            "3/3 [==============================] - 0s 5ms/step - loss: 0.2630 - accuracy: 0.9452 - val_loss: 0.2892 - val_accuracy: 0.9688\n",
            "Epoch 39/1000\n",
            "3/3 [==============================] - 0s 6ms/step - loss: 0.2533 - accuracy: 0.9452 - val_loss: 0.2727 - val_accuracy: 0.9688\n",
            "Epoch 40/1000\n",
            "3/3 [==============================] - 0s 6ms/step - loss: 0.2425 - accuracy: 0.9452 - val_loss: 0.2584 - val_accuracy: 0.9688\n",
            "Epoch 41/1000\n",
            "3/3 [==============================] - 0s 6ms/step - loss: 0.2333 - accuracy: 0.9452 - val_loss: 0.2443 - val_accuracy: 0.9688\n",
            "Epoch 42/1000\n",
            "3/3 [==============================] - 0s 5ms/step - loss: 0.2230 - accuracy: 0.9452 - val_loss: 0.2291 - val_accuracy: 0.9688\n",
            "Epoch 43/1000\n",
            "3/3 [==============================] - 0s 5ms/step - loss: 0.2151 - accuracy: 0.9452 - val_loss: 0.2153 - val_accuracy: 0.9688\n",
            "Epoch 44/1000\n",
            "3/3 [==============================] - 0s 6ms/step - loss: 0.2077 - accuracy: 0.9452 - val_loss: 0.2042 - val_accuracy: 0.9688\n",
            "Epoch 45/1000\n",
            "3/3 [==============================] - 0s 6ms/step - loss: 0.1992 - accuracy: 0.9452 - val_loss: 0.1946 - val_accuracy: 0.9688\n",
            "Epoch 46/1000\n",
            "3/3 [==============================] - 0s 5ms/step - loss: 0.1915 - accuracy: 0.9452 - val_loss: 0.1859 - val_accuracy: 0.9688\n",
            "Epoch 47/1000\n",
            "3/3 [==============================] - 0s 6ms/step - loss: 0.1871 - accuracy: 0.9452 - val_loss: 0.1790 - val_accuracy: 0.9688\n",
            "Epoch 48/1000\n",
            "3/3 [==============================] - 0s 5ms/step - loss: 0.1773 - accuracy: 0.9452 - val_loss: 0.1678 - val_accuracy: 0.9688\n",
            "Epoch 49/1000\n",
            "3/3 [==============================] - 0s 6ms/step - loss: 0.1698 - accuracy: 0.9452 - val_loss: 0.1569 - val_accuracy: 0.9688\n",
            "Epoch 50/1000\n",
            "3/3 [==============================] - 0s 6ms/step - loss: 0.1642 - accuracy: 0.9589 - val_loss: 0.1473 - val_accuracy: 0.9688\n",
            "Epoch 51/1000\n",
            "3/3 [==============================] - 0s 7ms/step - loss: 0.1573 - accuracy: 0.9726 - val_loss: 0.1412 - val_accuracy: 0.9688\n",
            "Epoch 52/1000\n",
            "3/3 [==============================] - 0s 6ms/step - loss: 0.1521 - accuracy: 0.9726 - val_loss: 0.1384 - val_accuracy: 0.9688\n",
            "Epoch 53/1000\n",
            "3/3 [==============================] - 0s 6ms/step - loss: 0.1441 - accuracy: 0.9589 - val_loss: 0.1336 - val_accuracy: 0.9688\n",
            "Epoch 54/1000\n",
            "3/3 [==============================] - 0s 6ms/step - loss: 0.1385 - accuracy: 0.9589 - val_loss: 0.1298 - val_accuracy: 0.9688\n",
            "Epoch 55/1000\n",
            "3/3 [==============================] - 0s 5ms/step - loss: 0.1331 - accuracy: 0.9589 - val_loss: 0.1239 - val_accuracy: 0.9688\n",
            "Epoch 56/1000\n",
            "3/3 [==============================] - 0s 6ms/step - loss: 0.1276 - accuracy: 0.9726 - val_loss: 0.1169 - val_accuracy: 0.9688\n",
            "Epoch 57/1000\n",
            "3/3 [==============================] - 0s 9ms/step - loss: 0.1217 - accuracy: 0.9726 - val_loss: 0.1117 - val_accuracy: 0.9688\n",
            "Epoch 58/1000\n",
            "3/3 [==============================] - 0s 6ms/step - loss: 0.1162 - accuracy: 0.9726 - val_loss: 0.1061 - val_accuracy: 0.9688\n",
            "Epoch 59/1000\n",
            "3/3 [==============================] - 0s 6ms/step - loss: 0.1107 - accuracy: 0.9726 - val_loss: 0.1033 - val_accuracy: 0.9688\n",
            "Epoch 60/1000\n",
            "3/3 [==============================] - 0s 6ms/step - loss: 0.1045 - accuracy: 0.9726 - val_loss: 0.1050 - val_accuracy: 0.9688\n",
            "Epoch 61/1000\n",
            "3/3 [==============================] - 0s 5ms/step - loss: 0.1021 - accuracy: 0.9863 - val_loss: 0.1083 - val_accuracy: 0.9688\n",
            "Epoch 62/1000\n",
            "3/3 [==============================] - 0s 5ms/step - loss: 0.0957 - accuracy: 0.9863 - val_loss: 0.1005 - val_accuracy: 0.9688\n",
            "Epoch 63/1000\n",
            "3/3 [==============================] - 0s 6ms/step - loss: 0.0906 - accuracy: 0.9863 - val_loss: 0.0905 - val_accuracy: 0.9688\n",
            "Epoch 64/1000\n",
            "3/3 [==============================] - 0s 6ms/step - loss: 0.0857 - accuracy: 0.9726 - val_loss: 0.0868 - val_accuracy: 0.9688\n",
            "Epoch 65/1000\n",
            "3/3 [==============================] - 0s 6ms/step - loss: 0.0819 - accuracy: 0.9726 - val_loss: 0.0869 - val_accuracy: 0.9688\n",
            "Epoch 66/1000\n",
            "3/3 [==============================] - 0s 7ms/step - loss: 0.0769 - accuracy: 1.0000 - val_loss: 0.0858 - val_accuracy: 0.9688\n",
            "Epoch 67/1000\n",
            "3/3 [==============================] - 0s 6ms/step - loss: 0.0703 - accuracy: 1.0000 - val_loss: 0.0896 - val_accuracy: 0.9688\n",
            "Epoch 68/1000\n",
            "3/3 [==============================] - 0s 8ms/step - loss: 0.0678 - accuracy: 1.0000 - val_loss: 0.0939 - val_accuracy: 0.9688\n",
            "Epoch 69/1000\n",
            "3/3 [==============================] - 0s 6ms/step - loss: 0.0629 - accuracy: 1.0000 - val_loss: 0.0899 - val_accuracy: 0.9688\n",
            "Epoch 70/1000\n",
            "3/3 [==============================] - 0s 6ms/step - loss: 0.0573 - accuracy: 1.0000 - val_loss: 0.0847 - val_accuracy: 0.9688\n",
            "Epoch 71/1000\n",
            "3/3 [==============================] - 0s 6ms/step - loss: 0.0524 - accuracy: 1.0000 - val_loss: 0.0824 - val_accuracy: 0.9688\n",
            "Epoch 72/1000\n",
            "3/3 [==============================] - 0s 7ms/step - loss: 0.0484 - accuracy: 1.0000 - val_loss: 0.0844 - val_accuracy: 0.9688\n",
            "Epoch 73/1000\n",
            "3/3 [==============================] - 0s 8ms/step - loss: 0.0447 - accuracy: 1.0000 - val_loss: 0.0888 - val_accuracy: 0.9688\n",
            "Epoch 74/1000\n",
            "3/3 [==============================] - 0s 7ms/step - loss: 0.0418 - accuracy: 1.0000 - val_loss: 0.0904 - val_accuracy: 0.9688\n",
            "Epoch 75/1000\n",
            "3/3 [==============================] - 0s 6ms/step - loss: 0.0385 - accuracy: 1.0000 - val_loss: 0.0918 - val_accuracy: 0.9688\n",
            "Epoch 76/1000\n",
            "3/3 [==============================] - 0s 7ms/step - loss: 0.0358 - accuracy: 1.0000 - val_loss: 0.0929 - val_accuracy: 0.9688\n",
            "Epoch 77/1000\n",
            "3/3 [==============================] - 0s 6ms/step - loss: 0.0338 - accuracy: 1.0000 - val_loss: 0.0933 - val_accuracy: 0.9688\n",
            "Epoch 78/1000\n",
            "3/3 [==============================] - 0s 6ms/step - loss: 0.0316 - accuracy: 1.0000 - val_loss: 0.0905 - val_accuracy: 0.9688\n",
            "Epoch 79/1000\n",
            "3/3 [==============================] - 0s 6ms/step - loss: 0.0299 - accuracy: 1.0000 - val_loss: 0.0897 - val_accuracy: 0.9688\n",
            "Epoch 80/1000\n",
            "3/3 [==============================] - 0s 6ms/step - loss: 0.0282 - accuracy: 1.0000 - val_loss: 0.0891 - val_accuracy: 0.9688\n",
            "Epoch 81/1000\n",
            "3/3 [==============================] - 0s 5ms/step - loss: 0.0264 - accuracy: 1.0000 - val_loss: 0.0899 - val_accuracy: 0.9688\n",
            "Epoch 00081: early stopping\n"
          ],
          "name": "stdout"
        }
      ]
    },
    {
      "cell_type": "markdown",
      "metadata": {
        "id": "i20-kKOhCXQl"
      },
      "source": [
        "### 신경망 모델4"
      ]
    },
    {
      "cell_type": "code",
      "metadata": {
        "colab": {
          "base_uri": "https://localhost:8080/"
        },
        "id": "Tok-dEkwB7mc",
        "outputId": "ad0e1f98-4766-48ee-e89c-18a4a865f9c5"
      },
      "source": [
        "from keras.models import Sequential\n",
        "from keras.layers import Dense\n",
        "from keras.optimizers import Adam\n",
        "\n",
        "model4 = Sequential()\n",
        "\n",
        "model4.add(Dense(128,input_shape=(X_train.shape[1],),activation='relu'))\n",
        "model4.add(Dense(64,activation='relu'))\n",
        "model4.add(Dense(32,activation='relu'))\n",
        "model4.add(Dense(16,activation='relu'))\n",
        "model4.add(Dense(3,activation='softmax'))\n",
        "\n",
        "model4.compile(loss='categorical_crossentropy', \n",
        "              optimizer='Adam', \n",
        "              metrics=['accuracy'])\n",
        "\n",
        "model4.summary()"
      ],
      "execution_count": 575,
      "outputs": [
        {
          "output_type": "stream",
          "text": [
            "Model: \"sequential_59\"\n",
            "_________________________________________________________________\n",
            "Layer (type)                 Output Shape              Param #   \n",
            "=================================================================\n",
            "dense_257 (Dense)            (None, 128)               2816      \n",
            "_________________________________________________________________\n",
            "dense_258 (Dense)            (None, 64)                8256      \n",
            "_________________________________________________________________\n",
            "dense_259 (Dense)            (None, 32)                2080      \n",
            "_________________________________________________________________\n",
            "dense_260 (Dense)            (None, 16)                528       \n",
            "_________________________________________________________________\n",
            "dense_261 (Dense)            (None, 3)                 51        \n",
            "=================================================================\n",
            "Total params: 13,731\n",
            "Trainable params: 13,731\n",
            "Non-trainable params: 0\n",
            "_________________________________________________________________\n"
          ],
          "name": "stdout"
        }
      ]
    },
    {
      "cell_type": "code",
      "metadata": {
        "colab": {
          "base_uri": "https://localhost:8080/"
        },
        "id": "3AWuqXRgCD9b",
        "outputId": "4faf4bb7-8529-44cb-888f-54feb5c3036b"
      },
      "source": [
        "es=EarlyStopping(monitor='val_loss', mode='min', verbose=1, patience=10)\n",
        "hist = model4.fit(X_train, y_train,epochs=1000, validation_split=0.3,callbacks=[es])"
      ],
      "execution_count": 576,
      "outputs": [
        {
          "output_type": "stream",
          "text": [
            "Epoch 1/1000\n",
            "3/3 [==============================] - 0s 57ms/step - loss: 1.0949 - accuracy: 0.4658 - val_loss: 0.9981 - val_accuracy: 0.6562\n",
            "Epoch 2/1000\n",
            "3/3 [==============================] - 0s 7ms/step - loss: 1.0085 - accuracy: 0.5068 - val_loss: 0.9287 - val_accuracy: 0.6875\n",
            "Epoch 3/1000\n",
            "3/3 [==============================] - 0s 6ms/step - loss: 0.9456 - accuracy: 0.5753 - val_loss: 0.8605 - val_accuracy: 0.8750\n",
            "Epoch 4/1000\n",
            "3/3 [==============================] - 0s 6ms/step - loss: 0.8797 - accuracy: 0.8630 - val_loss: 0.7865 - val_accuracy: 0.8750\n",
            "Epoch 5/1000\n",
            "3/3 [==============================] - 0s 5ms/step - loss: 0.8064 - accuracy: 0.8767 - val_loss: 0.7046 - val_accuracy: 0.8750\n",
            "Epoch 6/1000\n",
            "3/3 [==============================] - 0s 6ms/step - loss: 0.7382 - accuracy: 0.9041 - val_loss: 0.6241 - val_accuracy: 0.9375\n",
            "Epoch 7/1000\n",
            "3/3 [==============================] - 0s 6ms/step - loss: 0.6741 - accuracy: 0.9041 - val_loss: 0.5465 - val_accuracy: 0.9375\n",
            "Epoch 8/1000\n",
            "3/3 [==============================] - 0s 6ms/step - loss: 0.6058 - accuracy: 0.9315 - val_loss: 0.4717 - val_accuracy: 0.9375\n",
            "Epoch 9/1000\n",
            "3/3 [==============================] - 0s 6ms/step - loss: 0.5356 - accuracy: 0.9315 - val_loss: 0.4033 - val_accuracy: 0.9375\n",
            "Epoch 10/1000\n",
            "3/3 [==============================] - 0s 6ms/step - loss: 0.4669 - accuracy: 0.9178 - val_loss: 0.3376 - val_accuracy: 0.9375\n",
            "Epoch 11/1000\n",
            "3/3 [==============================] - 0s 7ms/step - loss: 0.3988 - accuracy: 0.9315 - val_loss: 0.2740 - val_accuracy: 0.9688\n",
            "Epoch 12/1000\n",
            "3/3 [==============================] - 0s 6ms/step - loss: 0.3301 - accuracy: 0.9315 - val_loss: 0.2269 - val_accuracy: 0.9688\n",
            "Epoch 13/1000\n",
            "3/3 [==============================] - 0s 6ms/step - loss: 0.2760 - accuracy: 0.9452 - val_loss: 0.1901 - val_accuracy: 0.9688\n",
            "Epoch 14/1000\n",
            "3/3 [==============================] - 0s 6ms/step - loss: 0.2274 - accuracy: 0.9452 - val_loss: 0.1690 - val_accuracy: 0.9688\n",
            "Epoch 15/1000\n",
            "3/3 [==============================] - 0s 6ms/step - loss: 0.1893 - accuracy: 0.9452 - val_loss: 0.1522 - val_accuracy: 0.9688\n",
            "Epoch 16/1000\n",
            "3/3 [==============================] - 0s 6ms/step - loss: 0.1637 - accuracy: 0.9589 - val_loss: 0.1398 - val_accuracy: 0.9688\n",
            "Epoch 17/1000\n",
            "3/3 [==============================] - 0s 6ms/step - loss: 0.1423 - accuracy: 0.9589 - val_loss: 0.1204 - val_accuracy: 0.9688\n",
            "Epoch 18/1000\n",
            "3/3 [==============================] - 0s 7ms/step - loss: 0.1261 - accuracy: 0.9863 - val_loss: 0.1072 - val_accuracy: 1.0000\n",
            "Epoch 19/1000\n",
            "3/3 [==============================] - 0s 7ms/step - loss: 0.1155 - accuracy: 0.9863 - val_loss: 0.0964 - val_accuracy: 0.9688\n",
            "Epoch 20/1000\n",
            "3/3 [==============================] - 0s 6ms/step - loss: 0.0969 - accuracy: 0.9863 - val_loss: 0.1019 - val_accuracy: 0.9688\n",
            "Epoch 21/1000\n",
            "3/3 [==============================] - 0s 6ms/step - loss: 0.0901 - accuracy: 0.9863 - val_loss: 0.0949 - val_accuracy: 0.9688\n",
            "Epoch 22/1000\n",
            "3/3 [==============================] - 0s 5ms/step - loss: 0.0806 - accuracy: 0.9863 - val_loss: 0.0800 - val_accuracy: 0.9688\n",
            "Epoch 23/1000\n",
            "3/3 [==============================] - 0s 6ms/step - loss: 0.0699 - accuracy: 0.9863 - val_loss: 0.0710 - val_accuracy: 0.9688\n",
            "Epoch 24/1000\n",
            "3/3 [==============================] - 0s 5ms/step - loss: 0.0625 - accuracy: 1.0000 - val_loss: 0.0677 - val_accuracy: 0.9688\n",
            "Epoch 25/1000\n",
            "3/3 [==============================] - 0s 6ms/step - loss: 0.0556 - accuracy: 1.0000 - val_loss: 0.0644 - val_accuracy: 0.9688\n",
            "Epoch 26/1000\n",
            "3/3 [==============================] - 0s 6ms/step - loss: 0.0507 - accuracy: 1.0000 - val_loss: 0.0657 - val_accuracy: 0.9688\n",
            "Epoch 27/1000\n",
            "3/3 [==============================] - 0s 6ms/step - loss: 0.0474 - accuracy: 1.0000 - val_loss: 0.0634 - val_accuracy: 0.9688\n",
            "Epoch 28/1000\n",
            "3/3 [==============================] - 0s 6ms/step - loss: 0.0421 - accuracy: 1.0000 - val_loss: 0.0572 - val_accuracy: 0.9688\n",
            "Epoch 29/1000\n",
            "3/3 [==============================] - 0s 5ms/step - loss: 0.0414 - accuracy: 1.0000 - val_loss: 0.0554 - val_accuracy: 0.9688\n",
            "Epoch 30/1000\n",
            "3/3 [==============================] - 0s 6ms/step - loss: 0.0351 - accuracy: 1.0000 - val_loss: 0.0566 - val_accuracy: 0.9688\n",
            "Epoch 31/1000\n",
            "3/3 [==============================] - 0s 6ms/step - loss: 0.0317 - accuracy: 1.0000 - val_loss: 0.0611 - val_accuracy: 0.9688\n",
            "Epoch 32/1000\n",
            "3/3 [==============================] - 0s 6ms/step - loss: 0.0329 - accuracy: 1.0000 - val_loss: 0.0653 - val_accuracy: 0.9688\n",
            "Epoch 33/1000\n",
            "3/3 [==============================] - 0s 6ms/step - loss: 0.0296 - accuracy: 1.0000 - val_loss: 0.0600 - val_accuracy: 0.9688\n",
            "Epoch 34/1000\n",
            "3/3 [==============================] - 0s 6ms/step - loss: 0.0254 - accuracy: 1.0000 - val_loss: 0.0573 - val_accuracy: 0.9688\n",
            "Epoch 35/1000\n",
            "3/3 [==============================] - 0s 6ms/step - loss: 0.0245 - accuracy: 1.0000 - val_loss: 0.0556 - val_accuracy: 0.9688\n",
            "Epoch 36/1000\n",
            "3/3 [==============================] - 0s 6ms/step - loss: 0.0225 - accuracy: 1.0000 - val_loss: 0.0579 - val_accuracy: 0.9688\n",
            "Epoch 37/1000\n",
            "3/3 [==============================] - 0s 6ms/step - loss: 0.0196 - accuracy: 1.0000 - val_loss: 0.0629 - val_accuracy: 0.9688\n",
            "Epoch 38/1000\n",
            "3/3 [==============================] - 0s 5ms/step - loss: 0.0193 - accuracy: 1.0000 - val_loss: 0.0637 - val_accuracy: 0.9688\n",
            "Epoch 39/1000\n",
            "3/3 [==============================] - 0s 5ms/step - loss: 0.0190 - accuracy: 1.0000 - val_loss: 0.0620 - val_accuracy: 0.9688\n",
            "Epoch 00039: early stopping\n"
          ],
          "name": "stdout"
        }
      ]
    },
    {
      "cell_type": "markdown",
      "metadata": {
        "id": "6CspOvyg8cvE"
      },
      "source": [
        "# 최종 성능 비교"
      ]
    },
    {
      "cell_type": "code",
      "metadata": {
        "id": "cTKtb5SXBqY6"
      },
      "source": [
        "from sklearn.metrics import accuracy_score"
      ],
      "execution_count": 577,
      "outputs": []
    },
    {
      "cell_type": "code",
      "metadata": {
        "colab": {
          "base_uri": "https://localhost:8080/"
        },
        "id": "xCh2N1nT-kwY",
        "outputId": "e4c86c30-b8ed-4899-a372-4578259b0cfb"
      },
      "source": [
        "model1_pre=model1.predict_classes(X_test_ver1)"
      ],
      "execution_count": 578,
      "outputs": [
        {
          "output_type": "stream",
          "text": [
            "WARNING:tensorflow:5 out of the last 19 calls to <function Model.make_predict_function.<locals>.predict_function at 0x7f3df6363048> triggered tf.function retracing. Tracing is expensive and the excessive number of tracings could be due to (1) creating @tf.function repeatedly in a loop, (2) passing tensors with different shapes, (3) passing Python objects instead of tensors. For (1), please define your @tf.function outside of the loop. For (2), @tf.function has experimental_relax_shapes=True option that relaxes argument shapes that can avoid unnecessary retracing. For (3), please refer to https://www.tensorflow.org/tutorials/customization/performance#python_or_tensor_args and https://www.tensorflow.org/api_docs/python/tf/function for  more details.\n"
          ],
          "name": "stdout"
        }
      ]
    },
    {
      "cell_type": "code",
      "metadata": {
        "id": "X-S_Cl3v_G4m"
      },
      "source": [
        "coll_list=[]\n",
        "for idx in range(y_test_ver1.shape[0]):\n",
        "  num=0\n",
        "  for ii in range(y_test_ver1.shape[1]):\n",
        "    if y_test[idx][ii] != 1:\n",
        "      num +=1\n",
        "    else:\n",
        "      coll_list.append(num)"
      ],
      "execution_count": 579,
      "outputs": []
    },
    {
      "cell_type": "code",
      "metadata": {
        "colab": {
          "base_uri": "https://localhost:8080/"
        },
        "id": "b1Mnb3osA6IN",
        "outputId": "8c67083e-a249-4cda-ccf9-59a241f776b3"
      },
      "source": [
        "accuracy_score(coll_list,model1_pre)"
      ],
      "execution_count": 580,
      "outputs": [
        {
          "output_type": "execute_result",
          "data": {
            "text/plain": [
              "0.3111111111111111"
            ]
          },
          "metadata": {
            "tags": []
          },
          "execution_count": 580
        }
      ]
    },
    {
      "cell_type": "code",
      "metadata": {
        "colab": {
          "base_uri": "https://localhost:8080/"
        },
        "id": "sLiaHDeuBe_s",
        "outputId": "7777b463-d4eb-4e07-b60f-39fbce34bb2a"
      },
      "source": [
        "model2_pre=model2.predict_classes(X_test_ver1)"
      ],
      "execution_count": 581,
      "outputs": [
        {
          "output_type": "stream",
          "text": [
            "WARNING:tensorflow:6 out of the last 21 calls to <function Model.make_predict_function.<locals>.predict_function at 0x7f3df6302a60> triggered tf.function retracing. Tracing is expensive and the excessive number of tracings could be due to (1) creating @tf.function repeatedly in a loop, (2) passing tensors with different shapes, (3) passing Python objects instead of tensors. For (1), please define your @tf.function outside of the loop. For (2), @tf.function has experimental_relax_shapes=True option that relaxes argument shapes that can avoid unnecessary retracing. For (3), please refer to https://www.tensorflow.org/tutorials/customization/performance#python_or_tensor_args and https://www.tensorflow.org/api_docs/python/tf/function for  more details.\n"
          ],
          "name": "stdout"
        }
      ]
    },
    {
      "cell_type": "code",
      "metadata": {
        "colab": {
          "base_uri": "https://localhost:8080/"
        },
        "id": "QKz05VUfBlBW",
        "outputId": "935bfed7-5d83-4b69-d66b-5a299725a49f"
      },
      "source": [
        "accuracy_score(coll_list,model2_pre)"
      ],
      "execution_count": 582,
      "outputs": [
        {
          "output_type": "execute_result",
          "data": {
            "text/plain": [
              "0.8666666666666667"
            ]
          },
          "metadata": {
            "tags": []
          },
          "execution_count": 582
        }
      ]
    },
    {
      "cell_type": "code",
      "metadata": {
        "id": "qxvMpmliBv5q"
      },
      "source": [
        "coll_list=[]\n",
        "for idx in range(y_test_ver2.shape[0]):\n",
        "  num=0\n",
        "  for ii in range(y_test_ver2.shape[1]):\n",
        "    if y_test[idx][ii] != 1:\n",
        "      num +=1\n",
        "    else:\n",
        "      coll_list.append(num)"
      ],
      "execution_count": 583,
      "outputs": []
    },
    {
      "cell_type": "code",
      "metadata": {
        "colab": {
          "base_uri": "https://localhost:8080/"
        },
        "id": "EJatjyWdBzFW",
        "outputId": "08c41586-daf7-4e16-c291-70ca13b7b3fb"
      },
      "source": [
        "model3_pre=model3.predict_classes(X_test_ver2)"
      ],
      "execution_count": 584,
      "outputs": [
        {
          "output_type": "stream",
          "text": [
            "WARNING:tensorflow:6 out of the last 11 calls to <function Model.make_predict_function.<locals>.predict_function at 0x7f3df64949d8> triggered tf.function retracing. Tracing is expensive and the excessive number of tracings could be due to (1) creating @tf.function repeatedly in a loop, (2) passing tensors with different shapes, (3) passing Python objects instead of tensors. For (1), please define your @tf.function outside of the loop. For (2), @tf.function has experimental_relax_shapes=True option that relaxes argument shapes that can avoid unnecessary retracing. For (3), please refer to https://www.tensorflow.org/tutorials/customization/performance#python_or_tensor_args and https://www.tensorflow.org/api_docs/python/tf/function for  more details.\n"
          ],
          "name": "stdout"
        }
      ]
    },
    {
      "cell_type": "code",
      "metadata": {
        "colab": {
          "base_uri": "https://localhost:8080/"
        },
        "id": "I7BkSDuVB0eA",
        "outputId": "6ae65733-dc82-4c7f-ce76-00f3bc7d8ed1"
      },
      "source": [
        "accuracy_score(coll_list,model3_pre)"
      ],
      "execution_count": 585,
      "outputs": [
        {
          "output_type": "execute_result",
          "data": {
            "text/plain": [
              "0.9111111111111111"
            ]
          },
          "metadata": {
            "tags": []
          },
          "execution_count": 585
        }
      ]
    },
    {
      "cell_type": "code",
      "metadata": {
        "colab": {
          "base_uri": "https://localhost:8080/"
        },
        "id": "jU8jxJNnCHh6",
        "outputId": "4315ec98-5e74-49df-9ebf-8a020509d80d"
      },
      "source": [
        "model4_pre=model4.predict_classes(X_test_ver2)"
      ],
      "execution_count": 586,
      "outputs": [
        {
          "output_type": "stream",
          "text": [
            "WARNING:tensorflow:6 out of the last 11 calls to <function Model.make_predict_function.<locals>.predict_function at 0x7f3df627f1e0> triggered tf.function retracing. Tracing is expensive and the excessive number of tracings could be due to (1) creating @tf.function repeatedly in a loop, (2) passing tensors with different shapes, (3) passing Python objects instead of tensors. For (1), please define your @tf.function outside of the loop. For (2), @tf.function has experimental_relax_shapes=True option that relaxes argument shapes that can avoid unnecessary retracing. For (3), please refer to https://www.tensorflow.org/tutorials/customization/performance#python_or_tensor_args and https://www.tensorflow.org/api_docs/python/tf/function for  more details.\n"
          ],
          "name": "stdout"
        }
      ]
    },
    {
      "cell_type": "code",
      "metadata": {
        "colab": {
          "base_uri": "https://localhost:8080/"
        },
        "id": "_iSOhk2GCJTA",
        "outputId": "be4d8450-4594-44f5-e598-50eca3d2be63"
      },
      "source": [
        "accuracy_score(coll_list,model4_pre)"
      ],
      "execution_count": 587,
      "outputs": [
        {
          "output_type": "execute_result",
          "data": {
            "text/plain": [
              "0.9111111111111111"
            ]
          },
          "metadata": {
            "tags": []
          },
          "execution_count": 587
        }
      ]
    },
    {
      "cell_type": "markdown",
      "metadata": {
        "id": "6FSLFnQECc1Q"
      },
      "source": [
        "- 신경망 모델1 test accuracy: 0.31\n",
        "- 신경망 모델2 test accuracy: 0.86\n",
        "- 신경망 모델3 test accuracy: 0.91\n",
        "- 신경망 모델4 test accuracy: 0.91"
      ]
    },
    {
      "cell_type": "markdown",
      "metadata": {
        "id": "bEFiwaqdC327"
      },
      "source": [
        "확실히 변수의 다양성을 준 데이터를 기반으로 학습한 모델(3,4)이 성능이 더 좋게 나온다. 하지만 애초에 학습데이터가 적기 때문에 4개의 모델 모두, 성능을 완벽하게 신뢰할 수는 없다. 데이터가 더 확보가 되면 더 많은 성능 차이를 발견할 수 있을 것으로 판단된다."
      ]
    }
  ]
}