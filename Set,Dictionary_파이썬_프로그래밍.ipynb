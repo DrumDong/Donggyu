{
  "nbformat": 4,
  "nbformat_minor": 0,
  "metadata": {
    "colab": {
      "name": "Set,Dictionary_파이썬 프로그래밍.ipynb",
      "provenance": [],
      "collapsed_sections": [],
      "include_colab_link": true
    },
    "kernelspec": {
      "name": "python3",
      "display_name": "Python 3"
    }
  },
  "cells": [
    {
      "cell_type": "markdown",
      "metadata": {
        "id": "view-in-github",
        "colab_type": "text"
      },
      "source": [
        "<a href=\"https://colab.research.google.com/github/DrumDong/Donggyu/blob/master/Set%2CDictionary_%ED%8C%8C%EC%9D%B4%EC%8D%AC_%ED%94%84%EB%A1%9C%EA%B7%B8%EB%9E%98%EB%B0%8D.ipynb\" target=\"_parent\"><img src=\"https://colab.research.google.com/assets/colab-badge.svg\" alt=\"Open In Colab\"/></a>"
      ]
    },
    {
      "cell_type": "markdown",
      "metadata": {
        "id": "gq145rYSdTLZ",
        "colab_type": "text"
      },
      "source": [
        "# Set\n",
        "- 중복허용 X  <-> list와는 다름\n",
        "- 순서가 없음\n",
        "- {} : 빈껍데기로 만들면 set형태가 아니라 dict형태로 만들어짐 ★\n",
        "- mutable 타입\n",
        "- 집합자료형이라 중복값이 없음"
      ]
    },
    {
      "cell_type": "code",
      "metadata": {
        "id": "pRkorW33dXFb",
        "colab_type": "code",
        "outputId": "c6ebcd8e-bd09-443f-b1ee-cfbaba305bbb",
        "colab": {
          "base_uri": "https://localhost:8080/",
          "height": 35
        }
      },
      "source": [
        "set_a ={1,2,3,4,5,1,1,1}\n",
        "set_a # 중복 X"
      ],
      "execution_count": 0,
      "outputs": [
        {
          "output_type": "execute_result",
          "data": {
            "text/plain": [
              "{1, 2, 3, 4, 5}"
            ]
          },
          "metadata": {
            "tags": []
          },
          "execution_count": 138
        }
      ]
    },
    {
      "cell_type": "code",
      "metadata": {
        "id": "KVCkbItUd4Os",
        "colab_type": "code",
        "outputId": "f2098952-d604-45f0-99cb-a1a02ad91aa6",
        "colab": {
          "base_uri": "https://localhost:8080/",
          "height": 54
        }
      },
      "source": [
        "set_b = {}\n",
        "print(set_a,'type:',type(set_a))\n",
        "print(set_b,'type:',type(set_b))"
      ],
      "execution_count": 0,
      "outputs": [
        {
          "output_type": "stream",
          "text": [
            "{1, 2, 3, 4, 5} type: <class 'set'>\n",
            "{} type: <class 'dict'>\n"
          ],
          "name": "stdout"
        }
      ]
    },
    {
      "cell_type": "markdown",
      "metadata": {
        "id": "FJUBFhtteKi2",
        "colab_type": "text"
      },
      "source": [
        "## set() 함수 사용"
      ]
    },
    {
      "cell_type": "code",
      "metadata": {
        "id": "lIX6kqzTeOee",
        "colab_type": "code",
        "outputId": "c0391b45-cf2f-4843-be17-d975722076d6",
        "colab": {
          "base_uri": "https://localhost:8080/",
          "height": 35
        }
      },
      "source": [
        "KK = [1,2,3,4,5,5,5]\n",
        "s = set(KK)\n",
        "s # set 형태로 바뀌고 중복값이 사라진 것을 알 수 있음."
      ],
      "execution_count": 0,
      "outputs": [
        {
          "output_type": "execute_result",
          "data": {
            "text/plain": [
              "{1, 2, 3, 4, 5}"
            ]
          },
          "metadata": {
            "tags": []
          },
          "execution_count": 140
        }
      ]
    },
    {
      "cell_type": "code",
      "metadata": {
        "id": "azOwu814fDkA",
        "colab_type": "code",
        "outputId": "f6f2ad08-0244-4337-dbfd-e3463ec5db06",
        "colab": {
          "base_uri": "https://localhost:8080/",
          "height": 35
        }
      },
      "source": [
        "kk =list(s)\n",
        "kk # 리스트에서 중복값 제거 기능이랑 똑같이 활용 가능"
      ],
      "execution_count": 0,
      "outputs": [
        {
          "output_type": "execute_result",
          "data": {
            "text/plain": [
              "[1, 2, 3, 4, 5]"
            ]
          },
          "metadata": {
            "tags": []
          },
          "execution_count": 141
        }
      ]
    },
    {
      "cell_type": "code",
      "metadata": {
        "id": "jYnccrbEfm1c",
        "colab_type": "code",
        "outputId": "db45f7d2-1c44-4e58-fdfd-e3c1b63e2642",
        "colab": {
          "base_uri": "https://localhost:8080/",
          "height": 109
        }
      },
      "source": [
        "for a in s:\n",
        "  print(a)"
      ],
      "execution_count": 0,
      "outputs": [
        {
          "output_type": "stream",
          "text": [
            "1\n",
            "2\n",
            "3\n",
            "4\n",
            "5\n"
          ],
          "name": "stdout"
        }
      ]
    },
    {
      "cell_type": "code",
      "metadata": {
        "id": "C7J7kmnilyOb",
        "colab_type": "code",
        "outputId": "74aff236-7c95-43a6-bec2-5a75b6ea4f08",
        "colab": {
          "base_uri": "https://localhost:8080/",
          "height": 91
        }
      },
      "source": [
        "s = {1,3,5,3,21}\n",
        "for i in s:\n",
        "  print(i)"
      ],
      "execution_count": 0,
      "outputs": [
        {
          "output_type": "stream",
          "text": [
            "1\n",
            "21\n",
            "3\n",
            "5\n"
          ],
          "name": "stdout"
        }
      ]
    },
    {
      "cell_type": "markdown",
      "metadata": {
        "id": "EuUu1AbKmeAR",
        "colab_type": "text"
      },
      "source": [
        "순서가 없는 것을 알고 있자."
      ]
    },
    {
      "cell_type": "markdown",
      "metadata": {
        "id": "b9a_RBu7fxT2",
        "colab_type": "text"
      },
      "source": [
        "## Hashing\n",
        "- 임의의 길이의 데이터를 고정된 길이의 데이터로 맵핑하는 함수\n",
        "- id를 찍으면 물리적인 공간으로 나오지만 hash()로 찍으면 구별될 수 있는 hash value를 반환 -> 눈에 보이는 값, 같은 hash value를 갖고 있어도 값이 다를 수 있음\n",
        "- 즉 hash value가 다르면 진짜 다른 것 ★\n",
        "- unhashable 타입 : mutable 타입 변수는(List, set,dictionary) hash 구분이 안됨. ★"
      ]
    },
    {
      "cell_type": "code",
      "metadata": {
        "id": "qFNa7C53jj1h",
        "colab_type": "code",
        "outputId": "bba6c472-4e71-43e0-fc87-e5a0c69c4ce7",
        "colab": {
          "base_uri": "https://localhost:8080/",
          "height": 91
        }
      },
      "source": [
        "# 연습문제\n",
        "# 1. 집합자료형 사용 없이 중복 값 제거\n",
        "a = [1,2,3,3,4,3,5,7,7]\n",
        "k=[]\n",
        "for i in range(len(a)):\n",
        "  if a[i] not in a[i+1:]:\n",
        "    k.append(a[i])\n",
        "print('First question:',a)\n",
        "print('First answer:',k)\n",
        "\n",
        "# 2. 집합자료형을 사용해서 중복 값 제거\n",
        "k = set(a)\n",
        "print('Second question:',a)\n",
        "print('Second answer:',k)\n"
      ],
      "execution_count": 0,
      "outputs": [
        {
          "output_type": "stream",
          "text": [
            "First question: [1, 2, 3, 3, 4, 3, 5, 7, 7]\n",
            "First answer: [1, 2, 4, 3, 5, 7]\n",
            "Second question: [1, 2, 3, 3, 4, 3, 5, 7, 7]\n",
            "Second answer: {1, 2, 3, 4, 5, 7}\n"
          ],
          "name": "stdout"
        }
      ]
    },
    {
      "cell_type": "markdown",
      "metadata": {
        "id": "42YYufXpnFuy",
        "colab_type": "text"
      },
      "source": [
        "1 번 문제의 순서가 깨지는 이유는 if문 지정을 잘못 했음.\n",
        "- 중복값 중 항상 맨 마지막 값을 받는 알고리즘으로 되어 있기 때문이다."
      ]
    },
    {
      "cell_type": "markdown",
      "metadata": {
        "id": "Db8cRHvVnVSZ",
        "colab_type": "text"
      },
      "source": [
        "직접 정의한 Class의 Hashability 시험 x"
      ]
    },
    {
      "cell_type": "markdown",
      "metadata": {
        "id": "8YzoX7lUoNVi",
        "colab_type": "text"
      },
      "source": [
        "## 아이템 추가 및 삭제"
      ]
    },
    {
      "cell_type": "code",
      "metadata": {
        "id": "jAv91BbKoUTn",
        "colab_type": "code",
        "outputId": "3b284382-056b-4f46-bd69-860f870e026f",
        "colab": {
          "base_uri": "https://localhost:8080/",
          "height": 72
        }
      },
      "source": [
        "a= [1,2,3,4,7]\n",
        "set_a = set(a)\n",
        "print('set_a:',set_a)\n",
        "\n",
        "#추가\n",
        "set_a.add(100)\n",
        "print(set_a)\n",
        "\n",
        "#삭제\n",
        "set_a.remove(4)\n",
        "print(set_a)"
      ],
      "execution_count": 0,
      "outputs": [
        {
          "output_type": "stream",
          "text": [
            "set_a: {1, 2, 3, 4, 7}\n",
            "{1, 2, 3, 4, 100, 7}\n",
            "{1, 2, 3, 100, 7}\n"
          ],
          "name": "stdout"
        }
      ]
    },
    {
      "cell_type": "code",
      "metadata": {
        "id": "Sw-x_JyNpLBt",
        "colab_type": "code",
        "outputId": "7da3abf6-caf5-4c53-a103-08dcd890bb04",
        "colab": {
          "base_uri": "https://localhost:8080/",
          "height": 230
        }
      },
      "source": [
        "# update\n",
        "a= [1,2,3,4,7]\n",
        "set_a = set(a)\n",
        "\n",
        "print('set_a:',set_a)\n",
        "b=['s','1']\n",
        "set_a.add(b)"
      ],
      "execution_count": 0,
      "outputs": [
        {
          "output_type": "stream",
          "text": [
            "set_a: {1, 2, 3, 4, 7}\n"
          ],
          "name": "stdout"
        },
        {
          "output_type": "error",
          "ename": "TypeError",
          "evalue": "ignored",
          "traceback": [
            "\u001b[0;31m---------------------------------------------------------------------------\u001b[0m",
            "\u001b[0;31mTypeError\u001b[0m                                 Traceback (most recent call last)",
            "\u001b[0;32m<ipython-input-146-5e0a3b8e9d9d>\u001b[0m in \u001b[0;36m<module>\u001b[0;34m()\u001b[0m\n\u001b[1;32m      4\u001b[0m \u001b[0mprint\u001b[0m\u001b[0;34m(\u001b[0m\u001b[0;34m'set_a:'\u001b[0m\u001b[0;34m,\u001b[0m\u001b[0mset_a\u001b[0m\u001b[0;34m)\u001b[0m\u001b[0;34m\u001b[0m\u001b[0;34m\u001b[0m\u001b[0m\n\u001b[1;32m      5\u001b[0m \u001b[0mb\u001b[0m\u001b[0;34m=\u001b[0m\u001b[0;34m[\u001b[0m\u001b[0;34m's'\u001b[0m\u001b[0;34m,\u001b[0m\u001b[0;34m'1'\u001b[0m\u001b[0;34m]\u001b[0m\u001b[0;34m\u001b[0m\u001b[0;34m\u001b[0m\u001b[0m\n\u001b[0;32m----> 6\u001b[0;31m \u001b[0mset_a\u001b[0m\u001b[0;34m.\u001b[0m\u001b[0madd\u001b[0m\u001b[0;34m(\u001b[0m\u001b[0mb\u001b[0m\u001b[0;34m)\u001b[0m\u001b[0;34m\u001b[0m\u001b[0;34m\u001b[0m\u001b[0m\n\u001b[0m",
            "\u001b[0;31mTypeError\u001b[0m: unhashable type: 'list'"
          ]
        }
      ]
    },
    {
      "cell_type": "markdown",
      "metadata": {
        "id": "UfGH-bSlp-qg",
        "colab_type": "text"
      },
      "source": [
        "- add 는 오류가 나는 것을 알 수 있음."
      ]
    },
    {
      "cell_type": "code",
      "metadata": {
        "id": "nM208xqMpd-j",
        "colab_type": "code",
        "colab": {}
      },
      "source": [
        "a= [1,2,3,4,7]\n",
        "set_a = set(a)\n",
        "\n",
        "print('set_a:',set_a)\n",
        "b=['s','1']\n",
        "\n",
        "set_a.update(b)\n",
        "print(set_a)"
      ],
      "execution_count": 0,
      "outputs": []
    },
    {
      "cell_type": "code",
      "metadata": {
        "id": "iAYrKB55qVjZ",
        "colab_type": "code",
        "colab": {}
      },
      "source": [
        "#clear\n",
        "set_a.clear()\n",
        "print(set_a)"
      ],
      "execution_count": 0,
      "outputs": []
    },
    {
      "cell_type": "markdown",
      "metadata": {
        "id": "n7jTvdRYqbfE",
        "colab_type": "text"
      },
      "source": [
        "## 집합 간 비교"
      ]
    },
    {
      "cell_type": "code",
      "metadata": {
        "id": "i46RMUD_qeK-",
        "colab_type": "code",
        "colab": {}
      },
      "source": [
        "a= {1,2,3,4,5}\n",
        "b={1,3,5}\n",
        "\n",
        "print(a.issuperset(b))\n",
        "print(b.issuperset(a))\n",
        "print(a.issubset(b))\n",
        "print(b.issubset(a))"
      ],
      "execution_count": 0,
      "outputs": []
    },
    {
      "cell_type": "code",
      "metadata": {
        "id": "FydBEEvsq6kn",
        "colab_type": "code",
        "colab": {}
      },
      "source": [
        "# 교집합\n",
        "#intersection 메서드 활용\n",
        "a = {1,2,3,4,5}\n",
        "b = {1,3,5}\n",
        "c = a.intersection(b)\n",
        "d = b.intersection(a)\n",
        "\n",
        "e = a & b\n",
        "\n",
        "print(c)\n",
        "print(d)\n",
        "print(e)\n"
      ],
      "execution_count": 0,
      "outputs": []
    },
    {
      "cell_type": "markdown",
      "metadata": {
        "id": "F1jJ5UB0x0lv",
        "colab_type": "text"
      },
      "source": [
        "## 집합 연산\n",
        "- union : 합집합\n",
        "- difference : 차집합"
      ]
    },
    {
      "cell_type": "code",
      "metadata": {
        "id": "xgnY1YKfx1mQ",
        "colab_type": "code",
        "colab": {}
      },
      "source": [
        "# 실습\n",
        "a =[10,20,30,40,30,20,10]\n",
        "b= [i for i in range(0,100,2)]\n",
        "\n",
        "# 두 객체를 집합 자료형으로 변환하여 합집합, 교집합 객체를 구하고, 각각을 오름차순 정렬로 출력할 것\n",
        "set_a = set(a)\n",
        "set_b = set(b)\n",
        "\n",
        "print('합집합:',sorted(set_a.union(set_b)))\n",
        "print('교집합:',sorted(set_a & set_b))"
      ],
      "execution_count": 0,
      "outputs": []
    },
    {
      "cell_type": "code",
      "metadata": {
        "id": "-FOZQ1vz23pT",
        "colab_type": "code",
        "colab": {}
      },
      "source": [
        "a.sort()\n",
        "print(a)"
      ],
      "execution_count": 0,
      "outputs": []
    },
    {
      "cell_type": "code",
      "metadata": {
        "id": "DpqoEPXD2rGY",
        "colab_type": "code",
        "colab": {}
      },
      "source": [
        "set_a.sort()"
      ],
      "execution_count": 0,
      "outputs": []
    },
    {
      "cell_type": "markdown",
      "metadata": {
        "id": "MdrFJHBI2YNk",
        "colab_type": "text"
      },
      "source": [
        "여기서 주의할 점은 sort는 set의 내장함수가 아니라는 것을 알아두자."
      ]
    },
    {
      "cell_type": "markdown",
      "metadata": {
        "id": "G6wMe2n-2wwh",
        "colab_type": "text"
      },
      "source": [
        "# Dictionary\n",
        "- {:}를 사용\n",
        "- value 에는 타입,중복 다 상관없음."
      ]
    },
    {
      "cell_type": "code",
      "metadata": {
        "id": "f-bXVlOn3OK2",
        "colab_type": "code",
        "colab": {}
      },
      "source": [
        "test_dict1 = dict(a=1,b=2) #key는 무조건 문자열★ 따옴표 금지 value값은 아무거나 와도 노상관\n",
        "test_dict2 = {'a':10,1:'k','c':1,2:4}"
      ],
      "execution_count": 0,
      "outputs": []
    },
    {
      "cell_type": "code",
      "metadata": {
        "id": "cJO4daeI5L1c",
        "colab_type": "code",
        "colab": {}
      },
      "source": [
        "test_dict2"
      ],
      "execution_count": 0,
      "outputs": []
    },
    {
      "cell_type": "code",
      "metadata": {
        "id": "uBVSx4AJ7d4E",
        "colab_type": "code",
        "colab": {}
      },
      "source": [
        "#추가\n",
        "test_dict2['kk'] = '010-7542-9928'\n",
        "test_dict2"
      ],
      "execution_count": 0,
      "outputs": []
    },
    {
      "cell_type": "code",
      "metadata": {
        "id": "JLk4P8nr6f4l",
        "colab_type": "code",
        "colab": {}
      },
      "source": [
        "# 복수 딕셔너리도 가능\n",
        "infomation = {'Donggyu':{'name':'kim','age':26},'kk':{'name':'dong','age':80}}\n",
        "infomation['kk']['age']"
      ],
      "execution_count": 0,
      "outputs": []
    },
    {
      "cell_type": "markdown",
      "metadata": {
        "id": "1V-YcyQ57ojW",
        "colab_type": "text"
      },
      "source": [
        "### keys,values,items -> for문으로 작동시키기 위해 존재하는 함수들\n",
        "- keys() : 키만 반환\n",
        "- values(): values만 반환\n",
        "- items : 튜플로 감싸서 반환\n",
        "- 순서 있는 것 아님 ! -> for문 돌렸을 때 순서대로 나오는 것 맹신 x"
      ]
    },
    {
      "cell_type": "code",
      "metadata": {
        "id": "r0vhcCM78jZq",
        "colab_type": "code",
        "colab": {}
      },
      "source": [
        "test_dict = {'name':'John','age':15,'height':160}\n",
        "print(test_dict)"
      ],
      "execution_count": 0,
      "outputs": []
    },
    {
      "cell_type": "code",
      "metadata": {
        "id": "BpbEZAuZ83f2",
        "colab_type": "code",
        "colab": {}
      },
      "source": [
        "test_dict.keys()"
      ],
      "execution_count": 0,
      "outputs": []
    },
    {
      "cell_type": "code",
      "metadata": {
        "id": "IcMLKnno-G5T",
        "colab_type": "code",
        "colab": {}
      },
      "source": [
        "for k in test_dict.keys():\n",
        "  print(k,test_dict[k])"
      ],
      "execution_count": 0,
      "outputs": []
    },
    {
      "cell_type": "code",
      "metadata": {
        "id": "fcXUOn-X91U7",
        "colab_type": "code",
        "colab": {}
      },
      "source": [
        "for k in test_dict:       #그냥 딕셔너리를 for문으로 돌리면 keys()로 for문을 돌린 것과 일치\n",
        "  print(k,test_dict[k])"
      ],
      "execution_count": 0,
      "outputs": []
    },
    {
      "cell_type": "code",
      "metadata": {
        "id": "5uFAlm_n9I94",
        "colab_type": "code",
        "colab": {}
      },
      "source": [
        "for values"
      ],
      "execution_count": 0,
      "outputs": []
    },
    {
      "cell_type": "code",
      "metadata": {
        "id": "6lBPrg9586ZH",
        "colab_type": "code",
        "colab": {}
      },
      "source": [
        "test_dict.values()"
      ],
      "execution_count": 0,
      "outputs": []
    },
    {
      "cell_type": "code",
      "metadata": {
        "id": "3hASPzOF9Tk4",
        "colab_type": "code",
        "colab": {}
      },
      "source": [
        "test_dict.items()"
      ],
      "execution_count": 0,
      "outputs": []
    },
    {
      "cell_type": "code",
      "metadata": {
        "id": "MGXZirjR9eXu",
        "colab_type": "code",
        "colab": {}
      },
      "source": [
        "print(test_dict.items())\n",
        "\n",
        "for k,v in test_dict.items():\n",
        "  print(k,v)"
      ],
      "execution_count": 0,
      "outputs": []
    },
    {
      "cell_type": "code",
      "metadata": {
        "id": "mg_N8ApZ-ZaZ",
        "colab_type": "code",
        "outputId": "ef680ea9-ab20-48a7-d1b6-8edad7fc2273",
        "colab": {
          "base_uri": "https://localhost:8080/",
          "height": 54
        }
      },
      "source": [
        "# 실습\n",
        "list_a = ['A','B','C','D','E']\n",
        "list_b = [1,1,2,1,3]\n",
        "\n",
        "late_dict ={}\n",
        "# 1. 학생의 이름을 key로 가지며, 학생이 지각한 횟구를 value로 갖는 dict를 생성하고 출력\n",
        "\n",
        "for i in range(len(list_a)):\n",
        "  late_dict[list_a[i]]=list_b[i]\n",
        "\n",
        "print(late_dict)\n",
        "\n",
        "# 2. 아래의 list를 이용하여 1)에서 생성된 dictionary를 업데이트하고 업데이트된 dictionary를 출력하여라\n",
        "# list_c는 수업마다 지각한 학생들이 기록된 리스트이며, 하루에 한 명씩만 지각했다고 가정한다.\n",
        "list_c = ['A','C','E','F','G','B','A','F']\n",
        "\n",
        "for late in list_c:\n",
        "  if late in late_dict.keys():\n",
        "    late_dict[late] +=1\n",
        "  else:                 # 'F'와 'B'가 없으므로\n",
        "    late_dict[late] =1\n",
        "\n",
        "print(late_dict)"
      ],
      "execution_count": 0,
      "outputs": [
        {
          "output_type": "stream",
          "text": [
            "{'A': 1, 'B': 1, 'C': 2, 'D': 1, 'E': 3}\n",
            "{'A': 3, 'B': 2, 'C': 3, 'D': 1, 'E': 4, 'F': 2, 'G': 1}\n"
          ],
          "name": "stdout"
        }
      ]
    },
    {
      "cell_type": "code",
      "metadata": {
        "id": "b3cqPdjRAgCI",
        "colab_type": "code",
        "outputId": "acb3c172-0c3f-4cda-8462-cea0d2877d14",
        "colab": {
          "base_uri": "https://localhost:8080/",
          "height": 248
        }
      },
      "source": [
        "for late in list_c:\n",
        "  print(late_dict[late])"
      ],
      "execution_count": 0,
      "outputs": [
        {
          "output_type": "stream",
          "text": [
            "6\n",
            "5\n",
            "6\n"
          ],
          "name": "stdout"
        },
        {
          "output_type": "error",
          "ename": "KeyError",
          "evalue": "ignored",
          "traceback": [
            "\u001b[0;31m---------------------------------------------------------------------------\u001b[0m",
            "\u001b[0;31mKeyError\u001b[0m                                  Traceback (most recent call last)",
            "\u001b[0;32m<ipython-input-147-e2546bfe065a>\u001b[0m in \u001b[0;36m<module>\u001b[0;34m()\u001b[0m\n\u001b[1;32m      1\u001b[0m \u001b[0;32mfor\u001b[0m \u001b[0mlate\u001b[0m \u001b[0;32min\u001b[0m \u001b[0mlist_c\u001b[0m\u001b[0;34m:\u001b[0m\u001b[0;34m\u001b[0m\u001b[0;34m\u001b[0m\u001b[0m\n\u001b[0;32m----> 2\u001b[0;31m   \u001b[0mprint\u001b[0m\u001b[0;34m(\u001b[0m\u001b[0mlate_dict\u001b[0m\u001b[0;34m[\u001b[0m\u001b[0mlate\u001b[0m\u001b[0;34m]\u001b[0m\u001b[0;34m)\u001b[0m\u001b[0;34m\u001b[0m\u001b[0;34m\u001b[0m\u001b[0m\n\u001b[0m",
            "\u001b[0;31mKeyError\u001b[0m: 'F'"
          ]
        }
      ]
    },
    {
      "cell_type": "markdown",
      "metadata": {
        "id": "ejK7sro1Ds2d",
        "colab_type": "text"
      },
      "source": [
        "이것이 안되는 이유는 'F'가 late_dict에 없기 때문에 오류가 발생하기 때문이다."
      ]
    },
    {
      "cell_type": "markdown",
      "metadata": {
        "id": "TpY-3xe-FJ1K",
        "colab_type": "text"
      },
      "source": [
        "### defaultdict 로 해결"
      ]
    },
    {
      "cell_type": "code",
      "metadata": {
        "id": "09ZNsHQdFN4J",
        "colab_type": "code",
        "outputId": "e37e2b37-0785-4d46-f168-3de4d989c260",
        "colab": {
          "base_uri": "https://localhost:8080/",
          "height": 35
        }
      },
      "source": [
        "from collections import defaultdict\n",
        "name_dict= defaultdict(int)\n",
        "\n",
        "for late in list_c:\n",
        "  late_dict[late] +=1\n",
        "\n",
        "print(late_dict)"
      ],
      "execution_count": 0,
      "outputs": [
        {
          "output_type": "stream",
          "text": [
            "{'A': 5, 'B': 3, 'C': 4, 'D': 1, 'E': 5, 'F': 4, 'G': 2}\n"
          ],
          "name": "stdout"
        }
      ]
    }
  ]
}