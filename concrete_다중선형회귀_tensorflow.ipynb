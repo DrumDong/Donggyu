{
  "nbformat": 4,
  "nbformat_minor": 0,
  "metadata": {
    "colab": {
      "name": "concrete_다중선형회귀_tensorflow.ipynb",
      "provenance": [],
      "include_colab_link": true
    },
    "kernelspec": {
      "name": "python3",
      "display_name": "Python 3"
    }
  },
  "cells": [
    {
      "cell_type": "markdown",
      "metadata": {
        "id": "view-in-github",
        "colab_type": "text"
      },
      "source": [
        "<a href=\"https://colab.research.google.com/github/DrumDong/Donggyu/blob/master/concrete_%EB%8B%A4%EC%A4%91%EC%84%A0%ED%98%95%ED%9A%8C%EA%B7%80_tensorflow.ipynb\" target=\"_parent\"><img src=\"https://colab.research.google.com/assets/colab-badge.svg\" alt=\"Open In Colab\"/></a>"
      ]
    },
    {
      "cell_type": "code",
      "metadata": {
        "id": "FJVpex0splJa",
        "colab_type": "code",
        "colab": {}
      },
      "source": [
        "import pandas as pd\n",
        "import numpy as np\n",
        "import matplotlib.pyplot as plt\n",
        "import tensorflow as tf\n",
        "#from keras.models import Sequential\n",
        "#from keras.layers import Dense"
      ],
      "execution_count": 0,
      "outputs": []
    },
    {
      "cell_type": "code",
      "metadata": {
        "id": "ayimSG53p8Hu",
        "colab_type": "code",
        "outputId": "3083dca4-2312-4746-a9bb-8342b5ff9b1c",
        "colab": {
          "base_uri": "https://localhost:8080/",
          "height": 35
        }
      },
      "source": [
        "from google.colab import drive\n",
        "drive.mount('/content/drive')"
      ],
      "execution_count": 53,
      "outputs": [
        {
          "output_type": "stream",
          "text": [
            "Drive already mounted at /content/drive; to attempt to forcibly remount, call drive.mount(\"/content/drive\", force_remount=True).\n"
          ],
          "name": "stdout"
        }
      ]
    },
    {
      "cell_type": "code",
      "metadata": {
        "id": "YwGlS9v2qLQE",
        "colab_type": "code",
        "outputId": "f2302048-cf7b-451d-f38b-f2691789e59c",
        "colab": {
          "base_uri": "https://localhost:8080/",
          "height": 198
        }
      },
      "source": [
        "dataset = pd.read_csv('/content/drive/My Drive/Colab Notebooks/IT신기술/concrete.csv')\n",
        "dataset.head()"
      ],
      "execution_count": 54,
      "outputs": [
        {
          "output_type": "execute_result",
          "data": {
            "text/html": [
              "<div>\n",
              "<style scoped>\n",
              "    .dataframe tbody tr th:only-of-type {\n",
              "        vertical-align: middle;\n",
              "    }\n",
              "\n",
              "    .dataframe tbody tr th {\n",
              "        vertical-align: top;\n",
              "    }\n",
              "\n",
              "    .dataframe thead th {\n",
              "        text-align: right;\n",
              "    }\n",
              "</style>\n",
              "<table border=\"1\" class=\"dataframe\">\n",
              "  <thead>\n",
              "    <tr style=\"text-align: right;\">\n",
              "      <th></th>\n",
              "      <th>cement</th>\n",
              "      <th>slag</th>\n",
              "      <th>ash</th>\n",
              "      <th>water</th>\n",
              "      <th>superplastic</th>\n",
              "      <th>coarseagg</th>\n",
              "      <th>fineagg</th>\n",
              "      <th>age</th>\n",
              "      <th>strength</th>\n",
              "    </tr>\n",
              "  </thead>\n",
              "  <tbody>\n",
              "    <tr>\n",
              "      <th>0</th>\n",
              "      <td>540.0</td>\n",
              "      <td>0.0</td>\n",
              "      <td>0.0</td>\n",
              "      <td>162.0</td>\n",
              "      <td>2.5</td>\n",
              "      <td>1040.0</td>\n",
              "      <td>676.0</td>\n",
              "      <td>28</td>\n",
              "      <td>79.99</td>\n",
              "    </tr>\n",
              "    <tr>\n",
              "      <th>1</th>\n",
              "      <td>540.0</td>\n",
              "      <td>0.0</td>\n",
              "      <td>0.0</td>\n",
              "      <td>162.0</td>\n",
              "      <td>2.5</td>\n",
              "      <td>1055.0</td>\n",
              "      <td>676.0</td>\n",
              "      <td>28</td>\n",
              "      <td>61.89</td>\n",
              "    </tr>\n",
              "    <tr>\n",
              "      <th>2</th>\n",
              "      <td>332.5</td>\n",
              "      <td>142.5</td>\n",
              "      <td>0.0</td>\n",
              "      <td>228.0</td>\n",
              "      <td>0.0</td>\n",
              "      <td>932.0</td>\n",
              "      <td>594.0</td>\n",
              "      <td>270</td>\n",
              "      <td>40.27</td>\n",
              "    </tr>\n",
              "    <tr>\n",
              "      <th>3</th>\n",
              "      <td>332.5</td>\n",
              "      <td>142.5</td>\n",
              "      <td>0.0</td>\n",
              "      <td>228.0</td>\n",
              "      <td>0.0</td>\n",
              "      <td>932.0</td>\n",
              "      <td>594.0</td>\n",
              "      <td>365</td>\n",
              "      <td>41.05</td>\n",
              "    </tr>\n",
              "    <tr>\n",
              "      <th>4</th>\n",
              "      <td>198.6</td>\n",
              "      <td>132.4</td>\n",
              "      <td>0.0</td>\n",
              "      <td>192.0</td>\n",
              "      <td>0.0</td>\n",
              "      <td>978.4</td>\n",
              "      <td>825.5</td>\n",
              "      <td>360</td>\n",
              "      <td>44.30</td>\n",
              "    </tr>\n",
              "  </tbody>\n",
              "</table>\n",
              "</div>"
            ],
            "text/plain": [
              "   cement   slag  ash  water  superplastic  coarseagg  fineagg  age  strength\n",
              "0   540.0    0.0  0.0  162.0           2.5     1040.0    676.0   28     79.99\n",
              "1   540.0    0.0  0.0  162.0           2.5     1055.0    676.0   28     61.89\n",
              "2   332.5  142.5  0.0  228.0           0.0      932.0    594.0  270     40.27\n",
              "3   332.5  142.5  0.0  228.0           0.0      932.0    594.0  365     41.05\n",
              "4   198.6  132.4  0.0  192.0           0.0      978.4    825.5  360     44.30"
            ]
          },
          "metadata": {
            "tags": []
          },
          "execution_count": 54
        }
      ]
    },
    {
      "cell_type": "code",
      "metadata": {
        "id": "wDa3alSuAYse",
        "colab_type": "code",
        "colab": {
          "base_uri": "https://localhost:8080/",
          "height": 272
        },
        "outputId": "83789f2f-ea1a-4204-df87-f06cd5ebf742"
      },
      "source": [
        "dataset.info() # null값이 없음"
      ],
      "execution_count": 55,
      "outputs": [
        {
          "output_type": "stream",
          "text": [
            "<class 'pandas.core.frame.DataFrame'>\n",
            "RangeIndex: 1030 entries, 0 to 1029\n",
            "Data columns (total 9 columns):\n",
            "cement          1030 non-null float64\n",
            "slag            1030 non-null float64\n",
            "ash             1030 non-null float64\n",
            "water           1030 non-null float64\n",
            "superplastic    1030 non-null float64\n",
            "coarseagg       1030 non-null float64\n",
            "fineagg         1030 non-null float64\n",
            "age             1030 non-null int64\n",
            "strength        1030 non-null float64\n",
            "dtypes: float64(8), int64(1)\n",
            "memory usage: 72.5 KB\n"
          ],
          "name": "stdout"
        }
      ]
    },
    {
      "cell_type": "code",
      "metadata": {
        "id": "l37bGXWKNqAE",
        "colab_type": "code",
        "outputId": "6ac28186-9e0f-40c4-9c7d-ac97c3b8ee69",
        "colab": {
          "base_uri": "https://localhost:8080/",
          "height": 35
        }
      },
      "source": [
        "dataset.shape"
      ],
      "execution_count": 56,
      "outputs": [
        {
          "output_type": "execute_result",
          "data": {
            "text/plain": [
              "(1030, 9)"
            ]
          },
          "metadata": {
            "tags": []
          },
          "execution_count": 56
        }
      ]
    },
    {
      "cell_type": "markdown",
      "metadata": {
        "id": "FejbA1wvA2aS",
        "colab_type": "text"
      },
      "source": [
        "# data Nomalization\n",
        "\n",
        "- def norm(x):\n",
        "\n",
        "    _max = x.max()\n",
        "\n",
        "    _min = x.min()\n",
        "\n",
        "    _denom = _max - _min\n",
        "\n",
        "    return (x - _min) / _denom"
      ]
    },
    {
      "cell_type": "code",
      "metadata": {
        "id": "EqGD28pbBYg9",
        "colab_type": "code",
        "colab": {
          "base_uri": "https://localhost:8080/",
          "height": 126
        },
        "outputId": "4b6f33dc-bee3-49ca-bc28-499a8276eaec"
      },
      "source": [
        "from sklearn.preprocessing import MinMaxScaler\n",
        "print(dataset.head())"
      ],
      "execution_count": 57,
      "outputs": [
        {
          "output_type": "stream",
          "text": [
            "   cement   slag  ash  water  superplastic  coarseagg  fineagg  age  strength\n",
            "0   540.0    0.0  0.0  162.0           2.5     1040.0    676.0   28     79.99\n",
            "1   540.0    0.0  0.0  162.0           2.5     1055.0    676.0   28     61.89\n",
            "2   332.5  142.5  0.0  228.0           0.0      932.0    594.0  270     40.27\n",
            "3   332.5  142.5  0.0  228.0           0.0      932.0    594.0  365     41.05\n",
            "4   198.6  132.4  0.0  192.0           0.0      978.4    825.5  360     44.30\n"
          ],
          "name": "stdout"
        }
      ]
    },
    {
      "cell_type": "code",
      "metadata": {
        "id": "97Puu-4KA6a5",
        "colab_type": "code",
        "colab": {
          "base_uri": "https://localhost:8080/",
          "height": 35
        },
        "outputId": "70c147d2-c4d7-4ee1-ead1-d4fca70a8966"
      },
      "source": [
        "min_max_scaler = MinMaxScaler()\n",
        "fitted = min_max_scaler.fit(dataset)\n",
        "print(fitted.data_max_) # 각 컬럼에서 제일 큰 값들이 나옴"
      ],
      "execution_count": 58,
      "outputs": [
        {
          "output_type": "stream",
          "text": [
            "[ 540.   359.4  200.1  247.    32.2 1145.   992.6  365.    82.6]\n"
          ],
          "name": "stdout"
        }
      ]
    },
    {
      "cell_type": "code",
      "metadata": {
        "id": "91D3eJG6CWl9",
        "colab_type": "code",
        "colab": {
          "base_uri": "https://localhost:8080/",
          "height": 254
        },
        "outputId": "b4d992f0-753f-4a73-c490-ecfb5d0074c1"
      },
      "source": [
        "dataset_mms = min_max_scaler.transform(dataset)\n",
        "dataset_mms # numpy array로 반환됨"
      ],
      "execution_count": 59,
      "outputs": [
        {
          "output_type": "execute_result",
          "data": {
            "text/plain": [
              "array([[1.        , 0.        , 0.        , ..., 0.20572002, 0.07417582,\n",
              "        0.96748474],\n",
              "       [1.        , 0.        , 0.        , ..., 0.20572002, 0.07417582,\n",
              "        0.74199576],\n",
              "       [0.52625571, 0.39649416, 0.        , ..., 0.        , 0.73901099,\n",
              "        0.47265479],\n",
              "       ...,\n",
              "       [0.10616438, 0.38786867, 0.54272864, ..., 0.46663322, 0.07417582,\n",
              "        0.26622649],\n",
              "       [0.1303653 , 0.51947691, 0.        , ..., 0.48896136, 0.07417582,\n",
              "        0.37922013],\n",
              "       [0.36278539, 0.27963272, 0.39130435, ..., 0.42022077, 0.07417582,\n",
              "        0.37461069]])"
            ]
          },
          "metadata": {
            "tags": []
          },
          "execution_count": 59
        }
      ]
    },
    {
      "cell_type": "markdown",
      "metadata": {
        "id": "5bw8hpJcDWmy",
        "colab_type": "text"
      },
      "source": [
        "### dataframe form으로 바꾸기"
      ]
    },
    {
      "cell_type": "code",
      "metadata": {
        "id": "N06x_GwgCqMu",
        "colab_type": "code",
        "colab": {
          "base_uri": "https://localhost:8080/",
          "height": 163
        },
        "outputId": "75cbed1e-39ae-46c9-855a-4a648e65308f"
      },
      "source": [
        "dataset_mms = pd.DataFrame(dataset_mms,\n",
        "                           columns= dataset.columns,\n",
        "                           index = list(dataset.index.values))\n",
        "\n",
        "print(dataset_mms.head())"
      ],
      "execution_count": 60,
      "outputs": [
        {
          "output_type": "stream",
          "text": [
            "     cement      slag  ash     water  ...  coarseagg   fineagg       age  strength\n",
            "0  1.000000  0.000000  0.0  0.321086  ...   0.694767  0.205720  0.074176  0.967485\n",
            "1  1.000000  0.000000  0.0  0.321086  ...   0.738372  0.205720  0.074176  0.741996\n",
            "2  0.526256  0.396494  0.0  0.848243  ...   0.380814  0.000000  0.739011  0.472655\n",
            "3  0.526256  0.396494  0.0  0.848243  ...   0.380814  0.000000  1.000000  0.482372\n",
            "4  0.220548  0.368392  0.0  0.560703  ...   0.515698  0.580783  0.986264  0.522860\n",
            "\n",
            "[5 rows x 9 columns]\n"
          ],
          "name": "stdout"
        }
      ]
    },
    {
      "cell_type": "markdown",
      "metadata": {
        "id": "SzaLW4PXDi8U",
        "colab_type": "text"
      },
      "source": [
        "#dataframe form numpy 배열로 변환"
      ]
    },
    {
      "cell_type": "code",
      "metadata": {
        "id": "7p8liqQsrcxH",
        "colab_type": "code",
        "outputId": "d3fb759e-19cd-429d-ccd5-ed613996189f",
        "colab": {
          "base_uri": "https://localhost:8080/",
          "height": 254
        }
      },
      "source": [
        "# change dataset to numpy.array\n",
        "dataset_numpy = dataset_mms.values\n",
        "dataset_numpy"
      ],
      "execution_count": 61,
      "outputs": [
        {
          "output_type": "execute_result",
          "data": {
            "text/plain": [
              "array([[1.        , 0.        , 0.        , ..., 0.20572002, 0.07417582,\n",
              "        0.96748474],\n",
              "       [1.        , 0.        , 0.        , ..., 0.20572002, 0.07417582,\n",
              "        0.74199576],\n",
              "       [0.52625571, 0.39649416, 0.        , ..., 0.        , 0.73901099,\n",
              "        0.47265479],\n",
              "       ...,\n",
              "       [0.10616438, 0.38786867, 0.54272864, ..., 0.46663322, 0.07417582,\n",
              "        0.26622649],\n",
              "       [0.1303653 , 0.51947691, 0.        , ..., 0.48896136, 0.07417582,\n",
              "        0.37922013],\n",
              "       [0.36278539, 0.27963272, 0.39130435, ..., 0.42022077, 0.07417582,\n",
              "        0.37461069]])"
            ]
          },
          "metadata": {
            "tags": []
          },
          "execution_count": 61
        }
      ]
    },
    {
      "cell_type": "markdown",
      "metadata": {
        "id": "XpilH8OmrIAF",
        "colab_type": "text"
      },
      "source": [
        "# 2. data split"
      ]
    },
    {
      "cell_type": "code",
      "metadata": {
        "id": "g07EQfwUNbaZ",
        "colab_type": "code",
        "colab": {}
      },
      "source": [
        "from sklearn.model_selection import train_test_split"
      ],
      "execution_count": 0,
      "outputs": []
    },
    {
      "cell_type": "code",
      "metadata": {
        "id": "bbPcWbACP1Rj",
        "colab_type": "code",
        "colab": {}
      },
      "source": [
        "# train, test set 분할\n",
        "X_train,X_test,y_train,y_test = train_test_split(\n",
        "    dataset_numpy[:,:-1],dataset_numpy[:,[-1]],random_state=0\n",
        ")"
      ],
      "execution_count": 0,
      "outputs": []
    },
    {
      "cell_type": "code",
      "metadata": {
        "id": "lmXbwOn6QB08",
        "colab_type": "code",
        "outputId": "a7883117-af89-4b93-c923-febf247d13d1",
        "colab": {
          "base_uri": "https://localhost:8080/",
          "height": 90
        }
      },
      "source": [
        "print('X_train 크기:',X_train.shape)\n",
        "print('y_train 크기:',y_train.shape)\n",
        "print('X_test 크기:',X_test.shape)\n",
        "print('y_test 크기:',y_test.shape)"
      ],
      "execution_count": 64,
      "outputs": [
        {
          "output_type": "stream",
          "text": [
            "X_train 크기: (772, 8)\n",
            "y_train 크기: (772, 1)\n",
            "X_test 크기: (258, 8)\n",
            "y_test 크기: (258, 1)\n"
          ],
          "name": "stdout"
        }
      ]
    },
    {
      "cell_type": "markdown",
      "metadata": {
        "id": "c-bdH56ERY-f",
        "colab_type": "text"
      },
      "source": [
        "# tensoflow\n",
        "- 다중회귀분석"
      ]
    },
    {
      "cell_type": "code",
      "metadata": {
        "id": "U7tG8OjvR96i",
        "colab_type": "code",
        "colab": {}
      },
      "source": [
        "X = tf.placeholder('float',[None,8])\n",
        "Y = tf.placeholder('float',[None,1])"
      ],
      "execution_count": 0,
      "outputs": []
    },
    {
      "cell_type": "code",
      "metadata": {
        "id": "evjINDORTqoU",
        "colab_type": "code",
        "colab": {}
      },
      "source": [
        "W = tf.Variable(tf.random_normal([8,1]),name='weight')\n",
        "b = tf.Variable(tf.random_normal([1]),name='bias')"
      ],
      "execution_count": 0,
      "outputs": []
    },
    {
      "cell_type": "code",
      "metadata": {
        "id": "GBCcGrF8T_Tu",
        "colab_type": "code",
        "colab": {}
      },
      "source": [
        "hypothesis = tf.matmul(X,W)+b"
      ],
      "execution_count": 0,
      "outputs": []
    },
    {
      "cell_type": "markdown",
      "metadata": {
        "id": "gtZUC0Y6UHeo",
        "colab_type": "text"
      },
      "source": [
        "## Cost/Loss function"
      ]
    },
    {
      "cell_type": "code",
      "metadata": {
        "id": "0oNm72aXUUW-",
        "colab_type": "code",
        "colab": {}
      },
      "source": [
        "cost = tf.reduce_mean(tf.square(hypothesis -Y))\n",
        "train = tf.train.GradientDescentOptimizer(learning_rate=0.25).minimize(cost)"
      ],
      "execution_count": 0,
      "outputs": []
    },
    {
      "cell_type": "markdown",
      "metadata": {
        "id": "9Jwmts5EUng-",
        "colab_type": "text"
      },
      "source": [
        "## Accuracy computation"
      ]
    },
    {
      "cell_type": "code",
      "metadata": {
        "id": "B2afK-RgVdzQ",
        "colab_type": "code",
        "outputId": "8fe17910-f052-4687-a135-648a15e4bea1",
        "colab": {
          "base_uri": "https://localhost:8080/",
          "height": 72
        }
      },
      "source": [
        "with tf.Session() as sess:\n",
        "  # Initialize Tensorflow variavles\n",
        "   sess.run(tf.global_variables_initializer())\n",
        "\n",
        "   for step in range(10001):\n",
        "     cost_val,_ = sess.run([cost,train],\n",
        "                           feed_dict={X:X_train,Y:y_train})\n",
        "     if step!=0 and step % 10000 ==0:\n",
        "       print('최종 step:',step,'최종 train error cost:',cost_val)\n",
        "\n",
        "   print('------------------------')\n",
        "\n",
        "   cost_val,hy_val = sess.run([cost,hypothesis],feed_dict={X:X_test,Y:y_test})\n",
        "   print('test error cost:',cost_val)#,'hypothesis:',hy_val)\n",
        "   \n",
        "   #File = pd.DataFrame(hypothesis,y_test,columns=['hypothesis','y_test'])\n"
      ],
      "execution_count": 109,
      "outputs": [
        {
          "output_type": "stream",
          "text": [
            "최종 step: 10000 최종 train error cost: 0.01728079\n",
            "------------------------\n",
            "test error cost: 0.014885706\n"
          ],
          "name": "stdout"
        }
      ]
    },
    {
      "cell_type": "markdown",
      "metadata": {
        "id": "WgQhRTXzNh0v",
        "colab_type": "text"
      },
      "source": [
        "train_cost에서 최종적으로 0.0172로 머무른다. 0으로 가깝게 하고싶은데 계속 거기서 머물러 있는 이유를 찾아야할 것 같다. local minimum에 빠진 것인지, 아니면 활성화 함수를 활용해야하나..?"
      ]
    },
    {
      "cell_type": "markdown",
      "metadata": {
        "id": "aP_urzSTQ8eJ",
        "colab_type": "text"
      },
      "source": [
        "정규화를 할 때 split을 먼저하고 train과 test 데이터를 따로따로 해야하는지.. 같이해도 되는지..흠냐 고민이구만"
      ]
    }
  ]
}