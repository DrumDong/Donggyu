{
 "cells": [
  {
   "cell_type": "markdown",
   "metadata": {},
   "source": [
    "# 문자열 읽어오기\n",
    "\n",
    " - 문자열을 한 문장씩 읽어 온 후, a-z중 문자의 개수에 대한 정보 출력 및 저장"
   ]
  },
  {
   "cell_type": "code",
   "execution_count": 1,
   "metadata": {},
   "outputs": [
    {
     "name": "stdout",
     "output_type": "stream",
     "text": [
      "which letter? (a-z): a\n",
      "sum: : 3137\n",
      "avg: : 6.274\n",
      "max: : 15\n",
      "min: : 0\n",
      "file is saved at: C:\\Users\\ehdrb\\Desktop\\Spyder&Pycharm\\Python_Programing\\statistics_a.txt\n"
     ]
    }
   ],
   "source": [
    "import os.path\n",
    "\n",
    "def read_file(file_path_to_read):\n",
    "    f = open(file_path_to_read,'r')\n",
    "    line_list = []\n",
    "    for line in f:\n",
    "        line_list.append(line)\n",
    "    f.close()\n",
    "    return line_list\n",
    "\n",
    "def count_letter(line_list,letter_to_check):\n",
    "    count_list=[]\n",
    "    for sentence in line_list:\n",
    "        count_list.append(sentence.count(letter_to_check))\n",
    "\n",
    "    return count_list\n",
    "\n",
    "def get_statistics(count_list):\n",
    "    list_info = [sum(count_list),\n",
    "                 sum(count_list)/len(count_list),\n",
    "                 max(count_list),\n",
    "                 min(count_list)]\n",
    "\n",
    "    return list_info\n",
    "\n",
    "def write_result(file_path_to_write,list_info):\n",
    "    f = open(file_path_to_write,'w')\n",
    "    kk = ['sum:', 'avg:', 'max:', 'min:']\n",
    "\n",
    "    for i in range(0,4):\n",
    "        print(kk[i],':',list_info[i])\n",
    "        f.write(kk[i])\n",
    "        f.write(str(list_info[i]))\n",
    "        f.write('\\n')\n",
    "\n",
    "    #f.write('sum:')\n",
    "    #f.write(str(list_info[0]))\n",
    "    f.close()\n",
    "\n",
    "def main(file_path_to_read,file_path_to_write,letter_to_check):\n",
    "    line_list = read_file(file_path_to_read)\n",
    "    count_list = count_letter(line_list,letter_to_check)\n",
    "    list_info = get_statistics(count_list)\n",
    "    write_result(file_path_to_write,list_info)\n",
    "\n",
    "letter_to_check = input(\"which letter? (a-z): \")\n",
    "\n",
    "# FIXME\n",
    "file_path_to_read = 'C:\\\\Users\\\\ehdrb\\\\Desktop\\\\Spyder&Pycharm\\\\Python_Programing\\\\example.txt'\n",
    "file_path_to_write = 'C:\\\\Users\\\\ehdrb\\\\Desktop\\\\Spyder&Pycharm\\\\Python_Programing\\\\statistics_%s.txt' % letter_to_check\n",
    "\n",
    "main(file_path_to_read, file_path_to_write, letter_to_check)\n",
    "print(\"file is saved at: %s\" % file_path_to_write)\n",
    "\n"
   ]
  },
  {
   "cell_type": "code",
   "execution_count": null,
   "metadata": {},
   "outputs": [],
   "source": []
  }
 ],
 "metadata": {
  "kernelspec": {
   "display_name": "Python 3",
   "language": "python",
   "name": "python3"
  },
  "language_info": {
   "codemirror_mode": {
    "name": "ipython",
    "version": 3
   },
   "file_extension": ".py",
   "mimetype": "text/x-python",
   "name": "python",
   "nbconvert_exporter": "python",
   "pygments_lexer": "ipython3",
   "version": "3.7.3"
  }
 },
 "nbformat": 4,
 "nbformat_minor": 2
}
