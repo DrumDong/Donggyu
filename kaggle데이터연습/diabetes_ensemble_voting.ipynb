{
  "nbformat": 4,
  "nbformat_minor": 0,
  "metadata": {
    "colab": {
      "name": "diabetes_ensemble_voting.ipynb",
      "provenance": [],
      "collapsed_sections": [],
      "authorship_tag": "ABX9TyOugpz7waCN7sUVn3dDZ9lZ"
    },
    "kernelspec": {
      "name": "python3",
      "display_name": "Python 3"
    }
  },
  "cells": [
    {
      "cell_type": "code",
      "metadata": {
        "id": "2M2kWk6LSkw6",
        "colab_type": "code",
        "outputId": "2d02732e-5381-4c2d-a037-4efaaa3f6129",
        "colab": {
          "base_uri": "https://localhost:8080/",
          "height": 125
        }
      },
      "source": [
        "from google.colab import drive\n",
        "drive.mount('/content/drive')\n",
        "\n",
        "import pandas as pd\n",
        "import matplotlib.pyplot as plt\n",
        "import numpy as np\n",
        "\n",
        "from sklearn.preprocessing import Binarizer\n",
        "\n",
        "from sklearn.model_selection import train_test_split\n",
        "from sklearn.metrics import accuracy_score, precision_score,recall_score,roc_auc_score\n",
        "from sklearn.metrics import f1_score, confusion_matrix, precision_recall_curve, roc_curve\n",
        "from sklearn.preprocessing import StandardScaler"
      ],
      "execution_count": 4,
      "outputs": [
        {
          "output_type": "stream",
          "text": [
            "Go to this URL in a browser: https://accounts.google.com/o/oauth2/auth?client_id=947318989803-6bn6qk8qdgf4n4g3pfee6491hc0brc4i.apps.googleusercontent.com&redirect_uri=urn%3aietf%3awg%3aoauth%3a2.0%3aoob&response_type=code&scope=email%20https%3a%2f%2fwww.googleapis.com%2fauth%2fdocs.test%20https%3a%2f%2fwww.googleapis.com%2fauth%2fdrive%20https%3a%2f%2fwww.googleapis.com%2fauth%2fdrive.photos.readonly%20https%3a%2f%2fwww.googleapis.com%2fauth%2fpeopleapi.readonly\n",
            "\n",
            "Enter your authorization code:\n",
            "··········\n",
            "Mounted at /content/drive\n"
          ],
          "name": "stdout"
        }
      ]
    },
    {
      "cell_type": "code",
      "metadata": {
        "id": "oKPOSIIoHNTr",
        "colab_type": "code",
        "colab": {}
      },
      "source": [
        "def get_clf_eval(y_test,pred):\n",
        "  confusion = confusion_matrix(y_test,pred)\n",
        "  accuracy = accuracy_score(y_test,pred)\n",
        "  precision = precision_score(y_test,pred)\n",
        "  recall = recall_score(y_test,pred)\n",
        "  roc_score = roc_auc_score(y_test,pred)\n",
        "  # F1 스코어 추가\n",
        "  f1 = f1_score(y_test,pred)\n",
        "  print('오차행렬')\n",
        "  print(confusion)\n",
        "  # F1 스코어 print 추가\n",
        "  print('정확도:{0:4f},정밀도:{1:4f},재현율:{2:4f},F1:{3:4f},ROC AUC값:{4:4f}'.format(accuracy,precision,recall,f1,roc_score))\n",
        "\n",
        "def precision_recall_curve_plot(y_test,pred_proba_c1):\n",
        "  #임계값(threshold) ndarray와 임계값에 따른 정밀도, 재현율 ndarray추출.\n",
        "  precisions, recalls,thresholds = precision_recall_curve(y_test, pred_proba_c1)\n",
        "\n",
        "  # X축을 임계값, Y축을 정밀도 및 재현율 값으로 각각 plot을 그림.\n",
        "  plt.figure(figsize=(8,6))\n",
        "  threshold_boundary = thresholds.shape[0]\n",
        "  plt.plot(thresholds, precisions[0:threshold_boundary],linestyle='--',label='precision')\n",
        "  plt.plot(thresholds, recalls[0:threshold_boundary],label='recall')\n",
        "\n",
        "  #threshold 값 X축의 Scale을 0.1 단위로 변경\n",
        "  start, end = plt.xlim()\n",
        "  plt.xticks(np.round(np.arange(start,end,0.1),2))\n",
        "  \n",
        "  #label 및 legend 설정\n",
        "  plt.xlabel('Threshold value'); plt.ylabel('Precision and Recall value')\n",
        "  plt.legend();plt.grid()\n",
        "  plt.show()\n",
        "\n",
        "def get_eval_by_threshold(y_test,pred_proba_c1,thresholds):\n",
        "  # thresholds list 객체 내의 값을 차례로 iteration하면서 Evaluation 수행.\n",
        "  for custom_threshold in thresholds:\n",
        "    binarizer = Binarizer(threshold=custom_threshold).fit(pred_proba_c1)\n",
        "    custom_predict = binarizer.transform(pred_proba_c1)\n",
        "    print('임계값:',custom_threshold)\n",
        "    get_clf_eval(y_test,custom_predict)"
      ],
      "execution_count": 0,
      "outputs": []
    },
    {
      "cell_type": "code",
      "metadata": {
        "id": "WRJAREqLTF8B",
        "colab_type": "code",
        "outputId": "7c504831-de0f-4166-8eb5-309e1c54906a",
        "colab": {
          "base_uri": "https://localhost:8080/",
          "height": 195
        }
      },
      "source": [
        "diabetes = pd.read_csv('/content/drive/My Drive/Colab Notebooks/data/Kaggle_data/diabetes.csv')\n",
        "diabetes.head()"
      ],
      "execution_count": 6,
      "outputs": [
        {
          "output_type": "execute_result",
          "data": {
            "text/html": [
              "<div>\n",
              "<style scoped>\n",
              "    .dataframe tbody tr th:only-of-type {\n",
              "        vertical-align: middle;\n",
              "    }\n",
              "\n",
              "    .dataframe tbody tr th {\n",
              "        vertical-align: top;\n",
              "    }\n",
              "\n",
              "    .dataframe thead th {\n",
              "        text-align: right;\n",
              "    }\n",
              "</style>\n",
              "<table border=\"1\" class=\"dataframe\">\n",
              "  <thead>\n",
              "    <tr style=\"text-align: right;\">\n",
              "      <th></th>\n",
              "      <th>Pregnancies</th>\n",
              "      <th>Glucose</th>\n",
              "      <th>BloodPressure</th>\n",
              "      <th>SkinThickness</th>\n",
              "      <th>Insulin</th>\n",
              "      <th>BMI</th>\n",
              "      <th>DiabetesPedigreeFunction</th>\n",
              "      <th>Age</th>\n",
              "      <th>Outcome</th>\n",
              "    </tr>\n",
              "  </thead>\n",
              "  <tbody>\n",
              "    <tr>\n",
              "      <th>0</th>\n",
              "      <td>6</td>\n",
              "      <td>148</td>\n",
              "      <td>72</td>\n",
              "      <td>35</td>\n",
              "      <td>0</td>\n",
              "      <td>33.6</td>\n",
              "      <td>0.627</td>\n",
              "      <td>50</td>\n",
              "      <td>1</td>\n",
              "    </tr>\n",
              "    <tr>\n",
              "      <th>1</th>\n",
              "      <td>1</td>\n",
              "      <td>85</td>\n",
              "      <td>66</td>\n",
              "      <td>29</td>\n",
              "      <td>0</td>\n",
              "      <td>26.6</td>\n",
              "      <td>0.351</td>\n",
              "      <td>31</td>\n",
              "      <td>0</td>\n",
              "    </tr>\n",
              "    <tr>\n",
              "      <th>2</th>\n",
              "      <td>8</td>\n",
              "      <td>183</td>\n",
              "      <td>64</td>\n",
              "      <td>0</td>\n",
              "      <td>0</td>\n",
              "      <td>23.3</td>\n",
              "      <td>0.672</td>\n",
              "      <td>32</td>\n",
              "      <td>1</td>\n",
              "    </tr>\n",
              "    <tr>\n",
              "      <th>3</th>\n",
              "      <td>1</td>\n",
              "      <td>89</td>\n",
              "      <td>66</td>\n",
              "      <td>23</td>\n",
              "      <td>94</td>\n",
              "      <td>28.1</td>\n",
              "      <td>0.167</td>\n",
              "      <td>21</td>\n",
              "      <td>0</td>\n",
              "    </tr>\n",
              "    <tr>\n",
              "      <th>4</th>\n",
              "      <td>0</td>\n",
              "      <td>137</td>\n",
              "      <td>40</td>\n",
              "      <td>35</td>\n",
              "      <td>168</td>\n",
              "      <td>43.1</td>\n",
              "      <td>2.288</td>\n",
              "      <td>33</td>\n",
              "      <td>1</td>\n",
              "    </tr>\n",
              "  </tbody>\n",
              "</table>\n",
              "</div>"
            ],
            "text/plain": [
              "   Pregnancies  Glucose  BloodPressure  ...  DiabetesPedigreeFunction  Age  Outcome\n",
              "0            6      148             72  ...                     0.627   50        1\n",
              "1            1       85             66  ...                     0.351   31        0\n",
              "2            8      183             64  ...                     0.672   32        1\n",
              "3            1       89             66  ...                     0.167   21        0\n",
              "4            0      137             40  ...                     2.288   33        1\n",
              "\n",
              "[5 rows x 9 columns]"
            ]
          },
          "metadata": {
            "tags": []
          },
          "execution_count": 6
        }
      ]
    },
    {
      "cell_type": "code",
      "metadata": {
        "id": "bKzWy10ngTGL",
        "colab_type": "code",
        "outputId": "cc70817d-5f26-40f9-fe03-8749feaaaad2",
        "colab": {
          "base_uri": "https://localhost:8080/",
          "height": 70
        }
      },
      "source": [
        "diabetes['Outcome'].value_counts()"
      ],
      "execution_count": 7,
      "outputs": [
        {
          "output_type": "execute_result",
          "data": {
            "text/plain": [
              "0    500\n",
              "1    268\n",
              "Name: Outcome, dtype: int64"
            ]
          },
          "metadata": {
            "tags": []
          },
          "execution_count": 7
        }
      ]
    },
    {
      "cell_type": "code",
      "metadata": {
        "id": "-6jvaAnmB5-S",
        "colab_type": "code",
        "outputId": "22e0ed8f-ab45-4d28-f1e0-b427d4a2aa75",
        "colab": {
          "base_uri": "https://localhost:8080/",
          "height": 263
        }
      },
      "source": [
        "# feature의 타입과 Null 개수 파악\n",
        "diabetes.info()"
      ],
      "execution_count": 8,
      "outputs": [
        {
          "output_type": "stream",
          "text": [
            "<class 'pandas.core.frame.DataFrame'>\n",
            "RangeIndex: 768 entries, 0 to 767\n",
            "Data columns (total 9 columns):\n",
            "Pregnancies                 768 non-null int64\n",
            "Glucose                     768 non-null int64\n",
            "BloodPressure               768 non-null int64\n",
            "SkinThickness               768 non-null int64\n",
            "Insulin                     768 non-null int64\n",
            "BMI                         768 non-null float64\n",
            "DiabetesPedigreeFunction    768 non-null float64\n",
            "Age                         768 non-null int64\n",
            "Outcome                     768 non-null int64\n",
            "dtypes: float64(2), int64(7)\n",
            "memory usage: 54.1 KB\n"
          ],
          "name": "stdout"
        }
      ]
    },
    {
      "cell_type": "code",
      "metadata": {
        "id": "jrPD57mcB8Yk",
        "colab_type": "code",
        "outputId": "fcbeb42f-4d14-4746-e418-5a8806ac313f",
        "colab": {
          "base_uri": "https://localhost:8080/",
          "height": 228
        }
      },
      "source": [
        "# 독립변수, 종속변수 추출\n",
        "X = diabetes.iloc[:,:-1]\n",
        "Y = diabetes.iloc[:,-1]\n",
        "\n",
        "X_train,X_test,y_train,y_test = train_test_split(X,Y,test_size=0.2,\n",
        "                                                 random_state=156,stratify=Y)\n",
        "\n",
        "#로지스틱 회귀로 학습, 예측 및 평가\n",
        "from sklearn.linear_model import LogisticRegression\n",
        "lr_clf = LogisticRegression()\n",
        "lr_clf.fit(X_train,y_train)\n",
        "pred = lr_clf.predict(X_test)\n",
        "get_clf_eval(y_test,pred)"
      ],
      "execution_count": 9,
      "outputs": [
        {
          "output_type": "stream",
          "text": [
            "오차행렬\n",
            "[[88 12]\n",
            " [23 31]]\n",
            "정확도:0.772727,정밀도:0.720930,재현율:0.574074,F1:0.639175,ROC AUC값:0.727037\n"
          ],
          "name": "stdout"
        },
        {
          "output_type": "stream",
          "text": [
            "/usr/local/lib/python3.6/dist-packages/sklearn/linear_model/_logistic.py:940: ConvergenceWarning: lbfgs failed to converge (status=1):\n",
            "STOP: TOTAL NO. of ITERATIONS REACHED LIMIT.\n",
            "\n",
            "Increase the number of iterations (max_iter) or scale the data as shown in:\n",
            "    https://scikit-learn.org/stable/modules/preprocessing.html\n",
            "Please also refer to the documentation for alternative solver options:\n",
            "    https://scikit-learn.org/stable/modules/linear_model.html#logistic-regression\n",
            "  extra_warning_msg=_LOGISTIC_SOLVER_CONVERGENCE_MSG)\n"
          ],
          "name": "stderr"
        }
      ]
    },
    {
      "cell_type": "code",
      "metadata": {
        "id": "xBi9bjNlGVkm",
        "colab_type": "code",
        "outputId": "dd44fb2b-e450-4d5c-f2e8-4119dc3a67ec",
        "colab": {
          "base_uri": "https://localhost:8080/",
          "height": 388
        }
      },
      "source": [
        "# 정밀도 재현율 곡선을 보고 임곗값별 정밀도와 재현율 값의 변화 확인\n",
        "pred_proba_c1 = lr_clf.predict_proba(X_test)[:,1] #레이블 값이 1일때 예측 확률 추출\n",
        "precision_recall_curve_plot(y_test,pred_proba_c1)"
      ],
      "execution_count": 10,
      "outputs": [
        {
          "output_type": "display_data",
          "data": {
            "image/png": "[encoded data removed]",
            "text/plain": [
              "<Figure size 576x432 with 1 Axes>"
            ]
          },
          "metadata": {
            "tags": []
          }
        }
      ]
    },
    {
      "cell_type": "markdown",
      "metadata": {
        "id": "AQ-eEoEbIPR1",
        "colab_type": "text"
      },
      "source": [
        "여전히 정밀도, 재현율 두 지표 모두 낮음.(겹치는 곳에서 둘다 0.7이 안됨)\n",
        "\n",
        "어느 정도 데이터에 대한 점검이 필요함."
      ]
    },
    {
      "cell_type": "code",
      "metadata": {
        "id": "4Twjw8h5JvVT",
        "colab_type": "code",
        "outputId": "4ae6d4ec-f890-4226-fedb-499698426f26",
        "colab": {
          "base_uri": "https://localhost:8080/",
          "height": 284
        }
      },
      "source": [
        "diabetes.describe()"
      ],
      "execution_count": 11,
      "outputs": [
        {
          "output_type": "execute_result",
          "data": {
            "text/html": [
              "<div>\n",
              "<style scoped>\n",
              "    .dataframe tbody tr th:only-of-type {\n",
              "        vertical-align: middle;\n",
              "    }\n",
              "\n",
              "    .dataframe tbody tr th {\n",
              "        vertical-align: top;\n",
              "    }\n",
              "\n",
              "    .dataframe thead th {\n",
              "        text-align: right;\n",
              "    }\n",
              "</style>\n",
              "<table border=\"1\" class=\"dataframe\">\n",
              "  <thead>\n",
              "    <tr style=\"text-align: right;\">\n",
              "      <th></th>\n",
              "      <th>Pregnancies</th>\n",
              "      <th>Glucose</th>\n",
              "      <th>BloodPressure</th>\n",
              "      <th>SkinThickness</th>\n",
              "      <th>Insulin</th>\n",
              "      <th>BMI</th>\n",
              "      <th>DiabetesPedigreeFunction</th>\n",
              "      <th>Age</th>\n",
              "      <th>Outcome</th>\n",
              "    </tr>\n",
              "  </thead>\n",
              "  <tbody>\n",
              "    <tr>\n",
              "      <th>count</th>\n",
              "      <td>768.000000</td>\n",
              "      <td>768.000000</td>\n",
              "      <td>768.000000</td>\n",
              "      <td>768.000000</td>\n",
              "      <td>768.000000</td>\n",
              "      <td>768.000000</td>\n",
              "      <td>768.000000</td>\n",
              "      <td>768.000000</td>\n",
              "      <td>768.000000</td>\n",
              "    </tr>\n",
              "    <tr>\n",
              "      <th>mean</th>\n",
              "      <td>3.845052</td>\n",
              "      <td>120.894531</td>\n",
              "      <td>69.105469</td>\n",
              "      <td>20.536458</td>\n",
              "      <td>79.799479</td>\n",
              "      <td>31.992578</td>\n",
              "      <td>0.471876</td>\n",
              "      <td>33.240885</td>\n",
              "      <td>0.348958</td>\n",
              "    </tr>\n",
              "    <tr>\n",
              "      <th>std</th>\n",
              "      <td>3.369578</td>\n",
              "      <td>31.972618</td>\n",
              "      <td>19.355807</td>\n",
              "      <td>15.952218</td>\n",
              "      <td>115.244002</td>\n",
              "      <td>7.884160</td>\n",
              "      <td>0.331329</td>\n",
              "      <td>11.760232</td>\n",
              "      <td>0.476951</td>\n",
              "    </tr>\n",
              "    <tr>\n",
              "      <th>min</th>\n",
              "      <td>0.000000</td>\n",
              "      <td>0.000000</td>\n",
              "      <td>0.000000</td>\n",
              "      <td>0.000000</td>\n",
              "      <td>0.000000</td>\n",
              "      <td>0.000000</td>\n",
              "      <td>0.078000</td>\n",
              "      <td>21.000000</td>\n",
              "      <td>0.000000</td>\n",
              "    </tr>\n",
              "    <tr>\n",
              "      <th>25%</th>\n",
              "      <td>1.000000</td>\n",
              "      <td>99.000000</td>\n",
              "      <td>62.000000</td>\n",
              "      <td>0.000000</td>\n",
              "      <td>0.000000</td>\n",
              "      <td>27.300000</td>\n",
              "      <td>0.243750</td>\n",
              "      <td>24.000000</td>\n",
              "      <td>0.000000</td>\n",
              "    </tr>\n",
              "    <tr>\n",
              "      <th>50%</th>\n",
              "      <td>3.000000</td>\n",
              "      <td>117.000000</td>\n",
              "      <td>72.000000</td>\n",
              "      <td>23.000000</td>\n",
              "      <td>30.500000</td>\n",
              "      <td>32.000000</td>\n",
              "      <td>0.372500</td>\n",
              "      <td>29.000000</td>\n",
              "      <td>0.000000</td>\n",
              "    </tr>\n",
              "    <tr>\n",
              "      <th>75%</th>\n",
              "      <td>6.000000</td>\n",
              "      <td>140.250000</td>\n",
              "      <td>80.000000</td>\n",
              "      <td>32.000000</td>\n",
              "      <td>127.250000</td>\n",
              "      <td>36.600000</td>\n",
              "      <td>0.626250</td>\n",
              "      <td>41.000000</td>\n",
              "      <td>1.000000</td>\n",
              "    </tr>\n",
              "    <tr>\n",
              "      <th>max</th>\n",
              "      <td>17.000000</td>\n",
              "      <td>199.000000</td>\n",
              "      <td>122.000000</td>\n",
              "      <td>99.000000</td>\n",
              "      <td>846.000000</td>\n",
              "      <td>67.100000</td>\n",
              "      <td>2.420000</td>\n",
              "      <td>81.000000</td>\n",
              "      <td>1.000000</td>\n",
              "    </tr>\n",
              "  </tbody>\n",
              "</table>\n",
              "</div>"
            ],
            "text/plain": [
              "       Pregnancies     Glucose  ...         Age     Outcome\n",
              "count   768.000000  768.000000  ...  768.000000  768.000000\n",
              "mean      3.845052  120.894531  ...   33.240885    0.348958\n",
              "std       3.369578   31.972618  ...   11.760232    0.476951\n",
              "min       0.000000    0.000000  ...   21.000000    0.000000\n",
              "25%       1.000000   99.000000  ...   24.000000    0.000000\n",
              "50%       3.000000  117.000000  ...   29.000000    0.000000\n",
              "75%       6.000000  140.250000  ...   41.000000    1.000000\n",
              "max      17.000000  199.000000  ...   81.000000    1.000000\n",
              "\n",
              "[8 rows x 9 columns]"
            ]
          },
          "metadata": {
            "tags": []
          },
          "execution_count": 11
        }
      ]
    },
    {
      "cell_type": "markdown",
      "metadata": {
        "id": "hkVK63kyLAVs",
        "colab_type": "text"
      },
      "source": [
        "신체정보에 관한 데이터에 왜 0값이 있지??"
      ]
    },
    {
      "cell_type": "code",
      "metadata": {
        "id": "L-cDgEgfLFz_",
        "colab_type": "code",
        "outputId": "5872105b-081f-4ca2-b425-979dc705a3aa",
        "colab": {
          "base_uri": "https://localhost:8080/",
          "height": 335
        }
      },
      "source": [
        "plt.hist(diabetes['Glucose'],bins=10,color='Green')"
      ],
      "execution_count": 12,
      "outputs": [
        {
          "output_type": "execute_result",
          "data": {
            "text/plain": [
              "(array([  5.,   0.,   4.,  32., 156., 211., 163.,  95.,  56.,  46.]),\n",
              " array([  0. ,  19.9,  39.8,  59.7,  79.6,  99.5, 119.4, 139.3, 159.2,\n",
              "        179.1, 199. ]),\n",
              " <a list of 10 Patch objects>)"
            ]
          },
          "metadata": {
            "tags": []
          },
          "execution_count": 12
        },
        {
          "output_type": "display_data",
          "data": {
            "image/png": "[encoded data removed]",
            "text/plain": [
              "<Figure size 432x288 with 1 Axes>"
            ]
          },
          "metadata": {
            "tags": []
          }
        }
      ]
    },
    {
      "cell_type": "code",
      "metadata": {
        "id": "IRUPy-5RLSbO",
        "colab_type": "code",
        "outputId": "94a4e5ba-1f38-46ee-ebc1-9860fe853c8b",
        "colab": {
          "base_uri": "https://localhost:8080/",
          "height": 87
        }
      },
      "source": [
        "# min() 값이 0으로 되어 있는 피처에 대해 0 값의 건수 및 전체 데이터 건수 대비 몇 퍼센트의 비율로 존재하는지 확인해보자.\n",
        "'''BloodPressure\tSkinThickness\tInsulin\tBMI'''\n",
        "zero_features =['BloodPressure','SkinThickness','Insulin','BMI']\n",
        "\n",
        "#전체 데이터 건수\n",
        "total_count=len(diabetes)\n",
        "\n",
        "#피처별로 반복하면서 데이터 값이 0인 데이터 건수를 추출하고, 퍼센트 계산\n",
        "for feature in zero_features:\n",
        "  zero_count = diabetes[diabetes[feature]==0][feature].count()\n",
        "  print('{0} 0건수는 {1}, 퍼센트는 {2:2f}%'.format(feature,zero_count,\n",
        "                                            100*zero_count/total_count))"
      ],
      "execution_count": 13,
      "outputs": [
        {
          "output_type": "stream",
          "text": [
            "BloodPressure 0건수는 35, 퍼센트는 4.557292%\n",
            "SkinThickness 0건수는 227, 퍼센트는 29.557292%\n",
            "Insulin 0건수는 374, 퍼센트는 48.697917%\n",
            "BMI 0건수는 11, 퍼센트는 1.432292%\n"
          ],
          "name": "stdout"
        }
      ]
    },
    {
      "cell_type": "markdown",
      "metadata": {
        "id": "GCq9qgvtRR_L",
        "colab_type": "text"
      },
      "source": [
        "SkinThickness와 Insulin의 0값이 상당히 많음. 이를 평균으로 대체하자."
      ]
    },
    {
      "cell_type": "code",
      "metadata": {
        "id": "wVpR3eFOToBF",
        "colab_type": "code",
        "outputId": "34bf761c-4737-4eef-8ef6-2b74262628f5",
        "colab": {
          "base_uri": "https://localhost:8080/",
          "height": 105
        }
      },
      "source": [
        "# zeros_features 리스트 내부에 저장된 개별 피처들에 대해서 0값을 평균 값으로 대체\n",
        "mean_zero_features = diabetes[zero_features].mean()\n",
        "print(mean_zero_features)\n",
        "\n",
        "diabetes[zero_features] = diabetes[zero_features].replace(0,mean_zero_features)"
      ],
      "execution_count": 14,
      "outputs": [
        {
          "output_type": "stream",
          "text": [
            "BloodPressure    69.105469\n",
            "SkinThickness    20.536458\n",
            "Insulin          79.799479\n",
            "BMI              31.992578\n",
            "dtype: float64\n"
          ],
          "name": "stdout"
        }
      ]
    },
    {
      "cell_type": "code",
      "metadata": {
        "id": "Geq2LH9gRe49",
        "colab_type": "code",
        "outputId": "a2a7f622-eb3f-48e3-c39f-847432cd2b22",
        "colab": {
          "base_uri": "https://localhost:8080/",
          "height": 140
        }
      },
      "source": [
        "X = diabetes.iloc[:,:-1]\n",
        "y = diabetes.iloc[:,-1]\n",
        "\n",
        "# StandardScaler 클래스를 이용해 피처 데이터 세트에 일괄적으로 스케일링 적용\n",
        "scaler = StandardScaler()\n",
        "X_scaled = scaler.fit_transform(X)\n",
        "\n",
        "X_train,X_test,y_train,y_test = train_test_split(X_scaled,y,test_size=0.2,\n",
        "                                                 random_state=156,stratify=y)\n",
        "\n",
        "# 로지스틱 회귀로 학습, 예측 및 평가 수행\n",
        "lr_clf = LogisticRegression()\n",
        "lr_clf.fit(X_train,y_train)\n",
        "pred = lr_clf.predict(X_test)\n",
        "get_clf_eval(y_test,pred)\n",
        "\n",
        "print('\\n')\n",
        "'''\n",
        "성능 수치가 일정 수준 개선됨, 여전히 재현율 상태는 낮은 상태.\n",
        "임계값을 변화시키면서 성능 개선 수치를 확인해보자.\n",
        "'''"
      ],
      "execution_count": 15,
      "outputs": [
        {
          "output_type": "stream",
          "text": [
            "오차행렬\n",
            "[[90 10]\n",
            " [22 32]]\n",
            "정확도:0.792208,정밀도:0.761905,재현율:0.592593,F1:0.666667,ROC AUC값:0.746296\n",
            "\n",
            "\n"
          ],
          "name": "stdout"
        },
        {
          "output_type": "execute_result",
          "data": {
            "text/plain": [
              "'\\n성능 수치가 일정 수준 개선됨, 여전히 재현율 상태는 낮은 상태.\\n임계값을 변화시키면서 성능 개선 수치를 확인해보자.\\n'"
            ]
          },
          "metadata": {
            "tags": []
          },
          "execution_count": 15
        }
      ]
    },
    {
      "cell_type": "code",
      "metadata": {
        "id": "214MyznskeI6",
        "colab_type": "code",
        "outputId": "d29bbc58-5f9b-4774-8d22-b3175c54e222",
        "colab": {
          "base_uri": "https://localhost:8080/",
          "height": 721
        }
      },
      "source": [
        "# 임계값 0.3에서 0.5까지 0.03씩 변화시키면서 재현율과 다른 평가 지표의 값 변화 출력\n",
        "thresholds = [0.3,0.33,0.36,0.39,0.42,0.45,0.48,0.50]\n",
        "pred_proba = lr_clf.predict_proba(X_test)\n",
        "get_eval_by_threshold(y_test,pred_proba[:,1].reshape(-1,1),thresholds)"
      ],
      "execution_count": 16,
      "outputs": [
        {
          "output_type": "stream",
          "text": [
            "임계값: 0.3\n",
            "오차행렬\n",
            "[[66 34]\n",
            " [13 41]]\n",
            "정확도:0.694805,정밀도:0.546667,재현율:0.759259,F1:0.635659,ROC AUC값:0.709630\n",
            "임계값: 0.33\n",
            "오차행렬\n",
            "[[71 29]\n",
            " [13 41]]\n",
            "정확도:0.727273,정밀도:0.585714,재현율:0.759259,F1:0.661290,ROC AUC값:0.734630\n",
            "임계값: 0.36\n",
            "오차행렬\n",
            "[[76 24]\n",
            " [17 37]]\n",
            "정확도:0.733766,정밀도:0.606557,재현율:0.685185,F1:0.643478,ROC AUC값:0.722593\n",
            "임계값: 0.39\n",
            "오차행렬\n",
            "[[78 22]\n",
            " [18 36]]\n",
            "정확도:0.740260,정밀도:0.620690,재현율:0.666667,F1:0.642857,ROC AUC값:0.723333\n",
            "임계값: 0.42\n",
            "오차행렬\n",
            "[[84 16]\n",
            " [20 34]]\n",
            "정확도:0.766234,정밀도:0.680000,재현율:0.629630,F1:0.653846,ROC AUC값:0.734815\n",
            "임계값: 0.45\n",
            "오차행렬\n",
            "[[85 15]\n",
            " [20 34]]\n",
            "정확도:0.772727,정밀도:0.693878,재현율:0.629630,F1:0.660194,ROC AUC값:0.739815\n",
            "임계값: 0.48\n",
            "오차행렬\n",
            "[[88 12]\n",
            " [21 33]]\n",
            "정확도:0.785714,정밀도:0.733333,재현율:0.611111,F1:0.666667,ROC AUC값:0.745556\n",
            "임계값: 0.5\n",
            "오차행렬\n",
            "[[90 10]\n",
            " [22 32]]\n",
            "정확도:0.792208,정밀도:0.761905,재현율:0.592593,F1:0.666667,ROC AUC값:0.746296\n"
          ],
          "name": "stdout"
        }
      ]
    },
    {
      "cell_type": "markdown",
      "metadata": {
        "id": "K3NDABw7rH5e",
        "colab_type": "text"
      },
      "source": [
        "# 앙상블 적용"
      ]
    },
    {
      "cell_type": "markdown",
      "metadata": {
        "id": "C-huF22DrJPW",
        "colab_type": "text"
      },
      "source": [
        "## Voting"
      ]
    },
    {
      "cell_type": "code",
      "metadata": {
        "id": "o-Sne2jHv087",
        "colab_type": "code",
        "outputId": "9a3ded1a-5169-4e42-9626-24233e02cfef",
        "colab": {
          "base_uri": "https://localhost:8080/",
          "height": 492
        }
      },
      "source": [
        "from sklearn.ensemble import VotingClassifier\n",
        "\n",
        "from sklearn.ensemble import RandomForestClassifier\n",
        "from sklearn.linear_model import LogisticRegression\n",
        "from sklearn.svm import SVC\n",
        "\n",
        "log_clf = LogisticRegression(solver='liblinear')\n",
        "rnd_clf = RandomForestClassifier(n_estimators=200,max_depth=5)\n",
        "svm_clf = SVC(probability=True,gamma='auto')\n",
        "\n",
        "voting_clf_hard = VotingClassifier(\n",
        "    estimators=[('lr',log_clf),('rf',rnd_clf),('svc',svm_clf)],\n",
        "    voting='hard')\n",
        "\n",
        "voting_clf_soft = VotingClassifier(\n",
        "    estimators=[('lr',log_clf),('rf',rnd_clf),('svc',svm_clf)],\n",
        "    voting='soft')\n",
        "\n",
        "\n",
        "voting_clf_hard.fit(X_train,y_train)\n",
        "voting_clf_soft.fit(X_train,y_train)"
      ],
      "execution_count": 17,
      "outputs": [
        {
          "output_type": "execute_result",
          "data": {
            "text/plain": [
              "VotingClassifier(estimators=[('lr',\n",
              "                              LogisticRegression(C=1.0, class_weight=None,\n",
              "                                                 dual=False, fit_intercept=True,\n",
              "                                                 intercept_scaling=1,\n",
              "                                                 l1_ratio=None, max_iter=100,\n",
              "                                                 multi_class='auto',\n",
              "                                                 n_jobs=None, penalty='l2',\n",
              "                                                 random_state=None,\n",
              "                                                 solver='liblinear', tol=0.0001,\n",
              "                                                 verbose=0, warm_start=False)),\n",
              "                             ('rf',\n",
              "                              RandomForestClassifier(bootstrap=True,\n",
              "                                                     ccp_alpha=0.0,\n",
              "                                                     class_weight=Non...\n",
              "                                                     oob_score=False,\n",
              "                                                     random_state=None,\n",
              "                                                     verbose=0,\n",
              "                                                     warm_start=False)),\n",
              "                             ('svc',\n",
              "                              SVC(C=1.0, break_ties=False, cache_size=200,\n",
              "                                  class_weight=None, coef0=0.0,\n",
              "                                  decision_function_shape='ovr', degree=3,\n",
              "                                  gamma='auto', kernel='rbf', max_iter=-1,\n",
              "                                  probability=True, random_state=None,\n",
              "                                  shrinking=True, tol=0.001, verbose=False))],\n",
              "                 flatten_transform=True, n_jobs=None, voting='soft',\n",
              "                 weights=None)"
            ]
          },
          "metadata": {
            "tags": []
          },
          "execution_count": 17
        }
      ]
    },
    {
      "cell_type": "code",
      "metadata": {
        "id": "hcn94OFnyZSj",
        "colab_type": "code",
        "outputId": "5291b4c9-7969-400b-845b-77f0a434d954",
        "colab": {
          "base_uri": "https://localhost:8080/",
          "height": 545
        }
      },
      "source": [
        "from sklearn.metrics import accuracy_score\n",
        "\n",
        "for clf in (log_clf,rnd_clf,svm_clf,voting_clf_hard,voting_clf_soft):\n",
        "  clf.fit(X_train,y_train)\n",
        "  y_pred = clf.predict(X_test)\n",
        "  print(clf.__class__.__name__)\n",
        "  get_clf_eval(y_test,y_pred)\n",
        "  print('-------------------------------------------')"
      ],
      "execution_count": 18,
      "outputs": [
        {
          "output_type": "stream",
          "text": [
            "LogisticRegression\n",
            "오차행렬\n",
            "[[90 10]\n",
            " [22 32]]\n",
            "정확도:0.792208,정밀도:0.761905,재현율:0.592593,F1:0.666667,ROC AUC값:0.746296\n",
            "-------------------------------------------\n",
            "RandomForestClassifier\n",
            "오차행렬\n",
            "[[87 13]\n",
            " [24 30]]\n",
            "정확도:0.759740,정밀도:0.697674,재현율:0.555556,F1:0.618557,ROC AUC값:0.712778\n",
            "-------------------------------------------\n",
            "SVC\n",
            "오차행렬\n",
            "[[85 15]\n",
            " [24 30]]\n",
            "정확도:0.746753,정밀도:0.666667,재현율:0.555556,F1:0.606061,ROC AUC값:0.702778\n",
            "-------------------------------------------\n",
            "VotingClassifier\n",
            "오차행렬\n",
            "[[89 11]\n",
            " [23 31]]\n",
            "정확도:0.779221,정밀도:0.738095,재현율:0.574074,F1:0.645833,ROC AUC값:0.732037\n",
            "-------------------------------------------\n",
            "VotingClassifier\n",
            "오차행렬\n",
            "[[88 12]\n",
            " [24 30]]\n",
            "정확도:0.766234,정밀도:0.714286,재현율:0.555556,F1:0.625000,ROC AUC값:0.717778\n",
            "-------------------------------------------\n"
          ],
          "name": "stdout"
        }
      ]
    },
    {
      "cell_type": "markdown",
      "metadata": {
        "id": "U7hntznk2iBq",
        "colab_type": "text"
      },
      "source": [
        "왜 VotingClassifier의 성능이 더 안좋게 나오는 것일까..?"
      ]
    },
    {
      "cell_type": "code",
      "metadata": {
        "id": "QROZxTSB2oPv",
        "colab_type": "code",
        "outputId": "e62e7330-5ad2-4e3a-cd75-ea381433501f",
        "colab": {
          "base_uri": "https://localhost:8080/",
          "height": 105
        }
      },
      "source": [
        "for clf in (log_clf,rnd_clf,svm_clf,voting_clf_hard,voting_clf_soft):\n",
        "  clf.fit(X_train,y_train)\n",
        "  y_pred = clf.predict(X_test)\n",
        "  print(clf.__class__.__name__,accuracy_score(y_test,y_pred))"
      ],
      "execution_count": 19,
      "outputs": [
        {
          "output_type": "stream",
          "text": [
            "LogisticRegression 0.7922077922077922\n",
            "RandomForestClassifier 0.7597402597402597\n",
            "SVC 0.7467532467532467\n",
            "VotingClassifier 0.7857142857142857\n",
            "VotingClassifier 0.7662337662337663\n"
          ],
          "name": "stdout"
        }
      ]
    },
    {
      "cell_type": "markdown",
      "metadata": {
        "id": "XNtx5JoKHnnf",
        "colab_type": "text"
      },
      "source": [
        "보팅으로 여러 개의 기반 분류기를 결합한다고 해서 무조건 기반 분류기보다 예측 성능이 향상되지는 않는다.\n",
        "\n",
        " **데이터의 특성과 분포 등 다양한 요건에 따라 오히려 기반 분류기 중 가장 좋은 분류기의 성능이 보팅했을 때보다 나을 수도 있다.**"
      ]
    },
    {
      "cell_type": "markdown",
      "metadata": {
        "id": "Dm3V_lhiIWbw",
        "colab_type": "text"
      },
      "source": [
        "편향- 분산 트레이드오프는 ML 모델이 극복해야할 중요 과제임.\n",
        "- 보팅과 스태킹 등은 서로 다른 알고리즘을 기반으로 하고 있지만, 배깅과 부스팅은 대부분 결정트리 알고리즘을 기반으로 한다.\n",
        "- 결정트리 알고리즘은 쉽고 직관적인 분류 기준을 가지고 있지만 정확한 예측을 위해 학습 데이터의 예외 상황에 집착한 나머지 오히려 과적합이 발생할 가능성이 높음 -> 그 단점을 보완하기 위해 앙상블 방법을 사용하는 것\n",
        "\n",
        "*`-from 파이썬 머신러닝 완벽가이드-`*"
      ]
    },
    {
      "cell_type": "markdown",
      "metadata": {
        "id": "eJ0gmuPaLrS1",
        "colab_type": "text"
      },
      "source": [
        "## 배깅, 페이스팅\n",
        "- 같은 알고리즘을 사용하지만 훈련 세트의 서브셋을 무작위로 구성하여 분류기(모델)을 각기 다르게 학습시킴.\n",
        "  - 배깅: 중복허용\n",
        "  - 페이스팅: 중복허용 x\n",
        "  - 배깅이 페이스팅보다 편향이 조금 더 높으나 예측기들간의 상관관계가 낮아짐 -> 앙상블의 분산 감소"
      ]
    },
    {
      "cell_type": "code",
      "metadata": {
        "id": "d-8FJtJxMMi6",
        "colab_type": "code",
        "outputId": "025cdd9a-b321-48c6-8f42-628b9b26edb1",
        "colab": {
          "base_uri": "https://localhost:8080/",
          "height": 193
        }
      },
      "source": [
        "from sklearn.ensemble import BaggingClassifier\n",
        "from sklearn.tree import DecisionTreeClassifier\n",
        "\n",
        "\n",
        "for bootstrap in [True,False]:  \n",
        "  bag_clf = BaggingClassifier(\n",
        "  DecisionTreeClassifier(max_depth=10),n_estimators=1000,\n",
        "  max_samples = 0.7, bootstrap= bootstrap, n_jobs=-1) \n",
        "  \n",
        "  bag_clf.fit(X_train,y_train)\n",
        "  y_pred = bag_clf.predict(X_test)\n",
        "  \n",
        "  print(bag_clf.__class__.__name__)\n",
        "  get_clf_eval(y_test,y_pred)"
      ],
      "execution_count": 29,
      "outputs": [
        {
          "output_type": "stream",
          "text": [
            "BaggingClassifier\n",
            "오차행렬\n",
            "[[86 14]\n",
            " [22 32]]\n",
            "정확도:0.766234,정밀도:0.695652,재현율:0.592593,F1:0.640000,ROC AUC값:0.726296\n",
            "BaggingClassifier\n",
            "오차행렬\n",
            "[[83 17]\n",
            " [23 31]]\n",
            "정확도:0.740260,정밀도:0.645833,재현율:0.574074,F1:0.607843,ROC AUC값:0.702037\n"
          ],
          "name": "stdout"
        }
      ]
    },
    {
      "cell_type": "markdown",
      "metadata": {
        "id": "F04xPckyePPU",
        "colab_type": "text"
      },
      "source": [
        "### oob 평가 (out-of-bag)\n",
        "- 배깅을 사용하면 어떤 샘플은 한 예측기를 위해 여러 번 샘플링되고 어떤 것은 전혀 선택되지 않을 수 있음.\n",
        "- 평균적으로 각 예측기에 64%만 채택 -> 나머지 36%의 데이터셋(예측기마다 남겨진 oob는 다름)을 검증 세트나 교차 검증을 사용하지 않고 oob 샘플을 사용해 평가할 수 있음."
      ]
    },
    {
      "cell_type": "code",
      "metadata": {
        "id": "s2h5IMBJiWjt",
        "colab_type": "code",
        "colab": {
          "base_uri": "https://localhost:8080/",
          "height": 52
        },
        "outputId": "0a676e67-ae38-405a-fca4-b36cbdfcb8f1"
      },
      "source": [
        "bag_clf = BaggingClassifier(\n",
        "    DecisionTreeClassifier(max_depth=10),n_estimators=1000,\n",
        "    max_samples = 0.7, bootstrap= True,oob_score=True,n_jobs=-1)\n",
        "  \n",
        "bag_clf.fit(X_train,y_train)\n",
        "y_pred = bag_clf.predict(X_test)\n",
        "  \n",
        "print(bag_clf.__class__.__name__)\n",
        "#get_clf_eval(y_test,y_pred)\n",
        "bag_clf.oob_score_"
      ],
      "execution_count": 30,
      "outputs": [
        {
          "output_type": "stream",
          "text": [
            "BaggingClassifier\n"
          ],
          "name": "stdout"
        },
        {
          "output_type": "execute_result",
          "data": {
            "text/plain": [
              "0.7671009771986971"
            ]
          },
          "metadata": {
            "tags": []
          },
          "execution_count": 30
        }
      ]
    },
    {
      "cell_type": "markdown",
      "metadata": {
        "id": "Lgo7Ndd7kL8-",
        "colab_type": "text"
      },
      "source": [
        "## 랜덤포레스트\n",
        "- 배깅 방법을 적용한 결정 트리의 앙상블"
      ]
    },
    {
      "cell_type": "code",
      "metadata": {
        "id": "HTbv2QxhkM2F",
        "colab_type": "code",
        "colab": {
          "base_uri": "https://localhost:8080/",
          "height": 105
        },
        "outputId": "4a634aa1-db57-4f6f-f456-226c114f5613"
      },
      "source": [
        "from sklearn.ensemble import RandomForestClassifier\n",
        "\n",
        "rnd_clf = RandomForestClassifier(n_estimators=1000,max_leaf_nodes=16,n_jobs=-1)\n",
        "rnd_clf.fit(X_train,y_train)\n",
        "\n",
        "y_pred = rnd_clf.predict(X_test)\n",
        "  \n",
        "print(rnd_clf.__class__.__name__)\n",
        "get_clf_eval(y_test,y_pred)"
      ],
      "execution_count": 33,
      "outputs": [
        {
          "output_type": "stream",
          "text": [
            "RandomForestClassifier\n",
            "오차행렬\n",
            "[[88 12]\n",
            " [23 31]]\n",
            "정확도:0.772727,정밀도:0.720930,재현율:0.574074,F1:0.639175,ROC AUC값:0.727037\n"
          ],
          "name": "stdout"
        }
      ]
    }
  ]
}