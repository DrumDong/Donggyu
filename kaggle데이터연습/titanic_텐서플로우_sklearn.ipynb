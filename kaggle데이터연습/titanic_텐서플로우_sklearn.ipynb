{
  "nbformat": 4,
  "nbformat_minor": 0,
  "metadata": {
    "colab": {
      "name": "titanic1.ipynb",
      "provenance": [],
      "collapsed_sections": [],
      "include_colab_link": true
    },
    "kernelspec": {
      "name": "python3",
      "display_name": "Python 3"
    }
  },
  "cells": [
    {
      "cell_type": "markdown",
      "metadata": {
        "id": "view-in-github",
        "colab_type": "text"
      },
      "source": [
        "<a href=\"https://colab.research.google.com/github/DrumDong/Donggyu/blob/master/titanic1.ipynb\" target=\"_parent\"><img src=\"https://colab.research.google.com/assets/colab-badge.svg\" alt=\"Open In Colab\"/></a>"
      ]
    },
    {
      "cell_type": "code",
      "metadata": {
        "id": "KQnXiA-KfdCX",
        "colab_type": "code",
        "outputId": "361d79d4-ddb9-47ee-89fa-a2b292cdf964",
        "colab": {
          "base_uri": "https://localhost:8080/",
          "height": 35
        }
      },
      "source": [
        "from google.colab import drive\n",
        "drive.mount('/content/gdrive')"
      ],
      "execution_count": 92,
      "outputs": [
        {
          "output_type": "stream",
          "text": [
            "Drive already mounted at /content/gdrive; to attempt to forcibly remount, call drive.mount(\"/content/gdrive\", force_remount=True).\n"
          ],
          "name": "stdout"
        }
      ]
    },
    {
      "cell_type": "markdown",
      "metadata": {
        "id": "kAwx-P6RgANc",
        "colab_type": "text"
      },
      "source": [
        "# 2. 데이터 가져오기"
      ]
    },
    {
      "cell_type": "code",
      "metadata": {
        "id": "rRGnLt3ZfkmH",
        "colab_type": "code",
        "colab": {}
      },
      "source": [
        "import pandas as pd\n",
        "\n",
        "train = pd.read_csv('/content/gdrive/My Drive/Colab Notebooks/data/titanic/train.csv')\n",
        "test = pd.read_csv('/content/gdrive/My Drive/Colab Notebooks/data/titanic/test.csv')"
      ],
      "execution_count": 0,
      "outputs": []
    },
    {
      "cell_type": "code",
      "metadata": {
        "id": "eqPY0Jqnfvqk",
        "colab_type": "code",
        "outputId": "a8d685c6-a6c6-4f23-f56a-26079fcf5040",
        "colab": {
          "base_uri": "https://localhost:8080/",
          "height": 79
        }
      },
      "source": [
        "train[759:760]"
      ],
      "execution_count": 94,
      "outputs": [
        {
          "output_type": "execute_result",
          "data": {
            "text/html": [
              "<div>\n",
              "<style scoped>\n",
              "    .dataframe tbody tr th:only-of-type {\n",
              "        vertical-align: middle;\n",
              "    }\n",
              "\n",
              "    .dataframe tbody tr th {\n",
              "        vertical-align: top;\n",
              "    }\n",
              "\n",
              "    .dataframe thead th {\n",
              "        text-align: right;\n",
              "    }\n",
              "</style>\n",
              "<table border=\"1\" class=\"dataframe\">\n",
              "  <thead>\n",
              "    <tr style=\"text-align: right;\">\n",
              "      <th></th>\n",
              "      <th>PassengerId</th>\n",
              "      <th>Survived</th>\n",
              "      <th>Pclass</th>\n",
              "      <th>Name</th>\n",
              "      <th>Sex</th>\n",
              "      <th>Age</th>\n",
              "      <th>SibSp</th>\n",
              "      <th>Parch</th>\n",
              "      <th>Ticket</th>\n",
              "      <th>Fare</th>\n",
              "      <th>Cabin</th>\n",
              "      <th>Embarked</th>\n",
              "    </tr>\n",
              "  </thead>\n",
              "  <tbody>\n",
              "    <tr>\n",
              "      <th>759</th>\n",
              "      <td>760</td>\n",
              "      <td>1</td>\n",
              "      <td>1</td>\n",
              "      <td>Rothes, the Countess. of (Lucy Noel Martha Dye...</td>\n",
              "      <td>female</td>\n",
              "      <td>33.0</td>\n",
              "      <td>0</td>\n",
              "      <td>0</td>\n",
              "      <td>110152</td>\n",
              "      <td>86.5</td>\n",
              "      <td>B77</td>\n",
              "      <td>S</td>\n",
              "    </tr>\n",
              "  </tbody>\n",
              "</table>\n",
              "</div>"
            ],
            "text/plain": [
              "     PassengerId  Survived  Pclass  ...  Fare Cabin  Embarked\n",
              "759          760         1       1  ...  86.5   B77         S\n",
              "\n",
              "[1 rows x 12 columns]"
            ]
          },
          "metadata": {
            "tags": []
          },
          "execution_count": 94
        }
      ]
    },
    {
      "cell_type": "markdown",
      "metadata": {
        "id": "7_OXFL_sgDTg",
        "colab_type": "text"
      },
      "source": [
        "# 3. Exploratory Data Analysis "
      ]
    },
    {
      "cell_type": "code",
      "metadata": {
        "id": "gjiPePfjgGXv",
        "colab_type": "code",
        "outputId": "b15adb77-5faa-4e34-8b39-5ff279d454b5",
        "colab": {
          "base_uri": "https://localhost:8080/",
          "height": 202
        }
      },
      "source": [
        "train.head()"
      ],
      "execution_count": 95,
      "outputs": [
        {
          "output_type": "execute_result",
          "data": {
            "text/html": [
              "<div>\n",
              "<style scoped>\n",
              "    .dataframe tbody tr th:only-of-type {\n",
              "        vertical-align: middle;\n",
              "    }\n",
              "\n",
              "    .dataframe tbody tr th {\n",
              "        vertical-align: top;\n",
              "    }\n",
              "\n",
              "    .dataframe thead th {\n",
              "        text-align: right;\n",
              "    }\n",
              "</style>\n",
              "<table border=\"1\" class=\"dataframe\">\n",
              "  <thead>\n",
              "    <tr style=\"text-align: right;\">\n",
              "      <th></th>\n",
              "      <th>PassengerId</th>\n",
              "      <th>Survived</th>\n",
              "      <th>Pclass</th>\n",
              "      <th>Name</th>\n",
              "      <th>Sex</th>\n",
              "      <th>Age</th>\n",
              "      <th>SibSp</th>\n",
              "      <th>Parch</th>\n",
              "      <th>Ticket</th>\n",
              "      <th>Fare</th>\n",
              "      <th>Cabin</th>\n",
              "      <th>Embarked</th>\n",
              "    </tr>\n",
              "  </thead>\n",
              "  <tbody>\n",
              "    <tr>\n",
              "      <th>0</th>\n",
              "      <td>1</td>\n",
              "      <td>0</td>\n",
              "      <td>3</td>\n",
              "      <td>Braund, Mr. Owen Harris</td>\n",
              "      <td>male</td>\n",
              "      <td>22.0</td>\n",
              "      <td>1</td>\n",
              "      <td>0</td>\n",
              "      <td>A/5 21171</td>\n",
              "      <td>7.2500</td>\n",
              "      <td>NaN</td>\n",
              "      <td>S</td>\n",
              "    </tr>\n",
              "    <tr>\n",
              "      <th>1</th>\n",
              "      <td>2</td>\n",
              "      <td>1</td>\n",
              "      <td>1</td>\n",
              "      <td>Cumings, Mrs. John Bradley (Florence Briggs Th...</td>\n",
              "      <td>female</td>\n",
              "      <td>38.0</td>\n",
              "      <td>1</td>\n",
              "      <td>0</td>\n",
              "      <td>PC 17599</td>\n",
              "      <td>71.2833</td>\n",
              "      <td>C85</td>\n",
              "      <td>C</td>\n",
              "    </tr>\n",
              "    <tr>\n",
              "      <th>2</th>\n",
              "      <td>3</td>\n",
              "      <td>1</td>\n",
              "      <td>3</td>\n",
              "      <td>Heikkinen, Miss. Laina</td>\n",
              "      <td>female</td>\n",
              "      <td>26.0</td>\n",
              "      <td>0</td>\n",
              "      <td>0</td>\n",
              "      <td>STON/O2. 3101282</td>\n",
              "      <td>7.9250</td>\n",
              "      <td>NaN</td>\n",
              "      <td>S</td>\n",
              "    </tr>\n",
              "    <tr>\n",
              "      <th>3</th>\n",
              "      <td>4</td>\n",
              "      <td>1</td>\n",
              "      <td>1</td>\n",
              "      <td>Futrelle, Mrs. Jacques Heath (Lily May Peel)</td>\n",
              "      <td>female</td>\n",
              "      <td>35.0</td>\n",
              "      <td>1</td>\n",
              "      <td>0</td>\n",
              "      <td>113803</td>\n",
              "      <td>53.1000</td>\n",
              "      <td>C123</td>\n",
              "      <td>S</td>\n",
              "    </tr>\n",
              "    <tr>\n",
              "      <th>4</th>\n",
              "      <td>5</td>\n",
              "      <td>0</td>\n",
              "      <td>3</td>\n",
              "      <td>Allen, Mr. William Henry</td>\n",
              "      <td>male</td>\n",
              "      <td>35.0</td>\n",
              "      <td>0</td>\n",
              "      <td>0</td>\n",
              "      <td>373450</td>\n",
              "      <td>8.0500</td>\n",
              "      <td>NaN</td>\n",
              "      <td>S</td>\n",
              "    </tr>\n",
              "  </tbody>\n",
              "</table>\n",
              "</div>"
            ],
            "text/plain": [
              "   PassengerId  Survived  Pclass  ...     Fare Cabin  Embarked\n",
              "0            1         0       3  ...   7.2500   NaN         S\n",
              "1            2         1       1  ...  71.2833   C85         C\n",
              "2            3         1       3  ...   7.9250   NaN         S\n",
              "3            4         1       1  ...  53.1000  C123         S\n",
              "4            5         0       3  ...   8.0500   NaN         S\n",
              "\n",
              "[5 rows x 12 columns]"
            ]
          },
          "metadata": {
            "tags": []
          },
          "execution_count": 95
        }
      ]
    },
    {
      "cell_type": "markdown",
      "metadata": {
        "id": "FX_NoxDMgO7T",
        "colab_type": "text"
      },
      "source": [
        "Data Dictionary\n",
        "\n",
        "- survived : 생존 여부\n",
        "- pclass: 좌석 긍급\n",
        "- SibSp: 배우자 여부\n",
        "- Parch: 부모 또는 자식 여부\n",
        "- Fare: 요금\n",
        "- Cabin: Cabin number\n",
        "- Embarked: 선착장 위치"
      ]
    },
    {
      "cell_type": "code",
      "metadata": {
        "id": "yrh2gmmlhtFM",
        "colab_type": "code",
        "outputId": "f79fea6e-9d5f-45a1-98c0-faae482f0fd0",
        "colab": {
          "base_uri": "https://localhost:8080/",
          "height": 202
        }
      },
      "source": [
        "test.head() #생존여부를 확인하기위해 생존여부(Survived) 컬럼 삭제"
      ],
      "execution_count": 96,
      "outputs": [
        {
          "output_type": "execute_result",
          "data": {
            "text/html": [
              "<div>\n",
              "<style scoped>\n",
              "    .dataframe tbody tr th:only-of-type {\n",
              "        vertical-align: middle;\n",
              "    }\n",
              "\n",
              "    .dataframe tbody tr th {\n",
              "        vertical-align: top;\n",
              "    }\n",
              "\n",
              "    .dataframe thead th {\n",
              "        text-align: right;\n",
              "    }\n",
              "</style>\n",
              "<table border=\"1\" class=\"dataframe\">\n",
              "  <thead>\n",
              "    <tr style=\"text-align: right;\">\n",
              "      <th></th>\n",
              "      <th>PassengerId</th>\n",
              "      <th>Pclass</th>\n",
              "      <th>Name</th>\n",
              "      <th>Sex</th>\n",
              "      <th>Age</th>\n",
              "      <th>SibSp</th>\n",
              "      <th>Parch</th>\n",
              "      <th>Ticket</th>\n",
              "      <th>Fare</th>\n",
              "      <th>Cabin</th>\n",
              "      <th>Embarked</th>\n",
              "    </tr>\n",
              "  </thead>\n",
              "  <tbody>\n",
              "    <tr>\n",
              "      <th>0</th>\n",
              "      <td>892</td>\n",
              "      <td>3</td>\n",
              "      <td>Kelly, Mr. James</td>\n",
              "      <td>male</td>\n",
              "      <td>34.5</td>\n",
              "      <td>0</td>\n",
              "      <td>0</td>\n",
              "      <td>330911</td>\n",
              "      <td>7.8292</td>\n",
              "      <td>NaN</td>\n",
              "      <td>Q</td>\n",
              "    </tr>\n",
              "    <tr>\n",
              "      <th>1</th>\n",
              "      <td>893</td>\n",
              "      <td>3</td>\n",
              "      <td>Wilkes, Mrs. James (Ellen Needs)</td>\n",
              "      <td>female</td>\n",
              "      <td>47.0</td>\n",
              "      <td>1</td>\n",
              "      <td>0</td>\n",
              "      <td>363272</td>\n",
              "      <td>7.0000</td>\n",
              "      <td>NaN</td>\n",
              "      <td>S</td>\n",
              "    </tr>\n",
              "    <tr>\n",
              "      <th>2</th>\n",
              "      <td>894</td>\n",
              "      <td>2</td>\n",
              "      <td>Myles, Mr. Thomas Francis</td>\n",
              "      <td>male</td>\n",
              "      <td>62.0</td>\n",
              "      <td>0</td>\n",
              "      <td>0</td>\n",
              "      <td>240276</td>\n",
              "      <td>9.6875</td>\n",
              "      <td>NaN</td>\n",
              "      <td>Q</td>\n",
              "    </tr>\n",
              "    <tr>\n",
              "      <th>3</th>\n",
              "      <td>895</td>\n",
              "      <td>3</td>\n",
              "      <td>Wirz, Mr. Albert</td>\n",
              "      <td>male</td>\n",
              "      <td>27.0</td>\n",
              "      <td>0</td>\n",
              "      <td>0</td>\n",
              "      <td>315154</td>\n",
              "      <td>8.6625</td>\n",
              "      <td>NaN</td>\n",
              "      <td>S</td>\n",
              "    </tr>\n",
              "    <tr>\n",
              "      <th>4</th>\n",
              "      <td>896</td>\n",
              "      <td>3</td>\n",
              "      <td>Hirvonen, Mrs. Alexander (Helga E Lindqvist)</td>\n",
              "      <td>female</td>\n",
              "      <td>22.0</td>\n",
              "      <td>1</td>\n",
              "      <td>1</td>\n",
              "      <td>3101298</td>\n",
              "      <td>12.2875</td>\n",
              "      <td>NaN</td>\n",
              "      <td>S</td>\n",
              "    </tr>\n",
              "  </tbody>\n",
              "</table>\n",
              "</div>"
            ],
            "text/plain": [
              "   PassengerId  Pclass  ... Cabin Embarked\n",
              "0          892       3  ...   NaN        Q\n",
              "1          893       3  ...   NaN        S\n",
              "2          894       2  ...   NaN        Q\n",
              "3          895       3  ...   NaN        S\n",
              "4          896       3  ...   NaN        S\n",
              "\n",
              "[5 rows x 11 columns]"
            ]
          },
          "metadata": {
            "tags": []
          },
          "execution_count": 96
        }
      ]
    },
    {
      "cell_type": "markdown",
      "metadata": {
        "id": "ciO-Uk_Dh6Vz",
        "colab_type": "text"
      },
      "source": [
        "생존 여부를 알아야하므로 Survived 컬럼이 없음."
      ]
    },
    {
      "cell_type": "code",
      "metadata": {
        "id": "_-uB5BzjiBBj",
        "colab_type": "code",
        "outputId": "e90d4f7d-fbc7-43cc-fa32-fc118af676ad",
        "colab": {
          "base_uri": "https://localhost:8080/",
          "height": 35
        }
      },
      "source": [
        "train.shape"
      ],
      "execution_count": 97,
      "outputs": [
        {
          "output_type": "execute_result",
          "data": {
            "text/plain": [
              "(891, 12)"
            ]
          },
          "metadata": {
            "tags": []
          },
          "execution_count": 97
        }
      ]
    },
    {
      "cell_type": "code",
      "metadata": {
        "id": "OgY53OW4iFJ0",
        "colab_type": "code",
        "outputId": "a1c3ab88-b3e6-4d79-9fb9-6f1ec15f22a0",
        "colab": {
          "base_uri": "https://localhost:8080/",
          "height": 35
        }
      },
      "source": [
        "test.shape"
      ],
      "execution_count": 98,
      "outputs": [
        {
          "output_type": "execute_result",
          "data": {
            "text/plain": [
              "(418, 11)"
            ]
          },
          "metadata": {
            "tags": []
          },
          "execution_count": 98
        }
      ]
    },
    {
      "cell_type": "code",
      "metadata": {
        "id": "yh6kZpLZiI_v",
        "colab_type": "code",
        "outputId": "c62e6f6d-84e6-4e9c-fa87-d2943af901f4",
        "colab": {
          "base_uri": "https://localhost:8080/",
          "height": 331
        }
      },
      "source": [
        "train.info()"
      ],
      "execution_count": 99,
      "outputs": [
        {
          "output_type": "stream",
          "text": [
            "<class 'pandas.core.frame.DataFrame'>\n",
            "RangeIndex: 891 entries, 0 to 890\n",
            "Data columns (total 12 columns):\n",
            "PassengerId    891 non-null int64\n",
            "Survived       891 non-null int64\n",
            "Pclass         891 non-null int64\n",
            "Name           891 non-null object\n",
            "Sex            891 non-null object\n",
            "Age            714 non-null float64\n",
            "SibSp          891 non-null int64\n",
            "Parch          891 non-null int64\n",
            "Ticket         891 non-null object\n",
            "Fare           891 non-null float64\n",
            "Cabin          204 non-null object\n",
            "Embarked       889 non-null object\n",
            "dtypes: float64(2), int64(5), object(5)\n",
            "memory usage: 83.7+ KB\n"
          ],
          "name": "stdout"
        }
      ]
    },
    {
      "cell_type": "markdown",
      "metadata": {
        "id": "gWaRF8aiiSHY",
        "colab_type": "text"
      },
      "source": [
        "몇명의 나이와 수하물의 위치가 유실된 것을 알 수 있음. -> 이것을 그대로 넣으면 안됨.(Feature Engineering 필요)"
      ]
    },
    {
      "cell_type": "code",
      "metadata": {
        "id": "84VfcV3NicVH",
        "colab_type": "code",
        "outputId": "aeff1c35-e5b1-4b64-8198-81afc869a620",
        "colab": {
          "base_uri": "https://localhost:8080/",
          "height": 257
        }
      },
      "source": [
        "train.isnull().sum()"
      ],
      "execution_count": 100,
      "outputs": [
        {
          "output_type": "execute_result",
          "data": {
            "text/plain": [
              "PassengerId      0\n",
              "Survived         0\n",
              "Pclass           0\n",
              "Name             0\n",
              "Sex              0\n",
              "Age            177\n",
              "SibSp            0\n",
              "Parch            0\n",
              "Ticket           0\n",
              "Fare             0\n",
              "Cabin          687\n",
              "Embarked         2\n",
              "dtype: int64"
            ]
          },
          "metadata": {
            "tags": []
          },
          "execution_count": 100
        }
      ]
    },
    {
      "cell_type": "code",
      "metadata": {
        "id": "nrpcTvYhikl8",
        "colab_type": "code",
        "outputId": "72426ae5-ea1b-4f49-b886-fed741c493d9",
        "colab": {
          "base_uri": "https://localhost:8080/",
          "height": 238
        }
      },
      "source": [
        "test.isnull().sum()"
      ],
      "execution_count": 101,
      "outputs": [
        {
          "output_type": "execute_result",
          "data": {
            "text/plain": [
              "PassengerId      0\n",
              "Pclass           0\n",
              "Name             0\n",
              "Sex              0\n",
              "Age             86\n",
              "SibSp            0\n",
              "Parch            0\n",
              "Ticket           0\n",
              "Fare             1\n",
              "Cabin          327\n",
              "Embarked         0\n",
              "dtype: int64"
            ]
          },
          "metadata": {
            "tags": []
          },
          "execution_count": 101
        }
      ]
    },
    {
      "cell_type": "markdown",
      "metadata": {
        "id": "q1lJ-8X-jMTR",
        "colab_type": "text"
      },
      "source": [
        "## 시각화"
      ]
    },
    {
      "cell_type": "code",
      "metadata": {
        "id": "dEW5qNL_jOyT",
        "colab_type": "code",
        "colab": {}
      },
      "source": [
        "import matplotlib.pyplot as plt\n",
        "%matplotlib inline\n",
        "import seaborn as sns\n",
        "sns.set() #setting seaborn default for plots"
      ],
      "execution_count": 0,
      "outputs": []
    },
    {
      "cell_type": "code",
      "metadata": {
        "id": "iTaCBbz7jn0R",
        "colab_type": "code",
        "colab": {}
      },
      "source": [
        "def bar_chart(feature):\n",
        "  survived = train[train['Survived']==1][feature].value_counts()\n",
        "  dead = train[train['Survived']==0][feature].value_counts()\n",
        "  df = pd.DataFrame([survived,dead])\n",
        "  df.index = ['Survived','Dead']\n",
        "  \n",
        "  print(df)\n",
        "  df.plot(kind='bar',stacked=True,figsize=(10,5))\n",
        "  \n",
        "  "
      ],
      "execution_count": 0,
      "outputs": []
    },
    {
      "cell_type": "code",
      "metadata": {
        "id": "-YYwRnP9kf2q",
        "colab_type": "code",
        "outputId": "4f56c3c1-f08c-4136-9adc-de9d599f07cd",
        "colab": {
          "base_uri": "https://localhost:8080/",
          "height": 416
        }
      },
      "source": [
        "bar_chart('Sex')"
      ],
      "execution_count": 104,
      "outputs": [
        {
          "output_type": "stream",
          "text": [
            "          female  male\n",
            "Survived     233   109\n",
            "Dead          81   468\n"
          ],
          "name": "stdout"
        },
        {
          "output_type": "display_data",
          "data": {
            "image/png": "[encoded data removed]",
            "text/plain": [
              "<Figure size 720x360 with 1 Axes>"
            ]
          },
          "metadata": {
            "tags": []
          }
        }
      ]
    },
    {
      "cell_type": "markdown",
      "metadata": {
        "id": "WCWMTK6Lk8rc",
        "colab_type": "text"
      },
      "source": [
        "여자들이 남자보다 많이 살아남았다는 가설을 수립"
      ]
    },
    {
      "cell_type": "code",
      "metadata": {
        "id": "00VvE1ZvlEYY",
        "colab_type": "code",
        "outputId": "b71c0ff2-1af0-4be4-e28e-ccb94a0b8d2e",
        "colab": {
          "base_uri": "https://localhost:8080/",
          "height": 416
        }
      },
      "source": [
        "bar_chart('Pclass')"
      ],
      "execution_count": 105,
      "outputs": [
        {
          "output_type": "stream",
          "text": [
            "            1   2    3\n",
            "Survived  136  87  119\n",
            "Dead       80  97  372\n"
          ],
          "name": "stdout"
        },
        {
          "output_type": "display_data",
          "data": {
            "image/png": "[encoded data removed]",
            "text/plain": [
              "<Figure size 720x360 with 1 Axes>"
            ]
          },
          "metadata": {
            "tags": []
          }
        }
      ]
    },
    {
      "cell_type": "markdown",
      "metadata": {
        "id": "SIvB4kP-n_25",
        "colab_type": "text"
      },
      "source": [
        "자리등급이 생존에 영향을 많이 끼친다는 가설 수립"
      ]
    },
    {
      "cell_type": "code",
      "metadata": {
        "id": "bK0BhkomoD-Y",
        "colab_type": "code",
        "outputId": "5ead1471-02b8-42e9-f9e1-9e0500297dfb",
        "colab": {
          "base_uri": "https://localhost:8080/",
          "height": 416
        }
      },
      "source": [
        "bar_chart('SibSp')"
      ],
      "execution_count": 106,
      "outputs": [
        {
          "output_type": "stream",
          "text": [
            "              0      1     2     3     4    5    8\n",
            "Survived  210.0  112.0  13.0   4.0   3.0  NaN  NaN\n",
            "Dead      398.0   97.0  15.0  12.0  15.0  5.0  7.0\n"
          ],
          "name": "stdout"
        },
        {
          "output_type": "display_data",
          "data": {
            "image/png": "[encoded data removed]",
            "text/plain": [
              "<Figure size 720x360 with 1 Axes>"
            ]
          },
          "metadata": {
            "tags": []
          }
        }
      ]
    },
    {
      "cell_type": "markdown",
      "metadata": {
        "id": "gUcnTvIcoNO_",
        "colab_type": "text"
      },
      "source": [
        "가족이 있을 경우에 조금더 많이 살은 것 같음"
      ]
    },
    {
      "cell_type": "code",
      "metadata": {
        "id": "eFz_ABa8oQLt",
        "colab_type": "code",
        "outputId": "f25d8479-020a-4054-e187-8f6aa1221dfa",
        "colab": {
          "base_uri": "https://localhost:8080/",
          "height": 416
        }
      },
      "source": [
        "bar_chart('Parch')"
      ],
      "execution_count": 107,
      "outputs": [
        {
          "output_type": "stream",
          "text": [
            "              0     1     2    3    4    5    6\n",
            "Survived  233.0  65.0  40.0  3.0  NaN  1.0  NaN\n",
            "Dead      445.0  53.0  40.0  2.0  4.0  4.0  1.0\n"
          ],
          "name": "stdout"
        },
        {
          "output_type": "display_data",
          "data": {
            "image/png": "[encoded data removed]",
            "text/plain": [
              "<Figure size 720x360 with 1 Axes>"
            ]
          },
          "metadata": {
            "tags": []
          }
        }
      ]
    },
    {
      "cell_type": "code",
      "metadata": {
        "id": "kxHzmiJWoE7Z",
        "colab_type": "code",
        "outputId": "7813427d-5c12-47bc-8303-271ab6218cda",
        "colab": {
          "base_uri": "https://localhost:8080/",
          "height": 416
        }
      },
      "source": [
        "bar_chart('Embarked')"
      ],
      "execution_count": 108,
      "outputs": [
        {
          "output_type": "stream",
          "text": [
            "            S   C   Q\n",
            "Survived  217  93  30\n",
            "Dead      427  75  47\n"
          ],
          "name": "stdout"
        },
        {
          "output_type": "display_data",
          "data": {
            "image/png": "[encoded data removed]",
            "text/plain": [
              "<Figure size 720x360 with 1 Axes>"
            ]
          },
          "metadata": {
            "tags": []
          }
        }
      ]
    },
    {
      "cell_type": "markdown",
      "metadata": {
        "id": "St3ggPhzWJ2i",
        "colab_type": "text"
      },
      "source": [
        "# Feature Engineering ★\n",
        "- Feature : 컬럼 -> 측량이 된 값들, 텍스트 변수들을 숫자로 변경할 필요성이 있음. 또한 없는 변수들도 알맞게 변경을 해야함."
      ]
    },
    {
      "cell_type": "code",
      "metadata": {
        "id": "VzoPatxQXwCz",
        "colab_type": "code",
        "outputId": "f05d32ef-120e-474f-fd90-569535ff45bc",
        "colab": {
          "base_uri": "https://localhost:8080/",
          "height": 202
        }
      },
      "source": [
        "train.head()"
      ],
      "execution_count": 109,
      "outputs": [
        {
          "output_type": "execute_result",
          "data": {
            "text/html": [
              "<div>\n",
              "<style scoped>\n",
              "    .dataframe tbody tr th:only-of-type {\n",
              "        vertical-align: middle;\n",
              "    }\n",
              "\n",
              "    .dataframe tbody tr th {\n",
              "        vertical-align: top;\n",
              "    }\n",
              "\n",
              "    .dataframe thead th {\n",
              "        text-align: right;\n",
              "    }\n",
              "</style>\n",
              "<table border=\"1\" class=\"dataframe\">\n",
              "  <thead>\n",
              "    <tr style=\"text-align: right;\">\n",
              "      <th></th>\n",
              "      <th>PassengerId</th>\n",
              "      <th>Survived</th>\n",
              "      <th>Pclass</th>\n",
              "      <th>Name</th>\n",
              "      <th>Sex</th>\n",
              "      <th>Age</th>\n",
              "      <th>SibSp</th>\n",
              "      <th>Parch</th>\n",
              "      <th>Ticket</th>\n",
              "      <th>Fare</th>\n",
              "      <th>Cabin</th>\n",
              "      <th>Embarked</th>\n",
              "    </tr>\n",
              "  </thead>\n",
              "  <tbody>\n",
              "    <tr>\n",
              "      <th>0</th>\n",
              "      <td>1</td>\n",
              "      <td>0</td>\n",
              "      <td>3</td>\n",
              "      <td>Braund, Mr. Owen Harris</td>\n",
              "      <td>male</td>\n",
              "      <td>22.0</td>\n",
              "      <td>1</td>\n",
              "      <td>0</td>\n",
              "      <td>A/5 21171</td>\n",
              "      <td>7.2500</td>\n",
              "      <td>NaN</td>\n",
              "      <td>S</td>\n",
              "    </tr>\n",
              "    <tr>\n",
              "      <th>1</th>\n",
              "      <td>2</td>\n",
              "      <td>1</td>\n",
              "      <td>1</td>\n",
              "      <td>Cumings, Mrs. John Bradley (Florence Briggs Th...</td>\n",
              "      <td>female</td>\n",
              "      <td>38.0</td>\n",
              "      <td>1</td>\n",
              "      <td>0</td>\n",
              "      <td>PC 17599</td>\n",
              "      <td>71.2833</td>\n",
              "      <td>C85</td>\n",
              "      <td>C</td>\n",
              "    </tr>\n",
              "    <tr>\n",
              "      <th>2</th>\n",
              "      <td>3</td>\n",
              "      <td>1</td>\n",
              "      <td>3</td>\n",
              "      <td>Heikkinen, Miss. Laina</td>\n",
              "      <td>female</td>\n",
              "      <td>26.0</td>\n",
              "      <td>0</td>\n",
              "      <td>0</td>\n",
              "      <td>STON/O2. 3101282</td>\n",
              "      <td>7.9250</td>\n",
              "      <td>NaN</td>\n",
              "      <td>S</td>\n",
              "    </tr>\n",
              "    <tr>\n",
              "      <th>3</th>\n",
              "      <td>4</td>\n",
              "      <td>1</td>\n",
              "      <td>1</td>\n",
              "      <td>Futrelle, Mrs. Jacques Heath (Lily May Peel)</td>\n",
              "      <td>female</td>\n",
              "      <td>35.0</td>\n",
              "      <td>1</td>\n",
              "      <td>0</td>\n",
              "      <td>113803</td>\n",
              "      <td>53.1000</td>\n",
              "      <td>C123</td>\n",
              "      <td>S</td>\n",
              "    </tr>\n",
              "    <tr>\n",
              "      <th>4</th>\n",
              "      <td>5</td>\n",
              "      <td>0</td>\n",
              "      <td>3</td>\n",
              "      <td>Allen, Mr. William Henry</td>\n",
              "      <td>male</td>\n",
              "      <td>35.0</td>\n",
              "      <td>0</td>\n",
              "      <td>0</td>\n",
              "      <td>373450</td>\n",
              "      <td>8.0500</td>\n",
              "      <td>NaN</td>\n",
              "      <td>S</td>\n",
              "    </tr>\n",
              "  </tbody>\n",
              "</table>\n",
              "</div>"
            ],
            "text/plain": [
              "   PassengerId  Survived  Pclass  ...     Fare Cabin  Embarked\n",
              "0            1         0       3  ...   7.2500   NaN         S\n",
              "1            2         1       1  ...  71.2833   C85         C\n",
              "2            3         1       3  ...   7.9250   NaN         S\n",
              "3            4         1       1  ...  53.1000  C123         S\n",
              "4            5         0       3  ...   8.0500   NaN         S\n",
              "\n",
              "[5 rows x 12 columns]"
            ]
          },
          "metadata": {
            "tags": []
          },
          "execution_count": 109
        }
      ]
    },
    {
      "cell_type": "markdown",
      "metadata": {
        "id": "xWyNvY9TWMeJ",
        "colab_type": "text"
      },
      "source": [
        "## 4.2 Name\n",
        "- Mr, Mrs, Miss 와 같이 성별, 가족여부를 판단할 수 있기 때문에 이것을 분리할 필요가 있음.\n",
        "- [A-Za-z] : 알파벳 문자"
      ]
    },
    {
      "cell_type": "code",
      "metadata": {
        "id": "EqsuYFsyXuAw",
        "colab_type": "code",
        "colab": {}
      },
      "source": [
        "train_test_data = [train,test] # combining train and test dataset\n",
        "\n",
        "for dataset in train_test_data:\n",
        "  dataset['Title'] = dataset['Name'].str.extract('([A-Za-z]+)\\.',expand=False)"
      ],
      "execution_count": 0,
      "outputs": []
    },
    {
      "cell_type": "code",
      "metadata": {
        "id": "ypBoyExBY2Bo",
        "colab_type": "code",
        "outputId": "60598e4d-c932-40e7-ae73-150e7f721449",
        "colab": {
          "base_uri": "https://localhost:8080/",
          "height": 349
        }
      },
      "source": [
        "train['Title'].value_counts()"
      ],
      "execution_count": 111,
      "outputs": [
        {
          "output_type": "execute_result",
          "data": {
            "text/plain": [
              "Mr          517\n",
              "Miss        182\n",
              "Mrs         125\n",
              "Master       40\n",
              "Dr            7\n",
              "Rev           6\n",
              "Mlle          2\n",
              "Major         2\n",
              "Col           2\n",
              "Capt          1\n",
              "Ms            1\n",
              "Countess      1\n",
              "Sir           1\n",
              "Lady          1\n",
              "Mme           1\n",
              "Jonkheer      1\n",
              "Don           1\n",
              "Name: Title, dtype: int64"
            ]
          },
          "metadata": {
            "tags": []
          },
          "execution_count": 111
        }
      ]
    },
    {
      "cell_type": "code",
      "metadata": {
        "id": "54EDCgByZ-rw",
        "colab_type": "code",
        "outputId": "369153c8-8300-4f3b-c7f4-558b5870843f",
        "colab": {
          "base_uri": "https://localhost:8080/",
          "height": 201
        }
      },
      "source": [
        "test['Title'].value_counts()"
      ],
      "execution_count": 112,
      "outputs": [
        {
          "output_type": "execute_result",
          "data": {
            "text/plain": [
              "Mr        240\n",
              "Miss       78\n",
              "Mrs        72\n",
              "Master     21\n",
              "Col         2\n",
              "Rev         2\n",
              "Ms          1\n",
              "Dona        1\n",
              "Dr          1\n",
              "Name: Title, dtype: int64"
            ]
          },
          "metadata": {
            "tags": []
          },
          "execution_count": 112
        }
      ]
    },
    {
      "cell_type": "code",
      "metadata": {
        "id": "VrNV-nbaaCV3",
        "colab_type": "code",
        "colab": {}
      },
      "source": [
        "title_mapping = {'Mr':0,'Miss':1,'Mrs':2,\n",
        "                'Master':3,'Dr':3,'Rev':3,'Col':3,'Major':3,'Mlle':3,'Countess':3,\n",
        "                'Ms':3,'Lady':3,'Jonkheer':3,'Don':3,'Dona':3,'Mme':3,'Capt':3,'Sir':3}\n",
        "\n",
        "for dataset in train_test_data:\n",
        "  dataset['Title'] = dataset['Title'].map(title_mapping)"
      ],
      "execution_count": 0,
      "outputs": []
    },
    {
      "cell_type": "code",
      "metadata": {
        "id": "tr0-kgrIbikZ",
        "colab_type": "code",
        "outputId": "85d96d3c-14f2-4016-c604-f844cec094bc",
        "colab": {
          "base_uri": "https://localhost:8080/",
          "height": 202
        }
      },
      "source": [
        "train.head()"
      ],
      "execution_count": 114,
      "outputs": [
        {
          "output_type": "execute_result",
          "data": {
            "text/html": [
              "<div>\n",
              "<style scoped>\n",
              "    .dataframe tbody tr th:only-of-type {\n",
              "        vertical-align: middle;\n",
              "    }\n",
              "\n",
              "    .dataframe tbody tr th {\n",
              "        vertical-align: top;\n",
              "    }\n",
              "\n",
              "    .dataframe thead th {\n",
              "        text-align: right;\n",
              "    }\n",
              "</style>\n",
              "<table border=\"1\" class=\"dataframe\">\n",
              "  <thead>\n",
              "    <tr style=\"text-align: right;\">\n",
              "      <th></th>\n",
              "      <th>PassengerId</th>\n",
              "      <th>Survived</th>\n",
              "      <th>Pclass</th>\n",
              "      <th>Name</th>\n",
              "      <th>Sex</th>\n",
              "      <th>Age</th>\n",
              "      <th>SibSp</th>\n",
              "      <th>Parch</th>\n",
              "      <th>Ticket</th>\n",
              "      <th>Fare</th>\n",
              "      <th>Cabin</th>\n",
              "      <th>Embarked</th>\n",
              "      <th>Title</th>\n",
              "    </tr>\n",
              "  </thead>\n",
              "  <tbody>\n",
              "    <tr>\n",
              "      <th>0</th>\n",
              "      <td>1</td>\n",
              "      <td>0</td>\n",
              "      <td>3</td>\n",
              "      <td>Braund, Mr. Owen Harris</td>\n",
              "      <td>male</td>\n",
              "      <td>22.0</td>\n",
              "      <td>1</td>\n",
              "      <td>0</td>\n",
              "      <td>A/5 21171</td>\n",
              "      <td>7.2500</td>\n",
              "      <td>NaN</td>\n",
              "      <td>S</td>\n",
              "      <td>0</td>\n",
              "    </tr>\n",
              "    <tr>\n",
              "      <th>1</th>\n",
              "      <td>2</td>\n",
              "      <td>1</td>\n",
              "      <td>1</td>\n",
              "      <td>Cumings, Mrs. John Bradley (Florence Briggs Th...</td>\n",
              "      <td>female</td>\n",
              "      <td>38.0</td>\n",
              "      <td>1</td>\n",
              "      <td>0</td>\n",
              "      <td>PC 17599</td>\n",
              "      <td>71.2833</td>\n",
              "      <td>C85</td>\n",
              "      <td>C</td>\n",
              "      <td>2</td>\n",
              "    </tr>\n",
              "    <tr>\n",
              "      <th>2</th>\n",
              "      <td>3</td>\n",
              "      <td>1</td>\n",
              "      <td>3</td>\n",
              "      <td>Heikkinen, Miss. Laina</td>\n",
              "      <td>female</td>\n",
              "      <td>26.0</td>\n",
              "      <td>0</td>\n",
              "      <td>0</td>\n",
              "      <td>STON/O2. 3101282</td>\n",
              "      <td>7.9250</td>\n",
              "      <td>NaN</td>\n",
              "      <td>S</td>\n",
              "      <td>1</td>\n",
              "    </tr>\n",
              "    <tr>\n",
              "      <th>3</th>\n",
              "      <td>4</td>\n",
              "      <td>1</td>\n",
              "      <td>1</td>\n",
              "      <td>Futrelle, Mrs. Jacques Heath (Lily May Peel)</td>\n",
              "      <td>female</td>\n",
              "      <td>35.0</td>\n",
              "      <td>1</td>\n",
              "      <td>0</td>\n",
              "      <td>113803</td>\n",
              "      <td>53.1000</td>\n",
              "      <td>C123</td>\n",
              "      <td>S</td>\n",
              "      <td>2</td>\n",
              "    </tr>\n",
              "    <tr>\n",
              "      <th>4</th>\n",
              "      <td>5</td>\n",
              "      <td>0</td>\n",
              "      <td>3</td>\n",
              "      <td>Allen, Mr. William Henry</td>\n",
              "      <td>male</td>\n",
              "      <td>35.0</td>\n",
              "      <td>0</td>\n",
              "      <td>0</td>\n",
              "      <td>373450</td>\n",
              "      <td>8.0500</td>\n",
              "      <td>NaN</td>\n",
              "      <td>S</td>\n",
              "      <td>0</td>\n",
              "    </tr>\n",
              "  </tbody>\n",
              "</table>\n",
              "</div>"
            ],
            "text/plain": [
              "   PassengerId  Survived  Pclass  ... Cabin Embarked  Title\n",
              "0            1         0       3  ...   NaN        S      0\n",
              "1            2         1       1  ...   C85        C      2\n",
              "2            3         1       3  ...   NaN        S      1\n",
              "3            4         1       1  ...  C123        S      2\n",
              "4            5         0       3  ...   NaN        S      0\n",
              "\n",
              "[5 rows x 13 columns]"
            ]
          },
          "metadata": {
            "tags": []
          },
          "execution_count": 114
        }
      ]
    },
    {
      "cell_type": "code",
      "metadata": {
        "id": "JZncjeB9cHaw",
        "colab_type": "code",
        "outputId": "341625e9-6d9e-44f6-eb69-aed64efb0d95",
        "colab": {
          "base_uri": "https://localhost:8080/",
          "height": 202
        }
      },
      "source": [
        "test.head()"
      ],
      "execution_count": 115,
      "outputs": [
        {
          "output_type": "execute_result",
          "data": {
            "text/html": [
              "<div>\n",
              "<style scoped>\n",
              "    .dataframe tbody tr th:only-of-type {\n",
              "        vertical-align: middle;\n",
              "    }\n",
              "\n",
              "    .dataframe tbody tr th {\n",
              "        vertical-align: top;\n",
              "    }\n",
              "\n",
              "    .dataframe thead th {\n",
              "        text-align: right;\n",
              "    }\n",
              "</style>\n",
              "<table border=\"1\" class=\"dataframe\">\n",
              "  <thead>\n",
              "    <tr style=\"text-align: right;\">\n",
              "      <th></th>\n",
              "      <th>PassengerId</th>\n",
              "      <th>Pclass</th>\n",
              "      <th>Name</th>\n",
              "      <th>Sex</th>\n",
              "      <th>Age</th>\n",
              "      <th>SibSp</th>\n",
              "      <th>Parch</th>\n",
              "      <th>Ticket</th>\n",
              "      <th>Fare</th>\n",
              "      <th>Cabin</th>\n",
              "      <th>Embarked</th>\n",
              "      <th>Title</th>\n",
              "    </tr>\n",
              "  </thead>\n",
              "  <tbody>\n",
              "    <tr>\n",
              "      <th>0</th>\n",
              "      <td>892</td>\n",
              "      <td>3</td>\n",
              "      <td>Kelly, Mr. James</td>\n",
              "      <td>male</td>\n",
              "      <td>34.5</td>\n",
              "      <td>0</td>\n",
              "      <td>0</td>\n",
              "      <td>330911</td>\n",
              "      <td>7.8292</td>\n",
              "      <td>NaN</td>\n",
              "      <td>Q</td>\n",
              "      <td>0</td>\n",
              "    </tr>\n",
              "    <tr>\n",
              "      <th>1</th>\n",
              "      <td>893</td>\n",
              "      <td>3</td>\n",
              "      <td>Wilkes, Mrs. James (Ellen Needs)</td>\n",
              "      <td>female</td>\n",
              "      <td>47.0</td>\n",
              "      <td>1</td>\n",
              "      <td>0</td>\n",
              "      <td>363272</td>\n",
              "      <td>7.0000</td>\n",
              "      <td>NaN</td>\n",
              "      <td>S</td>\n",
              "      <td>2</td>\n",
              "    </tr>\n",
              "    <tr>\n",
              "      <th>2</th>\n",
              "      <td>894</td>\n",
              "      <td>2</td>\n",
              "      <td>Myles, Mr. Thomas Francis</td>\n",
              "      <td>male</td>\n",
              "      <td>62.0</td>\n",
              "      <td>0</td>\n",
              "      <td>0</td>\n",
              "      <td>240276</td>\n",
              "      <td>9.6875</td>\n",
              "      <td>NaN</td>\n",
              "      <td>Q</td>\n",
              "      <td>0</td>\n",
              "    </tr>\n",
              "    <tr>\n",
              "      <th>3</th>\n",
              "      <td>895</td>\n",
              "      <td>3</td>\n",
              "      <td>Wirz, Mr. Albert</td>\n",
              "      <td>male</td>\n",
              "      <td>27.0</td>\n",
              "      <td>0</td>\n",
              "      <td>0</td>\n",
              "      <td>315154</td>\n",
              "      <td>8.6625</td>\n",
              "      <td>NaN</td>\n",
              "      <td>S</td>\n",
              "      <td>0</td>\n",
              "    </tr>\n",
              "    <tr>\n",
              "      <th>4</th>\n",
              "      <td>896</td>\n",
              "      <td>3</td>\n",
              "      <td>Hirvonen, Mrs. Alexander (Helga E Lindqvist)</td>\n",
              "      <td>female</td>\n",
              "      <td>22.0</td>\n",
              "      <td>1</td>\n",
              "      <td>1</td>\n",
              "      <td>3101298</td>\n",
              "      <td>12.2875</td>\n",
              "      <td>NaN</td>\n",
              "      <td>S</td>\n",
              "      <td>2</td>\n",
              "    </tr>\n",
              "  </tbody>\n",
              "</table>\n",
              "</div>"
            ],
            "text/plain": [
              "   PassengerId  Pclass  ... Embarked Title\n",
              "0          892       3  ...        Q     0\n",
              "1          893       3  ...        S     2\n",
              "2          894       2  ...        Q     0\n",
              "3          895       3  ...        S     0\n",
              "4          896       3  ...        S     2\n",
              "\n",
              "[5 rows x 12 columns]"
            ]
          },
          "metadata": {
            "tags": []
          },
          "execution_count": 115
        }
      ]
    },
    {
      "cell_type": "code",
      "metadata": {
        "id": "u9cSYizLcRAH",
        "colab_type": "code",
        "outputId": "c37c0217-2eb0-4abd-febf-7ac9a247901a",
        "colab": {
          "base_uri": "https://localhost:8080/",
          "height": 416
        }
      },
      "source": [
        "bar_chart('Title') # 0: Mr, 1: Miss, 2: Mrs"
      ],
      "execution_count": 116,
      "outputs": [
        {
          "output_type": "stream",
          "text": [
            "            0    1   2   3\n",
            "Survived   81  127  99  35\n",
            "Dead      436   55  26  32\n"
          ],
          "name": "stdout"
        },
        {
          "output_type": "display_data",
          "data": {
            "image/png": "[encoded data removed]",
            "text/plain": [
              "<Figure size 720x360 with 1 Axes>"
            ]
          },
          "metadata": {
            "tags": []
          }
        }
      ]
    },
    {
      "cell_type": "markdown",
      "metadata": {
        "id": "FE7AO55dc53R",
        "colab_type": "text"
      },
      "source": [
        "이제 Name 컬럼은 필요가 없으니 삭제를 하자."
      ]
    },
    {
      "cell_type": "code",
      "metadata": {
        "id": "KFLTNohqdEtu",
        "colab_type": "code",
        "colab": {}
      },
      "source": [
        "# delete unnecessaray feature from dataset\n",
        "train.drop('Name',axis=1, inplace=True)\n",
        "test.drop('Name',axis=1, inplace=True)"
      ],
      "execution_count": 0,
      "outputs": []
    },
    {
      "cell_type": "code",
      "metadata": {
        "id": "qlxIFmx2eL-0",
        "colab_type": "code",
        "outputId": "a251b481-65ae-4d12-cadb-1001c2e808c2",
        "colab": {
          "base_uri": "https://localhost:8080/",
          "height": 202
        }
      },
      "source": [
        "train.head()"
      ],
      "execution_count": 118,
      "outputs": [
        {
          "output_type": "execute_result",
          "data": {
            "text/html": [
              "<div>\n",
              "<style scoped>\n",
              "    .dataframe tbody tr th:only-of-type {\n",
              "        vertical-align: middle;\n",
              "    }\n",
              "\n",
              "    .dataframe tbody tr th {\n",
              "        vertical-align: top;\n",
              "    }\n",
              "\n",
              "    .dataframe thead th {\n",
              "        text-align: right;\n",
              "    }\n",
              "</style>\n",
              "<table border=\"1\" class=\"dataframe\">\n",
              "  <thead>\n",
              "    <tr style=\"text-align: right;\">\n",
              "      <th></th>\n",
              "      <th>PassengerId</th>\n",
              "      <th>Survived</th>\n",
              "      <th>Pclass</th>\n",
              "      <th>Sex</th>\n",
              "      <th>Age</th>\n",
              "      <th>SibSp</th>\n",
              "      <th>Parch</th>\n",
              "      <th>Ticket</th>\n",
              "      <th>Fare</th>\n",
              "      <th>Cabin</th>\n",
              "      <th>Embarked</th>\n",
              "      <th>Title</th>\n",
              "    </tr>\n",
              "  </thead>\n",
              "  <tbody>\n",
              "    <tr>\n",
              "      <th>0</th>\n",
              "      <td>1</td>\n",
              "      <td>0</td>\n",
              "      <td>3</td>\n",
              "      <td>male</td>\n",
              "      <td>22.0</td>\n",
              "      <td>1</td>\n",
              "      <td>0</td>\n",
              "      <td>A/5 21171</td>\n",
              "      <td>7.2500</td>\n",
              "      <td>NaN</td>\n",
              "      <td>S</td>\n",
              "      <td>0</td>\n",
              "    </tr>\n",
              "    <tr>\n",
              "      <th>1</th>\n",
              "      <td>2</td>\n",
              "      <td>1</td>\n",
              "      <td>1</td>\n",
              "      <td>female</td>\n",
              "      <td>38.0</td>\n",
              "      <td>1</td>\n",
              "      <td>0</td>\n",
              "      <td>PC 17599</td>\n",
              "      <td>71.2833</td>\n",
              "      <td>C85</td>\n",
              "      <td>C</td>\n",
              "      <td>2</td>\n",
              "    </tr>\n",
              "    <tr>\n",
              "      <th>2</th>\n",
              "      <td>3</td>\n",
              "      <td>1</td>\n",
              "      <td>3</td>\n",
              "      <td>female</td>\n",
              "      <td>26.0</td>\n",
              "      <td>0</td>\n",
              "      <td>0</td>\n",
              "      <td>STON/O2. 3101282</td>\n",
              "      <td>7.9250</td>\n",
              "      <td>NaN</td>\n",
              "      <td>S</td>\n",
              "      <td>1</td>\n",
              "    </tr>\n",
              "    <tr>\n",
              "      <th>3</th>\n",
              "      <td>4</td>\n",
              "      <td>1</td>\n",
              "      <td>1</td>\n",
              "      <td>female</td>\n",
              "      <td>35.0</td>\n",
              "      <td>1</td>\n",
              "      <td>0</td>\n",
              "      <td>113803</td>\n",
              "      <td>53.1000</td>\n",
              "      <td>C123</td>\n",
              "      <td>S</td>\n",
              "      <td>2</td>\n",
              "    </tr>\n",
              "    <tr>\n",
              "      <th>4</th>\n",
              "      <td>5</td>\n",
              "      <td>0</td>\n",
              "      <td>3</td>\n",
              "      <td>male</td>\n",
              "      <td>35.0</td>\n",
              "      <td>0</td>\n",
              "      <td>0</td>\n",
              "      <td>373450</td>\n",
              "      <td>8.0500</td>\n",
              "      <td>NaN</td>\n",
              "      <td>S</td>\n",
              "      <td>0</td>\n",
              "    </tr>\n",
              "  </tbody>\n",
              "</table>\n",
              "</div>"
            ],
            "text/plain": [
              "   PassengerId  Survived  Pclass     Sex  ...     Fare  Cabin  Embarked Title\n",
              "0            1         0       3    male  ...   7.2500    NaN         S     0\n",
              "1            2         1       1  female  ...  71.2833    C85         C     2\n",
              "2            3         1       3  female  ...   7.9250    NaN         S     1\n",
              "3            4         1       1  female  ...  53.1000   C123         S     2\n",
              "4            5         0       3    male  ...   8.0500    NaN         S     0\n",
              "\n",
              "[5 rows x 12 columns]"
            ]
          },
          "metadata": {
            "tags": []
          },
          "execution_count": 118
        }
      ]
    },
    {
      "cell_type": "code",
      "metadata": {
        "id": "_H3KgLzMgyVF",
        "colab_type": "code",
        "outputId": "c7505311-3cb2-4acb-a8a8-b0e609edb79c",
        "colab": {
          "base_uri": "https://localhost:8080/",
          "height": 202
        }
      },
      "source": [
        "test.head()"
      ],
      "execution_count": 119,
      "outputs": [
        {
          "output_type": "execute_result",
          "data": {
            "text/html": [
              "<div>\n",
              "<style scoped>\n",
              "    .dataframe tbody tr th:only-of-type {\n",
              "        vertical-align: middle;\n",
              "    }\n",
              "\n",
              "    .dataframe tbody tr th {\n",
              "        vertical-align: top;\n",
              "    }\n",
              "\n",
              "    .dataframe thead th {\n",
              "        text-align: right;\n",
              "    }\n",
              "</style>\n",
              "<table border=\"1\" class=\"dataframe\">\n",
              "  <thead>\n",
              "    <tr style=\"text-align: right;\">\n",
              "      <th></th>\n",
              "      <th>PassengerId</th>\n",
              "      <th>Pclass</th>\n",
              "      <th>Sex</th>\n",
              "      <th>Age</th>\n",
              "      <th>SibSp</th>\n",
              "      <th>Parch</th>\n",
              "      <th>Ticket</th>\n",
              "      <th>Fare</th>\n",
              "      <th>Cabin</th>\n",
              "      <th>Embarked</th>\n",
              "      <th>Title</th>\n",
              "    </tr>\n",
              "  </thead>\n",
              "  <tbody>\n",
              "    <tr>\n",
              "      <th>0</th>\n",
              "      <td>892</td>\n",
              "      <td>3</td>\n",
              "      <td>male</td>\n",
              "      <td>34.5</td>\n",
              "      <td>0</td>\n",
              "      <td>0</td>\n",
              "      <td>330911</td>\n",
              "      <td>7.8292</td>\n",
              "      <td>NaN</td>\n",
              "      <td>Q</td>\n",
              "      <td>0</td>\n",
              "    </tr>\n",
              "    <tr>\n",
              "      <th>1</th>\n",
              "      <td>893</td>\n",
              "      <td>3</td>\n",
              "      <td>female</td>\n",
              "      <td>47.0</td>\n",
              "      <td>1</td>\n",
              "      <td>0</td>\n",
              "      <td>363272</td>\n",
              "      <td>7.0000</td>\n",
              "      <td>NaN</td>\n",
              "      <td>S</td>\n",
              "      <td>2</td>\n",
              "    </tr>\n",
              "    <tr>\n",
              "      <th>2</th>\n",
              "      <td>894</td>\n",
              "      <td>2</td>\n",
              "      <td>male</td>\n",
              "      <td>62.0</td>\n",
              "      <td>0</td>\n",
              "      <td>0</td>\n",
              "      <td>240276</td>\n",
              "      <td>9.6875</td>\n",
              "      <td>NaN</td>\n",
              "      <td>Q</td>\n",
              "      <td>0</td>\n",
              "    </tr>\n",
              "    <tr>\n",
              "      <th>3</th>\n",
              "      <td>895</td>\n",
              "      <td>3</td>\n",
              "      <td>male</td>\n",
              "      <td>27.0</td>\n",
              "      <td>0</td>\n",
              "      <td>0</td>\n",
              "      <td>315154</td>\n",
              "      <td>8.6625</td>\n",
              "      <td>NaN</td>\n",
              "      <td>S</td>\n",
              "      <td>0</td>\n",
              "    </tr>\n",
              "    <tr>\n",
              "      <th>4</th>\n",
              "      <td>896</td>\n",
              "      <td>3</td>\n",
              "      <td>female</td>\n",
              "      <td>22.0</td>\n",
              "      <td>1</td>\n",
              "      <td>1</td>\n",
              "      <td>3101298</td>\n",
              "      <td>12.2875</td>\n",
              "      <td>NaN</td>\n",
              "      <td>S</td>\n",
              "      <td>2</td>\n",
              "    </tr>\n",
              "  </tbody>\n",
              "</table>\n",
              "</div>"
            ],
            "text/plain": [
              "   PassengerId  Pclass     Sex   Age  ...     Fare  Cabin Embarked  Title\n",
              "0          892       3    male  34.5  ...   7.8292    NaN        Q      0\n",
              "1          893       3  female  47.0  ...   7.0000    NaN        S      2\n",
              "2          894       2    male  62.0  ...   9.6875    NaN        Q      0\n",
              "3          895       3    male  27.0  ...   8.6625    NaN        S      0\n",
              "4          896       3  female  22.0  ...  12.2875    NaN        S      2\n",
              "\n",
              "[5 rows x 11 columns]"
            ]
          },
          "metadata": {
            "tags": []
          },
          "execution_count": 119
        }
      ]
    },
    {
      "cell_type": "markdown",
      "metadata": {
        "id": "-57wzLUOi2_y",
        "colab_type": "text"
      },
      "source": [
        "## 4.3 Sex\n",
        "- male:0, female:1"
      ]
    },
    {
      "cell_type": "code",
      "metadata": {
        "id": "xt1YUVtBi9E9",
        "colab_type": "code",
        "colab": {}
      },
      "source": [
        "sex_mapping ={'male':0,'female':1}\n",
        "for dataset in train_test_data:\n",
        "  dataset['Sex']=dataset['Sex'].map(sex_mapping)"
      ],
      "execution_count": 0,
      "outputs": []
    },
    {
      "cell_type": "code",
      "metadata": {
        "id": "5NdqpHoIkdIy",
        "colab_type": "code",
        "outputId": "c59a296d-295b-40b0-f501-9c40aac9ee6d",
        "colab": {
          "base_uri": "https://localhost:8080/",
          "height": 416
        }
      },
      "source": [
        "bar_chart('Sex')"
      ],
      "execution_count": 121,
      "outputs": [
        {
          "output_type": "stream",
          "text": [
            "            0    1\n",
            "Survived  109  233\n",
            "Dead      468   81\n"
          ],
          "name": "stdout"
        },
        {
          "output_type": "display_data",
          "data": {
            "image/png": "[encoded data removed]",
            "text/plain": [
              "<Figure size 720x360 with 1 Axes>"
            ]
          },
          "metadata": {
            "tags": []
          }
        }
      ]
    },
    {
      "cell_type": "markdown",
      "metadata": {
        "id": "o3Xs5lf3kYg9",
        "colab_type": "text"
      },
      "source": [
        "## 4.4 Age\n",
        "- 몇몇 age는 NaN값으로 되어있음. -> Missing age에 median 값을 넣어주자"
      ]
    },
    {
      "cell_type": "code",
      "metadata": {
        "id": "PHzu4y1Nk20e",
        "colab_type": "code",
        "outputId": "c3c4ff50-3cd5-4a6b-e26a-133a164dbf91",
        "colab": {
          "base_uri": "https://localhost:8080/",
          "height": 416
        }
      },
      "source": [
        "train.head(100)"
      ],
      "execution_count": 122,
      "outputs": [
        {
          "output_type": "execute_result",
          "data": {
            "text/html": [
              "<div>\n",
              "<style scoped>\n",
              "    .dataframe tbody tr th:only-of-type {\n",
              "        vertical-align: middle;\n",
              "    }\n",
              "\n",
              "    .dataframe tbody tr th {\n",
              "        vertical-align: top;\n",
              "    }\n",
              "\n",
              "    .dataframe thead th {\n",
              "        text-align: right;\n",
              "    }\n",
              "</style>\n",
              "<table border=\"1\" class=\"dataframe\">\n",
              "  <thead>\n",
              "    <tr style=\"text-align: right;\">\n",
              "      <th></th>\n",
              "      <th>PassengerId</th>\n",
              "      <th>Survived</th>\n",
              "      <th>Pclass</th>\n",
              "      <th>Sex</th>\n",
              "      <th>Age</th>\n",
              "      <th>SibSp</th>\n",
              "      <th>Parch</th>\n",
              "      <th>Ticket</th>\n",
              "      <th>Fare</th>\n",
              "      <th>Cabin</th>\n",
              "      <th>Embarked</th>\n",
              "      <th>Title</th>\n",
              "    </tr>\n",
              "  </thead>\n",
              "  <tbody>\n",
              "    <tr>\n",
              "      <th>0</th>\n",
              "      <td>1</td>\n",
              "      <td>0</td>\n",
              "      <td>3</td>\n",
              "      <td>0</td>\n",
              "      <td>22.0</td>\n",
              "      <td>1</td>\n",
              "      <td>0</td>\n",
              "      <td>A/5 21171</td>\n",
              "      <td>7.2500</td>\n",
              "      <td>NaN</td>\n",
              "      <td>S</td>\n",
              "      <td>0</td>\n",
              "    </tr>\n",
              "    <tr>\n",
              "      <th>1</th>\n",
              "      <td>2</td>\n",
              "      <td>1</td>\n",
              "      <td>1</td>\n",
              "      <td>1</td>\n",
              "      <td>38.0</td>\n",
              "      <td>1</td>\n",
              "      <td>0</td>\n",
              "      <td>PC 17599</td>\n",
              "      <td>71.2833</td>\n",
              "      <td>C85</td>\n",
              "      <td>C</td>\n",
              "      <td>2</td>\n",
              "    </tr>\n",
              "    <tr>\n",
              "      <th>2</th>\n",
              "      <td>3</td>\n",
              "      <td>1</td>\n",
              "      <td>3</td>\n",
              "      <td>1</td>\n",
              "      <td>26.0</td>\n",
              "      <td>0</td>\n",
              "      <td>0</td>\n",
              "      <td>STON/O2. 3101282</td>\n",
              "      <td>7.9250</td>\n",
              "      <td>NaN</td>\n",
              "      <td>S</td>\n",
              "      <td>1</td>\n",
              "    </tr>\n",
              "    <tr>\n",
              "      <th>3</th>\n",
              "      <td>4</td>\n",
              "      <td>1</td>\n",
              "      <td>1</td>\n",
              "      <td>1</td>\n",
              "      <td>35.0</td>\n",
              "      <td>1</td>\n",
              "      <td>0</td>\n",
              "      <td>113803</td>\n",
              "      <td>53.1000</td>\n",
              "      <td>C123</td>\n",
              "      <td>S</td>\n",
              "      <td>2</td>\n",
              "    </tr>\n",
              "    <tr>\n",
              "      <th>4</th>\n",
              "      <td>5</td>\n",
              "      <td>0</td>\n",
              "      <td>3</td>\n",
              "      <td>0</td>\n",
              "      <td>35.0</td>\n",
              "      <td>0</td>\n",
              "      <td>0</td>\n",
              "      <td>373450</td>\n",
              "      <td>8.0500</td>\n",
              "      <td>NaN</td>\n",
              "      <td>S</td>\n",
              "      <td>0</td>\n",
              "    </tr>\n",
              "    <tr>\n",
              "      <th>...</th>\n",
              "      <td>...</td>\n",
              "      <td>...</td>\n",
              "      <td>...</td>\n",
              "      <td>...</td>\n",
              "      <td>...</td>\n",
              "      <td>...</td>\n",
              "      <td>...</td>\n",
              "      <td>...</td>\n",
              "      <td>...</td>\n",
              "      <td>...</td>\n",
              "      <td>...</td>\n",
              "      <td>...</td>\n",
              "    </tr>\n",
              "    <tr>\n",
              "      <th>95</th>\n",
              "      <td>96</td>\n",
              "      <td>0</td>\n",
              "      <td>3</td>\n",
              "      <td>0</td>\n",
              "      <td>NaN</td>\n",
              "      <td>0</td>\n",
              "      <td>0</td>\n",
              "      <td>374910</td>\n",
              "      <td>8.0500</td>\n",
              "      <td>NaN</td>\n",
              "      <td>S</td>\n",
              "      <td>0</td>\n",
              "    </tr>\n",
              "    <tr>\n",
              "      <th>96</th>\n",
              "      <td>97</td>\n",
              "      <td>0</td>\n",
              "      <td>1</td>\n",
              "      <td>0</td>\n",
              "      <td>71.0</td>\n",
              "      <td>0</td>\n",
              "      <td>0</td>\n",
              "      <td>PC 17754</td>\n",
              "      <td>34.6542</td>\n",
              "      <td>A5</td>\n",
              "      <td>C</td>\n",
              "      <td>0</td>\n",
              "    </tr>\n",
              "    <tr>\n",
              "      <th>97</th>\n",
              "      <td>98</td>\n",
              "      <td>1</td>\n",
              "      <td>1</td>\n",
              "      <td>0</td>\n",
              "      <td>23.0</td>\n",
              "      <td>0</td>\n",
              "      <td>1</td>\n",
              "      <td>PC 17759</td>\n",
              "      <td>63.3583</td>\n",
              "      <td>D10 D12</td>\n",
              "      <td>C</td>\n",
              "      <td>0</td>\n",
              "    </tr>\n",
              "    <tr>\n",
              "      <th>98</th>\n",
              "      <td>99</td>\n",
              "      <td>1</td>\n",
              "      <td>2</td>\n",
              "      <td>1</td>\n",
              "      <td>34.0</td>\n",
              "      <td>0</td>\n",
              "      <td>1</td>\n",
              "      <td>231919</td>\n",
              "      <td>23.0000</td>\n",
              "      <td>NaN</td>\n",
              "      <td>S</td>\n",
              "      <td>2</td>\n",
              "    </tr>\n",
              "    <tr>\n",
              "      <th>99</th>\n",
              "      <td>100</td>\n",
              "      <td>0</td>\n",
              "      <td>2</td>\n",
              "      <td>0</td>\n",
              "      <td>34.0</td>\n",
              "      <td>1</td>\n",
              "      <td>0</td>\n",
              "      <td>244367</td>\n",
              "      <td>26.0000</td>\n",
              "      <td>NaN</td>\n",
              "      <td>S</td>\n",
              "      <td>0</td>\n",
              "    </tr>\n",
              "  </tbody>\n",
              "</table>\n",
              "<p>100 rows × 12 columns</p>\n",
              "</div>"
            ],
            "text/plain": [
              "    PassengerId  Survived  Pclass  Sex  ...     Fare    Cabin  Embarked Title\n",
              "0             1         0       3    0  ...   7.2500      NaN         S     0\n",
              "1             2         1       1    1  ...  71.2833      C85         C     2\n",
              "2             3         1       3    1  ...   7.9250      NaN         S     1\n",
              "3             4         1       1    1  ...  53.1000     C123         S     2\n",
              "4             5         0       3    0  ...   8.0500      NaN         S     0\n",
              "..          ...       ...     ...  ...  ...      ...      ...       ...   ...\n",
              "95           96         0       3    0  ...   8.0500      NaN         S     0\n",
              "96           97         0       1    0  ...  34.6542       A5         C     0\n",
              "97           98         1       1    0  ...  63.3583  D10 D12         C     0\n",
              "98           99         1       2    1  ...  23.0000      NaN         S     2\n",
              "99          100         0       2    0  ...  26.0000      NaN         S     0\n",
              "\n",
              "[100 rows x 12 columns]"
            ]
          },
          "metadata": {
            "tags": []
          },
          "execution_count": 122
        }
      ]
    },
    {
      "cell_type": "code",
      "metadata": {
        "id": "WJzbcy--k_iE",
        "colab_type": "code",
        "colab": {}
      },
      "source": [
        "# fill missing age with median age for each title (Mr, Mrs, Miss, Others)\n",
        "train['Age'].fillna(train.groupby('Title')['Age'].transform('median'),inplace=True)\n",
        "test['Age'].fillna(test.groupby('Title')['Age'].transform('median'),inplace=True)"
      ],
      "execution_count": 0,
      "outputs": []
    },
    {
      "cell_type": "code",
      "metadata": {
        "id": "Hrb2A2Yom674",
        "colab_type": "code",
        "outputId": "7f0b38ec-4659-4283-9c79-b2ec1bc55240",
        "colab": {
          "base_uri": "https://localhost:8080/",
          "height": 221
        }
      },
      "source": [
        "facet = sns.FacetGrid(train,hue ='Survived',aspect=4)\n",
        "facet.map(sns.kdeplot,'Age',shade=True)\n",
        "facet.set(xlim=(0,train['Age'].max()))\n",
        "facet.add_legend()\n",
        "\n",
        "plt.show()"
      ],
      "execution_count": 124,
      "outputs": [
        {
          "output_type": "display_data",
          "data": {
            "image/png": "[encoded data removed]",
            "text/plain": [
              "<Figure size 918.05x216 with 1 Axes>"
            ]
          },
          "metadata": {
            "tags": []
          }
        }
      ]
    },
    {
      "cell_type": "markdown",
      "metadata": {
        "id": "segf6xMOo602",
        "colab_type": "text"
      },
      "source": [
        "- 0부터 16, 16-26, 26-36, 36-62, 62이상 구간마다 생존 여부의 차이를 발견할 수 있음."
      ]
    },
    {
      "cell_type": "code",
      "metadata": {
        "id": "IVTYnxQKnt48",
        "colab_type": "code",
        "outputId": "22d85530-bc1c-482a-f0f7-cc5f50dcdc37",
        "colab": {
          "base_uri": "https://localhost:8080/",
          "height": 239
        }
      },
      "source": [
        "facet = sns.FacetGrid(train,hue ='Survived',aspect=4)\n",
        "facet.map(sns.kdeplot,'Age',shade=True)\n",
        "facet.set(xlim=(0,train['Age'].max()))\n",
        "facet.add_legend()\n",
        "\n",
        "plt.xlim(0,20)"
      ],
      "execution_count": 125,
      "outputs": [
        {
          "output_type": "execute_result",
          "data": {
            "text/plain": [
              "(0, 20)"
            ]
          },
          "metadata": {
            "tags": []
          },
          "execution_count": 125
        },
        {
          "output_type": "display_data",
          "data": {
            "image/png": "[encoded data removed]",
            "text/plain": [
              "<Figure size 918.05x216 with 1 Axes>"
            ]
          },
          "metadata": {
            "tags": []
          }
        }
      ]
    },
    {
      "cell_type": "code",
      "metadata": {
        "id": "FPXK0XZRoKwe",
        "colab_type": "code",
        "outputId": "abcafdeb-f145-47b8-c9fd-34e8f7d0dd0e",
        "colab": {
          "base_uri": "https://localhost:8080/",
          "height": 239
        }
      },
      "source": [
        "facet = sns.FacetGrid(train,hue ='Survived',aspect=4)\n",
        "facet.map(sns.kdeplot,'Age',shade=True)\n",
        "facet.set(xlim=(0,train['Age'].max()))\n",
        "facet.add_legend()\n",
        "\n",
        "plt.xlim(20,40) "
      ],
      "execution_count": 126,
      "outputs": [
        {
          "output_type": "execute_result",
          "data": {
            "text/plain": [
              "(20, 40)"
            ]
          },
          "metadata": {
            "tags": []
          },
          "execution_count": 126
        },
        {
          "output_type": "display_data",
          "data": {
            "image/png": "[encoded data removed]",
            "text/plain": [
              "<Figure size 918.05x216 with 1 Axes>"
            ]
          },
          "metadata": {
            "tags": []
          }
        }
      ]
    },
    {
      "cell_type": "markdown",
      "metadata": {
        "id": "CH-u4pZ3oWyM",
        "colab_type": "text"
      },
      "source": [
        "### 4.4.3 Binnig\n",
        "- 카테고리별로 나이를 담는 것 (10대, 20대,30대)\n",
        "- Sequential한 정보를 처리할 때 쓰임"
      ]
    },
    {
      "cell_type": "code",
      "metadata": {
        "id": "6H1gqrQ6pkhX",
        "colab_type": "code",
        "colab": {}
      },
      "source": [
        "for dataset in train_test_data:\n",
        "  dataset.loc[dataset['Age']<=16,'Age']=0,\n",
        "  dataset.loc[(dataset['Age']>16) & (dataset['Age']<=26),'Age']=1,\n",
        "  dataset.loc[(dataset['Age']>26) & (dataset['Age']<=36),'Age']=2,\n",
        "  dataset.loc[(dataset['Age']>36) & (dataset['Age']<=62),'Age']=3,\n",
        "  dataset.loc[dataset['Age']>62,'Age']=4\n",
        "              "
      ],
      "execution_count": 0,
      "outputs": []
    },
    {
      "cell_type": "code",
      "metadata": {
        "id": "1Uwp49Qjqu5j",
        "colab_type": "code",
        "outputId": "52a27844-ffc8-4701-e1f0-0da6610e7bd3",
        "colab": {
          "base_uri": "https://localhost:8080/",
          "height": 202
        }
      },
      "source": [
        "train.head()"
      ],
      "execution_count": 128,
      "outputs": [
        {
          "output_type": "execute_result",
          "data": {
            "text/html": [
              "<div>\n",
              "<style scoped>\n",
              "    .dataframe tbody tr th:only-of-type {\n",
              "        vertical-align: middle;\n",
              "    }\n",
              "\n",
              "    .dataframe tbody tr th {\n",
              "        vertical-align: top;\n",
              "    }\n",
              "\n",
              "    .dataframe thead th {\n",
              "        text-align: right;\n",
              "    }\n",
              "</style>\n",
              "<table border=\"1\" class=\"dataframe\">\n",
              "  <thead>\n",
              "    <tr style=\"text-align: right;\">\n",
              "      <th></th>\n",
              "      <th>PassengerId</th>\n",
              "      <th>Survived</th>\n",
              "      <th>Pclass</th>\n",
              "      <th>Sex</th>\n",
              "      <th>Age</th>\n",
              "      <th>SibSp</th>\n",
              "      <th>Parch</th>\n",
              "      <th>Ticket</th>\n",
              "      <th>Fare</th>\n",
              "      <th>Cabin</th>\n",
              "      <th>Embarked</th>\n",
              "      <th>Title</th>\n",
              "    </tr>\n",
              "  </thead>\n",
              "  <tbody>\n",
              "    <tr>\n",
              "      <th>0</th>\n",
              "      <td>1</td>\n",
              "      <td>0</td>\n",
              "      <td>3</td>\n",
              "      <td>0</td>\n",
              "      <td>1.0</td>\n",
              "      <td>1</td>\n",
              "      <td>0</td>\n",
              "      <td>A/5 21171</td>\n",
              "      <td>7.2500</td>\n",
              "      <td>NaN</td>\n",
              "      <td>S</td>\n",
              "      <td>0</td>\n",
              "    </tr>\n",
              "    <tr>\n",
              "      <th>1</th>\n",
              "      <td>2</td>\n",
              "      <td>1</td>\n",
              "      <td>1</td>\n",
              "      <td>1</td>\n",
              "      <td>3.0</td>\n",
              "      <td>1</td>\n",
              "      <td>0</td>\n",
              "      <td>PC 17599</td>\n",
              "      <td>71.2833</td>\n",
              "      <td>C85</td>\n",
              "      <td>C</td>\n",
              "      <td>2</td>\n",
              "    </tr>\n",
              "    <tr>\n",
              "      <th>2</th>\n",
              "      <td>3</td>\n",
              "      <td>1</td>\n",
              "      <td>3</td>\n",
              "      <td>1</td>\n",
              "      <td>1.0</td>\n",
              "      <td>0</td>\n",
              "      <td>0</td>\n",
              "      <td>STON/O2. 3101282</td>\n",
              "      <td>7.9250</td>\n",
              "      <td>NaN</td>\n",
              "      <td>S</td>\n",
              "      <td>1</td>\n",
              "    </tr>\n",
              "    <tr>\n",
              "      <th>3</th>\n",
              "      <td>4</td>\n",
              "      <td>1</td>\n",
              "      <td>1</td>\n",
              "      <td>1</td>\n",
              "      <td>2.0</td>\n",
              "      <td>1</td>\n",
              "      <td>0</td>\n",
              "      <td>113803</td>\n",
              "      <td>53.1000</td>\n",
              "      <td>C123</td>\n",
              "      <td>S</td>\n",
              "      <td>2</td>\n",
              "    </tr>\n",
              "    <tr>\n",
              "      <th>4</th>\n",
              "      <td>5</td>\n",
              "      <td>0</td>\n",
              "      <td>3</td>\n",
              "      <td>0</td>\n",
              "      <td>2.0</td>\n",
              "      <td>0</td>\n",
              "      <td>0</td>\n",
              "      <td>373450</td>\n",
              "      <td>8.0500</td>\n",
              "      <td>NaN</td>\n",
              "      <td>S</td>\n",
              "      <td>0</td>\n",
              "    </tr>\n",
              "  </tbody>\n",
              "</table>\n",
              "</div>"
            ],
            "text/plain": [
              "   PassengerId  Survived  Pclass  Sex  ...     Fare  Cabin  Embarked Title\n",
              "0            1         0       3    0  ...   7.2500    NaN         S     0\n",
              "1            2         1       1    1  ...  71.2833    C85         C     2\n",
              "2            3         1       3    1  ...   7.9250    NaN         S     1\n",
              "3            4         1       1    1  ...  53.1000   C123         S     2\n",
              "4            5         0       3    0  ...   8.0500    NaN         S     0\n",
              "\n",
              "[5 rows x 12 columns]"
            ]
          },
          "metadata": {
            "tags": []
          },
          "execution_count": 128
        }
      ]
    },
    {
      "cell_type": "code",
      "metadata": {
        "id": "4qVU2OwMqxmg",
        "colab_type": "code",
        "outputId": "b7fea0d3-0ab2-48fe-8657-6d51be3c44a1",
        "colab": {
          "base_uri": "https://localhost:8080/",
          "height": 416
        }
      },
      "source": [
        "bar_chart('Age')"
      ],
      "execution_count": 129,
      "outputs": [
        {
          "output_type": "stream",
          "text": [
            "          2.0  1.0  3.0  0.0  4.0\n",
            "Survived  116   97   69   57    3\n",
            "Dead      220  158  111   48   12\n"
          ],
          "name": "stdout"
        },
        {
          "output_type": "display_data",
          "data": {
            "image/png": "[encoded data removed]",
            "text/plain": [
              "<Figure size 720x360 with 1 Axes>"
            ]
          },
          "metadata": {
            "tags": []
          }
        }
      ]
    },
    {
      "cell_type": "markdown",
      "metadata": {
        "id": "MbuJhPATsCGe",
        "colab_type": "text"
      },
      "source": [
        "## 4.5 Embarked"
      ]
    },
    {
      "cell_type": "markdown",
      "metadata": {
        "id": "0QYmNI6VsES7",
        "colab_type": "text"
      },
      "source": [
        "### 4.5.1 filling missing values"
      ]
    },
    {
      "cell_type": "code",
      "metadata": {
        "id": "F553wm78sHWi",
        "colab_type": "code",
        "outputId": "2577d2c3-362e-46ae-ea37-0cc8a0087af7",
        "colab": {
          "base_uri": "https://localhost:8080/",
          "height": 378
        }
      },
      "source": [
        "Pclass1 = train[train['Pclass']==1]['Embarked'].value_counts()\n",
        "Pclass2 = train[train['Pclass']==2]['Embarked'].value_counts()\n",
        "Pclass3 = train[train['Pclass']==3]['Embarked'].value_counts()\n",
        "\n",
        "df=pd.DataFrame([Pclass1,Pclass2,Pclass3])\n",
        "df.index = ['1st class','2st class','3st class']\n",
        "df.plot(kind='bar',stacked=True,figsize=(10,5))"
      ],
      "execution_count": 130,
      "outputs": [
        {
          "output_type": "execute_result",
          "data": {
            "text/plain": [
              "<matplotlib.axes._subplots.AxesSubplot at 0x7f8d95fa9dd8>"
            ]
          },
          "metadata": {
            "tags": []
          },
          "execution_count": 130
        },
        {
          "output_type": "display_data",
          "data": {
            "image/png": "[encoded data removed]",
            "text/plain": [
              "<Figure size 720x360 with 1 Axes>"
            ]
          },
          "metadata": {
            "tags": []
          }
        }
      ]
    },
    {
      "cell_type": "markdown",
      "metadata": {
        "id": "DDV_buUas1ZD",
        "colab_type": "text"
      },
      "source": [
        "- S도시가 모든 좌석별로 거의 절반 이상 차지하기 때문에 Embarked 정보가 없으면 S로 해도 괜찮을 것 같음."
      ]
    },
    {
      "cell_type": "code",
      "metadata": {
        "id": "oCcb1qKktDX8",
        "colab_type": "code",
        "colab": {}
      },
      "source": [
        "for dataset in train_test_data:\n",
        "  dataset['Embarked'] = dataset['Embarked'].fillna('S')"
      ],
      "execution_count": 0,
      "outputs": []
    },
    {
      "cell_type": "code",
      "metadata": {
        "id": "oQh5wS4CtNvn",
        "colab_type": "code",
        "outputId": "24ba6450-dd49-418a-c6cc-858140625563",
        "colab": {
          "base_uri": "https://localhost:8080/",
          "height": 202
        }
      },
      "source": [
        "train.head()"
      ],
      "execution_count": 132,
      "outputs": [
        {
          "output_type": "execute_result",
          "data": {
            "text/html": [
              "<div>\n",
              "<style scoped>\n",
              "    .dataframe tbody tr th:only-of-type {\n",
              "        vertical-align: middle;\n",
              "    }\n",
              "\n",
              "    .dataframe tbody tr th {\n",
              "        vertical-align: top;\n",
              "    }\n",
              "\n",
              "    .dataframe thead th {\n",
              "        text-align: right;\n",
              "    }\n",
              "</style>\n",
              "<table border=\"1\" class=\"dataframe\">\n",
              "  <thead>\n",
              "    <tr style=\"text-align: right;\">\n",
              "      <th></th>\n",
              "      <th>PassengerId</th>\n",
              "      <th>Survived</th>\n",
              "      <th>Pclass</th>\n",
              "      <th>Sex</th>\n",
              "      <th>Age</th>\n",
              "      <th>SibSp</th>\n",
              "      <th>Parch</th>\n",
              "      <th>Ticket</th>\n",
              "      <th>Fare</th>\n",
              "      <th>Cabin</th>\n",
              "      <th>Embarked</th>\n",
              "      <th>Title</th>\n",
              "    </tr>\n",
              "  </thead>\n",
              "  <tbody>\n",
              "    <tr>\n",
              "      <th>0</th>\n",
              "      <td>1</td>\n",
              "      <td>0</td>\n",
              "      <td>3</td>\n",
              "      <td>0</td>\n",
              "      <td>1.0</td>\n",
              "      <td>1</td>\n",
              "      <td>0</td>\n",
              "      <td>A/5 21171</td>\n",
              "      <td>7.2500</td>\n",
              "      <td>NaN</td>\n",
              "      <td>S</td>\n",
              "      <td>0</td>\n",
              "    </tr>\n",
              "    <tr>\n",
              "      <th>1</th>\n",
              "      <td>2</td>\n",
              "      <td>1</td>\n",
              "      <td>1</td>\n",
              "      <td>1</td>\n",
              "      <td>3.0</td>\n",
              "      <td>1</td>\n",
              "      <td>0</td>\n",
              "      <td>PC 17599</td>\n",
              "      <td>71.2833</td>\n",
              "      <td>C85</td>\n",
              "      <td>C</td>\n",
              "      <td>2</td>\n",
              "    </tr>\n",
              "    <tr>\n",
              "      <th>2</th>\n",
              "      <td>3</td>\n",
              "      <td>1</td>\n",
              "      <td>3</td>\n",
              "      <td>1</td>\n",
              "      <td>1.0</td>\n",
              "      <td>0</td>\n",
              "      <td>0</td>\n",
              "      <td>STON/O2. 3101282</td>\n",
              "      <td>7.9250</td>\n",
              "      <td>NaN</td>\n",
              "      <td>S</td>\n",
              "      <td>1</td>\n",
              "    </tr>\n",
              "    <tr>\n",
              "      <th>3</th>\n",
              "      <td>4</td>\n",
              "      <td>1</td>\n",
              "      <td>1</td>\n",
              "      <td>1</td>\n",
              "      <td>2.0</td>\n",
              "      <td>1</td>\n",
              "      <td>0</td>\n",
              "      <td>113803</td>\n",
              "      <td>53.1000</td>\n",
              "      <td>C123</td>\n",
              "      <td>S</td>\n",
              "      <td>2</td>\n",
              "    </tr>\n",
              "    <tr>\n",
              "      <th>4</th>\n",
              "      <td>5</td>\n",
              "      <td>0</td>\n",
              "      <td>3</td>\n",
              "      <td>0</td>\n",
              "      <td>2.0</td>\n",
              "      <td>0</td>\n",
              "      <td>0</td>\n",
              "      <td>373450</td>\n",
              "      <td>8.0500</td>\n",
              "      <td>NaN</td>\n",
              "      <td>S</td>\n",
              "      <td>0</td>\n",
              "    </tr>\n",
              "  </tbody>\n",
              "</table>\n",
              "</div>"
            ],
            "text/plain": [
              "   PassengerId  Survived  Pclass  Sex  ...     Fare  Cabin  Embarked Title\n",
              "0            1         0       3    0  ...   7.2500    NaN         S     0\n",
              "1            2         1       1    1  ...  71.2833    C85         C     2\n",
              "2            3         1       3    1  ...   7.9250    NaN         S     1\n",
              "3            4         1       1    1  ...  53.1000   C123         S     2\n",
              "4            5         0       3    0  ...   8.0500    NaN         S     0\n",
              "\n",
              "[5 rows x 12 columns]"
            ]
          },
          "metadata": {
            "tags": []
          },
          "execution_count": 132
        }
      ]
    },
    {
      "cell_type": "code",
      "metadata": {
        "id": "drH7I0YOtS8y",
        "colab_type": "code",
        "colab": {}
      },
      "source": [
        "embarked_mapping={'S':0,'C':1,'Q':2}\n",
        "for dataset in train_test_data:\n",
        "  dataset['Embarked'] = dataset['Embarked'].map(embarked_mapping)"
      ],
      "execution_count": 0,
      "outputs": []
    },
    {
      "cell_type": "markdown",
      "metadata": {
        "id": "bN1MXTDhtjp9",
        "colab_type": "text"
      },
      "source": [
        "## 4.6 Fare\n",
        "- 가격은 좌석과 관련이 있기때문에 'Pclass'의 Fare의 median 값으로 넣어주면 될 듯."
      ]
    },
    {
      "cell_type": "code",
      "metadata": {
        "id": "E3m0XCuftn5C",
        "colab_type": "code",
        "colab": {}
      },
      "source": [
        "# fill missing Fare with median or each Pclass\n",
        "train['Fare'].fillna(train.groupby('Pclass')['Fare'].transform('median'),inplace=True)\n",
        "test['Fare'].fillna(test.groupby('Pclass')['Fare'].transform('median'),inplace=True)"
      ],
      "execution_count": 0,
      "outputs": []
    },
    {
      "cell_type": "code",
      "metadata": {
        "id": "F9mBwAC8uPnn",
        "colab_type": "code",
        "outputId": "fbd6e7b9-3863-416d-e6d3-a5eb4826630d",
        "colab": {
          "base_uri": "https://localhost:8080/",
          "height": 221
        }
      },
      "source": [
        "facet = sns.FacetGrid(train,hue ='Survived',aspect=4)\n",
        "facet.map(sns.kdeplot,'Fare',shade=True)\n",
        "facet.set(xlim=(0,train['Fare'].max()))\n",
        "facet.add_legend()\n",
        "\n",
        "plt.show() #싼 티켓에서 많은 사람이 죽은 것을 확인 할 수있음."
      ],
      "execution_count": 135,
      "outputs": [
        {
          "output_type": "display_data",
          "data": {
            "image/png": "[encoded data removed]",
            "text/plain": [
              "<Figure size 918.05x216 with 1 Axes>"
            ]
          },
          "metadata": {
            "tags": []
          }
        }
      ]
    },
    {
      "cell_type": "code",
      "metadata": {
        "id": "Hqyr-Y8tulPV",
        "colab_type": "code",
        "outputId": "73b770d7-8ba4-4d8d-b4ff-f68f49cdfe85",
        "colab": {
          "base_uri": "https://localhost:8080/",
          "height": 239
        }
      },
      "source": [
        "facet = sns.FacetGrid(train,hue ='Survived',aspect=4)\n",
        "facet.map(sns.kdeplot,'Fare',shade=True)\n",
        "facet.set(xlim=(0,train['Fare'].max()))\n",
        "facet.add_legend()\n",
        "\n",
        "plt.xlim(0,50)"
      ],
      "execution_count": 136,
      "outputs": [
        {
          "output_type": "execute_result",
          "data": {
            "text/plain": [
              "(0, 50)"
            ]
          },
          "metadata": {
            "tags": []
          },
          "execution_count": 136
        },
        {
          "output_type": "display_data",
          "data": {
            "image/png": "[encoded data removed]",
            "text/plain": [
              "<Figure size 918.05x216 with 1 Axes>"
            ]
          },
          "metadata": {
            "tags": []
          }
        }
      ]
    },
    {
      "cell_type": "code",
      "metadata": {
        "id": "jYa0CBr9u_js",
        "colab_type": "code",
        "colab": {}
      },
      "source": [
        "for dataset in train_test_data:\n",
        "  dataset.loc[dataset['Fare']<=17,'Fare']=0,\n",
        "  dataset.loc[(dataset['Fare']>17) & (dataset['Fare']<=30),'Fare']=1,\n",
        "  dataset.loc[(dataset['Fare']>30) & (dataset['Fare']<=100),'Fare']=2,\n",
        "  dataset.loc[dataset['Fare']>100,'Fare']=3  "
      ],
      "execution_count": 0,
      "outputs": []
    },
    {
      "cell_type": "code",
      "metadata": {
        "id": "spALtbIIwhZ7",
        "colab_type": "code",
        "outputId": "daac14ac-2299-45e4-a4a0-536c3f9ee795",
        "colab": {
          "base_uri": "https://localhost:8080/",
          "height": 202
        }
      },
      "source": [
        "train.head()"
      ],
      "execution_count": 138,
      "outputs": [
        {
          "output_type": "execute_result",
          "data": {
            "text/html": [
              "<div>\n",
              "<style scoped>\n",
              "    .dataframe tbody tr th:only-of-type {\n",
              "        vertical-align: middle;\n",
              "    }\n",
              "\n",
              "    .dataframe tbody tr th {\n",
              "        vertical-align: top;\n",
              "    }\n",
              "\n",
              "    .dataframe thead th {\n",
              "        text-align: right;\n",
              "    }\n",
              "</style>\n",
              "<table border=\"1\" class=\"dataframe\">\n",
              "  <thead>\n",
              "    <tr style=\"text-align: right;\">\n",
              "      <th></th>\n",
              "      <th>PassengerId</th>\n",
              "      <th>Survived</th>\n",
              "      <th>Pclass</th>\n",
              "      <th>Sex</th>\n",
              "      <th>Age</th>\n",
              "      <th>SibSp</th>\n",
              "      <th>Parch</th>\n",
              "      <th>Ticket</th>\n",
              "      <th>Fare</th>\n",
              "      <th>Cabin</th>\n",
              "      <th>Embarked</th>\n",
              "      <th>Title</th>\n",
              "    </tr>\n",
              "  </thead>\n",
              "  <tbody>\n",
              "    <tr>\n",
              "      <th>0</th>\n",
              "      <td>1</td>\n",
              "      <td>0</td>\n",
              "      <td>3</td>\n",
              "      <td>0</td>\n",
              "      <td>1.0</td>\n",
              "      <td>1</td>\n",
              "      <td>0</td>\n",
              "      <td>A/5 21171</td>\n",
              "      <td>0.0</td>\n",
              "      <td>NaN</td>\n",
              "      <td>0</td>\n",
              "      <td>0</td>\n",
              "    </tr>\n",
              "    <tr>\n",
              "      <th>1</th>\n",
              "      <td>2</td>\n",
              "      <td>1</td>\n",
              "      <td>1</td>\n",
              "      <td>1</td>\n",
              "      <td>3.0</td>\n",
              "      <td>1</td>\n",
              "      <td>0</td>\n",
              "      <td>PC 17599</td>\n",
              "      <td>2.0</td>\n",
              "      <td>C85</td>\n",
              "      <td>1</td>\n",
              "      <td>2</td>\n",
              "    </tr>\n",
              "    <tr>\n",
              "      <th>2</th>\n",
              "      <td>3</td>\n",
              "      <td>1</td>\n",
              "      <td>3</td>\n",
              "      <td>1</td>\n",
              "      <td>1.0</td>\n",
              "      <td>0</td>\n",
              "      <td>0</td>\n",
              "      <td>STON/O2. 3101282</td>\n",
              "      <td>0.0</td>\n",
              "      <td>NaN</td>\n",
              "      <td>0</td>\n",
              "      <td>1</td>\n",
              "    </tr>\n",
              "    <tr>\n",
              "      <th>3</th>\n",
              "      <td>4</td>\n",
              "      <td>1</td>\n",
              "      <td>1</td>\n",
              "      <td>1</td>\n",
              "      <td>2.0</td>\n",
              "      <td>1</td>\n",
              "      <td>0</td>\n",
              "      <td>113803</td>\n",
              "      <td>2.0</td>\n",
              "      <td>C123</td>\n",
              "      <td>0</td>\n",
              "      <td>2</td>\n",
              "    </tr>\n",
              "    <tr>\n",
              "      <th>4</th>\n",
              "      <td>5</td>\n",
              "      <td>0</td>\n",
              "      <td>3</td>\n",
              "      <td>0</td>\n",
              "      <td>2.0</td>\n",
              "      <td>0</td>\n",
              "      <td>0</td>\n",
              "      <td>373450</td>\n",
              "      <td>0.0</td>\n",
              "      <td>NaN</td>\n",
              "      <td>0</td>\n",
              "      <td>0</td>\n",
              "    </tr>\n",
              "  </tbody>\n",
              "</table>\n",
              "</div>"
            ],
            "text/plain": [
              "   PassengerId  Survived  Pclass  Sex  ...  Fare  Cabin  Embarked Title\n",
              "0            1         0       3    0  ...   0.0    NaN         0     0\n",
              "1            2         1       1    1  ...   2.0    C85         1     2\n",
              "2            3         1       3    1  ...   0.0    NaN         0     1\n",
              "3            4         1       1    1  ...   2.0   C123         0     2\n",
              "4            5         0       3    0  ...   0.0    NaN         0     0\n",
              "\n",
              "[5 rows x 12 columns]"
            ]
          },
          "metadata": {
            "tags": []
          },
          "execution_count": 138
        }
      ]
    },
    {
      "cell_type": "code",
      "metadata": {
        "id": "BEa_-kpDwkOs",
        "colab_type": "code",
        "outputId": "2987bfd4-bc99-4b45-9ccd-e6f1836e8325",
        "colab": {
          "base_uri": "https://localhost:8080/",
          "height": 202
        }
      },
      "source": [
        "test.head()"
      ],
      "execution_count": 139,
      "outputs": [
        {
          "output_type": "execute_result",
          "data": {
            "text/html": [
              "<div>\n",
              "<style scoped>\n",
              "    .dataframe tbody tr th:only-of-type {\n",
              "        vertical-align: middle;\n",
              "    }\n",
              "\n",
              "    .dataframe tbody tr th {\n",
              "        vertical-align: top;\n",
              "    }\n",
              "\n",
              "    .dataframe thead th {\n",
              "        text-align: right;\n",
              "    }\n",
              "</style>\n",
              "<table border=\"1\" class=\"dataframe\">\n",
              "  <thead>\n",
              "    <tr style=\"text-align: right;\">\n",
              "      <th></th>\n",
              "      <th>PassengerId</th>\n",
              "      <th>Pclass</th>\n",
              "      <th>Sex</th>\n",
              "      <th>Age</th>\n",
              "      <th>SibSp</th>\n",
              "      <th>Parch</th>\n",
              "      <th>Ticket</th>\n",
              "      <th>Fare</th>\n",
              "      <th>Cabin</th>\n",
              "      <th>Embarked</th>\n",
              "      <th>Title</th>\n",
              "    </tr>\n",
              "  </thead>\n",
              "  <tbody>\n",
              "    <tr>\n",
              "      <th>0</th>\n",
              "      <td>892</td>\n",
              "      <td>3</td>\n",
              "      <td>0</td>\n",
              "      <td>2.0</td>\n",
              "      <td>0</td>\n",
              "      <td>0</td>\n",
              "      <td>330911</td>\n",
              "      <td>0.0</td>\n",
              "      <td>NaN</td>\n",
              "      <td>2</td>\n",
              "      <td>0</td>\n",
              "    </tr>\n",
              "    <tr>\n",
              "      <th>1</th>\n",
              "      <td>893</td>\n",
              "      <td>3</td>\n",
              "      <td>1</td>\n",
              "      <td>3.0</td>\n",
              "      <td>1</td>\n",
              "      <td>0</td>\n",
              "      <td>363272</td>\n",
              "      <td>0.0</td>\n",
              "      <td>NaN</td>\n",
              "      <td>0</td>\n",
              "      <td>2</td>\n",
              "    </tr>\n",
              "    <tr>\n",
              "      <th>2</th>\n",
              "      <td>894</td>\n",
              "      <td>2</td>\n",
              "      <td>0</td>\n",
              "      <td>3.0</td>\n",
              "      <td>0</td>\n",
              "      <td>0</td>\n",
              "      <td>240276</td>\n",
              "      <td>0.0</td>\n",
              "      <td>NaN</td>\n",
              "      <td>2</td>\n",
              "      <td>0</td>\n",
              "    </tr>\n",
              "    <tr>\n",
              "      <th>3</th>\n",
              "      <td>895</td>\n",
              "      <td>3</td>\n",
              "      <td>0</td>\n",
              "      <td>2.0</td>\n",
              "      <td>0</td>\n",
              "      <td>0</td>\n",
              "      <td>315154</td>\n",
              "      <td>0.0</td>\n",
              "      <td>NaN</td>\n",
              "      <td>0</td>\n",
              "      <td>0</td>\n",
              "    </tr>\n",
              "    <tr>\n",
              "      <th>4</th>\n",
              "      <td>896</td>\n",
              "      <td>3</td>\n",
              "      <td>1</td>\n",
              "      <td>1.0</td>\n",
              "      <td>1</td>\n",
              "      <td>1</td>\n",
              "      <td>3101298</td>\n",
              "      <td>0.0</td>\n",
              "      <td>NaN</td>\n",
              "      <td>0</td>\n",
              "      <td>2</td>\n",
              "    </tr>\n",
              "  </tbody>\n",
              "</table>\n",
              "</div>"
            ],
            "text/plain": [
              "   PassengerId  Pclass  Sex  Age  SibSp  ...   Ticket Fare  Cabin Embarked  Title\n",
              "0          892       3    0  2.0      0  ...   330911  0.0    NaN        2      0\n",
              "1          893       3    1  3.0      1  ...   363272  0.0    NaN        0      2\n",
              "2          894       2    0  3.0      0  ...   240276  0.0    NaN        2      0\n",
              "3          895       3    0  2.0      0  ...   315154  0.0    NaN        0      0\n",
              "4          896       3    1  1.0      1  ...  3101298  0.0    NaN        0      2\n",
              "\n",
              "[5 rows x 11 columns]"
            ]
          },
          "metadata": {
            "tags": []
          },
          "execution_count": 139
        }
      ]
    },
    {
      "cell_type": "markdown",
      "metadata": {
        "id": "LW6so4o7wuXE",
        "colab_type": "text"
      },
      "source": [
        "## 4.7 Cabin"
      ]
    },
    {
      "cell_type": "code",
      "metadata": {
        "id": "pVF_hM1uw6SV",
        "colab_type": "code",
        "outputId": "5f24ccb6-52f8-4ef4-ade9-c2b4cd4725a9",
        "colab": {
          "base_uri": "https://localhost:8080/",
          "height": 238
        }
      },
      "source": [
        "train.Cabin.value_counts()"
      ],
      "execution_count": 140,
      "outputs": [
        {
          "output_type": "execute_result",
          "data": {
            "text/plain": [
              "B96 B98        4\n",
              "C23 C25 C27    4\n",
              "G6             4\n",
              "C22 C26        3\n",
              "E101           3\n",
              "              ..\n",
              "C106           1\n",
              "C62 C64        1\n",
              "A24            1\n",
              "A6             1\n",
              "B38            1\n",
              "Name: Cabin, Length: 147, dtype: int64"
            ]
          },
          "metadata": {
            "tags": []
          },
          "execution_count": 140
        }
      ]
    },
    {
      "cell_type": "code",
      "metadata": {
        "id": "W3A_OH5zw_Fl",
        "colab_type": "code",
        "outputId": "29681299-77ed-412b-fa5f-bb8cb5dd89fb",
        "colab": {
          "base_uri": "https://localhost:8080/",
          "height": 202
        }
      },
      "source": [
        "for dataset in train_test_data:\n",
        "  dataset['Cabin'] = dataset['Cabin'].str[:1]\n",
        "\n",
        "  \n",
        "train.head()"
      ],
      "execution_count": 141,
      "outputs": [
        {
          "output_type": "execute_result",
          "data": {
            "text/html": [
              "<div>\n",
              "<style scoped>\n",
              "    .dataframe tbody tr th:only-of-type {\n",
              "        vertical-align: middle;\n",
              "    }\n",
              "\n",
              "    .dataframe tbody tr th {\n",
              "        vertical-align: top;\n",
              "    }\n",
              "\n",
              "    .dataframe thead th {\n",
              "        text-align: right;\n",
              "    }\n",
              "</style>\n",
              "<table border=\"1\" class=\"dataframe\">\n",
              "  <thead>\n",
              "    <tr style=\"text-align: right;\">\n",
              "      <th></th>\n",
              "      <th>PassengerId</th>\n",
              "      <th>Survived</th>\n",
              "      <th>Pclass</th>\n",
              "      <th>Sex</th>\n",
              "      <th>Age</th>\n",
              "      <th>SibSp</th>\n",
              "      <th>Parch</th>\n",
              "      <th>Ticket</th>\n",
              "      <th>Fare</th>\n",
              "      <th>Cabin</th>\n",
              "      <th>Embarked</th>\n",
              "      <th>Title</th>\n",
              "    </tr>\n",
              "  </thead>\n",
              "  <tbody>\n",
              "    <tr>\n",
              "      <th>0</th>\n",
              "      <td>1</td>\n",
              "      <td>0</td>\n",
              "      <td>3</td>\n",
              "      <td>0</td>\n",
              "      <td>1.0</td>\n",
              "      <td>1</td>\n",
              "      <td>0</td>\n",
              "      <td>A/5 21171</td>\n",
              "      <td>0.0</td>\n",
              "      <td>NaN</td>\n",
              "      <td>0</td>\n",
              "      <td>0</td>\n",
              "    </tr>\n",
              "    <tr>\n",
              "      <th>1</th>\n",
              "      <td>2</td>\n",
              "      <td>1</td>\n",
              "      <td>1</td>\n",
              "      <td>1</td>\n",
              "      <td>3.0</td>\n",
              "      <td>1</td>\n",
              "      <td>0</td>\n",
              "      <td>PC 17599</td>\n",
              "      <td>2.0</td>\n",
              "      <td>C</td>\n",
              "      <td>1</td>\n",
              "      <td>2</td>\n",
              "    </tr>\n",
              "    <tr>\n",
              "      <th>2</th>\n",
              "      <td>3</td>\n",
              "      <td>1</td>\n",
              "      <td>3</td>\n",
              "      <td>1</td>\n",
              "      <td>1.0</td>\n",
              "      <td>0</td>\n",
              "      <td>0</td>\n",
              "      <td>STON/O2. 3101282</td>\n",
              "      <td>0.0</td>\n",
              "      <td>NaN</td>\n",
              "      <td>0</td>\n",
              "      <td>1</td>\n",
              "    </tr>\n",
              "    <tr>\n",
              "      <th>3</th>\n",
              "      <td>4</td>\n",
              "      <td>1</td>\n",
              "      <td>1</td>\n",
              "      <td>1</td>\n",
              "      <td>2.0</td>\n",
              "      <td>1</td>\n",
              "      <td>0</td>\n",
              "      <td>113803</td>\n",
              "      <td>2.0</td>\n",
              "      <td>C</td>\n",
              "      <td>0</td>\n",
              "      <td>2</td>\n",
              "    </tr>\n",
              "    <tr>\n",
              "      <th>4</th>\n",
              "      <td>5</td>\n",
              "      <td>0</td>\n",
              "      <td>3</td>\n",
              "      <td>0</td>\n",
              "      <td>2.0</td>\n",
              "      <td>0</td>\n",
              "      <td>0</td>\n",
              "      <td>373450</td>\n",
              "      <td>0.0</td>\n",
              "      <td>NaN</td>\n",
              "      <td>0</td>\n",
              "      <td>0</td>\n",
              "    </tr>\n",
              "  </tbody>\n",
              "</table>\n",
              "</div>"
            ],
            "text/plain": [
              "   PassengerId  Survived  Pclass  Sex  ...  Fare  Cabin  Embarked Title\n",
              "0            1         0       3    0  ...   0.0    NaN         0     0\n",
              "1            2         1       1    1  ...   2.0      C         1     2\n",
              "2            3         1       3    1  ...   0.0    NaN         0     1\n",
              "3            4         1       1    1  ...   2.0      C         0     2\n",
              "4            5         0       3    0  ...   0.0    NaN         0     0\n",
              "\n",
              "[5 rows x 12 columns]"
            ]
          },
          "metadata": {
            "tags": []
          },
          "execution_count": 141
        }
      ]
    },
    {
      "cell_type": "code",
      "metadata": {
        "id": "CXtSewyBxOgd",
        "colab_type": "code",
        "outputId": "f6c53b72-9cf2-4246-b62b-1e9ee2111b12",
        "colab": {
          "base_uri": "https://localhost:8080/",
          "height": 378
        }
      },
      "source": [
        "Pclass1 = train[train['Pclass']==1]['Cabin'].value_counts()\n",
        "Pclass2 = train[train['Pclass']==2]['Cabin'].value_counts()\n",
        "Pclass3 = train[train['Pclass']==3]['Cabin'].value_counts()\n",
        "\n",
        "\n",
        "\n",
        "df=pd.DataFrame([Pclass1,Pclass2,Pclass3])\n",
        "df.index = ['1st class','2st class','3st class']\n",
        "df.plot(kind='bar',stacked=True,figsize=(10,5))"
      ],
      "execution_count": 142,
      "outputs": [
        {
          "output_type": "execute_result",
          "data": {
            "text/plain": [
              "<matplotlib.axes._subplots.AxesSubplot at 0x7f8d960e1630>"
            ]
          },
          "metadata": {
            "tags": []
          },
          "execution_count": 142
        },
        {
          "output_type": "display_data",
          "data": {
            "image/png": "[encoded data removed]",
            "text/plain": [
              "<Figure size 720x360 with 1 Axes>"
            ]
          },
          "metadata": {
            "tags": []
          }
        }
      ]
    },
    {
      "cell_type": "code",
      "metadata": {
        "id": "XfZFTewo28Cz",
        "colab_type": "code",
        "colab": {}
      },
      "source": [
        "cabin_mapping ={'A':0,'B':0.4,'C':0.8,'D':1.2,'E':1.6,'F':2,'G':2.4,'T':2.8}\n",
        "\n",
        "for dataset in train_test_data:\n",
        "  dataset['Cabin'] = dataset['Cabin'].map(cabin_mapping)"
      ],
      "execution_count": 0,
      "outputs": []
    },
    {
      "cell_type": "markdown",
      "metadata": {
        "id": "ApVrf1m-39Cu",
        "colab_type": "text"
      },
      "source": [
        "- 위에서 feature Scaling을 사용함. 1씩 주면 범위가 너무 커지게 되므로 소수점으로 기준을 둠."
      ]
    },
    {
      "cell_type": "code",
      "metadata": {
        "id": "qQdwraOS3g8D",
        "colab_type": "code",
        "colab": {}
      },
      "source": [
        "# fill missing Cabin with median Cabin for each Pclass\n",
        "train['Cabin'].fillna(train.groupby('Pclass')['Cabin'].transform('median'),inplace=True)\n",
        "test['Cabin'].fillna(test.groupby('Pclass')['Cabin'].transform('median'),inplace=True)"
      ],
      "execution_count": 0,
      "outputs": []
    },
    {
      "cell_type": "markdown",
      "metadata": {
        "id": "w5SNfhD74Ua-",
        "colab_type": "text"
      },
      "source": [
        "## 4.8 FamilySize"
      ]
    },
    {
      "cell_type": "code",
      "metadata": {
        "id": "KhtbQmEo4Xsj",
        "colab_type": "code",
        "colab": {}
      },
      "source": [
        "# 변수 만들어 주기\n",
        "\n",
        "train['FamilySize'] = train['SibSp'] + train['Parch']+1\n",
        "test['FamilySize'] = test['SibSp'] + test['Parch']+1"
      ],
      "execution_count": 0,
      "outputs": []
    },
    {
      "cell_type": "code",
      "metadata": {
        "id": "5dX-Ljzk44TW",
        "colab_type": "code",
        "outputId": "e57c49d9-28f6-4596-b127-2b7b0eccfded",
        "colab": {
          "base_uri": "https://localhost:8080/",
          "height": 239
        }
      },
      "source": [
        "facet = sns.FacetGrid(train,hue ='Survived',aspect=4)\n",
        "facet.map(sns.kdeplot,'FamilySize',shade=True)\n",
        "facet.set(xlim=(0,train['FamilySize'].max()))\n",
        "facet.add_legend()\n",
        "\n",
        "plt.xlim(0)"
      ],
      "execution_count": 146,
      "outputs": [
        {
          "output_type": "execute_result",
          "data": {
            "text/plain": [
              "(0, 11.0)"
            ]
          },
          "metadata": {
            "tags": []
          },
          "execution_count": 146
        },
        {
          "output_type": "display_data",
          "data": {
            "image/png": "[encoded data removed]",
            "text/plain": [
              "<Figure size 918.05x216 with 1 Axes>"
            ]
          },
          "metadata": {
            "tags": []
          }
        }
      ]
    },
    {
      "cell_type": "code",
      "metadata": {
        "id": "VE3rc2TR5WGq",
        "colab_type": "code",
        "colab": {}
      },
      "source": [
        "family_mapping ={1:0,2:0.4,3:0.8,4:1.2,5:1.6,6:2,7:2.4,8:2.8,9:3.2,10:3.6,11:4}\n",
        "for dataset in train_test_data:\n",
        "  dataset['FamilySize']=dataset['FamilySize'].map(family_mapping)"
      ],
      "execution_count": 0,
      "outputs": []
    },
    {
      "cell_type": "code",
      "metadata": {
        "id": "_UGXVEAC5unG",
        "colab_type": "code",
        "outputId": "a7ee03be-ebea-4a3d-f59c-1daaec53b353",
        "colab": {
          "base_uri": "https://localhost:8080/",
          "height": 202
        }
      },
      "source": [
        "train.head()"
      ],
      "execution_count": 148,
      "outputs": [
        {
          "output_type": "execute_result",
          "data": {
            "text/html": [
              "<div>\n",
              "<style scoped>\n",
              "    .dataframe tbody tr th:only-of-type {\n",
              "        vertical-align: middle;\n",
              "    }\n",
              "\n",
              "    .dataframe tbody tr th {\n",
              "        vertical-align: top;\n",
              "    }\n",
              "\n",
              "    .dataframe thead th {\n",
              "        text-align: right;\n",
              "    }\n",
              "</style>\n",
              "<table border=\"1\" class=\"dataframe\">\n",
              "  <thead>\n",
              "    <tr style=\"text-align: right;\">\n",
              "      <th></th>\n",
              "      <th>PassengerId</th>\n",
              "      <th>Survived</th>\n",
              "      <th>Pclass</th>\n",
              "      <th>Sex</th>\n",
              "      <th>Age</th>\n",
              "      <th>SibSp</th>\n",
              "      <th>Parch</th>\n",
              "      <th>Ticket</th>\n",
              "      <th>Fare</th>\n",
              "      <th>Cabin</th>\n",
              "      <th>Embarked</th>\n",
              "      <th>Title</th>\n",
              "      <th>FamilySize</th>\n",
              "    </tr>\n",
              "  </thead>\n",
              "  <tbody>\n",
              "    <tr>\n",
              "      <th>0</th>\n",
              "      <td>1</td>\n",
              "      <td>0</td>\n",
              "      <td>3</td>\n",
              "      <td>0</td>\n",
              "      <td>1.0</td>\n",
              "      <td>1</td>\n",
              "      <td>0</td>\n",
              "      <td>A/5 21171</td>\n",
              "      <td>0.0</td>\n",
              "      <td>2.0</td>\n",
              "      <td>0</td>\n",
              "      <td>0</td>\n",
              "      <td>0.4</td>\n",
              "    </tr>\n",
              "    <tr>\n",
              "      <th>1</th>\n",
              "      <td>2</td>\n",
              "      <td>1</td>\n",
              "      <td>1</td>\n",
              "      <td>1</td>\n",
              "      <td>3.0</td>\n",
              "      <td>1</td>\n",
              "      <td>0</td>\n",
              "      <td>PC 17599</td>\n",
              "      <td>2.0</td>\n",
              "      <td>0.8</td>\n",
              "      <td>1</td>\n",
              "      <td>2</td>\n",
              "      <td>0.4</td>\n",
              "    </tr>\n",
              "    <tr>\n",
              "      <th>2</th>\n",
              "      <td>3</td>\n",
              "      <td>1</td>\n",
              "      <td>3</td>\n",
              "      <td>1</td>\n",
              "      <td>1.0</td>\n",
              "      <td>0</td>\n",
              "      <td>0</td>\n",
              "      <td>STON/O2. 3101282</td>\n",
              "      <td>0.0</td>\n",
              "      <td>2.0</td>\n",
              "      <td>0</td>\n",
              "      <td>1</td>\n",
              "      <td>0.0</td>\n",
              "    </tr>\n",
              "    <tr>\n",
              "      <th>3</th>\n",
              "      <td>4</td>\n",
              "      <td>1</td>\n",
              "      <td>1</td>\n",
              "      <td>1</td>\n",
              "      <td>2.0</td>\n",
              "      <td>1</td>\n",
              "      <td>0</td>\n",
              "      <td>113803</td>\n",
              "      <td>2.0</td>\n",
              "      <td>0.8</td>\n",
              "      <td>0</td>\n",
              "      <td>2</td>\n",
              "      <td>0.4</td>\n",
              "    </tr>\n",
              "    <tr>\n",
              "      <th>4</th>\n",
              "      <td>5</td>\n",
              "      <td>0</td>\n",
              "      <td>3</td>\n",
              "      <td>0</td>\n",
              "      <td>2.0</td>\n",
              "      <td>0</td>\n",
              "      <td>0</td>\n",
              "      <td>373450</td>\n",
              "      <td>0.0</td>\n",
              "      <td>2.0</td>\n",
              "      <td>0</td>\n",
              "      <td>0</td>\n",
              "      <td>0.0</td>\n",
              "    </tr>\n",
              "  </tbody>\n",
              "</table>\n",
              "</div>"
            ],
            "text/plain": [
              "   PassengerId  Survived  Pclass  Sex  ...  Cabin  Embarked  Title FamilySize\n",
              "0            1         0       3    0  ...    2.0         0      0        0.4\n",
              "1            2         1       1    1  ...    0.8         1      2        0.4\n",
              "2            3         1       3    1  ...    2.0         0      1        0.0\n",
              "3            4         1       1    1  ...    0.8         0      2        0.4\n",
              "4            5         0       3    0  ...    2.0         0      0        0.0\n",
              "\n",
              "[5 rows x 13 columns]"
            ]
          },
          "metadata": {
            "tags": []
          },
          "execution_count": 148
        }
      ]
    },
    {
      "cell_type": "code",
      "metadata": {
        "id": "gfGddPaH51Ch",
        "colab_type": "code",
        "colab": {}
      },
      "source": [
        "features_drop=['Ticket','SibSp','Parch']\n",
        "train=train.drop(features_drop,axis=1)\n",
        "test=test.drop(features_drop,axis=1)\n",
        "train= train.drop(['PassengerId'],axis=1)"
      ],
      "execution_count": 0,
      "outputs": []
    },
    {
      "cell_type": "code",
      "metadata": {
        "id": "fz84_Tpp6KPV",
        "colab_type": "code",
        "outputId": "3df0e8c8-9eaf-4693-f40b-652a9ba900af",
        "colab": {
          "base_uri": "https://localhost:8080/",
          "height": 35
        }
      },
      "source": [
        "train_data = train.drop('Survived',axis=1)\n",
        "target = train['Survived']\n",
        "\n",
        "train_data.shape,target.shape"
      ],
      "execution_count": 150,
      "outputs": [
        {
          "output_type": "execute_result",
          "data": {
            "text/plain": [
              "((891, 8), (891,))"
            ]
          },
          "metadata": {
            "tags": []
          },
          "execution_count": 150
        }
      ]
    },
    {
      "cell_type": "code",
      "metadata": {
        "id": "HpR9C4Hw6t00",
        "colab_type": "code",
        "outputId": "2e9d2020-381e-46e2-8a8a-73207899f2f5",
        "colab": {
          "base_uri": "https://localhost:8080/",
          "height": 356
        }
      },
      "source": [
        "train_data.head(10)"
      ],
      "execution_count": 151,
      "outputs": [
        {
          "output_type": "execute_result",
          "data": {
            "text/html": [
              "<div>\n",
              "<style scoped>\n",
              "    .dataframe tbody tr th:only-of-type {\n",
              "        vertical-align: middle;\n",
              "    }\n",
              "\n",
              "    .dataframe tbody tr th {\n",
              "        vertical-align: top;\n",
              "    }\n",
              "\n",
              "    .dataframe thead th {\n",
              "        text-align: right;\n",
              "    }\n",
              "</style>\n",
              "<table border=\"1\" class=\"dataframe\">\n",
              "  <thead>\n",
              "    <tr style=\"text-align: right;\">\n",
              "      <th></th>\n",
              "      <th>Pclass</th>\n",
              "      <th>Sex</th>\n",
              "      <th>Age</th>\n",
              "      <th>Fare</th>\n",
              "      <th>Cabin</th>\n",
              "      <th>Embarked</th>\n",
              "      <th>Title</th>\n",
              "      <th>FamilySize</th>\n",
              "    </tr>\n",
              "  </thead>\n",
              "  <tbody>\n",
              "    <tr>\n",
              "      <th>0</th>\n",
              "      <td>3</td>\n",
              "      <td>0</td>\n",
              "      <td>1.0</td>\n",
              "      <td>0.0</td>\n",
              "      <td>2.0</td>\n",
              "      <td>0</td>\n",
              "      <td>0</td>\n",
              "      <td>0.4</td>\n",
              "    </tr>\n",
              "    <tr>\n",
              "      <th>1</th>\n",
              "      <td>1</td>\n",
              "      <td>1</td>\n",
              "      <td>3.0</td>\n",
              "      <td>2.0</td>\n",
              "      <td>0.8</td>\n",
              "      <td>1</td>\n",
              "      <td>2</td>\n",
              "      <td>0.4</td>\n",
              "    </tr>\n",
              "    <tr>\n",
              "      <th>2</th>\n",
              "      <td>3</td>\n",
              "      <td>1</td>\n",
              "      <td>1.0</td>\n",
              "      <td>0.0</td>\n",
              "      <td>2.0</td>\n",
              "      <td>0</td>\n",
              "      <td>1</td>\n",
              "      <td>0.0</td>\n",
              "    </tr>\n",
              "    <tr>\n",
              "      <th>3</th>\n",
              "      <td>1</td>\n",
              "      <td>1</td>\n",
              "      <td>2.0</td>\n",
              "      <td>2.0</td>\n",
              "      <td>0.8</td>\n",
              "      <td>0</td>\n",
              "      <td>2</td>\n",
              "      <td>0.4</td>\n",
              "    </tr>\n",
              "    <tr>\n",
              "      <th>4</th>\n",
              "      <td>3</td>\n",
              "      <td>0</td>\n",
              "      <td>2.0</td>\n",
              "      <td>0.0</td>\n",
              "      <td>2.0</td>\n",
              "      <td>0</td>\n",
              "      <td>0</td>\n",
              "      <td>0.0</td>\n",
              "    </tr>\n",
              "    <tr>\n",
              "      <th>5</th>\n",
              "      <td>3</td>\n",
              "      <td>0</td>\n",
              "      <td>2.0</td>\n",
              "      <td>0.0</td>\n",
              "      <td>2.0</td>\n",
              "      <td>2</td>\n",
              "      <td>0</td>\n",
              "      <td>0.0</td>\n",
              "    </tr>\n",
              "    <tr>\n",
              "      <th>6</th>\n",
              "      <td>1</td>\n",
              "      <td>0</td>\n",
              "      <td>3.0</td>\n",
              "      <td>2.0</td>\n",
              "      <td>1.6</td>\n",
              "      <td>0</td>\n",
              "      <td>0</td>\n",
              "      <td>0.0</td>\n",
              "    </tr>\n",
              "    <tr>\n",
              "      <th>7</th>\n",
              "      <td>3</td>\n",
              "      <td>0</td>\n",
              "      <td>0.0</td>\n",
              "      <td>1.0</td>\n",
              "      <td>2.0</td>\n",
              "      <td>0</td>\n",
              "      <td>3</td>\n",
              "      <td>1.6</td>\n",
              "    </tr>\n",
              "    <tr>\n",
              "      <th>8</th>\n",
              "      <td>3</td>\n",
              "      <td>1</td>\n",
              "      <td>2.0</td>\n",
              "      <td>0.0</td>\n",
              "      <td>2.0</td>\n",
              "      <td>0</td>\n",
              "      <td>2</td>\n",
              "      <td>0.8</td>\n",
              "    </tr>\n",
              "    <tr>\n",
              "      <th>9</th>\n",
              "      <td>2</td>\n",
              "      <td>1</td>\n",
              "      <td>0.0</td>\n",
              "      <td>2.0</td>\n",
              "      <td>1.8</td>\n",
              "      <td>1</td>\n",
              "      <td>2</td>\n",
              "      <td>0.4</td>\n",
              "    </tr>\n",
              "  </tbody>\n",
              "</table>\n",
              "</div>"
            ],
            "text/plain": [
              "   Pclass  Sex  Age  Fare  Cabin  Embarked  Title  FamilySize\n",
              "0       3    0  1.0   0.0    2.0         0      0         0.4\n",
              "1       1    1  3.0   2.0    0.8         1      2         0.4\n",
              "2       3    1  1.0   0.0    2.0         0      1         0.0\n",
              "3       1    1  2.0   2.0    0.8         0      2         0.4\n",
              "4       3    0  2.0   0.0    2.0         0      0         0.0\n",
              "5       3    0  2.0   0.0    2.0         2      0         0.0\n",
              "6       1    0  3.0   2.0    1.6         0      0         0.0\n",
              "7       3    0  0.0   1.0    2.0         0      3         1.6\n",
              "8       3    1  2.0   0.0    2.0         0      2         0.8\n",
              "9       2    1  0.0   2.0    1.8         1      2         0.4"
            ]
          },
          "metadata": {
            "tags": []
          },
          "execution_count": 151
        }
      ]
    },
    {
      "cell_type": "code",
      "metadata": {
        "id": "pam0jvQPijR4",
        "colab_type": "code",
        "outputId": "e4b6ed63-b1be-48d6-8151-0e3bff83a53f",
        "colab": {
          "base_uri": "https://localhost:8080/",
          "height": 220
        }
      },
      "source": [
        "target.head(10)"
      ],
      "execution_count": 152,
      "outputs": [
        {
          "output_type": "execute_result",
          "data": {
            "text/plain": [
              "0    0\n",
              "1    1\n",
              "2    1\n",
              "3    1\n",
              "4    0\n",
              "5    0\n",
              "6    0\n",
              "7    0\n",
              "8    1\n",
              "9    1\n",
              "Name: Survived, dtype: int64"
            ]
          },
          "metadata": {
            "tags": []
          },
          "execution_count": 152
        }
      ]
    },
    {
      "cell_type": "markdown",
      "metadata": {
        "id": "ftTF3Bmk6ZNh",
        "colab_type": "text"
      },
      "source": [
        "# 텐서플로우 구현"
      ]
    },
    {
      "cell_type": "code",
      "metadata": {
        "id": "e614jCAp6c2G",
        "colab_type": "code",
        "colab": {}
      },
      "source": [
        "import tensorflow as tf\n",
        "import numpy as np"
      ],
      "execution_count": 0,
      "outputs": []
    },
    {
      "cell_type": "code",
      "metadata": {
        "id": "aJZvmqpG64ST",
        "colab_type": "code",
        "colab": {}
      },
      "source": [
        "train_data_tf = np.array(train_data)\n",
        "target_tf = np.array(target)\n",
        "target_tf=target_tf.reshape(891,1)"
      ],
      "execution_count": 0,
      "outputs": []
    },
    {
      "cell_type": "code",
      "metadata": {
        "id": "pxlQD9FSPEbH",
        "colab_type": "code",
        "colab": {
          "base_uri": "https://localhost:8080/",
          "height": 416
        },
        "outputId": "ba9c4253-727d-47b1-9f43-862580d6f77a"
      },
      "source": [
        "test"
      ],
      "execution_count": 155,
      "outputs": [
        {
          "output_type": "execute_result",
          "data": {
            "text/html": [
              "<div>\n",
              "<style scoped>\n",
              "    .dataframe tbody tr th:only-of-type {\n",
              "        vertical-align: middle;\n",
              "    }\n",
              "\n",
              "    .dataframe tbody tr th {\n",
              "        vertical-align: top;\n",
              "    }\n",
              "\n",
              "    .dataframe thead th {\n",
              "        text-align: right;\n",
              "    }\n",
              "</style>\n",
              "<table border=\"1\" class=\"dataframe\">\n",
              "  <thead>\n",
              "    <tr style=\"text-align: right;\">\n",
              "      <th></th>\n",
              "      <th>PassengerId</th>\n",
              "      <th>Pclass</th>\n",
              "      <th>Sex</th>\n",
              "      <th>Age</th>\n",
              "      <th>Fare</th>\n",
              "      <th>Cabin</th>\n",
              "      <th>Embarked</th>\n",
              "      <th>Title</th>\n",
              "      <th>FamilySize</th>\n",
              "    </tr>\n",
              "  </thead>\n",
              "  <tbody>\n",
              "    <tr>\n",
              "      <th>0</th>\n",
              "      <td>892</td>\n",
              "      <td>3</td>\n",
              "      <td>0</td>\n",
              "      <td>2.0</td>\n",
              "      <td>0.0</td>\n",
              "      <td>2.0</td>\n",
              "      <td>2</td>\n",
              "      <td>0</td>\n",
              "      <td>0.0</td>\n",
              "    </tr>\n",
              "    <tr>\n",
              "      <th>1</th>\n",
              "      <td>893</td>\n",
              "      <td>3</td>\n",
              "      <td>1</td>\n",
              "      <td>3.0</td>\n",
              "      <td>0.0</td>\n",
              "      <td>2.0</td>\n",
              "      <td>0</td>\n",
              "      <td>2</td>\n",
              "      <td>0.4</td>\n",
              "    </tr>\n",
              "    <tr>\n",
              "      <th>2</th>\n",
              "      <td>894</td>\n",
              "      <td>2</td>\n",
              "      <td>0</td>\n",
              "      <td>3.0</td>\n",
              "      <td>0.0</td>\n",
              "      <td>2.0</td>\n",
              "      <td>2</td>\n",
              "      <td>0</td>\n",
              "      <td>0.0</td>\n",
              "    </tr>\n",
              "    <tr>\n",
              "      <th>3</th>\n",
              "      <td>895</td>\n",
              "      <td>3</td>\n",
              "      <td>0</td>\n",
              "      <td>2.0</td>\n",
              "      <td>0.0</td>\n",
              "      <td>2.0</td>\n",
              "      <td>0</td>\n",
              "      <td>0</td>\n",
              "      <td>0.0</td>\n",
              "    </tr>\n",
              "    <tr>\n",
              "      <th>4</th>\n",
              "      <td>896</td>\n",
              "      <td>3</td>\n",
              "      <td>1</td>\n",
              "      <td>1.0</td>\n",
              "      <td>0.0</td>\n",
              "      <td>2.0</td>\n",
              "      <td>0</td>\n",
              "      <td>2</td>\n",
              "      <td>0.8</td>\n",
              "    </tr>\n",
              "    <tr>\n",
              "      <th>...</th>\n",
              "      <td>...</td>\n",
              "      <td>...</td>\n",
              "      <td>...</td>\n",
              "      <td>...</td>\n",
              "      <td>...</td>\n",
              "      <td>...</td>\n",
              "      <td>...</td>\n",
              "      <td>...</td>\n",
              "      <td>...</td>\n",
              "    </tr>\n",
              "    <tr>\n",
              "      <th>413</th>\n",
              "      <td>1305</td>\n",
              "      <td>3</td>\n",
              "      <td>0</td>\n",
              "      <td>2.0</td>\n",
              "      <td>0.0</td>\n",
              "      <td>2.0</td>\n",
              "      <td>0</td>\n",
              "      <td>0</td>\n",
              "      <td>0.0</td>\n",
              "    </tr>\n",
              "    <tr>\n",
              "      <th>414</th>\n",
              "      <td>1306</td>\n",
              "      <td>1</td>\n",
              "      <td>1</td>\n",
              "      <td>3.0</td>\n",
              "      <td>3.0</td>\n",
              "      <td>0.8</td>\n",
              "      <td>1</td>\n",
              "      <td>3</td>\n",
              "      <td>0.0</td>\n",
              "    </tr>\n",
              "    <tr>\n",
              "      <th>415</th>\n",
              "      <td>1307</td>\n",
              "      <td>3</td>\n",
              "      <td>0</td>\n",
              "      <td>3.0</td>\n",
              "      <td>0.0</td>\n",
              "      <td>2.0</td>\n",
              "      <td>0</td>\n",
              "      <td>0</td>\n",
              "      <td>0.0</td>\n",
              "    </tr>\n",
              "    <tr>\n",
              "      <th>416</th>\n",
              "      <td>1308</td>\n",
              "      <td>3</td>\n",
              "      <td>0</td>\n",
              "      <td>2.0</td>\n",
              "      <td>0.0</td>\n",
              "      <td>2.0</td>\n",
              "      <td>0</td>\n",
              "      <td>0</td>\n",
              "      <td>0.0</td>\n",
              "    </tr>\n",
              "    <tr>\n",
              "      <th>417</th>\n",
              "      <td>1309</td>\n",
              "      <td>3</td>\n",
              "      <td>0</td>\n",
              "      <td>0.0</td>\n",
              "      <td>1.0</td>\n",
              "      <td>2.0</td>\n",
              "      <td>1</td>\n",
              "      <td>3</td>\n",
              "      <td>0.8</td>\n",
              "    </tr>\n",
              "  </tbody>\n",
              "</table>\n",
              "<p>418 rows × 9 columns</p>\n",
              "</div>"
            ],
            "text/plain": [
              "     PassengerId  Pclass  Sex  Age  Fare  Cabin  Embarked  Title  FamilySize\n",
              "0            892       3    0  2.0   0.0    2.0         2      0         0.0\n",
              "1            893       3    1  3.0   0.0    2.0         0      2         0.4\n",
              "2            894       2    0  3.0   0.0    2.0         2      0         0.0\n",
              "3            895       3    0  2.0   0.0    2.0         0      0         0.0\n",
              "4            896       3    1  1.0   0.0    2.0         0      2         0.8\n",
              "..           ...     ...  ...  ...   ...    ...       ...    ...         ...\n",
              "413         1305       3    0  2.0   0.0    2.0         0      0         0.0\n",
              "414         1306       1    1  3.0   3.0    0.8         1      3         0.0\n",
              "415         1307       3    0  3.0   0.0    2.0         0      0         0.0\n",
              "416         1308       3    0  2.0   0.0    2.0         0      0         0.0\n",
              "417         1309       3    0  0.0   1.0    2.0         1      3         0.8\n",
              "\n",
              "[418 rows x 9 columns]"
            ]
          },
          "metadata": {
            "tags": []
          },
          "execution_count": 155
        }
      ]
    },
    {
      "cell_type": "code",
      "metadata": {
        "id": "ET9t8Ody7H7a",
        "colab_type": "code",
        "outputId": "0edbd311-d8a5-4228-e4d3-c8269258f965",
        "colab": {
          "base_uri": "https://localhost:8080/",
          "height": 54
        }
      },
      "source": [
        "print('train_data.shape:',train_data_tf.shape)\n",
        "print('target.shape:',target_tf.shape)\n",
        "\n",
        "X = tf.placeholder('float',[None,8])\n",
        "Y = tf.placeholder('float',[None,1])"
      ],
      "execution_count": 156,
      "outputs": [
        {
          "output_type": "stream",
          "text": [
            "train_data.shape: (891, 8)\n",
            "target.shape: (891, 1)\n"
          ],
          "name": "stdout"
        }
      ]
    },
    {
      "cell_type": "code",
      "metadata": {
        "id": "89RgGyWn8heV",
        "colab_type": "code",
        "colab": {}
      },
      "source": [
        "W =tf.Variable(tf.random_normal([8,1]),name='weight')\n",
        "b =tf.Variable(tf.random_normal([1]),name='bias')"
      ],
      "execution_count": 0,
      "outputs": []
    },
    {
      "cell_type": "code",
      "metadata": {
        "id": "HrM73wnH9Zjj",
        "colab_type": "code",
        "colab": {}
      },
      "source": [
        "logits = tf.matmul(X,W)+b\n",
        "hypothesis = tf.sigmoid(logits)"
      ],
      "execution_count": 0,
      "outputs": []
    },
    {
      "cell_type": "markdown",
      "metadata": {
        "id": "z0hr71Am9enE",
        "colab_type": "text"
      },
      "source": [
        "##Cost/Loss function"
      ]
    },
    {
      "cell_type": "code",
      "metadata": {
        "id": "gipEKvz49fN4",
        "colab_type": "code",
        "colab": {}
      },
      "source": [
        "cost= -tf.reduce_mean(Y*tf.log(hypothesis)+(1-Y)*\n",
        "                      tf.log(1-hypothesis))\n",
        "\n",
        "train = tf.train.GradientDescentOptimizer(learning_rate=0.01).minimize(cost)"
      ],
      "execution_count": 0,
      "outputs": []
    },
    {
      "cell_type": "markdown",
      "metadata": {
        "id": "2YzsMge6_C1r",
        "colab_type": "text"
      },
      "source": [
        "## Accuracy computatuin"
      ]
    },
    {
      "cell_type": "code",
      "metadata": {
        "id": "Zt3IHb4e_HEc",
        "colab_type": "code",
        "colab": {}
      },
      "source": [
        "predicted = tf.cast(hypothesis > 0.5, dtype = tf.float32) # True =1 or False =0\n",
        "accuracy = tf.reduce_mean(tf.cast(tf.equal(predicted,Y),dtype= tf.float32)) "
      ],
      "execution_count": 0,
      "outputs": []
    },
    {
      "cell_type": "code",
      "metadata": {
        "id": "uDTKylzL_qIk",
        "colab_type": "code",
        "outputId": "3b46d9c6-a011-45ad-9794-d4be28781954",
        "colab": {
          "base_uri": "https://localhost:8080/",
          "height": 1000
        }
      },
      "source": [
        "with tf.Session() as sess:\n",
        "  # Initialize Tensorflow variables\n",
        "  sess.run(tf.global_variables_initializer())\n",
        "  \n",
        "  for step in range(10001):\n",
        "    cost_val,_ = sess.run([cost,train],feed_dict={X:train_data_tf,Y:target_tf})\n",
        "    #if step % 200 ==0:\n",
        "      #print(step,cost_val)\n",
        "\n",
        "  h,c,a =  sess.run([hypothesis,predicted,accuracy],\n",
        "                  feed_dict={X:train_data_tf,Y:target_tf})\n",
        "\n",
        "  print('WnHypothesis:',h,'\\nCorrect(Y):',c,'\\nAccuracy:',a)\n",
        "\n",
        "  "
      ],
      "execution_count": 161,
      "outputs": [
        {
          "output_type": "stream",
          "text": [
            "WnHypothesis: [[0.06914666]\n",
            " [0.92344487]\n",
            " [0.6428045 ]\n",
            " [0.9293101 ]\n",
            " [0.07537875]\n",
            " [0.12002513]\n",
            " [0.42365378]\n",
            " [0.2694446 ]\n",
            " [0.5108514 ]\n",
            " [0.9625765 ]\n",
            " [0.56984216]\n",
            " [0.8092177 ]\n",
            " [0.10307765]\n",
            " [0.01256609]\n",
            " [0.7172639 ]\n",
            " [0.78445375]\n",
            " [0.28512883]\n",
            " [0.14333555]\n",
            " [0.7373067 ]\n",
            " [0.76378024]\n",
            " [0.22519594]\n",
            " [0.10693559]\n",
            " [0.80931985]\n",
            " [0.2980468 ]\n",
            " [0.4347751 ]\n",
            " [0.28068513]\n",
            " [0.09539038]\n",
            " [0.15487632]\n",
            " [0.75067663]\n",
            " [0.07537875]\n",
            " [0.7245652 ]\n",
            " [0.959404  ]\n",
            " [0.75067663]\n",
            " [0.07765791]\n",
            " [0.35673338]\n",
            " [0.23320955]\n",
            " [0.09539038]\n",
            " [0.10307765]\n",
            " [0.5663574 ]\n",
            " [0.6795876 ]\n",
            " [0.5340537 ]\n",
            " [0.85208106]\n",
            " [0.09539038]\n",
            " [0.8458667 ]\n",
            " [0.75067663]\n",
            " [0.07537875]\n",
            " [0.08101925]\n",
            " [0.75067663]\n",
            " [0.07108912]\n",
            " [0.7982495 ]\n",
            " [0.2928444 ]\n",
            " [0.10307765]\n",
            " [0.9377981 ]\n",
            " [0.85208106]\n",
            " [0.18252036]\n",
            " [0.39878792]\n",
            " [0.78693664]\n",
            " [0.09539038]\n",
            " [0.70950717]\n",
            " [0.14749551]\n",
            " [0.12941363]\n",
            " [0.85496736]\n",
            " [0.23320955]\n",
            " [0.19250292]\n",
            " [0.33061534]\n",
            " [0.39662302]\n",
            " [0.8515372 ]\n",
            " [0.10307765]\n",
            " [0.1160112 ]\n",
            " [0.04581448]\n",
            " [0.14333555]\n",
            " [0.26515728]\n",
            " [0.41579774]\n",
            " [0.08766064]\n",
            " [0.19743213]\n",
            " [0.10307765]\n",
            " [0.07537875]\n",
            " [0.07537875]\n",
            " [0.64435804]\n",
            " [0.56074476]\n",
            " [0.10307765]\n",
            " [0.07537875]\n",
            " [0.75067663]\n",
            " [0.39878792]\n",
            " [0.78693664]\n",
            " [0.40300173]\n",
            " [0.07862189]\n",
            " [0.07537875]\n",
            " [0.7415782 ]\n",
            " [0.10307765]\n",
            " [0.07537875]\n",
            " [0.10307765]\n",
            " [0.32209122]\n",
            " [0.05115303]\n",
            " [0.05466932]\n",
            " [0.07537875]\n",
            " [0.21652597]\n",
            " [0.49421299]\n",
            " [0.85208106]\n",
            " [0.15815437]\n",
            " [0.56074476]\n",
            " [0.07537875]\n",
            " [0.43033552]\n",
            " [0.07537875]\n",
            " [0.02359134]\n",
            " [0.07537875]\n",
            " [0.6428045 ]\n",
            " [0.07537875]\n",
            " [0.05466932]\n",
            " [0.7717215 ]\n",
            " [0.31997424]\n",
            " [0.6795876 ]\n",
            " [0.10307765]\n",
            " [0.5377211 ]\n",
            " [0.69949424]\n",
            " [0.10307765]\n",
            " [0.06422773]\n",
            " [0.15815437]\n",
            " [0.5207309 ]\n",
            " [0.3582546 ]\n",
            " [0.22920245]\n",
            " [0.07537875]\n",
            " [0.29682294]\n",
            " [0.70091546]\n",
            " [0.27543354]\n",
            " [0.5042074 ]\n",
            " [0.12002513]\n",
            " [0.10307765]\n",
            " [0.6281615 ]\n",
            " [0.05466932]\n",
            " [0.09539038]\n",
            " [0.10307765]\n",
            " [0.5340537 ]\n",
            " [0.85208106]\n",
            " [0.19085169]\n",
            " [0.23376864]\n",
            " [0.814868  ]\n",
            " [0.23320955]\n",
            " [0.13942018]\n",
            " [0.49178535]\n",
            " [0.5746248 ]\n",
            " [0.6428045 ]\n",
            " [0.6949089 ]\n",
            " [0.1612685 ]\n",
            " [0.19085169]\n",
            " [0.22920245]\n",
            " [0.07537875]\n",
            " [0.571953  ]\n",
            " [0.08784318]\n",
            " [0.47122338]\n",
            " [0.47122338]\n",
            " [0.9488026 ]\n",
            " [0.05466932]\n",
            " [0.02359134]\n",
            " [0.07537875]\n",
            " [0.28232807]\n",
            " [0.80931985]\n",
            " [0.07537875]\n",
            " [0.07537875]\n",
            " [0.04463658]\n",
            " [0.03603318]\n",
            " [0.78445375]\n",
            " [0.10307765]\n",
            " [0.10307765]\n",
            " [0.2928444 ]\n",
            " [0.46887267]\n",
            " [0.9535687 ]\n",
            " [0.2579026 ]\n",
            " [0.2763306 ]\n",
            " [0.19743213]\n",
            " [0.27349952]\n",
            " [0.28512883]\n",
            " [0.5145354 ]\n",
            " [0.10307765]\n",
            " [0.28036433]\n",
            " [0.04581448]\n",
            " [0.2694446 ]\n",
            " [0.8458308 ]\n",
            " [0.14333555]\n",
            " [0.07537875]\n",
            " [0.06465417]\n",
            " [0.17791694]\n",
            " [0.21115205]\n",
            " [0.6945944 ]\n",
            " [0.6480267 ]\n",
            " [0.2980468 ]\n",
            " [0.7299689 ]\n",
            " [0.21313867]\n",
            " [0.03885323]\n",
            " [0.07537875]\n",
            " [0.83687866]\n",
            " [0.19085169]\n",
            " [0.5377211 ]\n",
            " [0.66948456]\n",
            " [0.89578253]\n",
            " [0.9298023 ]\n",
            " [0.12002513]\n",
            " [0.03603318]\n",
            " [0.75067663]\n",
            " [0.78693664]\n",
            " [0.07537875]\n",
            " [0.00312164]\n",
            " [0.07537875]\n",
            " [0.06959689]\n",
            " [0.10307765]\n",
            " [0.67207676]\n",
            " [0.05005676]\n",
            " [0.20522794]\n",
            " [0.80931985]\n",
            " [0.28036433]\n",
            " [0.10307765]\n",
            " [0.8198608 ]\n",
            " [0.10307765]\n",
            " [0.14333555]\n",
            " [0.08101925]\n",
            " [0.9496331 ]\n",
            " [0.56074476]\n",
            " [0.11759576]\n",
            " [0.94379526]\n",
            " [0.14333555]\n",
            " [0.13942018]\n",
            " [0.14333555]\n",
            " [0.05466932]\n",
            " [0.07537875]\n",
            " [0.23320955]\n",
            " [0.10307765]\n",
            " [0.19085169]\n",
            " [0.10307765]\n",
            " [0.19085169]\n",
            " [0.35302538]\n",
            " [0.9293101 ]\n",
            " [0.07537875]\n",
            " [0.10609826]\n",
            " [0.3582546 ]\n",
            " [0.19085169]\n",
            " [0.6428045 ]\n",
            " [0.11759576]\n",
            " [0.7907376 ]\n",
            " [0.19085169]\n",
            " [0.14333555]\n",
            " [0.60072935]\n",
            " [0.6605707 ]\n",
            " [0.14333555]\n",
            " [0.10307765]\n",
            " [0.09539038]\n",
            " [0.711771  ]\n",
            " [0.6428045 ]\n",
            " [0.75134254]\n",
            " [0.19724342]\n",
            " [0.5001498 ]\n",
            " [0.07537875]\n",
            " [0.566224  ]\n",
            " [0.21313867]\n",
            " [0.05005676]\n",
            " [0.56273234]\n",
            " [0.5746248 ]\n",
            " [0.9633802 ]\n",
            " [0.8925902 ]\n",
            " [0.9589118 ]\n",
            " [0.80339426]\n",
            " [0.12002513]\n",
            " [0.21115205]\n",
            " [0.23495087]\n",
            " [0.1109201 ]\n",
            " [0.75067663]\n",
            " [0.14333555]\n",
            " [0.05227205]\n",
            " [0.06914666]\n",
            " [0.941859  ]\n",
            " [0.94748664]\n",
            " [0.39878792]\n",
            " [0.10307765]\n",
            " [0.80339426]\n",
            " [0.18464908]\n",
            " [0.75067663]\n",
            " [0.8085235 ]\n",
            " [0.47522357]\n",
            " [0.14333555]\n",
            " [0.28512883]\n",
            " [0.64465606]\n",
            " [0.06422773]\n",
            " [0.07537875]\n",
            " [0.13942018]\n",
            " [0.10307765]\n",
            " [0.19641787]\n",
            " [0.09539038]\n",
            " [0.07537875]\n",
            " [0.10307765]\n",
            " [0.10609826]\n",
            " [0.75067663]\n",
            " [0.93606985]\n",
            " [0.95044255]\n",
            " [0.13410988]\n",
            " [0.6428045 ]\n",
            " [0.10307765]\n",
            " [0.33061534]\n",
            " [0.12941363]\n",
            " [0.90639   ]\n",
            " [0.39878792]\n",
            " [0.9437083 ]\n",
            " [0.75067663]\n",
            " [0.09007287]\n",
            " [0.10307765]\n",
            " [0.84679747]\n",
            " [0.07537875]\n",
            " [0.82277817]\n",
            " [0.9705008 ]\n",
            " [0.97654784]\n",
            " [0.19549513]\n",
            " [0.95452094]\n",
            " [0.94984746]\n",
            " [0.82125264]\n",
            " [0.8399699 ]\n",
            " [0.07537875]\n",
            " [0.07930824]\n",
            " [0.6428045 ]\n",
            " [0.8903568 ]\n",
            " [0.47122338]\n",
            " [0.8828782 ]\n",
            " [0.9548701 ]\n",
            " [0.10307765]\n",
            " [0.07537875]\n",
            " [0.814248  ]\n",
            " [0.8399699 ]\n",
            " [0.00312164]\n",
            " [0.9589118 ]\n",
            " [0.05466932]\n",
            " [0.7859378 ]\n",
            " [0.64465606]\n",
            " [0.93246394]\n",
            " [0.68604016]\n",
            " [0.21313867]\n",
            " [0.34568578]\n",
            " [0.10520658]\n",
            " [0.95804745]\n",
            " [0.07537875]\n",
            " [0.30008274]\n",
            " [0.96277374]\n",
            " [0.05466932]\n",
            " [0.58936846]\n",
            " [0.66948456]\n",
            " [0.7415782 ]\n",
            " [0.14333555]\n",
            " [0.19085169]\n",
            " [0.14333555]\n",
            " [0.80503774]\n",
            " [0.6501761 ]\n",
            " [0.6177002 ]\n",
            " [0.33695596]\n",
            " [0.05466932]\n",
            " [0.10307765]\n",
            " [0.39878792]\n",
            " [0.08050147]\n",
            " [0.11428967]\n",
            " [0.09539038]\n",
            " [0.07537875]\n",
            " [0.9366486 ]\n",
            " [0.6501761 ]\n",
            " [0.75067663]\n",
            " [0.75067663]\n",
            " [0.01120704]\n",
            " [0.19549513]\n",
            " [0.5971873 ]\n",
            " [0.07537875]\n",
            " [0.08101925]\n",
            " [0.07537875]\n",
            " [0.9377981 ]\n",
            " [0.76378024]\n",
            " [0.75067663]\n",
            " [0.9830798 ]\n",
            " [0.5498093 ]\n",
            " [0.06914666]\n",
            " [0.10307765]\n",
            " [0.6775218 ]\n",
            " [0.4347751 ]\n",
            " [0.94445807]\n",
            " [0.6428045 ]\n",
            " [0.38373196]\n",
            " [0.12941363]\n",
            " [0.10307765]\n",
            " [0.94303715]\n",
            " [0.5782251 ]\n",
            " [0.07537875]\n",
            " [0.9293101 ]\n",
            " [0.07537875]\n",
            " [0.41579774]\n",
            " [0.14749551]\n",
            " [0.72375923]\n",
            " [0.12002513]\n",
            " [0.8269111 ]\n",
            " [0.19932699]\n",
            " [0.10307765]\n",
            " [0.03293815]\n",
            " [0.9637402 ]\n",
            " [0.64790285]\n",
            " [0.10307765]\n",
            " [0.56074476]\n",
            " [0.17093551]\n",
            " [0.6391117 ]\n",
            " [0.83687866]\n",
            " [0.05466932]\n",
            " [0.10307765]\n",
            " [0.5377211 ]\n",
            " [0.05005676]\n",
            " [0.6428045 ]\n",
            " [0.15815437]\n",
            " [0.05466932]\n",
            " [0.64435804]\n",
            " [0.10307765]\n",
            " [0.35302538]\n",
            " [0.07537875]\n",
            " [0.12002513]\n",
            " [0.9182502 ]\n",
            " [0.14333555]\n",
            " [0.05466932]\n",
            " [0.7142639 ]\n",
            " [0.8660934 ]\n",
            " [0.6067775 ]\n",
            " [0.14333555]\n",
            " [0.6480267 ]\n",
            " [0.09539038]\n",
            " [0.1612685 ]\n",
            " [0.07537875]\n",
            " [0.5108514 ]\n",
            " [0.07698467]\n",
            " [0.07537875]\n",
            " [0.85208106]\n",
            " [0.8651543 ]\n",
            " [0.12002513]\n",
            " [0.06123143]\n",
            " [0.2763306 ]\n",
            " [0.6177002 ]\n",
            " [0.80339426]\n",
            " [0.10307765]\n",
            " [0.32209122]\n",
            " [0.88567275]\n",
            " [0.48661608]\n",
            " [0.5863378 ]\n",
            " [0.06140032]\n",
            " [0.14333555]\n",
            " [0.7253704 ]\n",
            " [0.10307765]\n",
            " [0.06914666]\n",
            " [0.90947026]\n",
            " [0.07537875]\n",
            " [0.7257873 ]\n",
            " [0.85393   ]\n",
            " [0.2763306 ]\n",
            " [0.60618985]\n",
            " [0.7793884 ]\n",
            " [0.07277676]\n",
            " [0.08385953]\n",
            " [0.33061534]\n",
            " [0.28232807]\n",
            " [0.07537875]\n",
            " [0.09539038]\n",
            " [0.23087394]\n",
            " [0.9426319 ]\n",
            " [0.6501761 ]\n",
            " [0.12002513]\n",
            " [0.2973371 ]\n",
            " [0.07537875]\n",
            " [0.42365378]\n",
            " [0.10609826]\n",
            " [0.07537875]\n",
            " [0.05466932]\n",
            " [0.14333555]\n",
            " [0.21313867]\n",
            " [0.12002513]\n",
            " [0.60618985]\n",
            " [0.07537875]\n",
            " [0.05466932]\n",
            " [0.70645857]\n",
            " [0.8700404 ]\n",
            " [0.6428045 ]\n",
            " [0.2980468 ]\n",
            " [0.15815437]\n",
            " [0.05005676]\n",
            " [0.10307765]\n",
            " [0.6211763 ]\n",
            " [0.14749551]\n",
            " [0.14333555]\n",
            " [0.05466932]\n",
            " [0.55710953]\n",
            " [0.38479438]\n",
            " [0.35302538]\n",
            " [0.9293101 ]\n",
            " [0.21894503]\n",
            " [0.07537875]\n",
            " [0.33695596]\n",
            " [0.08385953]\n",
            " [0.10307765]\n",
            " [0.31997424]\n",
            " [0.30154967]\n",
            " [0.10307765]\n",
            " [0.09539038]\n",
            " [0.8850504 ]\n",
            " [0.07537875]\n",
            " [0.9307945 ]\n",
            " [0.10307765]\n",
            " [0.10307765]\n",
            " [0.75067663]\n",
            " [0.75067663]\n",
            " [0.47522357]\n",
            " [0.9429035 ]\n",
            " [0.57591355]\n",
            " [0.78828716]\n",
            " [0.2763306 ]\n",
            " [0.12404829]\n",
            " [0.25749123]\n",
            " [0.12002513]\n",
            " [0.07537875]\n",
            " [0.3736386 ]\n",
            " [0.92344487]\n",
            " [0.10307765]\n",
            " [0.37032074]\n",
            " [0.8515372 ]\n",
            " [0.19154945]\n",
            " [0.85208106]\n",
            " [0.07537875]\n",
            " [0.8925902 ]\n",
            " [0.10307765]\n",
            " [0.09539038]\n",
            " [0.9061112 ]\n",
            " [0.09539038]\n",
            " [0.08822003]\n",
            " [0.6501761 ]\n",
            " [0.535366  ]\n",
            " [0.05466932]\n",
            " [0.05988124]\n",
            " [0.7907376 ]\n",
            " [0.09539038]\n",
            " [0.05847371]\n",
            " [0.7011886 ]\n",
            " [0.56074476]\n",
            " [0.7907376 ]\n",
            " [0.61936134]\n",
            " [0.9589118 ]\n",
            " [0.07537875]\n",
            " [0.8635874 ]\n",
            " [0.7763819 ]\n",
            " [0.3582546 ]\n",
            " [0.3582546 ]\n",
            " [0.15815437]\n",
            " [0.40595224]\n",
            " [0.16117907]\n",
            " [0.8903568 ]\n",
            " [0.17791694]\n",
            " [0.05586076]\n",
            " [0.75888   ]\n",
            " [0.46745473]\n",
            " [0.22519594]\n",
            " [0.12002513]\n",
            " [0.12941363]\n",
            " [0.6428045 ]\n",
            " [0.21313867]\n",
            " [0.9379642 ]\n",
            " [0.5984555 ]\n",
            " [0.9039998 ]\n",
            " [0.7373067 ]\n",
            " [0.12002513]\n",
            " [0.05466932]\n",
            " [0.14333555]\n",
            " [0.07537875]\n",
            " [0.6428045 ]\n",
            " [0.07698467]\n",
            " [0.10307765]\n",
            " [0.4311549 ]\n",
            " [0.09539038]\n",
            " [0.07537875]\n",
            " [0.10609826]\n",
            " [0.85770786]\n",
            " [0.3736386 ]\n",
            " [0.75067663]\n",
            " [0.13942018]\n",
            " [0.10307765]\n",
            " [0.72375923]\n",
            " [0.93576795]\n",
            " [0.6763683 ]\n",
            " [0.07537875]\n",
            " [0.7282981 ]\n",
            " [0.93124247]\n",
            " [0.17093551]\n",
            " [0.35450774]\n",
            " [0.09539038]\n",
            " [0.90527195]\n",
            " [0.10609826]\n",
            " [0.16904962]\n",
            " [0.10307765]\n",
            " [0.07537875]\n",
            " [0.07537875]\n",
            " [0.9377981 ]\n",
            " [0.05466932]\n",
            " [0.5571128 ]\n",
            " [0.11759576]\n",
            " [0.05586076]\n",
            " [0.9176619 ]\n",
            " [0.05466932]\n",
            " [0.09539038]\n",
            " [0.6540649 ]\n",
            " [0.77234817]\n",
            " [0.07537875]\n",
            " [0.39878792]\n",
            " [0.05466932]\n",
            " [0.33061534]\n",
            " [0.05005676]\n",
            " [0.07537875]\n",
            " [0.39878792]\n",
            " [0.88403106]\n",
            " [0.92753136]\n",
            " [0.28068513]\n",
            " [0.07537875]\n",
            " [0.6605707 ]\n",
            " [0.12002513]\n",
            " [0.07537875]\n",
            " [0.7506044 ]\n",
            " [0.03293815]\n",
            " [0.6949089 ]\n",
            " [0.82588434]\n",
            " [0.19085169]\n",
            " [0.06380984]\n",
            " [0.27543354]\n",
            " [0.05847371]\n",
            " [0.10307765]\n",
            " [0.10307765]\n",
            " [0.37032074]\n",
            " [0.5985514 ]\n",
            " [0.9481888 ]\n",
            " [0.10307765]\n",
            " [0.12002513]\n",
            " [0.1095272 ]\n",
            " [0.05466932]\n",
            " [0.8375026 ]\n",
            " [0.18020555]\n",
            " [0.33208263]\n",
            " [0.72375923]\n",
            " [0.07537875]\n",
            " [0.108282  ]\n",
            " [0.37644148]\n",
            " [0.05005676]\n",
            " [0.10307765]\n",
            " [0.9830798 ]\n",
            " [0.33208263]\n",
            " [0.19743213]\n",
            " [0.60618985]\n",
            " [0.32962233]\n",
            " [0.10307765]\n",
            " [0.7452318 ]\n",
            " [0.07537875]\n",
            " [0.6428045 ]\n",
            " [0.07537875]\n",
            " [0.805713  ]\n",
            " [0.10307765]\n",
            " [0.75067663]\n",
            " [0.75067663]\n",
            " [0.22920245]\n",
            " [0.07537875]\n",
            " [0.63600796]\n",
            " [0.19085169]\n",
            " [0.35570365]\n",
            " [0.7194133 ]\n",
            " [0.06959689]\n",
            " [0.2973371 ]\n",
            " [0.07537875]\n",
            " [0.06914666]\n",
            " [0.17419368]\n",
            " [0.19085169]\n",
            " [0.07537875]\n",
            " [0.05466932]\n",
            " [0.9293101 ]\n",
            " [0.82105005]\n",
            " [0.25541204]\n",
            " [0.07765791]\n",
            " [0.14333555]\n",
            " [0.14333555]\n",
            " [0.10307765]\n",
            " [0.10307765]\n",
            " [0.6428045 ]\n",
            " [0.20141861]\n",
            " [0.43526512]\n",
            " [0.75067663]\n",
            " [0.517459  ]\n",
            " [0.10307765]\n",
            " [0.02252433]\n",
            " [0.13015777]\n",
            " [0.19910899]\n",
            " [0.05227205]\n",
            " [0.10307765]\n",
            " [0.10307765]\n",
            " [0.94882894]\n",
            " [0.25541204]\n",
            " [0.6795876 ]\n",
            " [0.19743213]\n",
            " [0.12941363]\n",
            " [0.6703763 ]\n",
            " [0.10609826]\n",
            " [0.05466932]\n",
            " [0.75067663]\n",
            " [0.30637747]\n",
            " [0.05466932]\n",
            " [0.97654784]\n",
            " [0.3736386 ]\n",
            " [0.60072935]\n",
            " [0.1612685 ]\n",
            " [0.06914666]\n",
            " [0.17093551]\n",
            " [0.78445375]\n",
            " [0.2973371 ]\n",
            " [0.962171  ]\n",
            " [0.39662302]\n",
            " [0.9864166 ]\n",
            " [0.2763306 ]\n",
            " [0.23320955]\n",
            " [0.07537875]\n",
            " [0.10609826]\n",
            " [0.10307765]\n",
            " [0.94303715]\n",
            " [0.70091546]\n",
            " [0.12002513]\n",
            " [0.07537875]\n",
            " [0.91035545]\n",
            " [0.06914666]\n",
            " [0.14333555]\n",
            " [0.10609826]\n",
            " [0.40111881]\n",
            " [0.10307765]\n",
            " [0.70645857]\n",
            " [0.75067663]\n",
            " [0.2093823 ]\n",
            " [0.5377211 ]\n",
            " [0.9352145 ]\n",
            " [0.2668699 ]\n",
            " [0.14333555]\n",
            " [0.19085169]\n",
            " [0.19085169]\n",
            " [0.07537875]\n",
            " [0.48293307]\n",
            " [0.54388297]\n",
            " [0.07537875]\n",
            " [0.07537875]\n",
            " [0.3230725 ]\n",
            " [0.30008274]\n",
            " [0.82125264]\n",
            " [0.06914666]\n",
            " [0.07537875]\n",
            " [0.4558436 ]\n",
            " [0.10520658]\n",
            " [0.72375923]\n",
            " [0.43033552]\n",
            " [0.12002513]\n",
            " [0.7907376 ]\n",
            " [0.38614342]\n",
            " [0.07537875]\n",
            " [0.10307765]\n",
            " [0.7478338 ]\n",
            " [0.5105263 ]\n",
            " [0.07537875]\n",
            " [0.19085169]\n",
            " [0.07537875]\n",
            " [0.96957153]\n",
            " [0.07537875]\n",
            " [0.05466932]\n",
            " [0.12941363]\n",
            " [0.8841712 ]\n",
            " [0.13942018]\n",
            " [0.9209857 ]\n",
            " [0.9275437 ]\n",
            " [0.6811044 ]\n",
            " [0.13280764]\n",
            " [0.07537875]\n",
            " [0.10307765]\n",
            " [0.05466932]\n",
            " [0.76499957]\n",
            " [0.09539038]\n",
            " [0.52460206]\n",
            " [0.10307765]\n",
            " [0.12002513]\n",
            " [0.7172639 ]\n",
            " [0.12002513]\n",
            " [0.9283713 ]\n",
            " [0.76643026]\n",
            " [0.9368175 ]\n",
            " [0.3230725 ]\n",
            " [0.03683424]\n",
            " [0.10307765]\n",
            " [0.10307765]\n",
            " [0.6428045 ]\n",
            " [0.28512883]\n",
            " [0.36330307]\n",
            " [0.32747972]\n",
            " [0.12002513]\n",
            " [0.3661209 ]\n",
            " [0.06465417]\n",
            " [0.46177852]\n",
            " [0.10307765]\n",
            " [0.10609826]\n",
            " [0.9531125 ]\n",
            " [0.7142639 ]\n",
            " [0.09539038]\n",
            " [0.64465606]\n",
            " [0.14333555]\n",
            " [0.78828716]\n",
            " [0.787887  ]\n",
            " [0.5042074 ]\n",
            " [0.07537875]\n",
            " [0.07537875]\n",
            " [0.09075707]\n",
            " [0.6428045 ]\n",
            " [0.10609826]\n",
            " [0.9535687 ]\n",
            " [0.10307765]\n",
            " [0.0912877 ]\n",
            " [0.14333555]\n",
            " [0.3582546 ]\n",
            " [0.07537875]\n",
            " [0.14956656]\n",
            " [0.6428045 ]\n",
            " [0.21435711]\n",
            " [0.05466932]\n",
            " [0.19250292]\n",
            " [0.82825804]\n",
            " [0.07537875]\n",
            " [0.5393357 ]\n",
            " [0.56383693]\n",
            " [0.2928444 ]\n",
            " [0.12002513]\n",
            " [0.19743213]\n",
            " [0.8027992 ]\n",
            " [0.12002513]\n",
            " [0.92027605]\n",
            " [0.8059454 ]\n",
            " [0.64435804]\n",
            " [0.09539038]\n",
            " [0.10307765]\n",
            " [0.10307765]\n",
            " [0.861501  ]\n",
            " [0.10307765]\n",
            " [0.07537875]\n",
            " [0.19743213]\n",
            " [0.33061534]\n",
            " [0.10307765]\n",
            " [0.24953136]\n",
            " [0.93072367]\n",
            " [0.09539038]\n",
            " [0.10307765]\n",
            " [0.05466932]\n",
            " [0.00312164]\n",
            " [0.09539038]\n",
            " [0.7101659 ]\n",
            " [0.94445807]\n",
            " [0.21115205]\n",
            " [0.0394071 ]\n",
            " [0.5782251 ]\n",
            " [0.9434241 ]\n",
            " [0.80339426]\n",
            " [0.6949089 ]\n",
            " [0.91282284]\n",
            " [0.2973371 ]\n",
            " [0.681343  ]\n",
            " [0.09539038]\n",
            " [0.02359134]\n",
            " [0.13228878]\n",
            " [0.9121347 ]\n",
            " [0.06465417]\n",
            " [0.19085169]\n",
            " [0.78445375]\n",
            " [0.6865702 ]\n",
            " [0.2980468 ]\n",
            " [0.07537875]\n",
            " [0.33695596]\n",
            " [0.10307765]\n",
            " [0.88282204]\n",
            " [0.14956656]\n",
            " [0.05466932]\n",
            " [0.8816711 ]\n",
            " [0.76643026]\n",
            " [0.10307765]\n",
            " [0.10307765]\n",
            " [0.07537875]\n",
            " [0.92344487]\n",
            " [0.8903568 ]\n",
            " [0.07537875]\n",
            " [0.6428045 ]\n",
            " [0.14333555]\n",
            " [0.10307765]\n",
            " [0.36766857]\n",
            " [0.5567885 ]\n",
            " [0.8708652 ]\n",
            " [0.45775563]\n",
            " [0.41046798]\n",
            " [0.12002516]] \n",
            "Correct(Y): [[0.]\n",
            " [1.]\n",
            " [1.]\n",
            " [1.]\n",
            " [0.]\n",
            " [0.]\n",
            " [0.]\n",
            " [0.]\n",
            " [1.]\n",
            " [1.]\n",
            " [1.]\n",
            " [1.]\n",
            " [0.]\n",
            " [0.]\n",
            " [1.]\n",
            " [1.]\n",
            " [0.]\n",
            " [0.]\n",
            " [1.]\n",
            " [1.]\n",
            " [0.]\n",
            " [0.]\n",
            " [1.]\n",
            " [0.]\n",
            " [0.]\n",
            " [0.]\n",
            " [0.]\n",
            " [0.]\n",
            " [1.]\n",
            " [0.]\n",
            " [1.]\n",
            " [1.]\n",
            " [1.]\n",
            " [0.]\n",
            " [0.]\n",
            " [0.]\n",
            " [0.]\n",
            " [0.]\n",
            " [1.]\n",
            " [1.]\n",
            " [1.]\n",
            " [1.]\n",
            " [0.]\n",
            " [1.]\n",
            " [1.]\n",
            " [0.]\n",
            " [0.]\n",
            " [1.]\n",
            " [0.]\n",
            " [1.]\n",
            " [0.]\n",
            " [0.]\n",
            " [1.]\n",
            " [1.]\n",
            " [0.]\n",
            " [0.]\n",
            " [1.]\n",
            " [0.]\n",
            " [1.]\n",
            " [0.]\n",
            " [0.]\n",
            " [1.]\n",
            " [0.]\n",
            " [0.]\n",
            " [0.]\n",
            " [0.]\n",
            " [1.]\n",
            " [0.]\n",
            " [0.]\n",
            " [0.]\n",
            " [0.]\n",
            " [0.]\n",
            " [0.]\n",
            " [0.]\n",
            " [0.]\n",
            " [0.]\n",
            " [0.]\n",
            " [0.]\n",
            " [1.]\n",
            " [1.]\n",
            " [0.]\n",
            " [0.]\n",
            " [1.]\n",
            " [0.]\n",
            " [1.]\n",
            " [0.]\n",
            " [0.]\n",
            " [0.]\n",
            " [1.]\n",
            " [0.]\n",
            " [0.]\n",
            " [0.]\n",
            " [0.]\n",
            " [0.]\n",
            " [0.]\n",
            " [0.]\n",
            " [0.]\n",
            " [0.]\n",
            " [1.]\n",
            " [0.]\n",
            " [1.]\n",
            " [0.]\n",
            " [0.]\n",
            " [0.]\n",
            " [0.]\n",
            " [0.]\n",
            " [1.]\n",
            " [0.]\n",
            " [0.]\n",
            " [1.]\n",
            " [0.]\n",
            " [1.]\n",
            " [0.]\n",
            " [1.]\n",
            " [1.]\n",
            " [0.]\n",
            " [0.]\n",
            " [0.]\n",
            " [1.]\n",
            " [0.]\n",
            " [0.]\n",
            " [0.]\n",
            " [0.]\n",
            " [1.]\n",
            " [0.]\n",
            " [1.]\n",
            " [0.]\n",
            " [0.]\n",
            " [1.]\n",
            " [0.]\n",
            " [0.]\n",
            " [0.]\n",
            " [1.]\n",
            " [1.]\n",
            " [0.]\n",
            " [0.]\n",
            " [1.]\n",
            " [0.]\n",
            " [0.]\n",
            " [0.]\n",
            " [1.]\n",
            " [1.]\n",
            " [1.]\n",
            " [0.]\n",
            " [0.]\n",
            " [0.]\n",
            " [0.]\n",
            " [1.]\n",
            " [0.]\n",
            " [0.]\n",
            " [0.]\n",
            " [1.]\n",
            " [0.]\n",
            " [0.]\n",
            " [0.]\n",
            " [0.]\n",
            " [1.]\n",
            " [0.]\n",
            " [0.]\n",
            " [0.]\n",
            " [0.]\n",
            " [1.]\n",
            " [0.]\n",
            " [0.]\n",
            " [0.]\n",
            " [0.]\n",
            " [1.]\n",
            " [0.]\n",
            " [0.]\n",
            " [0.]\n",
            " [0.]\n",
            " [0.]\n",
            " [1.]\n",
            " [0.]\n",
            " [0.]\n",
            " [0.]\n",
            " [0.]\n",
            " [1.]\n",
            " [0.]\n",
            " [0.]\n",
            " [0.]\n",
            " [0.]\n",
            " [0.]\n",
            " [1.]\n",
            " [1.]\n",
            " [0.]\n",
            " [1.]\n",
            " [0.]\n",
            " [0.]\n",
            " [0.]\n",
            " [1.]\n",
            " [0.]\n",
            " [1.]\n",
            " [1.]\n",
            " [1.]\n",
            " [1.]\n",
            " [0.]\n",
            " [0.]\n",
            " [1.]\n",
            " [1.]\n",
            " [0.]\n",
            " [0.]\n",
            " [0.]\n",
            " [0.]\n",
            " [0.]\n",
            " [1.]\n",
            " [0.]\n",
            " [0.]\n",
            " [1.]\n",
            " [0.]\n",
            " [0.]\n",
            " [1.]\n",
            " [0.]\n",
            " [0.]\n",
            " [0.]\n",
            " [1.]\n",
            " [1.]\n",
            " [0.]\n",
            " [1.]\n",
            " [0.]\n",
            " [0.]\n",
            " [0.]\n",
            " [0.]\n",
            " [0.]\n",
            " [0.]\n",
            " [0.]\n",
            " [0.]\n",
            " [0.]\n",
            " [0.]\n",
            " [0.]\n",
            " [1.]\n",
            " [0.]\n",
            " [0.]\n",
            " [0.]\n",
            " [0.]\n",
            " [1.]\n",
            " [0.]\n",
            " [1.]\n",
            " [0.]\n",
            " [0.]\n",
            " [1.]\n",
            " [1.]\n",
            " [0.]\n",
            " [0.]\n",
            " [0.]\n",
            " [1.]\n",
            " [1.]\n",
            " [1.]\n",
            " [0.]\n",
            " [1.]\n",
            " [0.]\n",
            " [1.]\n",
            " [0.]\n",
            " [0.]\n",
            " [1.]\n",
            " [1.]\n",
            " [1.]\n",
            " [1.]\n",
            " [1.]\n",
            " [1.]\n",
            " [0.]\n",
            " [0.]\n",
            " [0.]\n",
            " [0.]\n",
            " [1.]\n",
            " [0.]\n",
            " [0.]\n",
            " [0.]\n",
            " [1.]\n",
            " [1.]\n",
            " [0.]\n",
            " [0.]\n",
            " [1.]\n",
            " [0.]\n",
            " [1.]\n",
            " [1.]\n",
            " [0.]\n",
            " [0.]\n",
            " [0.]\n",
            " [1.]\n",
            " [0.]\n",
            " [0.]\n",
            " [0.]\n",
            " [0.]\n",
            " [0.]\n",
            " [0.]\n",
            " [0.]\n",
            " [0.]\n",
            " [0.]\n",
            " [1.]\n",
            " [1.]\n",
            " [1.]\n",
            " [0.]\n",
            " [1.]\n",
            " [0.]\n",
            " [0.]\n",
            " [0.]\n",
            " [1.]\n",
            " [0.]\n",
            " [1.]\n",
            " [1.]\n",
            " [0.]\n",
            " [0.]\n",
            " [1.]\n",
            " [0.]\n",
            " [1.]\n",
            " [1.]\n",
            " [1.]\n",
            " [0.]\n",
            " [1.]\n",
            " [1.]\n",
            " [1.]\n",
            " [1.]\n",
            " [0.]\n",
            " [0.]\n",
            " [1.]\n",
            " [1.]\n",
            " [0.]\n",
            " [1.]\n",
            " [1.]\n",
            " [0.]\n",
            " [0.]\n",
            " [1.]\n",
            " [1.]\n",
            " [0.]\n",
            " [1.]\n",
            " [0.]\n",
            " [1.]\n",
            " [1.]\n",
            " [1.]\n",
            " [1.]\n",
            " [0.]\n",
            " [0.]\n",
            " [0.]\n",
            " [1.]\n",
            " [0.]\n",
            " [0.]\n",
            " [1.]\n",
            " [0.]\n",
            " [1.]\n",
            " [1.]\n",
            " [1.]\n",
            " [0.]\n",
            " [0.]\n",
            " [0.]\n",
            " [1.]\n",
            " [1.]\n",
            " [1.]\n",
            " [0.]\n",
            " [0.]\n",
            " [0.]\n",
            " [0.]\n",
            " [0.]\n",
            " [0.]\n",
            " [0.]\n",
            " [0.]\n",
            " [1.]\n",
            " [1.]\n",
            " [1.]\n",
            " [1.]\n",
            " [0.]\n",
            " [0.]\n",
            " [1.]\n",
            " [0.]\n",
            " [0.]\n",
            " [0.]\n",
            " [1.]\n",
            " [1.]\n",
            " [1.]\n",
            " [1.]\n",
            " [1.]\n",
            " [0.]\n",
            " [0.]\n",
            " [1.]\n",
            " [0.]\n",
            " [1.]\n",
            " [1.]\n",
            " [0.]\n",
            " [0.]\n",
            " [0.]\n",
            " [1.]\n",
            " [1.]\n",
            " [0.]\n",
            " [1.]\n",
            " [0.]\n",
            " [0.]\n",
            " [0.]\n",
            " [1.]\n",
            " [0.]\n",
            " [1.]\n",
            " [0.]\n",
            " [0.]\n",
            " [0.]\n",
            " [1.]\n",
            " [1.]\n",
            " [0.]\n",
            " [1.]\n",
            " [0.]\n",
            " [1.]\n",
            " [1.]\n",
            " [0.]\n",
            " [0.]\n",
            " [1.]\n",
            " [0.]\n",
            " [1.]\n",
            " [0.]\n",
            " [0.]\n",
            " [1.]\n",
            " [0.]\n",
            " [0.]\n",
            " [0.]\n",
            " [0.]\n",
            " [1.]\n",
            " [0.]\n",
            " [0.]\n",
            " [1.]\n",
            " [1.]\n",
            " [1.]\n",
            " [0.]\n",
            " [1.]\n",
            " [0.]\n",
            " [0.]\n",
            " [0.]\n",
            " [1.]\n",
            " [0.]\n",
            " [0.]\n",
            " [1.]\n",
            " [1.]\n",
            " [0.]\n",
            " [0.]\n",
            " [0.]\n",
            " [1.]\n",
            " [1.]\n",
            " [0.]\n",
            " [0.]\n",
            " [1.]\n",
            " [0.]\n",
            " [1.]\n",
            " [0.]\n",
            " [0.]\n",
            " [1.]\n",
            " [0.]\n",
            " [0.]\n",
            " [1.]\n",
            " [0.]\n",
            " [1.]\n",
            " [1.]\n",
            " [0.]\n",
            " [1.]\n",
            " [1.]\n",
            " [0.]\n",
            " [0.]\n",
            " [0.]\n",
            " [0.]\n",
            " [0.]\n",
            " [0.]\n",
            " [0.]\n",
            " [1.]\n",
            " [1.]\n",
            " [0.]\n",
            " [0.]\n",
            " [0.]\n",
            " [0.]\n",
            " [0.]\n",
            " [0.]\n",
            " [0.]\n",
            " [0.]\n",
            " [0.]\n",
            " [0.]\n",
            " [1.]\n",
            " [0.]\n",
            " [0.]\n",
            " [1.]\n",
            " [1.]\n",
            " [1.]\n",
            " [0.]\n",
            " [0.]\n",
            " [0.]\n",
            " [0.]\n",
            " [1.]\n",
            " [0.]\n",
            " [0.]\n",
            " [0.]\n",
            " [1.]\n",
            " [0.]\n",
            " [0.]\n",
            " [1.]\n",
            " [0.]\n",
            " [0.]\n",
            " [0.]\n",
            " [0.]\n",
            " [0.]\n",
            " [0.]\n",
            " [0.]\n",
            " [0.]\n",
            " [0.]\n",
            " [1.]\n",
            " [0.]\n",
            " [1.]\n",
            " [0.]\n",
            " [0.]\n",
            " [1.]\n",
            " [1.]\n",
            " [0.]\n",
            " [1.]\n",
            " [1.]\n",
            " [1.]\n",
            " [0.]\n",
            " [0.]\n",
            " [0.]\n",
            " [0.]\n",
            " [0.]\n",
            " [0.]\n",
            " [1.]\n",
            " [0.]\n",
            " [0.]\n",
            " [1.]\n",
            " [0.]\n",
            " [1.]\n",
            " [0.]\n",
            " [1.]\n",
            " [0.]\n",
            " [0.]\n",
            " [1.]\n",
            " [0.]\n",
            " [0.]\n",
            " [1.]\n",
            " [1.]\n",
            " [0.]\n",
            " [0.]\n",
            " [1.]\n",
            " [0.]\n",
            " [0.]\n",
            " [1.]\n",
            " [1.]\n",
            " [1.]\n",
            " [1.]\n",
            " [1.]\n",
            " [0.]\n",
            " [1.]\n",
            " [1.]\n",
            " [0.]\n",
            " [0.]\n",
            " [0.]\n",
            " [0.]\n",
            " [0.]\n",
            " [1.]\n",
            " [0.]\n",
            " [0.]\n",
            " [1.]\n",
            " [0.]\n",
            " [0.]\n",
            " [0.]\n",
            " [0.]\n",
            " [1.]\n",
            " [0.]\n",
            " [1.]\n",
            " [1.]\n",
            " [1.]\n",
            " [1.]\n",
            " [0.]\n",
            " [0.]\n",
            " [0.]\n",
            " [0.]\n",
            " [1.]\n",
            " [0.]\n",
            " [0.]\n",
            " [0.]\n",
            " [0.]\n",
            " [0.]\n",
            " [0.]\n",
            " [1.]\n",
            " [0.]\n",
            " [1.]\n",
            " [0.]\n",
            " [0.]\n",
            " [1.]\n",
            " [1.]\n",
            " [1.]\n",
            " [0.]\n",
            " [1.]\n",
            " [1.]\n",
            " [0.]\n",
            " [0.]\n",
            " [0.]\n",
            " [1.]\n",
            " [0.]\n",
            " [0.]\n",
            " [0.]\n",
            " [0.]\n",
            " [0.]\n",
            " [1.]\n",
            " [0.]\n",
            " [1.]\n",
            " [0.]\n",
            " [0.]\n",
            " [1.]\n",
            " [0.]\n",
            " [0.]\n",
            " [1.]\n",
            " [1.]\n",
            " [0.]\n",
            " [0.]\n",
            " [0.]\n",
            " [0.]\n",
            " [0.]\n",
            " [0.]\n",
            " [0.]\n",
            " [1.]\n",
            " [1.]\n",
            " [0.]\n",
            " [0.]\n",
            " [1.]\n",
            " [0.]\n",
            " [0.]\n",
            " [1.]\n",
            " [0.]\n",
            " [1.]\n",
            " [1.]\n",
            " [0.]\n",
            " [0.]\n",
            " [0.]\n",
            " [0.]\n",
            " [0.]\n",
            " [0.]\n",
            " [0.]\n",
            " [1.]\n",
            " [1.]\n",
            " [0.]\n",
            " [0.]\n",
            " [0.]\n",
            " [0.]\n",
            " [1.]\n",
            " [0.]\n",
            " [0.]\n",
            " [1.]\n",
            " [0.]\n",
            " [0.]\n",
            " [0.]\n",
            " [0.]\n",
            " [0.]\n",
            " [1.]\n",
            " [0.]\n",
            " [0.]\n",
            " [1.]\n",
            " [0.]\n",
            " [0.]\n",
            " [1.]\n",
            " [0.]\n",
            " [1.]\n",
            " [0.]\n",
            " [1.]\n",
            " [0.]\n",
            " [1.]\n",
            " [1.]\n",
            " [0.]\n",
            " [0.]\n",
            " [1.]\n",
            " [0.]\n",
            " [0.]\n",
            " [1.]\n",
            " [0.]\n",
            " [0.]\n",
            " [0.]\n",
            " [0.]\n",
            " [0.]\n",
            " [0.]\n",
            " [0.]\n",
            " [0.]\n",
            " [1.]\n",
            " [1.]\n",
            " [0.]\n",
            " [0.]\n",
            " [0.]\n",
            " [0.]\n",
            " [0.]\n",
            " [0.]\n",
            " [1.]\n",
            " [0.]\n",
            " [0.]\n",
            " [1.]\n",
            " [1.]\n",
            " [0.]\n",
            " [0.]\n",
            " [0.]\n",
            " [0.]\n",
            " [0.]\n",
            " [0.]\n",
            " [0.]\n",
            " [1.]\n",
            " [0.]\n",
            " [1.]\n",
            " [0.]\n",
            " [0.]\n",
            " [1.]\n",
            " [0.]\n",
            " [0.]\n",
            " [1.]\n",
            " [0.]\n",
            " [0.]\n",
            " [1.]\n",
            " [0.]\n",
            " [1.]\n",
            " [0.]\n",
            " [0.]\n",
            " [0.]\n",
            " [1.]\n",
            " [0.]\n",
            " [1.]\n",
            " [0.]\n",
            " [1.]\n",
            " [0.]\n",
            " [0.]\n",
            " [0.]\n",
            " [0.]\n",
            " [0.]\n",
            " [1.]\n",
            " [1.]\n",
            " [0.]\n",
            " [0.]\n",
            " [1.]\n",
            " [0.]\n",
            " [0.]\n",
            " [0.]\n",
            " [0.]\n",
            " [0.]\n",
            " [1.]\n",
            " [1.]\n",
            " [0.]\n",
            " [1.]\n",
            " [1.]\n",
            " [0.]\n",
            " [0.]\n",
            " [0.]\n",
            " [0.]\n",
            " [0.]\n",
            " [0.]\n",
            " [1.]\n",
            " [0.]\n",
            " [0.]\n",
            " [0.]\n",
            " [0.]\n",
            " [1.]\n",
            " [0.]\n",
            " [0.]\n",
            " [0.]\n",
            " [0.]\n",
            " [1.]\n",
            " [0.]\n",
            " [0.]\n",
            " [1.]\n",
            " [0.]\n",
            " [0.]\n",
            " [0.]\n",
            " [1.]\n",
            " [1.]\n",
            " [0.]\n",
            " [0.]\n",
            " [0.]\n",
            " [1.]\n",
            " [0.]\n",
            " [0.]\n",
            " [0.]\n",
            " [1.]\n",
            " [0.]\n",
            " [1.]\n",
            " [1.]\n",
            " [1.]\n",
            " [0.]\n",
            " [0.]\n",
            " [0.]\n",
            " [0.]\n",
            " [1.]\n",
            " [0.]\n",
            " [1.]\n",
            " [0.]\n",
            " [0.]\n",
            " [1.]\n",
            " [0.]\n",
            " [1.]\n",
            " [1.]\n",
            " [1.]\n",
            " [0.]\n",
            " [0.]\n",
            " [0.]\n",
            " [0.]\n",
            " [1.]\n",
            " [0.]\n",
            " [0.]\n",
            " [0.]\n",
            " [0.]\n",
            " [0.]\n",
            " [0.]\n",
            " [0.]\n",
            " [0.]\n",
            " [0.]\n",
            " [1.]\n",
            " [1.]\n",
            " [0.]\n",
            " [1.]\n",
            " [0.]\n",
            " [1.]\n",
            " [1.]\n",
            " [1.]\n",
            " [0.]\n",
            " [0.]\n",
            " [0.]\n",
            " [1.]\n",
            " [0.]\n",
            " [1.]\n",
            " [0.]\n",
            " [0.]\n",
            " [0.]\n",
            " [0.]\n",
            " [0.]\n",
            " [0.]\n",
            " [1.]\n",
            " [0.]\n",
            " [0.]\n",
            " [0.]\n",
            " [1.]\n",
            " [0.]\n",
            " [1.]\n",
            " [1.]\n",
            " [0.]\n",
            " [0.]\n",
            " [0.]\n",
            " [1.]\n",
            " [0.]\n",
            " [1.]\n",
            " [1.]\n",
            " [1.]\n",
            " [0.]\n",
            " [0.]\n",
            " [0.]\n",
            " [1.]\n",
            " [0.]\n",
            " [0.]\n",
            " [0.]\n",
            " [0.]\n",
            " [0.]\n",
            " [0.]\n",
            " [1.]\n",
            " [0.]\n",
            " [0.]\n",
            " [0.]\n",
            " [0.]\n",
            " [0.]\n",
            " [1.]\n",
            " [1.]\n",
            " [0.]\n",
            " [0.]\n",
            " [1.]\n",
            " [1.]\n",
            " [1.]\n",
            " [1.]\n",
            " [1.]\n",
            " [0.]\n",
            " [1.]\n",
            " [0.]\n",
            " [0.]\n",
            " [0.]\n",
            " [1.]\n",
            " [0.]\n",
            " [0.]\n",
            " [1.]\n",
            " [1.]\n",
            " [0.]\n",
            " [0.]\n",
            " [0.]\n",
            " [0.]\n",
            " [1.]\n",
            " [0.]\n",
            " [0.]\n",
            " [1.]\n",
            " [1.]\n",
            " [0.]\n",
            " [0.]\n",
            " [0.]\n",
            " [1.]\n",
            " [1.]\n",
            " [0.]\n",
            " [1.]\n",
            " [0.]\n",
            " [0.]\n",
            " [0.]\n",
            " [1.]\n",
            " [1.]\n",
            " [0.]\n",
            " [0.]\n",
            " [0.]] \n",
            "Accuracy: 0.81705946\n"
          ],
          "name": "stdout"
        }
      ]
    },
    {
      "cell_type": "markdown",
      "metadata": {
        "id": "jupeuySUGszT",
        "colab_type": "text"
      },
      "source": [
        "# Modeling\n",
        "- train 데이터로 validation을 해야함. -> 데이터의 특정부분을 정확도를 판단할 용도로 바꿈. 하지만 여기서 편향된 정보가 나올 수 있음.\n",
        "- k-ford cross validation: round를 거쳐서 편견이 없는 final accuracy를 만들 수 있음."
      ]
    },
    {
      "cell_type": "code",
      "metadata": {
        "id": "DODFS6UPVsR4",
        "colab_type": "code",
        "colab": {}
      },
      "source": [
        "from sklearn.neighbors import KNeighborsClassifier   #Knn 최근접이웃\n",
        "from sklearn.tree import DecisionTreeClassifier      #의사결정나무 \n",
        "from sklearn.ensemble import RandomForestClassifier  #Randomforest\n",
        "from sklearn.naive_bayes import GaussianNB           #베이즈 분류\n",
        "from sklearn.svm import SVC                          #support vector machine\n",
        "\n",
        "import numpy as np"
      ],
      "execution_count": 0,
      "outputs": []
    },
    {
      "cell_type": "markdown",
      "metadata": {
        "id": "OKjftMyjY806",
        "colab_type": "text"
      },
      "source": [
        "## 5.2 Cross Validation(K-ford) : 교차검증\n",
        "- 독립 변수의 개수가 많은 빅데이터에서는 과최적화가 쉽게 발생한다.\n",
        "\n",
        "- 표본 데이터 집합의 종속 변수 값을 얼마나 잘 예측하는가를 검사하는 것을 표본외 성능 검증(out-of-sample testing) 혹은 교차검증(cross validation)이라고 함.\n",
        "- 데이터의 수가 적은 경우, 검증 데이터의 수를 증가시키면 학습용 데이터의 수가 적어지므로 이것을 해결하기 위해 K-fold 교차검증 방법을 사용"
      ]
    },
    {
      "cell_type": "code",
      "metadata": {
        "id": "W5A3rtQiZDK-",
        "colab_type": "code",
        "colab": {}
      },
      "source": [
        "from sklearn.model_selection import KFold\n",
        "from sklearn.model_selection import cross_val_score\n",
        "k_fold = KFold(n_splits=10, shuffle=True, random_state=0)"
      ],
      "execution_count": 0,
      "outputs": []
    },
    {
      "cell_type": "markdown",
      "metadata": {
        "id": "C-EzuPvv8NHC",
        "colab_type": "text"
      },
      "source": [
        "k_fold = KFold(n_splits=10, shuffle=True, random_state=0)\n",
        "\n",
        "- 10개의 부분집합으로 나눔 : 폴드 개수\n",
        "- shuffle : 샘플의 순서를 뒤죽박죽 섞음.\n",
        "- random_state : 똑같은 작업 재현 가능\n",
        "\n",
        "\n",
        "\n"
      ]
    },
    {
      "cell_type": "markdown",
      "metadata": {
        "id": "V2JmN4v38pZX",
        "colab_type": "text"
      },
      "source": [
        "***cross_val_score : 교차검증 반복 ★***\n",
        "- cross_val_score(model, X, y, scoring=None, cv=None,n_jobs=1)\n",
        "  - model : 분석 모형\n",
        "  - X : 독립변수 데이터\n",
        "  - Y : 종속변수 데이터\n",
        "  - Scoring : 성능 검증에 사용할 함수 이름\n",
        "  - cv: 교차검증 생성기 객체 또는 숫자\n",
        "  - n_jobs: 병렬화 옵션 사용 X   -> 사용해도 안해도 크게 문제가 없음."
      ]
    },
    {
      "cell_type": "markdown",
      "metadata": {
        "id": "u0C8H3-WZYEF",
        "colab_type": "text"
      },
      "source": [
        "### 5.2.1 kNN"
      ]
    },
    {
      "cell_type": "code",
      "metadata": {
        "id": "kslaRvZ1ZcKw",
        "colab_type": "code",
        "outputId": "3ef30825-c0d6-4fc4-f5ce-f2a86307bcd9",
        "colab": {
          "base_uri": "https://localhost:8080/",
          "height": 54
        }
      },
      "source": [
        "clf = KNeighborsClassifier(n_neighbors = 13)\n",
        "scoring = 'accuracy'\n",
        "#cros_val_score(model, train, target, cross validation)\n",
        "score = cross_val_score(clf, train_data, target, cv=k_fold, scoring=scoring)\n",
        "print(score)"
      ],
      "execution_count": 164,
      "outputs": [
        {
          "output_type": "stream",
          "text": [
            "[0.82222222 0.76404494 0.80898876 0.83146067 0.87640449 0.82022472\n",
            " 0.85393258 0.79775281 0.84269663 0.84269663]\n"
          ],
          "name": "stdout"
        }
      ]
    },
    {
      "cell_type": "code",
      "metadata": {
        "id": "mkzhJhTpg28I",
        "colab_type": "code",
        "outputId": "ffc8e1d7-9b32-474d-aa81-adf799a2439f",
        "colab": {
          "base_uri": "https://localhost:8080/",
          "height": 35
        }
      },
      "source": [
        "#kNN Score\n",
        "round(np.mean(score)*100,2)"
      ],
      "execution_count": 165,
      "outputs": [
        {
          "output_type": "execute_result",
          "data": {
            "text/plain": [
              "82.6"
            ]
          },
          "metadata": {
            "tags": []
          },
          "execution_count": 165
        }
      ]
    },
    {
      "cell_type": "markdown",
      "metadata": {
        "id": "bbCFS49Ielfi",
        "colab_type": "text"
      },
      "source": [
        "### 5.2.2 Decision Tree"
      ]
    },
    {
      "cell_type": "code",
      "metadata": {
        "id": "cXq194L4etBV",
        "colab_type": "code",
        "outputId": "5f56b1b4-f916-4e35-922f-ebb22a8409b8",
        "colab": {
          "base_uri": "https://localhost:8080/",
          "height": 54
        }
      },
      "source": [
        "clf = DecisionTreeClassifier()\n",
        "scoring = 'accuracy'\n",
        "score = cross_val_score(clf, train_data, target, cv=k_fold, scoring=scoring)\n",
        "print(score)"
      ],
      "execution_count": 166,
      "outputs": [
        {
          "output_type": "stream",
          "text": [
            "[0.76666667 0.80898876 0.78651685 0.7752809  0.8988764  0.76404494\n",
            " 0.82022472 0.82022472 0.74157303 0.78651685]\n"
          ],
          "name": "stdout"
        }
      ]
    },
    {
      "cell_type": "code",
      "metadata": {
        "id": "bd73dK0Jg-4J",
        "colab_type": "code",
        "outputId": "faf79274-90a2-47bf-ad30-983f3e65bd3c",
        "colab": {
          "base_uri": "https://localhost:8080/",
          "height": 35
        }
      },
      "source": [
        "#DecisionTree Score\n",
        "round(np.mean(score)*100,2)"
      ],
      "execution_count": 167,
      "outputs": [
        {
          "output_type": "execute_result",
          "data": {
            "text/plain": [
              "79.69"
            ]
          },
          "metadata": {
            "tags": []
          },
          "execution_count": 167
        }
      ]
    },
    {
      "cell_type": "markdown",
      "metadata": {
        "id": "n7ELNcN4hHw0",
        "colab_type": "text"
      },
      "source": [
        "### 5.2.3 Random Forest"
      ]
    },
    {
      "cell_type": "code",
      "metadata": {
        "id": "OPKEVxGfhO-Y",
        "colab_type": "code",
        "outputId": "c6ed283e-c0e3-4b3b-8dba-40fe533f8303",
        "colab": {
          "base_uri": "https://localhost:8080/",
          "height": 423
        }
      },
      "source": [
        "clf = RandomForestClassifier()\n",
        "scoring = 'accuracy'\n",
        "score = cross_val_score(clf, train_data, target, cv=k_fold, scoring=scoring)\n",
        "print(score)"
      ],
      "execution_count": 168,
      "outputs": [
        {
          "output_type": "stream",
          "text": [
            "/usr/local/lib/python3.6/dist-packages/sklearn/ensemble/forest.py:245: FutureWarning: The default value of n_estimators will change from 10 in version 0.20 to 100 in 0.22.\n",
            "  \"10 in version 0.20 to 100 in 0.22.\", FutureWarning)\n",
            "/usr/local/lib/python3.6/dist-packages/sklearn/ensemble/forest.py:245: FutureWarning: The default value of n_estimators will change from 10 in version 0.20 to 100 in 0.22.\n",
            "  \"10 in version 0.20 to 100 in 0.22.\", FutureWarning)\n",
            "/usr/local/lib/python3.6/dist-packages/sklearn/ensemble/forest.py:245: FutureWarning: The default value of n_estimators will change from 10 in version 0.20 to 100 in 0.22.\n",
            "  \"10 in version 0.20 to 100 in 0.22.\", FutureWarning)\n",
            "/usr/local/lib/python3.6/dist-packages/sklearn/ensemble/forest.py:245: FutureWarning: The default value of n_estimators will change from 10 in version 0.20 to 100 in 0.22.\n",
            "  \"10 in version 0.20 to 100 in 0.22.\", FutureWarning)\n",
            "/usr/local/lib/python3.6/dist-packages/sklearn/ensemble/forest.py:245: FutureWarning: The default value of n_estimators will change from 10 in version 0.20 to 100 in 0.22.\n",
            "  \"10 in version 0.20 to 100 in 0.22.\", FutureWarning)\n",
            "/usr/local/lib/python3.6/dist-packages/sklearn/ensemble/forest.py:245: FutureWarning: The default value of n_estimators will change from 10 in version 0.20 to 100 in 0.22.\n",
            "  \"10 in version 0.20 to 100 in 0.22.\", FutureWarning)\n",
            "/usr/local/lib/python3.6/dist-packages/sklearn/ensemble/forest.py:245: FutureWarning: The default value of n_estimators will change from 10 in version 0.20 to 100 in 0.22.\n",
            "  \"10 in version 0.20 to 100 in 0.22.\", FutureWarning)\n",
            "/usr/local/lib/python3.6/dist-packages/sklearn/ensemble/forest.py:245: FutureWarning: The default value of n_estimators will change from 10 in version 0.20 to 100 in 0.22.\n",
            "  \"10 in version 0.20 to 100 in 0.22.\", FutureWarning)\n",
            "/usr/local/lib/python3.6/dist-packages/sklearn/ensemble/forest.py:245: FutureWarning: The default value of n_estimators will change from 10 in version 0.20 to 100 in 0.22.\n",
            "  \"10 in version 0.20 to 100 in 0.22.\", FutureWarning)\n",
            "/usr/local/lib/python3.6/dist-packages/sklearn/ensemble/forest.py:245: FutureWarning: The default value of n_estimators will change from 10 in version 0.20 to 100 in 0.22.\n",
            "  \"10 in version 0.20 to 100 in 0.22.\", FutureWarning)\n"
          ],
          "name": "stderr"
        },
        {
          "output_type": "stream",
          "text": [
            "[0.77777778 0.79775281 0.80898876 0.75280899 0.88764045 0.80898876\n",
            " 0.82022472 0.79775281 0.78651685 0.83146067]\n"
          ],
          "name": "stdout"
        }
      ]
    },
    {
      "cell_type": "code",
      "metadata": {
        "id": "e06MmffIhVGX",
        "colab_type": "code",
        "outputId": "0c1999b0-d95e-434d-e8dd-780d7a9dae25",
        "colab": {
          "base_uri": "https://localhost:8080/",
          "height": 35
        }
      },
      "source": [
        "round(np.mean(score)*100,2)"
      ],
      "execution_count": 169,
      "outputs": [
        {
          "output_type": "execute_result",
          "data": {
            "text/plain": [
              "80.7"
            ]
          },
          "metadata": {
            "tags": []
          },
          "execution_count": 169
        }
      ]
    },
    {
      "cell_type": "markdown",
      "metadata": {
        "id": "1EGaCIsTheXb",
        "colab_type": "text"
      },
      "source": [
        "### 5.2.4 Naive Bayes"
      ]
    },
    {
      "cell_type": "code",
      "metadata": {
        "id": "-xO831V-hnIo",
        "colab_type": "code",
        "outputId": "3385ec02-65c4-40b3-c969-26472e67254d",
        "colab": {
          "base_uri": "https://localhost:8080/",
          "height": 54
        }
      },
      "source": [
        "clf = GaussianNB()\n",
        "scoring = 'accuracy'\n",
        "score = cross_val_score(clf, train_data, target, cv=k_fold, scoring=scoring)\n",
        "print(score)"
      ],
      "execution_count": 170,
      "outputs": [
        {
          "output_type": "stream",
          "text": [
            "[0.85555556 0.73033708 0.75280899 0.75280899 0.70786517 0.80898876\n",
            " 0.76404494 0.80898876 0.86516854 0.83146067]\n"
          ],
          "name": "stdout"
        }
      ]
    },
    {
      "cell_type": "code",
      "metadata": {
        "id": "u2B27bwehuhN",
        "colab_type": "code",
        "outputId": "3e569617-6b3a-4221-a114-af1069a7cdff",
        "colab": {
          "base_uri": "https://localhost:8080/",
          "height": 35
        }
      },
      "source": [
        "round(np.mean(score)*100,2)"
      ],
      "execution_count": 171,
      "outputs": [
        {
          "output_type": "execute_result",
          "data": {
            "text/plain": [
              "78.78"
            ]
          },
          "metadata": {
            "tags": []
          },
          "execution_count": 171
        }
      ]
    },
    {
      "cell_type": "markdown",
      "metadata": {
        "id": "z7H2bJ8ohx0x",
        "colab_type": "text"
      },
      "source": [
        "### 5.2.5 SVM"
      ]
    },
    {
      "cell_type": "code",
      "metadata": {
        "id": "nRdfMFPmhzLw",
        "colab_type": "code",
        "outputId": "39accb3d-f956-4121-dd02-782ffd436d6b",
        "colab": {
          "base_uri": "https://localhost:8080/",
          "height": 443
        }
      },
      "source": [
        "clf = SVC()\n",
        "scoring = 'accuracy'\n",
        "score = cross_val_score(clf, train_data, target, cv=k_fold, scoring=scoring)\n",
        "print(score)"
      ],
      "execution_count": 172,
      "outputs": [
        {
          "output_type": "stream",
          "text": [
            "/usr/local/lib/python3.6/dist-packages/sklearn/svm/base.py:193: FutureWarning: The default value of gamma will change from 'auto' to 'scale' in version 0.22 to account better for unscaled features. Set gamma explicitly to 'auto' or 'scale' to avoid this warning.\n",
            "  \"avoid this warning.\", FutureWarning)\n",
            "/usr/local/lib/python3.6/dist-packages/sklearn/svm/base.py:193: FutureWarning: The default value of gamma will change from 'auto' to 'scale' in version 0.22 to account better for unscaled features. Set gamma explicitly to 'auto' or 'scale' to avoid this warning.\n",
            "  \"avoid this warning.\", FutureWarning)\n",
            "/usr/local/lib/python3.6/dist-packages/sklearn/svm/base.py:193: FutureWarning: The default value of gamma will change from 'auto' to 'scale' in version 0.22 to account better for unscaled features. Set gamma explicitly to 'auto' or 'scale' to avoid this warning.\n",
            "  \"avoid this warning.\", FutureWarning)\n",
            "/usr/local/lib/python3.6/dist-packages/sklearn/svm/base.py:193: FutureWarning: The default value of gamma will change from 'auto' to 'scale' in version 0.22 to account better for unscaled features. Set gamma explicitly to 'auto' or 'scale' to avoid this warning.\n",
            "  \"avoid this warning.\", FutureWarning)\n",
            "/usr/local/lib/python3.6/dist-packages/sklearn/svm/base.py:193: FutureWarning: The default value of gamma will change from 'auto' to 'scale' in version 0.22 to account better for unscaled features. Set gamma explicitly to 'auto' or 'scale' to avoid this warning.\n",
            "  \"avoid this warning.\", FutureWarning)\n",
            "/usr/local/lib/python3.6/dist-packages/sklearn/svm/base.py:193: FutureWarning: The default value of gamma will change from 'auto' to 'scale' in version 0.22 to account better for unscaled features. Set gamma explicitly to 'auto' or 'scale' to avoid this warning.\n",
            "  \"avoid this warning.\", FutureWarning)\n",
            "/usr/local/lib/python3.6/dist-packages/sklearn/svm/base.py:193: FutureWarning: The default value of gamma will change from 'auto' to 'scale' in version 0.22 to account better for unscaled features. Set gamma explicitly to 'auto' or 'scale' to avoid this warning.\n",
            "  \"avoid this warning.\", FutureWarning)\n",
            "/usr/local/lib/python3.6/dist-packages/sklearn/svm/base.py:193: FutureWarning: The default value of gamma will change from 'auto' to 'scale' in version 0.22 to account better for unscaled features. Set gamma explicitly to 'auto' or 'scale' to avoid this warning.\n",
            "  \"avoid this warning.\", FutureWarning)\n",
            "/usr/local/lib/python3.6/dist-packages/sklearn/svm/base.py:193: FutureWarning: The default value of gamma will change from 'auto' to 'scale' in version 0.22 to account better for unscaled features. Set gamma explicitly to 'auto' or 'scale' to avoid this warning.\n",
            "  \"avoid this warning.\", FutureWarning)\n"
          ],
          "name": "stderr"
        },
        {
          "output_type": "stream",
          "text": [
            "[0.83333333 0.80898876 0.83146067 0.82022472 0.84269663 0.82022472\n",
            " 0.84269663 0.85393258 0.83146067 0.86516854]\n"
          ],
          "name": "stdout"
        },
        {
          "output_type": "stream",
          "text": [
            "/usr/local/lib/python3.6/dist-packages/sklearn/svm/base.py:193: FutureWarning: The default value of gamma will change from 'auto' to 'scale' in version 0.22 to account better for unscaled features. Set gamma explicitly to 'auto' or 'scale' to avoid this warning.\n",
            "  \"avoid this warning.\", FutureWarning)\n"
          ],
          "name": "stderr"
        }
      ]
    },
    {
      "cell_type": "code",
      "metadata": {
        "id": "5KuMW6HAh6gW",
        "colab_type": "code",
        "outputId": "f27333ef-c155-499e-b2a0-91bb6b2276db",
        "colab": {
          "base_uri": "https://localhost:8080/",
          "height": 35
        }
      },
      "source": [
        "round(np.mean(score)*100,2)"
      ],
      "execution_count": 173,
      "outputs": [
        {
          "output_type": "execute_result",
          "data": {
            "text/plain": [
              "83.5"
            ]
          },
          "metadata": {
            "tags": []
          },
          "execution_count": 173
        }
      ]
    },
    {
      "cell_type": "markdown",
      "metadata": {
        "id": "qRhS2qqYiEK7",
        "colab_type": "text"
      },
      "source": [
        "# 6. Testing"
      ]
    },
    {
      "cell_type": "code",
      "metadata": {
        "id": "WEsveLuwiG7r",
        "colab_type": "code",
        "outputId": "30c820d4-3210-4108-dab1-294d954e0fe8",
        "colab": {
          "base_uri": "https://localhost:8080/",
          "height": 74
        }
      },
      "source": [
        "clf = SVC()\n",
        "clf.fit(train_data,target)\n",
        "\n",
        "test_data = test.drop('PassengerId',axis=1).copy()\n",
        "prediction = clf.predict(test_data)"
      ],
      "execution_count": 174,
      "outputs": [
        {
          "output_type": "stream",
          "text": [
            "/usr/local/lib/python3.6/dist-packages/sklearn/svm/base.py:193: FutureWarning: The default value of gamma will change from 'auto' to 'scale' in version 0.22 to account better for unscaled features. Set gamma explicitly to 'auto' or 'scale' to avoid this warning.\n",
            "  \"avoid this warning.\", FutureWarning)\n"
          ],
          "name": "stderr"
        }
      ]
    },
    {
      "cell_type": "code",
      "metadata": {
        "id": "uyFgkS06jxsd",
        "colab_type": "code",
        "colab": {}
      },
      "source": [
        "submission = pd.DataFrame({\n",
        "    'PassengerId':test['PassengerId'],\n",
        "    'Survived':prediction\n",
        "})\n",
        "\n",
        "submission.to_csv('submission.csv',index=False)"
      ],
      "execution_count": 0,
      "outputs": []
    },
    {
      "cell_type": "code",
      "metadata": {
        "id": "DuNl87dFkHYZ",
        "colab_type": "code",
        "outputId": "75866bca-b999-4ad1-9fb3-68c5ddbd7bab",
        "colab": {
          "base_uri": "https://localhost:8080/",
          "height": 416
        }
      },
      "source": [
        "submission = pd.read_csv('submission.csv')\n",
        "submission"
      ],
      "execution_count": 176,
      "outputs": [
        {
          "output_type": "execute_result",
          "data": {
            "text/html": [
              "<div>\n",
              "<style scoped>\n",
              "    .dataframe tbody tr th:only-of-type {\n",
              "        vertical-align: middle;\n",
              "    }\n",
              "\n",
              "    .dataframe tbody tr th {\n",
              "        vertical-align: top;\n",
              "    }\n",
              "\n",
              "    .dataframe thead th {\n",
              "        text-align: right;\n",
              "    }\n",
              "</style>\n",
              "<table border=\"1\" class=\"dataframe\">\n",
              "  <thead>\n",
              "    <tr style=\"text-align: right;\">\n",
              "      <th></th>\n",
              "      <th>PassengerId</th>\n",
              "      <th>Survived</th>\n",
              "    </tr>\n",
              "  </thead>\n",
              "  <tbody>\n",
              "    <tr>\n",
              "      <th>0</th>\n",
              "      <td>892</td>\n",
              "      <td>0</td>\n",
              "    </tr>\n",
              "    <tr>\n",
              "      <th>1</th>\n",
              "      <td>893</td>\n",
              "      <td>1</td>\n",
              "    </tr>\n",
              "    <tr>\n",
              "      <th>2</th>\n",
              "      <td>894</td>\n",
              "      <td>0</td>\n",
              "    </tr>\n",
              "    <tr>\n",
              "      <th>3</th>\n",
              "      <td>895</td>\n",
              "      <td>0</td>\n",
              "    </tr>\n",
              "    <tr>\n",
              "      <th>4</th>\n",
              "      <td>896</td>\n",
              "      <td>1</td>\n",
              "    </tr>\n",
              "    <tr>\n",
              "      <th>...</th>\n",
              "      <td>...</td>\n",
              "      <td>...</td>\n",
              "    </tr>\n",
              "    <tr>\n",
              "      <th>413</th>\n",
              "      <td>1305</td>\n",
              "      <td>0</td>\n",
              "    </tr>\n",
              "    <tr>\n",
              "      <th>414</th>\n",
              "      <td>1306</td>\n",
              "      <td>1</td>\n",
              "    </tr>\n",
              "    <tr>\n",
              "      <th>415</th>\n",
              "      <td>1307</td>\n",
              "      <td>0</td>\n",
              "    </tr>\n",
              "    <tr>\n",
              "      <th>416</th>\n",
              "      <td>1308</td>\n",
              "      <td>0</td>\n",
              "    </tr>\n",
              "    <tr>\n",
              "      <th>417</th>\n",
              "      <td>1309</td>\n",
              "      <td>1</td>\n",
              "    </tr>\n",
              "  </tbody>\n",
              "</table>\n",
              "<p>418 rows × 2 columns</p>\n",
              "</div>"
            ],
            "text/plain": [
              "     PassengerId  Survived\n",
              "0            892         0\n",
              "1            893         1\n",
              "2            894         0\n",
              "3            895         0\n",
              "4            896         1\n",
              "..           ...       ...\n",
              "413         1305         0\n",
              "414         1306         1\n",
              "415         1307         0\n",
              "416         1308         0\n",
              "417         1309         1\n",
              "\n",
              "[418 rows x 2 columns]"
            ]
          },
          "metadata": {
            "tags": []
          },
          "execution_count": 176
        }
      ]
    }
  ]
}
