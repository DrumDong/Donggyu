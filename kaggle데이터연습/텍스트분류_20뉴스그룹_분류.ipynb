{
  "nbformat": 4,
  "nbformat_minor": 0,
  "metadata": {
    "colab": {
      "name": "텍스트분류-20뉴스그룹 분류.ipynb",
      "provenance": [],
      "collapsed_sections": [],
      "include_colab_link": true
    },
    "kernelspec": {
      "name": "python3",
      "display_name": "Python 3"
    }
  },
  "cells": [
    {
      "cell_type": "markdown",
      "metadata": {
        "id": "view-in-github",
        "colab_type": "text"
      },
      "source": [
        "<a href=\"https://colab.research.google.com/github/DrumDong/Donggyu/blob/master/kaggle%EB%8D%B0%EC%9D%B4%ED%84%B0%EC%97%B0%EC%8A%B5/%ED%85%8D%EC%8A%A4%ED%8A%B8%EB%B6%84%EB%A5%98_20%EB%89%B4%EC%8A%A4%EA%B7%B8%EB%A3%B9_%EB%B6%84%EB%A5%98.ipynb\" target=\"_parent\"><img src=\"https://colab.research.google.com/assets/colab-badge.svg\" alt=\"Open In Colab\"/></a>"
      ]
    },
    {
      "cell_type": "code",
      "metadata": {
        "id": "eKalYa0N3_y1",
        "colab_type": "code",
        "colab": {
          "base_uri": "https://localhost:8080/",
          "height": 52
        },
        "outputId": "5c818b58-b69f-4e44-a95e-7b09b895a5ac"
      },
      "source": [
        "from sklearn.datasets import fetch_20newsgroups\n",
        "\n",
        "news_data = fetch_20newsgroups(subset='all',random_state=156)"
      ],
      "execution_count": 3,
      "outputs": [
        {
          "output_type": "stream",
          "text": [
            "Downloading 20news dataset. This may take a few minutes.\n",
            "Downloading dataset from https://ndownloader.figshare.com/files/5975967 (14 MB)\n"
          ],
          "name": "stderr"
        }
      ]
    },
    {
      "cell_type": "code",
      "metadata": {
        "id": "35sZRhIt4OTs",
        "colab_type": "code",
        "colab": {
          "base_uri": "https://localhost:8080/",
          "height": 34
        },
        "outputId": "5b92fb18-a2b1-4eaa-bf1f-2b1bdd74607f"
      },
      "source": [
        "print(news_data.keys()) # key값 확인"
      ],
      "execution_count": 4,
      "outputs": [
        {
          "output_type": "stream",
          "text": [
            "dict_keys(['data', 'filenames', 'target_names', 'target', 'DESCR'])\n"
          ],
          "name": "stdout"
        }
      ]
    },
    {
      "cell_type": "markdown",
      "metadata": {
        "id": "dOBaU78M4mJI",
        "colab_type": "text"
      },
      "source": [
        "Target 클래스가 어떻게 구성돼 있는지 확인해 보자."
      ]
    },
    {
      "cell_type": "code",
      "metadata": {
        "id": "9_1NU6x75a1Z",
        "colab_type": "code",
        "colab": {
          "base_uri": "https://localhost:8080/",
          "height": 459
        },
        "outputId": "d034399d-5fc7-41ee-b061-a62837701fae"
      },
      "source": [
        "import pandas as pd\n",
        "\n",
        "print('target 클래스의 값과 분포도 \\n',pd.Series(news_data.target).value_counts().sort_index())\n",
        "print('target 클래스의 이름들 \\n', news_data.target_names)"
      ],
      "execution_count": 5,
      "outputs": [
        {
          "output_type": "stream",
          "text": [
            "target 클래스의 값과 분포도 \n",
            " 0     799\n",
            "1     973\n",
            "2     985\n",
            "3     982\n",
            "4     963\n",
            "5     988\n",
            "6     975\n",
            "7     990\n",
            "8     996\n",
            "9     994\n",
            "10    999\n",
            "11    991\n",
            "12    984\n",
            "13    990\n",
            "14    987\n",
            "15    997\n",
            "16    910\n",
            "17    940\n",
            "18    775\n",
            "19    628\n",
            "dtype: int64\n",
            "target 클래스의 이름들 \n",
            " ['alt.atheism', 'comp.graphics', 'comp.os.ms-windows.misc', 'comp.sys.ibm.pc.hardware', 'comp.sys.mac.hardware', 'comp.windows.x', 'misc.forsale', 'rec.autos', 'rec.motorcycles', 'rec.sport.baseball', 'rec.sport.hockey', 'sci.crypt', 'sci.electronics', 'sci.med', 'sci.space', 'soc.religion.christian', 'talk.politics.guns', 'talk.politics.mideast', 'talk.politics.misc', 'talk.religion.misc']\n"
          ],
          "name": "stdout"
        }
      ]
    },
    {
      "cell_type": "code",
      "metadata": {
        "id": "IpblWM5w56X3",
        "colab_type": "code",
        "colab": {
          "base_uri": "https://localhost:8080/",
          "height": 545
        },
        "outputId": "4accabe6-8443-4cda-d1c5-3315fb72b772"
      },
      "source": [
        "print(news_data.data[0])"
      ],
      "execution_count": 6,
      "outputs": [
        {
          "output_type": "stream",
          "text": [
            "From: egreen@east.sun.com (Ed Green - Pixel Cruncher)\n",
            "Subject: Re: Observation re: helmets\n",
            "Organization: Sun Microsystems, RTP, NC\n",
            "Lines: 21\n",
            "Distribution: world\n",
            "Reply-To: egreen@east.sun.com\n",
            "NNTP-Posting-Host: laser.east.sun.com\n",
            "\n",
            "In article 211353@mavenry.altcit.eskimo.com, maven@mavenry.altcit.eskimo.com (Norman Hamer) writes:\n",
            "> \n",
            "> The question for the day is re: passenger helmets, if you don't know for \n",
            ">certain who's gonna ride with you (like say you meet them at a .... church \n",
            ">meeting, yeah, that's the ticket)... What are some guidelines? Should I just \n",
            ">pick up another shoei in my size to have a backup helmet (XL), or should I \n",
            ">maybe get an inexpensive one of a smaller size to accomodate my likely \n",
            ">passenger? \n",
            "\n",
            "If your primary concern is protecting the passenger in the event of a\n",
            "crash, have him or her fitted for a helmet that is their size.  If your\n",
            "primary concern is complying with stupid helmet laws, carry a real big\n",
            "spare (you can put a big or small head in a big helmet, but not in a\n",
            "small one).\n",
            "\n",
            "---\n",
            "Ed Green, former Ninjaite |I was drinking last night with a biker,\n",
            "  Ed.Green@East.Sun.COM   |and I showed him a picture of you.  I said,\n",
            "DoD #0111  (919)460-8302  |\"Go on, get to know her, you'll like her!\"\n",
            " (The Grateful Dead) -->  |It seemed like the least I could do...\n",
            "\n",
            "\n"
          ],
          "name": "stdout"
        }
      ]
    },
    {
      "cell_type": "markdown",
      "metadata": {
        "id": "ZlJ8DvBjioUb",
        "colab_type": "text"
      },
      "source": [
        "데이터를 다시 내려받고,헤더와 푸터 정보들을 삭제하자 (class값과 비슷한 것들이 많으므로 ) -> 순수한 텍스트만을 사용해 분석을 해야함"
      ]
    },
    {
      "cell_type": "code",
      "metadata": {
        "id": "rzqkBWTwdbq9",
        "colab_type": "code",
        "colab": {
          "base_uri": "https://localhost:8080/",
          "height": 34
        },
        "outputId": "098038d2-30b0-41ad-9532-35e704086f04"
      },
      "source": [
        "from sklearn.datasets import fetch_20newsgroups\n",
        "\n",
        "# subset='train'으로 학습용 데이터만 추출, remove=('header','footer','quotes')로 내용만 추출\n",
        "train_news = fetch_20newsgroups(subset='train',remove=('header','footer','quotes'),\n",
        "                                random_state=156)\n",
        "\n",
        "X_train = train_news.data\n",
        "y_train = train_news.target\n",
        "\n",
        "# subset='target'으로 학습용 데이터만 추출, remove=('header','footer','quotes')로 내용만 추출\n",
        "test_news = fetch_20newsgroups(subset='test',remove=('header','footer','quotes'),\n",
        "                   random_state=156)\n",
        "X_test = test_news.data\n",
        "X_target = test_news.target\n",
        "print('학습 데이터 크기{0}, 테스트 데이터 크기{1}'.format(len(train_news.data),\n",
        "                                           len(test_news.data)))"
      ],
      "execution_count": 7,
      "outputs": [
        {
          "output_type": "stream",
          "text": [
            "학습 데이터 크기11314, 테스트 데이터 크기7532\n"
          ],
          "name": "stdout"
        }
      ]
    },
    {
      "cell_type": "markdown",
      "metadata": {
        "id": "H5cnDINsEGRK",
        "colab_type": "text"
      },
      "source": [
        "# 피처 벡터화 변환과 머신러닝 모델 학습/예측/평가"
      ]
    },
    {
      "cell_type": "markdown",
      "metadata": {
        "id": "Op4L9decELXK",
        "colab_type": "text"
      },
      "source": [
        "## CountVectorizer"
      ]
    },
    {
      "cell_type": "markdown",
      "metadata": {
        "id": "sKPz8gF9ls_A",
        "colab_type": "text"
      },
      "source": [
        "CountVectorizer를 이용해 학습 데이터의 텍스트를 피처 백터화 시키자.\n",
        "- 테스트 데이터에서 CountVectorizer를 적용할 때는 반드시 학습 데이터를 이용해 fit()이 수행된 CountVectorizer 객체를 이용해 테스트 데이터를 변환(transform)해야 한다는 것 (cnt_vect.transform) 사용\n"
      ]
    },
    {
      "cell_type": "code",
      "metadata": {
        "id": "TzZS1cpt87hk",
        "colab_type": "code",
        "colab": {
          "base_uri": "https://localhost:8080/",
          "height": 34
        },
        "outputId": "492c4b3a-1b76-4061-9620-8260731e71b5"
      },
      "source": [
        "from sklearn.feature_extraction.text import CountVectorizer\n",
        "\n",
        "# Count Vectorization으로 피처 백터화 변환 수행\n",
        "cnt_vect = CountVectorizer()\n",
        "cnt_vect.fit(X_train,y_train)\n",
        "X_train_cnt_vect = cnt_vect.transform(X_train)\n",
        "\n",
        "# 학습 데이터로 fit()된 CountVectorizer를 이용해 테스트 데이터를 피터 벡처화 변환 수행.\n",
        "X_test_cnt_vect = cnt_vect.transform(X_test)\n",
        "\n",
        "print('학습 데이터 텍스트의 CountVectorzier Shape:',X_train_cnt_vect.shape)"
      ],
      "execution_count": 8,
      "outputs": [
        {
          "output_type": "stream",
          "text": [
            "학습 데이터 텍스트의 CountVectorzier Shape: (11314, 120756)\n"
          ],
          "name": "stdout"
        }
      ]
    },
    {
      "cell_type": "markdown",
      "metadata": {
        "id": "wVWL9AIABp3v",
        "colab_type": "text"
      },
      "source": [
        " 11314개의 문서에서 120756개의 단어\n",
        " \n",
        " ---\n",
        "\n",
        " 로지스틱 회귀를 적용해 분류를 예측해 보자"
      ]
    },
    {
      "cell_type": "code",
      "metadata": {
        "id": "_Nj67Up0Cr9M",
        "colab_type": "code",
        "colab": {
          "base_uri": "https://localhost:8080/",
          "height": 125
        },
        "outputId": "bb6e901f-dd31-4934-e7e7-d7912f20683f"
      },
      "source": [
        "from sklearn.linear_model import LogisticRegression\n",
        "from sklearn.metrics import accuracy_score\n",
        "\n",
        "# LogisticRegression을 이용해 학습/예측/평가 수행.\n",
        "lr_clf = LogisticRegression()\n",
        "lr_clf.fit(X_train_cnt_vect,y_train)\n",
        "pred = lr_clf.predict(X_test_cnt_vect)\n",
        "print('CountVectorized Logistic Regression의 예측 정확도는 {0:.3f}'.format(accuracy_score(X_target,\n",
        "                                                                                   pred)))"
      ],
      "execution_count": 9,
      "outputs": [
        {
          "output_type": "stream",
          "text": [
            "/usr/local/lib/python3.6/dist-packages/sklearn/linear_model/logistic.py:432: FutureWarning: Default solver will be changed to 'lbfgs' in 0.22. Specify a solver to silence this warning.\n",
            "  FutureWarning)\n",
            "/usr/local/lib/python3.6/dist-packages/sklearn/linear_model/logistic.py:469: FutureWarning: Default multi_class will be changed to 'auto' in 0.22. Specify the multi_class option to silence this warning.\n",
            "  \"this warning.\", FutureWarning)\n"
          ],
          "name": "stderr"
        },
        {
          "output_type": "stream",
          "text": [
            "CountVectorized Logistic Regression의 예측 정확도는 0.769\n"
          ],
          "name": "stdout"
        }
      ]
    },
    {
      "cell_type": "markdown",
      "metadata": {
        "id": "druj2jCrEhb4",
        "colab_type": "text"
      },
      "source": [
        "## TF-IDF 기반으로 벡터화를 변경해 예측 모델 수행"
      ]
    },
    {
      "cell_type": "code",
      "metadata": {
        "id": "f4YLMszgEoTI",
        "colab_type": "code",
        "colab": {
          "base_uri": "https://localhost:8080/",
          "height": 125
        },
        "outputId": "27389df0-75a9-4e74-d6b2-6d0bf62af4aa"
      },
      "source": [
        "from sklearn.feature_extraction.text import TfidfVectorizer\n",
        "\n",
        "# TF_IDF 벡터화를 적용해 학습 데이터 세트와 테스트 데이터 세트 변환.\n",
        "tfidf_vect = TfidfVectorizer()\n",
        "tfidf_vect.fit(X_train,y_train)\n",
        "X_train_tfidf_vect =tfidf_vect.transform(X_train)\n",
        "X_test_tfidf_vect = tfidf_vect.transform(X_test)\n",
        "\n",
        "# LogisticRegression을 이용해 학습/예측/평가 수행.\n",
        "lr_clf = LogisticRegression()\n",
        "lr_clf.fit(X_train_tfidf_vect,y_train)\n",
        "pred = lr_clf.predict(X_test_tfidf_vect)\n",
        "print('CountVectorized Logistic Regression의 예측 정확도는 {0:.3f}'.format(accuracy_score(X_target,\n",
        "                                                                                   pred)))"
      ],
      "execution_count": 10,
      "outputs": [
        {
          "output_type": "stream",
          "text": [
            "/usr/local/lib/python3.6/dist-packages/sklearn/linear_model/logistic.py:432: FutureWarning: Default solver will be changed to 'lbfgs' in 0.22. Specify a solver to silence this warning.\n",
            "  FutureWarning)\n",
            "/usr/local/lib/python3.6/dist-packages/sklearn/linear_model/logistic.py:469: FutureWarning: Default multi_class will be changed to 'auto' in 0.22. Specify the multi_class option to silence this warning.\n",
            "  \"this warning.\", FutureWarning)\n"
          ],
          "name": "stderr"
        },
        {
          "output_type": "stream",
          "text": [
            "CountVectorized Logistic Regression의 예측 정확도는 0.786\n"
          ],
          "name": "stdout"
        }
      ]
    },
    {
      "cell_type": "markdown",
      "metadata": {
        "id": "EX1na1tNH6zF",
        "colab_type": "text"
      },
      "source": [
        "TF-IDF가 단순 카운트 기반보다 훨씬 높은 예측 정확도를 제공\n"
      ]
    },
    {
      "cell_type": "markdown",
      "metadata": {
        "id": "jpojdjE1INIR",
        "colab_type": "text"
      },
      "source": [
        "텍스트 분석에서 머신러닝 모델의 성능을 향상시키는 2가지 방법\n",
        "- ML  알고리즘을 선택하는 것\n",
        "- 최상의 피처 전처리를 수행하는 것 "
      ]
    },
    {
      "cell_type": "markdown",
      "metadata": {
        "id": "VKX8zNhpIeA9",
        "colab_type": "text"
      },
      "source": [
        "## 좀 더 다양한 파라미터를 적용한 TF-IDF\n",
        "- 스톱 워드를  기존 'None'에서 'english'로,\n",
        "- ngram_range는 기존 (1,1)에서 (1,2)로,\n",
        "- max_df= 300 으로 변경"
      ]
    },
    {
      "cell_type": "code",
      "metadata": {
        "id": "Q6b8yV4XI3gQ",
        "colab_type": "code",
        "colab": {
          "base_uri": "https://localhost:8080/",
          "height": 125
        },
        "outputId": "f42d6b92-f57b-4b7e-c362-d2d53d644d3c"
      },
      "source": [
        "# stop words 필터링을 추가하고 ngram 을 기본 (1,1)에서 (1,2)로 변경해 피처 벡터화 적용\n",
        "tfidf_vect = TfidfVectorizer(stop_words = 'english',ngram_range=(1,2),max_df=300)\n",
        "tfidf_vect.fit(X_train,y_train)\n",
        "X_train_tfidf_vect = tfidf_vect.transform(X_train)\n",
        "X_test_tfidf_vect = tfidf_vect.transform(X_test)\n",
        "\n",
        "lr_clf = LogisticRegression()\n",
        "lr_clf.fit(X_train_tfidf_vect,y_train)\n",
        "\n",
        "pred = lr_clf.predict(X_test_tfidf_vect)\n",
        "print('CountVectorized Logistic Regression의 예측 정확도는 {0:.3f}'.format(accuracy_score(X_target,\n",
        "                                                                                   pred)))"
      ],
      "execution_count": 11,
      "outputs": [
        {
          "output_type": "stream",
          "text": [
            "/usr/local/lib/python3.6/dist-packages/sklearn/linear_model/logistic.py:432: FutureWarning: Default solver will be changed to 'lbfgs' in 0.22. Specify a solver to silence this warning.\n",
            "  FutureWarning)\n",
            "/usr/local/lib/python3.6/dist-packages/sklearn/linear_model/logistic.py:469: FutureWarning: Default multi_class will be changed to 'auto' in 0.22. Specify the multi_class option to silence this warning.\n",
            "  \"this warning.\", FutureWarning)\n"
          ],
          "name": "stderr"
        },
        {
          "output_type": "stream",
          "text": [
            "CountVectorized Logistic Regression의 예측 정확도는 0.772\n"
          ],
          "name": "stdout"
        }
      ]
    },
    {
      "cell_type": "markdown",
      "metadata": {
        "id": "H07NUi4ELeBp",
        "colab_type": "text"
      },
      "source": [
        "GridSearchCV를 이용해 로지스틱 회귀의 하이퍼 파라미터 최적화를 수행\n",
        " - 로지스틱 회귀의 C 파라미터만 변경하면서 최적의 C값을 찾은 뒤 이 C값으로 학습된 모델에서 테스트 데이터로 예측해 성능 평가"
      ]
    },
    {
      "cell_type": "code",
      "metadata": {
        "id": "EP_Yyc62MVIY",
        "colab_type": "code",
        "colab": {
          "base_uri": "https://localhost:8080/",
          "height": 195
        },
        "outputId": "3651b0c0-44cd-4d3d-9d42-e44d699bb2dd"
      },
      "source": [
        "from sklearn.model_selection import GridSearchCV\n",
        "\n",
        "# 최적 C 값 도출 튜닝 수행. CV는 3 폴드 세트로 설정\n",
        "params ={'C':[0.01,0.1,1,5,10]}\n",
        "grid_cv_lr = GridSearchCV(lr_clf,param_grid=params,cv=3,scoring='accuracy',verbose=1)\n",
        "grid_cv_lr.fit(X_train_tfidf_vect,y_train)\n",
        "print('Logistic Regression best C parameter:',grid_cv_lr.best_params_)\n",
        "\n",
        "# 최적 C 값으로 학습된 grid_cv로 예측 및 정확도 평가\n",
        "pred = grid_cv_lr.predict(X_test_tfidf_vect)\n",
        "print('TF-IDF Vectorized Logistic Regression의 예측 정확도는 {0:3f}'.format(accuracy_score(X_target,pred)))"
      ],
      "execution_count": 12,
      "outputs": [
        {
          "output_type": "stream",
          "text": [
            "Fitting 3 folds for each of 5 candidates, totalling 15 fits\n"
          ],
          "name": "stdout"
        },
        {
          "output_type": "stream",
          "text": [
            "[Parallel(n_jobs=1)]: Using backend SequentialBackend with 1 concurrent workers.\n",
            "/usr/local/lib/python3.6/dist-packages/sklearn/linear_model/logistic.py:432: FutureWarning: Default solver will be changed to 'lbfgs' in 0.22. Specify a solver to silence this warning.\n",
            "  FutureWarning)\n",
            "/usr/local/lib/python3.6/dist-packages/sklearn/linear_model/logistic.py:469: FutureWarning: Default multi_class will be changed to 'auto' in 0.22. Specify the multi_class option to silence this warning.\n",
            "  \"this warning.\", FutureWarning)\n",
            "[Parallel(n_jobs=1)]: Done  15 out of  15 | elapsed:  5.3min finished\n"
          ],
          "name": "stderr"
        },
        {
          "output_type": "stream",
          "text": [
            "Logistic Regression best C parameter: {'C': 10}\n",
            "TF-IDF Vectorized Logistic Regression의 예측 정확도는 0.796734\n"
          ],
          "name": "stdout"
        }
      ]
    },
    {
      "cell_type": "markdown",
      "metadata": {
        "id": "NNcy3fXRBXmq",
        "colab_type": "text"
      },
      "source": [
        "GridSearchCV이 교차 검증 테스트 세트에서 가장 좋은 예측 성능을 나타냄."
      ]
    },
    {
      "cell_type": "markdown",
      "metadata": {
        "id": "jaPQf1EhBc0o",
        "colab_type": "text"
      },
      "source": [
        "# 사이킷런 파이프라인 사용  및 GridSearchCV와의 결합\n",
        "pipeline = Pipeline([('tfidf_vect',TfidfVectorizer(stop_words='english')),\n",
        "                     ('lr_clf',LogisticRegression(random_state=156))])"
      ]
    },
    {
      "cell_type": "code",
      "metadata": {
        "id": "8i50c1HlDh0C",
        "colab_type": "code",
        "colab": {
          "base_uri": "https://localhost:8080/",
          "height": 125
        },
        "outputId": "1ab9409c-6124-4758-b583-ca39ee0569ff"
      },
      "source": [
        "from sklearn.pipeline import Pipeline\n",
        "\n",
        "#TfidVectorizer 객체를 tfidf_vect로, LogisticRegression객체를 lr_clf로 생성하는 Pipeline 새성\n",
        "pipeline = Pipeline([\n",
        "                     ('tfidf_vect',TfidfVectorizer(stop_words='english',ngram_range=(1,2),max_df=300)),\n",
        "                     ('lr_clf',LogisticRegression(C=10))\n",
        "])\n",
        "\n",
        "#별도의 TfidfVectorizer 객체를 fit(), transform()과 LogisticRegression의 fit(), predict()가 필요없음.\n",
        "#pipeline의 fit()과 predict()만으로 한꺼번에 피처 벡터화와 ML 학습/예측이 가능.\n",
        "pipeline.fit(X_train,y_train)\n",
        "pred = pipeline.predict(X_test)\n",
        "print('Pipeline을 통한 Logistic Regression의 예측 정확도는 {0:.3f}'.format(\n",
        "    accuracy_score(X_target,pred)))"
      ],
      "execution_count": 17,
      "outputs": [
        {
          "output_type": "stream",
          "text": [
            "/usr/local/lib/python3.6/dist-packages/sklearn/linear_model/logistic.py:432: FutureWarning: Default solver will be changed to 'lbfgs' in 0.22. Specify a solver to silence this warning.\n",
            "  FutureWarning)\n",
            "/usr/local/lib/python3.6/dist-packages/sklearn/linear_model/logistic.py:469: FutureWarning: Default multi_class will be changed to 'auto' in 0.22. Specify the multi_class option to silence this warning.\n",
            "  \"this warning.\", FutureWarning)\n"
          ],
          "name": "stderr"
        },
        {
          "output_type": "stream",
          "text": [
            "Pipeline을 통한 Logistic Regression의 예측 정확도는 0.797\n"
          ],
          "name": "stdout"
        }
      ]
    }
  ]
}