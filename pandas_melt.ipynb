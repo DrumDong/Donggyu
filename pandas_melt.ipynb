{
  "nbformat": 4,
  "nbformat_minor": 0,
  "metadata": {
    "colab": {
      "name": "pandas_melt.ipynb",
      "provenance": [],
      "include_colab_link": true
    },
    "kernelspec": {
      "name": "python3",
      "display_name": "Python 3"
    }
  },
  "cells": [
    {
      "cell_type": "markdown",
      "metadata": {
        "id": "view-in-github",
        "colab_type": "text"
      },
      "source": [
        "<a href=\"https://colab.research.google.com/github/DrumDong/Donggyu/blob/master/pandas_melt.ipynb\" target=\"_parent\"><img src=\"https://colab.research.google.com/assets/colab-badge.svg\" alt=\"Open In Colab\"/></a>"
      ]
    },
    {
      "cell_type": "markdown",
      "metadata": {
        "id": "5JlQbDxwtX93",
        "colab_type": "text"
      },
      "source": [
        "# Melt function\n",
        "- Change an wide form dataframe to a long form dataframe"
      ]
    },
    {
      "cell_type": "code",
      "metadata": {
        "id": "nmhZ4j7axWjh",
        "colab_type": "code",
        "colab": {}
      },
      "source": [
        "import pandas as pd"
      ],
      "execution_count": 0,
      "outputs": []
    },
    {
      "cell_type": "markdown",
      "metadata": {
        "id": "LsCfWJYQttRd",
        "colab_type": "text"
      },
      "source": [
        "## upload dataframe"
      ]
    },
    {
      "cell_type": "code",
      "metadata": {
        "id": "7KsbeC-LxMec",
        "colab_type": "code",
        "colab": {
          "base_uri": "https://localhost:8080/",
          "height": 128
        },
        "outputId": "de9a2c78-0e03-4c31-e3e4-d20673fdfdc8"
      },
      "source": [
        "from google.colab import drive\n",
        "drive.mount('/content/drive')"
      ],
      "execution_count": 1,
      "outputs": [
        {
          "output_type": "stream",
          "text": [
            "Go to this URL in a browser: https://accounts.google.com/o/oauth2/auth?client_id=947318989803-6bn6qk8qdgf4n4g3pfee6491hc0brc4i.apps.googleusercontent.com&redirect_uri=urn%3Aietf%3Awg%3Aoauth%3A2.0%3Aoob&scope=email%20https%3A%2F%2Fwww.googleapis.com%2Fauth%2Fdocs.test%20https%3A%2F%2Fwww.googleapis.com%2Fauth%2Fdrive%20https%3A%2F%2Fwww.googleapis.com%2Fauth%2Fdrive.photos.readonly%20https%3A%2F%2Fwww.googleapis.com%2Fauth%2Fpeopleapi.readonly&response_type=code\n",
            "\n",
            "Enter your authorization code:\n",
            "··········\n",
            "Mounted at /content/drive\n"
          ],
          "name": "stdout"
        }
      ]
    },
    {
      "cell_type": "code",
      "metadata": {
        "id": "lQJhz6pCxNt7",
        "colab_type": "code",
        "colab": {}
      },
      "source": [
        "exchange_mean = pd.read_csv('/content/drive/My Drive/Colab Notebooks/data/exchange_mean.csv',encoding='UTF8')"
      ],
      "execution_count": 0,
      "outputs": []
    },
    {
      "cell_type": "code",
      "metadata": {
        "id": "5KUHBxjHxxKh",
        "colab_type": "code",
        "colab": {
          "base_uri": "https://localhost:8080/",
          "height": 198
        },
        "outputId": "06e0d92c-ed94-4ed1-a04c-5cf694db85b6"
      },
      "source": [
        "exchange_mean.head()"
      ],
      "execution_count": 13,
      "outputs": [
        {
          "output_type": "execute_result",
          "data": {
            "text/html": [
              "<div>\n",
              "<style scoped>\n",
              "    .dataframe tbody tr th:only-of-type {\n",
              "        vertical-align: middle;\n",
              "    }\n",
              "\n",
              "    .dataframe tbody tr th {\n",
              "        vertical-align: top;\n",
              "    }\n",
              "\n",
              "    .dataframe thead th {\n",
              "        text-align: right;\n",
              "    }\n",
              "</style>\n",
              "<table border=\"1\" class=\"dataframe\">\n",
              "  <thead>\n",
              "    <tr style=\"text-align: right;\">\n",
              "      <th></th>\n",
              "      <th>Unnamed: 0</th>\n",
              "      <th>날짜</th>\n",
              "      <th>USD</th>\n",
              "      <th>EUR</th>\n",
              "      <th>CNY</th>\n",
              "      <th>JPY</th>\n",
              "      <th>GBP</th>\n",
              "    </tr>\n",
              "  </thead>\n",
              "  <tbody>\n",
              "    <tr>\n",
              "      <th>0</th>\n",
              "      <td>0</td>\n",
              "      <td>2001</td>\n",
              "      <td>1290.952174</td>\n",
              "      <td>1158.577419</td>\n",
              "      <td>155.942208</td>\n",
              "      <td>1062.585613</td>\n",
              "      <td>1850.558246</td>\n",
              "    </tr>\n",
              "    <tr>\n",
              "      <th>1</th>\n",
              "      <td>1</td>\n",
              "      <td>2002</td>\n",
              "      <td>1252.868817</td>\n",
              "      <td>1180.836138</td>\n",
              "      <td>153.808385</td>\n",
              "      <td>1003.021470</td>\n",
              "      <td>1870.015926</td>\n",
              "    </tr>\n",
              "    <tr>\n",
              "      <th>2</th>\n",
              "      <td>2</td>\n",
              "      <td>2003</td>\n",
              "      <td>1191.932530</td>\n",
              "      <td>1347.370255</td>\n",
              "      <td>0.000000</td>\n",
              "      <td>1026.291667</td>\n",
              "      <td>1893.619104</td>\n",
              "    </tr>\n",
              "    <tr>\n",
              "      <th>3</th>\n",
              "      <td>3</td>\n",
              "      <td>2004</td>\n",
              "      <td>1144.197610</td>\n",
              "      <td>1421.162818</td>\n",
              "      <td>0.000000</td>\n",
              "      <td>1049.830947</td>\n",
              "      <td>2096.455400</td>\n",
              "    </tr>\n",
              "    <tr>\n",
              "      <th>4</th>\n",
              "      <td>4</td>\n",
              "      <td>2005</td>\n",
              "      <td>1024.231587</td>\n",
              "      <td>1266.103125</td>\n",
              "      <td>0.000000</td>\n",
              "      <td>931.660556</td>\n",
              "      <td>1876.077143</td>\n",
              "    </tr>\n",
              "  </tbody>\n",
              "</table>\n",
              "</div>"
            ],
            "text/plain": [
              "   Unnamed: 0    날짜          USD  ...         CNY          JPY          GBP\n",
              "0           0  2001  1290.952174  ...  155.942208  1062.585613  1850.558246\n",
              "1           1  2002  1252.868817  ...  153.808385  1003.021470  1870.015926\n",
              "2           2  2003  1191.932530  ...    0.000000  1026.291667  1893.619104\n",
              "3           3  2004  1144.197610  ...    0.000000  1049.830947  2096.455400\n",
              "4           4  2005  1024.231587  ...    0.000000   931.660556  1876.077143\n",
              "\n",
              "[5 rows x 7 columns]"
            ]
          },
          "metadata": {
            "tags": []
          },
          "execution_count": 13
        }
      ]
    },
    {
      "cell_type": "code",
      "metadata": {
        "id": "56BPIpydx5HY",
        "colab_type": "code",
        "colab": {
          "base_uri": "https://localhost:8080/",
          "height": 198
        },
        "outputId": "ba742bd7-6416-4a96-be85-a3e66f2d19e2"
      },
      "source": [
        "exchange_mean=exchange_mean.drop(columns='Unnamed: 0')\n",
        "exchange_mean.head()"
      ],
      "execution_count": 14,
      "outputs": [
        {
          "output_type": "execute_result",
          "data": {
            "text/html": [
              "<div>\n",
              "<style scoped>\n",
              "    .dataframe tbody tr th:only-of-type {\n",
              "        vertical-align: middle;\n",
              "    }\n",
              "\n",
              "    .dataframe tbody tr th {\n",
              "        vertical-align: top;\n",
              "    }\n",
              "\n",
              "    .dataframe thead th {\n",
              "        text-align: right;\n",
              "    }\n",
              "</style>\n",
              "<table border=\"1\" class=\"dataframe\">\n",
              "  <thead>\n",
              "    <tr style=\"text-align: right;\">\n",
              "      <th></th>\n",
              "      <th>날짜</th>\n",
              "      <th>USD</th>\n",
              "      <th>EUR</th>\n",
              "      <th>CNY</th>\n",
              "      <th>JPY</th>\n",
              "      <th>GBP</th>\n",
              "    </tr>\n",
              "  </thead>\n",
              "  <tbody>\n",
              "    <tr>\n",
              "      <th>0</th>\n",
              "      <td>2001</td>\n",
              "      <td>1290.952174</td>\n",
              "      <td>1158.577419</td>\n",
              "      <td>155.942208</td>\n",
              "      <td>1062.585613</td>\n",
              "      <td>1850.558246</td>\n",
              "    </tr>\n",
              "    <tr>\n",
              "      <th>1</th>\n",
              "      <td>2002</td>\n",
              "      <td>1252.868817</td>\n",
              "      <td>1180.836138</td>\n",
              "      <td>153.808385</td>\n",
              "      <td>1003.021470</td>\n",
              "      <td>1870.015926</td>\n",
              "    </tr>\n",
              "    <tr>\n",
              "      <th>2</th>\n",
              "      <td>2003</td>\n",
              "      <td>1191.932530</td>\n",
              "      <td>1347.370255</td>\n",
              "      <td>0.000000</td>\n",
              "      <td>1026.291667</td>\n",
              "      <td>1893.619104</td>\n",
              "    </tr>\n",
              "    <tr>\n",
              "      <th>3</th>\n",
              "      <td>2004</td>\n",
              "      <td>1144.197610</td>\n",
              "      <td>1421.162818</td>\n",
              "      <td>0.000000</td>\n",
              "      <td>1049.830947</td>\n",
              "      <td>2096.455400</td>\n",
              "    </tr>\n",
              "    <tr>\n",
              "      <th>4</th>\n",
              "      <td>2005</td>\n",
              "      <td>1024.231587</td>\n",
              "      <td>1266.103125</td>\n",
              "      <td>0.000000</td>\n",
              "      <td>931.660556</td>\n",
              "      <td>1876.077143</td>\n",
              "    </tr>\n",
              "  </tbody>\n",
              "</table>\n",
              "</div>"
            ],
            "text/plain": [
              "     날짜          USD          EUR         CNY          JPY          GBP\n",
              "0  2001  1290.952174  1158.577419  155.942208  1062.585613  1850.558246\n",
              "1  2002  1252.868817  1180.836138  153.808385  1003.021470  1870.015926\n",
              "2  2003  1191.932530  1347.370255    0.000000  1026.291667  1893.619104\n",
              "3  2004  1144.197610  1421.162818    0.000000  1049.830947  2096.455400\n",
              "4  2005  1024.231587  1266.103125    0.000000   931.660556  1876.077143"
            ]
          },
          "metadata": {
            "tags": []
          },
          "execution_count": 14
        }
      ]
    },
    {
      "cell_type": "markdown",
      "metadata": {
        "id": "_H5YL1AUyFnx",
        "colab_type": "text"
      },
      "source": [
        "## Use 'MELT' to make a long form dataframe\n",
        "\n",
        "- id_vars : 기준으로 잡을 컬럼\n",
        "- value_vars : 컬럼값으로 넣을 컬럼들 (기준 잡힐 컬럼)\n",
        "- var_name : value_vars를 가질 컬럼의 이름\n",
        "- value_name : value_vars의 원래 컬럼값들"
      ]
    },
    {
      "cell_type": "code",
      "metadata": {
        "id": "EpPz1-93yTGp",
        "colab_type": "code",
        "colab": {}
      },
      "source": [
        "exchange_mean_longform=pd.melt(exchange_mean,\n",
        "        id_vars=['날짜'],\n",
        "        value_vars=['USD','EUR','CNY','JPY','GBP'],\n",
        "        var_name='nation',\n",
        "        value_name='exchange')"
      ],
      "execution_count": 0,
      "outputs": []
    },
    {
      "cell_type": "code",
      "metadata": {
        "id": "BTkuqykVz-xa",
        "colab_type": "code",
        "colab": {
          "base_uri": "https://localhost:8080/",
          "height": 407
        },
        "outputId": "abb61be7-ab77-4ca6-9d4c-b153b8af938f"
      },
      "source": [
        "exchange_mean_longform.sort_values(['날짜'],ascending=True) #ascending: True:오름차순, False:내림차순"
      ],
      "execution_count": 22,
      "outputs": [
        {
          "output_type": "execute_result",
          "data": {
            "text/html": [
              "<div>\n",
              "<style scoped>\n",
              "    .dataframe tbody tr th:only-of-type {\n",
              "        vertical-align: middle;\n",
              "    }\n",
              "\n",
              "    .dataframe tbody tr th {\n",
              "        vertical-align: top;\n",
              "    }\n",
              "\n",
              "    .dataframe thead th {\n",
              "        text-align: right;\n",
              "    }\n",
              "</style>\n",
              "<table border=\"1\" class=\"dataframe\">\n",
              "  <thead>\n",
              "    <tr style=\"text-align: right;\">\n",
              "      <th></th>\n",
              "      <th>날짜</th>\n",
              "      <th>nation</th>\n",
              "      <th>exchange</th>\n",
              "    </tr>\n",
              "  </thead>\n",
              "  <tbody>\n",
              "    <tr>\n",
              "      <th>0</th>\n",
              "      <td>2001</td>\n",
              "      <td>USD</td>\n",
              "      <td>1290.952174</td>\n",
              "    </tr>\n",
              "    <tr>\n",
              "      <th>36</th>\n",
              "      <td>2001</td>\n",
              "      <td>CNY</td>\n",
              "      <td>155.942208</td>\n",
              "    </tr>\n",
              "    <tr>\n",
              "      <th>54</th>\n",
              "      <td>2001</td>\n",
              "      <td>JPY</td>\n",
              "      <td>1062.585613</td>\n",
              "    </tr>\n",
              "    <tr>\n",
              "      <th>18</th>\n",
              "      <td>2001</td>\n",
              "      <td>EUR</td>\n",
              "      <td>1158.577419</td>\n",
              "    </tr>\n",
              "    <tr>\n",
              "      <th>72</th>\n",
              "      <td>2001</td>\n",
              "      <td>GBP</td>\n",
              "      <td>1850.558246</td>\n",
              "    </tr>\n",
              "    <tr>\n",
              "      <th>...</th>\n",
              "      <td>...</td>\n",
              "      <td>...</td>\n",
              "      <td>...</td>\n",
              "    </tr>\n",
              "    <tr>\n",
              "      <th>71</th>\n",
              "      <td>2018</td>\n",
              "      <td>JPY</td>\n",
              "      <td>996.034466</td>\n",
              "    </tr>\n",
              "    <tr>\n",
              "      <th>35</th>\n",
              "      <td>2018</td>\n",
              "      <td>EUR</td>\n",
              "      <td>1298.530959</td>\n",
              "    </tr>\n",
              "    <tr>\n",
              "      <th>17</th>\n",
              "      <td>2018</td>\n",
              "      <td>USD</td>\n",
              "      <td>1100.208493</td>\n",
              "    </tr>\n",
              "    <tr>\n",
              "      <th>53</th>\n",
              "      <td>2018</td>\n",
              "      <td>CNY</td>\n",
              "      <td>166.405699</td>\n",
              "    </tr>\n",
              "    <tr>\n",
              "      <th>89</th>\n",
              "      <td>2018</td>\n",
              "      <td>GBP</td>\n",
              "      <td>1467.954685</td>\n",
              "    </tr>\n",
              "  </tbody>\n",
              "</table>\n",
              "<p>90 rows × 3 columns</p>\n",
              "</div>"
            ],
            "text/plain": [
              "      날짜 nation     exchange\n",
              "0   2001    USD  1290.952174\n",
              "36  2001    CNY   155.942208\n",
              "54  2001    JPY  1062.585613\n",
              "18  2001    EUR  1158.577419\n",
              "72  2001    GBP  1850.558246\n",
              "..   ...    ...          ...\n",
              "71  2018    JPY   996.034466\n",
              "35  2018    EUR  1298.530959\n",
              "17  2018    USD  1100.208493\n",
              "53  2018    CNY   166.405699\n",
              "89  2018    GBP  1467.954685\n",
              "\n",
              "[90 rows x 3 columns]"
            ]
          },
          "metadata": {
            "tags": []
          },
          "execution_count": 22
        }
      ]
    }
  ]
}