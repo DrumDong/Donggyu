{
  "nbformat": 4,
  "nbformat_minor": 0,
  "metadata": {
    "colab": {
      "name": "Line_Charts_seaborn.ipynb",
      "provenance": [],
      "collapsed_sections": []
    },
    "kernelspec": {
      "name": "python3",
      "display_name": "Python 3"
    }
  },
  "cells": [
    {
      "cell_type": "code",
      "metadata": {
        "id": "tTvahZ7gQfF9",
        "colab_type": "code",
        "colab": {}
      },
      "source": [
        "import pandas as pd"
      ],
      "execution_count": 0,
      "outputs": []
    },
    {
      "cell_type": "code",
      "metadata": {
        "id": "Eq1whoAuRtbs",
        "colab_type": "code",
        "colab": {
          "base_uri": "https://localhost:8080/",
          "height": 35
        },
        "outputId": "1be7a572-1400-43cc-df59-8f8aa48aaf48"
      },
      "source": [
        "from google.colab import drive\n",
        "drive.mount('/content/drive')"
      ],
      "execution_count": 188,
      "outputs": [
        {
          "output_type": "stream",
          "text": [
            "Drive already mounted at /content/drive; to attempt to forcibly remount, call drive.mount(\"/content/drive\", force_remount=True).\n"
          ],
          "name": "stdout"
        }
      ]
    },
    {
      "cell_type": "code",
      "metadata": {
        "id": "xJCEBWh4R9yg",
        "colab_type": "code",
        "colab": {}
      },
      "source": [
        "exchange = pd.read_csv('/content/drive/My Drive/Colab Notebooks/data/EXCHANGE.csv',encoding='cp949')"
      ],
      "execution_count": 0,
      "outputs": []
    },
    {
      "cell_type": "code",
      "metadata": {
        "id": "2Z1TuAQkSscQ",
        "colab_type": "code",
        "colab": {
          "base_uri": "https://localhost:8080/",
          "height": 198
        },
        "outputId": "1b55b9c4-a902-45f0-ea9f-0067ca71ab60"
      },
      "source": [
        "exchange.head()"
      ],
      "execution_count": 190,
      "outputs": [
        {
          "output_type": "execute_result",
          "data": {
            "text/html": [
              "<div>\n",
              "<style scoped>\n",
              "    .dataframe tbody tr th:only-of-type {\n",
              "        vertical-align: middle;\n",
              "    }\n",
              "\n",
              "    .dataframe tbody tr th {\n",
              "        vertical-align: top;\n",
              "    }\n",
              "\n",
              "    .dataframe thead th {\n",
              "        text-align: right;\n",
              "    }\n",
              "</style>\n",
              "<table border=\"1\" class=\"dataframe\">\n",
              "  <thead>\n",
              "    <tr style=\"text-align: right;\">\n",
              "      <th></th>\n",
              "      <th>날짜</th>\n",
              "      <th>USD</th>\n",
              "      <th>EUR</th>\n",
              "      <th>CNY</th>\n",
              "      <th>JPY</th>\n",
              "      <th>GBP</th>\n",
              "    </tr>\n",
              "  </thead>\n",
              "  <tbody>\n",
              "    <tr>\n",
              "      <th>0</th>\n",
              "      <td>2001-01-02</td>\n",
              "      <td>1259.7</td>\n",
              "      <td>1185.38</td>\n",
              "      <td>152.19</td>\n",
              "      <td>1099.07</td>\n",
              "      <td>1885.02</td>\n",
              "    </tr>\n",
              "    <tr>\n",
              "      <th>1</th>\n",
              "      <td>2001-01-03</td>\n",
              "      <td>1267.8</td>\n",
              "      <td>1205.49</td>\n",
              "      <td>153.15</td>\n",
              "      <td>1108.07</td>\n",
              "      <td>1903.35</td>\n",
              "    </tr>\n",
              "    <tr>\n",
              "      <th>2</th>\n",
              "      <td>2001-01-04</td>\n",
              "      <td>1285.4</td>\n",
              "      <td>1193.24</td>\n",
              "      <td>155.29</td>\n",
              "      <td>1128.53</td>\n",
              "      <td>1914.15</td>\n",
              "    </tr>\n",
              "    <tr>\n",
              "      <th>3</th>\n",
              "      <td>2001-01-05</td>\n",
              "      <td>1249.3</td>\n",
              "      <td>1190.90</td>\n",
              "      <td>150.92</td>\n",
              "      <td>1078.01</td>\n",
              "      <td>1876.82</td>\n",
              "    </tr>\n",
              "    <tr>\n",
              "      <th>4</th>\n",
              "      <td>2001-01-08</td>\n",
              "      <td>1267.8</td>\n",
              "      <td>1215.06</td>\n",
              "      <td>153.16</td>\n",
              "      <td>1088.71</td>\n",
              "      <td>1906.33</td>\n",
              "    </tr>\n",
              "  </tbody>\n",
              "</table>\n",
              "</div>"
            ],
            "text/plain": [
              "           날짜     USD      EUR     CNY      JPY      GBP\n",
              "0  2001-01-02  1259.7  1185.38  152.19  1099.07  1885.02\n",
              "1  2001-01-03  1267.8  1205.49  153.15  1108.07  1903.35\n",
              "2  2001-01-04  1285.4  1193.24  155.29  1128.53  1914.15\n",
              "3  2001-01-05  1249.3  1190.90  150.92  1078.01  1876.82\n",
              "4  2001-01-08  1267.8  1215.06  153.16  1088.71  1906.33"
            ]
          },
          "metadata": {
            "tags": []
          },
          "execution_count": 190
        }
      ]
    },
    {
      "cell_type": "code",
      "metadata": {
        "id": "okYoa1KHS1Zr",
        "colab_type": "code",
        "colab": {
          "base_uri": "https://localhost:8080/",
          "height": 289
        },
        "outputId": "834eeb63-9ef0-43c0-c445-24b9d89804d8"
      },
      "source": [
        "for i in range(len(exchange)):\n",
        "  exchange['날짜'][i]=exchange['날짜'][i][:4]\n",
        "\n",
        "exchange.head() #날짜 연도만 cut"
      ],
      "execution_count": 191,
      "outputs": [
        {
          "output_type": "stream",
          "text": [
            "/usr/local/lib/python3.6/dist-packages/ipykernel_launcher.py:2: SettingWithCopyWarning: \n",
            "A value is trying to be set on a copy of a slice from a DataFrame\n",
            "\n",
            "See the caveats in the documentation: http://pandas.pydata.org/pandas-docs/stable/user_guide/indexing.html#returning-a-view-versus-a-copy\n",
            "  \n"
          ],
          "name": "stderr"
        },
        {
          "output_type": "execute_result",
          "data": {
            "text/html": [
              "<div>\n",
              "<style scoped>\n",
              "    .dataframe tbody tr th:only-of-type {\n",
              "        vertical-align: middle;\n",
              "    }\n",
              "\n",
              "    .dataframe tbody tr th {\n",
              "        vertical-align: top;\n",
              "    }\n",
              "\n",
              "    .dataframe thead th {\n",
              "        text-align: right;\n",
              "    }\n",
              "</style>\n",
              "<table border=\"1\" class=\"dataframe\">\n",
              "  <thead>\n",
              "    <tr style=\"text-align: right;\">\n",
              "      <th></th>\n",
              "      <th>날짜</th>\n",
              "      <th>USD</th>\n",
              "      <th>EUR</th>\n",
              "      <th>CNY</th>\n",
              "      <th>JPY</th>\n",
              "      <th>GBP</th>\n",
              "    </tr>\n",
              "  </thead>\n",
              "  <tbody>\n",
              "    <tr>\n",
              "      <th>0</th>\n",
              "      <td>2001</td>\n",
              "      <td>1259.7</td>\n",
              "      <td>1185.38</td>\n",
              "      <td>152.19</td>\n",
              "      <td>1099.07</td>\n",
              "      <td>1885.02</td>\n",
              "    </tr>\n",
              "    <tr>\n",
              "      <th>1</th>\n",
              "      <td>2001</td>\n",
              "      <td>1267.8</td>\n",
              "      <td>1205.49</td>\n",
              "      <td>153.15</td>\n",
              "      <td>1108.07</td>\n",
              "      <td>1903.35</td>\n",
              "    </tr>\n",
              "    <tr>\n",
              "      <th>2</th>\n",
              "      <td>2001</td>\n",
              "      <td>1285.4</td>\n",
              "      <td>1193.24</td>\n",
              "      <td>155.29</td>\n",
              "      <td>1128.53</td>\n",
              "      <td>1914.15</td>\n",
              "    </tr>\n",
              "    <tr>\n",
              "      <th>3</th>\n",
              "      <td>2001</td>\n",
              "      <td>1249.3</td>\n",
              "      <td>1190.90</td>\n",
              "      <td>150.92</td>\n",
              "      <td>1078.01</td>\n",
              "      <td>1876.82</td>\n",
              "    </tr>\n",
              "    <tr>\n",
              "      <th>4</th>\n",
              "      <td>2001</td>\n",
              "      <td>1267.8</td>\n",
              "      <td>1215.06</td>\n",
              "      <td>153.16</td>\n",
              "      <td>1088.71</td>\n",
              "      <td>1906.33</td>\n",
              "    </tr>\n",
              "  </tbody>\n",
              "</table>\n",
              "</div>"
            ],
            "text/plain": [
              "     날짜     USD      EUR     CNY      JPY      GBP\n",
              "0  2001  1259.7  1185.38  152.19  1099.07  1885.02\n",
              "1  2001  1267.8  1205.49  153.15  1108.07  1903.35\n",
              "2  2001  1285.4  1193.24  155.29  1128.53  1914.15\n",
              "3  2001  1249.3  1190.90  150.92  1078.01  1876.82\n",
              "4  2001  1267.8  1215.06  153.16  1088.71  1906.33"
            ]
          },
          "metadata": {
            "tags": []
          },
          "execution_count": 191
        }
      ]
    },
    {
      "cell_type": "markdown",
      "metadata": {
        "id": "XgsNnYSmYWwo",
        "colab_type": "text"
      },
      "source": [
        "## 결측치 처리"
      ]
    },
    {
      "cell_type": "code",
      "metadata": {
        "id": "hQ5xFNtgY0CP",
        "colab_type": "code",
        "colab": {
          "base_uri": "https://localhost:8080/",
          "height": 290
        },
        "outputId": "bd78f079-65e5-420a-b213-73afdc328a47"
      },
      "source": [
        "print(exchange.dtypes)\n",
        "#exchange['날짜'].astype('float') 안바뀜\n",
        "exchange['날짜']=pd.to_numeric(exchange['날짜'])\n",
        "print('----------------변경후------------------')\n",
        "print(exchange.dtypes)"
      ],
      "execution_count": 192,
      "outputs": [
        {
          "output_type": "stream",
          "text": [
            "날짜      object\n",
            "USD    float64\n",
            "EUR    float64\n",
            "CNY    float64\n",
            "JPY    float64\n",
            "GBP    float64\n",
            "dtype: object\n",
            "----------------변경후------------------\n",
            "날짜       int64\n",
            "USD    float64\n",
            "EUR    float64\n",
            "CNY    float64\n",
            "JPY    float64\n",
            "GBP    float64\n",
            "dtype: object\n"
          ],
          "name": "stdout"
        }
      ]
    },
    {
      "cell_type": "code",
      "metadata": {
        "id": "qdIyHeuTY8_k",
        "colab_type": "code",
        "colab": {
          "base_uri": "https://localhost:8080/",
          "height": 145
        },
        "outputId": "373882b8-1bf6-44b9-8520-4855d75a5934"
      },
      "source": [
        "exchange.isnull().sum()"
      ],
      "execution_count": 193,
      "outputs": [
        {
          "output_type": "execute_result",
          "data": {
            "text/plain": [
              "날짜        0\n",
              "USD       0\n",
              "EUR     220\n",
              "CNY    1193\n",
              "JPY      72\n",
              "GBP    1012\n",
              "dtype: int64"
            ]
          },
          "metadata": {
            "tags": []
          },
          "execution_count": 193
        }
      ]
    },
    {
      "cell_type": "code",
      "metadata": {
        "id": "iHzqmJFYiEr7",
        "colab_type": "code",
        "colab": {
          "base_uri": "https://localhost:8080/",
          "height": 145
        },
        "outputId": "416e4f5b-abd1-4f58-be09-225833f08551"
      },
      "source": [
        "for i in range(0,18):\n",
        "  exchange[exchange['날짜']==2001+i]=exchange[exchange['날짜']==2001+i].fillna(exchange[exchange['날짜']==2001+i].mean())\n",
        "\n",
        "exchange.isnull().sum() "
      ],
      "execution_count": 194,
      "outputs": [
        {
          "output_type": "execute_result",
          "data": {
            "text/plain": [
              "날짜        0\n",
              "USD       0\n",
              "EUR       0\n",
              "CNY    1000\n",
              "JPY       0\n",
              "GBP     248\n",
              "dtype: int64"
            ]
          },
          "metadata": {
            "tags": []
          },
          "execution_count": 194
        }
      ]
    },
    {
      "cell_type": "code",
      "metadata": {
        "id": "cojJINj4lGXY",
        "colab_type": "code",
        "colab": {}
      },
      "source": [
        "exchange_mean= exchange[['USD','EUR','CNY','JPY','GBP']].groupby(exchange['날짜']).mean()"
      ],
      "execution_count": 0,
      "outputs": []
    },
    {
      "cell_type": "code",
      "metadata": {
        "id": "bpTCCwaZlmAy",
        "colab_type": "code",
        "colab": {
          "base_uri": "https://localhost:8080/",
          "height": 618
        },
        "outputId": "acf775c5-9825-4cef-9d2a-8f7ddb07586a"
      },
      "source": [
        "exchange_mean"
      ],
      "execution_count": 218,
      "outputs": [
        {
          "output_type": "execute_result",
          "data": {
            "text/html": [
              "<div>\n",
              "<style scoped>\n",
              "    .dataframe tbody tr th:only-of-type {\n",
              "        vertical-align: middle;\n",
              "    }\n",
              "\n",
              "    .dataframe tbody tr th {\n",
              "        vertical-align: top;\n",
              "    }\n",
              "\n",
              "    .dataframe thead th {\n",
              "        text-align: right;\n",
              "    }\n",
              "</style>\n",
              "<table border=\"1\" class=\"dataframe\">\n",
              "  <thead>\n",
              "    <tr style=\"text-align: right;\">\n",
              "      <th></th>\n",
              "      <th>USD</th>\n",
              "      <th>EUR</th>\n",
              "      <th>CNY</th>\n",
              "      <th>JPY</th>\n",
              "      <th>GBP</th>\n",
              "    </tr>\n",
              "    <tr>\n",
              "      <th>날짜</th>\n",
              "      <th></th>\n",
              "      <th></th>\n",
              "      <th></th>\n",
              "      <th></th>\n",
              "      <th></th>\n",
              "    </tr>\n",
              "  </thead>\n",
              "  <tbody>\n",
              "    <tr>\n",
              "      <th>2001</th>\n",
              "      <td>1290.952174</td>\n",
              "      <td>1158.577419</td>\n",
              "      <td>155.942208</td>\n",
              "      <td>1062.585613</td>\n",
              "      <td>1850.558246</td>\n",
              "    </tr>\n",
              "    <tr>\n",
              "      <th>2002</th>\n",
              "      <td>1252.868817</td>\n",
              "      <td>1180.836138</td>\n",
              "      <td>153.808385</td>\n",
              "      <td>1003.021470</td>\n",
              "      <td>1870.015926</td>\n",
              "    </tr>\n",
              "    <tr>\n",
              "      <th>2003</th>\n",
              "      <td>1191.932530</td>\n",
              "      <td>1347.370255</td>\n",
              "      <td>NaN</td>\n",
              "      <td>1026.291667</td>\n",
              "      <td>1893.619104</td>\n",
              "    </tr>\n",
              "    <tr>\n",
              "      <th>2004</th>\n",
              "      <td>1144.197610</td>\n",
              "      <td>1421.162818</td>\n",
              "      <td>NaN</td>\n",
              "      <td>1049.830947</td>\n",
              "      <td>2096.455400</td>\n",
              "    </tr>\n",
              "    <tr>\n",
              "      <th>2005</th>\n",
              "      <td>1024.231587</td>\n",
              "      <td>1266.103125</td>\n",
              "      <td>NaN</td>\n",
              "      <td>931.660556</td>\n",
              "      <td>1876.077143</td>\n",
              "    </tr>\n",
              "    <tr>\n",
              "      <th>2006</th>\n",
              "      <td>955.512903</td>\n",
              "      <td>1199.308293</td>\n",
              "      <td>NaN</td>\n",
              "      <td>821.488387</td>\n",
              "      <td>NaN</td>\n",
              "    </tr>\n",
              "    <tr>\n",
              "      <th>2007</th>\n",
              "      <td>929.202024</td>\n",
              "      <td>1272.719109</td>\n",
              "      <td>121.757722</td>\n",
              "      <td>789.752915</td>\n",
              "      <td>1861.429198</td>\n",
              "    </tr>\n",
              "    <tr>\n",
              "      <th>2008</th>\n",
              "      <td>1102.588353</td>\n",
              "      <td>1606.766988</td>\n",
              "      <td>159.046345</td>\n",
              "      <td>1076.633173</td>\n",
              "      <td>2013.854337</td>\n",
              "    </tr>\n",
              "    <tr>\n",
              "      <th>2009</th>\n",
              "      <td>1275.314786</td>\n",
              "      <td>1774.015547</td>\n",
              "      <td>186.739766</td>\n",
              "      <td>1362.463619</td>\n",
              "      <td>1993.039648</td>\n",
              "    </tr>\n",
              "    <tr>\n",
              "      <th>2010</th>\n",
              "      <td>1156.194510</td>\n",
              "      <td>1532.937262</td>\n",
              "      <td>170.828333</td>\n",
              "      <td>1320.316510</td>\n",
              "      <td>1787.090238</td>\n",
              "    </tr>\n",
              "    <tr>\n",
              "      <th>2011</th>\n",
              "      <td>1107.909020</td>\n",
              "      <td>1540.955378</td>\n",
              "      <td>171.548760</td>\n",
              "      <td>1391.531647</td>\n",
              "      <td>1775.870602</td>\n",
              "    </tr>\n",
              "    <tr>\n",
              "      <th>2012</th>\n",
              "      <td>1126.657600</td>\n",
              "      <td>1448.201767</td>\n",
              "      <td>178.582771</td>\n",
              "      <td>1412.591920</td>\n",
              "      <td>1785.366265</td>\n",
              "    </tr>\n",
              "    <tr>\n",
              "      <th>2013</th>\n",
              "      <td>1095.035600</td>\n",
              "      <td>1453.557540</td>\n",
              "      <td>178.099435</td>\n",
              "      <td>1123.412258</td>\n",
              "      <td>1711.451774</td>\n",
              "    </tr>\n",
              "    <tr>\n",
              "      <th>2014</th>\n",
              "      <td>1053.221951</td>\n",
              "      <td>1398.823577</td>\n",
              "      <td>170.927154</td>\n",
              "      <td>996.193902</td>\n",
              "      <td>1734.672439</td>\n",
              "    </tr>\n",
              "    <tr>\n",
              "      <th>2015</th>\n",
              "      <td>1131.488755</td>\n",
              "      <td>1255.164779</td>\n",
              "      <td>179.475622</td>\n",
              "      <td>934.559679</td>\n",
              "      <td>1729.791285</td>\n",
              "    </tr>\n",
              "    <tr>\n",
              "      <th>2016</th>\n",
              "      <td>1160.502024</td>\n",
              "      <td>1283.299069</td>\n",
              "      <td>174.395020</td>\n",
              "      <td>1068.171255</td>\n",
              "      <td>1572.178057</td>\n",
              "    </tr>\n",
              "    <tr>\n",
              "      <th>2017</th>\n",
              "      <td>1131.076164</td>\n",
              "      <td>1277.006247</td>\n",
              "      <td>167.520685</td>\n",
              "      <td>1008.617534</td>\n",
              "      <td>1457.411781</td>\n",
              "    </tr>\n",
              "    <tr>\n",
              "      <th>2018</th>\n",
              "      <td>1100.208493</td>\n",
              "      <td>1298.530959</td>\n",
              "      <td>166.405699</td>\n",
              "      <td>996.034466</td>\n",
              "      <td>1467.954685</td>\n",
              "    </tr>\n",
              "  </tbody>\n",
              "</table>\n",
              "</div>"
            ],
            "text/plain": [
              "              USD          EUR         CNY          JPY          GBP\n",
              "날짜                                                                  \n",
              "2001  1290.952174  1158.577419  155.942208  1062.585613  1850.558246\n",
              "2002  1252.868817  1180.836138  153.808385  1003.021470  1870.015926\n",
              "2003  1191.932530  1347.370255         NaN  1026.291667  1893.619104\n",
              "2004  1144.197610  1421.162818         NaN  1049.830947  2096.455400\n",
              "2005  1024.231587  1266.103125         NaN   931.660556  1876.077143\n",
              "2006   955.512903  1199.308293         NaN   821.488387          NaN\n",
              "2007   929.202024  1272.719109  121.757722   789.752915  1861.429198\n",
              "2008  1102.588353  1606.766988  159.046345  1076.633173  2013.854337\n",
              "2009  1275.314786  1774.015547  186.739766  1362.463619  1993.039648\n",
              "2010  1156.194510  1532.937262  170.828333  1320.316510  1787.090238\n",
              "2011  1107.909020  1540.955378  171.548760  1391.531647  1775.870602\n",
              "2012  1126.657600  1448.201767  178.582771  1412.591920  1785.366265\n",
              "2013  1095.035600  1453.557540  178.099435  1123.412258  1711.451774\n",
              "2014  1053.221951  1398.823577  170.927154   996.193902  1734.672439\n",
              "2015  1131.488755  1255.164779  179.475622   934.559679  1729.791285\n",
              "2016  1160.502024  1283.299069  174.395020  1068.171255  1572.178057\n",
              "2017  1131.076164  1277.006247  167.520685  1008.617534  1457.411781\n",
              "2018  1100.208493  1298.530959  166.405699   996.034466  1467.954685"
            ]
          },
          "metadata": {
            "tags": []
          },
          "execution_count": 218
        }
      ]
    },
    {
      "cell_type": "code",
      "metadata": {
        "id": "72UMIMTymVTm",
        "colab_type": "code",
        "colab": {}
      },
      "source": [
        "exchange_mean=exchange_mean.fillna(0)"
      ],
      "execution_count": 0,
      "outputs": []
    },
    {
      "cell_type": "markdown",
      "metadata": {
        "id": "FLZEqu6fmbto",
        "colab_type": "text"
      },
      "source": [
        "# Making  Line_Charts"
      ]
    },
    {
      "cell_type": "markdown",
      "metadata": {
        "id": "aU-hNZqxXt-u",
        "colab_type": "text"
      },
      "source": [
        "## Wide-form Data Frame by seaborn"
      ]
    },
    {
      "cell_type": "code",
      "metadata": {
        "id": "i3RVc31wX38l",
        "colab_type": "code",
        "colab": {
          "base_uri": "https://localhost:8080/",
          "height": 618
        },
        "outputId": "c6e2d350-f66c-4fb4-9531-378e67fd9daf"
      },
      "source": [
        "exchange_mean"
      ],
      "execution_count": 220,
      "outputs": [
        {
          "output_type": "execute_result",
          "data": {
            "text/html": [
              "<div>\n",
              "<style scoped>\n",
              "    .dataframe tbody tr th:only-of-type {\n",
              "        vertical-align: middle;\n",
              "    }\n",
              "\n",
              "    .dataframe tbody tr th {\n",
              "        vertical-align: top;\n",
              "    }\n",
              "\n",
              "    .dataframe thead th {\n",
              "        text-align: right;\n",
              "    }\n",
              "</style>\n",
              "<table border=\"1\" class=\"dataframe\">\n",
              "  <thead>\n",
              "    <tr style=\"text-align: right;\">\n",
              "      <th></th>\n",
              "      <th>USD</th>\n",
              "      <th>EUR</th>\n",
              "      <th>CNY</th>\n",
              "      <th>JPY</th>\n",
              "      <th>GBP</th>\n",
              "    </tr>\n",
              "    <tr>\n",
              "      <th>날짜</th>\n",
              "      <th></th>\n",
              "      <th></th>\n",
              "      <th></th>\n",
              "      <th></th>\n",
              "      <th></th>\n",
              "    </tr>\n",
              "  </thead>\n",
              "  <tbody>\n",
              "    <tr>\n",
              "      <th>2001</th>\n",
              "      <td>1290.952174</td>\n",
              "      <td>1158.577419</td>\n",
              "      <td>155.942208</td>\n",
              "      <td>1062.585613</td>\n",
              "      <td>1850.558246</td>\n",
              "    </tr>\n",
              "    <tr>\n",
              "      <th>2002</th>\n",
              "      <td>1252.868817</td>\n",
              "      <td>1180.836138</td>\n",
              "      <td>153.808385</td>\n",
              "      <td>1003.021470</td>\n",
              "      <td>1870.015926</td>\n",
              "    </tr>\n",
              "    <tr>\n",
              "      <th>2003</th>\n",
              "      <td>1191.932530</td>\n",
              "      <td>1347.370255</td>\n",
              "      <td>0.000000</td>\n",
              "      <td>1026.291667</td>\n",
              "      <td>1893.619104</td>\n",
              "    </tr>\n",
              "    <tr>\n",
              "      <th>2004</th>\n",
              "      <td>1144.197610</td>\n",
              "      <td>1421.162818</td>\n",
              "      <td>0.000000</td>\n",
              "      <td>1049.830947</td>\n",
              "      <td>2096.455400</td>\n",
              "    </tr>\n",
              "    <tr>\n",
              "      <th>2005</th>\n",
              "      <td>1024.231587</td>\n",
              "      <td>1266.103125</td>\n",
              "      <td>0.000000</td>\n",
              "      <td>931.660556</td>\n",
              "      <td>1876.077143</td>\n",
              "    </tr>\n",
              "    <tr>\n",
              "      <th>2006</th>\n",
              "      <td>955.512903</td>\n",
              "      <td>1199.308293</td>\n",
              "      <td>0.000000</td>\n",
              "      <td>821.488387</td>\n",
              "      <td>0.000000</td>\n",
              "    </tr>\n",
              "    <tr>\n",
              "      <th>2007</th>\n",
              "      <td>929.202024</td>\n",
              "      <td>1272.719109</td>\n",
              "      <td>121.757722</td>\n",
              "      <td>789.752915</td>\n",
              "      <td>1861.429198</td>\n",
              "    </tr>\n",
              "    <tr>\n",
              "      <th>2008</th>\n",
              "      <td>1102.588353</td>\n",
              "      <td>1606.766988</td>\n",
              "      <td>159.046345</td>\n",
              "      <td>1076.633173</td>\n",
              "      <td>2013.854337</td>\n",
              "    </tr>\n",
              "    <tr>\n",
              "      <th>2009</th>\n",
              "      <td>1275.314786</td>\n",
              "      <td>1774.015547</td>\n",
              "      <td>186.739766</td>\n",
              "      <td>1362.463619</td>\n",
              "      <td>1993.039648</td>\n",
              "    </tr>\n",
              "    <tr>\n",
              "      <th>2010</th>\n",
              "      <td>1156.194510</td>\n",
              "      <td>1532.937262</td>\n",
              "      <td>170.828333</td>\n",
              "      <td>1320.316510</td>\n",
              "      <td>1787.090238</td>\n",
              "    </tr>\n",
              "    <tr>\n",
              "      <th>2011</th>\n",
              "      <td>1107.909020</td>\n",
              "      <td>1540.955378</td>\n",
              "      <td>171.548760</td>\n",
              "      <td>1391.531647</td>\n",
              "      <td>1775.870602</td>\n",
              "    </tr>\n",
              "    <tr>\n",
              "      <th>2012</th>\n",
              "      <td>1126.657600</td>\n",
              "      <td>1448.201767</td>\n",
              "      <td>178.582771</td>\n",
              "      <td>1412.591920</td>\n",
              "      <td>1785.366265</td>\n",
              "    </tr>\n",
              "    <tr>\n",
              "      <th>2013</th>\n",
              "      <td>1095.035600</td>\n",
              "      <td>1453.557540</td>\n",
              "      <td>178.099435</td>\n",
              "      <td>1123.412258</td>\n",
              "      <td>1711.451774</td>\n",
              "    </tr>\n",
              "    <tr>\n",
              "      <th>2014</th>\n",
              "      <td>1053.221951</td>\n",
              "      <td>1398.823577</td>\n",
              "      <td>170.927154</td>\n",
              "      <td>996.193902</td>\n",
              "      <td>1734.672439</td>\n",
              "    </tr>\n",
              "    <tr>\n",
              "      <th>2015</th>\n",
              "      <td>1131.488755</td>\n",
              "      <td>1255.164779</td>\n",
              "      <td>179.475622</td>\n",
              "      <td>934.559679</td>\n",
              "      <td>1729.791285</td>\n",
              "    </tr>\n",
              "    <tr>\n",
              "      <th>2016</th>\n",
              "      <td>1160.502024</td>\n",
              "      <td>1283.299069</td>\n",
              "      <td>174.395020</td>\n",
              "      <td>1068.171255</td>\n",
              "      <td>1572.178057</td>\n",
              "    </tr>\n",
              "    <tr>\n",
              "      <th>2017</th>\n",
              "      <td>1131.076164</td>\n",
              "      <td>1277.006247</td>\n",
              "      <td>167.520685</td>\n",
              "      <td>1008.617534</td>\n",
              "      <td>1457.411781</td>\n",
              "    </tr>\n",
              "    <tr>\n",
              "      <th>2018</th>\n",
              "      <td>1100.208493</td>\n",
              "      <td>1298.530959</td>\n",
              "      <td>166.405699</td>\n",
              "      <td>996.034466</td>\n",
              "      <td>1467.954685</td>\n",
              "    </tr>\n",
              "  </tbody>\n",
              "</table>\n",
              "</div>"
            ],
            "text/plain": [
              "              USD          EUR         CNY          JPY          GBP\n",
              "날짜                                                                  \n",
              "2001  1290.952174  1158.577419  155.942208  1062.585613  1850.558246\n",
              "2002  1252.868817  1180.836138  153.808385  1003.021470  1870.015926\n",
              "2003  1191.932530  1347.370255    0.000000  1026.291667  1893.619104\n",
              "2004  1144.197610  1421.162818    0.000000  1049.830947  2096.455400\n",
              "2005  1024.231587  1266.103125    0.000000   931.660556  1876.077143\n",
              "2006   955.512903  1199.308293    0.000000   821.488387     0.000000\n",
              "2007   929.202024  1272.719109  121.757722   789.752915  1861.429198\n",
              "2008  1102.588353  1606.766988  159.046345  1076.633173  2013.854337\n",
              "2009  1275.314786  1774.015547  186.739766  1362.463619  1993.039648\n",
              "2010  1156.194510  1532.937262  170.828333  1320.316510  1787.090238\n",
              "2011  1107.909020  1540.955378  171.548760  1391.531647  1775.870602\n",
              "2012  1126.657600  1448.201767  178.582771  1412.591920  1785.366265\n",
              "2013  1095.035600  1453.557540  178.099435  1123.412258  1711.451774\n",
              "2014  1053.221951  1398.823577  170.927154   996.193902  1734.672439\n",
              "2015  1131.488755  1255.164779  179.475622   934.559679  1729.791285\n",
              "2016  1160.502024  1283.299069  174.395020  1068.171255  1572.178057\n",
              "2017  1131.076164  1277.006247  167.520685  1008.617534  1457.411781\n",
              "2018  1100.208493  1298.530959  166.405699   996.034466  1467.954685"
            ]
          },
          "metadata": {
            "tags": []
          },
          "execution_count": 220
        }
      ]
    },
    {
      "cell_type": "code",
      "metadata": {
        "id": "NoYnDhunmj1D",
        "colab_type": "code",
        "colab": {
          "base_uri": "https://localhost:8080/",
          "height": 35
        },
        "outputId": "74edfa95-9490-457e-e265-f19662733d60"
      },
      "source": [
        "import matplotlib.pyplot as plt\n",
        "%matplotlib inline\n",
        "import seaborn as sns\n",
        "print(\"Setup Complete\")"
      ],
      "execution_count": 199,
      "outputs": [
        {
          "output_type": "stream",
          "text": [
            "Setup Complete\n"
          ],
          "name": "stdout"
        }
      ]
    },
    {
      "cell_type": "code",
      "metadata": {
        "id": "_AH5aCPBXrMc",
        "colab_type": "code",
        "colab": {
          "base_uri": "https://localhost:8080/",
          "height": 297
        },
        "outputId": "26d55915-a1e7-4b18-c155-d0a828126346"
      },
      "source": [
        "ax = sns.lineplot(data=exchange_mean)\n",
        "plt.xlabel('Date')"
      ],
      "execution_count": 221,
      "outputs": [
        {
          "output_type": "execute_result",
          "data": {
            "text/plain": [
              "Text(0.5, 0, 'Date')"
            ]
          },
          "metadata": {
            "tags": []
          },
          "execution_count": 221
        },
        {
          "output_type": "display_data",
          "data": {
            "image/png": "[encoded data removed]",
            "text/plain": [
              "<Figure size 432x288 with 1 Axes>"
            ]
          },
          "metadata": {
            "tags": []
          }
        }
      ]
    },
    {
      "cell_type": "markdown",
      "metadata": {
        "id": "_qRf8jj_Z2nJ",
        "colab_type": "text"
      },
      "source": [
        "sns.lineplot 기본 디폴트로 정해진 형태로 나옴"
      ]
    },
    {
      "cell_type": "markdown",
      "metadata": {
        "id": "cK5njJSNZfbq",
        "colab_type": "text"
      },
      "source": [
        "하지만 날짜가 하나의 컬럼으로 들어가게 된다면??"
      ]
    },
    {
      "cell_type": "code",
      "metadata": {
        "id": "XRMz7HYqZkqX",
        "colab_type": "code",
        "colab": {
          "base_uri": "https://localhost:8080/",
          "height": 588
        },
        "outputId": "7abff7ae-9697-40ce-f17e-159ed33118e4"
      },
      "source": [
        "exchange_mean= exchange[['USD','EUR','CNY','JPY','GBP']].groupby(exchange['날짜']).mean().reset_index()\n",
        "exchange_mean=exchange_mean.fillna(0)\n",
        "exchange_mean"
      ],
      "execution_count": 225,
      "outputs": [
        {
          "output_type": "execute_result",
          "data": {
            "text/html": [
              "<div>\n",
              "<style scoped>\n",
              "    .dataframe tbody tr th:only-of-type {\n",
              "        vertical-align: middle;\n",
              "    }\n",
              "\n",
              "    .dataframe tbody tr th {\n",
              "        vertical-align: top;\n",
              "    }\n",
              "\n",
              "    .dataframe thead th {\n",
              "        text-align: right;\n",
              "    }\n",
              "</style>\n",
              "<table border=\"1\" class=\"dataframe\">\n",
              "  <thead>\n",
              "    <tr style=\"text-align: right;\">\n",
              "      <th></th>\n",
              "      <th>날짜</th>\n",
              "      <th>USD</th>\n",
              "      <th>EUR</th>\n",
              "      <th>CNY</th>\n",
              "      <th>JPY</th>\n",
              "      <th>GBP</th>\n",
              "    </tr>\n",
              "  </thead>\n",
              "  <tbody>\n",
              "    <tr>\n",
              "      <th>0</th>\n",
              "      <td>2001</td>\n",
              "      <td>1290.952174</td>\n",
              "      <td>1158.577419</td>\n",
              "      <td>155.942208</td>\n",
              "      <td>1062.585613</td>\n",
              "      <td>1850.558246</td>\n",
              "    </tr>\n",
              "    <tr>\n",
              "      <th>1</th>\n",
              "      <td>2002</td>\n",
              "      <td>1252.868817</td>\n",
              "      <td>1180.836138</td>\n",
              "      <td>153.808385</td>\n",
              "      <td>1003.021470</td>\n",
              "      <td>1870.015926</td>\n",
              "    </tr>\n",
              "    <tr>\n",
              "      <th>2</th>\n",
              "      <td>2003</td>\n",
              "      <td>1191.932530</td>\n",
              "      <td>1347.370255</td>\n",
              "      <td>0.000000</td>\n",
              "      <td>1026.291667</td>\n",
              "      <td>1893.619104</td>\n",
              "    </tr>\n",
              "    <tr>\n",
              "      <th>3</th>\n",
              "      <td>2004</td>\n",
              "      <td>1144.197610</td>\n",
              "      <td>1421.162818</td>\n",
              "      <td>0.000000</td>\n",
              "      <td>1049.830947</td>\n",
              "      <td>2096.455400</td>\n",
              "    </tr>\n",
              "    <tr>\n",
              "      <th>4</th>\n",
              "      <td>2005</td>\n",
              "      <td>1024.231587</td>\n",
              "      <td>1266.103125</td>\n",
              "      <td>0.000000</td>\n",
              "      <td>931.660556</td>\n",
              "      <td>1876.077143</td>\n",
              "    </tr>\n",
              "    <tr>\n",
              "      <th>5</th>\n",
              "      <td>2006</td>\n",
              "      <td>955.512903</td>\n",
              "      <td>1199.308293</td>\n",
              "      <td>0.000000</td>\n",
              "      <td>821.488387</td>\n",
              "      <td>0.000000</td>\n",
              "    </tr>\n",
              "    <tr>\n",
              "      <th>6</th>\n",
              "      <td>2007</td>\n",
              "      <td>929.202024</td>\n",
              "      <td>1272.719109</td>\n",
              "      <td>121.757722</td>\n",
              "      <td>789.752915</td>\n",
              "      <td>1861.429198</td>\n",
              "    </tr>\n",
              "    <tr>\n",
              "      <th>7</th>\n",
              "      <td>2008</td>\n",
              "      <td>1102.588353</td>\n",
              "      <td>1606.766988</td>\n",
              "      <td>159.046345</td>\n",
              "      <td>1076.633173</td>\n",
              "      <td>2013.854337</td>\n",
              "    </tr>\n",
              "    <tr>\n",
              "      <th>8</th>\n",
              "      <td>2009</td>\n",
              "      <td>1275.314786</td>\n",
              "      <td>1774.015547</td>\n",
              "      <td>186.739766</td>\n",
              "      <td>1362.463619</td>\n",
              "      <td>1993.039648</td>\n",
              "    </tr>\n",
              "    <tr>\n",
              "      <th>9</th>\n",
              "      <td>2010</td>\n",
              "      <td>1156.194510</td>\n",
              "      <td>1532.937262</td>\n",
              "      <td>170.828333</td>\n",
              "      <td>1320.316510</td>\n",
              "      <td>1787.090238</td>\n",
              "    </tr>\n",
              "    <tr>\n",
              "      <th>10</th>\n",
              "      <td>2011</td>\n",
              "      <td>1107.909020</td>\n",
              "      <td>1540.955378</td>\n",
              "      <td>171.548760</td>\n",
              "      <td>1391.531647</td>\n",
              "      <td>1775.870602</td>\n",
              "    </tr>\n",
              "    <tr>\n",
              "      <th>11</th>\n",
              "      <td>2012</td>\n",
              "      <td>1126.657600</td>\n",
              "      <td>1448.201767</td>\n",
              "      <td>178.582771</td>\n",
              "      <td>1412.591920</td>\n",
              "      <td>1785.366265</td>\n",
              "    </tr>\n",
              "    <tr>\n",
              "      <th>12</th>\n",
              "      <td>2013</td>\n",
              "      <td>1095.035600</td>\n",
              "      <td>1453.557540</td>\n",
              "      <td>178.099435</td>\n",
              "      <td>1123.412258</td>\n",
              "      <td>1711.451774</td>\n",
              "    </tr>\n",
              "    <tr>\n",
              "      <th>13</th>\n",
              "      <td>2014</td>\n",
              "      <td>1053.221951</td>\n",
              "      <td>1398.823577</td>\n",
              "      <td>170.927154</td>\n",
              "      <td>996.193902</td>\n",
              "      <td>1734.672439</td>\n",
              "    </tr>\n",
              "    <tr>\n",
              "      <th>14</th>\n",
              "      <td>2015</td>\n",
              "      <td>1131.488755</td>\n",
              "      <td>1255.164779</td>\n",
              "      <td>179.475622</td>\n",
              "      <td>934.559679</td>\n",
              "      <td>1729.791285</td>\n",
              "    </tr>\n",
              "    <tr>\n",
              "      <th>15</th>\n",
              "      <td>2016</td>\n",
              "      <td>1160.502024</td>\n",
              "      <td>1283.299069</td>\n",
              "      <td>174.395020</td>\n",
              "      <td>1068.171255</td>\n",
              "      <td>1572.178057</td>\n",
              "    </tr>\n",
              "    <tr>\n",
              "      <th>16</th>\n",
              "      <td>2017</td>\n",
              "      <td>1131.076164</td>\n",
              "      <td>1277.006247</td>\n",
              "      <td>167.520685</td>\n",
              "      <td>1008.617534</td>\n",
              "      <td>1457.411781</td>\n",
              "    </tr>\n",
              "    <tr>\n",
              "      <th>17</th>\n",
              "      <td>2018</td>\n",
              "      <td>1100.208493</td>\n",
              "      <td>1298.530959</td>\n",
              "      <td>166.405699</td>\n",
              "      <td>996.034466</td>\n",
              "      <td>1467.954685</td>\n",
              "    </tr>\n",
              "  </tbody>\n",
              "</table>\n",
              "</div>"
            ],
            "text/plain": [
              "      날짜          USD          EUR         CNY          JPY          GBP\n",
              "0   2001  1290.952174  1158.577419  155.942208  1062.585613  1850.558246\n",
              "1   2002  1252.868817  1180.836138  153.808385  1003.021470  1870.015926\n",
              "2   2003  1191.932530  1347.370255    0.000000  1026.291667  1893.619104\n",
              "3   2004  1144.197610  1421.162818    0.000000  1049.830947  2096.455400\n",
              "4   2005  1024.231587  1266.103125    0.000000   931.660556  1876.077143\n",
              "5   2006   955.512903  1199.308293    0.000000   821.488387     0.000000\n",
              "6   2007   929.202024  1272.719109  121.757722   789.752915  1861.429198\n",
              "7   2008  1102.588353  1606.766988  159.046345  1076.633173  2013.854337\n",
              "8   2009  1275.314786  1774.015547  186.739766  1362.463619  1993.039648\n",
              "9   2010  1156.194510  1532.937262  170.828333  1320.316510  1787.090238\n",
              "10  2011  1107.909020  1540.955378  171.548760  1391.531647  1775.870602\n",
              "11  2012  1126.657600  1448.201767  178.582771  1412.591920  1785.366265\n",
              "12  2013  1095.035600  1453.557540  178.099435  1123.412258  1711.451774\n",
              "13  2014  1053.221951  1398.823577  170.927154   996.193902  1734.672439\n",
              "14  2015  1131.488755  1255.164779  179.475622   934.559679  1729.791285\n",
              "15  2016  1160.502024  1283.299069  174.395020  1068.171255  1572.178057\n",
              "16  2017  1131.076164  1277.006247  167.520685  1008.617534  1457.411781\n",
              "17  2018  1100.208493  1298.530959  166.405699   996.034466  1467.954685"
            ]
          },
          "metadata": {
            "tags": []
          },
          "execution_count": 225
        }
      ]
    },
    {
      "cell_type": "code",
      "metadata": {
        "id": "xQVgX37CZsfQ",
        "colab_type": "code",
        "colab": {
          "base_uri": "https://localhost:8080/",
          "height": 430
        },
        "outputId": "9ed1b9e5-bd98-49de-92f9-ebacf89e37fb"
      },
      "source": [
        "ax = sns.lineplot(data=exchange_mean) #날짜까지 나와버림"
      ],
      "execution_count": 231,
      "outputs": [
        {
          "output_type": "stream",
          "text": [
            "/usr/local/lib/python3.6/dist-packages/matplotlib/backends/backend_agg.py:211: RuntimeWarning: Glyph 45216 missing from current font.\n",
            "  font.set_text(s, 0.0, flags=flags)\n",
            "/usr/local/lib/python3.6/dist-packages/matplotlib/backends/backend_agg.py:211: RuntimeWarning: Glyph 51676 missing from current font.\n",
            "  font.set_text(s, 0.0, flags=flags)\n",
            "/usr/local/lib/python3.6/dist-packages/matplotlib/backends/backend_agg.py:180: RuntimeWarning: Glyph 45216 missing from current font.\n",
            "  font.set_text(s, 0, flags=flags)\n",
            "/usr/local/lib/python3.6/dist-packages/matplotlib/backends/backend_agg.py:180: RuntimeWarning: Glyph 51676 missing from current font.\n",
            "  font.set_text(s, 0, flags=flags)\n"
          ],
          "name": "stderr"
        },
        {
          "output_type": "display_data",
          "data": {
            "image/png": "[encoded data removed]",
            "text/plain": [
              "<Figure size 432x288 with 1 Axes>"
            ]
          },
          "metadata": {
            "tags": []
          }
        }
      ]
    },
    {
      "cell_type": "code",
      "metadata": {
        "id": "kxdKjvBQbsEj",
        "colab_type": "code",
        "colab": {
          "base_uri": "https://localhost:8080/",
          "height": 445
        },
        "outputId": "9d38c666-6746-4104-bbb6-4e78543d0d9b"
      },
      "source": [
        "ax = sns.lineplot(y='USD',x='날짜',data=exchange_mean) #복수개 설정은 어떻게 하지??"
      ],
      "execution_count": 232,
      "outputs": [
        {
          "output_type": "stream",
          "text": [
            "/usr/local/lib/python3.6/dist-packages/matplotlib/backends/backend_agg.py:211: RuntimeWarning: Glyph 45216 missing from current font.\n",
            "  font.set_text(s, 0.0, flags=flags)\n",
            "/usr/local/lib/python3.6/dist-packages/matplotlib/backends/backend_agg.py:211: RuntimeWarning: Glyph 51676 missing from current font.\n",
            "  font.set_text(s, 0.0, flags=flags)\n",
            "/usr/local/lib/python3.6/dist-packages/matplotlib/backends/backend_agg.py:180: RuntimeWarning: Glyph 45216 missing from current font.\n",
            "  font.set_text(s, 0, flags=flags)\n",
            "/usr/local/lib/python3.6/dist-packages/matplotlib/backends/backend_agg.py:180: RuntimeWarning: Glyph 51676 missing from current font.\n",
            "  font.set_text(s, 0, flags=flags)\n"
          ],
          "name": "stderr"
        },
        {
          "output_type": "display_data",
          "data": {
            "image/png": "[encoded data removed]",
            "text/plain": [
              "<Figure size 432x288 with 1 Axes>"
            ]
          },
          "metadata": {
            "tags": []
          }
        }
      ]
    },
    {
      "cell_type": "code",
      "metadata": {
        "id": "A1_no-ijr15L",
        "colab_type": "code",
        "colab": {
          "base_uri": "https://localhost:8080/",
          "height": 313
        },
        "outputId": "80d6be91-3103-4ca1-cb6a-15c1cbe2fe7a"
      },
      "source": [
        "#plt.figure(figsize=(14,6)) #크기 조정\n",
        "plt.title(\"GLOBAL EXCHANGE in 2001-2018\")\n",
        "sns.lineplot(x='날짜',y='USD',label='USD',linestyle='dashed',data=exchange_mean) #스타일 지정이 안됨\n",
        "sns.lineplot(x='날짜',y='EUR',label='EUR',data=exchange_mean)\n",
        "sns.lineplot(x='날짜',y='CNY',label='CNY',data=exchange_mean)\n",
        "sns.lineplot(x='날짜',y='JPY',label='JPY',data=exchange_mean)\n",
        "sns.lineplot(x='날짜',y='GBP',label='GBP',data=exchange_mean)\n",
        "plt.xlabel(\"Date\")      #x축 이름 설정\n",
        "plt.ylabel(\"EXCHANGE\")  #y축 이름 설정"
      ],
      "execution_count": 201,
      "outputs": [
        {
          "output_type": "execute_result",
          "data": {
            "text/plain": [
              "Text(0, 0.5, 'EXCHANGE')"
            ]
          },
          "metadata": {
            "tags": []
          },
          "execution_count": 201
        },
        {
          "output_type": "display_data",
          "data": {
            "image/png": "[encoded data removed]",
            "text/plain": [
              "<Figure size 432x288 with 1 Axes>"
            ]
          },
          "metadata": {
            "tags": []
          }
        }
      ]
    },
    {
      "cell_type": "markdown",
      "metadata": {
        "id": "gWEYPmaQaCcT",
        "colab_type": "text"
      },
      "source": [
        "여기서는 선 스타일이나 굵기를 조절할 수가 없음"
      ]
    },
    {
      "cell_type": "markdown",
      "metadata": {
        "id": "fI4aiCYZ4H_7",
        "colab_type": "text"
      },
      "source": [
        "##Long-form dataframe"
      ]
    },
    {
      "cell_type": "code",
      "metadata": {
        "id": "Q9xr6rbT4r4y",
        "colab_type": "code",
        "colab": {
          "base_uri": "https://localhost:8080/",
          "height": 198
        },
        "outputId": "1d9b0078-ca94-4e2f-e1e4-73bf892fd402"
      },
      "source": [
        "exchange_mean.head()"
      ],
      "execution_count": 202,
      "outputs": [
        {
          "output_type": "execute_result",
          "data": {
            "text/html": [
              "<div>\n",
              "<style scoped>\n",
              "    .dataframe tbody tr th:only-of-type {\n",
              "        vertical-align: middle;\n",
              "    }\n",
              "\n",
              "    .dataframe tbody tr th {\n",
              "        vertical-align: top;\n",
              "    }\n",
              "\n",
              "    .dataframe thead th {\n",
              "        text-align: right;\n",
              "    }\n",
              "</style>\n",
              "<table border=\"1\" class=\"dataframe\">\n",
              "  <thead>\n",
              "    <tr style=\"text-align: right;\">\n",
              "      <th></th>\n",
              "      <th>날짜</th>\n",
              "      <th>USD</th>\n",
              "      <th>EUR</th>\n",
              "      <th>CNY</th>\n",
              "      <th>JPY</th>\n",
              "      <th>GBP</th>\n",
              "    </tr>\n",
              "  </thead>\n",
              "  <tbody>\n",
              "    <tr>\n",
              "      <th>0</th>\n",
              "      <td>2001</td>\n",
              "      <td>1290.952174</td>\n",
              "      <td>1158.577419</td>\n",
              "      <td>155.942208</td>\n",
              "      <td>1062.585613</td>\n",
              "      <td>1850.558246</td>\n",
              "    </tr>\n",
              "    <tr>\n",
              "      <th>1</th>\n",
              "      <td>2002</td>\n",
              "      <td>1252.868817</td>\n",
              "      <td>1180.836138</td>\n",
              "      <td>153.808385</td>\n",
              "      <td>1003.021470</td>\n",
              "      <td>1870.015926</td>\n",
              "    </tr>\n",
              "    <tr>\n",
              "      <th>2</th>\n",
              "      <td>2003</td>\n",
              "      <td>1191.932530</td>\n",
              "      <td>1347.370255</td>\n",
              "      <td>0.000000</td>\n",
              "      <td>1026.291667</td>\n",
              "      <td>1893.619104</td>\n",
              "    </tr>\n",
              "    <tr>\n",
              "      <th>3</th>\n",
              "      <td>2004</td>\n",
              "      <td>1144.197610</td>\n",
              "      <td>1421.162818</td>\n",
              "      <td>0.000000</td>\n",
              "      <td>1049.830947</td>\n",
              "      <td>2096.455400</td>\n",
              "    </tr>\n",
              "    <tr>\n",
              "      <th>4</th>\n",
              "      <td>2005</td>\n",
              "      <td>1024.231587</td>\n",
              "      <td>1266.103125</td>\n",
              "      <td>0.000000</td>\n",
              "      <td>931.660556</td>\n",
              "      <td>1876.077143</td>\n",
              "    </tr>\n",
              "  </tbody>\n",
              "</table>\n",
              "</div>"
            ],
            "text/plain": [
              "     날짜          USD          EUR         CNY          JPY          GBP\n",
              "0  2001  1290.952174  1158.577419  155.942208  1062.585613  1850.558246\n",
              "1  2002  1252.868817  1180.836138  153.808385  1003.021470  1870.015926\n",
              "2  2003  1191.932530  1347.370255    0.000000  1026.291667  1893.619104\n",
              "3  2004  1144.197610  1421.162818    0.000000  1049.830947  2096.455400\n",
              "4  2005  1024.231587  1266.103125    0.000000   931.660556  1876.077143"
            ]
          },
          "metadata": {
            "tags": []
          },
          "execution_count": 202
        }
      ]
    },
    {
      "cell_type": "code",
      "metadata": {
        "id": "6N7dw2_C-RNt",
        "colab_type": "code",
        "colab": {
          "base_uri": "https://localhost:8080/",
          "height": 48
        },
        "outputId": "dd5004b0-a0f1-4a9f-c538-ea6de1bae48a"
      },
      "source": [
        "exchange_df = pd.DataFrame(columns=['날짜','nation','exchange'])\n",
        "exchange_df"
      ],
      "execution_count": 203,
      "outputs": [
        {
          "output_type": "execute_result",
          "data": {
            "text/html": [
              "<div>\n",
              "<style scoped>\n",
              "    .dataframe tbody tr th:only-of-type {\n",
              "        vertical-align: middle;\n",
              "    }\n",
              "\n",
              "    .dataframe tbody tr th {\n",
              "        vertical-align: top;\n",
              "    }\n",
              "\n",
              "    .dataframe thead th {\n",
              "        text-align: right;\n",
              "    }\n",
              "</style>\n",
              "<table border=\"1\" class=\"dataframe\">\n",
              "  <thead>\n",
              "    <tr style=\"text-align: right;\">\n",
              "      <th></th>\n",
              "      <th>날짜</th>\n",
              "      <th>nation</th>\n",
              "      <th>exchange</th>\n",
              "    </tr>\n",
              "  </thead>\n",
              "  <tbody>\n",
              "  </tbody>\n",
              "</table>\n",
              "</div>"
            ],
            "text/plain": [
              "Empty DataFrame\n",
              "Columns: [날짜, nation, exchange]\n",
              "Index: []"
            ]
          },
          "metadata": {
            "tags": []
          },
          "execution_count": 203
        }
      ]
    },
    {
      "cell_type": "code",
      "metadata": {
        "id": "g7O9vvz4pE3d",
        "colab_type": "code",
        "colab": {
          "base_uri": "https://localhost:8080/",
          "height": 407
        },
        "outputId": "30c29d27-d2e0-4d51-b4d4-d9d4be0b5c24"
      },
      "source": [
        "a=0\n",
        "for i in range(0,18):\n",
        "  for nation in ['USD','EUR','CNY','JPY','GBP']:\n",
        "    kk = [exchange_mean['날짜'][i],nation,exchange_mean[nation][i]]\n",
        "    exchange_df.loc[a]=kk\n",
        "    a+=1\n",
        "\n",
        "exchange_df"
      ],
      "execution_count": 204,
      "outputs": [
        {
          "output_type": "execute_result",
          "data": {
            "text/html": [
              "<div>\n",
              "<style scoped>\n",
              "    .dataframe tbody tr th:only-of-type {\n",
              "        vertical-align: middle;\n",
              "    }\n",
              "\n",
              "    .dataframe tbody tr th {\n",
              "        vertical-align: top;\n",
              "    }\n",
              "\n",
              "    .dataframe thead th {\n",
              "        text-align: right;\n",
              "    }\n",
              "</style>\n",
              "<table border=\"1\" class=\"dataframe\">\n",
              "  <thead>\n",
              "    <tr style=\"text-align: right;\">\n",
              "      <th></th>\n",
              "      <th>날짜</th>\n",
              "      <th>nation</th>\n",
              "      <th>exchange</th>\n",
              "    </tr>\n",
              "  </thead>\n",
              "  <tbody>\n",
              "    <tr>\n",
              "      <th>0</th>\n",
              "      <td>2001</td>\n",
              "      <td>USD</td>\n",
              "      <td>1290.952174</td>\n",
              "    </tr>\n",
              "    <tr>\n",
              "      <th>1</th>\n",
              "      <td>2001</td>\n",
              "      <td>EUR</td>\n",
              "      <td>1158.577419</td>\n",
              "    </tr>\n",
              "    <tr>\n",
              "      <th>2</th>\n",
              "      <td>2001</td>\n",
              "      <td>CNY</td>\n",
              "      <td>155.942208</td>\n",
              "    </tr>\n",
              "    <tr>\n",
              "      <th>3</th>\n",
              "      <td>2001</td>\n",
              "      <td>JPY</td>\n",
              "      <td>1062.585613</td>\n",
              "    </tr>\n",
              "    <tr>\n",
              "      <th>4</th>\n",
              "      <td>2001</td>\n",
              "      <td>GBP</td>\n",
              "      <td>1850.558246</td>\n",
              "    </tr>\n",
              "    <tr>\n",
              "      <th>...</th>\n",
              "      <td>...</td>\n",
              "      <td>...</td>\n",
              "      <td>...</td>\n",
              "    </tr>\n",
              "    <tr>\n",
              "      <th>85</th>\n",
              "      <td>2018</td>\n",
              "      <td>USD</td>\n",
              "      <td>1100.208493</td>\n",
              "    </tr>\n",
              "    <tr>\n",
              "      <th>86</th>\n",
              "      <td>2018</td>\n",
              "      <td>EUR</td>\n",
              "      <td>1298.530959</td>\n",
              "    </tr>\n",
              "    <tr>\n",
              "      <th>87</th>\n",
              "      <td>2018</td>\n",
              "      <td>CNY</td>\n",
              "      <td>166.405699</td>\n",
              "    </tr>\n",
              "    <tr>\n",
              "      <th>88</th>\n",
              "      <td>2018</td>\n",
              "      <td>JPY</td>\n",
              "      <td>996.034466</td>\n",
              "    </tr>\n",
              "    <tr>\n",
              "      <th>89</th>\n",
              "      <td>2018</td>\n",
              "      <td>GBP</td>\n",
              "      <td>1467.954685</td>\n",
              "    </tr>\n",
              "  </tbody>\n",
              "</table>\n",
              "<p>90 rows × 3 columns</p>\n",
              "</div>"
            ],
            "text/plain": [
              "      날짜 nation     exchange\n",
              "0   2001    USD  1290.952174\n",
              "1   2001    EUR  1158.577419\n",
              "2   2001    CNY   155.942208\n",
              "3   2001    JPY  1062.585613\n",
              "4   2001    GBP  1850.558246\n",
              "..   ...    ...          ...\n",
              "85  2018    USD  1100.208493\n",
              "86  2018    EUR  1298.530959\n",
              "87  2018    CNY   166.405699\n",
              "88  2018    JPY   996.034466\n",
              "89  2018    GBP  1467.954685\n",
              "\n",
              "[90 rows x 3 columns]"
            ]
          },
          "metadata": {
            "tags": []
          },
          "execution_count": 204
        }
      ]
    },
    {
      "cell_type": "code",
      "metadata": {
        "id": "-G2iHZjsIhLR",
        "colab_type": "code",
        "colab": {
          "base_uri": "https://localhost:8080/",
          "height": 407
        },
        "outputId": "955f8816-49a4-4c34-986c-13f89980deb1"
      },
      "source": [
        "exchange_df['graph_option']=0\n",
        "exchange_df['graph_option']=[1,2,3,4,5]*18\n",
        "exchange_df"
      ],
      "execution_count": 205,
      "outputs": [
        {
          "output_type": "execute_result",
          "data": {
            "text/html": [
              "<div>\n",
              "<style scoped>\n",
              "    .dataframe tbody tr th:only-of-type {\n",
              "        vertical-align: middle;\n",
              "    }\n",
              "\n",
              "    .dataframe tbody tr th {\n",
              "        vertical-align: top;\n",
              "    }\n",
              "\n",
              "    .dataframe thead th {\n",
              "        text-align: right;\n",
              "    }\n",
              "</style>\n",
              "<table border=\"1\" class=\"dataframe\">\n",
              "  <thead>\n",
              "    <tr style=\"text-align: right;\">\n",
              "      <th></th>\n",
              "      <th>날짜</th>\n",
              "      <th>nation</th>\n",
              "      <th>exchange</th>\n",
              "      <th>graph_option</th>\n",
              "    </tr>\n",
              "  </thead>\n",
              "  <tbody>\n",
              "    <tr>\n",
              "      <th>0</th>\n",
              "      <td>2001</td>\n",
              "      <td>USD</td>\n",
              "      <td>1290.952174</td>\n",
              "      <td>1</td>\n",
              "    </tr>\n",
              "    <tr>\n",
              "      <th>1</th>\n",
              "      <td>2001</td>\n",
              "      <td>EUR</td>\n",
              "      <td>1158.577419</td>\n",
              "      <td>2</td>\n",
              "    </tr>\n",
              "    <tr>\n",
              "      <th>2</th>\n",
              "      <td>2001</td>\n",
              "      <td>CNY</td>\n",
              "      <td>155.942208</td>\n",
              "      <td>3</td>\n",
              "    </tr>\n",
              "    <tr>\n",
              "      <th>3</th>\n",
              "      <td>2001</td>\n",
              "      <td>JPY</td>\n",
              "      <td>1062.585613</td>\n",
              "      <td>4</td>\n",
              "    </tr>\n",
              "    <tr>\n",
              "      <th>4</th>\n",
              "      <td>2001</td>\n",
              "      <td>GBP</td>\n",
              "      <td>1850.558246</td>\n",
              "      <td>5</td>\n",
              "    </tr>\n",
              "    <tr>\n",
              "      <th>...</th>\n",
              "      <td>...</td>\n",
              "      <td>...</td>\n",
              "      <td>...</td>\n",
              "      <td>...</td>\n",
              "    </tr>\n",
              "    <tr>\n",
              "      <th>85</th>\n",
              "      <td>2018</td>\n",
              "      <td>USD</td>\n",
              "      <td>1100.208493</td>\n",
              "      <td>1</td>\n",
              "    </tr>\n",
              "    <tr>\n",
              "      <th>86</th>\n",
              "      <td>2018</td>\n",
              "      <td>EUR</td>\n",
              "      <td>1298.530959</td>\n",
              "      <td>2</td>\n",
              "    </tr>\n",
              "    <tr>\n",
              "      <th>87</th>\n",
              "      <td>2018</td>\n",
              "      <td>CNY</td>\n",
              "      <td>166.405699</td>\n",
              "      <td>3</td>\n",
              "    </tr>\n",
              "    <tr>\n",
              "      <th>88</th>\n",
              "      <td>2018</td>\n",
              "      <td>JPY</td>\n",
              "      <td>996.034466</td>\n",
              "      <td>4</td>\n",
              "    </tr>\n",
              "    <tr>\n",
              "      <th>89</th>\n",
              "      <td>2018</td>\n",
              "      <td>GBP</td>\n",
              "      <td>1467.954685</td>\n",
              "      <td>5</td>\n",
              "    </tr>\n",
              "  </tbody>\n",
              "</table>\n",
              "<p>90 rows × 4 columns</p>\n",
              "</div>"
            ],
            "text/plain": [
              "      날짜 nation     exchange  graph_option\n",
              "0   2001    USD  1290.952174             1\n",
              "1   2001    EUR  1158.577419             2\n",
              "2   2001    CNY   155.942208             3\n",
              "3   2001    JPY  1062.585613             4\n",
              "4   2001    GBP  1850.558246             5\n",
              "..   ...    ...          ...           ...\n",
              "85  2018    USD  1100.208493             1\n",
              "86  2018    EUR  1298.530959             2\n",
              "87  2018    CNY   166.405699             3\n",
              "88  2018    JPY   996.034466             4\n",
              "89  2018    GBP  1467.954685             5\n",
              "\n",
              "[90 rows x 4 columns]"
            ]
          },
          "metadata": {
            "tags": []
          },
          "execution_count": 205
        }
      ]
    },
    {
      "cell_type": "code",
      "metadata": {
        "id": "DID0zm1CSQWi",
        "colab_type": "code",
        "colab": {
          "base_uri": "https://localhost:8080/",
          "height": 413
        },
        "outputId": "599c32cc-051d-4a2b-ee29-9b280ca101aa"
      },
      "source": [
        "plt.figure(figsize=(10,6))\n",
        "\n",
        "ax = sns.lineplot(x='날짜', \n",
        "                  y='exchange', \n",
        "                  hue='nation',\n",
        "                  size='graph_option',           #선 굵기\n",
        "                  style='graph_option',          #선 스타일\n",
        "                  data=exchange_df)\n",
        "\n",
        "plt.title('Line Graph of different size w/ Long-form df by seaborn', fontsize=20)\n",
        "plt.ylabel('Cummulative Num', fontsize=14)\n",
        "plt.xlabel('Date', fontsize=14)\n",
        "plt.legend(fontsize=8, loc=1)\n",
        "plt.show()"
      ],
      "execution_count": 206,
      "outputs": [
        {
          "output_type": "display_data",
          "data": {
            "image/png": "[encoded data removed]",
            "text/plain": [
              "<Figure size 720x432 with 1 Axes>"
            ]
          },
          "metadata": {
            "tags": []
          }
        }
      ]
    },
    {
      "cell_type": "markdown",
      "metadata": {
        "id": "Hulhk9DKdYoR",
        "colab_type": "text"
      },
      "source": [
        "결론적으로 seaborn의 lineplot은 시간또는 어떠한 흐름에 따라 컬럼들의 변화를 보여주는 그래프인데, \n",
        "\n",
        "데이터프레임 형태(Wide,Long)에 따라 만드는 방법이 다르다.\n",
        "\n",
        "- 데이터 프레임이 WIde 방식일 때는 인덱스를 직접 날짜와 같이 x축으로 받아야할 데이터로 설정하는 것이 좋다.\n",
        "\n",
        "- 데이터 프레임이 Long frame 형식일 떄는 'hue'라는 파라미터를 활용해서 어떠한 기준으로 선을 만들지 설정할 수있다. 또한 선굵기와 스타일도 적시에 활용할 수 있음."
      ]
    }
  ]
}