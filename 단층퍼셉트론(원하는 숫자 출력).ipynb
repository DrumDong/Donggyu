{
  "nbformat": 4,
  "nbformat_minor": 0,
  "metadata": {
    "colab": {
      "name": "머신러닝_과제",
      "provenance": [],
      "collapsed_sections": [],
      "include_colab_link": true
    },
    "kernelspec": {
      "name": "python3",
      "display_name": "Python 3"
    }
  },
  "cells": [
    {
      "cell_type": "markdown",
      "metadata": {
        "id": "view-in-github",
        "colab_type": "text"
      },
      "source": [
        "<a href=\"https://colab.research.google.com/github/DrumDong/Donggyu/blob/master/%EB%8B%A8%EC%B8%B5%ED%8D%BC%EC%85%89%ED%8A%B8%EB%A1%A0(%EC%9B%90%ED%95%98%EB%8A%94%20%EC%88%AB%EC%9E%90%20%EC%B6%9C%EB%A0%A5).ipynb\" target=\"_parent\"><img src=\"https://colab.research.google.com/assets/colab-badge.svg\" alt=\"Open In Colab\"/></a>"
      ]
    },
    {
      "cell_type": "markdown",
      "metadata": {
        "id": "8NI-b4LreE2H",
        "colab_type": "text"
      },
      "source": [
        "# Simple machine learning system\n",
        "-  One newron system\n",
        "-  y_target =4\n",
        "- 학습률 = 0.1"
      ]
    },
    {
      "cell_type": "code",
      "metadata": {
        "id": "JlDE59WKeRbj",
        "colab_type": "code",
        "colab": {}
      },
      "source": [
        "import matplotlib.pyplot as plt\n",
        "\n",
        "w=1\n",
        "b=1\n",
        "y_target =4\n",
        "\n",
        "def function1(w,init_x):\n",
        "  y_real= (w*init_x)+b\n",
        "  return y_real\n",
        "\n",
        "\n",
        "\n",
        "def numerical_gradient(init_x,y_real):\n",
        "  return init_x*(y_real -  y_target)\n",
        "  \n",
        "\n",
        "t1=[]  \n",
        "t2=[]\n",
        "def gradient_descent(init_x,w,lr=0.1,step=100):\n",
        "  x= init_x\n",
        "  k=function1(w,x)\n",
        "  \n",
        "  if k != 4:\n",
        "    for i in range(step):\n",
        "      grad = numerical_gradient(x,k)\n",
        "      w_new = w-(lr*grad)\n",
        "      \n",
        "      w= w_new\n",
        "      k = function1(w,x)\n",
        "      t1.append(i)\n",
        "      t2.append(y_target-k)\n",
        "      \n",
        "      if i % 10 ==0:\n",
        "        print(i,w,k ,y_target-k)\n",
        "        \n",
        "      if k ==4:\n",
        "          break\n",
        "    \n",
        "    return plt.plot(t1,t2,label='w,k')"
      ],
      "execution_count": 0,
      "outputs": []
    },
    {
      "cell_type": "code",
      "metadata": {
        "id": "O0VsIqw8fXgn",
        "colab_type": "code",
        "outputId": "5c380d12-15fd-47af-9b61-6b6c35dcc2bd",
        "colab": {
          "base_uri": "https://localhost:8080/",
          "height": 466
        }
      },
      "source": [
        "gradient_descent(1,1)"
      ],
      "execution_count": 0,
      "outputs": [
        {
          "output_type": "stream",
          "text": [
            "0 1.2 2.2 1.7999999999999998\n",
            "10 2.37237880782 3.37237880782 0.6276211921799999\n",
            "20 2.7811620217369755 3.7811620217369755 0.21883797826302454\n",
            "30 2.9236959151046107 3.9236959151046107 0.07630408489538931\n",
            "40 2.9733944107054175 3.9733944107054175 0.026605589294582455\n",
            "50 2.990723204626824 3.990723204626824 0.00927679537317605\n",
            "60 2.996765381460154 3.996765381460154 0.003234618539845968\n",
            "70 2.998872158253208 3.998872158253208 0.0011278417467921464\n",
            "80 2.9996067458990487 3.9996067458990487 0.0003932541009512569\n",
            "90 2.9998628807735166 3.9998628807735166 0.00013711922648340646\n"
          ],
          "name": "stdout"
        },
        {
          "output_type": "execute_result",
          "data": {
            "text/plain": [
              "[<matplotlib.lines.Line2D at 0x7f03d325d0b8>]"
            ]
          },
          "metadata": {
            "tags": []
          },
          "execution_count": 28
        },
        {
          "output_type": "display_data",
          "data": {
            "image/png": "[encoded data removed]",
            "text/plain": [
              "<Figure size 432x288 with 1 Axes>"
            ]
          },
          "metadata": {
            "tags": []
          }
        }
      ]
    },
    {
      "cell_type": "markdown",
      "metadata": {
        "id": "WzkWfZg8DdN7",
        "colab_type": "text"
      },
      "source": [
        "학습이 29번 이상으로 증가하게 되면 error가 0.1 이하로 떨어지는 것을 확인할 수 있음."
      ]
    }
  ]
}