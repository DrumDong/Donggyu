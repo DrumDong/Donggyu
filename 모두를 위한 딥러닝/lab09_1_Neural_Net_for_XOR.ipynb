{
  "nbformat": 4,
  "nbformat_minor": 0,
  "metadata": {
    "colab": {
      "name": "lab09-1: Neural Net for XOR.ipynb",
      "provenance": [],
      "include_colab_link": true
    },
    "kernelspec": {
      "name": "python3",
      "display_name": "Python 3"
    }
  },
  "cells": [
    {
      "cell_type": "markdown",
      "metadata": {
        "id": "view-in-github",
        "colab_type": "text"
      },
      "source": [
        "<a href=\"https://colab.research.google.com/github/DrumDong/Donggyu/blob/master/%EB%AA%A8%EB%91%90%EB%A5%BC%20%EC%9C%84%ED%95%9C%20%EB%94%A5%EB%9F%AC%EB%8B%9D/lab09_1_Neural_Net_for_XOR.ipynb\" target=\"_parent\"><img src=\"https://colab.research.google.com/assets/colab-badge.svg\" alt=\"Open In Colab\"/></a>"
      ]
    },
    {
      "cell_type": "code",
      "metadata": {
        "id": "ykjXL99Who7z",
        "colab_type": "code",
        "colab": {
          "base_uri": "https://localhost:8080/",
          "height": 65
        },
        "outputId": "1320ca04-33eb-4e0b-e08a-ed8806b8253f"
      },
      "source": [
        "import numpy as np\n",
        "import tensorflow as tf"
      ],
      "execution_count": 3,
      "outputs": [
        {
          "output_type": "display_data",
          "data": {
            "text/html": [
              "<p style=\"color: red;\">\n",
              "The default version of TensorFlow in Colab will soon switch to TensorFlow 2.x.<br>\n",
              "We recommend you <a href=\"https://www.tensorflow.org/guide/migrate\" target=\"_blank\">upgrade</a> now \n",
              "or ensure your notebook will continue to use TensorFlow 1.x via the <code>%tensorflow_version 1.x</code> magic:\n",
              "<a href=\"https://colab.research.google.com/notebooks/tensorflow_version.ipynb\" target=\"_blank\">more info</a>.</p>\n"
            ],
            "text/plain": [
              "<IPython.core.display.HTML object>"
            ]
          },
          "metadata": {
            "tags": []
          }
        }
      ]
    },
    {
      "cell_type": "markdown",
      "metadata": {
        "id": "w0DxdvbQhsZO",
        "colab_type": "text"
      },
      "source": [
        "# XOR data set"
      ]
    },
    {
      "cell_type": "code",
      "metadata": {
        "id": "et_DVSmfhuLq",
        "colab_type": "code",
        "colab": {}
      },
      "source": [
        "x_data = np.array([[0, 0], [0, 1], [1, 0], [1, 1]], dtype=np.float32)\n",
        "y_data = np.array([[0], [1], [1], [0]], dtype=np.float32)"
      ],
      "execution_count": 0,
      "outputs": []
    },
    {
      "cell_type": "markdown",
      "metadata": {
        "id": "FZHDkcqHh3uF",
        "colab_type": "text"
      },
      "source": [
        "# XOR logistic regression?"
      ]
    },
    {
      "cell_type": "code",
      "metadata": {
        "id": "amHw7friigra",
        "colab_type": "code",
        "colab": {}
      },
      "source": [
        "X = tf.placeholder(tf.float32)\n",
        "Y = tf.placeholder(tf.float32)\n",
        "W = tf.Variable(tf.random_normal([2,1]),name='weight')\n",
        "b = tf.Variable(tf.random_normal([1]),name='bias')"
      ],
      "execution_count": 0,
      "outputs": []
    },
    {
      "cell_type": "code",
      "metadata": {
        "id": "uP8_HvLjjpdt",
        "colab_type": "code",
        "colab": {}
      },
      "source": [
        "# Hypothesis\n",
        "hypothesis = tf.sigmoid(tf.matmul(X,W)+b)"
      ],
      "execution_count": 0,
      "outputs": []
    },
    {
      "cell_type": "code",
      "metadata": {
        "id": "6H4DZmgfj7oO",
        "colab_type": "code",
        "colab": {}
      },
      "source": [
        "#cost/lost function\n",
        "cost = -tf.reduce_mean(Y*tf.log(hypothesis)+(1-Y)*tf.log(1-hypothesis))\n",
        "train = tf.train.GradientDescentOptimizer(learning_rate=0.1).minimize(cost)"
      ],
      "execution_count": 0,
      "outputs": []
    },
    {
      "cell_type": "code",
      "metadata": {
        "id": "NVfduKHxkvig",
        "colab_type": "code",
        "colab": {}
      },
      "source": [
        "# Accuracy computation\n",
        "# True if hypothesis > 0.5 else False\n",
        "predicted = tf.cast(hypothesis >0.5,dtype = tf.float32)\n",
        "accuracy = tf.reduce_mean(tf.cast(tf.equal(predicted,Y),dtype=tf.float32))"
      ],
      "execution_count": 0,
      "outputs": []
    },
    {
      "cell_type": "code",
      "metadata": {
        "id": "QcJQQ-bclznD",
        "colab_type": "code",
        "colab": {
          "base_uri": "https://localhost:8080/",
          "height": 199
        },
        "outputId": "70264975-4869-44b9-9f9a-7ad914f5357c"
      },
      "source": [
        "# launch graph\n",
        "with tf.Session() as sess:\n",
        "  # Initialize Tensorflow variales\n",
        "  sess.run(tf.global_variables_initializer())\n",
        "\n",
        "  for step in range(10001):\n",
        "    #학습\n",
        "    sess.run(train,feed_dict={X:x_data,Y:y_data})\n",
        "    #if step % 100 ==0:\n",
        "      #print(step,sess.run(cost,feed_dict={X:x_data,Y:y_data}),sess.run(W))\n",
        "\n",
        "  # Accuracy report\n",
        "  h,c,a = sess.run([hypothesis,predicted,accuracy],feed_dict={X:x_data,Y:y_data})\n",
        "  print('\\nHypothesis',h,'\\nCorrected',c,'\\naccuracy',a)"
      ],
      "execution_count": 17,
      "outputs": [
        {
          "output_type": "stream",
          "text": [
            "\n",
            "Hypothesis [[0.5]\n",
            " [0.5]\n",
            " [0.5]\n",
            " [0.5]] \n",
            "Corrected [[0.]\n",
            " [0.]\n",
            " [0.]\n",
            " [0.]] \n",
            "accuracy 0.5\n"
          ],
          "name": "stdout"
        }
      ]
    },
    {
      "cell_type": "markdown",
      "metadata": {
        "id": "66R-4mtIpY9R",
        "colab_type": "text"
      },
      "source": [
        "학습이 거의 안되는 것을 알 수 있음."
      ]
    },
    {
      "cell_type": "markdown",
      "metadata": {
        "id": "Z6XTzHXJpeB6",
        "colab_type": "text"
      },
      "source": [
        "# Neural Net\n",
        "- weight의 크기를 잘 결정해줘야함 ★"
      ]
    },
    {
      "cell_type": "code",
      "metadata": {
        "id": "08ZDjS6Vrpb6",
        "colab_type": "code",
        "colab": {}
      },
      "source": [
        "W1 = tf.Variable(tf.random_normal([2,2]),name='weight1')\n",
        "b1 = tf.Variable(tf.random_normal([2]),name='bias1')\n",
        "layers1 = tf.sigmoid(tf.matmul(X,W1)+b1)\n",
        "\n",
        "W2 = tf.Variable(tf.random_normal([2,1]),name='weight2')\n",
        "b2 = tf.Variable(tf.random_normal([1]),name='bias2')\n",
        "hypothesis = tf.sigmoid(tf.matmul(layers1,W2)+b2)"
      ],
      "execution_count": 0,
      "outputs": []
    },
    {
      "cell_type": "code",
      "metadata": {
        "id": "8DH8KdY4svYC",
        "colab_type": "code",
        "colab": {
          "base_uri": "https://localhost:8080/",
          "height": 199
        },
        "outputId": "97eb11e8-dd74-4a8c-9627-adde4a66185f"
      },
      "source": [
        "#cost/lost function\n",
        "cost = -tf.reduce_mean(Y*tf.log(hypothesis)+(1-Y)*tf.log(1-hypothesis))\n",
        "train = tf.train.GradientDescentOptimizer(learning_rate=0.1).minimize(cost)\n",
        "\n",
        "# Accuracy computation\n",
        "# True if hypothesis > 0.5 else False\n",
        "predicted = tf.cast(hypothesis >0.5,dtype = tf.float32)\n",
        "accuracy = tf.reduce_mean(tf.cast(tf.equal(predicted,Y),dtype=tf.float32))\n",
        "\n",
        "# launch graph\n",
        "with tf.Session() as sess:\n",
        "  # Initialize Tensorflow variales\n",
        "  sess.run(tf.global_variables_initializer())\n",
        "\n",
        "  for step in range(10001):\n",
        "    #학습\n",
        "    sess.run(train,feed_dict={X:x_data,Y:y_data})\n",
        "    #if step % 100 ==0:\n",
        "      #print(step,sess.run(cost,feed_dict={X:x_data,Y:y_data}),sess.run(W))\n",
        "\n",
        "  # Accuracy report\n",
        "  h,c,a = sess.run([hypothesis,predicted,accuracy],feed_dict={X:x_data,Y:y_data})\n",
        "  print('\\nHypothesis',h,'\\nCorrected',c,'\\naccuracy',a)"
      ],
      "execution_count": 21,
      "outputs": [
        {
          "output_type": "stream",
          "text": [
            "\n",
            "Hypothesis [[0.02275907]\n",
            " [0.9709396 ]\n",
            " [0.97014195]\n",
            " [0.01998394]] \n",
            "Corrected [[0.]\n",
            " [1.]\n",
            " [1.]\n",
            " [0.]] \n",
            "accuracy 1.0\n"
          ],
          "name": "stdout"
        }
      ]
    },
    {
      "cell_type": "markdown",
      "metadata": {
        "id": "xAkVUx2xtHVq",
        "colab_type": "text"
      },
      "source": [
        "# WIde NN for XOR"
      ]
    },
    {
      "cell_type": "code",
      "metadata": {
        "id": "8zIPZ4VntIff",
        "colab_type": "code",
        "colab": {}
      },
      "source": [
        "W1 = tf.Variable(tf.random_normal([2,10]),name='weight1')\n",
        "b1 = tf.Variable(tf.random_normal([10]),name='bias1')\n",
        "layers1 = tf.sigmoid(tf.matmul(X,W1)+b1)\n",
        "\n",
        "W2 = tf.Variable(tf.random_normal([10,1]),name='weight2')\n",
        "b2 = tf.Variable(tf.random_normal([1]),name='bias2')\n",
        "hypothesis = tf.sigmoid(tf.matmul(layers1,W2)+b2)"
      ],
      "execution_count": 0,
      "outputs": []
    },
    {
      "cell_type": "code",
      "metadata": {
        "id": "uYWcQapNuTan",
        "colab_type": "code",
        "colab": {
          "base_uri": "https://localhost:8080/",
          "height": 199
        },
        "outputId": "d6b868e7-3612-493c-c34f-19624d3a7f6f"
      },
      "source": [
        "#cost/lost function\n",
        "cost = -tf.reduce_mean(Y*tf.log(hypothesis)+(1-Y)*tf.log(1-hypothesis))\n",
        "train = tf.train.GradientDescentOptimizer(learning_rate=0.1).minimize(cost)\n",
        "\n",
        "# Accuracy computation\n",
        "# True if hypothesis > 0.5 else False\n",
        "predicted = tf.cast(hypothesis >0.5,dtype = tf.float32)\n",
        "accuracy = tf.reduce_mean(tf.cast(tf.equal(predicted,Y),dtype=tf.float32))\n",
        "\n",
        "# launch graph\n",
        "with tf.Session() as sess:\n",
        "  # Initialize Tensorflow variales\n",
        "  sess.run(tf.global_variables_initializer())\n",
        "\n",
        "  for step in range(10001):\n",
        "    #학습\n",
        "    sess.run(train,feed_dict={X:x_data,Y:y_data})\n",
        "    #if step % 100 ==0:\n",
        "      #print(step,sess.run(cost,feed_dict={X:x_data,Y:y_data}),sess.run(W))\n",
        "\n",
        "  # Accuracy report\n",
        "  h,c,a = sess.run([hypothesis,predicted,accuracy],feed_dict={X:x_data,Y:y_data})\n",
        "  print('\\nHypothesis',h,'\\nCorrected',c,'\\naccuracy',a)"
      ],
      "execution_count": 23,
      "outputs": [
        {
          "output_type": "stream",
          "text": [
            "\n",
            "Hypothesis [[0.0042425 ]\n",
            " [0.9900918 ]\n",
            " [0.9936109 ]\n",
            " [0.01235381]] \n",
            "Corrected [[0.]\n",
            " [1.]\n",
            " [1.]\n",
            " [0.]] \n",
            "accuracy 1.0\n"
          ],
          "name": "stdout"
        }
      ]
    },
    {
      "cell_type": "markdown",
      "metadata": {
        "id": "RnFpcT2Nub0C",
        "colab_type": "text"
      },
      "source": [
        "# Deep NN for XOR"
      ]
    },
    {
      "cell_type": "code",
      "metadata": {
        "id": "Barb_QkuudPM",
        "colab_type": "code",
        "colab": {}
      },
      "source": [
        "W1 = tf.Variable(tf.random_normal([2,10]),name='weight1')\n",
        "b1 = tf.Variable(tf.random_normal([10]),name='bias1')\n",
        "layers1 = tf.sigmoid(tf.matmul(X,W1)+b1)\n",
        "\n",
        "W2 = tf.Variable(tf.random_normal([10,10]),name='weight2')\n",
        "b2 = tf.Variable(tf.random_normal([10]),name='bias2')\n",
        "layers2 = tf.sigmoid(tf.matmul(layers1,W2)+b2)\n",
        "\n",
        "W3 = tf.Variable(tf.random_normal([10,1]),name='weight3')\n",
        "b3 = tf.Variable(tf.random_normal([1]),name='bias3')\n",
        "hypothesis = tf.sigmoid(tf.matmul(layers2,W3)+b3)"
      ],
      "execution_count": 0,
      "outputs": []
    },
    {
      "cell_type": "code",
      "metadata": {
        "id": "bFHAmSaLuyQ0",
        "colab_type": "code",
        "colab": {
          "base_uri": "https://localhost:8080/",
          "height": 199
        },
        "outputId": "2e6f5cc1-6be7-497a-e4a5-e52d4d63cf78"
      },
      "source": [
        "#cost/lost function\n",
        "cost = -tf.reduce_mean(Y*tf.log(hypothesis)+(1-Y)*tf.log(1-hypothesis))\n",
        "train = tf.train.GradientDescentOptimizer(learning_rate=0.1).minimize(cost)\n",
        "\n",
        "# Accuracy computation\n",
        "# True if hypothesis > 0.5 else False\n",
        "predicted = tf.cast(hypothesis >0.5,dtype = tf.float32)\n",
        "accuracy = tf.reduce_mean(tf.cast(tf.equal(predicted,Y),dtype=tf.float32))\n",
        "\n",
        "# launch graph\n",
        "with tf.Session() as sess:\n",
        "  # Initialize Tensorflow variales\n",
        "  sess.run(tf.global_variables_initializer())\n",
        "\n",
        "  for step in range(10001):\n",
        "    #학습\n",
        "    sess.run(train,feed_dict={X:x_data,Y:y_data})\n",
        "    #if step % 100 ==0:\n",
        "      #print(step,sess.run(cost,feed_dict={X:x_data,Y:y_data}),sess.run(W))\n",
        "\n",
        "  # Accuracy report\n",
        "  h,c,a = sess.run([hypothesis,predicted,accuracy],feed_dict={X:x_data,Y:y_data})\n",
        "  print('\\nHypothesis',h,'\\nCorrected',c,'\\naccuracy',a)"
      ],
      "execution_count": 25,
      "outputs": [
        {
          "output_type": "stream",
          "text": [
            "\n",
            "Hypothesis [[0.0022066 ]\n",
            " [0.99714017]\n",
            " [0.9969727 ]\n",
            " [0.00312752]] \n",
            "Corrected [[0.]\n",
            " [1.]\n",
            " [1.]\n",
            " [0.]] \n",
            "accuracy 1.0\n"
          ],
          "name": "stdout"
        }
      ]
    }
  ]
}