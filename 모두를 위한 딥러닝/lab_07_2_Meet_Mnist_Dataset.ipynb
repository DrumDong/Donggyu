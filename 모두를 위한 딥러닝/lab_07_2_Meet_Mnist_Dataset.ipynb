{
  "nbformat": 4,
  "nbformat_minor": 0,
  "metadata": {
    "colab": {
      "name": "lab 07-2:Meet_Mnist_Dataset.ipynb",
      "provenance": [],
      "include_colab_link": true
    },
    "kernelspec": {
      "name": "python3",
      "display_name": "Python 3"
    }
  },
  "cells": [
    {
      "cell_type": "markdown",
      "metadata": {
        "id": "view-in-github",
        "colab_type": "text"
      },
      "source": [
        "<a href=\"https://colab.research.google.com/github/DrumDong/Donggyu/blob/master/lab_07_2_Meet_Mnist_Dataset.ipynb\" target=\"_parent\"><img src=\"https://colab.research.google.com/assets/colab-badge.svg\" alt=\"Open In Colab\"/></a>"
      ]
    },
    {
      "cell_type": "code",
      "metadata": {
        "id": "U_Db2N9DQs8M",
        "colab_type": "code",
        "colab": {}
      },
      "source": [
        "import tensorflow as tf\n",
        "import numpy as np\n",
        "from tensorflow.examples.tutorials.mnist import input_data"
      ],
      "execution_count": 0,
      "outputs": []
    },
    {
      "cell_type": "markdown",
      "metadata": {
        "id": "5pbkQMA8R6Lj",
        "colab_type": "text"
      },
      "source": [
        "# Reading data and set variables"
      ]
    },
    {
      "cell_type": "code",
      "metadata": {
        "id": "9u7mQ1syRRdM",
        "colab_type": "code",
        "colab": {
          "base_uri": "https://localhost:8080/",
          "height": 90
        },
        "outputId": "ceb7f515-ac2c-4ced-fb63-229afdc84a62"
      },
      "source": [
        "mnist = input_data.read_data_sets('MNIST_data/',one_hot=True)\n",
        "batch_xs,batch_ys = mnist.train.next_batch(100)"
      ],
      "execution_count": 5,
      "outputs": [
        {
          "output_type": "stream",
          "text": [
            "Extracting MNIST_data/train-images-idx3-ubyte.gz\n",
            "Extracting MNIST_data/train-labels-idx1-ubyte.gz\n",
            "Extracting MNIST_data/t10k-images-idx3-ubyte.gz\n",
            "Extracting MNIST_data/t10k-labels-idx1-ubyte.gz\n"
          ],
          "name": "stdout"
        }
      ]
    },
    {
      "cell_type": "code",
      "metadata": {
        "id": "0xhd3FnZRYvM",
        "colab_type": "code",
        "colab": {}
      },
      "source": [
        "nb_classes=10\n",
        "\n",
        "#MNIST data image of shape 28*28 = 784\n",
        "X = tf.placeholder(tf.float32,[None,784])\n",
        "#0-9 digits recognition = 10 classes\n",
        "Y = tf.placeholder(tf.float32,[None,nb_classes])\n",
        "\n",
        "W = tf.Variable(tf.random_normal([784,nb_classes]))\n",
        "b= tf.Variable(tf.random_normal([nb_classes]))"
      ],
      "execution_count": 0,
      "outputs": []
    },
    {
      "cell_type": "markdown",
      "metadata": {
        "id": "bbohM4dJSJi8",
        "colab_type": "text"
      },
      "source": [
        "# Softmax!"
      ]
    },
    {
      "cell_type": "code",
      "metadata": {
        "id": "8tQq7OzkUX9h",
        "colab_type": "code",
        "colab": {}
      },
      "source": [
        "# 크로스앤트로피 에러 함수\n",
        "def cross_entropy_error(y,t):\n",
        "  delta = 1e-7\n",
        "  return -np.sum(t*log(y+delta))"
      ],
      "execution_count": 0,
      "outputs": []
    },
    {
      "cell_type": "markdown",
      "metadata": {
        "id": "r5kOnaMYUxd6",
        "colab_type": "text"
      },
      "source": [
        "- delta를 더하는 이유는 log안의 숫자가 절대 0이 되지 않게 만들기 위해서이다. 즉, 마이너스 무한대가 발생하지 않게 하기 위해서임. [밑바닥 딥러닝 115pg]"
      ]
    },
    {
      "cell_type": "code",
      "metadata": {
        "id": "cI0cOBj2S-Cd",
        "colab_type": "code",
        "colab": {}
      },
      "source": [
        "# Hypothesis (using softmax)\n",
        "hyphothesis = tf.nn.softmax(tf.matmul(X,W)+b)\n",
        "\n",
        "cost = tf.reduce_mean(-tf.reduce_sum(Y*tf.log(hyphothesis), axis=1))\n",
        "optimizer = tf.train.GradientDescentOptimizer(learning_rate=0.1).minimize(cost)\n",
        "\n",
        "#Test model\n",
        "is_correct = tf.equal(tf.arg_max(hyphothesis,1),tf.arg_max(Y,1)) #True, False로 나타냄.\n",
        "accuracy = tf.reduce_mean(tf.cast(is_correct,tf.float32))"
      ],
      "execution_count": 0,
      "outputs": []
    },
    {
      "cell_type": "markdown",
      "metadata": {
        "id": "45EwNFx6TeCk",
        "colab_type": "text"
      },
      "source": [
        "# Training epoch/batch\n",
        "\n",
        "# Sameple image show and prediction"
      ]
    },
    {
      "cell_type": "code",
      "metadata": {
        "id": "8k8qKskXVlDj",
        "colab_type": "code",
        "colab": {
          "base_uri": "https://localhost:8080/",
          "height": 592
        },
        "outputId": "f6753a58-abec-49cf-d60e-865a3978a09e"
      },
      "source": [
        "training_epochs =15\n",
        "batch_size = 100\n",
        "\n",
        "with tf.Session() as sess:\n",
        "  sess.run(tf.global_variables_initializer())\n",
        "  #Training Cycle\n",
        "  for epoch in range(training_epochs):\n",
        "    avg_cost =0\n",
        "    total_batch = int(mnist.train.num_examples/ batch_size)\n",
        "\n",
        "    for i in range(total_batch):\n",
        "      batch_xs,batch_ys = mnist.train.next_batch(batch_size)\n",
        "      c, _ = sess.run([cost,optimizer],\n",
        "                      feed_dict={X:batch_xs,Y:batch_ys})\n",
        "      avg_cost += c / total_batch\n",
        "    \n",
        "    print('Epoch:','%04d'%(epoch+1),\n",
        "          'cost = ','{:9f}'.format(avg_cost))\n",
        "  #Test the model using test sets\n",
        "  print('Accuracy:',accuracy.eval(session=sess,\n",
        "                                  feed_dict={X:mnist.test.images,Y:mnist.test.labels}))\n",
        "  \n",
        "  ################### Sameple image show and prediction###################\n",
        "  #Get one and predict\n",
        "  r = random.randint(0,mnist.test.num_examples -1)\n",
        "  print('Label:',sess.run(tf.argmax(mnist.test.labels[r:r+1],1)))\n",
        "  print('Prediction:',sess.run(tf.argmax(hyphothesis,1),\n",
        "                             feed_dict={X:mnist.test.images[r:r+1]}))\n",
        "  plt.imshow(mnist.test.images[r:r+1].\n",
        "            reshape(28,28),cmap='Greys',interpolation='nearest')\n",
        "  plt.show()"
      ],
      "execution_count": 26,
      "outputs": [
        {
          "output_type": "stream",
          "text": [
            "Epoch: 0001 cost =   2.711622\n",
            "Epoch: 0002 cost =   1.107505\n",
            "Epoch: 0003 cost =   0.896446\n",
            "Epoch: 0004 cost =   0.789636\n",
            "Epoch: 0005 cost =   0.721020\n",
            "Epoch: 0006 cost =   0.670745\n",
            "Epoch: 0007 cost =   0.632808\n",
            "Epoch: 0008 cost =   0.602442\n",
            "Epoch: 0009 cost =   0.578165\n",
            "Epoch: 0010 cost =   0.556081\n",
            "Epoch: 0011 cost =   0.537100\n",
            "Epoch: 0012 cost =   0.521719\n",
            "Epoch: 0013 cost =   0.507009\n",
            "Epoch: 0014 cost =   0.494456\n",
            "Epoch: 0015 cost =   0.483440\n",
            "Accuracy: 0.8841\n",
            "Label: [9]\n",
            "Prediction: [9]\n"
          ],
          "name": "stdout"
        },
        {
          "output_type": "display_data",
          "data": {
            "image/png": "[encoded data removed]",
            "text/plain": [
              "<Figure size 432x288 with 1 Axes>"
            ]
          },
          "metadata": {
            "tags": []
          }
        }
      ]
    }
  ]
}
