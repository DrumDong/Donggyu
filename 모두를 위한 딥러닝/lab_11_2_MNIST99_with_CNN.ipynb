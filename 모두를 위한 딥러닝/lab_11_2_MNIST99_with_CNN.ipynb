{
  "nbformat": 4,
  "nbformat_minor": 0,
  "metadata": {
    "colab": {
      "name": "lab_11_2_MNIST99% with CNN.ipynb",
      "provenance": [],
      "include_colab_link": true
    },
    "kernelspec": {
      "name": "python3",
      "display_name": "Python 3"
    }
  },
  "cells": [
    {
      "cell_type": "markdown",
      "metadata": {
        "id": "view-in-github",
        "colab_type": "text"
      },
      "source": [
        "<a href=\"https://colab.research.google.com/github/DrumDong/Donggyu/blob/master/%EB%AA%A8%EB%91%90%EB%A5%BC%20%EC%9C%84%ED%95%9C%20%EB%94%A5%EB%9F%AC%EB%8B%9D/lab_11_2_MNIST99_with_CNN.ipynb\" target=\"_parent\"><img src=\"https://colab.research.google.com/assets/colab-badge.svg\" alt=\"Open In Colab\"/></a>"
      ]
    },
    {
      "cell_type": "code",
      "metadata": {
        "id": "deNjET2D0-SO",
        "colab_type": "code",
        "colab": {}
      },
      "source": [
        "import tensorflow as tf\n",
        "import numpy as np\n",
        "import matplotlib.pyplot as plt"
      ],
      "execution_count": 0,
      "outputs": []
    },
    {
      "cell_type": "code",
      "metadata": {
        "id": "UwRhqq-x1TvG",
        "colab_type": "code",
        "outputId": "bbf197b9-88b1-4b8b-cdd8-a122d4f6b683",
        "colab": {
          "base_uri": "https://localhost:8080/",
          "height": 87
        }
      },
      "source": [
        "from tensorflow.examples.tutorials.mnist import input_data\n",
        "mnist = input_data.read_data_sets('MNIST_data',one_hot=True)"
      ],
      "execution_count": 31,
      "outputs": [
        {
          "output_type": "stream",
          "text": [
            "Extracting MNIST_data/train-images-idx3-ubyte.gz\n",
            "Extracting MNIST_data/train-labels-idx1-ubyte.gz\n",
            "Extracting MNIST_data/t10k-images-idx3-ubyte.gz\n",
            "Extracting MNIST_data/t10k-labels-idx1-ubyte.gz\n"
          ],
          "name": "stdout"
        }
      ]
    },
    {
      "cell_type": "markdown",
      "metadata": {
        "id": "VmFkSC1H0zq4",
        "colab_type": "text"
      },
      "source": [
        "# Conv layer 1"
      ]
    },
    {
      "cell_type": "code",
      "metadata": {
        "id": "bw8QroLW08cy",
        "colab_type": "code",
        "colab": {}
      },
      "source": [
        "#input place holders\n",
        "X = tf.placeholder(tf.float32,[None,784])\n",
        "x_img = tf.reshape(X,[-1,28,28,1]) # img 28*28*1 (black/white), -1 : N개\n",
        "Y = tf.placeholder(tf.float32,[None,10])\n",
        "\n",
        "# L1 ImgIn shape= (?,28,28,1)\n",
        "W1 = tf.Variable(tf.random_normal([3,3,1,32],stddev=0.01)) # 3*3의 이미지 색깔은 1, 32개의 filter \n",
        "# Conv -> (?,28,28,32)\n",
        "# Pool -> (?,14,14,32)\n",
        "L1 = tf.nn.conv2d(x_img,W1,strides=[1,1,1,1],padding='SAME')\n",
        "L1 = tf.nn.relu(L1)\n",
        "L1 = tf.nn.max_pool(L1, ksize=[1,2,2,1],\n",
        "                    strides=[1,2,2,1],padding='SAME') # (28-2/2) +1 -> 14*14"
      ],
      "execution_count": 0,
      "outputs": []
    },
    {
      "cell_type": "markdown",
      "metadata": {
        "id": "qgL_2kQh4ByS",
        "colab_type": "text"
      },
      "source": [
        "14 * 14 * 32"
      ]
    },
    {
      "cell_type": "markdown",
      "metadata": {
        "id": "z8L_fh-V4Ahe",
        "colab_type": "text"
      },
      "source": [
        "##Conv layer2"
      ]
    },
    {
      "cell_type": "code",
      "metadata": {
        "id": "E0fnQIAA5FbA",
        "colab_type": "code",
        "colab": {}
      },
      "source": [
        "# L2 ImgIn shape =(14 * 14 * 32)\n",
        "W2 = tf.Variable(tf.random_normal([3,3,32,64],stddev=0.01))\n",
        "# Conv -> (?,14,14,32)\n",
        "# Pool -> (?,7,7,64)\n",
        "L2 = tf.nn.conv2d(L1,W2,strides=[1,1,1,1],padding='SAME')\n",
        "L2 = tf.nn.relu(L2)\n",
        "L2 = tf.nn.max_pool(L2,ksize=[1,2,2,1],strides=[1,2,2,1],padding='SAME')\n",
        "L2 = tf.reshape(L2,[-1,7*7*64])"
      ],
      "execution_count": 0,
      "outputs": []
    },
    {
      "cell_type": "markdown",
      "metadata": {
        "id": "5zOq7JIL5Nz8",
        "colab_type": "text"
      },
      "source": [
        "## Fully Connected layer\n"
      ]
    },
    {
      "cell_type": "code",
      "metadata": {
        "id": "QT2x6fC88kGc",
        "colab_type": "code",
        "colab": {}
      },
      "source": [
        "#tf.reset_default_graph()"
      ],
      "execution_count": 0,
      "outputs": []
    },
    {
      "cell_type": "code",
      "metadata": {
        "id": "3-xq7Ufx7dMT",
        "colab_type": "code",
        "colab": {}
      },
      "source": [
        "L2 = tf.reshape(L2,[-1,7*7*64])\n",
        "\n",
        "#Final FC 7*7*64 inputs -> 10 outputs\n",
        "W3 = tf.get_variable('W3',shape=[7*7*64,10],\n",
        "                     initializer=tf.contrib.layers.xavier_initializer())\n",
        "b = tf.Variable(tf.random_normal([10]))\n",
        "hypothesis = tf.matmul(L2,W3)+b\n",
        "\n",
        "#define cost/loss & optimizer\n",
        "cost  = tf.reduce_mean(tf.nn.softmax_cross_entropy_with_logits(logits=hypothesis,labels=Y))\n",
        "optimizer = tf.train.AdamOptimizer(learning_rate=0.001).minimize(cost)"
      ],
      "execution_count": 0,
      "outputs": []
    },
    {
      "cell_type": "code",
      "metadata": {
        "id": "1L7eaWKATJWq",
        "colab_type": "code",
        "colab": {
          "base_uri": "https://localhost:8080/",
          "height": 332
        },
        "outputId": "88f98cb4-5ca7-412c-a2c6-040c3c572dad"
      },
      "source": [
        "#initialize\n",
        "sess = tf.Session()\n",
        "sess.run(tf.global_variables_initializer())\n",
        "\n",
        "traing_epochs = 15\n",
        "batch_size  = 100\n",
        "\n",
        "#train my model\n",
        "print('Learning started. It takes some time.')\n",
        "for epoch in range(traing_epochs):\n",
        "  avg_cost = 0\n",
        "  total_batch = int(mnist.train.num_examples / batch_size)\n",
        "  for i in range(total_batch):\n",
        "    batch_xs, batch_ys = mnist.train.next_batch(batch_size)\n",
        "    c,_, = sess.run([cost,optimizer],\n",
        "                    feed_dict = {X: batch_xs, Y: batch_ys})\n",
        "    avg_cost += c /total_batch\n",
        "  print('Epoch:','%04d' % (epoch+1),'cost=','{:.9f}'.format(avg_cost))\n",
        "\n",
        "print('Learning Finished!')\n",
        "\n",
        "#Test model and check accuracy\n",
        "correct_prediction = tf.equal(tf.argmax(hypothesis,1),tf.argmax(Y,1))\n",
        "accuracy = tf.reduce_mean(tf.cast(correct_prediction,tf.float32))\n",
        "print('Accuracy:',sess.run(accuracy,\n",
        "                           feed_dict={X:mnist.test.images,Y:mnist.test.labels}))"
      ],
      "execution_count": 36,
      "outputs": [
        {
          "output_type": "stream",
          "text": [
            "Learning started. It takes some time.\n",
            "Epoch: 0001 cost= 0.333305976\n",
            "Epoch: 0002 cost= 0.091980636\n",
            "Epoch: 0003 cost= 0.067091221\n",
            "Epoch: 0004 cost= 0.054951407\n",
            "Epoch: 0005 cost= 0.045296485\n",
            "Epoch: 0006 cost= 0.039023035\n",
            "Epoch: 0007 cost= 0.035513353\n",
            "Epoch: 0008 cost= 0.029733252\n",
            "Epoch: 0009 cost= 0.025892980\n",
            "Epoch: 0010 cost= 0.023177381\n",
            "Epoch: 0011 cost= 0.020018744\n",
            "Epoch: 0012 cost= 0.018059235\n",
            "Epoch: 0013 cost= 0.015579941\n",
            "Epoch: 0014 cost= 0.013894943\n",
            "Epoch: 0015 cost= 0.012023641\n",
            "Learning Finished!\n",
            "Accuracy: 0.9891\n"
          ],
          "name": "stdout"
        }
      ]
    }
  ]
}