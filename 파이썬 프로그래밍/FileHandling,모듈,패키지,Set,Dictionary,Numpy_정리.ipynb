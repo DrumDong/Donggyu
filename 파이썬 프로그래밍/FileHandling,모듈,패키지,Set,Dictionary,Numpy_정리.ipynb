{
  "nbformat": 4,
  "nbformat_minor": 0,
  "metadata": {
    "colab": {
      "name": "파이썬 프로그래밍_FileHandling,모듈,패키지,Set,Dictionary,Numpy_정리.ipynb",
      "provenance": [],
      "collapsed_sections": [],
      "toc_visible": true
    },
    "kernelspec": {
      "name": "python3",
      "display_name": "Python 3"
    }
  },
  "cells": [
    {
      "cell_type": "code",
      "metadata": {
        "id": "jMWh_q4g2r57",
        "colab_type": "code",
        "outputId": "d64fe786-cccb-4ed6-9495-e4514a7bc87f",
        "colab": {
          "base_uri": "https://localhost:8080/",
          "height": 125
        }
      },
      "source": [
        "from google.colab import drive\n",
        "drive.mount('/content/drive')"
      ],
      "execution_count": 0,
      "outputs": [
        {
          "output_type": "stream",
          "text": [
            "Go to this URL in a browser: https://accounts.google.com/o/oauth2/auth?client_id=947318989803-6bn6qk8qdgf4n4g3pfee6491hc0brc4i.apps.googleusercontent.com&redirect_uri=urn%3aietf%3awg%3aoauth%3a2.0%3aoob&response_type=code&scope=email%20https%3a%2f%2fwww.googleapis.com%2fauth%2fdocs.test%20https%3a%2f%2fwww.googleapis.com%2fauth%2fdrive%20https%3a%2f%2fwww.googleapis.com%2fauth%2fdrive.photos.readonly%20https%3a%2f%2fwww.googleapis.com%2fauth%2fpeopleapi.readonly\n",
            "\n",
            "Enter your authorization code:\n",
            "··········\n",
            "Mounted at /content/drive\n"
          ],
          "name": "stdout"
        }
      ]
    },
    {
      "cell_type": "markdown",
      "metadata": {
        "id": "CK3XG1twPOaD",
        "colab_type": "text"
      },
      "source": [
        "# File Handling\n",
        "‘w’\n",
        "- 쓰기 모드\n",
        "- 새로운 파일이 생성됨\n",
        "- 동일한 이름의 파일이 이미 존재하면 기존 파일이 덮어씌워 짐\n",
        "\n",
        "'a'\n",
        "- 추가모드\n",
        "- 파일 존재x -> 새로운 파일 생성\n",
        "- 동일한 이름 파일 -> 마지막 부분에 내용 추가\n",
        "\n",
        "'r'\n",
        "- 읽기모드\n",
        "- 파일 존재x -> FileNotFoundingError"
      ]
    },
    {
      "cell_type": "markdown",
      "metadata": {
        "id": "ELyxFQdWPtWC",
        "colab_type": "text"
      },
      "source": [
        "## 파일 닫기\n",
        "- 파일을 연 후에는 꼭 닫아야함.\n",
        "- 프로그램 종료 -> 파일 닫힘 but ***resource*** 를 점유하게됨\n",
        "- 명시적으로 닫는 것이 좋다\n",
        "\n",
        "--------------------\n",
        "### open 구문 활용\n",
        "f = open('test.txt','w')\n",
        "\n",
        "f.close()\n",
        "\n",
        "---\n",
        "### with 구문 활용\n",
        "- with 구문 활용 후 자동으로 close()호출\n",
        "- 명시적으로 close를 하지 않아도 됨\n",
        "\n",
        "with open('text.txt','w') as f:\n",
        "\n",
        "  > #some statements\n",
        "   \n",
        "  > pass\n"
      ]
    },
    {
      "cell_type": "markdown",
      "metadata": {
        "id": "olJEqzsVPYXe",
        "colab_type": "text"
      },
      "source": [
        "## 파일에 내용 쓰기\n",
        "- write 함수를 통해 내용 작성 가능\n",
        "- \\n 포함x -> 줄 안넘아감(print랑 다름)\n"
      ]
    },
    {
      "cell_type": "code",
      "metadata": {
        "id": "deGGelYhSMhl",
        "colab_type": "code",
        "colab": {}
      },
      "source": [
        "f = open('writing_test.txt','w')\n",
        "f.write('first line \\n')\n",
        "f.write('second line \\n')\n",
        "f.write('third line \\n')\n",
        "#f.write('first line \\n second line \\n third line')\n",
        "f.close()"
      ],
      "execution_count": 0,
      "outputs": []
    },
    {
      "cell_type": "markdown",
      "metadata": {
        "id": "7ZEjQl_jXTC_",
        "colab_type": "text"
      },
      "source": [
        "## 파일에 내용 추가하기\n",
        "- 'a'모드를 통해 기존 파일 끝에 내용 추가 가능"
      ]
    },
    {
      "cell_type": "code",
      "metadata": {
        "id": "-D_k2qNUY7wK",
        "colab_type": "code",
        "colab": {}
      },
      "source": [
        "f = open('writing_test.txt','a')\n",
        "\n",
        "for i in range(10):\n",
        "  f.write('newly added line (%d) \\n'%i)\n",
        "\n",
        "f.close()"
      ],
      "execution_count": 0,
      "outputs": []
    },
    {
      "cell_type": "markdown",
      "metadata": {
        "id": "zlzA5qRBazFl",
        "colab_type": "text"
      },
      "source": [
        "### 실습(1)\n",
        "- 입력값으로 정수(n)을 받으며, 1부터 n까지의 정수 중에서 3개를 뽑아서 일렬로 나열하는 모든 방법과 총 경우의 수를\n",
        "텍스트 파일로 출력하라\n",
        "\n",
        "- 출력되는 방법의 순서는 무관하다.\n",
        "- 입력값이 3보다 작은 수 일 때는 \"3보다 크거나 같은 수를 입력해주십시오.\" 라는 메시지를 출력해야 한다.\n"
      ]
    },
    {
      "cell_type": "code",
      "metadata": {
        "id": "PosZVQWhbGyl",
        "colab_type": "code",
        "outputId": "c78b4127-4c0c-4555-ae1b-48902facf009",
        "colab": {
          "base_uri": "https://localhost:8080/",
          "height": 34
        }
      },
      "source": [
        "f = open('practice.txt','w')\n",
        "n = int(input())\n",
        "num= 1\n",
        "for i in range(1,n+1):\n",
        "  for j in range(1,n+1):\n",
        "    for k in range(1,n+1):\n",
        "      if i != j and i !=k and j != k:\n",
        "        f.write('순열 %d :'%num)\n",
        "        f.write('%d,'%i)\n",
        "        f.write('%d,'%j)\n",
        "        f.write('%d\\n'%k)\n",
        "        num +=1\n",
        "f.close()"
      ],
      "execution_count": 0,
      "outputs": [
        {
          "output_type": "stream",
          "text": [
            "1\n"
          ],
          "name": "stdout"
        }
      ]
    },
    {
      "cell_type": "markdown",
      "metadata": {
        "id": "gMkgi8_-fh_t",
        "colab_type": "text"
      },
      "source": [
        "## 원하는 경로에 파일 쓰기\n",
        "잘못된 예시\n",
        "- f= open('C:\\User\\Master\\Desktop\\new_file.txt','w')\n",
        "\n",
        "옳바른 예시\n",
        "- f= open('C:\\\\\\User\\\\\\Master\\\\\\Desktop\\\\\\new_file.txt','w')\n"
      ]
    },
    {
      "cell_type": "markdown",
      "metadata": {
        "id": "iLJAdEhwg8Oc",
        "colab_type": "text"
      },
      "source": [
        "## 파일 읽기\n",
        "- 'r'모드로 파일을 연 후, 내용을 instance로 불러옴\n",
        "- readline()\n",
        "  - 한 줄을 읽고 이를 문자열로 반환\n",
        "  - \\n 이 등장할 때까지 읽고, 다음 readline()시 \\n 이후부터 읽음"
      ]
    },
    {
      "cell_type": "code",
      "metadata": {
        "id": "AzluFL2thtvi",
        "colab_type": "code",
        "outputId": "6e1b57da-ffde-40fa-81fd-576130c0cf66",
        "colab": {
          "base_uri": "https://localhost:8080/",
          "height": 52
        }
      },
      "source": [
        "f = open('writing_test.txt','r')\n",
        "line = f.readline()\n",
        "print(line)\n",
        "f.close()"
      ],
      "execution_count": 0,
      "outputs": [
        {
          "output_type": "stream",
          "text": [
            "first line \n",
            "\n"
          ],
          "name": "stdout"
        }
      ]
    },
    {
      "cell_type": "markdown",
      "metadata": {
        "id": "kC7zucq_kmbM",
        "colab_type": "text"
      },
      "source": [
        "- readline()\n",
        "  - 모든 내용을 읽기 위해서 반복해서 readline()을 호풀해야함"
      ]
    },
    {
      "cell_type": "code",
      "metadata": {
        "id": "5obQQQb_kzv8",
        "colab_type": "code",
        "outputId": "49479536-bd4d-4be8-d714-f9a5c871778b",
        "colab": {
          "base_uri": "https://localhost:8080/",
          "height": 193
        }
      },
      "source": [
        "f = open('writing_test.txt','r')\n",
        "for i in range(5):\n",
        "  line = f.readline()\n",
        "  print(line)\n",
        "f.close()"
      ],
      "execution_count": 0,
      "outputs": [
        {
          "output_type": "stream",
          "text": [
            "first line \n",
            "\n",
            "second line \n",
            "\n",
            "third line \n",
            "\n",
            "newly added line (0) \n",
            "\n",
            "newly added line (1) \n",
            "\n"
          ],
          "name": "stdout"
        }
      ]
    },
    {
      "cell_type": "markdown",
      "metadata": {
        "id": "paUB3I3hjV9y",
        "colab_type": "text"
      },
      "source": [
        "- readline()\n",
        "   - for문을 통해 한 줄 씩 읽어 변수에 문자열 할당\n",
        "   - \\n까지 포함하여 읽음\n",
        "   - 문자열 객체에서 사용 가능한 strip(),rstrip(),lstrip() 함수를 이용하여 좌우 공백이나 \\t, \\n 등을 제거할 수 있음 ex) line.strip()"
      ]
    },
    {
      "cell_type": "markdown",
      "metadata": {
        "id": "MCMXTurmoRUO",
        "colab_type": "text"
      },
      "source": [
        "---"
      ]
    },
    {
      "cell_type": "markdown",
      "metadata": {
        "id": "7S3G4MlWoOcl",
        "colab_type": "text"
      },
      "source": [
        "- readline 함수로 파일 전체 읽기\n",
        "  -  파일의 끝에 다다르면 line 변수에는 “” 빈 문자열이 할당\n",
        "  - 빈 문자열을 불 타입으로 변환하면 False가 되며,\n",
        "if 조건문에서는 bool 타입으로의 형변환이 자동으로 이루어짐"
      ]
    },
    {
      "cell_type": "code",
      "metadata": {
        "id": "6qYxiLtBoYY2",
        "colab_type": "code",
        "outputId": "89ddae5a-da59-4bc9-e7d9-c1107501b68e",
        "colab": {
          "base_uri": "https://localhost:8080/",
          "height": 474
        }
      },
      "source": [
        "f = open('writing_test.txt','r')\n",
        "while True:\n",
        "  line = f.readline()\n",
        "  if not line:\n",
        "    break       # break을 하지 않으면 무한루프에 빠짐\n",
        "  print(line)\n",
        "f.close() "
      ],
      "execution_count": 0,
      "outputs": [
        {
          "output_type": "stream",
          "text": [
            "first line \n",
            "\n",
            "second line \n",
            "\n",
            "third line \n",
            "\n",
            "newly added line (0) \n",
            "\n",
            "newly added line (1) \n",
            "\n",
            "newly added line (2) \n",
            "\n",
            "newly added line (3) \n",
            "\n",
            "newly added line (4) \n",
            "\n",
            "newly added line (5) \n",
            "\n",
            "newly added line (6) \n",
            "\n",
            "newly added line (7) \n",
            "\n",
            "newly added line (8) \n",
            "\n",
            "newly added line (9) \n",
            "\n"
          ],
          "name": "stdout"
        }
      ]
    },
    {
      "cell_type": "code",
      "metadata": {
        "id": "C6wHHGH4j1Xb",
        "colab_type": "code",
        "outputId": "77564629-674b-4a98-8260-d04083a3251a",
        "colab": {
          "base_uri": "https://localhost:8080/",
          "height": 474
        }
      },
      "source": [
        "f = open('writing_test.txt','r')\n",
        "for line in f:\n",
        "  print(line)\n",
        "f.close()"
      ],
      "execution_count": 0,
      "outputs": [
        {
          "output_type": "stream",
          "text": [
            "first line \n",
            "\n",
            "second line \n",
            "\n",
            "third line \n",
            "\n",
            "newly added line (0) \n",
            "\n",
            "newly added line (1) \n",
            "\n",
            "newly added line (2) \n",
            "\n",
            "newly added line (3) \n",
            "\n",
            "newly added line (4) \n",
            "\n",
            "newly added line (5) \n",
            "\n",
            "newly added line (6) \n",
            "\n",
            "newly added line (7) \n",
            "\n",
            "newly added line (8) \n",
            "\n",
            "newly added line (9) \n",
            "\n"
          ],
          "name": "stdout"
        }
      ]
    },
    {
      "cell_type": "markdown",
      "metadata": {
        "id": "2yi4e2CGpzkT",
        "colab_type": "text"
      },
      "source": [
        "---"
      ]
    },
    {
      "cell_type": "markdown",
      "metadata": {
        "id": "NmjTWHwNmQiv",
        "colab_type": "text"
      },
      "source": [
        "- readlines 함수 이용하여 파일 전체 읽기\n",
        "- readlines 함수는 리스트 객체를 반환하며, 객체 내 아이템들은 \\n을 포함한 한 줄의 문자열들임"
      ]
    },
    {
      "cell_type": "code",
      "metadata": {
        "id": "gw3jEw3ppyQT",
        "colab_type": "code",
        "outputId": "550106b1-6249-4241-861b-1227db0cbe20",
        "colab": {
          "base_uri": "https://localhost:8080/",
          "height": 54
        }
      },
      "source": [
        "f = open('writing_test.txt','r')\n",
        "print(f.readlines())\n",
        "f.close()"
      ],
      "execution_count": 0,
      "outputs": [
        {
          "output_type": "stream",
          "text": [
            "['first line \\n', 'second line \\n', 'third line \\n', 'newly added line (0) \\n', 'newly added line (1) \\n', 'newly added line (2) \\n', 'newly added line (3) \\n', 'newly added line (4) \\n', 'newly added line (5) \\n', 'newly added line (6) \\n', 'newly added line (7) \\n', 'newly added line (8) \\n', 'newly added line (9) \\n']\n"
          ],
          "name": "stdout"
        }
      ]
    },
    {
      "cell_type": "markdown",
      "metadata": {
        "id": "KFA-62AkqFp_",
        "colab_type": "text"
      },
      "source": [
        "- 두 방식 간의 차이는?\n",
        "for line in f: vs for line in f.readlines()\n",
        "  > -> 같음"
      ]
    },
    {
      "cell_type": "code",
      "metadata": {
        "id": "3T8zotR7qL-I",
        "colab_type": "code",
        "outputId": "f6a63bb7-8045-43f7-a512-b0ad5f74671f",
        "colab": {
          "base_uri": "https://localhost:8080/",
          "height": 474
        }
      },
      "source": [
        "f = open('writing_test.txt','r')\n",
        "for line in f:\n",
        "  print(line)\n",
        "f.close()"
      ],
      "execution_count": 0,
      "outputs": [
        {
          "output_type": "stream",
          "text": [
            "first line \n",
            "\n",
            "second line \n",
            "\n",
            "third line \n",
            "\n",
            "newly added line (0) \n",
            "\n",
            "newly added line (1) \n",
            "\n",
            "newly added line (2) \n",
            "\n",
            "newly added line (3) \n",
            "\n",
            "newly added line (4) \n",
            "\n",
            "newly added line (5) \n",
            "\n",
            "newly added line (6) \n",
            "\n",
            "newly added line (7) \n",
            "\n",
            "newly added line (8) \n",
            "\n",
            "newly added line (9) \n",
            "\n"
          ],
          "name": "stdout"
        }
      ]
    },
    {
      "cell_type": "code",
      "metadata": {
        "id": "USU_-uRsqcCO",
        "colab_type": "code",
        "outputId": "04d8f163-758c-4939-c06b-d2ff471d4a9f",
        "colab": {
          "base_uri": "https://localhost:8080/",
          "height": 474
        }
      },
      "source": [
        "f = open('writing_test.txt','r')\n",
        "for line in f.readlines():\n",
        "  print(line)\n",
        "f.close()"
      ],
      "execution_count": 0,
      "outputs": [
        {
          "output_type": "stream",
          "text": [
            "first line \n",
            "\n",
            "second line \n",
            "\n",
            "third line \n",
            "\n",
            "newly added line (0) \n",
            "\n",
            "newly added line (1) \n",
            "\n",
            "newly added line (2) \n",
            "\n",
            "newly added line (3) \n",
            "\n",
            "newly added line (4) \n",
            "\n",
            "newly added line (5) \n",
            "\n",
            "newly added line (6) \n",
            "\n",
            "newly added line (7) \n",
            "\n",
            "newly added line (8) \n",
            "\n",
            "newly added line (9) \n",
            "\n"
          ],
          "name": "stdout"
        }
      ]
    },
    {
      "cell_type": "markdown",
      "metadata": {
        "id": "s8rf3WidsHkh",
        "colab_type": "text"
      },
      "source": [
        "### readlines의 활용 예\n",
        "-  리스트 객체로 한 번에 불러온 뒤에, for문을 이용한 list comprehension으로 간결한 코드로 문자열을 가공할 수 있음\n",
        "- interactive 모드인 Python 콘솔에서 한 줄로 입력할 때에 유용함"
      ]
    },
    {
      "cell_type": "code",
      "metadata": {
        "id": "s-iY3o7xsMeI",
        "colab_type": "code",
        "outputId": "560372ce-f53d-42ca-8a59-271847ad6cbd",
        "colab": {
          "base_uri": "https://localhost:8080/",
          "height": 54
        }
      },
      "source": [
        "f = open('writing_test.txt','r')\n",
        "lines = f.readlines()\n",
        "lines = [l.rstrip() for l in lines]\n",
        "print(lines) # \\n이 사라짐"
      ],
      "execution_count": 0,
      "outputs": [
        {
          "output_type": "stream",
          "text": [
            "['first line', 'second line', 'third line', 'newly added line (0)', 'newly added line (1)', 'newly added line (2)', 'newly added line (3)', 'newly added line (4)', 'newly added line (5)', 'newly added line (6)', 'newly added line (7)', 'newly added line (8)', 'newly added line (9)']\n"
          ],
          "name": "stdout"
        }
      ]
    },
    {
      "cell_type": "markdown",
      "metadata": {
        "id": "vM87D5MqtpuS",
        "colab_type": "text"
      },
      "source": [
        "## read 함수 이용하여 파일 전체 읽기\n",
        "- \\n을 포함한 전체 내용을 읽어 ***한 문자열 객체***로 반환함\n",
        "- read 함수에 정수 argument를 입력함으로써 읽을 문자열 수를 조절할 수 있음\n",
        "\n"
      ]
    },
    {
      "cell_type": "code",
      "metadata": {
        "id": "IGgwvqQUuGbQ",
        "colab_type": "code",
        "outputId": "d154b4d4-8bec-4e34-cfd5-90c7e2191e12",
        "colab": {
          "base_uri": "https://localhost:8080/",
          "height": 52
        }
      },
      "source": [
        "f = open('writing_test.txt','r')\n",
        "print(f.read(20))\n",
        "f.close()"
      ],
      "execution_count": 0,
      "outputs": [
        {
          "output_type": "stream",
          "text": [
            "first line \n",
            "second l\n"
          ],
          "name": "stdout"
        }
      ]
    },
    {
      "cell_type": "markdown",
      "metadata": {
        "id": "dIsJJbQZwYCb",
        "colab_type": "text"
      },
      "source": [
        "## 파일 존재 여부 확인하기\n",
        "- os.path 모듈 내의 isfile 함수 활용\n",
        "- isfile 함수는 불 자료형을 반환함"
      ]
    },
    {
      "cell_type": "markdown",
      "metadata": {
        "id": "b9X0J2kgyYRF",
        "colab_type": "text"
      },
      "source": [
        "## 실습(2)\n",
        "- 여러 줄로 구분된 텍스트 파일을 읽고 하나의 줄로 이어 붙여서 출력하라.\n",
        "- 파일은 e-class에서 다운로드 할 것 (장범준, ‘흔들리는 꽃들 속에서 네 샴푸향이 느껴진거야‘)"
      ]
    },
    {
      "cell_type": "code",
      "metadata": {
        "id": "eB7q9GDFyal4",
        "colab_type": "code",
        "colab": {}
      },
      "source": [
        "#1\n",
        "f = open('/content/drive/My Drive/Colab Notebooks/파이썬프로그래밍/jang_flower.txt','r')\n",
        "with open('lyrics_one_sentence.txt','w') as w:\n",
        "  for l in f.readlines():\n",
        "    w.write(l.rstrip())\n",
        "f.close()\n",
        "\n",
        "#2\n",
        "f = open('/content/drive/My Drive/Colab Notebooks/파이썬프로그래밍/jang_flower.txt','r')\n",
        "with open('lyrics_one_sentence.txt','w') as w:\n",
        "  for line in f:\n",
        "    w.write(line.rstrip())\n",
        "f.close()\n",
        "\n",
        "#3\n",
        "f = open('/content/drive/My Drive/Colab Notebooks/파이썬프로그래밍/jang_flower.txt','r')\n",
        "with open('lyrics_one_sentence.txt','w') as w:\n",
        "  while True:\n",
        "    line = f.readline()\n",
        "    if not line:\n",
        "      break\n",
        "    w.write(line.rstrip())\n",
        "f.close()"
      ],
      "execution_count": 0,
      "outputs": []
    },
    {
      "cell_type": "markdown",
      "metadata": {
        "id": "KJpr39fD6ZvQ",
        "colab_type": "text"
      },
      "source": [
        "## 실습(3)\n",
        "- 텍스트 파일을 읽고 특정 단어가 등장하는 문장만 새로운 텍스트 파일로 출력하라.\n",
        "- 파일은 e-class에서 다운로드 할 것 (장범준, ‘흔들리는 꽃들 속에서 네 샴푸향이 느껴진거야‘)"
      ]
    },
    {
      "cell_type": "code",
      "metadata": {
        "id": "JRSjrvOS8QYQ",
        "colab_type": "code",
        "outputId": "5738579d-2b2d-4702-dc03-42c32e2732ff",
        "colab": {
          "base_uri": "https://localhost:8080/",
          "height": 70
        }
      },
      "source": [
        "#1\n",
        "f = open('/content/drive/My Drive/Colab Notebooks/파이썬프로그래밍/jang_flower.txt','r')\n",
        "with open('lyrics_result.txt','w') as w:\n",
        "  word = input()\n",
        "  for line in f.readlines():\n",
        "    if word in line:\n",
        "      w.write(line)\n",
        "f.close()\n",
        "\n",
        "#2\n",
        "f = open('/content/drive/My Drive/Colab Notebooks/파이썬프로그래밍/jang_flower.txt','r')\n",
        "with open('lyrics_result.txt','w') as w:\n",
        "  word = input()\n",
        "  for line in f:\n",
        "    if word in line:\n",
        "      w.write(line)\n",
        "\n",
        "#3\n",
        "f = open('/content/drive/My Drive/Colab Notebooks/파이썬프로그래밍/jang_flower.txt','r')\n",
        "with open('lyrics_result.txt','w') as w:\n",
        "  word = input()\n",
        "  while True:\n",
        "    line = f.readline()\n",
        "    if not line:\n",
        "      break\n",
        "    if word in line:\n",
        "      w.write(line)"
      ],
      "execution_count": 0,
      "outputs": [
        {
          "output_type": "stream",
          "text": [
            "5\n",
            "5\n",
            "5\n"
          ],
          "name": "stdout"
        }
      ]
    },
    {
      "cell_type": "markdown",
      "metadata": {
        "id": "EFVwC-AxB3A-",
        "colab_type": "text"
      },
      "source": [
        "## 실습(4)\n",
        "- 텍스트 파일을 읽고 주어진 단어들이 등장하는 횟수를 출력하고, 등장횟수들의 평균을 출력하라\n",
        "- 파일은 e-class에서 다운로드 할 것 (Wham, ‘Last Christmas‘)\n"
      ]
    },
    {
      "cell_type": "code",
      "metadata": {
        "id": "vaC9cpiQFZHw",
        "colab_type": "code",
        "colab": {}
      },
      "source": [
        "f = open('/content/drive/My Drive/Colab Notebooks/파이썬프로그래밍/last_christmas.txt', encoding='UTF8')\n",
        "words_list = ['Christmas', 'give', 'heart']\n",
        "sum_count = 0\n",
        "each_count = [0, 0 ,0]\n",
        "with open('christmas_count.txt', 'w') as w:\n",
        "  for line in f:\n",
        "    for i in range(len(words_list)):\n",
        "      if words_list[i] in line:\n",
        "        each_count[i]+=1\n",
        "        sum_count+=1\n",
        "  for i in range(len(words_list)):\n",
        "    w.write('%s : %d\\n'%(words_list[i],each_count[i]))\n",
        "  w.write('Average: %d'%sum_count)"
      ],
      "execution_count": 0,
      "outputs": []
    },
    {
      "cell_type": "markdown",
      "metadata": {
        "id": "C7lWKHPnLCDK",
        "colab_type": "text"
      },
      "source": [
        "## count_each_letter"
      ]
    },
    {
      "cell_type": "markdown",
      "metadata": {
        "id": "roltyn4dLH1J",
        "colab_type": "text"
      },
      "source": [
        "# Modules and Packages"
      ]
    },
    {
      "cell_type": "markdown",
      "metadata": {
        "id": "oMt7khkLMRxN",
        "colab_type": "text"
      },
      "source": [
        "## 모듈 (Module)\n",
        "- 정의\n",
        "  - (관련성이 깊은) 함수나 변수 또는 클래스들을 모아 놓은 파일\n",
        "  - **.py 확장자를 갖는 일반적인 하나의 Python 파일**\n",
        "\n",
        "- 여러 모듈로 구성된 프로그램\n",
        "  - 여러 모듈로 프로그램을 구성하는 것이 강제되는 것은 아님\n",
        "  - 복잡한 프로그램의 경우, 하나의 모듈에 모든 코드를 작성하기보다는 여러 모듈에 나누어 작성하는 것이 관리에 이점이 있음\n",
        "  - 특정 모듈에 작성되어 있는 클래스, 함수, 변수 등을 다른 모듈에서 불러와서 사용 가능\n",
        "\n"
      ]
    },
    {
      "cell_type": "markdown",
      "metadata": {
        "id": "aC6jjgMCNDGw",
        "colab_type": "text"
      },
      "source": [
        "## 모듈 자체를 불러오기\n",
        "- import 모듈명 : import dogs"
      ]
    },
    {
      "cell_type": "markdown",
      "metadata": {
        "id": "TvG97ZfWOl34",
        "colab_type": "text"
      },
      "source": [
        "## 모듈 내에 특정 식별자들을 불러오기\n",
        "  - from 모듈명 import 식별자1,식별자2..\n",
        "  - 이런식으로 불러오면 dogs.Dog(...) 안해도됨 -> Dog(...)로 가능"
      ]
    },
    {
      "cell_type": "markdown",
      "metadata": {
        "id": "pqkBHpjIQ6yZ",
        "colab_type": "text"
      },
      "source": [
        "## 모듈 내에 모든 식별자들을 불러오기\n",
        "- from 모듈명 import *\n",
        "- 위에도 모듈명을 접두어로 사용안해도됨"
      ]
    },
    {
      "cell_type": "markdown",
      "metadata": {
        "id": "kSm_qvD0RUFo",
        "colab_type": "text"
      },
      "source": [
        "## Import 문법 정리\n",
        "- 부적절한 문법\n",
        "  - import 모듈명.식별자 X\n",
        "  - dogs.py 모듈 내에 선언된 Dog 클래스를 한번에 import X\n",
        "- 정리\n",
        "  - from 없이 import만 사용된 경우에는 import 뒤에 모듈명이 와야함.\n",
        "  - 모듈내에 선언된 식별자에 접근하기 위해서는 'from 모듈명'이 있어여함\n",
        "    - import dogs.Dog (x)\n",
        "    - from dogs import Dog (o)\n",
        "  "
      ]
    },
    {
      "cell_type": "markdown",
      "metadata": {
        "id": "pP9K1FL9TKFz",
        "colab_type": "text"
      },
      "source": [
        "## Module Import 시 주의할 점\n",
        "- 식별자 중복\n",
        "  - 모듈 import에서만 나타나는 문제는 아니며, 한 모듈 내에서 동일한 식별자를 여러 번 사용한 경우에도 마지막에 실행된 문장만이\n",
        "효력이 있게 됨"
      ]
    },
    {
      "cell_type": "markdown",
      "metadata": {
        "id": "Q10RnR8YagnL",
        "colab_type": "text"
      },
      "source": [
        "## 패키지\n",
        "- dot (.)을 이용하여 Python 모듈을 계층적으로 관리할 수 있게 해주는 도구\n",
        "- Python 모듈들이 들어있는 디렉토리\n",
        "- 많은 파일들을 관리할 때에 관련성이 큰 것들끼리 서브 디렉토리에 모아 놓듯이, Python 모듈들도 계층화하여 관리할 수 있음"
      ]
    },
    {
      "cell_type": "markdown",
      "metadata": {
        "id": "aI-xLeAUx-9c",
        "colab_type": "text"
      },
      "source": [
        "# Set"
      ]
    },
    {
      "cell_type": "markdown",
      "metadata": {
        "id": "bXg5ckvtyAvC",
        "colab_type": "text"
      },
      "source": [
        "## Set\n",
        "- 중괄호 기호 {} 사용\n",
        "  - a_set ={item1,item2..}\n",
        "  - 여러가지 값들이 아이템으로 공존가능\n",
        "  - 빈 {}을 사용할 경우 set(집합자료형) x,dictionary 자료형이 된다. \n",
        "-set() 함수 사용\n",
        "  - 대입안한 빈 set(집합 자료형) 생성 가능\n",
        "  - List, tuple, string 등의 시퀀스 데이터 타입을 대입\n",
        "  - 시퀀스 데이터 타입 내 각 아이템들이 집합 자료형의 아이템으로 포함됨"
      ]
    },
    {
      "cell_type": "code",
      "metadata": {
        "id": "kNVJ4cg0HFWn",
        "colab_type": "code",
        "outputId": "0cbc80b3-28c9-4224-fac0-3c83191c0c04",
        "colab": {
          "base_uri": "https://localhost:8080/",
          "height": 52
        }
      },
      "source": [
        "print(type(set()))\n",
        "str_obj ='apple'\n",
        "print(set(str_obj)) # 중복은 생략되는 것을 알아두자."
      ],
      "execution_count": 0,
      "outputs": [
        {
          "output_type": "stream",
          "text": [
            "<class 'set'>\n",
            "{'a', 'p', 'l', 'e'}\n"
          ],
          "name": "stdout"
        }
      ]
    },
    {
      "cell_type": "markdown",
      "metadata": {
        "id": "rxoCeh9dJ4QZ",
        "colab_type": "text"
      },
      "source": [
        "- 다른 시퀀스 자료형으로 변환\n",
        "  - list,tuple,str(set())로 사용해서 변환 가능"
      ]
    },
    {
      "cell_type": "markdown",
      "metadata": {
        "id": "dOzCSS3bKCS2",
        "colab_type": "text"
      },
      "source": [
        "## Set(집합 자료형)의 특성\n",
        "- mutable 타입\n",
        "  - List 자료형과 동일\n",
        "  - Tuple,string 자료형은 immutable 타입\n",
        "- List 자료형과의 차이점\n",
        "  - 중복 아이템 제거, 유니크한 아이템만 남음\n",
        "    - hash value를 통해 아이템 판별\n",
        "    - hash object만 set의 아이템이 됨.\n",
        "  - 순서 지정 x\n",
        "    - for loop 사용가능, 하지만 순서 일정x\n",
        "    - Indexing, Slicing 사용 x\n",
        "    "
      ]
    },
    {
      "cell_type": "markdown",
      "metadata": {
        "id": "164eOC18Mpqn",
        "colab_type": "text"
      },
      "source": [
        "## Hashing\n",
        "- Hash function\n",
        "  - 임의의 길이의 데이터를 고정된 길이의 데이터로\n",
        "맵핑하는 함수\n",
        "  - 데이터베이스에서 검색의 속도를 높여줌\n",
        "- Hash value\n",
        "  - Hash function에 의한 반환 값\n",
        "  - **동일한 key는 같은 hash value이지만 hash value가 같다고 동일한 key는 아님**\n",
        "- 객체의 값에 특정한 int 값 부여\n",
        "  - 한번 실행은 int값 유지, but 새롭게 실행시, 부여되는 int값 변화 가능\n",
        "- hash()\n",
        "  - 객체의 class에 정의되어 있는 \n",
        "  \\__hash\\__(self) 함수를 호출"
      ]
    },
    {
      "cell_type": "code",
      "metadata": {
        "id": "V-4SC3WlV-kC",
        "colab_type": "code",
        "outputId": "8496bf3d-48c2-4b74-946c-910f330a15b9",
        "colab": {
          "base_uri": "https://localhost:8080/",
          "height": 87
        }
      },
      "source": [
        "a = (1,3,5)\n",
        "b = 320\n",
        "print(hash(a))\n",
        "print(a.__hash__())\n",
        "print(hash(b))\n",
        "print(b.__hash__())"
      ],
      "execution_count": 0,
      "outputs": [
        {
          "output_type": "stream",
          "text": [
            "2528501712789647984\n",
            "2528501712789647984\n",
            "320\n",
            "320\n"
          ],
          "name": "stdout"
        }
      ]
    },
    {
      "cell_type": "markdown",
      "metadata": {
        "id": "XXwQCGZYWj-0",
        "colab_type": "text"
      },
      "source": [
        "## hash() vs id()\n",
        "- id()\n",
        "  - 객체의 identity\n",
        "  - **동일한 값이여도 다른 id 갖는 경우가 있음**\n",
        "  - **같은 id이면 무조건 같은 값**\n",
        "- hash()\n",
        "  - hash function()으로 맵핑한 정수 값 반환\n",
        "  - **동일한 값은 반드시 같은 hash value**\n",
        "  - **같은 hash value여도 같은 값 아닐 수 있음**\n",
        "- **값의 unique를 확인하는데는 hash가 더 효율적**\n",
        "  - id는 다르더라도 다 체크\n",
        "  -hash value는 같은 것 만 체크"
      ]
    },
    {
      "cell_type": "markdown",
      "metadata": {
        "id": "jhx7HOUCZAuq",
        "colab_type": "text"
      },
      "source": [
        "---\n",
        "- immutable 타입\n",
        "  - 숫자,string,tuple 등\n",
        "  - hashable 타입\n",
        "- mutable 타입\n",
        "  - set,list,dictionary\n",
        "  - 객체의 값이 바뀌면 hash value는 바껴야하기 떄문에 unhashable 타입임.\n",
        "    - 집합 객체(set)의 아이템으로 포함 x"
      ]
    },
    {
      "cell_type": "markdown",
      "metadata": {
        "id": "BKfqlZO5eHX6",
        "colab_type": "text"
      },
      "source": [
        "## 실습\n",
        "다음 리스트에서 중복된 숫자들을 제거하라\n",
        "\n",
        "a =[1,2,3,3,3,4,5,7,7]\n",
        "\n",
        "1. 집합 자료형을 사용하지 않고 리스트에서 중복된 숫자를 제거한 후 결과를 리스트 형태로 출력\n",
        "\n",
        "2. 집합 자료형을 사용하여 리스트에서 중복된 숫자를 제거"
      ]
    },
    {
      "cell_type": "code",
      "metadata": {
        "id": "7AuwDsDWeItP",
        "colab_type": "code",
        "outputId": "083f5928-f12e-4c7a-aee9-9b227d13e83c",
        "colab": {
          "base_uri": "https://localhost:8080/",
          "height": 34
        }
      },
      "source": [
        "#1\n",
        "a =[1,2,3,3,3,4,5,7,7]\n",
        "\n",
        "lst =[]\n",
        "for i in range(len(a)):\n",
        "  if a[i] not in lst:\n",
        "    lst.append(a[i])\n",
        "\n",
        "lst"
      ],
      "execution_count": 0,
      "outputs": [
        {
          "output_type": "execute_result",
          "data": {
            "text/plain": [
              "[1, 2, 3, 4, 5, 7]"
            ]
          },
          "metadata": {
            "tags": []
          },
          "execution_count": 132
        }
      ]
    },
    {
      "cell_type": "code",
      "metadata": {
        "id": "spsONj6EgqH0",
        "colab_type": "code",
        "outputId": "60f6413f-4c39-4c7d-ee59-cb53bde2a0b7",
        "colab": {
          "base_uri": "https://localhost:8080/",
          "height": 34
        }
      },
      "source": [
        "#2\n",
        "a =[1,2,3,3,3,4,5,7,7]\n",
        "a=set(a)\n",
        "a=list(a)\n",
        "a"
      ],
      "execution_count": 0,
      "outputs": [
        {
          "output_type": "execute_result",
          "data": {
            "text/plain": [
              "[1, 2, 3, 4, 5, 7]"
            ]
          },
          "metadata": {
            "tags": []
          },
          "execution_count": 133
        }
      ]
    },
    {
      "cell_type": "markdown",
      "metadata": {
        "id": "O4R5HvJfu63l",
        "colab_type": "text"
      },
      "source": [
        "## 아이템 추가 및 삭제\n",
        "- 아이템 추가\n",
        "  - add(item)을 통해 추가 가능\n",
        "  - 객체 자체를 수정하는 방식"
      ]
    },
    {
      "cell_type": "code",
      "metadata": {
        "id": "bhy5ayRHxFqK",
        "colab_type": "code",
        "outputId": "86f518f3-3353-4abd-d409-c43fb35b7abd",
        "colab": {
          "base_uri": "https://localhost:8080/",
          "height": 70
        }
      },
      "source": [
        "s={1,2,3,4,5}\n",
        "print(id(s))\n",
        "s.add(8)\n",
        "print(s)\n",
        "print(id(s))0"
      ],
      "execution_count": 0,
      "outputs": [
        {
          "output_type": "stream",
          "text": [
            "140530208868168\n",
            "{1, 2, 3, 4, 5, 8}\n",
            "140530208868168\n"
          ],
          "name": "stdout"
        }
      ]
    },
    {
      "cell_type": "markdown",
      "metadata": {
        "id": "S0x2BB5Ry04_",
        "colab_type": "text"
      },
      "source": [
        "- 아이템 삭제\n",
        "  - remove(item) 사용, 아이템 존재 x -> Error\n",
        "  - discard(item)사용, 아이템 존재 x-> 에러발생 x"
      ]
    },
    {
      "cell_type": "code",
      "metadata": {
        "id": "pmSMXIO2zEMs",
        "colab_type": "code",
        "outputId": "de0774a5-a44d-4d91-97a0-10479b6499f3",
        "colab": {
          "base_uri": "https://localhost:8080/",
          "height": 52
        }
      },
      "source": [
        "print(s)\n",
        "s.remove(8)\n",
        "print(s)"
      ],
      "execution_count": 0,
      "outputs": [
        {
          "output_type": "stream",
          "text": [
            "{1, 2, 3, 4, 5, 8}\n",
            "{1, 2, 3, 4, 5}\n"
          ],
          "name": "stdout"
        }
      ]
    },
    {
      "cell_type": "markdown",
      "metadata": {
        "id": "l41PBZZez29m",
        "colab_type": "text"
      },
      "source": [
        "- 여러 아이템을 한번에 추가\n",
        "  - update(item) 사용\n",
        "  - 객체 자체 수정"
      ]
    },
    {
      "cell_type": "code",
      "metadata": {
        "id": "83IbOaHm0fBG",
        "colab_type": "code",
        "outputId": "a96f9866-f1bc-4269-c60b-1e442a245972",
        "colab": {
          "base_uri": "https://localhost:8080/",
          "height": 52
        }
      },
      "source": [
        "print(s)\n",
        "s.update([100,200,300])\n",
        "print(s)"
      ],
      "execution_count": 0,
      "outputs": [
        {
          "output_type": "stream",
          "text": [
            "{1, 2, 3, 4, 5}\n",
            "{1, 2, 3, 4, 5, 100, 200, 300}\n"
          ],
          "name": "stdout"
        }
      ]
    },
    {
      "cell_type": "code",
      "metadata": {
        "id": "PYz2iW4E2dkG",
        "colab_type": "code",
        "outputId": "78115773-fc39-4560-a4a9-bd7f732ae8f4",
        "colab": {
          "base_uri": "https://localhost:8080/",
          "height": 34
        }
      },
      "source": [
        "s.update(('a',30))\n",
        "print(s)"
      ],
      "execution_count": 0,
      "outputs": [
        {
          "output_type": "stream",
          "text": [
            "{1, 2, 3, 4, 5, 100, 'a', 200, 300, 30}\n"
          ],
          "name": "stdout"
        }
      ]
    },
    {
      "cell_type": "code",
      "metadata": {
        "id": "p36EsxRL2sjC",
        "colab_type": "code",
        "outputId": "2b71b5ea-27b7-4d68-b792-1a5efe931748",
        "colab": {
          "base_uri": "https://localhost:8080/",
          "height": 34
        }
      },
      "source": [
        "s.update('python')\n",
        "print(s)"
      ],
      "execution_count": 0,
      "outputs": [
        {
          "output_type": "stream",
          "text": [
            "{1, 2, 3, 4, 5, 100, 'a', 200, 'y', 't', 300, 'p', 'o', 'h', 'n', 30}\n"
          ],
          "name": "stdout"
        }
      ]
    },
    {
      "cell_type": "markdown",
      "metadata": {
        "id": "_ChWNbcv2xzZ",
        "colab_type": "text"
      },
      "source": [
        "- 모든 아이템을 삭제\n",
        "  - clear() 사용"
      ]
    },
    {
      "cell_type": "code",
      "metadata": {
        "id": "TWVd7Un33HfX",
        "colab_type": "code",
        "outputId": "b1919f00-49e7-4e26-bf71-8f6dcef43040",
        "colab": {
          "base_uri": "https://localhost:8080/",
          "height": 52
        }
      },
      "source": [
        "print(s)\n",
        "s.clear()\n",
        "print(s)"
      ],
      "execution_count": 0,
      "outputs": [
        {
          "output_type": "stream",
          "text": [
            "{1, 2, 3, 4, 5, 100, 'a', 200, 'y', 't', 300, 'p', 'o', 'h', 'n', 30}\n",
            "set()\n"
          ],
          "name": "stdout"
        }
      ]
    },
    {
      "cell_type": "markdown",
      "metadata": {
        "id": "MNuvAUSi3LM8",
        "colab_type": "text"
      },
      "source": [
        "## 집합 간 비교 및 연산\n",
        "- 집합간 비교\n",
        "  - issubset, issuperset 활용"
      ]
    },
    {
      "cell_type": "code",
      "metadata": {
        "id": "SDhQExRl3ivE",
        "colab_type": "code",
        "outputId": "6129ad56-38b6-40b3-cdb7-e0b0061d144b",
        "colab": {
          "base_uri": "https://localhost:8080/",
          "height": 87
        }
      },
      "source": [
        "a = {1,2,3,4,5,6}\n",
        "b= {1,3,5}\n",
        "print(a.issubset(b))\n",
        "print(b.issubset(a))\n",
        "print(a.issuperset(b))\n",
        "print(b.issuperset(a))"
      ],
      "execution_count": 0,
      "outputs": [
        {
          "output_type": "stream",
          "text": [
            "False\n",
            "True\n",
            "True\n",
            "False\n"
          ],
          "name": "stdout"
        }
      ]
    },
    {
      "cell_type": "code",
      "metadata": {
        "id": "jDKOZlgP35Yf",
        "colab_type": "code",
        "outputId": "ad46bf8d-b5de-4f4c-d25c-fe8e151f2ffe",
        "colab": {
          "base_uri": "https://localhost:8080/",
          "height": 87
        }
      },
      "source": [
        "a ={1,2,3}\n",
        "b= {1,2,3}\n",
        "print(a.issubset(b))\n",
        "print(b.issubset(a))\n",
        "print(a.issuperset(b))\n",
        "print(b.issuperset(a))"
      ],
      "execution_count": 0,
      "outputs": [
        {
          "output_type": "stream",
          "text": [
            "True\n",
            "True\n",
            "True\n",
            "True\n"
          ],
          "name": "stdout"
        }
      ]
    },
    {
      "cell_type": "markdown",
      "metadata": {
        "id": "HciayeLo3_-F",
        "colab_type": "text"
      },
      "source": [
        "- ==, !=,>=,<=,>,< 연산자 활용\n",
        "  - ==,!= : equality 체크\n",
        "  - \\>,<,>=,<=: subset,superset 체크"
      ]
    },
    {
      "cell_type": "code",
      "metadata": {
        "id": "mLR1oWwm4MJ9",
        "colab_type": "code",
        "outputId": "b3d8e105-8eac-4848-9a82-7103aae4f2e4",
        "colab": {
          "base_uri": "https://localhost:8080/",
          "height": 52
        }
      },
      "source": [
        "a = {1,2,3,4,5,6}\n",
        "b= {1,3,5}\n",
        "print(a>b)\n",
        "print(a<b)"
      ],
      "execution_count": 0,
      "outputs": [
        {
          "output_type": "stream",
          "text": [
            "True\n",
            "False\n"
          ],
          "name": "stdout"
        }
      ]
    },
    {
      "cell_type": "markdown",
      "metadata": {
        "id": "AQkjLf_D4iPj",
        "colab_type": "text"
      },
      "source": [
        "- 교집합\n",
        "  - intersection 메서드, 또는 & 연산자 활용"
      ]
    },
    {
      "cell_type": "code",
      "metadata": {
        "id": "ZV8MgVn44nRg",
        "colab_type": "code",
        "outputId": "e3d31df6-4e25-4aa6-a6a9-3053c0280667",
        "colab": {
          "base_uri": "https://localhost:8080/",
          "height": 52
        }
      },
      "source": [
        "a = {1,2,3,4,5,6}\n",
        "b= {1,3,5}\n",
        "c = a.intersection(b)\n",
        "d = a&b\n",
        "print(c)\n",
        "print(d)"
      ],
      "execution_count": 0,
      "outputs": [
        {
          "output_type": "stream",
          "text": [
            "{1, 3, 5}\n",
            "{1, 3, 5}\n"
          ],
          "name": "stdout"
        }
      ]
    },
    {
      "cell_type": "markdown",
      "metadata": {
        "id": "2F4yBRZ15Cmy",
        "colab_type": "text"
      },
      "source": [
        "- 합집합\n",
        "  - union 또는  | 활용"
      ]
    },
    {
      "cell_type": "code",
      "metadata": {
        "id": "F4O6pW5-5vBL",
        "colab_type": "code",
        "outputId": "3d9016ee-4eda-4fe9-fef8-75b3d1f2aed6",
        "colab": {
          "base_uri": "https://localhost:8080/",
          "height": 52
        }
      },
      "source": [
        "a = {1,2,3,4,5,6}\n",
        "b = {1,5,9}\n",
        "c = a.union(b)\n",
        "d = a | b\n",
        "print(c)\n",
        "print(d) "
      ],
      "execution_count": 0,
      "outputs": [
        {
          "output_type": "stream",
          "text": [
            "{1, 2, 3, 4, 5, 6, 9}\n",
            "{1, 2, 3, 4, 5, 6, 9}\n"
          ],
          "name": "stdout"
        }
      ]
    },
    {
      "cell_type": "markdown",
      "metadata": {
        "id": "43zJqTZc6WXa",
        "colab_type": "text"
      },
      "source": [
        "- 차집합\n",
        "  - difference, 또는 - 연산자 활용"
      ]
    },
    {
      "cell_type": "code",
      "metadata": {
        "id": "Ey9iN_xR6cxZ",
        "colab_type": "code",
        "outputId": "17ffcc93-4aa0-47a7-dc60-ec44dd3e304f",
        "colab": {
          "base_uri": "https://localhost:8080/",
          "height": 52
        }
      },
      "source": [
        "a = {1,2,3,4,5,6}\n",
        "b = {1,5,9}\n",
        "c= a.difference(b)\n",
        "d = b-a\n",
        "print(c)\n",
        "print(d)"
      ],
      "execution_count": 0,
      "outputs": [
        {
          "output_type": "stream",
          "text": [
            "{2, 3, 4, 6}\n",
            "{9}\n"
          ],
          "name": "stdout"
        }
      ]
    },
    {
      "cell_type": "markdown",
      "metadata": {
        "id": "nYdZehrl7BjA",
        "colab_type": "text"
      },
      "source": [
        "- len(),min(),max(),sum()\n",
        "  - list와 같이 동일하게 사용 가능\n",
        "- in, not in 연산\n",
        "- for 문에 활용\n",
        "  - **순서 일정 x**\n"
      ]
    },
    {
      "cell_type": "code",
      "metadata": {
        "id": "eRR_FdGJ7n6Z",
        "colab_type": "code",
        "outputId": "d53c7695-3449-4f3c-9f59-930ddc87fba1",
        "colab": {
          "base_uri": "https://localhost:8080/",
          "height": 140
        }
      },
      "source": [
        "a ={10,30,20,50,70,90,100}\n",
        "for item in a:\n",
        "  print(item)"
      ],
      "execution_count": 0,
      "outputs": [
        {
          "output_type": "stream",
          "text": [
            "100\n",
            "70\n",
            "10\n",
            "50\n",
            "20\n",
            "90\n",
            "30\n"
          ],
          "name": "stdout"
        }
      ]
    },
    {
      "cell_type": "markdown",
      "metadata": {
        "id": "MW11NCke70Ru",
        "colab_type": "text"
      },
      "source": [
        "## 실습"
      ]
    },
    {
      "cell_type": "markdown",
      "metadata": {
        "id": "iILlbnaO745I",
        "colab_type": "text"
      },
      "source": [
        "다음의 값들을 아이템으로 갖는 두 리스트 객체를 생성\n",
        "- 10,20,30,40,30,20,10\n",
        "- 100이하 0 이상의 모든 짝수 정수"
      ]
    },
    {
      "cell_type": "code",
      "metadata": {
        "id": "prczPF248I1Q",
        "colab_type": "code",
        "colab": {}
      },
      "source": [
        "lst1 = [10,20,30,40,30,20,10]\n",
        "lst2 = list(range(0,101,2)) # [i for i in range(0,101,2)]"
      ],
      "execution_count": 0,
      "outputs": []
    },
    {
      "cell_type": "markdown",
      "metadata": {
        "id": "lbAfGwNr8iGv",
        "colab_type": "text"
      },
      "source": [
        "두 객체를 집합 자료형으로 변환하여 합집합, 교집합 객체를 구하고, 각각을 오름차순 정렬로 출력할 것"
      ]
    },
    {
      "cell_type": "code",
      "metadata": {
        "id": "tc_yjFrA8l8f",
        "colab_type": "code",
        "outputId": "e404c4c6-f792-4bfe-faa0-a3d0d581fb04",
        "colab": {
          "base_uri": "https://localhost:8080/",
          "height": 34
        }
      },
      "source": [
        "set1 = set(lst1)\n",
        "set2 = set(lst2)\n",
        "\n",
        "set_union = set1 | set2\n",
        "set_intersection = set1.intersection(set2)\n",
        "\n",
        "sorted(set_intersection) # set_union.sort()를 하려면 리스트로 바꿔줘야함 ★"
      ],
      "execution_count": 0,
      "outputs": [
        {
          "output_type": "execute_result",
          "data": {
            "text/plain": [
              "[10, 20, 30, 40]"
            ]
          },
          "metadata": {
            "tags": []
          },
          "execution_count": 16
        }
      ]
    },
    {
      "cell_type": "markdown",
      "metadata": {
        "id": "BulqFj7a97Wy",
        "colab_type": "text"
      },
      "source": [
        "# Dictionary 데이터 타입\n",
        "- key/value 쌍들을 포함하는 자료형으로서, key를 통해 value에 접근하는 데에 특화된 자료 구조\n",
        "- {} 중괄호 기호와 콜론 (:)을 사용\n",
        "- Key, value로 여러가지 자료형이 공존할 수 있음"
      ]
    },
    {
      "cell_type": "code",
      "metadata": {
        "id": "MuzllXb39-ZJ",
        "colab_type": "code",
        "outputId": "f497c4d2-7fe4-47a2-b6c7-639eb013fc1a",
        "colab": {
          "base_uri": "https://localhost:8080/",
          "height": 34
        }
      },
      "source": [
        "dict_var={1:'hello','drum':'dong',(1,2):[1,2,3]}\n",
        "dict_var # key 값에는 unhashable 타입(리스트,딕셔너리,set) x"
      ],
      "execution_count": 0,
      "outputs": [
        {
          "output_type": "execute_result",
          "data": {
            "text/plain": [
              "{(1, 2): [1, 2, 3], 1: 'hello', 'drum': 'dong'}"
            ]
          },
          "metadata": {
            "tags": []
          },
          "execution_count": 20
        }
      ]
    },
    {
      "cell_type": "markdown",
      "metadata": {
        "id": "kvszwj8QBXrt",
        "colab_type": "text"
      },
      "source": [
        "- dict() 함수 사용\n",
        "  - dict(key1=value1, key2=value2, …, keyN=valueN)\n",
        "  - {} 와는 다르게, key값에 ''없어도 저절로 문자열로 받음\n",
        "  - 문자열이 아닌 자료형은 key값에 들어올 수 없음"
      ]
    },
    {
      "cell_type": "code",
      "metadata": {
        "id": "2-hY_1_oDZkd",
        "colab_type": "code",
        "outputId": "9550a91a-ff30-44c1-816d-c7c91ee89f40",
        "colab": {
          "base_uri": "https://localhost:8080/",
          "height": 134
        }
      },
      "source": [
        "dict_var2 = dict('key1'='hello',dong='hi',num=4)\n",
        "print(dict_var2) # key값에 아예 ''나 \"\"을 쓰면 안되는 것 같음"
      ],
      "execution_count": 0,
      "outputs": [
        {
          "output_type": "error",
          "ename": "SyntaxError",
          "evalue": "ignored",
          "traceback": [
            "\u001b[0;36m  File \u001b[0;32m\"<ipython-input-31-ddc6e47d75e2>\"\u001b[0;36m, line \u001b[0;32m1\u001b[0m\n\u001b[0;31m    dict_var2 = dict('key1'='hello',dong='hi',num=4)\u001b[0m\n\u001b[0m                    ^\u001b[0m\n\u001b[0;31mSyntaxError\u001b[0m\u001b[0;31m:\u001b[0m keyword can't be an expression\n"
          ]
        }
      ]
    },
    {
      "cell_type": "code",
      "metadata": {
        "id": "yOkscdYmCFuk",
        "colab_type": "code",
        "outputId": "3dc9f26d-e58d-49fd-968a-bee4b2b316e3",
        "colab": {
          "base_uri": "https://localhost:8080/",
          "height": 34
        }
      },
      "source": [
        "dict_var2 = dict(key1='hello',dong='hi',num=4)\n",
        "print(dict_var2) "
      ],
      "execution_count": 0,
      "outputs": [
        {
          "output_type": "stream",
          "text": [
            "{'key1': 'hello', 'dong': 'hi', 'num': 4}\n"
          ],
          "name": "stdout"
        }
      ]
    },
    {
      "cell_type": "markdown",
      "metadata": {
        "id": "hC5A0ARwDjDX",
        "colab_type": "text"
      },
      "source": [
        "- Mutable 타입\n",
        "  - 객체를 수정할 수 있음\n",
        "- Key\n",
        "  - List에서의 인덱스와 유사한 역할 수행\n",
        "  - Key의 순서가 지정되지 않음\n",
        "  - Hashable 타입이 key로 사용 가능\n",
        "  - Dictionary 생성 시, 고유한 key만 남겨짐\n",
        "- value\n",
        " - unhashable 타입도 모두 사용 가능\n",
        " - 고유하지 않은 값들도 모두 보존\n",
        " - value 순서도 역시 지정 x"
      ]
    },
    {
      "cell_type": "markdown",
      "metadata": {
        "id": "SDUcS7fPFAz4",
        "colab_type": "text"
      },
      "source": [
        "## key를 이용한 Value 접근\n",
        "- List에서의 인덱스와 같이 키를 사용함\n",
        " - dict_name[key]\n",
        " - 키가 존재하지 않으면 에러 발생"
      ]
    },
    {
      "cell_type": "code",
      "metadata": {
        "id": "srlsE2kSFJ1M",
        "colab_type": "code",
        "outputId": "e9f66dac-4035-4c38-aea2-68416b512e14",
        "colab": {
          "base_uri": "https://localhost:8080/",
          "height": 52
        }
      },
      "source": [
        "dict_var={'name':'donggyu','age':26,'job':'data_scientist'}\n",
        "print(dict_var['name'])\n",
        "print(dict_var['age'])"
      ],
      "execution_count": 0,
      "outputs": [
        {
          "output_type": "stream",
          "text": [
            "donggyu\n",
            "26\n"
          ],
          "name": "stdout"
        }
      ]
    },
    {
      "cell_type": "markdown",
      "metadata": {
        "id": "zUUIARxpGDIm",
        "colab_type": "text"
      },
      "source": [
        "- 기존 key에 대해서 value 변경"
      ]
    },
    {
      "cell_type": "code",
      "metadata": {
        "id": "DM8CCa65GFUL",
        "colab_type": "code",
        "outputId": "d41966e2-320e-4f48-c440-4c2635e304ef",
        "colab": {
          "base_uri": "https://localhost:8080/",
          "height": 34
        }
      },
      "source": [
        "dict_var['age']=25\n",
        "print(dict_var)"
      ],
      "execution_count": 0,
      "outputs": [
        {
          "output_type": "stream",
          "text": [
            "{'name': 'donggyu', 'age': 25, 'job': 'data_scientist'}\n"
          ],
          "name": "stdout"
        }
      ]
    },
    {
      "cell_type": "markdown",
      "metadata": {
        "id": "UuiQjRuGGJMH",
        "colab_type": "text"
      },
      "source": [
        "- 새로운 key/value 쌍을 추가 (key가 존재하지 않을 경우)"
      ]
    },
    {
      "cell_type": "code",
      "metadata": {
        "id": "1xpvhtl9GPYT",
        "colab_type": "code",
        "outputId": "76f0c55c-8315-44b1-a8e4-ea702b5e7ea1",
        "colab": {
          "base_uri": "https://localhost:8080/",
          "height": 34
        }
      },
      "source": [
        "dict_var['phone']='01075429928'\n",
        "print(dict_var)"
      ],
      "execution_count": 0,
      "outputs": [
        {
          "output_type": "stream",
          "text": [
            "{'name': 'donggyu', 'age': 25, 'job': 'data_scientist', 'phone': '01075429928'}\n"
          ],
          "name": "stdout"
        }
      ]
    },
    {
      "cell_type": "markdown",
      "metadata": {
        "id": "8sJx6VlbGdZL",
        "colab_type": "text"
      },
      "source": [
        "## Methods of Dictionary\n",
        "- get(key,[default])\n",
        " - key에 대응하는 value 반환\n",
        " - key가 존재하지 않으면 None 발생\n",
        " - key와 함께 default에 값을 넣으면 None 대신 그 값이 반환됨\n",
        " -default 값은 생략 가능"
      ]
    },
    {
      "cell_type": "code",
      "metadata": {
        "id": "riH81f0aHIRM",
        "colab_type": "code",
        "outputId": "16d74299-1f3c-4a19-ad51-70753fd1e682",
        "colab": {
          "base_uri": "https://localhost:8080/",
          "height": 87
        }
      },
      "source": [
        "print(dict_var)\n",
        "print(dict_var.get('name'))\n",
        "print(dict_var.get('something'))\n",
        "print(dict_var.get('something','there is nothing'))"
      ],
      "execution_count": 0,
      "outputs": [
        {
          "output_type": "stream",
          "text": [
            "{'name': 'donggyu', 'age': 25, 'job': 'data_scientist', 'phone': '01075429928'}\n",
            "donggyu\n",
            "None\n",
            "there is nothing\n"
          ],
          "name": "stdout"
        }
      ]
    },
    {
      "cell_type": "markdown",
      "metadata": {
        "id": "3mXOuLSAH7yw",
        "colab_type": "text"
      },
      "source": [
        "- pop(key)\n",
        "  - key에 대응되는 value를 반환함\n",
        "  - 해당 key/value 쌍을 객체에서 삭제\n",
        "  - key가 존재하지 않을 시, error 발생"
      ]
    },
    {
      "cell_type": "code",
      "metadata": {
        "id": "3ikb5cdhIYf3",
        "colab_type": "code",
        "outputId": "cb8d804e-f7d7-407e-d114-369af7862f08",
        "colab": {
          "base_uri": "https://localhost:8080/",
          "height": 239
        }
      },
      "source": [
        "print(dict_var)\n",
        "print(dict_var.pop('name'))\n",
        "print(dict_var.pop('something'))"
      ],
      "execution_count": 0,
      "outputs": [
        {
          "output_type": "stream",
          "text": [
            "{'name': 'donggyu', 'age': 25, 'job': 'data_scientist', 'phone': '01075429928'}\n",
            "donggyu\n"
          ],
          "name": "stdout"
        },
        {
          "output_type": "error",
          "ename": "KeyError",
          "evalue": "ignored",
          "traceback": [
            "\u001b[0;31m---------------------------------------------------------------------------\u001b[0m",
            "\u001b[0;31mKeyError\u001b[0m                                  Traceback (most recent call last)",
            "\u001b[0;32m<ipython-input-47-9c4dfd3fd9af>\u001b[0m in \u001b[0;36m<module>\u001b[0;34m()\u001b[0m\n\u001b[1;32m      1\u001b[0m \u001b[0mprint\u001b[0m\u001b[0;34m(\u001b[0m\u001b[0mdict_var\u001b[0m\u001b[0;34m)\u001b[0m\u001b[0;34m\u001b[0m\u001b[0;34m\u001b[0m\u001b[0m\n\u001b[1;32m      2\u001b[0m \u001b[0mprint\u001b[0m\u001b[0;34m(\u001b[0m\u001b[0mdict_var\u001b[0m\u001b[0;34m.\u001b[0m\u001b[0mpop\u001b[0m\u001b[0;34m(\u001b[0m\u001b[0;34m'name'\u001b[0m\u001b[0;34m)\u001b[0m\u001b[0;34m)\u001b[0m\u001b[0;34m\u001b[0m\u001b[0;34m\u001b[0m\u001b[0m\n\u001b[0;32m----> 3\u001b[0;31m \u001b[0mprint\u001b[0m\u001b[0;34m(\u001b[0m\u001b[0mdict_var\u001b[0m\u001b[0;34m.\u001b[0m\u001b[0mpop\u001b[0m\u001b[0;34m(\u001b[0m\u001b[0;34m'something'\u001b[0m\u001b[0;34m)\u001b[0m\u001b[0;34m)\u001b[0m\u001b[0;34m\u001b[0m\u001b[0;34m\u001b[0m\u001b[0m\n\u001b[0m",
            "\u001b[0;31mKeyError\u001b[0m: 'something'"
          ]
        }
      ]
    },
    {
      "cell_type": "markdown",
      "metadata": {
        "id": "qXRmT_WYJNOt",
        "colab_type": "text"
      },
      "source": [
        "- keys()\n",
        "  - key 시퀀스 반환\n",
        "  - **dict_keys 타입**"
      ]
    },
    {
      "cell_type": "code",
      "metadata": {
        "id": "5tukPxiKJWhl",
        "colab_type": "code",
        "outputId": "1f5f2573-f9c1-4246-be2c-25c632f13e55",
        "colab": {
          "base_uri": "https://localhost:8080/",
          "height": 52
        }
      },
      "source": [
        "print(dict_var)\n",
        "dict_var.keys()"
      ],
      "execution_count": 0,
      "outputs": [
        {
          "output_type": "stream",
          "text": [
            "{'age': 25, 'job': 'data_scientist', 'phone': '01075429928'}\n"
          ],
          "name": "stdout"
        },
        {
          "output_type": "execute_result",
          "data": {
            "text/plain": [
              "dict_keys(['age', 'job', 'phone'])"
            ]
          },
          "metadata": {
            "tags": []
          },
          "execution_count": 49
        }
      ]
    },
    {
      "cell_type": "markdown",
      "metadata": {
        "id": "3kIHaLTuJegb",
        "colab_type": "text"
      },
      "source": [
        "- values()\n",
        "  - value 시퀀스 반환\n",
        "  - dict_values 타입\n",
        "  "
      ]
    },
    {
      "cell_type": "code",
      "metadata": {
        "id": "rE3UKkFNJr6B",
        "colab_type": "code",
        "outputId": "6186d9d5-e186-4679-ef3f-5f56204ad06d",
        "colab": {
          "base_uri": "https://localhost:8080/",
          "height": 52
        }
      },
      "source": [
        "print(dict_var)\n",
        "dict_var.values()"
      ],
      "execution_count": 0,
      "outputs": [
        {
          "output_type": "stream",
          "text": [
            "{'age': 25, 'job': 'data_scientist', 'phone': '01075429928'}\n"
          ],
          "name": "stdout"
        },
        {
          "output_type": "execute_result",
          "data": {
            "text/plain": [
              "dict_values([25, 'data_scientist', '01075429928'])"
            ]
          },
          "metadata": {
            "tags": []
          },
          "execution_count": 50
        }
      ]
    },
    {
      "cell_type": "markdown",
      "metadata": {
        "id": "K-8Ro3loJvn1",
        "colab_type": "text"
      },
      "source": [
        "- items()\n",
        "  - (key,value) 튜플들을 포함하는 시퀀스 반환\n",
        "  - dict_items 타입"
      ]
    },
    {
      "cell_type": "code",
      "metadata": {
        "id": "DRLeL7okJ9p0",
        "colab_type": "code",
        "outputId": "d022f8ef-fdc9-4b3c-b1b3-a01e78953435",
        "colab": {
          "base_uri": "https://localhost:8080/",
          "height": 52
        }
      },
      "source": [
        "print(dict_var)\n",
        "dict_var.items()"
      ],
      "execution_count": 0,
      "outputs": [
        {
          "output_type": "stream",
          "text": [
            "{'age': 25, 'job': 'data_scientist', 'phone': '01075429928'}\n"
          ],
          "name": "stdout"
        },
        {
          "output_type": "execute_result",
          "data": {
            "text/plain": [
              "dict_items([('age', 25), ('job', 'data_scientist'), ('phone', '01075429928')])"
            ]
          },
          "metadata": {
            "tags": []
          },
          "execution_count": 51
        }
      ]
    },
    {
      "cell_type": "markdown",
      "metadata": {
        "id": "-NY4ZQwsK499",
        "colab_type": "text"
      },
      "source": [
        "- **위의 반환되는 세가지 타입들은 값의 수정과 indexing\n",
        "사용이 불가능하지만, for문에는 사용 가능**"
      ]
    },
    {
      "cell_type": "code",
      "metadata": {
        "id": "JII_xRHeK51j",
        "colab_type": "code",
        "outputId": "69946718-c7c1-49a1-d2e2-4ade435ba6ad",
        "colab": {
          "base_uri": "https://localhost:8080/",
          "height": 70
        }
      },
      "source": [
        "for key in dict_var.keys():\n",
        "  print(key,dict_var[key])"
      ],
      "execution_count": 0,
      "outputs": [
        {
          "output_type": "stream",
          "text": [
            "age 25\n",
            "job data_scientist\n",
            "phone 01075429928\n"
          ],
          "name": "stdout"
        }
      ]
    },
    {
      "cell_type": "code",
      "metadata": {
        "id": "XB-pTM6tLIEC",
        "colab_type": "code",
        "outputId": "654ee857-6680-4f02-e960-6bb42f57d81e",
        "colab": {
          "base_uri": "https://localhost:8080/",
          "height": 70
        }
      },
      "source": [
        "for value in dict_var.values():\n",
        "  print(value)"
      ],
      "execution_count": 0,
      "outputs": [
        {
          "output_type": "stream",
          "text": [
            "25\n",
            "data_scientist\n",
            "01075429928\n"
          ],
          "name": "stdout"
        }
      ]
    },
    {
      "cell_type": "code",
      "metadata": {
        "id": "kZEPJT2BLLWH",
        "colab_type": "code",
        "outputId": "7c96b182-3cfe-4ceb-90df-d405ee78f84f",
        "colab": {
          "base_uri": "https://localhost:8080/",
          "height": 70
        }
      },
      "source": [
        "for key,value in dict_var.items():\n",
        "  print(key,value)"
      ],
      "execution_count": 0,
      "outputs": [
        {
          "output_type": "stream",
          "text": [
            "age 25\n",
            "job data_scientist\n",
            "phone 01075429928\n"
          ],
          "name": "stdout"
        }
      ]
    },
    {
      "cell_type": "markdown",
      "metadata": {
        "id": "oPjbSVitLhVu",
        "colab_type": "text"
      },
      "source": [
        "-  keys() 없이 for문을 사용할 시, 자동으로 key에 대해 loop 적용"
      ]
    },
    {
      "cell_type": "code",
      "metadata": {
        "id": "UD41KsUrLiZL",
        "colab_type": "code",
        "outputId": "c121d5a0-6eb4-4fb5-d827-df4fbc53c92e",
        "colab": {
          "base_uri": "https://localhost:8080/",
          "height": 70
        }
      },
      "source": [
        "for key in dict_var:\n",
        "  print(key,dict_var[key])"
      ],
      "execution_count": 0,
      "outputs": [
        {
          "output_type": "stream",
          "text": [
            "age 25\n",
            "job data_scientist\n",
            "phone 01075429928\n"
          ],
          "name": "stdout"
        }
      ]
    },
    {
      "cell_type": "markdown",
      "metadata": {
        "id": "zL1Sh8KbLsxJ",
        "colab_type": "text"
      },
      "source": [
        "- in, not in 연산자 사용\n",
        "  - key, value의 존재 여부 확인\n"
      ]
    },
    {
      "cell_type": "code",
      "metadata": {
        "id": "fo_4U07HM9Xc",
        "colab_type": "code",
        "outputId": "d30d0f10-854a-48c0-937f-0ee4906718a1",
        "colab": {
          "base_uri": "https://localhost:8080/",
          "height": 52
        }
      },
      "source": [
        "print(25 in dict_var.values())\n",
        "print('name' in dict_var.keys())"
      ],
      "execution_count": 0,
      "outputs": [
        {
          "output_type": "stream",
          "text": [
            "True\n",
            "False\n"
          ],
          "name": "stdout"
        }
      ]
    },
    {
      "cell_type": "markdown",
      "metadata": {
        "id": "Vb5_yCZENFAg",
        "colab_type": "text"
      },
      "source": [
        "keys() 메서드를 사용하지 않으면 자동으로 key에 대해 확인함"
      ]
    },
    {
      "cell_type": "code",
      "metadata": {
        "id": "5lCRMR46NOAh",
        "colab_type": "code",
        "outputId": "8b3d753d-07e3-4ebd-95aa-bc4173d7c655",
        "colab": {
          "base_uri": "https://localhost:8080/",
          "height": 34
        }
      },
      "source": [
        "print('name' in dict_var)"
      ],
      "execution_count": 0,
      "outputs": [
        {
          "output_type": "stream",
          "text": [
            "False\n"
          ],
          "name": "stdout"
        }
      ]
    },
    {
      "cell_type": "markdown",
      "metadata": {
        "id": "-BKsZC3lNR8Q",
        "colab_type": "text"
      },
      "source": [
        "- len 함수 사용 가능"
      ]
    },
    {
      "cell_type": "code",
      "metadata": {
        "id": "cijwRH8ZNVv9",
        "colab_type": "code",
        "outputId": "221b4600-9262-4a96-cae6-81c7f8ec8188",
        "colab": {
          "base_uri": "https://localhost:8080/",
          "height": 34
        }
      },
      "source": [
        "len(dict_var)"
      ],
      "execution_count": 0,
      "outputs": [
        {
          "output_type": "execute_result",
          "data": {
            "text/plain": [
              "3"
            ]
          },
          "metadata": {
            "tags": []
          },
          "execution_count": 60
        }
      ]
    },
    {
      "cell_type": "markdown",
      "metadata": {
        "id": "w-t1rJQ4NXvE",
        "colab_type": "text"
      },
      "source": [
        "## 실습\n",
        "list_a는 지각한 학생들의 이름이고, list_b는 각 학생이 지각한 횟수이다.\n",
        "\n",
        "- list_a = ['A', 'B', 'C', 'D', 'E']\n",
        "\n",
        "- list_b = [1, 1, 2, 1, 3]\n"
      ]
    },
    {
      "cell_type": "markdown",
      "metadata": {
        "id": "Fkxp83AwOhGV",
        "colab_type": "text"
      },
      "source": [
        "1) 학생의 이름을 key로 가지며, 각 학생이 지각한 횟수를 value로 갖는 dictionary를 생성하고 출력하라\n",
        "({‘A’: 1, ‘B’:1, …, ‘E’:3})\n",
        "\n",
        "2) 아래의 list를 이용하여 1)에서 생성된 dictionary를 업데이트하고 업데이트된 dictionary를 출력하라\n",
        "(list_c는 수업마다 지각한 학생들이 기록된 리스트이며, 하루에 한 명씩만 지각했다고 가정한다.)\n",
        "\n",
        "- list_c = ['A', 'C', 'E', 'F', 'G', 'B', 'A']\n"
      ]
    },
    {
      "cell_type": "code",
      "metadata": {
        "id": "p6B6cIQDO486",
        "colab_type": "code",
        "colab": {}
      },
      "source": [
        "list_a = ['A', 'B', 'C', 'D', 'E']\n",
        "list_b = [1, 1, 2, 1, 3]"
      ],
      "execution_count": 0,
      "outputs": []
    },
    {
      "cell_type": "code",
      "metadata": {
        "id": "sDDMZnFHNY9A",
        "colab_type": "code",
        "outputId": "bc1763df-5a80-4b11-a339-ab499d1bfea5",
        "colab": {
          "base_uri": "https://localhost:8080/",
          "height": 34
        }
      },
      "source": [
        "dict_late={}\n",
        "for i,j in zip(list_a,list_b):\n",
        "  dict_late[i] =j\n",
        "\n",
        "dict_late"
      ],
      "execution_count": 0,
      "outputs": [
        {
          "output_type": "execute_result",
          "data": {
            "text/plain": [
              "{'A': 1, 'B': 1, 'C': 2, 'D': 1, 'E': 3}"
            ]
          },
          "metadata": {
            "tags": []
          },
          "execution_count": 76
        }
      ]
    },
    {
      "cell_type": "code",
      "metadata": {
        "id": "2ZrnHD71Py7-",
        "colab_type": "code",
        "outputId": "5e8cb5ed-14b4-46ec-f20a-a3cc5bc96aa7",
        "colab": {
          "base_uri": "https://localhost:8080/",
          "height": 34
        }
      },
      "source": [
        "list_c = ['A', 'C', 'E', 'F', 'G', 'B', 'A']\n",
        "for i in list_c:\n",
        "  if i in dict_late.keys():\n",
        "    dict_late[i]+=1\n",
        "  else:\n",
        "    dict_late[i]=1\n",
        "\n",
        "dict_late"
      ],
      "execution_count": 0,
      "outputs": [
        {
          "output_type": "execute_result",
          "data": {
            "text/plain": [
              "{'A': 3, 'B': 2, 'C': 3, 'D': 1, 'E': 4, 'F': 1, 'G': 1}"
            ]
          },
          "metadata": {
            "tags": []
          },
          "execution_count": 77
        }
      ]
    },
    {
      "cell_type": "markdown",
      "metadata": {
        "id": "dlol_GnagD8W",
        "colab_type": "text"
      },
      "source": [
        "## 실습\n",
        "- 파일을 읽고 등장하는 각 단어의 등장 횟수를 셀 것\n",
        "- “ “ 한 칸의 공백으로 구분하여, 하나 이상 연속으로 등장하는 글자를 단어로 정의함\n",
        "- 등장 횟수가 10회 이상인 단어들에 대해서, 단어를 기준으로 오름차순 정렬하여 단어, 등장 횟수를 함께 출력\n"
      ]
    },
    {
      "cell_type": "code",
      "metadata": {
        "id": "OB_hCl_gRwOT",
        "colab_type": "code",
        "outputId": "b1c9e88c-a1a3-447d-fcb1-5e8aa7612bfd",
        "colab": {
          "base_uri": "https://localhost:8080/",
          "height": 72
        }
      },
      "source": [
        "with open('/content/drive/My Drive/Colab Notebooks/파이썬프로그래밍/example.txt','r') as f:\n",
        "  line_list=[]\n",
        "  for line in f:\n",
        "    line_list.append(line)\n",
        "  #print(line_list)\n",
        "\n",
        "  words= ''.join(line_list) \n",
        "  #print(words)\n",
        "\n",
        "  word_list = words.split(' ')\n",
        "  print(word_list)\n",
        "\n",
        "word_dict={}\n",
        "for word in word_list:\n",
        "  if word not in word_dict:\n",
        "    word_dict[word]=1\n",
        "  else:\n",
        "    word_dict[word]+=1\n",
        "\n",
        "top10_dict={}\n",
        "for key in word_dict.keys():\n",
        "  if word_dict[key]>=10:\n",
        "    top10_dict[key]= word_dict[key]\n",
        "\n",
        "modify_dict={}\n",
        "for word in sorted(top10_dict):\n",
        "  modify_dict[word]= top10_dict[word]\n",
        "\n",
        "print(modify_dict) "
      ],
      "execution_count": 0,
      "outputs": [
        {
          "output_type": "stream",
          "text": [
            "['the', 'hangman', 'summoned', 'assistance,', 'and', 'with', 'help', 'tied', 'the', 'cap', 'over', \"white's\", 'face', 'with', 'a', 'handkerchief.\\nit', 'was', 'not', 'always', 'easy', 'to', 'get', 'a', 'hangman', 'so', 'cheap,', 'as', 'i', 'have', 'already', 'indicated', 'on', 'a', 'previous', 'page.\\nwe', 'have', 'here', 'the', 'direct', 'absorption', 'into', 'the', 'body', 'proper', 'of', 'foodstuffs', 'precisely', 'as', 'the', 'animal', 'takes', 'in', 'water', 'and', 'oxygen.\\nhe', 'indicated', 'an', 'interest', 'in', 'writing.', 'an', 'employment', 'counselor', 'testified,', 'on', 'the', 'basis', 'of', 'a', 'general', 'aptitude', 'test', 'oswald', 'had', 'taken,\\nand', 'tempted', 'him', 'to', 'take', 'to', 'fraudulent', 'insurance', 'as', 'a', 'certain', 'method', 'of', 'achieving', 'fortune.\\nminimum', 'wages', 'have', 'been', 'established', 'and', 'other', 'wages', 'adjusted', 'toward', 'a', 'rising', 'standard', 'of', 'living.\\nupon', 'these', 'and', 'the', 'private', 'visitations', 'made', 'by', 'various', 'members', 'the', 'society', 'obtained', 'the', 'facts,\\na', 'letter,', 'which', 'afforded', 'an', 'additional', 'clue,', 'was', 'also', 'found', 'in', 'the', 'pocket', 'of', 'the', 'deceased.', 'still', 'it', 'was', 'many', 'weeks', 'before', 'any', 'arrest', 'was', 'made.\\nin', 'the', 'absence', 'of', 'very', 'definite', 'negative', 'evidence,', 'i', 'think', 'it', 'is', 'permissible', 'to', 'say', 'that', 'in', 'an', 'exhibit', 'such', 'as', 'five', 'seven', 'three\\nthe', 'moral', 'welfare', 'of', 'the', 'inmates', 'was', 'as', 'closely', 'looked', 'after', 'as', 'the', 'physical.\\nhe', 'said', 'he', 'loved', 'me', 'but', 'that', 'it', 'would', 'be', 'better', 'for', 'me', 'if', 'i', 'went', 'to', 'russia,', 'and', 'what', 'he', 'had', 'in', 'mind', 'i', \"don't\", 'know.', 'end', 'quote.\\nwere', 'known', 'to', 'be', 'what', 'ferrari', 'had', 'worn', 'when', 'last', 'seen.\\ninstead', 'of', 'ventilating', 'the', 'apartments,', 'they', 'only', 'serve', 'to', 'convey', 'the', 'offensive', 'effluvia', 'arising', 'from', 'the', 'decaying', 'animal', 'matter', 'into', 'the', 'diningrooms.\\nhe', 'looked', 'like', 'he', 'was', 'looking', 'down', 'toward', 'the', 'trinity', 'river', 'and', 'the', 'triple', 'underpass', 'down', 'at', 'the', 'end', '', 'toward', 'the', 'end', 'of', 'elm', 'street.', 'and\\nprs', 'also', 'maintains', 'an', 'album', 'of', 'photographs', 'and', 'descriptions', 'of', 'about', 'twelve', 'to', 'fifteen', 'individuals', 'who', 'are', 'regarded', 'as', 'clear', 'risks', 'to', 'the', 'president\\nthe', 'security', 'processing', 'of', 'gifts', 'sent', 'to', 'the', 'president,', 'and', 'technical', 'inspections', 'against', 'covert', 'listening', 'devices.\\nwith', 'the', 'means', 'of', 'earning', 'an', 'honest', 'livelihood', 'if', 'so', 'disposed.\\nand', 'who', 'expiated', 'his', 'crime', 'on', 'the', 'eighth', 'september,', 'eighteen', 'sixtyeight.\\nand', 'he', 'wanted', 'to', 'be', 'on', 'the', 'winning', 'side', 'so', 'that', 'ten', 'thousand', 'years', 'fromnow', 'people', 'would', 'look', 'in', 'the', 'history', 'books', 'and', 'say,', 'well,', 'this', 'man', 'was', 'ahead', 'of', 'his', 'time.\\nnor', 'were', 'the', 'misdemeanants', 'and', 'bail', 'prisoners', 'any', 'longer', 'separated', 'from', 'those', 'whose', 'crimes', 'were', 'of', 'a', 'more', 'serious', 'character.\\nthis', 'was', 'effected', 'by', 'stopping', 'the', 'nearly', 'indiscriminate', 'admission', 'of', 'visitors,', 'which', 'had', 'hitherto', 'prevailed', 'all', 'over', 'the', 'jail.\\nthe', 'essential', 'character', 'of', 'vegetable', 'life', 'is', 'the', 'exhalation', 'of', 'oxygen,', 'which', 'is', 'effected', 'through', 'the', 'agency', 'of', 'light.\\nmeanwhile,', 'truly', 'had', 'run', 'up', 'several', 'steps', 'toward', 'the', 'third', 'floor.\\nhe', 'is', 'quite', 'content', 'to', 'die\\nmany', 'of', 'the', 'lowest', 'forms', 'of', 'life', 'have', 'long', 'been', 'puzzles\\nand', 'they', 'were', 'exacted', 'to', 'relieve', 'a', 'rich', 'corporation', 'from', 'paying', 'for', 'the', 'maintenance', 'of', 'their', 'own', 'prison.\\nthere', 'was', 'the', \"prisoner's\", 'poverty,', 'his', 'inability', 'to', 'account', 'for', 'himself', 'on', 'the', 'night', 'of', 'the', 'murder,', 'and', 'his', 'possession', 'of', 'the', 'property', 'of', 'the', 'murdered', 'man.\\nat', 'that', 'time', 'the', 'mild', 'and', 'intelligent', 'prison', 'discipline', 'in', 'force', 'in', 'pennsylvania,', 'the', 'legacy', 'of', 'the', 'old', 'quaker', 'immigrants,\\nfrazier', 'met', 'oswald', 'at', 'the', 'kitchen', 'door', 'and', 'together', 'they', 'walked', 'to', 'the', 'car.\\ni', 'am', 'increasingly', 'aware', 'of', 'the', 'presence,', 'in', 'all', 'thing,', 'of', 'lebizen,', 'shop', 'party', 'secretary,', 'fat,', 'fortyish,', 'and', 'jovial', 'on', 'the', 'outside.\\nthe', 'female', \"felons'\", 'wards', 'i', 'shall', 'describe', 'at', 'length', 'in', 'the', 'next', 'chapter,\\nthis', 'was', 'known', 'to', 'some', 'clerks', 'in', 'the', 'office,', 'who', 'began', 'to', 'consider', 'how', 'they', 'might', 'lay', 'hands', 'on', 'a', 'lot', 'of', 'cash.\\ni', 'can', 'now', 'afford', 'to', 'wait', 'until', 'new', 'orleans', 'forwarded', 'the', 'necessary', 'papers', 'to', 'me', 'to', 'show', 'me', 'i', 'now', 'had', 'all', 'the', 'information.\\nagent', 'fain', 'was', 'not', 'satisfied', 'by', 'this', 'interview', 'and', 'arranged', 'to', 'see', 'oswald', 'again', 'on', 'august', 'sixteen,', 'nineteen', 'sixtytwo.\\nsome', 'people', 'try', 'to', 'tell', 'me', 'that', 'we', 'must', 'make', 'up', 'our', 'minds', 'that', 'for', 'the', 'future', 'we', 'shall', 'permanently', 'have', 'millions', 'of', 'unemployed\\nhill', 'jumped', 'from', 'the', 'followup', 'car', 'and', 'ran', 'to', 'the', \"president's\", 'automobile.\\nwere', 'able', 'to', 'fire', 'the', 'rounds', 'within', 'the', 'time', 'period', 'which', 'would', 'have', 'been', 'available', 'to', 'the', 'assassin', 'under', 'those', 'conditions.\\nsolomons', 'was', 'not', 'straightforward', 'in', 'his', 'replies', 'as', 'to', 'where', 'he', 'got', 'the', 'gold,', 'and', 'he', 'was', 'soon', 'placed', 'in', 'the', 'dock', 'with', 'the', 'caspars', 'and', 'moss.\\neight.', 'the', 'press', 'yard.\\nthat', 'thieves', 'or', 'depredators', 'were', 'idle', 'or', 'entirely', 'unsuccessful.\\nhe', 'relied', 'on', 'the', 'absence', 'of', 'the', 'strychnia.\\nand', 'maintaining', 'liaison', 'with', 'other', 'federal', 'agencies.', 'this', 'liaison', 'should', 'take', 'into', 'consideration\\nand', 'in', 'comparative', 'comfort,', 'with', 'a', 'bed', 'and', 'proper', 'bedding.\\nalong', 'this', 'krapps', 'crawled,', 'and', 'then', 'dropped', 'down', 'on', 'to', 'the', 'cookhouse.\\nmiss', 'turner', 'consented', 'to', 'go', 'on,', 'and', 'they', 'traveled', 'night', 'and', 'day', 'towards', 'the', 'north.\\nfrom', 'february', 'eleven', 'through', 'june', 'thirty,', 'nineteen', 'sixtyfour,\\nthe', 'crime', 'of', 'poisoning', 'has', 'always', 'been', 'viewed', 'with', 'peculiar', 'loathing', 'and', 'terror', 'in', 'this', 'country.\\nthree', 'the', 'revolver', 'in', \"oswald's\", 'possession', 'at', 'the', 'time', 'of', 'his', 'arrest', 'was', 'purchased', 'by', 'and', 'belonged', 'to', 'oswald,', 'and', 'four\\nbut', 'at', 'various', 'dates', 'treason', 'more', 'distinct', 'and', 'tangible', 'came', 'to', 'the', 'front', 'attempts', 'to', 'levy', 'war', 'against', 'the', 'state.\\nhe', 'saw', 'him', 'empty', 'the', 'gun', 'and', 'throw', 'the', 'shells', 'into', 'some', 'bushes', 'on', 'the', 'southeast', 'corner', 'lot.\\nin', 'his', 'effects', 'were', 'found', 'the', 'clothes', 'he', 'had', 'on', 'at', 'the', 'time', 'of', 'his', 'escape', 'from', 'the', 'stables,', 'and', 'under', 'the', 'jacket', 'he', 'was', 'wearing\\nhe', 'ate', 'constantly', 'and', 'voraciously', 'after', 'sentence,', 'as', 'though', 'eager', 'to', 'cram', 'as', 'many', 'meals', 'as', 'possible', 'into', 'the', 'few', 'hours', 'still', 'left', 'him', 'to', 'live.\\nother', 'marines', 'also', 'testified', 'that', 'oswald', 'had', 'few', 'friends', 'and', 'kept', 'very', 'much', 'to', 'himself.\\na', 'case', 'file', 'was', 'established', 'if', 'the', 'information', 'available', 'suggested', 'that', 'the', 'subject', 'might', 'be', 'a', 'danger', 'to', 'the', 'president.\\nhosty', 'assured', 'her,', 'through', 'misess', 'paine', 'as', 'interpreter,', 'that', 'the', 'fbi', 'would', 'not', 'harm', 'or', 'harass', 'her.\\nalso', 'on', 'november', 'nineteen,', 'the', 'morning', 'news', 'reported', 'that', 'the', \"president's\", 'motorcade', 'would', 'travel', 'from', 'love', 'field', 'along', 'specified', 'streets,', 'then\\nthroughout', 'both', 'the', 'animal', 'and', 'vegetable', 'kingdoms', 'dwarfed', 'and', 'useless', 'representatives', 'of', 'organs', 'are', 'constantly', 'met', 'with,\\nwhen', 'specifically', 'asked', 'before', 'the', 'commission\\npartly', 'perhaps', 'because', 'residents', 'in', 'and', 'about', 'the', 'old', 'bailey', 'raised', 'a', 'loud', 'protest', 'against', 'the', 'constant', 'erection', 'of', 'the', 'scaffold', 'in', 'their', 'neighborhood.\\nthis', 'very', 'proper', 'rule', 'was,', 'however,', 'set', 'aside', 'on', 'the', 'sunday', 'preceding', \"courvoisier's\", 'execution.\\ndeputy', 'chief', 'n.', 't.', 'fisher,', 'and', 'several', 'other', 'command', 'officers', 'to', 'discuss', 'details', 'of', 'the', 'motorcade', 'and', 'possible', \"routes.\\nlawson's\", 'most', 'important', 'responsibilities', 'were', 'to', 'take', 'preventive', 'action', 'against', 'anyone', 'in', 'dallas', 'considered', 'a', 'threat', 'to', 'the', 'president,\\njarman', 'did', 'talk', 'to', 'oswald', 'that', 'morning', 'quote,\\na', 'scaffold', 'was', 'erected', 'in', 'front', 'of', 'that', 'prison', 'for', 'the', 'execution', 'of', 'several', 'convicts', 'named', 'by', 'the', 'recorder.\\nthe', 'address', 'listed', 'was', 'for', 'the', 'paine', 'home', 'in', 'irving.\\nhe', 'patronized', 'the', 'best', 'tailors,', 'and', 'had', 'a', 'fashionable', 'coiffeur', 'from', 'hanover', 'square', 'daily', 'to', 'curl', 'his', 'hair.\\nin', 'the', 'preceding', 'chapter', 'i', 'have', 'been', 'tempted', 'by', 'the', 'importance', 'of', 'the', 'general', 'question', 'to', 'give', 'it', 'prominence', 'and', 'precedence', 'over', 'the', 'particular', 'branch', 'of', 'which', 'i', 'am', 'treating.\\nthe', 'creation', 'of', 'an', 'expensive', 'staff', 'for', 'supervision,\\nthere', 'emerged', 'a', 'man', 'capable', 'of', 'assassinating', 'president', 'kennedy.\\nto', 'the', 'west', 'of', 'babylon,', 'at', 'a', 'greater', 'distance', 'from', 'the', 'outer', 'wall,', 'i', 'constructed', 'an', 'enclosing', 'wall', 'four', 'thousand', 'cubits', 'in', 'length', 'about', 'the', \"city.\\nbrennan's\", 'description', 'should', 'also', 'be', 'compared', 'with', 'the', 'eyewitness', 'description', 'broadcast', 'over', 'the', 'dallas', 'police', 'radio', 'at', 'onetwentytwo', 'p.m.\\nthe', 'commission', 'considered', \"stombaugh's\", 'testimony', 'of', 'probative', 'value', 'in', 'deciding', 'whether', 'oswald', 'carried', 'the', 'rifle', 'into', 'the', 'building', 'in', 'the', 'paper', 'bag.\\nthere', 'was', 'fear', 'as', 'to', 'the', 'unrestricted', 'use', 'of', 'tools,\\nit', 'had', 'been', 'supposed', 'up', 'to', 'this', 'date', 'that', 'he', 'had', 'willed', 'his', 'property,', 'amounting', 'in', 'all', 'to', 'upwards', 'of', 'two', 'hundred', 'thousand', 'pounds,\\nhe', 'was', 'about', 'to', 'descend', 'the', 'stairs', 'when', 'three', 'persons,', 'one', 'of', 'them', 'the', 'young', 'sailor,\\nhe', 'wrote', 'in', 'another', 'letter', 'that', 'he', 'would,', 'quote,', 'never', 'return', 'to', 'the', 'united', 'states', 'which', 'is', 'a', 'country', 'i', 'hate,', 'end', 'quote.\\nas', 'is', 'advocacy', 'of', 'the', 'overthrow', 'of', 'the', 'government', 'by', 'the', 'assassination', 'of', 'any', 'of', 'its', 'officers.\\ndeeming', 'him', 'the', 'last', 'person', 'capable', 'of', 'a', 'dishonorable', 'action.\\nbut', 'all', 'mingled', 'freely', 'during', 'the', 'day', 'in', 'the', 'yard.\\nprepared', 'by', 'the', 'secret', 'service', 'for', 'the', 'secretary', 'of', 'the', 'treasury', 'following', 'the', 'assassination.', 'as', 'a', 'result', 'of', 'this', 'study,\\ni', 'am', 'reminded', 'of', 'that', 'evening', 'in', 'march,', 'four', 'years', 'ago,', 'when', 'i', 'made', 'my', 'first', 'radio', 'report', 'to', 'you.\\nthey', 'should', 'be', 'responsible', 'for', 'advising', 'the', 'secret', 'service', 'if', 'information', 'develops', 'indicating', 'the', 'existence', 'of', 'an', 'assassination', 'plot\\nin', 'general,', 'our', 'family', 'life', 'began', 'to', 'deteriorate', 'after', 'we', 'arrived', 'in', 'america.\\nand', 'that', 'their', 'conduct', 'the', 'night', 'before', 'did', 'not', 'impede', 'their', 'actions', 'on', 'duty\\nother', 'evidence', 'of', 'the', 'existence', 'of', 'such', 'a', 'disability', 'is', 'provided', 'by', 'the', 'many', 'other', 'misspellings', 'that', 'appear', 'in', \"oswald's\", 'writings,', 'portions', 'of', 'which', 'are', 'quoted', 'below.\\nthis', 'amendment', 'was', 'strongly', 'supported', 'outside', 'the', 'house,', 'and', 'a', 'petition', 'in', 'favor', 'of', 'its', 'passing', 'was', 'presented,\\nbarnett', 'estimated', 'that', 'approximately', 'three', 'minutes', 'elapsed', 'between', 'the', 'time', 'he', 'heard', 'the', 'last', 'of', 'the', 'shots', 'and', 'the', 'time', 'he', 'started', 'guarding', 'the', 'front', 'door.\\nfollowed', 'the', 'profession', 'of', 'arms,', 'first', 'in', 'the', 'british', 'service,', 'and', 'then', 'in', 'that', 'of', 'the', 'french', 'revolutionary', 'government.\\nrifle', 'among', \"oswald's\", 'possessions\\nhe', 'could', 'not', 'reach', 'his', 'roominghouse', 'on', 'the', 'marsalis', 'bus,', 'but', 'the', 'beckley', 'bus', 'stopped', 'across', 'the', 'street.\\nhas', 'not', 'only', 'been', 'discovered', 'to', 'exist', 'far', 'more', 'widely', 'among', 'plants', 'than', 'was', 'formerly', 'imagined,\\nfor', 'the', 'first', 'four', 'attempts,', 'the', 'firers', 'missed', 'the', 'second', 'shot', 'by', 'several', 'inches.\\nit', 'was', 'necessary,', 'for', 'instance,', 'to', 'give', 'due', 'notice', 'when', 'the', 'government', 'grant', 'was', 'to', 'be', 'withdrawn,\\nhis', 'plan', 'was', 'to', 'devote', 'the', 'whole', 'labor', 'of', 'prisoners', 'sentenced', 'to', 'any', 'term', 'between', 'three', 'months', 'and', 'four', 'years', 'to', 'agriculture.\\nan', 'examination', 'of', 'the', 'militant,', 'to', 'which', 'oswald', 'subscribed,\\nhe', 'was', 'very', 'much', 'interested', 'in', 'autobiographical', 'works', 'of', 'outstanding', 'statesmen', 'of', 'the', 'united', 'states,', 'to', 'whom', 'his', 'wife', 'thought', 'he', 'compared', 'himself.\\na', 'new', 'member', 'shall', 'be', 'appointed', 'by', 'the', 'president', 'then', 'in', 'office,\\nthe', \"print's\", 'positive', 'identity', 'as', 'having', 'been', 'lifted', 'from', 'the', 'rifle\\nexhibit', 'a', 'remarkable', 'series', 'of', 'homologies', 'pointing', 'to', 'a', 'fivetoed', 'ancestor,\\nthen', 'misess', 'daulby', 'learnt', 'that', 'miss', 'turner', 'had', 'not', 'arrived', 'at', 'shrigley,', 'but', 'that', 'she', 'had', 'gone', 'to', 'manchester.\\nthe', 'narrative', 'of', 'these', 'events', 'is', 'based', 'largely', 'on', 'the', 'recollections', 'of', 'the', 'participants,\\nthe', 'inevitable', 'consequence', 'of', 'such', 'a', 'situation,', 'their', 'morals', 'must', 'have', 'been', 'destroyed\\nand', 'had', 'lost', 'his', 'desire', 'to', 'do', 'so', 'because', 'of', 'the', 'bureaucracy', 'and', 'red', 'tape', 'which', 'he', 'had', 'encountered.\\nnor', 'even', 'when', 'found', 'guilty', 'and', 'his', 'liberty', 'forfeited', 'did', 'his', 'privileges', 'cease.', 'the', 'law', 'appointed', 'a', 'suitable', 'punishment', 'for', 'the', 'offense\\nmister', 'wakefield', 'winds', 'up', 'his', 'graphic', 'but', 'somewhat', 'sensational', 'account', 'by', 'describing', 'another', 'religious', 'service,', 'which', 'may', 'appropriately', 'be', 'inserted', 'here.\\nmuch', 'uneasiness', 'was', 'caused', 'at', 'one', 'of', 'the', 'convict', 'prisons', 'by', 'information', 'that', 'bribery', 'on', 'a', 'large', 'scale', 'was', 'again', 'at', 'work', 'amongst', 'the', 'officials.\\ntaken', 'at', 'the', 'time', 'of', 'his', 'arrest.\\nhowever,', 'the', 'nineteen', 'sixtyfour', 'to', 'sixtyfive', 'budget', 'request', 'was', 'submitted', 'in', 'november', 'nineteen', 'sixtythree\\nit', 'is', 'time', 'to', 'provide', 'a', 'smashing', 'answer', 'for', 'those', 'cynical', 'men', 'who', 'say', 'that', 'a', 'democracy', 'cannot', 'be', 'honest', 'and', 'efficient.\\nroupell', 'was', 'quiet', 'and', 'submissive', 'while', 'in', 'newgate,', 'unassuming', 'in', 'manner,', 'and', 'ready', 'to', 'make', 'the', 'best', 'of', 'his', 'position.\\nthat', 'of', 'a', 'prizefighter', 'named', 'donovan,', 'tried', 'the', 'same', 'day,', 'and', 'convicted', 'of', 'manslaughter.\\nand', 'his', 'halfbrother', 'john', 'pic,', 'who', 'had', 'been', 'born', 'in', 'nineteen', 'thirtytwo', 'during', \"marguerite's\", 'previous', 'marriage.\\nthe', 'roman', 'letter', 'was', 'used', 'side', 'by', 'side', 'with', 'the', 'gothic.\\nis', 'three', 'to', 'four', 'short', 'blocks', 'south', 'of', 'lamar', 'and', 'elm.', 'if', 'oswald', 'left', 'the', 'bus', 'at', 'twelvefortyfour', 'p.m.\\nand', 'so', 'few', 'people', 'who', 'know', 'anything', 'about', 'what', 'the', 'people', 'of', 'the', 'united', 'states', 'are', 'thinking', 'about.\\nhe', 'testified', 'that', 'he', 'had', 'felt', 'the', 'sergeant', 'had', 'a', 'grudge', 'against', 'him', 'and', 'that', 'he', 'had', 'unsuccessfully', 'sought', 'a', 'transfer', 'from', 'the', \"sergeant's\", 'unit.\\non', 'the', 'secondfloor', 'landing', 'there', 'is', 'a', 'small', 'open', 'area', 'with', 'a', 'door', 'at', 'the', 'east', 'end.\\nneighbors', 'and', 'others', 'who', 'knew', 'him', 'at', 'that', 'time', 'recall', 'an', 'introverted', 'boy', 'who', 'read', 'a', 'great', 'deal.\\nin', 'this', 'role', 'he', 'appears', 'to', 'the', 'american', 'people,', 'in', 'the', 'words', 'of', 'william', 'howard', 'taft,', 'as,', 'quote,\\nthe', 'vice', 'president', 'decided', 'to', 'wait', 'until', 'he', 'received', 'definitive', 'word', 'of', 'the', \"president's\", 'condition.\\ntype', 'cast', 'from', 'his', 'matrices', 'is', 'still', 'in', 'everyday', 'use.\\nthe', 'efforts', 'made', 'by', 'sir', 'james', 'graham', 'years', 'before', 'to', 'introduce', 'uniformity', 'in', 'this', 'particular', 'had', 'failed', 'of', 'effect.\\nthis', 'jail', 'was', 'nominally', 'to', 'replace', 'the', 'giltspur', 'street', 'compter,\\no', 'marduk,', 'great', 'god,', 'look', 'joyfully', 'upon', 'the', 'precious', 'work', 'of', 'my', 'hands.', 'be', 'thou', 'my', 'protector.\\nthe', 'commission', 'could', 'not', 'accept', 'important', 'elements', 'of', \"craig's\", 'testimony.\\nhandgrenades', 'were', 'to', 'be', 'thrown', 'into', 'the', 'diningroom,', 'and', 'during', 'the', 'noise', 'and', 'confusion', 'the', 'assassination', 'of', 'the', 'ministers', 'was', 'to', 'be', 'completed,\\nand', 'therefore', 'approximately', 'one', 'point', 'six', 'seconds', 'after', 'the', 'president', 'was', 'shot', 'in', 'the', 'head.\\nhe', 'found', 'them', 'at', 'length', 'residing', 'at', 'the', 'latter', 'place,', 'one', 'as', 'a', 'landed', 'proprietor,', 'the', 'other', 'as', 'a', 'publican.\\nhe', 'took', 'the', 'position', 'that', 'the', 'communist', 'party', 'officials', 'in', 'the', 'soviet', 'union', 'were', 'opportunists', 'who', 'were', 'betraying', 'their', 'positions', 'for', 'personal', 'gain.\\none', 'of', 'the', 'owners', 'had', 'met', 'her', 'at', 'deal,', 'but', 'the', 'captain', 'had', 'already', 'absconded', 'with', 'the', 'packages', 'of', 'precious', 'stones', 'in', 'his', 'pocket.\\nthe', 'second', 'step', 'we', 'have', 'taken', 'in', 'the', 'restoration', 'of', 'normal', 'business', 'enterprise\\nguidelines', 'for', 'an', 'experimental', 'program', 'to', 'develop', 'more', 'detailed', 'criteria.\\nat', 'a', 'place', 'called', 'the', 'silver', 'keys', 'he', 'ran', 'the', 'ship', 'on', 'the', 'reef.\\nthe', 'probability', 'of', 'hitting', 'the', 'president', 'a', 'second', 'time', 'would', 'have', 'been', 'markedly', 'increased', 'if,', 'in', 'fact,', 'he', 'had', 'missed', 'either', 'the', 'first', 'or', 'third', 'shots\\nand', 'was', 'accompanied', 'throughout', 'by', 'an', 'immense', 'concourse', 'of', 'persons,', 'eager', 'to', 'get', 'a', 'sight', 'of', 'the', \"murderer's\", 'remains.\\nbased', 'on', 'other', 'evidence,', 'to', 'have', 'fired', 'the', 'shots', 'from', 'the', 'window.\\ndwyer', 'managed', 'to', 'overpower', 'his', 'assailant,', 'and', 'got', 'to', 'his', 'feet', 'but', 'cannon', 'butted', 'at', 'him', 'with', 'his', 'head,', 'and', 'again', 'threw', 'him', 'to', 'the', 'ground,\\nwhen,', 'as', 'is', 'most', 'often', 'the', 'case,', 'there', 'is', 'actual', 'beauty', 'in', 'the', 'cuts,\\nyet', 'it', 'was', 'clearly', 'proved', 'that', 'the', 'dumplings', 'contained', 'arsenic,', 'that', 'she,', 'and', 'she', 'alone,', 'had', 'made', 'the', 'dough,\\nthe', 'murderer', 'explained', 'that', 'he', 'had', 'first', 'fired', 'a', 'pistol', 'at', \"weare's\", 'head,', 'but', 'the', 'shot', 'glanced', 'off', 'his', 'cheek.\\none', 'was', 'askern,\\nwas', 'by', 'a', 'kind', 'of', 'chimney,', 'which', 'the', 'prisoners', 'kept', 'hermetically', 'sealed,', 'and', 'which', 'had', 'never', 'been', 'opened', 'in', 'the', 'memory', 'of', 'the', 'turnkey.\\nhe', 'denied', 'that', 'he', 'had', 'ever', 'told', 'frazier', 'that', 'he', 'wanted', 'a', 'ride', 'to', 'irving', 'to', 'get', 'curtain', 'rods', 'for', 'an', 'apartment.\\nthe', 'four', 'waited', 'patiently', 'for', 'their', 'opportunity,\\nthere', 'are', 'a', 'number', 'of', 'organizations,', 'including', 'possibly', 'fair', 'play,', 'which', 'are', 'of', 'a', 'very', 'broad', 'character,\\nwhich', 'entered', 'the', 'back', 'of', 'the', \"president's\", 'neck.\\nand', 'transportation', 'and', 'trade,', 'so', 'great', 'in', 'the', 'mass', 'that', 'each', 'individual', 'concerned', 'in', 'them', 'is', 'quite', 'helpless', 'by', 'himself.\\nthe', 'minor', 'borough', 'prisons', 'were', 'the', 'worst', 'blot', 'on', 'the', 'still', 'dark', 'and', 'imperfect', 'system.\\nthe', 'spikes', 'of', 'the', 'railing', 'penetrated', 'his', 'flesh', 'and', 'made', 'progression', 'slow', 'and', 'difficult.\\nand', 'with', 'all', 'the', 'appearances', 'of', 'spontaneity', 'as', 'locomotive', 'bodies,\\nfair', 'play', 'for', 'cuba', 'was,', 'quote,', 'not', 'at', 'all', 'communist', 'controlled', 'regardless', 'of', 'the', 'fact', 'that', 'i', 'had', 'the', 'experience', 'of', 'living', 'in', 'russia,', 'end', 'quote.\\nthe', 'murdered', 'individual', 'was', 'thus', 'identified.', 'the', 'next', 'step', 'was', 'to', 'ascertain', 'where', 'and', 'with', 'whom', 'she', 'had', 'last', 'been', 'seen.\\nthe', 'foregoing', 'rentals', 'and', 'payments', 'for', 'privileges,', 'together', 'with', 'fees', 'exacted', 'on', 'commitment', 'and', 'discharge,', 'went', 'to', 'the', 'marshal', 'or', 'keeper', 'of', 'the', 'prison,\\nneches', 'is', 'within', 'onehalf', 'block', 'of', 'the', 'roominghouse', 'at', 'ten', 'twentysix', 'north', 'beckley', 'where', 'oswald', 'was', 'living.\\nminor', 'offenders', 'charged', 'with', 'small', 'thefts', 'or', 'nonpayment', 'of', 'small', 'sums', 'were', 'cheek', 'by', 'jowl', 'with', 'convicts', 'sentenced', 'to', 'long', 'terms', 'of', 'transportation.\\nas', 'day', 'broke', 'the', 'character', 'of', 'the', 'crowd', 'was', 'betrayed.\\na', 'bill', 'was', 'introduced', 'by', 'mister', 'hibbert,', 'm.p.,', 'and', 'accepted', 'by', 'the', 'government,', 'providing', 'for', 'the', 'future', 'carrying', 'out', 'of', 'executions', 'within', 'prisons.\\nare', 'the', 'association', 'of', 'prisoners,', 'and', 'the', 'unusual', 'contamination', 'to', 'which', 'such', 'association', 'gives', 'rise.\\nit', 'did', 'not', 'peremptorily', 'insist.', 'too', 'often', 'the', 'letter', 'of', 'the', 'law', 'was', 'observed,', 'but', 'not', 'its', 'spirit.\\nin', 'reading', 'the', 'modern', 'figures', 'the', 'eyes', 'must', 'be', 'strained', 'before', 'the', 'reader', 'can', 'have', 'any', 'reasonable', 'assurance\\nthe', 'drive', 'through', 'dallas\\nor', 'they', 'might', 'herd', 'together', 'or', 'communicate', 'freely', 'as', 'in', 'the', 'old', 'worst', 'days.', 'they', 'might', 'see', 'each', 'other', 'when', 'they', 'liked,', 'and', 'converse', 'sotto', 'voce,\\nit', 'is', 'supported', 'by', 'strong', 'posts', 'fixed', 'into', 'grooves', 'made', 'in', 'the', 'street\\naccording', 'to', 'sokolow,', 'this', 'indicated', 'a,', 'quote,', 'present', 'intellectual', 'functioning', 'in', 'the', 'upper', 'range', 'of', 'bright', 'normal', 'intelligence,', 'end', 'quote.\\nhelen', 'markham', 'was', 'screaming', 'as', 'she', 'leaned', 'over', 'the', 'body.\\njust', 'at', 'this', 'moment,', 'however,', 'the', 'searchers', 'found', 'concealed', 'under', 'two', 'trusses', 'of', 'hay', 'a', \"woman's\", 'headless', 'and', 'dismembered', 'trunk.\\nand', 'the', 'wild', 'beasts', 'of', 'the', 'islands', 'shall', 'cry', 'in', 'their', 'desolate', 'houses,', 'and', 'dragons', 'in', 'their', 'pleasant', 'palaces.\\ncyrus,', 'the', 'king', 'of', 'persia,', 'was', 'rising', 'to', 'power,', 'and', 'after', 'he', 'had', 'defeated', 'the', 'medes\\nto', 'serve', 'as', 'liaison', 'officers', 'with', 'law', 'enforcement', 'and', 'intelligence', 'agencies.', 'on', 'the', 'basis', 'of', 'the', \"department's\", 'review', 'during', 'the', 'past', 'several', 'months,\\nand', 'detailing', 'police', 'in', 'civilian', 'clothes', 'to', 'be', 'scattered', 'throughout', 'the', 'sizable', 'crowd.\\nthe', 'secret', 'service', 'has', 'therefore', 'suggested', 'this', 'practice', 'only', 'on', 'extraordinary', 'occasions.\\nand', 'decorated', 'here', 'and', 'there', 'with', 'large', 'reliefs', 'representing', 'bulls', 'and', 'lions', 'and', 'dragons,\\nthe', 'latter', 'end', 'of', 'the', 'nineteenth', 'century,', 'several', 'of', 'which', 'still', 'fall', 'far', 'short', 'of', 'our', 'english', 'ideal,\\nthe', 'erection', 'of', 'a', 'wing', 'or', 'large', 'block', 'of', 'cells', 'was', 'commenced', 'within', 'the', 'original', 'walls', 'of', 'the', 'prison,', 'and', 'upon', 'the', 'north', 'or', 'male', 'side.\\nin', 'numberless', 'cases,', 'such', 'as', 'that', 'of', 'the', 'forelimbs', 'of', 'serpents,', 'no', 'vestige', 'of', 'a', 'rudiment', 'is', 'present.\\nwho', 'belonged', 'to', 'five', 'good', 'london', 'clubs', '\\nthe', 'existence', 'of', 'some', 'personal', 'grievance,\\nthe', 'fbi', 'is', 'the', 'major', 'domestic', 'investigating', 'agency', 'of', 'the', 'united', 'states,\\nor', 'for', 'detention', 'pending', 'court', 'appearance', 'or', 'commitment', 'to', 'a', 'childcaring', 'or', 'custodial', 'institution', 'such', 'as', 'a', 'training', 'school.\\nthe', 'relative', 'freshness', 'of', 'the', 'fibers', 'is', 'strong', 'evidence', 'that', 'they', 'were', 'caught', 'on', 'the', 'rifle', 'on', 'the', 'morning', 'of', 'the', 'assassination', 'or', 'during', 'the', 'preceding', 'evening.\\nin', 'these', 'gains', 'and', 'in', 'the', 'policies', 'of', 'the', 'administration', 'there', 'are', 'assurances', 'that', 'hearten', 'all', 'forward', 'looking', 'men', 'and', 'women\\ninterest', 'in', 'marxism\\nthe', 'brutal', 'ferocity', 'of', 'the', 'wild', 'beast', 'once', 'aroused,', 'the', 'same', 'means,', 'the', 'same', 'weapons', 'were', 'employed', 'to', 'do', 'the', 'dreadful', 'deed,\\na', 'committee', 'of', 'collegians', 'was', 'elected', 'to', 'act', 'as', 'the', 'executive,', 'also', 'a', 'secretary', 'or', 'accountant', 'to', 'receive', 'monies', 'and', 'keep', 'books,\\nhe', 'saw', 'pigeons', 'flutter', 'upward.', 'he', 'was', 'not', 'certain,', 'quote,', 'but', 'i', 'am', 'pretty', 'sure', 'they', 'came', 'from', 'the', 'building', 'right', 'on', 'the', 'northwest', 'corner,', 'end', 'quote.\\nas', 'in', 'a', 'mountainous', 'country,', 'it', 'is', 'impossible', 'to', 'say', 'where', 'mountain', 'ends', 'and', 'valley', 'begins', 'as', 'in', 'the', 'development', 'of', 'an', 'animal,\\nalthough', 'murder', 'by', 'insidious', 'methods', 'had', 'become', 'more', 'common,', 'cases', 'where', 'violence', 'of', 'the', 'most', 'deadly', 'and', 'determined', 'kind', 'was', 'offered\\nthe', 'betterdisposed', 'complained', 'bitterly', 'of', 'what', 'they', 'had', 'to', 'endure\\nand', 'the', 'rest', 'being', 'provided', 'with', 'barrack', 'beds,', 'and', 'in', 'dimensions', 'varying', 'from', 'thirty', 'feet', 'by', 'fifteen', 'to', 'fifteen', 'feet', 'by', 'ten.\\nwhile', 'with', 'misess', 'wilson', 'she', 'became', 'suddenly', 'and', 'alarmingly', 'ill,', 'and', 'died', 'in', 'great', 'agony.\\none', 'half', 'of', 'the', 'mutineers', 'fell', 'upon', 'him', 'unawares', 'with', 'handspikes', 'and', 'capstanbars.\\nit', 'became', 'too', 'difficult', 'to', 'wash', 'by', 'hand.\\nfew', 'realizing', 'that', 'the', 'dreadful', 'fate', 'would', 'overtake', 'them,', 'dismissed', 'the', 'prospect', 'of', 'death,\\nmisess', 'siegel', 'concluded', 'her', 'report', 'with', 'the', 'statement', 'that,', 'quote,\\nat', 'the', 'price', 'solomons', 'had', 'paid', 'for', 'it,', 'and', 'it', 'cost', 'him', 'about', 'a', 'hundred', 'pounds', 'to', 'restock', 'his', 'shop', 'with', 'his', 'own', 'goods.\\nthe', 'yards', 'were', 'narrow', 'and', 'confined,', 'mainly', 'because', 'the', 'ground', 'plan', 'was', 'radically', 'vicious.', 'these', 'were', 'evils', 'inseparable', 'from', 'the', 'place.\\nand', 'every', 'day', 'that', 'passes', 'offers', 'more', 'chances', 'to', 'work', 'for', 'those', 'who', 'want', 'to', 'work.\\nin', 'the', 'higher', 'plants', 'the', 'excretions', 'are', 'carbon', 'dioxide,', 'which', 'escapes', 'through', 'the', 'epidermis', 'of', 'root,', 'stem', 'and', 'leaf', 'and', 'through', 'the', 'stomata\\nwhile', 'in', 'newgate', 'awaiting', 'trial', 'he', 'frequently', 'tried', 'to', 'justify', 'his', 'murder', 'by', 'declaring', 'that', 'the', 'police', 'officer', 'had', 'broken', 'faith', 'with', 'him.\\nhalf', 'the', 'quantity', 'of', 'sponge', 'given', 'in', 'preceding', 'receipt.\\nthe', 'agents', 'in', 'the', 'followup', 'car', 'also', 'were', 'expected', 'to', 'scan', 'adjacent', 'buildings.\\nnevertheless,', 'she', 'attempted', 'to', 'commit', 'suicide', 'by', 'driving', 'her', 'nails,', 'purposely', 'left', 'long,', 'into', 'her', 'throat.\\nhe', 'had', 'all', 'the', 'characteristics', 'of', 'the', 'poisoner', '', 'the', 'calm', 'deliberation,\\nthe', 'most', 'extensive', 'and', 'systematic', 'robberies', 'were', 'planned', 'and', 'carried', 'out', 'so', 'as', 'long', 'to', 'escape', 'detection.\\nit', 'is', 'surrounded,', 'in', 'the', 'first', 'place,', 'by', 'a', 'broad', 'and', 'deep', 'moat,', 'full', 'of', 'water,', 'behind', 'which', 'rises', 'a', 'wall\\nthen', 'came', 'the', 'cry', 'of', \"'hats\", \"off!'\", 'and', \"'down\", 'in', \"front!'\", 'as', 'at', 'a', 'theatre.\\nthese', 'measures', 'i', 'have', 'mentioned', 'are,', 'in', 'large', 'part,', 'the', 'program', 'which', 'under', 'my', 'constitutional', 'duty', 'i', 'have', 'recommended', 'to', 'the', 'congress.\\nby', 'seven', 'a.m.', 'the', 'whole', 'space', 'was', 'so', 'thronged', 'that', 'it', 'was', 'impossible', 'to', 'move', 'one', 'way', 'or', 'the', 'other.\\nobserving', 'that', 'an', 'effective', 'airway', 'had', 'to', 'be', 'established', 'if', 'treatment', 'was', 'to', 'be', 'effective,', 'doctor', 'perry', 'performed', 'a', 'tracheotomy,', 'which', 'required', 'three', 'to', 'five', 'minutes.\\nor,', 'if', 'either', 'the', 'first', 'or', 'third', 'shots', 'missed,', 'the', 'assassin', 'fired', 'the', 'three', 'shots', 'during', 'a', 'minimum', 'time', 'span', 'of', 'seven', 'point', 'one\\nan', 'examination', 'of', 'this', 'report', 'shows', 'how', 'even', 'the', 'most', 'insignificant', 'township', 'had', 'its', 'jail.\\nthe', 'police', 'magistrate,', 'that', 'marley', 'was', 'the', 'man', 'who', 'had', 'beaten', 'him', 'to', 'death.\\nhe', 'never', 'saw', 'or', 'communicated', 'with', 'her', 'in', 'any', 'way', 'again', 'until', 'she', 'came', 'to', 'see', 'him', 'after', 'the', 'assassination.\\nreduces', 'the', 'necessity', 'of', 'the', 'existence', 'in', 'them', 'of', 'an', 'alimentary', 'cavity,', 'or', 'reservoir', 'of', 'food,\\nlieutenant', 'day', 'of', 'the', 'dallas', 'police', 'dusted', 'this', 'carton', 'with', 'powder', 'and', 'developed', 'a', 'palmprint', 'on', 'the', 'top', 'edge', 'of', 'the', 'carton', 'on', 'the', 'side', 'nearest', 'the', 'window.\\nprobably', 'dissolution', 'came', 'as', 'easily', 'and', 'almost', 'without', 'pain.\\nbut', 'chance', 'and', 'the', 'disinclination', 'of', 'individuals', 'to', 'leave', 'the', 'supreme', 'bench\\neconomic,', 'political,', 'or', 'military', 'crisis,', 'internal', 'or', 'external,\\nthese', 'processes', 'must', 'take', 'place', 'everywhere', 'in', 'ordinary', 'protoplasm,\\nthey', 'none', 'of', 'them', 'spoke', 'much', 'english', 'except', 'leon,', 'commonly', 'called', 'lyons.\\nthere', 'is', 'scarcely', 'a', 'royal', 'record', 'from', 'his', 'reign', 'which', 'is', 'not', 'chiefly', 'occupied', 'with', 'descriptions', 'of', 'his', 'building', 'operations.\\nit', 'will', 'take', 'time', '', 'and', 'plenty', 'of', 'time', '', 'to', 'work', 'out', 'our', 'remedies', 'administratively', 'even', 'after', 'legislation', 'is', 'passed.\\nappeared', 'in', 'the', 'dallas', 'times', 'herald', 'on', 'november', 'fifteen,', 'nineteen', 'sixtythree.\\nhe', 'was', \"death's\", 'counterfeit,', 'tall,', 'shriveled,', 'and', 'pale\\nwhich', 'occurred', 'eight', 'days', 'after', 'oswald', 'wrote', 'the', 'above', 'letter', 'to', 'v.', 't.', 'lee.\\nthe', 'eyewitnesses', 'vary', 'in', 'their', 'identification', 'of', 'the', 'jacket.\\nmatters', 'were', 'rather', 'better', 'at', 'the', 'marshalsea.\\nthe', 'court', 'itself', 'can', 'best', 'undo', 'what', 'the', 'court', 'has', 'done.\\nthat', 'president', 'kennedy', 'would', 'receive', 'a', 'good', 'welcome', 'and', 'would', 'not', 'face', 'demonstrations', 'like', 'those', 'encountered\\nwho', 'in', 'solemn', 'tones', 'communicated', 'to', 'each', 'in', 'turn', 'the', 'fate', 'in', 'store', 'for', 'him.\\nwere', 'on', 'the', 'lot', 'at', 'the', 'time,', 'and', 'they', 'saw', 'a', 'white', 'male', 'with', 'a', 'revolver', 'in', 'his', 'hands', 'running', 'south', 'on', 'patton.\\nexactly', 'tallied', 'with', 'that', 'of', 'the', 'deformed', 'person', 'wanted', 'for', 'the', 'assault', 'on', 'the', 'queen.\\nany', 'communication,', 'quote,', 'that', 'in', 'any', 'way', 'indicates', 'anyone', 'may', 'have', 'possible', 'intention', 'of', 'harming', 'the', 'president,', 'end', 'quote.\\nthe', 'place', 'where', 'the', 'old', 'city', 'had', 'stood', 'for', 'three', 'thousand', 'years', 'again', 'became', 'a', 'desert.\\nto', 'specify', 'more', 'particularly', 'one', 'or', 'two', 'of', 'the', 'worst,', 'it', 'may', 'be', 'mentioned', 'that', 'in', 'the', 'borough', 'compter\\nthree', 'other', 'officers,', 'moving', 'toward', 'the', 'scuffle,', 'grabbed', 'oswald', 'from', 'the', 'front,', 'rear', 'and', 'side.\\nbut', 'nothing', 'has', 'been', 'supplied', 'to', 'the', 'bean', 'save', 'water,', 'carbonic', 'acid,', 'ammonia,', 'potash,', 'lime,\\nagar', 'at', 'once', 'got', 'to', 'work', 'on', 'the', 'first', 'safe.\\nhe', 'new', 'instructions', 'require', 'fbi', 'agents', 'to', 'report', 'immediately', 'information', 'concerning,', 'quote,\\nwas', 'densely', 'crowded,', 'and', 'many', 'curious', 'eyes', 'were', 'turned', 'upon', 'the', 'somewhat', 'remarkable', 'man', 'who', 'occupied', 'the', 'dock.\\nthat', 'he', 'had', 'sought', 'and', 'obtained', 'a', 'passport', 'on', 'june', 'twentyfive,', 'nineteen', 'sixtythree.\\nnotably', 'as', 'when', 'numbers', 'filled', 'newgate', 'in', 'anticipation', 'of', 'lord', \"redesdale's\", 'bill', 'for', 'insolvent', 'debtors,\\nthe', 'blow', 'crushed', 'the', 'bonnet', 'and', 'bruised', 'the', 'forehead', 'of', 'the', 'queen,', 'who', 'was', 'happily', 'not', 'otherwise', 'injured.\\nshortly', 'before,', 'the', 'dallas', 'police', 'had', 'reported', 'to', 'the', 'secret', 'service', 'that', 'the', 'handbill', 'had', 'appeared', 'on', 'the', 'streets', 'of', 'dallas.\\nmullay', 'defended', 'himself,', 'and', 'managed', 'to', 'break', 'the', 'knife,', 'but', 'not', 'before', 'he', 'had', 'cut', 'himself', 'severely.\\nto', 'her', \"husband's\", 'membership', 'card', 'in', 'the', 'new', 'orleans', 'chapter.\\nthis', 'arrangement', 'was,', 'however,', 'modified', 'after', 'eighteen', 'eleven,', 'and', 'the', 'chapel', 'yard', 'was', 'allotted', 'to', 'misdemeanants', 'and', 'prisoners', 'awaiting', 'trial.\\nthen', 'he', 'ran', 'along', 'the', 'coping', 'of', 'the', 'wall', 'towards', 'its', 'angle', 'with', \"tyler's\", 'manufactory,', 'and', 'dropped', 'down', 'on', 'to', 'the', 'gridiron', 'below.\\nhe', 'lost', 'his', 'job', 'on', 'july', 'nineteen,', 'nineteen', 'sixtythree,', 'because', 'his', 'work', 'was', 'not', 'satisfactory\\nat', 'the', 'old', 'bailey', 'almost', 'every', 'one', 'capitally', 'convicted', 'by', 'a', 'jury', 'was', 'sentenced', 'to', 'be', 'hanged.\\nhad', 'the', 'babylonians', 'been', 'apprised', 'of', 'what', 'cyrus', 'was', 'about,', 'or', 'had', 'they', 'noticed', 'their', 'danger,', 'they', 'would', 'never', 'have', 'allowed', 'the', 'persians', 'to', 'enter', 'the', 'city,\\nmisess', 'reid', 'testified', 'that', 'when', 'she', 'saw', 'oswald,', 'he', 'was', 'wearing', 'a', 'tshirt', 'and', 'no', 'jacket.\\nall', 'that', 'the', 'hangman,', 'whoever', 'he', 'may', 'be,', 'does', 'under', 'the', 'new', 'regime', 'is', 'to', 'unhook', 'the', 'halter', 'and', 'remove', 'the', 'pinioning', 'straps.\\nthough', 'they', 'could', 'not', 'force', 'him', 'to', 'gamble,', 'he', 'was', 'compelled', 'to', 'drink,\\nwhich', 'would', 'accommodate', 'the', 'inmates', 'of', 'newgate', 'and', 'of', 'the', 'three', 'compters,', 'ludgate,\\nin', 'this', 'way', 'some', 'of', 'the', 'radiant', 'and', 'kinetic', 'energy', 'of', 'the', 'sun', 'comes', 'to', 'be', 'stored', 'up', 'as', 'potential', 'energy', 'in', 'the', 'starch.\\napproximately', 'three', 'years', 'before.', 'robert', 'oswald', 'had', 'given', 'his', 'marine', 'corps', 'manual', 'to', 'his', 'brother', 'lee,\\nand', 'the', 'disuse', 'of', 'the', 'inferior', 'courts.\\nand', 'testified', 'that', 'a', 'few', 'days', 'before', 'her', \"husband's\", 'departure', 'from', 'dallas', 'to', 'new', 'orleans', 'on', 'april', 'twentyfour,', 'nineteen', 'sixtythree,\\nas', 'effectually', 'to', 'rebuke', 'and', 'abash', 'the', 'profane', 'spirit', 'of', 'the', 'more', 'insolent', 'and', 'daring', 'of', 'the', 'criminals.\\nor', 'of', \"gardelle's\", 'frantic', 'efforts', 'to', 'conceal', 'his', 'crime.\\nsince', 'the', 'rifle', 'was', 'shipped', 'from', 'chicago', 'on', 'march', 'twenty,', 'nineteen', 'sixtythree,', 'it', 'was', 'received', 'in', 'dallas', 'during', 'the', 'period', 'when', 'oswald', 'rented', 'and', 'used', 'the', 'box.\\nbecause', 'great', 'masses', 'of', 'masonry', 'used', 'to', 'project', 'from', 'its', 'surface.\\nthe', 'items', 'which', 'oswald', 'left', 'at', 'home', 'when', 'he', 'made', 'his', 'attack', 'on', 'walker', 'suggest', 'a', 'strong', 'concern', 'for', 'his', 'place', 'in', 'history.\\nit', 'is', 'apparent', 'that', 'a', 'good', 'deal', 'of', 'further', 'consideration', 'and', 'experimentation', 'will', 'be', 'required', 'before', 'adequate', 'criteria', 'can', 'be', 'framed.\\nas', 'he', 'unloaded', 'his', 'continental', 'bus', 'station', 'passenger', 'in', 'front', 'of', 'greyhound,', 'he', 'started', 'to', 'get', 'out', 'to', 'buy', 'a', 'package', 'of', 'cigarettes.\\nindeed', 'the', 'place,', 'with', 'its', 'oak', 'floors', 'caulked', 'with', 'pitch,', 'and', 'smoked', 'ceilings,\\nthe', 'commission', 'recommends', 'that', 'prompt', 'and', 'favorable', 'consideration', 'be', 'given', 'to', 'this', 'request.\\na', 'muchneeded', 'and,', 'according', 'to', 'our', 'ideas,', 'indispensable', 'reform,', 'already', 'initiated', 'by', 'the', \"ladies'\", 'committee', 'at', 'newgate.\\nfrom', 'whom', 'still', 'higher', 'fees', 'were', 'exacted,', 'with', 'the', 'same', 'discreditable', 'idea', 'of', 'swelling', 'the', 'revenues', 'of', 'the', 'prison.\\nsometimes', 'the', 'privy', 'council', 'did', 'not', 'meet', 'for', 'months,', 'and', 'during', 'all', 'that', 'time', 'the', 'convicts', 'languished', 'with', 'hope\\nif', 'the', 'protective', 'job', 'is', 'well', 'done,', 'its', 'performance', 'will', 'be', 'evident', 'only', 'in', 'the', 'unexceptional', 'fact', 'of', 'its', 'success.\\nthat', 'for', 'long', 'no', 'idea', 'of', 'interfering', 'with', 'them', 'was', 'entertained.\\nand', 'that', 'executors', 'or', 'persons', 'having', 'lawful', 'possession', 'of', 'the', 'bodies\\nthe', 'group', 'will', 'also', 'include', 'representatives', 'of', 'cities,', 'and', 'of', 'labor,', 'farming,', 'banking', 'and', 'industry.\\nbased', 'on', 'its', 'experience', 'during', 'this', 'period,', 'the', 'secret', 'service', 'now', 'recommends', 'that', 'additional', 'personnel', 'be', 'made', 'available', 'to', 'prs\\nhe', 'admitted', 'that', 'he', 'had', 'been', 'justly', 'convicted,', 'and', 'expressed', 'great', 'anxiety', 'that', 'his', 'fellowservants', 'should', 'be', 'relieved', 'from', 'all', 'suspicion.\\nwent', 'outside', 'and', 'beyond', 'the', 'prison', 'to', 'call', 'on', 'their', 'creditors,', 'and', 'try', 'to', 'arrange', 'their', 'debts,', 'but', 'this', 'practice', 'was', 'discontinued.\\nthat', 'it', 'has', 'been', 'unable,', 'as', 'a', 'practical', 'matter,', 'to', 'exercise', 'sufficient', 'influence', 'over', 'the', 'security', 'precautions', 'which', 'surround', 'presidential', 'activities.\\nthe', 'science', 'history', 'of', 'the', 'universe,', 'volume', 'five.', 'edited', 'by', 'francis', 'roltwheeler.\\nstreet', 'robberies', 'offered', 'fewer', 'inducements', 'to', 'depredators,', 'and', 'evildoers', 'were', 'compelled', 'to', 'adopt', 'other', 'methods', 'of', 'preying', 'upon', 'their', 'fellows.\\nwhile', 'twentyseven', 'received', 'less', 'than', 'six', 'prisoners,', 'and', 'were', 'in', 'some', 'instances', 'absolutely', 'tenantless.\\nthe', 'dallas', 'police', 'department', 'forwarded', 'it', 'on', 'december', 'two,', 'nineteen', 'sixtythree.\\nthe', 'majority', 'of', 'the', 'court', 'has', 'been', 'assuming', 'the', 'power', 'to', 'pass', 'on', 'the', 'wisdom', 'of', 'these', 'acts', 'of', 'the', 'congress\\nlawson', 'also', 'evaluated', 'the', 'security', 'hazards', 'at', 'the', 'trade', 'mart', 'on', 'november', 'thirteen.\\nthe', 'principle', 'of', 'classification', 'was', 'freshly', 'enunciated', 'prison', 'regulations', 'were', 'framed', 'for', 'general', 'observance.\\ndenied', 'admission', 'everywhere', 'as', 'a', 'ragged,', 'halfnaked', 'beggar,\\nthe', 'secret', 'service', 'group', 'awaiting', 'the', 'president', 'in', 'austin', 'were', 'instructed', 'to', 'return', 'to', 'washington.\\nand', 'district', 'attorney', 'henry', 'm.', 'wade', 'both', 'testified', 'that', 'they', 'saw', 'it', 'later', 'that', 'day.\\nmarried', 'the', 'said', 'ellen', 'turner.\\nwhen', 'he', 'was', 'finally', 'apprehended', 'in', 'the', 'texas', 'theatre.', 'although', 'it', 'is', 'not', 'fully', 'corroborated', 'by', 'others', 'who', 'were', 'present,\\nof', 'attempting', 'to', 'draw', 'any', 'general', 'distinction', 'between', 'animals', 'and', 'vegetables', 'on', 'this', 'ground.', 'in', 'fact,', 'the', 'difference', 'vanishes', 'with', 'the', 'sunshine,\\nthere', 'can', 'be', 'no', 'sympathy', 'for', 'those', 'who', 'have', 'turned', 'the', 'idea', 'of', 'communism', 'into', 'a', 'vile', 'curse', 'to', 'western', 'man.\\nthe', 'commission', 'has', 'found', 'no', 'evidence', 'that', 'the', 'extreme', 'views', 'expressed', 'toward', 'president', 'kennedy\\nshortly', 'after', 'his', 'return', 'from', 'the', 'soviet', 'union,', 'oswald', 'severed', 'all', 'relations', 'with', 'his', 'mother\\nmisess', 'paine', 'testified,', 'quote,\\nthe', 'amount', 'of', \"brewer's\", 'abstractions', 'who', 'was', 'eventually', 'acquitted', 'was', 'never', 'exactly', 'estimated.\\nsteps', 'were', 'taken', 'to', 'provide', 'the', 'illiterate', 'with', 'secular', 'instruction.\\nin', 'the', 'face', 'of', 'such', 'dissenting', 'opinions,', 'it', 'is', 'perfectly', 'clear', 'that,', 'as', 'chief', 'justice', 'hughes', 'has', 'said,\\nthe', 'effect', 'of', 'establishing', 'the', 'forgeries', 'would', 'be', 'to', 'restore', 'to', 'the', 'roupell', 'family', 'lands', 'for', 'which', 'a', 'price', 'had', 'already', 'been', 'paid\\nat', 'about', 'onesixteen', 'p.m.,', 'a', 'dallas', 'police', 'officer,', 'j.', 'd.', 'tippit,', 'was', 'shot', 'less', 'than', 'one', 'mile', 'from', \"oswald's\", 'roominghouse.\\nthe', 'attempt', 'was', 'to', 'have', 'been', 'made', 'by', 'opening', 'a', 'vein', 'and', 'allowing', 'himself', 'to', 'bleed', 'to', 'death.\\nand', 'never', 'realized', 'that', 'the', 'motorcade', 'would', 'pass', 'the', 'texas', 'school', 'book', 'depository', 'building.\\nwhile', 'round', 'about', 'were', 'shoestrings,', 'bootlaces,', 'and', 'lasts.', 'marwood,', 'strange', 'to', 'say,', 'followed', 'the', 'same', 'trade', 'as', 'calcraft.\\nstombaugh', 'explained', 'in', 'his', 'testimony', 'that', 'in', 'fiber', 'analysis,', 'as', 'distinct', 'from', 'fingerprint', 'or', 'firearms', 'identification,\\nnicol', 'differed', 'with', 'the', 'fbi', 'experts', 'on', 'one', 'bullet', 'taken', 'from', \"tippit's\", 'body.\\nthe', 'chronicles', 'of', 'newgate,', 'volume', 'two.', 'by', 'arthur', 'griffiths.', 'section', 'eight', 'the', 'beginnings', 'of', 'prison', 'reform.\\nhe', 'was', 'seen', 'afterwards', 'smoking', 'and', 'talking', 'with', 'his', 'hosts', 'in', 'their', 'back', 'parlor,', 'and', 'never', 'seen', 'again', 'alive.\\nhe', 'felt', 'that', 'each', 'agent', 'recognized', 'the', 'seriousness', 'of', 'the', 'infraction', 'and', 'that', 'there', 'was', 'no', 'danger', 'of', 'a', 'repetition.\\nbut', 'apparently', 'was', 'not', 'able', 'to', 'spend', 'as', 'much', 'time', 'with', 'them', 'as', 'he', 'would', 'have', 'liked,', 'because', 'of', 'the', 'age', 'gaps', 'of', 'five', 'and', 'seven', 'years,\\ni', 'am', 'shocked!', 'my', 'dreams!', 'i', 'have', 'waited', 'for', 'two', 'years', 'to', 'be', 'accepted.\\nnone', 'stayed', 'at', 'the', 'scene', 'of', 'the', 'shooting,', 'and', 'none', 'entered', 'the', 'texas', 'school', 'book', 'depository', 'building', 'at', 'or', 'immediately', 'after', 'the', 'shooting.\\nthose', 'for', 'trial,', 'and', 'those', 'sentenced', 'for', 'short', 'terms', 'or', 'long\\nthat', 'there', 'was', 'no', 'one', 'near', 'oswald', 'who', 'had', 'a', 'shotgun', 'and', 'he', 'saw', 'no', 'one', 'strike', 'oswald', 'in', 'the', 'back', 'with', 'a', 'rifle', 'butt', 'or', 'the', 'butt', 'of', 'a', 'gun.\\nas', 'a', 'result', 'of', 'which', 'he', 'was,', 'quote,', 'flooded', 'with', 'callers', 'and', 'invitations', 'to', 'debates,', 'etc.', 'as', 'well', 'as', 'people', 'interested', 'in', 'joining', 'the', 'f.p.c.c.\\nand', 'in', 'such', 'an', 'effort', 'we', 'should', 'be', 'able', 'to', 'secure', 'for', 'employers', 'and', 'employees', 'and', 'consumers\\nin', 'addition,', 'the', 'restriction', 'would', 'probably', 'eliminate', 'a', 'need', 'for', 'the', 'requirement', 'which', 'has', 'been', 'urged', 'as', 'necessary', 'for', 'the', 'exercise', 'of', 'federal', 'power,\\nthere', 'was', 'no', 'penalty', 'attached', 'to', 'drunkenness.\\nprinting,', 'in', 'the', 'only', 'sense', 'with', 'which', 'we', 'are', 'at', 'present', 'concerned,', 'differs', 'from', 'most', 'if', 'not', 'from', 'all', 'the', 'arts', 'and', 'crafts', 'represented', 'in', 'the', 'exhibition\\nbishop', 'got', 'weary', 'of', 'the', 'dangers', 'and', 'fatigues', 'of', 'exhumation,', 'and', 'proposed', 'to', 'williams', 'that', 'instead', 'of', 'disinterring', 'they', 'should', 'murder', 'their', 'subjects.\\nzahm', 'stated', 'further,', 'quote,\\nthe', 'number', 'of', 'processes', 'against', 'debtors', 'annually', 'was', 'extraordinary.\\nfrom', 'the', 'outset,', 'oswald', 'denied', 'owning', 'a', 'rifle.\\nas', 'soon', 'therefore', 'as', 'he', 'felt', 'within', 'himself', 'that', 'babylon', 'was', 'fated', 'to', 'be', 'taken,', 'he', 'went', 'to', 'darius', 'and', 'asked', 'him', 'if', 'he', 'set', 'a', 'very', 'high', 'value', 'on', 'its', 'conquest.\\ndresden,', 'bordeaux,', 'marseilles,', 'and', 'lyons.\\ndoctor', 'charles', 'f.', 'gregory,', 'chief', 'of', 'orthopedic', 'surgery,', 'operated', 'on', 'the', 'wounds', 'of', 'governor', \"connally's\", 'right', 'wrist,\\namong', 'these', 'guns', 'was', 'a', 'thirtyeight', 'special', 'caliber', 'smith', 'and', 'wesson', 'revolver,', 'serial', 'number', 'v', 'five', 'one', 'zero', 'two', 'one', 'zero,\\ntwo', 'groups', 'oppose', 'my', 'plan', 'on', 'the', 'ground', 'that', 'they', 'favor', 'a', 'constitutional', 'amendment.\\nthey', 'might', 'raise', 'funds', 'for', 'this', 'purpose,', 'provided', 'a', 'certificate', 'for', 'the', 'necessity', 'for', 'the', 'new', 'works', 'was', 'given,', 'either', 'by', 'the', 'recorder\\nseveral', 'persons', 'were', 'sentenced', 'to', 'or', 'suffered', 'death', 'for', 'this', 'crime.\\nthis', 'phial', 'he', 'had', 'managed', 'to', 'retain', 'in', 'his', 'possession', 'in', 'spite', 'of', 'the', 'frequent', 'searches', 'to', 'which', 'he', 'was', 'subjected', 'in', 'newgate.\\nand', 'he', 'had', 'thus', 'ample', 'means', 'of', 'introducing', 'to', 'the', 'prisoners', 'the', 'prohibited', 'but', 'always', 'muchcoveted', 'and', 'generally', 'procurable', 'weed.\\nit', 'was', 'a', 'cell', 'five', 'feet', 'by', 'three,', 'within', 'another,', 'the', 'intervening', 'being', 'filled', 'with', 'rammed', 'earth', 'to', 'deaden', 'the', 'sound.\\nunless', 'such', 'ability', 'to', 'work', 'should', 'cease', 'by', 'reason', 'of', 'sickness,', 'infirmity,', 'the', 'want', 'of', 'sufficient', 'work,', 'or', 'from', 'any', 'other', 'cause.\\nthe', 'grand', 'secret', 'of', 'keeping', 'house', 'well', 'and', 'without', 'worry,', 'lies', 'in', 'the', 'art', 'of', 'packing', 'and', 'fitting', 'different', 'kinds', 'of', 'work', 'and', 'in', 'picking', 'up', 'the', 'minutes.\\nthe', 'antlers', 'of', 'an', 'existing', 'deer', 'furnish', 'in', 'their', 'development', 'a', 'kind', 'of', 'resume,', 'or', 'recapitulation,', 'of', 'the', 'successive', 'phases\\nover', 'the', 'handkerchief', 'around', 'his', 'brows', 'he', 'placed', 'a', 'white', 'cap,', 'the', 'new', 'hat', 'being', 'on', 'top', 'of', 'all.\\nmanaged', 'to', 'get', 'away', 'in', 'the', 'very', 'same', 'spot', 'where', 'his', 'namesake', 'had', 'nine', 'years', 'before', 'so', 'miserably', 'failed.\\ntwo', 'the', 'photographs', 'found', 'among', \"oswald's\", 'possessions,\\nthat,', 'my', 'friends,', 'is', 'what', 'i', 'honestly', 'believe\\nin', 'deciding', 'whether', 'lee', 'harvey', 'oswald', 'fired', 'the', 'shots', 'which', 'killed', 'president', 'kennedy', 'and', 'wounded', 'governor', 'connally,\\nprovided', 'only', 'that', 'their', 'security', 'was', 'not', 'jeopardized,', 'and', 'dependent', 'upon', 'the', 'enforcement', 'of', 'another', 'new', 'rule,\\nwas', 'a', 'mass', 'of', 'blots', 'and', 'erasures,', 'should', 'not', 'have', 'created', 'suspicion', 'of', 'foul', 'play', 'either', 'at', 'the', 'bank', 'or', 'at', 'the', \"company's\", 'board.\\nagent', 'lawson', 'agreed', 'that', 'such', 'a', 'procedure', 'would', 'assist', 'him', 'and', 'other', 'agents', 'in', 'fulfilling', 'their', 'responsibilities', 'as', 'advance', 'agents.\\nin', 'conformity', 'with', 'these', 'arrangements,', 'traffic', 'proceeding', 'west', 'on', 'main', 'is', 'directed', 'to', 'turn', 'right', 'at', 'houston\\nthe', 'wide', 'dark', 'sea', 'of', 'heads', 'is', 'all', 'at', 'once', 'in', 'motion\\nput', 'it', 'into', 'a', 'floured', 'bowl,', 'cover', 'with', 'a', 'cloth', 'and', 'set', 'away', 'out', 'of', 'draught', 'and', 'undue', 'heat,', 'for', 'three', 'hours.\\ni', 'then', 'told', 'the', 'officers', 'that', 'their', 'primary', 'duty', 'was', 'traffic', 'and', 'crowd', 'control', 'and', 'that', 'they', 'should', 'be', 'alert', 'for', 'any', 'persons', 'who', 'might', 'attempt', 'to', 'throw', 'anything\\nthere', 'was', 'much', 'swearing', 'and', 'bad', 'language,', 'the', 'very', 'worst', 'that', 'could', 'be', 'used,', 'from', 'the', 'first', 'thing', 'in', 'the', 'morning', 'to', 'the', 'last', 'thing', 'at', 'night.\\nto', 'eliminate', 'so', 'far', 'as', 'humanly', 'possible,', 'the', 'kinds', 'of', 'unfair', 'practices', 'by', 'selfish', 'minorities', 'which', 'unfortunately\\nshe', 'later', 'gave', 'the', 'following', 'testimony.', 'question\\na', 'doctor', 'is', 'in', 'the', 'motorcade.\\nafterwards', 'in', 'the', 'british', 'german', 'legion', 'raised', 'for', 'the', 'crimean', 'war.\\nduring', 'this', 'period', 'oswald', 'may', 'have', 'practiced', 'opening', 'and', 'closing', 'the', 'bolt', 'on', 'his', 'rifle', 'in', 'a', 'screened', 'porch', 'in', 'his', \"apartment.\\nsaward's\", 'letter', 'to', 'hardwicke', 'fell', 'into', 'the', 'hands', 'of', 'the', 'police', 'and', 'compromised', 'him.\\nhe', 'likewise', 'indicated', 'he', 'was', 'disenchanted', 'with', 'russia.\\nonly', 'when', 'single', 'and', 'unprotected', 'were', 'they', 'in', 'any', 'danger', 'of', 'attack,', 'and', 'that', 'but', 'rarely.\\nso', 'great', 'is', 'the', 'authority', 'exercised', 'by', 'him,\\nthree', 'hundred', 'debtors', 'and', 'nine', 'hundred', 'criminals', 'in', 'newgate,', 'or', 'twelve', 'hundred', 'prisoners', 'in', 'all.\\nabout', 'three', 'hours', 'after', 'the', 'assassination,', 'a', 'detective', 'and', 'deputy', 'sheriff', 'saw', 'the', 'blanketroll,\\nthis', 'personality,', 'and', 'it', 'can', 'be', 'called', 'by', 'no', 'other', 'name,', 'is', 'carefully', 'excluded', 'from', 'prison', 'pulpit', 'utterances', 'on', 'the', 'eve', 'of', 'an', 'execution.\\nfor', 'this', 'purpose', 'he', 'gave,', 'or', 'there', 'was', 'the', 'strongest', 'presumption', 'that', 'he', 'gave,\\nit', 'was', 'suggested', 'that', 'the', 'rules', 'framed', 'for', 'prison', 'government', 'should', 'be', 'subjected', 'to', 'the', 'secretary', 'of', 'state', 'for', 'approval,\\nthree', 'firearm', 'identification', 'of', 'the', 'bullet', 'found', 'in', \"walker's\", 'home,', 'and', 'four\\nand', 'that', \"oswald's\", 'face', 'had', 'not', 'been', 'superimposed', 'on', 'another', 'body.\\nit', 'remains', 'one', 'of', 'the', 'most', 'constant', 'of', 'the', 'distinctive', 'characters', 'of', 'animals.\\nthere', 'was', 'as', 'yet', 'no', 'control', 'over', 'the', 'prisoners', 'after', 'lockingup', 'time\\nfrazier', 'told', 'her', 'that', 'oswald', 'had', 'come', 'home', 'to', 'get', 'curtain', 'rods.\\nin', 'addition,', 'mandella', 'was', 'of', 'the', 'opinion', 'that', 'the', 'print', 'taken', 'from', 'the', 'carton', 'on', 'the', 'floor\\nthere', 'was', 'a', 'smile', 'on', 'his', 'face', 'when', 'it', 'was', 'last', 'seen,', 'and', 'just', 'as', 'the', 'terrible', 'white', 'cap', 'was', 'drawn', 'over', 'it.\\nhis', 'acquaintances', 'often', 'asked', 'his', 'object', 'in', 'this,', 'but', 'he', 'kept', 'his', 'own', 'counsel', 'till', 'the', 'tenth', 'june.\\nthe', 'fbi', 'had', 'been', 'interested', 'in', 'him,', 'to', 'some', 'degree', 'at', 'least,', 'since', 'the', 'time', 'of', 'his', 'defection', 'in', 'october', 'nineteen', 'fiftynine.\\nings', 'was', 'especially', 'defiant.', 'he', 'sought', 'to', 'cheer', 'davidson,', 'who', 'seemed', 'affected,', 'crying', 'out,\\nthis', 'was', 'verified', 'by', 'admiral', 'burkley,', 'the', \"president's\", 'physician,', 'who', 'arrived', 'at', 'the', 'hospital', 'after', 'emergency', 'treatment', 'was', 'underway', 'and', 'concluded', 'that,', 'quote,\\nwhich', 'curves', 'in', 'a', 'southwesterly', 'direction', 'as', 'it', 'proceeds', 'downgrade', 'toward', 'the', 'triple', 'underpass', 'and', 'the', 'stemmons', 'freeway.\\nall', 'instructions', 'from', 'higher', 'authority', 'were', 'communicated', 'to', 'him', 'orally.\\nin', 'the', 'case', 'of', 'dallas,', 'because', 'president', 'kennedy', 'had', 'scheduled', 'visits', 'to', 'five', 'texas', 'cities\\nfrom', 'across', 'the', 'street', 'callaway', 'yelled,', 'quote,', 'hey,', 'man,', 'what', 'the', 'hell', 'is', 'going', 'on?', 'end', 'quote.\\nsome', 'of', 'which', 'must', 'be', 'specially', 'designed', 'to', 'fit', 'unique', 'requirements.', 'even', 'before', 'the', 'assassination,', 'and', 'to', 'a', 'far', 'greater', 'extent', 'thereafter,\\nthe', 'other', 'accepted,', 'and', 'they', 'got', 'into', 'conversation.\\ncirculation,', 'metabolism,', 'excretion,', 'oxygenation', 'part', 'of', 'respiration,\\nit', 'animadverted', 'strongly', 'on', 'the', 'many', 'and', 'wide', 'differences', 'as', 'regards', 'construction,', 'labor,', 'diet,', 'and', 'general', 'discipline\\none', 'word', 'with', 'regard', 'to', 'getting', 'up', 'early', 'in', 'order', 'to', 'give', 'dough', 'a', 'chance', 'for', 'the', 'second', 'rising.\\nto', 'give', 'better', 'light', 'and', 'ventilation', 'the', 'construction', 'of', 'bedplaces,', 'three', 'tiers', 'high', 'alongside', 'the', 'walls', 'for', 'males,', 'two', 'tiers', 'for', 'females\\nthat', 'she', 'could', 'not', 'afford', 'to', 'send', 'them', 'back', 'to', 'the', 'military', 'school', 'and', 'she', 'asked', 'pic', 'to', 'quit', 'school', 'entirely', 'to', 'help', 'support', 'the', 'family.\\nin', 'coldblooded', 'premeditation', 'it', 'rivaled', 'that', 'of', 'the', 'mannings.\\nusing', 'a', 'standard', 'chemical', 'method', 'involving', 'silver', 'nitrates\\nagain', 'at', 'twelvefortyeight', 'p.m.,', 'and', 'again', 'at', 'twelvefiftyfive', 'p.m.\\ndetailed', 'security', 'arrangements', 'had', 'been', 'made', 'by', 'radio', 'from', 'the', \"president's\", 'plane', 'on', 'the', 'return', 'flight.\\nmister', 'buxton', 'had', 'already', 'been', 'associated', 'with', 'misess', 'fry', 'in', 'the', 'newgate', 'visitation,', 'and', 'his', 'attention', 'had', 'thus', 'been', 'drawn', 'to', 'the', 'neglected', 'state', 'of', 'english', 'prisons.\\nthe', 'sheriffs', 'were', 'in', 'one', 'gallery\\na', 'communist', 'party', 'publication.\\ngreat', 'personages', 'occupied', 'seats', 'upon', 'the', 'bench\\nit', 'must', 'be', 'said', 'that', 'it', 'is', 'in', 'no', 'way', 'like', 'the', 'transition', 'type', 'of', 'subiaco,\\nwhile', 'waiting', 'for', 'the', 'parade', 'to', 'start', 'they', 'talked', 'briefly', 'about', 'nineteen', 'eightyfour\\nbarber,', 'it', 'was', 'said,', 'became', 'aware', 'of', 'this,\\ndarius', 'having', 'become', 'master', 'of', 'the', 'place,', 'destroyed', 'the', 'wall,', 'and', 'tore', 'down', 'all', 'the', 'gates\\ni', 'think', 'they', 'will', 'believe', 'my', 'words', 'and', 'entrust', 'me', 'with', 'a', 'command', 'of', 'troops.', 'thou,', 'on', 'thy', 'part,', 'must', 'wait\\nthe', 'house', 'was', 'nearly', 'without', 'resources,', 'and', 'the', 'whole', 'burthen', 'of', 'management', 'falling', 'on', 'me,', 'i', 'sought', 'resources', 'where', 'i', 'could\\nbut', 'it', 'offered', 'suggestions', 'for', 'future', 'buildings,', 'with', 'numerous', 'carefullyexecuted', 'drawings', 'and', 'designs', 'of', 'the', 'model', 'it', 'recommended', 'for', 'imitation.\\nthought', 'that', 'marina', 'oswald', 'was', 'immature', 'in', 'her', 'thinking', 'and', 'partly', 'responsible', 'for', 'the', 'difficulties', 'that', 'the', 'oswalds', 'were', 'having', 'at', 'that', 'time.\\njames', 'c.', 'cadigan,', 'fbi', 'handwriting', 'expert,', 'testified', 'that', 'this', 'note', 'was', 'written', 'by', 'lee', 'harvey', 'oswald.\\nthe', 'key', 'men', 'for', 'the', 'major', 'responsibilities', 'of', 'this', 'great', 'task', 'already', 'have', 'been', 'selected.\\nnothing', 'but', 'a', 'linear', 'tract', 'of', 'specially', 'modified', 'protoplasm', 'between', 'two', 'points', 'of', 'an', 'organism\\nhe', 'was', 'a', 'man', 'esteemed', 'and', 'respected', 'in', 'society', 'and', 'the', 'world', 'of', 'finance,', 'incapable', 'as', 'it', 'was', 'thought', 'of', 'a', 'dishonest', 'deed.\\ndissolved', 'in', 'water,', 'the', 'sugar', 'is', 'transported', 'down', 'delicate', 'tubes,', 'chiefly', 'in', 'the', 'growing', 'bark', 'region', 'of', 'the', 'stem.\\nthere', 'have', 'been', 'references', 'to', 'the', 'numerous', 'discussions', 'between', 'secret', 'service', 'representatives', 'and', 'the', 'dallas', 'police', 'department.\\nand', 'who', 'are', 'therefore', 'lodged', 'apart', 'from', 'all', 'other', 'districts', 'of', 'the', 'jail.', 'end', 'quote.\\nwhen', 'his', 'wife', 'asked', 'oswald', 'not', 'to', 'come', 'to', 'irving.\\nexperts', 'on', 'questioned', 'documents', 'from', 'the', 'treasury', 'department', 'and', 'the', 'fbi', 'testified', 'that', 'the', 'hidell', 'cards', 'were', 'counterfeit', 'photographic', 'reproductions\\none', 'of', 'them', 'of', 'considerable', 'size.\\nwhom', 'he', 'viewed', 'in', 'a', 'police', 'lineup', 'on', 'the', 'night', 'of', 'the', 'assassination,', 'was', 'the', 'man', 'he', 'saw', 'fire', 'the', 'shots', 'from', 'the', 'sixthfloor', 'window', 'of', 'the', 'depository', 'building.\\nthe', 'preceding', 'chapter', 'has', 'established', 'that', 'the', 'bullets', 'which', 'killed', 'president', 'kennedy', 'and', 'wounded', 'governor', 'connally\\nwhich', 'appears', 'to', 'be', 'more', 'an', 'expression', 'of', 'his', 'own', 'psychological', 'condition', 'than', 'of', 'a', 'reasoned', 'analysis.\\noswald', 'must', 'have', 'been', 'thoroughly', 'disillusioned', 'when', 'he', 'left', 'mexico', 'city', 'on', 'october', 'two,', 'nineteen', 'sixtythree.\\nmajor', 'anderson', 'said,', 'quote,', 'when', 'he', 'fired', 'that', 'two', 'twelve\\nbut', 'in', 'opposition', 'to', 'the', 'recorded', 'denunciations', 'of', 'authority,', 'and', 'in', 'defiance', 'of', 'the', 'express', 'enactments', 'of', 'the', 'law,\\nthe', 'various', 'grades', 'were', 'distinguished', 'by', 'cockades', 'and', 'bows', 'of', 'different', 'colors.\\nhe', 'said', 'that', 'his', 'marine', 'service', 'in', 'okinawa', 'and', 'elsewhere', 'had', 'given', 'him,', 'quote,', 'a', 'chance', 'to', 'observe', 'american', 'imperialism,', 'end', 'quote.\\nhence', 'the', 'frequent', 'cases', 'of', 'drunkenness,', 'of', 'which', 'no', 'notice', 'was', 'taken,', 'unless', 'people', 'grew', 'riotous', 'in', 'their', 'cups\\nshe', 'testified,', 'quote,', 'i', \"didn't\", 'like', 'his', 'attitude.', 'there', 'was', 'just', 'something', 'about', 'him', 'i', \"didn't\", 'like', 'or', 'want', 'him.', 'just', \"didn't\", 'want', 'him', 'around', 'me,', 'end', 'quote,\\nmister', 'charles', 'kean', 'the', 'tragedian', 'was', 'also', 'present,\\nthe', 'more', 'peaceably', 'disposed', 'found', 'some', 'occupation', 'in', 'making', 'newgate', 'tokens,\\narnold', 'johnson,', 'director', 'of', 'the', 'information', 'and', 'lecture', 'bureau', 'of', 'the', 'communist', 'party,', 'u.s.a.,', 'replied', 'stating,', 'quote,\\nfive', 'tablespoonfuls', 'of', 'yeast.\\nwho', 'came', 'from', 'his', 'room', 'ready', 'dressed,', 'a', 'suspicious', 'circumstance,', 'as', 'he', 'was', 'always', 'late', 'in', 'the', 'morning.\\nwho', 'was', 'arrested', 'in', 'the', 'very', 'act,', 'just', 'as', 'he', 'had', 'fired', 'one', 'shot.\\nand', 'capable', 'of', 'becoming', 'most', 'dangerous', 'weapons', 'in', 'the', 'hands', 'of', 'desperate', 'and', 'determined', 'men.\\noswald', 'had', 'entered', 'the', 'house', 'in', 'his', 'shirt', 'sleeves,', 'but', 'when', 'he', 'left,', 'he', 'was', 'zipping', 'up', 'a', 'jacket.\\nand', 'discipline', 'maintained', 'by', 'a', 'system', 'open', 'to', 'grave', 'abuses,', 'and', 'which', 'had', 'the', 'prescription', 'of', 'long', 'usage,\\non', 'november', 'twentytwo,', 'nineteen', 'sixtythree.', 'one', 'of', 'these', 'pictures,', 'exhibit', 'number', 'one', 'thirtythree', 'a,', 'shows', 'most', 'of', 'the', \"rifle's\", 'configuration.\\nas', 'a', 'means', 'of', 'getting', 'or', 'attempting', 'to', 'get', 'sympathy,', 'end', 'quote.', 'in', \"thornley's\", 'view,', 'oswald', 'labored', 'under', 'a', 'persecution', 'complex\\ntwo', 'witnesses', 'testified', 'that', 'oswald', 'resembled', 'the', 'man', 'they', 'had', 'seen.\\ni', 'gave', 'heed', 'to', 'the', 'needs', 'of', 'babylon', 'and', 'its', 'cities,', 'and', 'the', 'servitude', 'of', 'the', 'babylonians,', 'whatever', 'was', 'oppressive,', 'i', 'removed', 'from', 'them.\\nthe', 'apathy', 'of', 'the', 'authorities,', 'and', 'the', 'undue', 'ascendancy', 'of', 'those', 'who,', 'as', 'convicted', 'felons,', 'should', 'have', 'been', 'most', 'sternly', 'repressed,\\nsome', 'of', 'the', 'judges', 'would', 'have', 'retained', 'the', 'public', 'spectacle', 'the', 'ordinary', 'of', 'newgate', 'was', 'not', 'certain', 'that', 'public', 'executions', 'were', 'not', 'the', 'best.\\nthree', 'employees', '', 'james', 'jarman,', 'junior,\\nin', 'distinct', 'rooms,', 'on', 'pain', 'of', 'forfeiting', 'his', 'office', 'and', 'treble', 'damages', 'to', 'the', 'party', 'aggrieved.\\nwhose', 'business', 'it', 'was', 'to', 'provide', 'the', 'rope', 'and', 'do', 'the', 'pinioning,', 'and', 'who', 'was', 'paid', 'a', 'fee', 'of', 'five', 'shillings.\\nthat', 'associate', 'did', 'not', 'think', 'that', 'oswald', 'was', 'a', 'communist.\\nbut', 'was', 'careful', 'to', 'prime', 'them', 'with', 'his', 'facts', 'and', 'lead', 'them', 'if', 'possible', 'to', 'accept', 'his', 'diagnosis', 'of', 'the', 'case.\\nshe', 'said,', 'quote,', 'no', 'by', 'golly,', 'he', \"didn't,\", 'end', 'quote,', 'and', 'turned', 'around,', 'but', 'the', 'man', 'was', 'nowhere', 'in', 'sight.\\nthe', 'changes', 'necessary', 'to', 'bring', 'the', 'prisons', 'into', 'conformity', 'with', 'the', 'recent', 'acts', 'were', 'attempted,', 'if', 'not', 'actually', 'introduced', 'into', 'the', 'county', 'prisons,', 'to', 'which,\\nthe', 'babylonians,', 'seeing', 'a', 'persian', 'of', 'such', 'exalted', 'rank', 'in', 'so', 'grievous', 'a', 'plight,', 'his', 'nose', 'and', 'ears', 'cut', 'off,\\nher', 'arrest', 'was', 'planned,', 'and,', 'when', 'the', 'telegram', 'arrived', 'from', 'london,', 'completed.\\ntwo', 'days', 'later,', 'a', 'local', 'republican', 'leader', 'called', 'for', 'a', 'civilized', 'nonpartisan', 'welcome\\nand', 'eventually', 'lodged', 'in', 'bethlehem', 'hospital,', 'where', 'she', 'died', 'after', 'forty', \"years'\", 'detention,', 'at', 'the', 'advanced', 'age', 'of', 'one', 'hundred.\\nthe', 'general', 'solidity', 'of', 'a', 'page', 'is', 'much', 'to', 'be', 'sought', 'for\\namong', 'the', 'escapes', 'still', 'remembered', 'was', 'one', 'in', 'eighteen', 'fortynine,', 'accomplished', 'by', 'a', 'man', 'who', 'had', 'been', 'employed\\nvarious', 'punishments', 'were', 'inflicted,', 'the', 'heaviest', 'of', 'which', 'was', 'standing', 'in', 'the', 'pillory.\\nwarned', 'me', 'that', 'if', 'i', 'engaged', 'in', 'f.p.c.c.', 'activities', 'in', 'texas', 'the', 'f.b.i.', 'will', 'again', 'take', 'an', 'interest', 'in', 'me,', 'end', 'quote.\\nthe', 'fish', 'retains', 'permanently', 'this', 'form,', 'but', 'the', 'frog', 'passes', 'on.\\nto', 'reach', 'the', 'trade', 'mart', 'from', 'main', 'street', 'the', 'agents', 'decided', 'to', 'use', 'the', 'stemmons', 'freeway', 'route', 'number', 'seventyseven,', 'the', 'most', 'direct', 'route.\\nwith', 'a', 'few', 'bright', 'exceptions,', 'still', 'deplorable', 'and', 'disgraceful.\\nmost', 'of', 'the', 'agents', 'were', 'there', 'from', 'about', 'onethirty', 'or', 'onefortyfive', 'a.m.', 'to', 'about', 'twofortyfive', 'or', 'three', 'a.m.\\nthe', 'allowance', 'of', 'food', 'was', 'not', 'illiberal,\\nthat', 'he', 'was', 'involved', 'in', 'any', 'conspiracy,', 'his', 'political', 'activities', 'do', 'provide', 'insight', 'into', 'certain', 'aspects', 'of', \"oswald's\", 'character\\nthat', 'such', 'a', 'procedure', 'would', 'not', 'be', 'consistent', 'with', 'the', 'nature', 'and', 'purpose', 'of', 'the', 'motorcade', 'to', 'let', 'the', 'people', 'see', 'their', 'president', 'and', 'to', 'welcome', 'him', 'to', 'their', 'city.\\nit', 'cannot', 'be', 'denied,', 'however,', 'that', 'the', \"ordinary's\", 'treatment', 'was', 'somewhat', 'unfeeling,', 'and', 'in', 'proof', 'thereof\\noswald', 'must', 'have', 'already', 'learned', 'that', 'the', 'governor', 'could', 'not', 'help', 'him', 'with', 'his', 'discharge', 'because', 'he', 'was', 'no', 'longer', 'secretary', 'of', 'the', 'navy,', 'at', 'the', 'time', 'he', 'made', 'that', 'remark.\\ndefection', 'to', 'the', 'soviet', 'union\\nwas', 'the', 'return', 'from', 'transportation', 'of', 'an', 'old', 'pal', 'and', 'confederate,', 'who', 'brought', 'with', 'him', 'some', 'bills', 'of', 'exchange.\\nsecret', 'service', 'requests', 'to', 'other', 'agencies', 'for', 'intelligence', 'information\\nprovisions', 'for', 'social', 'security,', 'however,', 'are', 'protections', 'for', 'the', 'future.\\non', 'the', 'contrary,', 'the', 'prevailing', 'sentiment', 'was', 'one', 'of', 'satisfaction', 'at', 'the', 'success', 'of', 'the', 'spectacle.\\nand', 'issued', 'his', 'initial', 'orders', 'at', 'twelvethirty', 'p.m.\\nmy', 'record', 'as', 'governor', 'and', 'president', 'proves', 'my', 'devotion', 'to', 'those', 'liberties.\\nand', 'that', 'he', 'was', 'constantly', 'engaged', 'attending', 'sessions', 'and', 'going', 'with', 'drafts', 'to', 'the', 'hulks.\\nthere', 'the', 'hangman', 'added', 'his', 'weight', 'to', 'that', 'of', 'the', 'suspended', 'culprit,\\nless', 'picturesque', 'than', 'this', 'hebrew', 'legend', 'is', 'the', 'royal', 'record', 'of', 'babylon,', 'which', 'fortunately', 'was', 'inscribed', 'upon', 'a', 'clay', 'cylinder', 'from', 'the', 'ruins', 'of', 'the', 'city.\\nthrough', 'the', 'evening', 'of', 'friday,', 'november', 'twentytwo.\\nhe', 'also', 'expressed', 'considerable', 'resentment', 'at', 'the', 'help', 'given', 'to', 'his', 'wife', 'by', 'her', 'russianamerican', 'friends.\\nsome', 'ham', 'sandwiches,', 'several', 'cigar', 'ends,', 'and', 'two', 'empty', 'champagne', 'bottles', 'were', 'found', 'on', 'the', 'premises', 'next', 'day,', 'showing', 'how', 'they', 'had', 'passed', 'their', 'time.\\nand', 'he', 'estimated', 'that', 'it', 'took', 'him', 'three', 'to', 'four', 'minutes', 'to', 'drive', 'three', 'blocks', 'west', 'from', 'the', 'checkpoint', 'to', 'field', 'street,\\nof', 'course', 'with', 'the', 'added', 'improvements', 'following', 'longer', 'experience,', 'of', 'the', 'pattern', 'originated', 'by', 'the', 'architectural', 'genius', 'of', 'sir', 'joshua', 'jebb.\\nand', 'kept', 'itself', 'informed', 'on', \"oswald's\", 'status', 'by', 'periodic', 'reviews', 'of', 'state', 'department', 'and', 'office', 'of', 'naval', 'intelligence', 'files.\\nafter', 'his', 'bankruptcy', 'he', 'obtained', 'a', 'place', 'as', 'clerk', 'in', 'the', 'great', 'northern', 'railway', 'office,\\nand', 'as', 'some', 'time', 'elapsed', 'before', 'the', 'discovery', 'and', 'apprehension', 'of', 'the', 'supposed', 'murderer,\\nthe', 'rifle', 'was', 'released', 'to', 'the', 'fbi', 'and', 'forwarded', 'to', 'washington', 'where', 'it', 'was', 'examined', 'on', 'the', 'morning', 'of', 'november', 'twentythree\\nhe', 'was', 'not', 'actually', 'planning', 'to', 'shoot', 'mister', 'nixon', 'at', 'that', 'time', 'in', 'dallas.\\nbouck', 'explained', 'the', 'failure', 'to', 'try', 'to', 'identify', 'the', 'individuals', 'involved', 'in', 'the', 'stevenson', 'incident', 'after', 'it', 'occurred', 'on', 'the', 'ground', 'that\\nbut', 'expand', 'both', 'the', 'scope', 'and', 'the', 'operations', 'of', 'the', 'existing', 'agencies,', 'particularly', 'those', 'of', 'the', 'secret', 'service', 'and', 'the', 'fbi.\\nwhere', 'are', 'messrs.', \"portal's\", 'mills', 'for', 'the', 'manufacture', 'of', 'banknote', 'paper.\\nalso', 'a', 'furniture', 'dealer', 'and', 'one', 'or', 'two', 'more', 'commonplace', 'rogues.', 'the', 'arch', 'villain', 'was', 'never', 'taken', 'into', 'custody.\\nthe', 'name', 'hidell', 'was', 'stamped', 'on', 'some', 'of', 'the', \"chapter's\", 'printed', 'literature', 'and', 'on', 'the', 'membership', 'application', 'blanks.\\nand', 'the', 'second', \"month's\", 'rent', 'was', 'paid', 'on', 'either', 'april', 'two', 'or', 'april', 'three.\\nto', 'issue', 'new', 'bonds', 'therefore', 'bearing', 'only', 'three', 'and', 'one', 'half', 'percent', 'interest,\\nhocker', 'and', 'the', 'brother', 'went', 'to', 'the', 'spot,', 'where', 'the', 'latter', 'left', 'him', 'to', 'meet', 'his', \"sister's\", 'seducer', 'alone.\\nthey', 'had', 'omitted', 'to', 'insert', 'the', 'dates', 'in', 'certain', 'bills.\\nthat', 'the', 'man', 'was', 'a,', 'quote,', 'white', 'male,', 'about', 'twentyfive,', 'about', 'five', 'feet', 'eight,', 'brown', 'hair,', 'medium,', 'end', 'quote,', 'and', 'wearing', 'a,', 'quote,\\nwas', 'the', 'variety', 'of', 'views', 'as', 'regards', 'the', 'discipline', 'to', 'be', 'introduced', 'in', 'these', 'new', 'prisons.', 'the', 'time', 'was', 'one\\nsimilarly,', 'virginia', 'davis', 'had', 'not', 'been', 'shown', 'pictures', 'of', 'anyone', 'prior', 'to', 'the', 'lineup', 'and', 'had', 'not', 'seen', 'either', 'television', 'or', 'the', 'newspapers', 'during', 'the', 'afternoon.\\nday', 'after', 'day', 'you', 'travel', 'on,', 'scorched', 'by', 'the', 'heat', 'of', 'noonday,', 'shivering', 'in', 'the', 'chill', 'winds', 'of', 'the', 'night.\\ni', 'will', 'now', 'pass', 'to', 'grave', 'but', 'less', 'atrocious', 'crimes.\\nneild', 'gives', 'a', 'list', 'of', 'the', 'various', 'items', 'charged', 'upon', 'a', 'debt', 'of', 'ten', 'pounds,', 'which', 'included', 'instructions', 'to', 'sue,\\nwe', 'would', 'handle', 'it', 'in', 'due', 'course,', 'in', 'accord', 'with', 'the', 'whole', 'context', 'of', 'the', 'investigation.', 'end', 'quote.\\nthe', 'shameful', 'malpractices', 'of', 'bambridge,\\nand', 'to', 'show', 'his', 'gratitude', 'to', 'the', 'warder', 'who', 'procured', 'this', 'privilege', 'for', 'him,', 'he', 'made', 'him', 'a', 'present.\\nin', 'eighteen', 'thirtyseven', 'the', 'death', 'penalty', 'was', 'practically', 'limited', 'to', 'murder', 'or', 'attempts', 'to', 'murder,\\nlaid', 'it', 'down', 'that', 'individuals', 'might', 'be', 'confined', 'separately', 'and', 'apart', 'in', 'single', 'cells.\\n']\n",
            "{'a': 129, 'about': 14, 'after': 17, 'all': 16, 'also': 10, 'an': 23, 'and': 220, 'any': 12, 'are': 12, 'as': 56, 'at': 49, 'be': 43, 'been': 32, 'before': 11, 'but': 19, 'by': 52, 'dallas': 10, 'during': 10, 'end': 18, 'for': 61, 'found': 10, 'from': 44, 'had': 68, 'has': 10, 'have': 28, 'he': 68, 'her': 10, 'him': 24, 'his': 73, 'i': 23, 'if': 12, 'in': 160, 'into': 17, 'is': 40, 'it': 31, 'its': 12, 'made': 12, 'man': 10, 'more': 11, 'most': 11, 'new': 11, 'nineteen': 15, 'no': 15, 'not': 38, 'of': 316, 'on': 73, 'one': 23, 'or': 40, 'oswald': 26, 'other': 15, 'police': 11, 'president': 13, 'quote,': 14, 'service': 10, 'she': 11, 'should': 11, 'so': 11, 'some': 10, 'such': 12, 'that': 100, 'the': 621, 'their': 24, 'them': 11, 'they': 25, 'this': 28, 'those': 10, 'three': 16, 'time': 20, 'to': 232, 'two': 11, 'was': 137, 'were': 39, 'when': 16, 'where': 11, 'which': 36, 'who': 25, 'with': 60, 'would': 19}\n"
          ],
          "name": "stdout"
        }
      ]
    },
    {
      "cell_type": "markdown",
      "metadata": {
        "id": "2S1I8zurhnWo",
        "colab_type": "text"
      },
      "source": [
        "# Numpy\n",
        "- numpy\n",
        " - 가장 필수적이고 기초가 되는 패키지로서, 대부분의 패키지가 NumPy에 대한 dependency가 존재함\n",
        " - 효율적인 연산이 가능한 다차원 array 자료형을 제공\n",
        "- Scipy\n",
        " - Linear algebra, optimization, integration, statistics, signal processing 등의 모듈 제공\n",
        " - Scientific computing과 관련된 수많은 기능들을 제공\n",
        " - NumPy + SciPy만으로 MATLAB에서 제공하는 대부분의 계산 기능을 대체할 수 있음\n",
        "- Pandas\n",
        " - 데이터를 가공하고 분석하기 위한 패키지\n",
        " - 컬럼 이름과 행의 index가 존재하는 엑셀의 표와 같은 자료형을 제공함\n",
        " - spreadsheets나 relational databases에서의 유연한 데이터 처리 기능들을 지원"
      ]
    },
    {
      "cell_type": "code",
      "metadata": {
        "id": "uBrGpbl5jjnc",
        "colab_type": "code",
        "colab": {}
      },
      "source": [
        "import numpy as np"
      ],
      "execution_count": 0,
      "outputs": []
    },
    {
      "cell_type": "markdown",
      "metadata": {
        "id": "pC8H0j8dimo1",
        "colab_type": "text"
      },
      "source": [
        "Numpy를 사용하는 이유\n",
        "- list로만 계산하는데 한계가 존재함\n",
        "- 기계학습은 주로 행렬의 연산으로 수행\n",
        "- Numpy를 사용하지 않고 Python의 기본 기능들을 활용하여 위의 연산들을 수행할 수 있으나 많은 제약이 존재함"
      ]
    },
    {
      "cell_type": "markdown",
      "metadata": {
        "id": "RtKiqLMpi6Zl",
        "colab_type": "text"
      },
      "source": [
        "- dtype\n",
        " - 한 array 객체에는 모두 동일한 타입의 elements들이 포함됨\n",
        " - 여러 타입의 elements가 포함된 경우 자동으로 하나의\n",
        "타입으로 변환됨"
      ]
    },
    {
      "cell_type": "code",
      "metadata": {
        "id": "od-vr9fDjUuP",
        "colab_type": "code",
        "outputId": "7f76a04b-7ea3-49b9-e08d-a6e47257c13c",
        "colab": {
          "base_uri": "https://localhost:8080/",
          "height": 34
        }
      },
      "source": [
        "b=np.array([1,2,3.0])\n",
        "b.dtype"
      ],
      "execution_count": 0,
      "outputs": [
        {
          "output_type": "execute_result",
          "data": {
            "text/plain": [
              "dtype('float64')"
            ]
          },
          "metadata": {
            "tags": []
          },
          "execution_count": 165
        }
      ]
    },
    {
      "cell_type": "markdown",
      "metadata": {
        "id": "XACIL9jKjpP6",
        "colab_type": "text"
      },
      "source": [
        "- ndim\n",
        "  - 차원 묻기"
      ]
    },
    {
      "cell_type": "code",
      "metadata": {
        "id": "D1dH3YIGjv_N",
        "colab_type": "code",
        "outputId": "7894bfe1-a81e-4a5c-fa86-86dc21b16291",
        "colab": {
          "base_uri": "https://localhost:8080/",
          "height": 34
        }
      },
      "source": [
        "b.ndim"
      ],
      "execution_count": 0,
      "outputs": [
        {
          "output_type": "execute_result",
          "data": {
            "text/plain": [
              "1"
            ]
          },
          "metadata": {
            "tags": []
          },
          "execution_count": 166
        }
      ]
    },
    {
      "cell_type": "markdown",
      "metadata": {
        "id": "Ws9MDdc4jxPG",
        "colab_type": "text"
      },
      "source": [
        "- shape\n",
        "  - 각 차원의 크기\n",
        "  -tuple 객체의 length는 ndim과 동일함"
      ]
    },
    {
      "cell_type": "code",
      "metadata": {
        "id": "ivJCbsd5j2ya",
        "colab_type": "code",
        "outputId": "a7cf7847-8ad5-465f-f5ac-7e4e6574f4d5",
        "colab": {
          "base_uri": "https://localhost:8080/",
          "height": 70
        }
      },
      "source": [
        "print(b.shape)\n",
        "b=np.array([[1,2,3.0]])\n",
        "print(b.shape)\n",
        "print(b.ndim)"
      ],
      "execution_count": 0,
      "outputs": [
        {
          "output_type": "stream",
          "text": [
            "(3,)\n",
            "(1, 3)\n",
            "2\n"
          ],
          "name": "stdout"
        }
      ]
    },
    {
      "cell_type": "code",
      "metadata": {
        "id": "NNb2nhwYkOMy",
        "colab_type": "code",
        "outputId": "10f0567a-3b30-4214-aead-789ca50d9acf",
        "colab": {
          "base_uri": "https://localhost:8080/",
          "height": 52
        }
      },
      "source": [
        "print(b.ndim)\n",
        "print(len(b.shape)) # b.shape : (1,3)"
      ],
      "execution_count": 0,
      "outputs": [
        {
          "output_type": "stream",
          "text": [
            "2\n",
            "2\n"
          ],
          "name": "stdout"
        }
      ]
    },
    {
      "cell_type": "markdown",
      "metadata": {
        "id": "yDmq-d0zklLX",
        "colab_type": "text"
      },
      "source": [
        "- size\n",
        " - shape의 elements들을 모두 곱한 결과와 같음"
      ]
    },
    {
      "cell_type": "code",
      "metadata": {
        "id": "vYaLy2r-kqd7",
        "colab_type": "code",
        "outputId": "3df959bb-fa7e-4b1b-9b80-0aca4558550a",
        "colab": {
          "base_uri": "https://localhost:8080/",
          "height": 34
        }
      },
      "source": [
        "b.size"
      ],
      "execution_count": 0,
      "outputs": [
        {
          "output_type": "execute_result",
          "data": {
            "text/plain": [
              "3"
            ]
          },
          "metadata": {
            "tags": []
          },
          "execution_count": 170
        }
      ]
    },
    {
      "cell_type": "markdown",
      "metadata": {
        "id": "nA5DpZqllCDt",
        "colab_type": "text"
      },
      "source": [
        "- Not equal-length case"
      ]
    },
    {
      "cell_type": "code",
      "metadata": {
        "id": "YhLhiboGlGcJ",
        "colab_type": "code",
        "outputId": "fd4299b7-048f-4ae9-e3cc-d732d34cf4ff",
        "colab": {
          "base_uri": "https://localhost:8080/",
          "height": 52
        }
      },
      "source": [
        "d = np.array([[1,2],[1,2,3]])\n",
        "print(d)\n",
        "print(d.shape)"
      ],
      "execution_count": 0,
      "outputs": [
        {
          "output_type": "stream",
          "text": [
            "[list([1, 2]) list([1, 2, 3])]\n",
            "(2,)\n"
          ],
          "name": "stdout"
        }
      ]
    },
    {
      "cell_type": "markdown",
      "metadata": {
        "id": "mNfApUJJlN9Z",
        "colab_type": "text"
      },
      "source": [
        "- array 생성 후 shape를 변경하는 것보다\n",
        "생성한 array의 elements를 변경하는 것이 더 효율적임\n"
      ]
    },
    {
      "cell_type": "markdown",
      "metadata": {
        "id": "3ApKqmMrmpA-",
        "colab_type": "text"
      },
      "source": [
        "- np.identity\n",
        " - 정사각 행렬\n",
        "-np.eye"
      ]
    },
    {
      "cell_type": "code",
      "metadata": {
        "id": "cdb_bnAAl8r7",
        "colab_type": "code",
        "outputId": "e880fa6c-d4d0-4038-dd6c-e417bb2e71c1",
        "colab": {
          "base_uri": "https://localhost:8080/",
          "height": 87
        }
      },
      "source": [
        "np.identity(4)"
      ],
      "execution_count": 0,
      "outputs": [
        {
          "output_type": "execute_result",
          "data": {
            "text/plain": [
              "array([[1., 0., 0., 0.],\n",
              "       [0., 1., 0., 0.],\n",
              "       [0., 0., 1., 0.],\n",
              "       [0., 0., 0., 1.]])"
            ]
          },
          "metadata": {
            "tags": []
          },
          "execution_count": 173
        }
      ]
    },
    {
      "cell_type": "code",
      "metadata": {
        "id": "wFSCDCblmwiU",
        "colab_type": "code",
        "outputId": "b2dff28b-ecd2-4775-891b-43c40b718689",
        "colab": {
          "base_uri": "https://localhost:8080/",
          "height": 70
        }
      },
      "source": [
        "np.eye(3,4,2) #행,렬 1이 시작할 위치"
      ],
      "execution_count": 0,
      "outputs": [
        {
          "output_type": "execute_result",
          "data": {
            "text/plain": [
              "array([[0., 0., 1., 0.],\n",
              "       [0., 0., 0., 1.],\n",
              "       [0., 0., 0., 0.]])"
            ]
          },
          "metadata": {
            "tags": []
          },
          "execution_count": 174
        }
      ]
    },
    {
      "cell_type": "markdown",
      "metadata": {
        "id": "TlyQygzgm4IW",
        "colab_type": "text"
      },
      "source": [
        "- np.arange\n",
        " - range 함수와 유사하게 동작, array 반환\n",
        " - **arguments로 float 사용가능**\n",
        "- np.linspace"
      ]
    },
    {
      "cell_type": "code",
      "metadata": {
        "id": "wAQKjuDInNCb",
        "colab_type": "code",
        "outputId": "69ce29d7-8057-43d5-c637-a9b3085701e6",
        "colab": {
          "base_uri": "https://localhost:8080/",
          "height": 52
        }
      },
      "source": [
        "np.arange(10,20,0.5)"
      ],
      "execution_count": 0,
      "outputs": [
        {
          "output_type": "execute_result",
          "data": {
            "text/plain": [
              "array([10. , 10.5, 11. , 11.5, 12. , 12.5, 13. , 13.5, 14. , 14.5, 15. ,\n",
              "       15.5, 16. , 16.5, 17. , 17.5, 18. , 18.5, 19. , 19.5])"
            ]
          },
          "metadata": {
            "tags": []
          },
          "execution_count": 175
        }
      ]
    },
    {
      "cell_type": "code",
      "metadata": {
        "id": "VlAgnRaAnRaA",
        "colab_type": "code",
        "outputId": "a29e203d-5e06-441b-d58f-2609685c5b97",
        "colab": {
          "base_uri": "https://localhost:8080/",
          "height": 87
        }
      },
      "source": [
        "np.linspace(0,10,20) # start, finish, 간격 개수"
      ],
      "execution_count": 0,
      "outputs": [
        {
          "output_type": "execute_result",
          "data": {
            "text/plain": [
              "array([ 0.        ,  0.52631579,  1.05263158,  1.57894737,  2.10526316,\n",
              "        2.63157895,  3.15789474,  3.68421053,  4.21052632,  4.73684211,\n",
              "        5.26315789,  5.78947368,  6.31578947,  6.84210526,  7.36842105,\n",
              "        7.89473684,  8.42105263,  8.94736842,  9.47368421, 10.        ])"
            ]
          },
          "metadata": {
            "tags": []
          },
          "execution_count": 178
        }
      ]
    },
    {
      "cell_type": "markdown",
      "metadata": {
        "id": "9382NzsaneAX",
        "colab_type": "text"
      },
      "source": [
        "- np array를 이용한 연산을 수행하면 새로운 객체가 생성됨"
      ]
    },
    {
      "cell_type": "code",
      "metadata": {
        "id": "JyTkYEAWoTxn",
        "colab_type": "code",
        "outputId": "99140f25-8966-459c-fe13-e38c68b0cd8f",
        "colab": {
          "base_uri": "https://localhost:8080/",
          "height": 87
        }
      },
      "source": [
        "a = np.array([[1,2,3],[1,2,3]])\n",
        "b=a\n",
        "a=a*2\n",
        "print(a)\n",
        "print(b)"
      ],
      "execution_count": 0,
      "outputs": [
        {
          "output_type": "stream",
          "text": [
            "[[2 4 6]\n",
            " [2 4 6]]\n",
            "[[1 2 3]\n",
            " [1 2 3]]\n"
          ],
          "name": "stdout"
        }
      ]
    },
    {
      "cell_type": "code",
      "metadata": {
        "id": "tW7tlDbYpA9_",
        "colab_type": "code",
        "outputId": "2fd976e6-98c4-4785-f3b4-f849e4d18406",
        "colab": {
          "base_uri": "https://localhost:8080/",
          "height": 87
        }
      },
      "source": [
        "#실습\n",
        "\n",
        "a=(1,2,3)\n",
        "b=(-1,1,3)\n",
        "\n",
        "#numpy 미사용\n",
        "for i in range(len(a)):\n",
        "  print(a[i]+b[i])\n",
        "\n",
        "#numpy 사용\n",
        "a= np.array([1,2,3])\n",
        "b= np.array([-1,1,3])\n",
        "a+b"
      ],
      "execution_count": 0,
      "outputs": [
        {
          "output_type": "stream",
          "text": [
            "0\n",
            "3\n",
            "6\n"
          ],
          "name": "stdout"
        },
        {
          "output_type": "execute_result",
          "data": {
            "text/plain": [
              "array([0, 3, 6])"
            ]
          },
          "metadata": {
            "tags": []
          },
          "execution_count": 189
        }
      ]
    },
    {
      "cell_type": "markdown",
      "metadata": {
        "id": "XO2zqBzOpxIy",
        "colab_type": "text"
      },
      "source": [
        "- **\\*=, += 등의 복합 할당 연산자는 기존 객체를 수정함**\n",
        "\n",
        "- numpy array는 mutable이지만, 일반적으로 연산 수행\n",
        "혹은 메서드 실행 시 새로운 객체를 생성함"
      ]
    },
    {
      "cell_type": "code",
      "metadata": {
        "id": "t3lNGOLlp_8U",
        "colab_type": "code",
        "outputId": "4a19be9b-8fd4-4fcd-ddea-9d662a4b5f3b",
        "colab": {
          "base_uri": "https://localhost:8080/",
          "height": 87
        }
      },
      "source": [
        "a = np.array([[2,4,6],[8,10,12]])\n",
        "b=a\n",
        "a*=2\n",
        "print(a)\n",
        "print(b)"
      ],
      "execution_count": 0,
      "outputs": [
        {
          "output_type": "stream",
          "text": [
            "[[ 4  8 12]\n",
            " [16 20 24]]\n",
            "[[ 4  8 12]\n",
            " [16 20 24]]\n"
          ],
          "name": "stdout"
        }
      ]
    },
    {
      "cell_type": "markdown",
      "metadata": {
        "id": "3dxLdnKsqftA",
        "colab_type": "text"
      },
      "source": [
        "- 슬라이싱을 통해 나오는 것도 array 객체로 반환됨"
      ]
    },
    {
      "cell_type": "markdown",
      "metadata": {
        "id": "Kxq-HauYqqk4",
        "colab_type": "text"
      },
      "source": [
        "## 실습"
      ]
    },
    {
      "cell_type": "code",
      "metadata": {
        "id": "bTwqM8CmrmJA",
        "colab_type": "code",
        "outputId": "4d3e5843-99c2-477f-b7bc-95b7a802bcf9",
        "colab": {
          "base_uri": "https://localhost:8080/",
          "height": 87
        }
      },
      "source": [
        "A = np.array([range(11,17,1),range(17,23,1),range(23,29,1),range(29,35,1)])\n",
        "A"
      ],
      "execution_count": 0,
      "outputs": [
        {
          "output_type": "execute_result",
          "data": {
            "text/plain": [
              "array([[11, 12, 13, 14, 15, 16],\n",
              "       [17, 18, 19, 20, 21, 22],\n",
              "       [23, 24, 25, 26, 27, 28],\n",
              "       [29, 30, 31, 32, 33, 34]])"
            ]
          },
          "metadata": {
            "tags": []
          },
          "execution_count": 223
        }
      ]
    },
    {
      "cell_type": "code",
      "metadata": {
        "id": "vKYlN16Wr2XJ",
        "colab_type": "code",
        "outputId": "67812a86-cf96-4dd8-eb37-3156011eba89",
        "colab": {
          "base_uri": "https://localhost:8080/",
          "height": 210
        }
      },
      "source": [
        "print('1',A[:2,3:])\n",
        "print('2',A[::2])\n",
        "print('3',A[:,4])\n",
        "print('4',A[:,1::3])\n",
        "print('5',A[::2,1::2])"
      ],
      "execution_count": 0,
      "outputs": [
        {
          "output_type": "stream",
          "text": [
            "1 [[14 15 16]\n",
            " [20 21 22]]\n",
            "2 [[11 12 13 14 15 16]\n",
            " [23 24 25 26 27 28]]\n",
            "3 [15 21 27 33]\n",
            "4 [[12 15]\n",
            " [18 21]\n",
            " [24 27]\n",
            " [30 33]]\n",
            "5 [[12 14 16]\n",
            " [24 26 28]]\n"
          ],
          "name": "stdout"
        }
      ]
    },
    {
      "cell_type": "markdown",
      "metadata": {
        "id": "6GmP1MnwtQ3R",
        "colab_type": "text"
      },
      "source": [
        "## copy\n",
        "- Slicing을 적용해 얻어진 새로운 array 객체는 기존 array\n",
        "객체와 data를 공유함"
      ]
    },
    {
      "cell_type": "code",
      "metadata": {
        "id": "KnM-Sk-GtauK",
        "colab_type": "code",
        "outputId": "0bd525ee-ed36-4952-82fb-88ff7e1d4dff",
        "colab": {
          "base_uri": "https://localhost:8080/",
          "height": 263
        }
      },
      "source": [
        "print(A)\n",
        "B =A[::2]\n",
        "print()\n",
        "print(B)\n",
        "B[0]= -100\n",
        "print(A)\n",
        "print()\n",
        "print(B)"
      ],
      "execution_count": 0,
      "outputs": [
        {
          "output_type": "stream",
          "text": [
            "[[11 12 13 14 15 16]\n",
            " [17 18 19 20 21 22]\n",
            " [23 24 25 26 27 28]\n",
            " [29 30 31 32 33 34]]\n",
            "\n",
            "[[11 12 13 14 15 16]\n",
            " [23 24 25 26 27 28]]\n",
            "[[-100 -100 -100 -100 -100 -100]\n",
            " [  17   18   19   20   21   22]\n",
            " [  23   24   25   26   27   28]\n",
            " [  29   30   31   32   33   34]]\n",
            "\n",
            "[[-100 -100 -100 -100 -100 -100]\n",
            " [  23   24   25   26   27   28]]\n"
          ],
          "name": "stdout"
        }
      ]
    },
    {
      "cell_type": "markdown",
      "metadata": {
        "id": "0Yhxsnqot3h9",
        "colab_type": "text"
      },
      "source": [
        "- 하지만 Deep copy를 하게 되면 원래의 것에는 변화가 생기지 않음\n",
        " - c =a.copy()"
      ]
    },
    {
      "cell_type": "markdown",
      "metadata": {
        "id": "k8Z4UrYzuEHg",
        "colab_type": "text"
      },
      "source": [
        "## boolean indexing\n",
        " - numpy 배열도 불리언 인덱싱이 된다는 점 알아두자\n",
        " - C ==0 or C> 3 X \n",
        " - np.logical_or(C== 0 or C==3)"
      ]
    },
    {
      "cell_type": "markdown",
      "metadata": {
        "id": "IFfVticAuPxt",
        "colab_type": "text"
      },
      "source": [
        "## shampe manipulation\n",
        "- reshape()\n",
        " - 최대 한축에 -1을 넣으면 임의의 shape로 reshape 가능\n",
        "-transpose() = np.T\n",
        " - 전치행렬 만들기"
      ]
    },
    {
      "cell_type": "markdown",
      "metadata": {
        "id": "F9H9FOsXwbnZ",
        "colab_type": "text"
      },
      "source": [
        "- concatenate\n",
        " - 합치려는 두 행렬의 차원이 같아야함"
      ]
    },
    {
      "cell_type": "code",
      "metadata": {
        "id": "l0ver_4Gwt7J",
        "colab_type": "code",
        "outputId": "438176bb-748b-42eb-bbca-33e4e69f9d21",
        "colab": {
          "base_uri": "https://localhost:8080/",
          "height": 122
        }
      },
      "source": [
        "a = np.array([[1,1,1],[1,1,1]])\n",
        "b = np.zeros_like(a)\n",
        "print(np.concatenate((a,b),axis=1))\n",
        "print(np.concatenate((a,b),axis=0))"
      ],
      "execution_count": 0,
      "outputs": [
        {
          "output_type": "stream",
          "text": [
            "[[1 1 1 0 0 0]\n",
            " [1 1 1 0 0 0]]\n",
            "[[1 1 1]\n",
            " [1 1 1]\n",
            " [0 0 0]\n",
            " [0 0 0]]\n"
          ],
          "name": "stdout"
        }
      ]
    },
    {
      "cell_type": "code",
      "metadata": {
        "id": "1MmYSAKdxPg4",
        "colab_type": "code",
        "outputId": "6996f68f-0699-413e-ce94-1fe92f587f33",
        "colab": {
          "base_uri": "https://localhost:8080/",
          "height": 140
        }
      },
      "source": [
        "d = np.arange(12).reshape(3,4)\n",
        "e = np.arange(16).reshape(4,4)\n",
        "np.concatenate((d,e),axis=0)"
      ],
      "execution_count": 0,
      "outputs": [
        {
          "output_type": "execute_result",
          "data": {
            "text/plain": [
              "array([[ 0,  1,  2,  3],\n",
              "       [ 4,  5,  6,  7],\n",
              "       [ 8,  9, 10, 11],\n",
              "       [ 0,  1,  2,  3],\n",
              "       [ 4,  5,  6,  7],\n",
              "       [ 8,  9, 10, 11],\n",
              "       [12, 13, 14, 15]])"
            ]
          },
          "metadata": {
            "tags": []
          },
          "execution_count": 235
        }
      ]
    }
  ]
}
