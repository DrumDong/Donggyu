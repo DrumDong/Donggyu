{
  "nbformat": 4,
  "nbformat_minor": 0,
  "metadata": {
    "colab": {
      "name": "Numpy_11/28.ipynb",
      "provenance": [],
      "include_colab_link": true
    },
    "kernelspec": {
      "name": "python3",
      "display_name": "Python 3"
    }
  },
  "cells": [
    {
      "cell_type": "markdown",
      "metadata": {
        "id": "view-in-github",
        "colab_type": "text"
      },
      "source": [
        "<a href=\"https://colab.research.google.com/github/DrumDong/Donggyu/blob/master/%ED%8C%8C%EC%9D%B4%EC%8D%AC%20%ED%94%84%EB%A1%9C%EA%B7%B8%EB%9E%98%EB%B0%8D/Numpy_11_28.ipynb\" target=\"_parent\"><img src=\"https://colab.research.google.com/assets/colab-badge.svg\" alt=\"Open In Colab\"/></a>"
      ]
    },
    {
      "cell_type": "markdown",
      "metadata": {
        "id": "vq4GqtAPpVfE",
        "colab_type": "text"
      },
      "source": [
        "# Numpy\n",
        "- 자료를 처리할땐 List보다 Array가 더 빠름. 왜냐하면 자료 크기가 정해져 있기 때문이다.\n",
        "- 리스트는 원소를 모든 타입의 데이터를 넣을 수 있지만, Array는 그게 안됨(dtype=) 설정했을 때 그런 현상 발생 "
      ]
    },
    {
      "cell_type": "code",
      "metadata": {
        "id": "9kNaxd-wt0oB",
        "colab_type": "code",
        "colab": {}
      },
      "source": [
        "import numpy as np"
      ],
      "execution_count": 0,
      "outputs": []
    },
    {
      "cell_type": "code",
      "metadata": {
        "id": "OfT9K-FvuTW5",
        "colab_type": "code",
        "colab": {
          "base_uri": "https://localhost:8080/",
          "height": 52
        },
        "outputId": "cdc1a292-81f3-4189-86c4-9fb71a0d68da"
      },
      "source": [
        "temp_list =[1,2,3]\n",
        "np_arr =np.array(temp_list)\n",
        "print(temp_list)\n",
        "print(np_arr) #콤가가 없음을 알아두자"
      ],
      "execution_count": 5,
      "outputs": [
        {
          "output_type": "stream",
          "text": [
            "[1, 2, 3]\n",
            "[1 2 3]\n"
          ],
          "name": "stdout"
        }
      ]
    },
    {
      "cell_type": "code",
      "metadata": {
        "id": "mcHYf423uaHV",
        "colab_type": "code",
        "colab": {
          "base_uri": "https://localhost:8080/",
          "height": 70
        },
        "outputId": "c3929c98-5b36-4a07-c162-0a1e00758b91"
      },
      "source": [
        "np.empty((3,3),dtype='float32') #랜덤 숫자가 나오게해줌"
      ],
      "execution_count": 24,
      "outputs": [
        {
          "output_type": "execute_result",
          "data": {
            "text/plain": [
              "array([[1.9622734e-37, 0.0000000e+00, 0.0000000e+00],\n",
              "       [0.0000000e+00, 0.0000000e+00, 0.0000000e+00],\n",
              "       [0.0000000e+00, 0.0000000e+00, 0.0000000e+00]], dtype=float32)"
            ]
          },
          "metadata": {
            "tags": []
          },
          "execution_count": 24
        }
      ]
    },
    {
      "cell_type": "code",
      "metadata": {
        "id": "3pkFVrkD7pxv",
        "colab_type": "code",
        "colab": {
          "base_uri": "https://localhost:8080/",
          "height": 35
        },
        "outputId": "e4d8fc47-f0eb-4166-8fe6-7fb495ad7803"
      },
      "source": [
        "abc = np.array([1,2,3])\n",
        "dd = np.zeros_like(abc)\n",
        "# abc와 형태는 같은데 제로로 꺼내줘!! ones_like, empty_like 다 있음.\n",
        "dd"
      ],
      "execution_count": 20,
      "outputs": [
        {
          "output_type": "execute_result",
          "data": {
            "text/plain": [
              "array([0, 0, 0])"
            ]
          },
          "metadata": {
            "tags": []
          },
          "execution_count": 20
        }
      ]
    },
    {
      "cell_type": "markdown",
      "metadata": {
        "id": "6N27HT819XMP",
        "colab_type": "text"
      },
      "source": [
        "## 단위행렬\n",
        "- 정사각행렬 ★"
      ]
    },
    {
      "cell_type": "code",
      "metadata": {
        "id": "qjT7JgXb9aur",
        "colab_type": "code",
        "colab": {
          "base_uri": "https://localhost:8080/",
          "height": 70
        },
        "outputId": "782391ab-a3e8-4b4f-9b67-12c5b5439276"
      },
      "source": [
        "np.identity(3)"
      ],
      "execution_count": 26,
      "outputs": [
        {
          "output_type": "execute_result",
          "data": {
            "text/plain": [
              "array([[1., 0., 0.],\n",
              "       [0., 1., 0.],\n",
              "       [0., 0., 1.]])"
            ]
          },
          "metadata": {
            "tags": []
          },
          "execution_count": 26
        }
      ]
    },
    {
      "cell_type": "code",
      "metadata": {
        "id": "PqQc8xWn-etz",
        "colab_type": "code",
        "colab": {
          "base_uri": "https://localhost:8080/",
          "height": 70
        },
        "outputId": "4cf58e24-d321-4a2a-f41a-1a49eaa79fee"
      },
      "source": [
        "np.eye(3,4,2) # np.eye는 정사각행렬이 아닌데 단위행렬처럼 보이게 하는 것을 만들어줌"
      ],
      "execution_count": 31,
      "outputs": [
        {
          "output_type": "execute_result",
          "data": {
            "text/plain": [
              "array([[0., 0., 1., 0.],\n",
              "       [0., 0., 0., 1.],\n",
              "       [0., 0., 0., 0.]])"
            ]
          },
          "metadata": {
            "tags": []
          },
          "execution_count": 31
        }
      ]
    },
    {
      "cell_type": "markdown",
      "metadata": {
        "id": "sHPOxIAuAMjF",
        "colab_type": "text"
      },
      "source": [
        "# np.aragne()"
      ]
    },
    {
      "cell_type": "code",
      "metadata": {
        "id": "qCqvA0PWAZ5G",
        "colab_type": "code",
        "colab": {}
      },
      "source": [
        "print()"
      ],
      "execution_count": 0,
      "outputs": []
    },
    {
      "cell_type": "code",
      "metadata": {
        "id": "CBnlPCI7AN_J",
        "colab_type": "code",
        "colab": {
          "base_uri": "https://localhost:8080/",
          "height": 35
        },
        "outputId": "a8de387a-5525-4cd0-9749-2abbc61d848a"
      },
      "source": [
        "print(np.arange(0.7,10.5,2.1)) # error없이 알아서 출력 잘해줌"
      ],
      "execution_count": 33,
      "outputs": [
        {
          "output_type": "stream",
          "text": [
            "[0.7 2.8 4.9 7.  9.1]\n"
          ],
          "name": "stdout"
        }
      ]
    },
    {
      "cell_type": "code",
      "metadata": {
        "id": "DWlZY7eOAdkj",
        "colab_type": "code",
        "colab": {
          "base_uri": "https://localhost:8080/",
          "height": 52
        },
        "outputId": "bdfb4e3e-8d5d-4228-baf0-ef9a912e65a3"
      },
      "source": [
        "print(np.linspace(0,1,10)) # 0과 1포함하고 10개로 쪼개줌."
      ],
      "execution_count": 35,
      "outputs": [
        {
          "output_type": "stream",
          "text": [
            "[0.         0.11111111 0.22222222 0.33333333 0.44444444 0.55555556\n",
            " 0.66666667 0.77777778 0.88888889 1.        ]\n"
          ],
          "name": "stdout"
        }
      ]
    },
    {
      "cell_type": "markdown",
      "metadata": {
        "id": "bSePYu6TA8vV",
        "colab_type": "text"
      },
      "source": [
        "실습\n"
      ]
    },
    {
      "cell_type": "code",
      "metadata": {
        "id": "GPnlZlL9A9kw",
        "colab_type": "code",
        "colab": {
          "base_uri": "https://localhost:8080/",
          "height": 35
        },
        "outputId": "1d32709b-c7c6-473d-9646-47246fdb46e8"
      },
      "source": [
        "#1.\n",
        "kk = np.array([-1,10,3,5,1,7])\n",
        "print(kk.ndim,kk.shape,kk.size)"
      ],
      "execution_count": 40,
      "outputs": [
        {
          "output_type": "stream",
          "text": [
            "1 (6,) 6\n"
          ],
          "name": "stdout"
        }
      ]
    },
    {
      "cell_type": "code",
      "metadata": {
        "id": "IjO7DgDpBmky",
        "colab_type": "code",
        "colab": {
          "base_uri": "https://localhost:8080/",
          "height": 35
        },
        "outputId": "9c4adf71-cf00-42ca-8d2c-f33ff7de74d2"
      },
      "source": [
        "#2.\n",
        "kk = np.array([[4,2],[3,1]])\n",
        "print(kk.ndim,kk.shape,kk.size)"
      ],
      "execution_count": 41,
      "outputs": [
        {
          "output_type": "stream",
          "text": [
            "2 (2, 2) 4\n"
          ],
          "name": "stdout"
        }
      ]
    },
    {
      "cell_type": "code",
      "metadata": {
        "id": "aJ-13W6cCAnE",
        "colab_type": "code",
        "colab": {
          "base_uri": "https://localhost:8080/",
          "height": 313
        },
        "outputId": "ad988c24-2537-4fd0-c9c9-fb18b99dfd63"
      },
      "source": [
        "#3.\n",
        "num3 =np.linspace(0,10,100)\n",
        "print(num3)"
      ],
      "execution_count": 43,
      "outputs": [
        {
          "output_type": "stream",
          "text": [
            "[ 0.          0.1010101   0.2020202   0.3030303   0.4040404   0.50505051\n",
            "  0.60606061  0.70707071  0.80808081  0.90909091  1.01010101  1.11111111\n",
            "  1.21212121  1.31313131  1.41414141  1.51515152  1.61616162  1.71717172\n",
            "  1.81818182  1.91919192  2.02020202  2.12121212  2.22222222  2.32323232\n",
            "  2.42424242  2.52525253  2.62626263  2.72727273  2.82828283  2.92929293\n",
            "  3.03030303  3.13131313  3.23232323  3.33333333  3.43434343  3.53535354\n",
            "  3.63636364  3.73737374  3.83838384  3.93939394  4.04040404  4.14141414\n",
            "  4.24242424  4.34343434  4.44444444  4.54545455  4.64646465  4.74747475\n",
            "  4.84848485  4.94949495  5.05050505  5.15151515  5.25252525  5.35353535\n",
            "  5.45454545  5.55555556  5.65656566  5.75757576  5.85858586  5.95959596\n",
            "  6.06060606  6.16161616  6.26262626  6.36363636  6.46464646  6.56565657\n",
            "  6.66666667  6.76767677  6.86868687  6.96969697  7.07070707  7.17171717\n",
            "  7.27272727  7.37373737  7.47474747  7.57575758  7.67676768  7.77777778\n",
            "  7.87878788  7.97979798  8.08080808  8.18181818  8.28282828  8.38383838\n",
            "  8.48484848  8.58585859  8.68686869  8.78787879  8.88888889  8.98989899\n",
            "  9.09090909  9.19191919  9.29292929  9.39393939  9.49494949  9.5959596\n",
            "  9.6969697   9.7979798   9.8989899  10.        ]\n"
          ],
          "name": "stdout"
        }
      ]
    },
    {
      "cell_type": "code",
      "metadata": {
        "id": "6D5skzemCIqI",
        "colab_type": "code",
        "colab": {
          "base_uri": "https://localhost:8080/",
          "height": 104
        },
        "outputId": "06f9e444-269e-4fba-f9d1-a2b9b1c38d1d"
      },
      "source": [
        "#4.\n",
        "print(np.zeros_like(num3))"
      ],
      "execution_count": 45,
      "outputs": [
        {
          "output_type": "stream",
          "text": [
            "[0. 0. 0. 0. 0. 0. 0. 0. 0. 0. 0. 0. 0. 0. 0. 0. 0. 0. 0. 0. 0. 0. 0. 0.\n",
            " 0. 0. 0. 0. 0. 0. 0. 0. 0. 0. 0. 0. 0. 0. 0. 0. 0. 0. 0. 0. 0. 0. 0. 0.\n",
            " 0. 0. 0. 0. 0. 0. 0. 0. 0. 0. 0. 0. 0. 0. 0. 0. 0. 0. 0. 0. 0. 0. 0. 0.\n",
            " 0. 0. 0. 0. 0. 0. 0. 0. 0. 0. 0. 0. 0. 0. 0. 0. 0. 0. 0. 0. 0. 0. 0. 0.\n",
            " 0. 0. 0. 0.]\n"
          ],
          "name": "stdout"
        }
      ]
    },
    {
      "cell_type": "markdown",
      "metadata": {
        "id": "QYTq_gpTGmz_",
        "colab_type": "text"
      },
      "source": [
        "# 벡터 연산"
      ]
    },
    {
      "cell_type": "code",
      "metadata": {
        "id": "oSNn1hE-GqLK",
        "colab_type": "code",
        "colab": {
          "base_uri": "https://localhost:8080/",
          "height": 35
        },
        "outputId": "28067323-b53e-4520-a6bd-253e90df8bd2"
      },
      "source": [
        "num1 =[1,2,3]\n",
        "num2= [1,2,3]\n",
        "num1+num2 # 벡터간의 계산이 안됨"
      ],
      "execution_count": 46,
      "outputs": [
        {
          "output_type": "execute_result",
          "data": {
            "text/plain": [
              "[1, 2, 3, 1, 2, 3]"
            ]
          },
          "metadata": {
            "tags": []
          },
          "execution_count": 46
        }
      ]
    },
    {
      "cell_type": "code",
      "metadata": {
        "id": "d8vMG5u6GxZm",
        "colab_type": "code",
        "colab": {
          "base_uri": "https://localhost:8080/",
          "height": 35
        },
        "outputId": "efe34322-4c5f-408c-ffac-20b45f2b3313"
      },
      "source": [
        "num1 =np.array([1,2,3])\n",
        "num2= np.array([1,2,3])\n",
        "num1+ num2"
      ],
      "execution_count": 47,
      "outputs": [
        {
          "output_type": "execute_result",
          "data": {
            "text/plain": [
              "array([2, 4, 6])"
            ]
          },
          "metadata": {
            "tags": []
          },
          "execution_count": 47
        }
      ]
    },
    {
      "cell_type": "markdown",
      "metadata": {
        "id": "1lqUINxlIS_V",
        "colab_type": "text"
      },
      "source": [
        "np array를 이용한 연산을 수행하면 새로운 객체가 생성됨."
      ]
    },
    {
      "cell_type": "code",
      "metadata": {
        "id": "BVuFT7n7IYBw",
        "colab_type": "code",
        "colab": {
          "base_uri": "https://localhost:8080/",
          "height": 35
        },
        "outputId": "cf4b80ed-fbca-4991-ecd0-a5142b33a66b"
      },
      "source": [
        "# 실습1 \n",
        "a  = [1,2,3]\n",
        "b = [-1,1,3]\n",
        "\n",
        "k=[]\n",
        "for i in range(len(a)):\n",
        "  k.append(a[i]+b[i])\n",
        "\n",
        "print(k)"
      ],
      "execution_count": 51,
      "outputs": [
        {
          "output_type": "stream",
          "text": [
            "[0, 3, 6]\n"
          ],
          "name": "stdout"
        }
      ]
    },
    {
      "cell_type": "code",
      "metadata": {
        "id": "xnDdfQBSJEcp",
        "colab_type": "code",
        "colab": {
          "base_uri": "https://localhost:8080/",
          "height": 52
        },
        "outputId": "fb2138fe-e200-477e-f8d5-7400a3722b9c"
      },
      "source": [
        "# 실습2\n",
        "a = np.array([1,2,3])\n",
        "b = np.array([-1,1,3])\n",
        "print(a+b)\n",
        "print(a-b)"
      ],
      "execution_count": 50,
      "outputs": [
        {
          "output_type": "stream",
          "text": [
            "[0 3 6]\n",
            "[2 1 0]\n"
          ],
          "name": "stdout"
        }
      ]
    }
  ]
}