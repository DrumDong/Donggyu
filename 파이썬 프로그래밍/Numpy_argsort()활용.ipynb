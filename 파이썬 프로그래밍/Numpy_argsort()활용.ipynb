{
  "nbformat": 4,
  "nbformat_minor": 0,
  "metadata": {
    "colab": {
      "name": "Numpy_argsort()활용.ipynb",
      "provenance": [],
      "include_colab_link": true
    },
    "kernelspec": {
      "name": "python3",
      "display_name": "Python 3"
    }
  },
  "cells": [
    {
      "cell_type": "markdown",
      "metadata": {
        "id": "view-in-github",
        "colab_type": "text"
      },
      "source": [
        "<a href=\"https://colab.research.google.com/github/DrumDong/Donggyu/blob/master/%ED%8C%8C%EC%9D%B4%EC%8D%AC%20%ED%94%84%EB%A1%9C%EA%B7%B8%EB%9E%98%EB%B0%8D/Numpy_argsort()%ED%99%9C%EC%9A%A9.ipynb\" target=\"_parent\"><img src=\"https://colab.research.google.com/assets/colab-badge.svg\" alt=\"Open In Colab\"/></a>"
      ]
    },
    {
      "cell_type": "markdown",
      "metadata": {
        "id": "pdTqYhwnNB-z",
        "colab_type": "text"
      },
      "source": [
        "시험성적순으로 이름을 받고 싶으면?\n",
        "- 데이터가 넘파이 배열로 들어가 있으면 가져올 방법이 없는데 어떡하지..?\n",
        "- np.argsort 활용"
      ]
    },
    {
      "cell_type": "code",
      "metadata": {
        "id": "DlYmbYVzNsp3",
        "colab_type": "code",
        "colab": {}
      },
      "source": [
        "import numpy as np"
      ],
      "execution_count": 0,
      "outputs": []
    },
    {
      "cell_type": "code",
      "metadata": {
        "id": "t13JlAR1NSpy",
        "colab_type": "code",
        "colab": {}
      },
      "source": [
        "name =np.array([\"동규\",'재은','준영','정석','효진','철기'])\n",
        "score=np.array([39,42,91,10,29,91])"
      ],
      "execution_count": 0,
      "outputs": []
    },
    {
      "cell_type": "code",
      "metadata": {
        "id": "Wk9Ccn2GNjO_",
        "colab_type": "code",
        "colab": {
          "base_uri": "https://localhost:8080/",
          "height": 35
        },
        "outputId": "9c7b5239-b3c0-41f5-b8fb-66dc85fcaa77"
      },
      "source": [
        "sorted_score=np.argsort(score)\n",
        "sorted_score"
      ],
      "execution_count": 14,
      "outputs": [
        {
          "output_type": "execute_result",
          "data": {
            "text/plain": [
              "array([3, 4, 0, 1, 2, 5])"
            ]
          },
          "metadata": {
            "tags": []
          },
          "execution_count": 14
        }
      ]
    },
    {
      "cell_type": "code",
      "metadata": {
        "id": "4AiiWasSN0sR",
        "colab_type": "code",
        "colab": {
          "base_uri": "https://localhost:8080/",
          "height": 35
        },
        "outputId": "4bca31b2-7d4d-4590-8c8a-f49b81e35b3e"
      },
      "source": [
        "name[sorted_score]"
      ],
      "execution_count": 13,
      "outputs": [
        {
          "output_type": "execute_result",
          "data": {
            "text/plain": [
              "array(['정석', '효진', '동규', '재은', '준영', '철기'], dtype='<U2')"
            ]
          },
          "metadata": {
            "tags": []
          },
          "execution_count": 13
        }
      ]
    }
  ]
}